{
 "cells": [
  {
   "cell_type": "code",
   "execution_count": 1,
   "metadata": {},
   "outputs": [],
   "source": [
    "import pandas as pd\n",
    "import ast\n",
    "import numpy as np"
   ]
  },
  {
   "cell_type": "code",
   "execution_count": 3,
   "metadata": {},
   "outputs": [
    {
     "name": "stderr",
     "output_type": "stream",
     "text": [
      "<ipython-input-3-683f15e8cb82>:4: DtypeWarning: Columns (5,6,11) have mixed types. Specify dtype option on import or set low_memory=False.\n",
      "  df = pd.read_csv(IN_FILE, names=cols)\n"
     ]
    }
   ],
   "source": [
    "IN_FILE = \"/shared/4/projects/podcasts/mp3Links/20mLinks.csv\"\n",
    "cols = [\"url\", \"epTitle\", \"epDescription\", \"duration\", \"pubDate\", \"copyright\", \"type\",\\\n",
    "       \"complete\", \"guid\", \"explicit\", \"mp3Url\", \"image\", \"transDict\"]\n",
    "df = pd.read_csv(IN_FILE, names=cols)"
   ]
  },
  {
   "cell_type": "code",
   "execution_count": 4,
   "metadata": {},
   "outputs": [
    {
     "data": {
      "text/plain": [
       "(21505973, 13)"
      ]
     },
     "execution_count": 4,
     "metadata": {},
     "output_type": "execute_result"
    }
   ],
   "source": [
    "df.shape"
   ]
  },
  {
   "cell_type": "code",
   "execution_count": 5,
   "metadata": {},
   "outputs": [
    {
     "data": {
      "text/html": [
       "<div>\n",
       "<style scoped>\n",
       "    .dataframe tbody tr th:only-of-type {\n",
       "        vertical-align: middle;\n",
       "    }\n",
       "\n",
       "    .dataframe tbody tr th {\n",
       "        vertical-align: top;\n",
       "    }\n",
       "\n",
       "    .dataframe thead th {\n",
       "        text-align: right;\n",
       "    }\n",
       "</style>\n",
       "<table border=\"1\" class=\"dataframe\">\n",
       "  <thead>\n",
       "    <tr style=\"text-align: right;\">\n",
       "      <th></th>\n",
       "      <th>url</th>\n",
       "      <th>epTitle</th>\n",
       "      <th>epDescription</th>\n",
       "      <th>duration</th>\n",
       "      <th>pubDate</th>\n",
       "      <th>copyright</th>\n",
       "      <th>type</th>\n",
       "      <th>complete</th>\n",
       "      <th>guid</th>\n",
       "      <th>explicit</th>\n",
       "      <th>mp3Url</th>\n",
       "      <th>image</th>\n",
       "      <th>transDict</th>\n",
       "    </tr>\n",
       "  </thead>\n",
       "  <tbody>\n",
       "    <tr>\n",
       "      <th>0</th>\n",
       "      <td>https://feeds.buzzsprout.com/985186.rss</td>\n",
       "      <td>Episode 30 - An Exciting Journey through a Liv...</td>\n",
       "      <td>&lt;p&gt;I&amp;apos;m always learning. This episode is a...</td>\n",
       "      <td>3151</td>\n",
       "      <td>Sat, 01 Apr 2023 22:00:00 +1100</td>\n",
       "      <td>NaN</td>\n",
       "      <td>NaN</td>\n",
       "      <td>NaN</td>\n",
       "      <td>Buzzsprout-12560691</td>\n",
       "      <td>false</td>\n",
       "      <td>https://www.buzzsprout.com/985186/12560691-epi...</td>\n",
       "      <td>NaN</td>\n",
       "      <td>{}</td>\n",
       "    </tr>\n",
       "    <tr>\n",
       "      <th>1</th>\n",
       "      <td>https://feeds.buzzsprout.com/985186.rss</td>\n",
       "      <td>Unmasking the Abuser Episode 29 - Crucial Info...</td>\n",
       "      <td>&lt;p&gt;In the last Episode we looked at the effort...</td>\n",
       "      <td>2402</td>\n",
       "      <td>Sat, 07 Jan 2023 20:00:00 +1100</td>\n",
       "      <td>NaN</td>\n",
       "      <td>NaN</td>\n",
       "      <td>NaN</td>\n",
       "      <td>Buzzsprout-11996915</td>\n",
       "      <td>false</td>\n",
       "      <td>https://www.buzzsprout.com/985186/11996915-unm...</td>\n",
       "      <td>NaN</td>\n",
       "      <td>{}</td>\n",
       "    </tr>\n",
       "    <tr>\n",
       "      <th>2</th>\n",
       "      <td>https://feeds.buzzsprout.com/985186.rss</td>\n",
       "      <td>Episode 28 - About Abusers Examining Change PA...</td>\n",
       "      <td>&lt;p&gt;This is an exciting episode, and not only b...</td>\n",
       "      <td>2306</td>\n",
       "      <td>Sat, 12 Nov 2022 11:00:00 +1100</td>\n",
       "      <td>NaN</td>\n",
       "      <td>NaN</td>\n",
       "      <td>NaN</td>\n",
       "      <td>Buzzsprout-11678693</td>\n",
       "      <td>false</td>\n",
       "      <td>https://www.buzzsprout.com/985186/11678693-epi...</td>\n",
       "      <td>NaN</td>\n",
       "      <td>{}</td>\n",
       "    </tr>\n",
       "    <tr>\n",
       "      <th>3</th>\n",
       "      <td>https://feeds.buzzsprout.com/985186.rss</td>\n",
       "      <td>Unmasking the Abuser Episode 27: Crucial Begin...</td>\n",
       "      <td>&lt;p&gt;This is a must-listen Episode. I discuss wh...</td>\n",
       "      <td>2122</td>\n",
       "      <td>Sat, 02 Apr 2022 18:00:00 +1100</td>\n",
       "      <td>NaN</td>\n",
       "      <td>NaN</td>\n",
       "      <td>NaN</td>\n",
       "      <td>Buzzsprout-10364360</td>\n",
       "      <td>false</td>\n",
       "      <td>https://www.buzzsprout.com/985186/10364360-unm...</td>\n",
       "      <td>NaN</td>\n",
       "      <td>{}</td>\n",
       "    </tr>\n",
       "    <tr>\n",
       "      <th>4</th>\n",
       "      <td>https://feeds.buzzsprout.com/985186.rss</td>\n",
       "      <td>Unmasking the Abuser Episode 26 Special Holida...</td>\n",
       "      <td>&lt;p&gt;The holidays are here! Well, if you count f...</td>\n",
       "      <td>1434</td>\n",
       "      <td>Mon, 22 Nov 2021 20:00:00 +1100</td>\n",
       "      <td>NaN</td>\n",
       "      <td>NaN</td>\n",
       "      <td>NaN</td>\n",
       "      <td>Buzzsprout-9591063</td>\n",
       "      <td>false</td>\n",
       "      <td>https://www.buzzsprout.com/985186/9591063-unma...</td>\n",
       "      <td>NaN</td>\n",
       "      <td>{}</td>\n",
       "    </tr>\n",
       "  </tbody>\n",
       "</table>\n",
       "</div>"
      ],
      "text/plain": [
       "                                       url  \\\n",
       "0  https://feeds.buzzsprout.com/985186.rss   \n",
       "1  https://feeds.buzzsprout.com/985186.rss   \n",
       "2  https://feeds.buzzsprout.com/985186.rss   \n",
       "3  https://feeds.buzzsprout.com/985186.rss   \n",
       "4  https://feeds.buzzsprout.com/985186.rss   \n",
       "\n",
       "                                             epTitle  \\\n",
       "0  Episode 30 - An Exciting Journey through a Liv...   \n",
       "1  Unmasking the Abuser Episode 29 - Crucial Info...   \n",
       "2  Episode 28 - About Abusers Examining Change PA...   \n",
       "3  Unmasking the Abuser Episode 27: Crucial Begin...   \n",
       "4  Unmasking the Abuser Episode 26 Special Holida...   \n",
       "\n",
       "                                       epDescription duration  \\\n",
       "0  <p>I&apos;m always learning. This episode is a...     3151   \n",
       "1  <p>In the last Episode we looked at the effort...     2402   \n",
       "2  <p>This is an exciting episode, and not only b...     2306   \n",
       "3  <p>This is a must-listen Episode. I discuss wh...     2122   \n",
       "4  <p>The holidays are here! Well, if you count f...     1434   \n",
       "\n",
       "                           pubDate copyright type  complete  \\\n",
       "0  Sat, 01 Apr 2023 22:00:00 +1100       NaN  NaN       NaN   \n",
       "1  Sat, 07 Jan 2023 20:00:00 +1100       NaN  NaN       NaN   \n",
       "2  Sat, 12 Nov 2022 11:00:00 +1100       NaN  NaN       NaN   \n",
       "3  Sat, 02 Apr 2022 18:00:00 +1100       NaN  NaN       NaN   \n",
       "4  Mon, 22 Nov 2021 20:00:00 +1100       NaN  NaN       NaN   \n",
       "\n",
       "                  guid explicit  \\\n",
       "0  Buzzsprout-12560691    false   \n",
       "1  Buzzsprout-11996915    false   \n",
       "2  Buzzsprout-11678693    false   \n",
       "3  Buzzsprout-10364360    false   \n",
       "4   Buzzsprout-9591063    false   \n",
       "\n",
       "                                              mp3Url image transDict  \n",
       "0  https://www.buzzsprout.com/985186/12560691-epi...   NaN        {}  \n",
       "1  https://www.buzzsprout.com/985186/11996915-unm...   NaN        {}  \n",
       "2  https://www.buzzsprout.com/985186/11678693-epi...   NaN        {}  \n",
       "3  https://www.buzzsprout.com/985186/10364360-unm...   NaN        {}  \n",
       "4  https://www.buzzsprout.com/985186/9591063-unma...   NaN        {}  "
      ]
     },
     "execution_count": 5,
     "metadata": {},
     "output_type": "execute_result"
    }
   ],
   "source": [
    "df.head()"
   ]
  },
  {
   "cell_type": "code",
   "execution_count": 6,
   "metadata": {},
   "outputs": [],
   "source": [
    "transDf = df[df[\"transDict\"] != \"{}\"].dropna(subset=\"transDict\")"
   ]
  },
  {
   "cell_type": "code",
   "execution_count": 7,
   "metadata": {},
   "outputs": [
    {
     "data": {
      "text/plain": [
       "(437249, 13)"
      ]
     },
     "execution_count": 7,
     "metadata": {},
     "output_type": "execute_result"
    }
   ],
   "source": [
    "transDf.shape"
   ]
  },
  {
   "cell_type": "code",
   "execution_count": 8,
   "metadata": {},
   "outputs": [],
   "source": [
    "def lEval(inDict): \n",
    "    try: \n",
    "        return ast.literal_eval(inDict)\n",
    "    except: \n",
    "        return np.nan"
   ]
  },
  {
   "cell_type": "code",
   "execution_count": 9,
   "metadata": {},
   "outputs": [],
   "source": [
    "transDf[\"transDictLit\"] = transDf[\"transDict\"].apply(lEval)"
   ]
  },
  {
   "cell_type": "code",
   "execution_count": 10,
   "metadata": {},
   "outputs": [],
   "source": [
    "transArr = []\n",
    "for i, row in transDf.iterrows(): \n",
    "    rowInfo = list(row)[:-2] \n",
    "    for transUrl, infoTup in row[\"transDictLit\"].items(): \n",
    "        outRow = rowInfo + [infoTup[0], infoTup[1]]\n",
    "        transArr.append(outRow)"
   ]
  },
  {
   "cell_type": "code",
   "execution_count": 11,
   "metadata": {},
   "outputs": [],
   "source": [
    "transDfCols = [\"url\", \"epTitle\", \"epDescription\", \"duration\", \"pubDate\", \"copyright\", \"type\",\\\n",
    "       \"complete\", \"guid\", \"explicit\", \"mp3Url\", \"image\", \"transDict\", \\\n",
    "               \"transUrl\", \"transType\", \"tranLang\"]\n",
    "transDf = pd.DataFrame(transArr, columns=transDfCols)"
   ]
  },
  {
   "cell_type": "code",
   "execution_count": 12,
   "metadata": {},
   "outputs": [
    {
     "data": {
      "text/plain": [
       "type\n",
       "application/srt                                                            289611\n",
       "text/plain                                                                 252124\n",
       "text/vtt                                                                   234939\n",
       "text/html                                                                  147914\n",
       "application/json                                                            58313\n",
       "application/x-subrip                                                        26066\n",
       "application/xml                                                              2547\n",
       "application/pdf                                                               134\n",
       "                                                                               62\n",
       "plain/txt                                                                      38\n",
       "text/srt                                                                       24\n",
       "application/vnd.openxmlformats-officedocument.wordprocessingml.document        12\n",
       "application/rtf                                                                 4\n",
       "audio/mpeg                                                                      1\n",
       "Name: count, dtype: int64"
      ]
     },
     "execution_count": 12,
     "metadata": {},
     "output_type": "execute_result"
    }
   ],
   "source": [
    "transDf[\"type\"].value_counts()"
   ]
  },
  {
   "cell_type": "code",
   "execution_count": 13,
   "metadata": {},
   "outputs": [],
   "source": [
    "#what if we do just srt, plain text, and vtt\n",
    "transDf = transDf[transDf[\"type\"].isin([\"application/srt\", \"text/plain\", \"text/vtt\"])]"
   ]
  },
  {
   "cell_type": "code",
   "execution_count": 14,
   "metadata": {},
   "outputs": [
    {
     "data": {
      "text/plain": [
       "311192"
      ]
     },
     "execution_count": 14,
     "metadata": {},
     "output_type": "execute_result"
    }
   ],
   "source": [
    "len(transDf[\"mp3Url\"].unique())"
   ]
  },
  {
   "cell_type": "code",
   "execution_count": 15,
   "metadata": {},
   "outputs": [
    {
     "data": {
      "text/plain": [
       "5038"
      ]
     },
     "execution_count": 15,
     "metadata": {},
     "output_type": "execute_result"
    }
   ],
   "source": [
    "len(transDf[\"podUrl\"].unique()) "
   ]
  },
  {
   "cell_type": "code",
   "execution_count": 16,
   "metadata": {},
   "outputs": [
    {
     "data": {
      "text/plain": [
       "61.7689559348948"
      ]
     },
     "execution_count": 16,
     "metadata": {},
     "output_type": "execute_result"
    }
   ],
   "source": [
    "#we have about 61 episodes on average with transcripts \n",
    "311192/5038"
   ]
  },
  {
   "cell_type": "code",
   "execution_count": 20,
   "metadata": {},
   "outputs": [],
   "source": [
    "#filter to only english\n",
    "transDf = transDf[transDf[\"lang\"].str.contains(\"en\")]"
   ]
  },
  {
   "cell_type": "code",
   "execution_count": 21,
   "metadata": {},
   "outputs": [],
   "source": [
    "#now get the host, so we can download the transcripts \n",
    "transDf[\"transHost\"] = transDf[\"transUrl\"].apply(lambda x: x.split(\"/\")[2] if len(x.split(\"/\")) >= 2 else x)"
   ]
  },
  {
   "cell_type": "code",
   "execution_count": 22,
   "metadata": {},
   "outputs": [
    {
     "data": {
      "text/plain": [
       "transHost\n",
       "api.omny.fm                                    693711\n",
       "transcripts.blubrry.com                           632\n",
       "transcription.spreaker.com                        454\n",
       "weirddarkness.com                                 241\n",
       "assets.speakcdn.com                               153\n",
       "                                                ...  \n",
       "www.kaidankaistories.com                            1\n",
       "nonprofiteverything.com                             1\n",
       "myerstownwordpress680.blob.core.windows.net         1\n",
       "real-sciences.com                                   1\n",
       "talkingsoundshow.com                                1\n",
       "Name: count, Length: 104, dtype: int64"
      ]
     },
     "execution_count": 22,
     "metadata": {},
     "output_type": "execute_result"
    }
   ],
   "source": [
    "transDf[\"transHost\"].value_counts()"
   ]
  },
  {
   "cell_type": "code",
   "execution_count": 23,
   "metadata": {},
   "outputs": [],
   "source": [
    "#output file, we will split this file into many peices for the sake of parallelizing\n",
    "#sort so we have application/vrt first, and then take \n",
    "transDf[\"type\"] = pd.Categorical(transDf[\"type\"], [\"application/srt\", \"text/vtt\", \"text/plain\"])"
   ]
  },
  {
   "cell_type": "code",
   "execution_count": 24,
   "metadata": {},
   "outputs": [
    {
     "data": {
      "text/plain": [
       "(696288, 6)"
      ]
     },
     "execution_count": 24,
     "metadata": {},
     "output_type": "execute_result"
    }
   ],
   "source": [
    "transDf.shape"
   ]
  },
  {
   "cell_type": "code",
   "execution_count": 25,
   "metadata": {},
   "outputs": [],
   "source": [
    "transDf = transDf.sort_values([\"mp3Url\", \"type\"], ascending=True).drop_duplicates([\"mp3Url\", \"type\"])"
   ]
  },
  {
   "cell_type": "code",
   "execution_count": 26,
   "metadata": {},
   "outputs": [
    {
     "data": {
      "text/plain": [
       "(691784, 6)"
      ]
     },
     "execution_count": 26,
     "metadata": {},
     "output_type": "execute_result"
    }
   ],
   "source": [
    "transDf.shape"
   ]
  },
  {
   "cell_type": "code",
   "execution_count": 27,
   "metadata": {},
   "outputs": [
    {
     "data": {
      "text/plain": [
       "type\n",
       "text/plain         231957\n",
       "application/srt    229945\n",
       "text/vtt           229882\n",
       "Name: count, dtype: int64"
      ]
     },
     "execution_count": 27,
     "metadata": {},
     "output_type": "execute_result"
    }
   ],
   "source": [
    "transDf[\"type\"].value_counts()"
   ]
  },
  {
   "cell_type": "code",
   "execution_count": 28,
   "metadata": {},
   "outputs": [
    {
     "data": {
      "text/plain": [
       "type\n",
       "application/srt    229945\n",
       "text/plain           2217\n",
       "text/vtt              142\n",
       "Name: count, dtype: int64"
      ]
     },
     "execution_count": 28,
     "metadata": {},
     "output_type": "execute_result"
    }
   ],
   "source": [
    "#we see clearly that what we kep mostly srt here \n",
    "transDf = transDf.drop_duplicates([\"mp3Url\"])\n",
    "transDf[\"type\"].value_counts()"
   ]
  },
  {
   "cell_type": "code",
   "execution_count": 30,
   "metadata": {},
   "outputs": [],
   "source": [
    "# we want to group the hosts together, so that when we split the data the hosts will be in contiguous blocks \n",
    "transDf = transDf.sort_values(\"transHost\")"
   ]
  },
  {
   "cell_type": "code",
   "execution_count": 31,
   "metadata": {},
   "outputs": [],
   "source": [
    "OUT_PATH = \"/shared/4/projects/podcasts/mp3Links/transcriptLinks.csv\""
   ]
  },
  {
   "cell_type": "code",
   "execution_count": 32,
   "metadata": {},
   "outputs": [],
   "source": [
    "transDf.to_csv(OUT_PATH)"
   ]
  },
  {
   "cell_type": "code",
   "execution_count": null,
   "metadata": {},
   "outputs": [],
   "source": []
  }
 ],
 "metadata": {
  "kernelspec": {
   "display_name": "Python 3",
   "language": "python",
   "name": "python3"
  },
  "language_info": {
   "codemirror_mode": {
    "name": "ipython",
    "version": 3
   },
   "file_extension": ".py",
   "mimetype": "text/x-python",
   "name": "python",
   "nbconvert_exporter": "python",
   "pygments_lexer": "ipython3",
   "version": "3.8.5"
  }
 },
 "nbformat": 4,
 "nbformat_minor": 4
}
