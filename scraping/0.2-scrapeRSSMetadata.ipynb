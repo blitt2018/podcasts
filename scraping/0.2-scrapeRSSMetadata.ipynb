{
 "cells": [
  {
   "cell_type": "code",
   "execution_count": 42,
   "metadata": {},
   "outputs": [],
   "source": [
    "import pandas as pd\n",
    "import requests as req\n",
    "from bs4 import BeautifulSoup\n",
    "import re\n",
    "import time\n",
    "from tqdm import tqdm\n",
    "from datetime import datetime\n",
    "import os\n",
    "import sys\n",
    "import atexit "
   ]
  },
  {
   "cell_type": "code",
   "execution_count": 19,
   "metadata": {},
   "outputs": [],
   "source": [
    "# https://github.com/Podcast-Standards-Project/PSP-1-Podcast-RSS-Specification\n",
    "\n",
    "def getMP3Links(rssLink): \n",
    "    \n",
    "    try:\n",
    "        #get the xml for the rss feed   \n",
    "        response = req.get(rssLink)\n",
    "        resCode = response.status_code\n",
    "        rssText = response.text\n",
    "    \n",
    "    #if we have an exception related to our request, return an empty list\n",
    "    except req.exceptions.RequestException as e:  \n",
    "        print(\"request error\")\n",
    "        return []\n",
    "\n",
    "    try: \n",
    "        #parse the xml \n",
    "        rssSoup = BeautifulSoup(rssText, features=\"xml\")\n",
    "    except: \n",
    "        print(\"xml error\")\n",
    "        return []\n",
    "    \n",
    "    items = rssSoup.find_all(\"item\")\n",
    "    \n",
    "    forText = [\"title\", \"description\", \"itunes:duration\", \"pubDate\", \"copyright\", \"itunes:type\", \"itunes:complete\", \"guid\", \"itunes:explicit\"]\n",
    "    forUrl = [\"enclosure\",\"itunes:image\"]\n",
    "    \n",
    "    outList = []\n",
    "    for item in items: \n",
    "        currList = []\n",
    "        for tag in forText: \n",
    "            tagHit = item.find(tag)\n",
    "            if tagHit != None: \n",
    "                currList.append(tagHit.get_text())\n",
    "            else: \n",
    "                currList.append(\"\")\n",
    "                \n",
    "        for tag in forUrl:  \n",
    "            tagHit = item.find(tag)\n",
    "            if tagHit != None: \n",
    "                currList.append(tagHit.get(\"url\"))\n",
    "                if tag == \"podcast:transcript\": \n",
    "            else: \n",
    "                currList.append(\"\")\n",
    "        \n",
    "        #this might get a little whack when we have to read in the file later\n",
    "        #but our data isn't that big so should hopefully work out \n",
    "        transDict = {}\n",
    "        for transcript in item.find_all(\"podcast:transcript\"): \n",
    "            transType = transcript.get(\"type\")\n",
    "            transType = transType if transType != None else \"\"\n",
    "            \n",
    "            transLang = transcript.get(\"language\")\n",
    "            transLang = transLang if transLang != None else \"\"\n",
    "            \n",
    "            transUrl = transcript.get(\"url\")\n",
    "            \n",
    "            if transUrl != None: \n",
    "                transDict[transUrl] = [transType, transLang]\n",
    "        \n",
    "        currList.append(transDict)\n",
    "        outList.append(currList)\n",
    "    \n",
    "    return outList"
   ]
  },
  {
   "cell_type": "code",
   "execution_count": 20,
   "metadata": {},
   "outputs": [],
   "source": [
    "#load in our RSS data\n",
    "cols = [\"queryName\", \"title\", \"url\", \"originalUrl\", \"description\", \"author\", \"language\", \\\n",
    "          \"categories\", \"explicit\", \"episodeCount\"]\n",
    "\n",
    "#testing \n",
    "#IN_FILE = \"/shared/3/projects/benlitterer/podcastData/podRss/TESTRSSFeeds.csv\"\n",
    "IN_FILE = sys.argv[1]\n",
    "\n",
    "rssDf = pd.read_csv(IN_FILE, names=cols)"
   ]
  },
  {
   "cell_type": "code",
   "execution_count": null,
   "metadata": {},
   "outputs": [],
   "source": [
    "# our searches are unique \n",
    "rssDf.shape"
   ]
  },
  {
   "cell_type": "code",
   "execution_count": 23,
   "metadata": {},
   "outputs": [
    {
     "data": {
      "text/plain": [
       "199613"
      ]
     },
     "execution_count": 23,
     "metadata": {},
     "output_type": "execute_result"
    }
   ],
   "source": [
    "len(rssDf[\"queryName\"].unique())"
   ]
  },
  {
   "cell_type": "code",
   "execution_count": 28,
   "metadata": {},
   "outputs": [
    {
     "data": {
      "text/plain": [
       "196391"
      ]
     },
     "execution_count": 28,
     "metadata": {},
     "output_type": "execute_result"
    }
   ],
   "source": [
    "# and we only have about 3,000 duplicate search results  \n",
    "len(rssDf[\"title\"].unique())"
   ]
  },
  {
   "cell_type": "code",
   "execution_count": 32,
   "metadata": {},
   "outputs": [
    {
     "data": {
      "text/plain": [
       "196423"
      ]
     },
     "execution_count": 32,
     "metadata": {},
     "output_type": "execute_result"
    }
   ],
   "source": [
    "#we can use the rss url as a unique identifier \n",
    "len(rssDf[\"url\"].unique())"
   ]
  },
  {
   "cell_type": "code",
   "execution_count": 22,
   "metadata": {},
   "outputs": [
    {
     "data": {
      "text/plain": [
       "hosts\n",
       "anchor.fm                                71739\n",
       "feeds.buzzsprout.com                     21817\n",
       "www.spreaker.com                          9440\n",
       "feed.podbean.com                          6324\n",
       "feeds.megaphone.fm                        6063\n",
       "                                         ...  \n",
       "design-spricht-aesthetik.podcaster.de        1\n",
       "www.authormedia.com                          1\n",
       "eaveninyourhome.libsyn.com                   1\n",
       "HuskerCuzCast.podbean.com                    1\n",
       "forensicpsychologypodcast.libsyn.com         1\n",
       "Name: count, Length: 26832, dtype: int64"
      ]
     },
     "execution_count": 22,
     "metadata": {},
     "output_type": "execute_result"
    }
   ],
   "source": [
    "#check the redundancy of hosting sites\n",
    "rssDf[\"hosts\"] = rssDf[\"url\"].apply(lambda x: x.strip(\"https://\").split(\"/\")[0])\n",
    "rssDf[\"hosts\"].value_counts()"
   ]
  },
  {
   "cell_type": "code",
   "execution_count": 41,
   "metadata": {},
   "outputs": [
    {
     "ename": "NameError",
     "evalue": "name 'atexit' is not defined",
     "output_type": "error",
     "traceback": [
      "\u001b[0;31m---------------------------------------------------------------------------\u001b[0m",
      "\u001b[0;31mNameError\u001b[0m                                 Traceback (most recent call last)",
      "\u001b[0;32m<ipython-input-41-08798a9857c7>\u001b[0m in \u001b[0;36m<module>\u001b[0;34m\u001b[0m\n\u001b[1;32m      3\u001b[0m         \u001b[0moutHandle\u001b[0m\u001b[0;34m.\u001b[0m\u001b[0mclose\u001b[0m\u001b[0;34m(\u001b[0m\u001b[0;34m)\u001b[0m\u001b[0;34m\u001b[0m\u001b[0;34m\u001b[0m\u001b[0m\n\u001b[1;32m      4\u001b[0m \u001b[0;34m\u001b[0m\u001b[0m\n\u001b[0;32m----> 5\u001b[0;31m \u001b[0matexit\u001b[0m\u001b[0;34m.\u001b[0m\u001b[0mregister\u001b[0m\u001b[0;34m(\u001b[0m\u001b[0mexit_handler\u001b[0m\u001b[0;34m)\u001b[0m\u001b[0;34m\u001b[0m\u001b[0;34m\u001b[0m\u001b[0m\n\u001b[0m",
      "\u001b[0;31mNameError\u001b[0m: name 'atexit' is not defined"
     ]
    }
   ],
   "source": [
    "def exit_handler():\n",
    "    if os.path.exists(OUT_FILE): \n",
    "        outHandle.close()\n",
    "\n",
    "atexit.register(exit_handler)"
   ]
  },
  {
   "cell_type": "code",
   "execution_count": null,
   "metadata": {},
   "outputs": [],
   "source": [
    "#we want to write to a file that way we can keep our results as we call the api \n",
    "\n",
    "#testing: \n",
    "#OUT_FILE = \"/shared/3/projects/benlitterer/podcastData/mp3s/RssMp3s.csv\"\n",
    "OUT_FILE = sys.argv[2]\n",
    "\n",
    "\"\"\"\n",
    "podLevel = [\"podName\", \"rssUrl\"]\n",
    "forText = [\"epTitle\", \"description\", \"itunes:duration\", \"pubDate\"]\n",
    "forUrl = [\"enclosure\",\"podcast:transcript\"] \n",
    "OUT_COLS = podLevel + forText + forUrl\n",
    "\"\"\"\n",
    "\n",
    "OUT_COLS = [\"rssUrl\", \"title\", \"description\", \"itunes:duration\", \"pubDate\", \"copyright\", \\\n",
    "            \"itunes:type\", \"itunes:complete\", \"guid\", \"itunes:explicit\", \"enclosure\",\"itunes:image\", \"transDict\"]\n",
    "\n",
    "\n",
    "#a set of url's to query for rss feeds \n",
    "toProcess = set(rssDf[\"url\"])\n",
    "\n",
    "#we want to either write a new file, or append \n",
    "#to a file we've already written \n",
    "if os.path.exists(OUT_FILE): \n",
    "    outHandle = open(OUT_FILE, \"a+\")\n",
    "    \n",
    "    #IF the file exists, we want to decide where to start searching and appending \n",
    "    outDf = pd.read_csv(OUT_FILE, names=OUT_COLS)\n",
    "    \n",
    "    #get what we've written to output file\n",
    "    #rssUrl will be our unique key for each feed \n",
    "    #randomize ordering \n",
    "    processed = set(outDf[\"rssUrl\"].sample(len(outDf)))\n",
    "    \n",
    "    #update what needs to be processed according to what we've already done \n",
    "    toProcess = toProcess - processed  \n",
    "else: \n",
    "    outHandle = open(OUT_FILE, \"w+\")\n",
    "    \n",
    "print(f\"processing {len(toProcess)} rss feeds\")"
   ]
  },
  {
   "cell_type": "code",
   "execution_count": 43,
   "metadata": {},
   "outputs": [],
   "source": [
    "IN_FILE = \"/shared/3/projects/benlitterer/podcastData/podRss/feeds1.csv\"\n",
    "OUT_FILE = \"/shared/3/projects/benlitterer/podcastData/mp3s/mp3Links1.csv\"\n",
    "\n",
    "rssDf = pd.read_csv(IN_FILE, names=cols)\n",
    "\n"
   ]
  },
  {
   "cell_type": "code",
   "execution_count": 59,
   "metadata": {},
   "outputs": [],
   "source": [
    "OUT_COLS = [\"rssUrl\", \"title\", \"description\", \"itunes:duration\", \"pubDate\", \"copyright\", \\\n",
    "            \"itunes:type\", \"itunes:complete\", \"guid\", \"itunes:explicit\", \"enclosure\",\"itunes:image\", \"transDict\"]\n",
    "\n",
    "#IF the file exists, we want to decide where to start searching and appending \n",
    "outDf = pd.read_csv(OUT_FILE, names=OUT_COLS)\n"
   ]
  },
  {
   "cell_type": "code",
   "execution_count": 62,
   "metadata": {},
   "outputs": [],
   "source": [
    "processed = set(outDf[\"rssUrl\"].sample(len(outDf)))"
   ]
  },
  {
   "cell_type": "code",
   "execution_count": 67,
   "metadata": {},
   "outputs": [
    {
     "data": {
      "text/plain": [
       "[\"{'https://feeds.buzzsprout.com/1959925/13513533/transcript': ['text/html', ''], 'https://feeds.buzzsprout.com/1959925/13513533/transcript.json': ['application/json', ''], 'https://feeds.buzzsprout.com/1959925/13513533/transcript.srt': ['application/srt', '']}\",\n",
       " \"{'https://feeds.buzzsprout.com/1959925/13465775/transcript': ['text/html', ''], 'https://feeds.buzzsprout.com/1959925/13465775/transcript.json': ['application/json', ''], 'https://feeds.buzzsprout.com/1959925/13465775/transcript.srt': ['application/srt', '']}\",\n",
       " \"{'https://feeds.buzzsprout.com/1959925/10697437/transcript': ['text/html', ''], 'https://feeds.buzzsprout.com/1959925/10697437/transcript.json': ['application/json', '']}\",\n",
       " \"{'https://feeds.buzzsprout.com/1959925/10534744/transcript': ['text/html', ''], 'https://feeds.buzzsprout.com/1959925/10534744/transcript.json': ['application/json', '']}\",\n",
       " \"{'https://feeds.buzzsprout.com/1959925/10358510/transcript': ['text/html', ''], 'https://feeds.buzzsprout.com/1959925/10358510/transcript.json': ['application/json', '']}\",\n",
       " \"{'https://transcripts.captivate.fm/transcript/b71de1c5-ebfe-47bc-84ab-53fb2b5ea49e/index.html': ['text/html', '']}\",\n",
       " \"{'https://transcripts.captivate.fm/transcript/2e7bd2d3-8497-4438-8c6e-2292ab11a936/index.html': ['text/html', '']}\"]"
      ]
     },
     "execution_count": 67,
     "metadata": {},
     "output_type": "execute_result"
    }
   ],
   "source": [
    "#just out of curiousity, do we get transcripts? \n",
    "[item for item in outDf[\"transDict\"] if item != \"{}\"]"
   ]
  },
  {
   "cell_type": "code",
   "execution_count": null,
   "metadata": {},
   "outputs": [],
   "source": []
  },
  {
   "cell_type": "code",
   "execution_count": 17,
   "metadata": {},
   "outputs": [
    {
     "name": "stderr",
     "output_type": "stream",
     "text": [
      "  0%|          | 0/3360 [00:00<?, ?it/s]"
     ]
    },
    {
     "name": "stdout",
     "output_type": "stream",
     "text": [
      "request error\n"
     ]
    },
    {
     "name": "stderr",
     "output_type": "stream",
     "text": [
      " 25%|██▍       | 824/3360 [33:53<2:55:18,  4.15s/it] "
     ]
    },
    {
     "name": "stdout",
     "output_type": "stream",
     "text": [
      "request error\n"
     ]
    },
    {
     "name": "stderr",
     "output_type": "stream",
     "text": [
      " 36%|███▌      | 1207/3360 [1:00:31<51:49,  1.44s/it]  "
     ]
    },
    {
     "name": "stdout",
     "output_type": "stream",
     "text": [
      "request error\n"
     ]
    },
    {
     "name": "stderr",
     "output_type": "stream",
     "text": [
      " 46%|████▌     | 1539/3360 [1:15:15<1:23:21,  2.75s/it] "
     ]
    },
    {
     "name": "stdout",
     "output_type": "stream",
     "text": [
      "request error\n"
     ]
    },
    {
     "name": "stderr",
     "output_type": "stream",
     "text": [
      " 46%|████▋     | 1561/3360 [1:15:52<47:25,  1.58s/it]  "
     ]
    },
    {
     "name": "stdout",
     "output_type": "stream",
     "text": [
      "request error\n"
     ]
    },
    {
     "name": "stderr",
     "output_type": "stream",
     "text": [
      " 59%|█████▉    | 1977/3360 [1:31:09<1:03:46,  2.77s/it]\n"
     ]
    },
    {
     "ename": "KeyboardInterrupt",
     "evalue": "",
     "output_type": "error",
     "traceback": [
      "\u001b[0;31m---------------------------------------------------------------------------\u001b[0m",
      "\u001b[0;31mKeyboardInterrupt\u001b[0m                         Traceback (most recent call last)",
      "\u001b[0;32m<ipython-input-17-8498de00a731>\u001b[0m in \u001b[0;36m<module>\u001b[0;34m\u001b[0m\n\u001b[1;32m     33\u001b[0m \u001b[0;34m\u001b[0m\u001b[0m\n\u001b[1;32m     34\u001b[0m     \u001b[0;32mif\u001b[0m \u001b[0mrWait\u001b[0m \u001b[0;34m>\u001b[0m \u001b[0;36m0\u001b[0m\u001b[0;34m:\u001b[0m\u001b[0;34m\u001b[0m\u001b[0;34m\u001b[0m\u001b[0m\n\u001b[0;32m---> 35\u001b[0;31m         \u001b[0mtime\u001b[0m\u001b[0;34m.\u001b[0m\u001b[0msleep\u001b[0m\u001b[0;34m(\u001b[0m\u001b[0mrWait\u001b[0m\u001b[0;34m)\u001b[0m\u001b[0;34m\u001b[0m\u001b[0;34m\u001b[0m\u001b[0m\n\u001b[0m\u001b[1;32m     36\u001b[0m \u001b[0;34m\u001b[0m\u001b[0m\n\u001b[1;32m     37\u001b[0m     \u001b[0;31m#get the mp3 links for this page\u001b[0m\u001b[0;34m\u001b[0m\u001b[0;34m\u001b[0m\u001b[0;34m\u001b[0m\u001b[0m\n",
      "\u001b[0;31mKeyboardInterrupt\u001b[0m: "
     ]
    }
   ],
   "source": [
    "TOTAL_WAIT = sys.argv[3]\n",
    "\n",
    "hostDict = {}\n",
    "podList = []\n",
    "for url in tqdm(toProcess): \n",
    "    \n",
    "    #get the host \n",
    "    host = url.strip(\"https://\").split(\"/\")[0]\n",
    "    \n",
    "    #find out how long it's been since we last scraped this host\n",
    "    #and update the time at which we are scraping this host \n",
    "    if host in hostDict: \n",
    "        \n",
    "        #time since we last called this host \n",
    "        timeLag = datetime.now() - hostDict[host]\n",
    "        timeLag = timeLag.seconds \n",
    "        \n",
    "        #current time now \n",
    "        hostDict[host] =  datetime.now()\n",
    "    \n",
    "    else: \n",
    "        #set when we called this host\n",
    "        hostDict[host] = datetime.now()\n",
    "        timeLag = TOTAL_WAIT \n",
    "        \n",
    "    #our remaining wait is the total wait - how much we've already waited \n",
    "    rWait = TOTAL_WAIT - timeLag\n",
    "    \n",
    "    if rWait > 0: \n",
    "        time.sleep(rWait)\n",
    "    \n",
    "    #get the mp3 links for this page \n",
    "    podInfs = getMP3Links(url)\n",
    "    \n",
    "    for podInf in podInfs: \n",
    "        outList = [name, url] + podInf\n",
    "        outStr = '\",\"'.join([str(item).replace('\"', '\\'').replace(\"\\n\", \"\") for item in outList])\n",
    "        outStr = f'\"{outStr}\"'\n",
    "        outHandle.write(outStr + \"\\n\")"
   ]
  },
  {
   "cell_type": "code",
   "execution_count": 18,
   "metadata": {},
   "outputs": [],
   "source": [
    "outHandle.close()"
   ]
  },
  {
   "cell_type": "code",
   "execution_count": 19,
   "metadata": {},
   "outputs": [],
   "source": [
    "prevDf = pd.read_csv(OUT_FILE, names=OUT_COLS)"
   ]
  },
  {
   "cell_type": "code",
   "execution_count": 23,
   "metadata": {},
   "outputs": [
    {
     "data": {
      "text/html": [
       "<div>\n",
       "<style scoped>\n",
       "    .dataframe tbody tr th:only-of-type {\n",
       "        vertical-align: middle;\n",
       "    }\n",
       "\n",
       "    .dataframe tbody tr th {\n",
       "        vertical-align: top;\n",
       "    }\n",
       "\n",
       "    .dataframe thead th {\n",
       "        text-align: right;\n",
       "    }\n",
       "</style>\n",
       "<table border=\"1\" class=\"dataframe\">\n",
       "  <thead>\n",
       "    <tr style=\"text-align: right;\">\n",
       "      <th></th>\n",
       "      <th>podName</th>\n",
       "      <th>rssUrl</th>\n",
       "      <th>epTitle</th>\n",
       "      <th>description</th>\n",
       "      <th>itunes:duration</th>\n",
       "      <th>pubDate</th>\n",
       "      <th>enclosure</th>\n",
       "      <th>podcast:transcript</th>\n",
       "    </tr>\n",
       "  </thead>\n",
       "  <tbody>\n",
       "    <tr>\n",
       "      <th>0</th>\n",
       "      <td>Employment Rights Online: The Podcast</td>\n",
       "      <td>https://feeds.buzzsprout.com/1790667.rss</td>\n",
       "      <td>The New Tribunal Claim Form Has Changed. Use T...</td>\n",
       "      <td>&lt;p&gt;Hi there &lt;/p&gt;&lt;p&gt;In this edition of the podc...</td>\n",
       "      <td>683</td>\n",
       "      <td>Thu, 17 Aug 2023 07:00:00 +0100</td>\n",
       "      <td>https://www.buzzsprout.com/1790667/13416841-th...</td>\n",
       "      <td>NaN</td>\n",
       "    </tr>\n",
       "    <tr>\n",
       "      <th>1</th>\n",
       "      <td>Employment Rights Online: The Podcast</td>\n",
       "      <td>https://feeds.buzzsprout.com/1790667.rss</td>\n",
       "      <td>I’m on a Zero Hours Contract. What Are My Empl...</td>\n",
       "      <td>&lt;p&gt;Hi There!&lt;/p&gt;&lt;p&gt;The Employment Rights Onlin...</td>\n",
       "      <td>918</td>\n",
       "      <td>Sat, 12 Aug 2023 06:00:00 +0100</td>\n",
       "      <td>https://www.buzzsprout.com/1790667/13392410-i-...</td>\n",
       "      <td>NaN</td>\n",
       "    </tr>\n",
       "    <tr>\n",
       "      <th>2</th>\n",
       "      <td>Employment Rights Online: The Podcast</td>\n",
       "      <td>https://feeds.buzzsprout.com/1790667.rss</td>\n",
       "      <td>Everything You Wanted to Know About Zero Hours...</td>\n",
       "      <td>&lt;p&gt;Hi There!&lt;br/&gt;&lt;br/&gt;The Employment Rights On...</td>\n",
       "      <td>699</td>\n",
       "      <td>Thu, 03 Aug 2023 07:00:00 +0100</td>\n",
       "      <td>https://www.buzzsprout.com/1790667/13342102-ev...</td>\n",
       "      <td>NaN</td>\n",
       "    </tr>\n",
       "    <tr>\n",
       "      <th>3</th>\n",
       "      <td>Employment Rights Online: The Podcast</td>\n",
       "      <td>https://feeds.buzzsprout.com/1790667.rss</td>\n",
       "      <td>Thinking of Taking on a Second Job to Help Wit...</td>\n",
       "      <td>&lt;p&gt;Hi there&lt;/p&gt;&lt;p&gt;The Employment Rights Online...</td>\n",
       "      <td>867</td>\n",
       "      <td>Thu, 27 Jul 2023 07:00:00 +0100</td>\n",
       "      <td>https://www.buzzsprout.com/1790667/13298721-th...</td>\n",
       "      <td>NaN</td>\n",
       "    </tr>\n",
       "    <tr>\n",
       "      <th>4</th>\n",
       "      <td>Employment Rights Online: The Podcast</td>\n",
       "      <td>https://feeds.buzzsprout.com/1790667.rss</td>\n",
       "      <td>Your Company Can Not Simply Dismiss You Becaus...</td>\n",
       "      <td>&lt;p&gt;Hi there&lt;/p&gt;&lt;p&gt;Your employment rights are t...</td>\n",
       "      <td>797</td>\n",
       "      <td>Thu, 20 Jul 2023 07:00:00 +0100</td>\n",
       "      <td>https://www.buzzsprout.com/1790667/13256100-yo...</td>\n",
       "      <td>NaN</td>\n",
       "    </tr>\n",
       "  </tbody>\n",
       "</table>\n",
       "</div>"
      ],
      "text/plain": [
       "                                 podName  \\\n",
       "0  Employment Rights Online: The Podcast   \n",
       "1  Employment Rights Online: The Podcast   \n",
       "2  Employment Rights Online: The Podcast   \n",
       "3  Employment Rights Online: The Podcast   \n",
       "4  Employment Rights Online: The Podcast   \n",
       "\n",
       "                                     rssUrl  \\\n",
       "0  https://feeds.buzzsprout.com/1790667.rss   \n",
       "1  https://feeds.buzzsprout.com/1790667.rss   \n",
       "2  https://feeds.buzzsprout.com/1790667.rss   \n",
       "3  https://feeds.buzzsprout.com/1790667.rss   \n",
       "4  https://feeds.buzzsprout.com/1790667.rss   \n",
       "\n",
       "                                             epTitle  \\\n",
       "0  The New Tribunal Claim Form Has Changed. Use T...   \n",
       "1  I’m on a Zero Hours Contract. What Are My Empl...   \n",
       "2  Everything You Wanted to Know About Zero Hours...   \n",
       "3  Thinking of Taking on a Second Job to Help Wit...   \n",
       "4  Your Company Can Not Simply Dismiss You Becaus...   \n",
       "\n",
       "                                         description itunes:duration  \\\n",
       "0  <p>Hi there </p><p>In this edition of the podc...             683   \n",
       "1  <p>Hi There!</p><p>The Employment Rights Onlin...             918   \n",
       "2  <p>Hi There!<br/><br/>The Employment Rights On...             699   \n",
       "3  <p>Hi there</p><p>The Employment Rights Online...             867   \n",
       "4  <p>Hi there</p><p>Your employment rights are t...             797   \n",
       "\n",
       "                           pubDate  \\\n",
       "0  Thu, 17 Aug 2023 07:00:00 +0100   \n",
       "1  Sat, 12 Aug 2023 06:00:00 +0100   \n",
       "2  Thu, 03 Aug 2023 07:00:00 +0100   \n",
       "3  Thu, 27 Jul 2023 07:00:00 +0100   \n",
       "4  Thu, 20 Jul 2023 07:00:00 +0100   \n",
       "\n",
       "                                           enclosure podcast:transcript  \n",
       "0  https://www.buzzsprout.com/1790667/13416841-th...                NaN  \n",
       "1  https://www.buzzsprout.com/1790667/13392410-i-...                NaN  \n",
       "2  https://www.buzzsprout.com/1790667/13342102-ev...                NaN  \n",
       "3  https://www.buzzsprout.com/1790667/13298721-th...                NaN  \n",
       "4  https://www.buzzsprout.com/1790667/13256100-yo...                NaN  "
      ]
     },
     "execution_count": 23,
     "metadata": {},
     "output_type": "execute_result"
    }
   ],
   "source": [
    "prevDf.head()"
   ]
  },
  {
   "cell_type": "code",
   "execution_count": 36,
   "metadata": {},
   "outputs": [],
   "source": [
    "temp = prevDf.reset_index(drop=True)"
   ]
  },
  {
   "cell_type": "code",
   "execution_count": 40,
   "metadata": {},
   "outputs": [
    {
     "data": {
      "text/plain": [
       "['https://www.buzzsprout.com/1790667/13416841-the-new-tribunal-claim-form-has-changed-use-the-wrong-form-and-your-case-could-be-thrown-out-here-s-what-you-need-to-know.mp3',\n",
       " 'https://www.buzzsprout.com/1790667/13392410-i-m-on-a-zero-hours-contract-what-are-my-employment-rights.mp3',\n",
       " 'https://www.buzzsprout.com/1790667/13342102-everything-you-wanted-to-know-about-zero-hours-contracts-but-didn-t-know-where-to-ask.mp3',\n",
       " 'https://www.buzzsprout.com/1790667/13298721-thinking-of-taking-on-a-second-job-to-help-with-your-finances-here-are-the-top-5-things-you-need-to-know.mp3',\n",
       " 'https://www.buzzsprout.com/1790667/13256100-your-company-can-not-simply-dismiss-you-because-you-disagree-with-company-vision-and-values-here-s-what-you-need-to-know.mp3']"
      ]
     },
     "execution_count": 40,
     "metadata": {},
     "output_type": "execute_result"
    }
   ],
   "source": [
    "list(temp.head()[\"enclosure\"])"
   ]
  },
  {
   "cell_type": "code",
   "execution_count": null,
   "metadata": {},
   "outputs": [],
   "source": []
  }
 ],
 "metadata": {
  "kernelspec": {
   "display_name": "Python 3 (ipykernel)",
   "language": "python",
   "name": "python3"
  },
  "language_info": {
   "codemirror_mode": {
    "name": "ipython",
    "version": 3
   },
   "file_extension": ".py",
   "mimetype": "text/x-python",
   "name": "python",
   "nbconvert_exporter": "python",
   "pygments_lexer": "ipython3",
   "version": "3.11.5"
  }
 },
 "nbformat": 4,
 "nbformat_minor": 4
}
