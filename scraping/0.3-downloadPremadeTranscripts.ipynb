{
 "cells": [
  {
   "cell_type": "code",
   "execution_count": 1,
   "metadata": {},
   "outputs": [],
   "source": [
    "import pandas as pd\n",
    "import random\n",
    "import os\n",
    "import sys\n",
    "import requests \n",
    "from tqdm import tqdm \n",
    "import atexit\n",
    "import numpy as np"
   ]
  },
  {
   "cell_type": "code",
   "execution_count": null,
   "metadata": {},
   "outputs": [],
   "source": [
    "IN_STEM = \"/shared/4/projects/podcasts/mp3Links/transcriptLinks/\"\n",
    "IN_PATH = IN_STEM + sys.argv[1]\n",
    "\n",
    "OUT_STEM = \"/shared/4/projects/podcasts/mp3Links/transcriptTexts/\" \n",
    "OUT_PATH = OUT_STEM + sys.argv[1].replace(\"Links\", \"Texts\")"
   ]
  },
  {
   "cell_type": "code",
   "execution_count": null,
   "metadata": {},
   "outputs": [],
   "source": [
    "df = pd.read_csv(IN_PATH, names=[\"index\", \"podUrl\", \"mp3Url\", \"transUrl\", \"type\", \"lang\", \"transHost\"])"
   ]
  },
  {
   "cell_type": "code",
   "execution_count": 3,
   "metadata": {},
   "outputs": [
    {
     "name": "stdout",
     "output_type": "stream",
     "text": [
      "processing 3697 records\n"
     ]
    }
   ],
   "source": [
    "colNames = []\n",
    "inDf = pd.read_csv(IN_PATH, names=[\"index\", \"podUrl\", \"mp3Url\", \"transUrl\", \"type\", \"lang\", \"transHost\"])\n",
    "toProcess = set(inDf[\"transUrl\"])\n",
    "    \n",
    "processed = set([])\n",
    "if os.path.exists(OUT_PATH): \n",
    "    outHandle = open(OUT_PATH, \"a+\")\n",
    "    outDf = pd.read_csv(OUT_PATH, names=[\"transUrl\", \"text\"])\n",
    "    \n",
    "    processed = set(outDf[\"transUrl\"])\n",
    "    \n",
    "else:\n",
    "    outHandle = open(OUT_PATH, \"w+\")\n",
    "    \n",
    "toProcess = toProcess - processed \n",
    "print(f\"processing {len(toProcess)} records\")"
   ]
  },
  {
   "cell_type": "code",
   "execution_count": 12,
   "metadata": {},
   "outputs": [],
   "source": [
    "def getTranscript(inUrl): \n",
    "    try: \n",
    "        response = requests.get(inUrl)\n",
    "        code = response.status_code\n",
    "        text = response.text\n",
    "        return [code, text]\n",
    "    except: \n",
    "        print(\"request error\")\n",
    "        return [None, None]"
   ]
  },
  {
   "cell_type": "code",
   "execution_count": 13,
   "metadata": {},
   "outputs": [
    {
     "data": {
      "text/plain": [
       "<function __main__.exit_handler()>"
      ]
     },
     "execution_count": 13,
     "metadata": {},
     "output_type": "execute_result"
    }
   ],
   "source": [
    "def exit_handler():\n",
    "    if os.path.exists(OUT_FILE): \n",
    "        outHandle.close()\n",
    "\n",
    "atexit.register(exit_handler)"
   ]
  },
  {
   "cell_type": "code",
   "execution_count": null,
   "metadata": {},
   "outputs": [
    {
     "name": "stderr",
     "output_type": "stream",
     "text": [
      "  0%|          | 16/3774 [00:05<20:38,  3.03it/s]"
     ]
    },
    {
     "name": "stdout",
     "output_type": "stream",
     "text": [
      "request error\n"
     ]
    },
    {
     "name": "stderr",
     "output_type": "stream",
     "text": [
      "  1%|          | 46/3774 [00:13<16:31,  3.76it/s]"
     ]
    },
    {
     "name": "stdout",
     "output_type": "stream",
     "text": [
      "request error\n"
     ]
    },
    {
     "name": "stderr",
     "output_type": "stream",
     "text": [
      "  2%|▏         | 62/3774 [00:17<15:21,  4.03it/s]"
     ]
    }
   ],
   "source": [
    "waitTime = .1 \n",
    "for transUrl in tqdm(toProcess): \n",
    "    \n",
    "    #keep trying to rerequest if we get a bad code \n",
    "    while True: \n",
    "        code, text = getTranscript(transUrl)\n",
    "        \n",
    "        #keep requesting till we aren't being rate limited \n",
    "        if code != 429: \n",
    "            waitTime = waitTime / 10\n",
    "            break \n",
    "            \n",
    "        #increase wait time if being rate limited \n",
    "        waitTime = waitTime * 10\n",
    "        \n",
    "    if code == 200: \n",
    "        outStr = '\"' + transUrl.replace('\"', '') + '\",\"' + text.replace('\"', '') + '\"\\n'\n",
    "        outHandle.write(outStr)\n",
    "        \n",
    "    #we still want to mark that this was processed \n",
    "    else: \n",
    "        outHandle.write('\"\",\"\"\\n')\n",
    "    \n",
    "    outHandle.flush()"
   ]
  }
 ],
 "metadata": {
  "kernelspec": {
   "display_name": "Python 3",
   "language": "python",
   "name": "python3"
  },
  "language_info": {
   "codemirror_mode": {
    "name": "ipython",
    "version": 3
   },
   "file_extension": ".py",
   "mimetype": "text/x-python",
   "name": "python",
   "nbconvert_exporter": "python",
   "pygments_lexer": "ipython3",
   "version": "3.8.5"
  }
 },
 "nbformat": 4,
 "nbformat_minor": 4
}
