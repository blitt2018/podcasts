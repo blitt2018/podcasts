{
 "cells": [
  {
   "cell_type": "code",
   "execution_count": 2,
   "id": "9b9ec198",
   "metadata": {},
   "outputs": [],
   "source": [
    "import pandas as pd\n",
    "import sqlite3"
   ]
  },
  {
   "cell_type": "code",
   "execution_count": 4,
   "id": "e3e71a31",
   "metadata": {},
   "outputs": [],
   "source": [
    "podDBPath = \"/shared/3/datasets/podcast-index/podcastindex_feeds.db\"\n",
    "cnx = sqlite3.connect(podDBPath)\n",
    "df = pd.read_sql_query(\"SELECT * from podcasts\", cnx)"
   ]
  },
  {
   "cell_type": "code",
   "execution_count": 8,
   "id": "62bf074d",
   "metadata": {},
   "outputs": [],
   "source": [
    "#output ~4 million rows as a dataframe \n",
    "df.to_csv(\"/shared/3/projects/benlitterer/podcastData/podcastIndex/podcastIndex.csv\", sep=\",\")"
   ]
  },
  {
   "cell_type": "code",
   "execution_count": null,
   "id": "d4156f98",
   "metadata": {},
   "outputs": [],
   "source": []
  }
 ],
 "metadata": {
  "kernelspec": {
   "display_name": "Python 3",
   "language": "python",
   "name": "python3"
  },
  "language_info": {
   "codemirror_mode": {
    "name": "ipython",
    "version": 3
   },
   "file_extension": ".py",
   "mimetype": "text/x-python",
   "name": "python",
   "nbconvert_exporter": "python",
   "pygments_lexer": "ipython3",
   "version": "3.8.5"
  }
 },
 "nbformat": 4,
 "nbformat_minor": 5
}
