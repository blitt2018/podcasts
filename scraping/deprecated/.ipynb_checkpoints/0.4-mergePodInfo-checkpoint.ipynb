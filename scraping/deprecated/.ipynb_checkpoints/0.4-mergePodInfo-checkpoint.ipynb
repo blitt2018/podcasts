{
 "cells": [
  {
   "cell_type": "code",
   "execution_count": 1,
   "metadata": {},
   "outputs": [
    {
     "name": "stderr",
     "output_type": "stream",
     "text": [
      "/opt/anaconda/lib/python3.8/site-packages/scipy/__init__.py:146: UserWarning: A NumPy version >=1.16.5 and <1.23.0 is required for this version of SciPy (detected version 1.23.5\n",
      "  warnings.warn(f\"A NumPy version >={np_minversion} and <{np_maxversion}\"\n"
     ]
    }
   ],
   "source": [
    "import pandas as pd\n",
    "import numpy as np\n",
    "import seaborn as sns\n",
    "import matplotlib.pyplot as plt"
   ]
  },
  {
   "cell_type": "code",
   "execution_count": 2,
   "metadata": {},
   "outputs": [],
   "source": [
    "#this gives us relevant metadata for each pod that we searched \n",
    "cols = [\"queryName\", \"title\", \"url\", \"originalUrl\", \"description\", \"author\", \"language\", \\\n",
    "          \"categories\", \"explicit\", \"episodeCount\"]\n",
    "\n",
    "rssDf = pd.read_csv(\"/shared/3/projects/benlitterer/podcastData/podRss/RSSFeeds.csv\", names=cols)"
   ]
  },
  {
   "cell_type": "code",
   "execution_count": 3,
   "metadata": {},
   "outputs": [
    {
     "name": "stderr",
     "output_type": "stream",
     "text": [
      "<ipython-input-3-7ca77e84994a>:4: DtypeWarning: Columns (5,6,11) have mixed types. Specify dtype option on import or set low_memory=False.\n",
      "  mp3sDf = pd.read_csv(\"/shared/4/projects/podcasts/mp3Links/20mLinks.csv\", names=cols)\n"
     ]
    }
   ],
   "source": [
    "#load in episode-level information \n",
    "cols = [\"url\", \"epTitle\", \"epDescription\", \"duration\", \"pubDate\", \"copyright\", \"type\",\\\n",
    "       \"complete\", \"guid\", \"explicit\", \"mp3Url\", \"image\", \"transDict\"]\n",
    "mp3sDf = pd.read_csv(\"/shared/4/projects/podcasts/mp3Links/20mLinks.csv\", names=cols)"
   ]
  },
  {
   "cell_type": "code",
   "execution_count": 4,
   "metadata": {},
   "outputs": [],
   "source": [
    "#\"url\" corresponds to the url of the rss feed, and is the common key between the two dataframes \n",
    "#we only want to keep the podcasts for which we have the episode information!\n",
    "df = pd.merge(rssDf, mp3sDf, on=\"url\", how=\"right\")"
   ]
  },
  {
   "cell_type": "code",
   "execution_count": 5,
   "metadata": {},
   "outputs": [],
   "source": [
    "#we don't want any same rss url, sampe mp3 url rows \n",
    "df = df.drop_duplicates([\"url\", \"mp3Url\"])"
   ]
  },
  {
   "cell_type": "code",
   "execution_count": 6,
   "metadata": {},
   "outputs": [
    {
     "name": "stdout",
     "output_type": "stream",
     "text": [
      "shape after removing dups: (21279719, 22)\n"
     ]
    }
   ],
   "source": [
    "print(f\"shape after removing dups: {df.shape}\")"
   ]
  },
  {
   "cell_type": "code",
   "execution_count": 7,
   "metadata": {},
   "outputs": [
    {
     "data": {
      "text/plain": [
       "Text(0.5, 0, 'duration (hours)')"
      ]
     },
     "execution_count": 7,
     "metadata": {},
     "output_type": "execute_result"
    },
    {
     "data": {
      "image/png": "[encoded data removed]",
      "text/plain": [
       "<Figure size 432x288 with 1 Axes>"
      ]
     },
     "metadata": {
      "needs_background": "light"
     },
     "output_type": "display_data"
    }
   ],
   "source": [
    "#plot episode lengths just for fun \n",
    "def formatLen(inStr):\n",
    "    try: \n",
    "        return float(inStr) / (60*60)\n",
    "    except: \n",
    "        return np.nan\n",
    "\n",
    "df[\"durationF\"] = df[\"duration\"].apply(formatLen)\n",
    "\n",
    "epLens = df.dropna(subset=[\"durationF\"]).sample(500000)[\"durationF\"]\n",
    "\n",
    "sns.boxplot(x=epLens)\n",
    "plt.xlim(0, 2)\n",
    "plt.title(\"Podcast Duration Boxplot\")\n",
    "plt.xlabel(\"duration (hours)\")"
   ]
  },
  {
   "cell_type": "code",
   "execution_count": 8,
   "metadata": {},
   "outputs": [],
   "source": [
    "df = df.drop(columns=[\"durationF\"])"
   ]
  },
  {
   "cell_type": "code",
   "execution_count": 14,
   "metadata": {},
   "outputs": [],
   "source": [
    "#add a unique key which can be used to identify rows (helpful for parallel things)\n",
    "df = df.reset_index(drop=True)\n",
    "df = df.reset_index(names=\"key\")"
   ]
  },
  {
   "cell_type": "code",
   "execution_count": 17,
   "metadata": {},
   "outputs": [],
   "source": [
    "OUT_PATH = \"/shared/3/projects/benlitterer/podcastData/analysis/allEpisodes.csv\"\n",
    "df.to_csv(OUT_PATH)"
   ]
  },
  {
   "cell_type": "code",
   "execution_count": 68,
   "metadata": {},
   "outputs": [],
   "source": [
    "df = df.dropna(subset=[\"mp3Url\"])"
   ]
  },
  {
   "cell_type": "code",
   "execution_count": 69,
   "metadata": {},
   "outputs": [
    {
     "data": {
      "text/plain": [
       "(21270903, 23)"
      ]
     },
     "execution_count": 69,
     "metadata": {},
     "output_type": "execute_result"
    }
   ],
   "source": [
    "df.shape"
   ]
  },
  {
   "cell_type": "code",
   "execution_count": 77,
   "metadata": {},
   "outputs": [],
   "source": [
    "def getHost(inStr): \n",
    "    try: \n",
    "        return inStr.split(\"/\")[2]\n",
    "    except: \n",
    "        return \"\"\n",
    "    \n",
    "df[\"mp3Host\"] = df[\"mp3Url\"].apply(getHost)"
   ]
  },
  {
   "cell_type": "code",
   "execution_count": 78,
   "metadata": {},
   "outputs": [],
   "source": [
    "hostDf = pd.DataFrame(df[\"mp3Host\"].value_counts())"
   ]
  }
 ],
 "metadata": {
  "kernelspec": {
   "display_name": "Python 3",
   "language": "python",
   "name": "python3"
  },
  "language_info": {
   "codemirror_mode": {
    "name": "ipython",
    "version": 3
   },
   "file_extension": ".py",
   "mimetype": "text/x-python",
   "name": "python",
   "nbconvert_exporter": "python",
   "pygments_lexer": "ipython3",
   "version": "3.8.5"
  }
 },
 "nbformat": 4,
 "nbformat_minor": 4
}
