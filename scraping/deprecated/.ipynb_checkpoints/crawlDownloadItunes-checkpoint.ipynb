{
 "cells": [
  {
   "cell_type": "code",
   "execution_count": 3,
   "metadata": {},
   "outputs": [],
   "source": [
    "from bs4 import BeautifulSoup\n",
    "import requests as req\n",
    "from tqdm import tqdm \n",
    "import time\n",
    "import pandas as pd\n",
    "import random\n",
    "import matplotlib.pyplot as plt\n",
    "import re"
   ]
  },
  {
   "cell_type": "code",
   "execution_count": 15,
   "metadata": {},
   "outputs": [],
   "source": [
    "def getItunesPods(query): \n",
    "    IURL = \"https://itunes.apple.com/search?\" \n",
    "    \n",
    "    qString = f'{IURL}term={query.replace(\" \", \"+\")}&media=podcast&limit=200'\n",
    "    \n",
    "    response = req.get(qString)\n",
    "    resCode = response.status_code \n",
    "    resList = response.json()[\"results\"]\n",
    "    \n",
    "    return resList"
   ]
  },
  {
   "cell_type": "code",
   "execution_count": 16,
   "metadata": {},
   "outputs": [],
   "source": [
    "query = \"The Joe Rogan Experience\"\n",
    "resList = getItunesPods(query)"
   ]
  },
  {
   "cell_type": "code",
   "execution_count": 34,
   "metadata": {},
   "outputs": [],
   "source": [
    "for podDict in resList: \n",
    "    keepList = [\"kind\", \"collectionName\", \"trackName\", \"feedUrl\", \"releaseDate\", \\\n",
    "                \"trackCount\", \"country\", \"trackTimeMillis\", \"genres\"]\n",
    "    \n",
    "    #subset to only those items which we are most interested in \n",
    "    podDict = {k:v for k,v in podDict.items() if k in keepList} \n",
    "    \n",
    "    outList = []\n",
    "    for itemName in keepList: \n",
    "        toAppend = \"\"\n",
    "        if itemName in podDict: \n",
    "            toAppend = podDict[itemName]\n",
    "        outList.append(toAppend)\n"
   ]
  },
  {
   "cell_type": "code",
   "execution_count": null,
   "metadata": {},
   "outputs": [],
   "source": []
  },
  {
   "cell_type": "code",
   "execution_count": null,
   "metadata": {},
   "outputs": [],
   "source": [
    "def getMP3s(RSSLink): \n",
    "    response = req.get(RSSLink)\n",
    "    print(response)\n",
    "    \n",
    "    "
   ]
  },
  {
   "cell_type": "code",
   "execution_count": 35,
   "metadata": {},
   "outputs": [],
   "source": [
    "#load in a large dataframe with names of podcasts to download \n",
    "IN_PATH = \"/shared/3/projects/benlitterer/podcastData/podNames/spotifySnowball50k.csv\"\n",
    "df = pd.read_csv(IN_PATH, index_col=\"Unnamed: 0\")\n",
    "df = df.sort_values(\"total_episodes\", ascending=False)"
   ]
  },
  {
   "cell_type": "code",
   "execution_count": 235,
   "metadata": {},
   "outputs": [],
   "source": [
    "def getMP3Links(rssLink): \n",
    "    #get the xml for the rss feed  \n",
    "    response = req.get(rssLink)\n",
    "    resCode = response.status_code\n",
    "    rssText = response.text\n",
    "\n",
    "    #pare the xml \n",
    "    rssSoup = BeautifulSoup(rssText, features=\"xml\")\n",
    "    \n",
    "    epLinks = []\n",
    "    items = rssSoup.find_all(\"item\")\n",
    "    \n",
    "    for item in items: \n",
    "        title = item.find(\"title\").get_text()\n",
    "        podUrl = item.find(\"enclosure\").get(\"url\")\n",
    "        desc = item.find(\"description\").get_text()\n",
    "        dur = item.find(\"itunes:duration\").get_text()\n",
    "        date = item.find(\"pubDate\").get_text()\n",
    "        transcripts = item.find_all(re.compile(\"transcript\"))\n",
    "        epLinks.append([title, podUrl, desc, dur, date, transcripts])\n",
    "        \n",
    "    return epLinks "
   ]
  },
  {
   "cell_type": "code",
   "execution_count": 1,
   "metadata": {},
   "outputs": [],
   "source": [
    "\n",
    "hits = [\"Joe Rogan\", \n",
    "        \"The Really Good Podcast\", \n",
    "        \"Huberman Lab\", \n",
    "        \"anything goes with emma chamberlain\", \n",
    "        \"This Past Weekend\", \n",
    "        \"Crime Junkie\", \n",
    "        \"Smartless\", \n",
    "        \"Shawn Ryan Show\", \n",
    "        \"Scamanda\", \n",
    "        \"Call Her Daddy\", \n",
    "        \"PBD Podcast\", \n",
    "        \"Rotten Mango\", \n",
    "        \"Date Yourself Instead\", \n",
    "        \"Distractible\", \n",
    "        \"The Retrievals\", \n",
    "        \"The Daily\", \n",
    "        \"2 Bears, 1 Cave with Tom Segura & Bert Kreischer\", \n",
    "        \"Morbid\", \n",
    "        \"The Broski Report with Brittany Broski\", \n",
    "        \"The LOL Podcast\"]"
   ]
  },
  {
   "cell_type": "code",
   "execution_count": 37,
   "metadata": {},
   "outputs": [],
   "source": [
    "hits = [\"The Really Good Podcast\", \n",
    "        \"Huberman Lab\"]"
   ]
  },
  {
   "cell_type": "code",
   "execution_count": 38,
   "metadata": {},
   "outputs": [
    {
     "name": "stdout",
     "output_type": "stream",
     "text": [
      "44\n",
      "45\n",
      "45\n",
      "45\n",
      "45\n"
     ]
    },
    {
     "ename": "KeyboardInterrupt",
     "evalue": "",
     "output_type": "error",
     "traceback": [
      "\u001b[0;31m---------------------------------------------------------------------------\u001b[0m",
      "\u001b[0;31mKeyboardInterrupt\u001b[0m                         Traceback (most recent call last)",
      "\u001b[0;32m<ipython-input-38-a4b7873f76a7>\u001b[0m in \u001b[0;36m<module>\u001b[0;34m\u001b[0m\n\u001b[1;32m     49\u001b[0m         \u001b[0;31m#sleep for between 1 and 2 seconds\u001b[0m\u001b[0;34m\u001b[0m\u001b[0;34m\u001b[0m\u001b[0;34m\u001b[0m\u001b[0m\n\u001b[1;32m     50\u001b[0m         \u001b[0msTime\u001b[0m \u001b[0;34m=\u001b[0m \u001b[0;36m3\u001b[0m \u001b[0;34m+\u001b[0m \u001b[0mrandom\u001b[0m\u001b[0;34m.\u001b[0m\u001b[0mrandom\u001b[0m\u001b[0;34m(\u001b[0m\u001b[0;34m)\u001b[0m\u001b[0;34m\u001b[0m\u001b[0;34m\u001b[0m\u001b[0m\n\u001b[0;32m---> 51\u001b[0;31m         \u001b[0mtime\u001b[0m\u001b[0;34m.\u001b[0m\u001b[0msleep\u001b[0m\u001b[0;34m(\u001b[0m\u001b[0msTime\u001b[0m\u001b[0;34m)\u001b[0m\u001b[0;34m\u001b[0m\u001b[0;34m\u001b[0m\u001b[0m\n\u001b[0m\u001b[1;32m     52\u001b[0m \u001b[0;34m\u001b[0m\u001b[0m\n\u001b[1;32m     53\u001b[0m         \u001b[0;32mif\u001b[0m \u001b[0mcounter\u001b[0m \u001b[0;34m%\u001b[0m \u001b[0;36m1\u001b[0m \u001b[0;34m==\u001b[0m \u001b[0;36m0\u001b[0m\u001b[0;34m:\u001b[0m\u001b[0;34m\u001b[0m\u001b[0;34m\u001b[0m\u001b[0m\n",
      "\u001b[0;31mKeyboardInterrupt\u001b[0m: "
     ]
    }
   ],
   "source": [
    "#keep searching over and over exponentially \n",
    "#for each episode in hits, search that episode and add the results to the news version of hits \n",
    "#keep doing this, while ensuring that we don't search something we've already searched \n",
    "\n",
    "#where we keep our show information  \n",
    "showInfo = []\n",
    "\n",
    "newHits = []\n",
    "allHits = set([])\n",
    "searched = set([])\n",
    "\n",
    "MAX_SHOWS = 10000\n",
    "counter = 0 \n",
    "while True: \n",
    "    #for each hit, we search that hit to generate more hits \n",
    "    for hit in hits: \n",
    "\n",
    "        #don't search something we've already searched \n",
    "        #TODO: this gets slow as allHits grows \n",
    "        if hit not in searched: \n",
    "\n",
    "            #search the previous hit using itunes api \n",
    "            resList = getItunesPods(hit)\n",
    "            searched.update(hit)\n",
    "            \n",
    "            #go through each pod returned from search and get the information we care about \n",
    "            for podDict in resList: \n",
    "                keepList = [\"kind\", \"collectionName\", \"trackName\", \"trackCount\", \"feedUrl\", \"releaseDate\", \\\n",
    "                            \"trackCount\", \"country\", \"trackTimeMillis\", \"genres\"]\n",
    "                \n",
    "                #get the information we care about and append to outList \n",
    "                outList = []\n",
    "                for itemName in keepList: \n",
    "                    toAppend = \"\"\n",
    "                    if itemName in podDict: \n",
    "                        toAppend = podDict[itemName]\n",
    "                    outList.append(toAppend)\n",
    "                \n",
    "                name = podDict[\"collectionName\"]\n",
    "                showInfo.append(outList)\n",
    "                newHits.append(name)\n",
    "                allHits.update({name})\n",
    "        \n",
    "        #exit if we have a certain number of pocasts \n",
    "        if len(allHits) > MAX_SHOWS: \n",
    "            break \n",
    "        \n",
    "        #to avoid being rate limited \n",
    "        #sleep for between 1 and 2 seconds\n",
    "        sTime = 3 + random.random()\n",
    "        time.sleep(sTime)\n",
    "        \n",
    "        if counter % 1 == 0: \n",
    "            print(len(allHits))\n",
    "        counter += 1\n",
    "        \n",
    "    #the hits we just got will be our new list to search\n",
    "    #we will add the results from these new searches to newHits \n",
    "    hits = newHits \n",
    "    newHits = []"
   ]
  },
  {
   "cell_type": "code",
   "execution_count": 42,
   "metadata": {},
   "outputs": [],
   "source": [
    "#it seems that itunes search api doesn't give random enough results.."
   ]
  },
  {
   "cell_type": "code",
   "execution_count": null,
   "metadata": {},
   "outputs": [],
   "source": [
    "#other options for rss feeds\n",
    "#https://castos.com/tools/find-podcast-rss-feed/\n",
    "#https://getrssfeed.com/\n",
    "#https://rss.com/community/explore/?title=decoding%20the%20gururs%20\n",
    "\n",
    "#have to pay to actually use this...\n",
    "#search on listennotes https://www.listennotes.com/search/?q=decoding+the+gurus&scope=podcast "
   ]
  }
 ],
 "metadata": {
  "kernelspec": {
   "display_name": "Python 3",
   "language": "python",
   "name": "python3"
  },
  "language_info": {
   "codemirror_mode": {
    "name": "ipython",
    "version": 3
   },
   "file_extension": ".py",
   "mimetype": "text/x-python",
   "name": "python",
   "nbconvert_exporter": "python",
   "pygments_lexer": "ipython3",
   "version": "3.8.5"
  }
 },
 "nbformat": 4,
 "nbformat_minor": 4
}
