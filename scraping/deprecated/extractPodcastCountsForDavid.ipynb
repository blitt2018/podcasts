{
 "cells": [
  {
   "cell_type": "code",
   "execution_count": 1,
   "id": "9d0ba499",
   "metadata": {},
   "outputs": [
    {
     "name": "stderr",
     "output_type": "stream",
     "text": [
      "<ipython-input-1-8ebdec6dcb41>:2: DtypeWarning: Columns (0,1,7,8,13,23,24,37) have mixed types. Specify dtype option on import or set low_memory=False.\n",
      "  piDf = pd.read_csv(\"/shared/3/projects/benlitterer/podcastData/podcastIndex/podcastIndex.csv\", sep=\",\")\n"
     ]
    }
   ],
   "source": [
    "import pandas as pd\n",
    "piDf = pd.read_csv(\"/shared/3/projects/benlitterer/podcastData/podcastIndex/podcastIndex.csv\", sep=\",\")"
   ]
  },
  {
   "cell_type": "code",
   "execution_count": 21,
   "id": "b40ff678",
   "metadata": {},
   "outputs": [
    {
     "data": {
      "text/plain": [
       "424829700"
      ]
     },
     "execution_count": 21,
     "metadata": {},
     "output_type": "execute_result"
    }
   ],
   "source": [
    "piDf.shape[0] * 100"
   ]
  },
  {
   "cell_type": "code",
   "execution_count": 19,
   "id": "4b1dd0c2",
   "metadata": {},
   "outputs": [
    {
     "data": {
      "text/plain": [
       "1707571181.0"
      ]
     },
     "execution_count": 19,
     "metadata": {},
     "output_type": "execute_result"
    }
   ],
   "source": [
    "sum(piDf.dropna(subset=[\"episodeCount\"])[\"episodeCount\"])"
   ]
  },
  {
   "cell_type": "code",
   "execution_count": 17,
   "id": "5003e893",
   "metadata": {},
   "outputs": [
    {
     "data": {
      "text/plain": [
       "(2324352, 41)"
      ]
     },
     "execution_count": 17,
     "metadata": {},
     "output_type": "execute_result"
    }
   ],
   "source": [
    "justEn = piDf.dropna(subset=[\"language\"])\n",
    "justEn = justEn.loc[justEn[\"language\"].str.contains(\"en\")]\n",
    "justEn.shape"
   ]
  },
  {
   "cell_type": "code",
   "execution_count": 15,
   "id": "8b48693e",
   "metadata": {},
   "outputs": [
    {
     "data": {
      "text/plain": [
       "68686973.0"
      ]
     },
     "execution_count": 15,
     "metadata": {},
     "output_type": "execute_result"
    }
   ],
   "source": [
    "sum(justEn[\"episodeCount\"])"
   ]
  },
  {
   "cell_type": "code",
   "execution_count": 16,
   "id": "82c06666",
   "metadata": {},
   "outputs": [
    {
     "data": {
      "text/plain": [
       "4106249"
      ]
     },
     "execution_count": 16,
     "metadata": {},
     "output_type": "execute_result"
    }
   ],
   "source": [
    "len(piDf.dropna(subset=[\"language\"]))"
   ]
  },
  {
   "cell_type": "code",
   "execution_count": null,
   "id": "5d1ae9d0",
   "metadata": {},
   "outputs": [],
   "source": []
  }
 ],
 "metadata": {
  "kernelspec": {
   "display_name": "Python 3",
   "language": "python",
   "name": "python3"
  },
  "language_info": {
   "codemirror_mode": {
    "name": "ipython",
    "version": 3
   },
   "file_extension": ".py",
   "mimetype": "text/x-python",
   "name": "python",
   "nbconvert_exporter": "python",
   "pygments_lexer": "ipython3",
   "version": "3.8.5"
  }
 },
 "nbformat": 4,
 "nbformat_minor": 5
}
