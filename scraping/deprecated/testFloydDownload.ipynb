{
 "cells": [
  {
   "cell_type": "code",
   "execution_count": 45,
   "id": "2af3683f",
   "metadata": {},
   "outputs": [
    {
     "name": "stderr",
     "output_type": "stream",
     "text": [
      "<frozen importlib._bootstrap>:219: RuntimeWarning: scipy._lib.messagestream.MessageStream size changed, may indicate binary incompatibility. Expected 56 from C header, got 64 from PyObject\n"
     ]
    }
   ],
   "source": [
    "import pandas as pd\n",
    "import matplotlib.pyplot as plt\n",
    "import seaborn as sns"
   ]
  },
  {
   "cell_type": "code",
   "execution_count": 2,
   "id": "9aded9ce",
   "metadata": {},
   "outputs": [
    {
     "name": "stderr",
     "output_type": "stream",
     "text": [
      "<ipython-input-2-3f7810a8e0d9>:1: DtypeWarning: Columns (5,6,11) have mixed types. Specify dtype option on import or set low_memory=False.\n",
      "  df = pd.read_csv(\"/shared/3/projects/benlitterer/podcastData/podRss/floydFeeds/floydMetadata.csv\")\n"
     ]
    }
   ],
   "source": [
    "df = pd.read_csv(\"/shared/3/projects/benlitterer/podcastData/podRss/floydFeeds/floydMetadata.csv\")"
   ]
  },
  {
   "cell_type": "code",
   "execution_count": 8,
   "id": "9a9c5f5e",
   "metadata": {},
   "outputs": [],
   "source": [
    "cols = [\"url\", \"epTitle\", \"epDescription\", \"duration\", \"pubDate\", \"copyright\", \"type\",\\\n",
    "       \"complete\", \"guid\", \"explicit\", \"mp3Url\", \"image\", \"transDict\"]"
   ]
  },
  {
   "cell_type": "code",
   "execution_count": 9,
   "id": "c044a0d4",
   "metadata": {},
   "outputs": [],
   "source": [
    "df.columns = cols"
   ]
  },
  {
   "cell_type": "code",
   "execution_count": 14,
   "id": "f8ceba17",
   "metadata": {},
   "outputs": [
    {
     "data": {
      "text/plain": [
       "(26934615, 13)"
      ]
     },
     "execution_count": 14,
     "metadata": {},
     "output_type": "execute_result"
    }
   ],
   "source": [
    "df.shape"
   ]
  },
  {
   "cell_type": "code",
   "execution_count": 12,
   "id": "3d17d4ed",
   "metadata": {},
   "outputs": [],
   "source": [
    "cleanDf = df.dropna(subset=[\"epTitle\"])"
   ]
  },
  {
   "cell_type": "code",
   "execution_count": 13,
   "id": "0f90c790",
   "metadata": {},
   "outputs": [
    {
     "data": {
      "text/plain": [
       "(26791048, 13)"
      ]
     },
     "execution_count": 13,
     "metadata": {},
     "output_type": "execute_result"
    }
   ],
   "source": [
    "cleanDf.shape"
   ]
  },
  {
   "cell_type": "code",
   "execution_count": 15,
   "id": "ec63bbca",
   "metadata": {},
   "outputs": [
    {
     "name": "stderr",
     "output_type": "stream",
     "text": [
      "<ipython-input-15-36ac5e2afaff>:3: DtypeWarning: Columns (1,8,9,14,24,25,38) have mixed types. Specify dtype option on import or set low_memory=False.\n",
      "  floydNames = pd.read_csv(\"/shared/3/projects/benlitterer/podcastData/podcastIndex/floydSubset.csv\")\n"
     ]
    }
   ],
   "source": [
    "#what fraction did we miss? \n",
    "#load in the names we were looking for \n",
    "floydNames = pd.read_csv(\"/shared/3/projects/benlitterer/podcastData/podcastIndex/floydSubset.csv\")"
   ]
  },
  {
   "cell_type": "code",
   "execution_count": 18,
   "id": "c25f955d",
   "metadata": {},
   "outputs": [],
   "source": [
    "floydUrls = set(floydNames[\"url\"])"
   ]
  },
  {
   "cell_type": "code",
   "execution_count": 19,
   "id": "d30fe464",
   "metadata": {},
   "outputs": [],
   "source": [
    "gotUrls = set(df[\"url\"])"
   ]
  },
  {
   "cell_type": "code",
   "execution_count": 25,
   "id": "64234cd9",
   "metadata": {},
   "outputs": [],
   "source": [
    "missingUrls = set(list(floydUrls - gotUrls))"
   ]
  },
  {
   "cell_type": "code",
   "execution_count": 26,
   "id": "629a8b81",
   "metadata": {},
   "outputs": [
    {
     "data": {
      "text/plain": [
       "1085267"
      ]
     },
     "execution_count": 26,
     "metadata": {},
     "output_type": "execute_result"
    }
   ],
   "source": [
    "len(missingUrls)"
   ]
  },
  {
   "cell_type": "code",
   "execution_count": 27,
   "id": "2362272a",
   "metadata": {},
   "outputs": [
    {
     "data": {
      "text/plain": [
       "2115280"
      ]
     },
     "execution_count": 27,
     "metadata": {},
     "output_type": "execute_result"
    }
   ],
   "source": [
    "len(floydUrls)"
   ]
  },
  {
   "cell_type": "code",
   "execution_count": 30,
   "id": "2b64be7c",
   "metadata": {},
   "outputs": [],
   "source": [
    "#get a dataframe of the missing urls\n",
    "floydNames[\"retreived\"] = floydNames[\"url\"].apply(lambda x: x in missingUrls)"
   ]
  },
  {
   "cell_type": "code",
   "execution_count": 47,
   "id": "cb26c415",
   "metadata": {},
   "outputs": [],
   "source": [
    "missingRows = floydNames[floydNames[\"retreived\"]]"
   ]
  },
  {
   "cell_type": "code",
   "execution_count": 48,
   "id": "e4a76bdd",
   "metadata": {},
   "outputs": [
    {
     "data": {
      "text/html": [
       "<div>\n",
       "<style scoped>\n",
       "    .dataframe tbody tr th:only-of-type {\n",
       "        vertical-align: middle;\n",
       "    }\n",
       "\n",
       "    .dataframe tbody tr th {\n",
       "        vertical-align: top;\n",
       "    }\n",
       "\n",
       "    .dataframe thead th {\n",
       "        text-align: right;\n",
       "    }\n",
       "</style>\n",
       "<table border=\"1\" class=\"dataframe\">\n",
       "  <thead>\n",
       "    <tr style=\"text-align: right;\">\n",
       "      <th></th>\n",
       "      <th>Unnamed: 0.1</th>\n",
       "      <th>Unnamed: 0</th>\n",
       "      <th>id</th>\n",
       "      <th>url</th>\n",
       "      <th>title</th>\n",
       "      <th>lastUpdate</th>\n",
       "      <th>link</th>\n",
       "      <th>lastHttpStatus</th>\n",
       "      <th>dead</th>\n",
       "      <th>contentType</th>\n",
       "      <th>...</th>\n",
       "      <th>category4</th>\n",
       "      <th>category5</th>\n",
       "      <th>category6</th>\n",
       "      <th>category7</th>\n",
       "      <th>category8</th>\n",
       "      <th>category9</th>\n",
       "      <th>category10</th>\n",
       "      <th>newestEnclosureDuration</th>\n",
       "      <th>oldestItemDatetime</th>\n",
       "      <th>retreived</th>\n",
       "    </tr>\n",
       "  </thead>\n",
       "  <tbody>\n",
       "    <tr>\n",
       "      <th>0</th>\n",
       "      <td>0</td>\n",
       "      <td>0</td>\n",
       "      <td>1</td>\n",
       "      <td>https://markalanwilliams.libsyn.com/rss</td>\n",
       "      <td>Christianity Questions and Answers</td>\n",
       "      <td>1.697645e+09</td>\n",
       "      <td>http://markalanwilliams.libsyn.com/webpage</td>\n",
       "      <td>200.0</td>\n",
       "      <td>0</td>\n",
       "      <td>application/rss+xml; charset=utf-8</td>\n",
       "      <td>...</td>\n",
       "      <td>NaN</td>\n",
       "      <td>NaN</td>\n",
       "      <td>NaN</td>\n",
       "      <td>NaN</td>\n",
       "      <td>NaN</td>\n",
       "      <td>NaN</td>\n",
       "      <td>NaN</td>\n",
       "      <td>384.0</td>\n",
       "      <td>2015-05-28 18:25:32</td>\n",
       "      <td>True</td>\n",
       "    </tr>\n",
       "    <tr>\n",
       "      <th>1</th>\n",
       "      <td>1</td>\n",
       "      <td>1</td>\n",
       "      <td>2</td>\n",
       "      <td>https://anchor.fm/s/19ccb320/podcast/rss</td>\n",
       "      <td>Rahdo Talks Through</td>\n",
       "      <td>1.697797e+09</td>\n",
       "      <td>https://patreon.com/rahdo</td>\n",
       "      <td>200.0</td>\n",
       "      <td>0</td>\n",
       "      <td>application/rss+xml; charset=utf-8</td>\n",
       "      <td>...</td>\n",
       "      <td>NaN</td>\n",
       "      <td>NaN</td>\n",
       "      <td>NaN</td>\n",
       "      <td>NaN</td>\n",
       "      <td>NaN</td>\n",
       "      <td>NaN</td>\n",
       "      <td>NaN</td>\n",
       "      <td>4022.0</td>\n",
       "      <td>2015-05-31 03:00:00</td>\n",
       "      <td>True</td>\n",
       "    </tr>\n",
       "    <tr>\n",
       "      <th>2</th>\n",
       "      <td>2</td>\n",
       "      <td>2</td>\n",
       "      <td>4</td>\n",
       "      <td>https://feeds.soundcloud.com/users/soundcloud:...</td>\n",
       "      <td>IdiotSpeakShow</td>\n",
       "      <td>1.697837e+09</td>\n",
       "      <td>https://soundcloud.com/idiotspeakshow</td>\n",
       "      <td>200.0</td>\n",
       "      <td>0</td>\n",
       "      <td>application/rss+xml; charset=utf-8</td>\n",
       "      <td>...</td>\n",
       "      <td>NaN</td>\n",
       "      <td>NaN</td>\n",
       "      <td>NaN</td>\n",
       "      <td>NaN</td>\n",
       "      <td>NaN</td>\n",
       "      <td>NaN</td>\n",
       "      <td>NaN</td>\n",
       "      <td>2722.0</td>\n",
       "      <td>2015-05-22 23:33:24</td>\n",
       "      <td>True</td>\n",
       "    </tr>\n",
       "    <tr>\n",
       "      <th>3</th>\n",
       "      <td>3</td>\n",
       "      <td>3</td>\n",
       "      <td>5</td>\n",
       "      <td>https://audioboom.com/channels/4597972.rss</td>\n",
       "      <td>Conciertos en el Living</td>\n",
       "      <td>1.684350e+09</td>\n",
       "      <td>http://conciertosenelliving.com/podcast/</td>\n",
       "      <td>200.0</td>\n",
       "      <td>0</td>\n",
       "      <td>application/rss+xml; charset=utf-8</td>\n",
       "      <td>...</td>\n",
       "      <td>NaN</td>\n",
       "      <td>NaN</td>\n",
       "      <td>NaN</td>\n",
       "      <td>NaN</td>\n",
       "      <td>NaN</td>\n",
       "      <td>NaN</td>\n",
       "      <td>NaN</td>\n",
       "      <td>738.0</td>\n",
       "      <td>2015-04-08 22:26:52</td>\n",
       "      <td>True</td>\n",
       "    </tr>\n",
       "    <tr>\n",
       "      <th>5</th>\n",
       "      <td>5</td>\n",
       "      <td>5</td>\n",
       "      <td>7</td>\n",
       "      <td>http://feeds.feedburner.com/DirtBikePodcast</td>\n",
       "      <td>2017 U.S. Dirt Bike Events</td>\n",
       "      <td>1.697743e+09</td>\n",
       "      <td>http://www.usdualsports.com/feeds/posts/default</td>\n",
       "      <td>200.0</td>\n",
       "      <td>0</td>\n",
       "      <td>text/xml; charset=UTF-8</td>\n",
       "      <td>...</td>\n",
       "      <td>NaN</td>\n",
       "      <td>NaN</td>\n",
       "      <td>NaN</td>\n",
       "      <td>NaN</td>\n",
       "      <td>NaN</td>\n",
       "      <td>NaN</td>\n",
       "      <td>NaN</td>\n",
       "      <td>NaN</td>\n",
       "      <td>1970-01-01 00:00:00</td>\n",
       "      <td>True</td>\n",
       "    </tr>\n",
       "  </tbody>\n",
       "</table>\n",
       "<p>5 rows × 44 columns</p>\n",
       "</div>"
      ],
      "text/plain": [
       "   Unnamed: 0.1 Unnamed: 0  id  \\\n",
       "0             0          0   1   \n",
       "1             1          1   2   \n",
       "2             2          2   4   \n",
       "3             3          3   5   \n",
       "5             5          5   7   \n",
       "\n",
       "                                                 url  \\\n",
       "0            https://markalanwilliams.libsyn.com/rss   \n",
       "1           https://anchor.fm/s/19ccb320/podcast/rss   \n",
       "2  https://feeds.soundcloud.com/users/soundcloud:...   \n",
       "3         https://audioboom.com/channels/4597972.rss   \n",
       "5        http://feeds.feedburner.com/DirtBikePodcast   \n",
       "\n",
       "                                title    lastUpdate  \\\n",
       "0  Christianity Questions and Answers  1.697645e+09   \n",
       "1                 Rahdo Talks Through  1.697797e+09   \n",
       "2                      IdiotSpeakShow  1.697837e+09   \n",
       "3             Conciertos en el Living  1.684350e+09   \n",
       "5          2017 U.S. Dirt Bike Events  1.697743e+09   \n",
       "\n",
       "                                              link  lastHttpStatus dead  \\\n",
       "0       http://markalanwilliams.libsyn.com/webpage           200.0    0   \n",
       "1                        https://patreon.com/rahdo           200.0    0   \n",
       "2            https://soundcloud.com/idiotspeakshow           200.0    0   \n",
       "3         http://conciertosenelliving.com/podcast/           200.0    0   \n",
       "5  http://www.usdualsports.com/feeds/posts/default           200.0    0   \n",
       "\n",
       "                          contentType  ...  category4 category5 category6  \\\n",
       "0  application/rss+xml; charset=utf-8  ...        NaN       NaN       NaN   \n",
       "1  application/rss+xml; charset=utf-8  ...        NaN       NaN       NaN   \n",
       "2  application/rss+xml; charset=utf-8  ...        NaN       NaN       NaN   \n",
       "3  application/rss+xml; charset=utf-8  ...        NaN       NaN       NaN   \n",
       "5             text/xml; charset=UTF-8  ...        NaN       NaN       NaN   \n",
       "\n",
       "  category7 category8 category9 category10 newestEnclosureDuration  \\\n",
       "0       NaN       NaN       NaN        NaN                   384.0   \n",
       "1       NaN       NaN       NaN        NaN                  4022.0   \n",
       "2       NaN       NaN       NaN        NaN                  2722.0   \n",
       "3       NaN       NaN       NaN        NaN                   738.0   \n",
       "5       NaN       NaN       NaN        NaN                     NaN   \n",
       "\n",
       "    oldestItemDatetime retreived  \n",
       "0  2015-05-28 18:25:32      True  \n",
       "1  2015-05-31 03:00:00      True  \n",
       "2  2015-05-22 23:33:24      True  \n",
       "3  2015-04-08 22:26:52      True  \n",
       "5  1970-01-01 00:00:00      True  \n",
       "\n",
       "[5 rows x 44 columns]"
      ]
     },
     "execution_count": 48,
     "metadata": {},
     "output_type": "execute_result"
    }
   ],
   "source": [
    "missingRows.head()"
   ]
  },
  {
   "cell_type": "code",
   "execution_count": 40,
   "id": "c2ef7a3d",
   "metadata": {},
   "outputs": [
    {
     "data": {
      "text/plain": [
       "'http://www.usdualsports.com/feeds/posts/default'"
      ]
     },
     "execution_count": 40,
     "metadata": {},
     "output_type": "execute_result"
    }
   ],
   "source": [
    "missingRows.loc[5, \"link\"] "
   ]
  },
  {
   "cell_type": "code",
   "execution_count": 41,
   "id": "c0d2e53f",
   "metadata": {},
   "outputs": [
    {
     "data": {
      "text/plain": [
       "Index(['Unnamed: 0.1', 'Unnamed: 0', 'id', 'url', 'title', 'lastUpdate',\n",
       "       'link', 'lastHttpStatus', 'dead', 'contentType', 'itunesId',\n",
       "       'originalUrl', 'itunesAuthor', 'itunesOwnerName', 'explicit',\n",
       "       'imageUrl', 'itunesType', 'generator', 'newestItemPubdate', 'language',\n",
       "       'oldestItemPubdate', 'episodeCount', 'popularityScore', 'priority',\n",
       "       'createdOn', 'updateFrequency', 'chash', 'host', 'newestEnclosureUrl',\n",
       "       'podcastGuid', 'description', 'category1', 'category2', 'category3',\n",
       "       'category4', 'category5', 'category6', 'category7', 'category8',\n",
       "       'category9', 'category10', 'newestEnclosureDuration',\n",
       "       'oldestItemDatetime', 'retreived'],\n",
       "      dtype='object')"
      ]
     },
     "execution_count": 41,
     "metadata": {},
     "output_type": "execute_result"
    }
   ],
   "source": [
    "missingRows.columns"
   ]
  },
  {
   "cell_type": "code",
   "execution_count": 49,
   "id": "93af43a1",
   "metadata": {},
   "outputs": [
    {
     "name": "stderr",
     "output_type": "stream",
     "text": [
      "<ipython-input-49-4641db687a6c>:1: SettingWithCopyWarning: \n",
      "A value is trying to be set on a copy of a slice from a DataFrame.\n",
      "Try using .loc[row_indexer,col_indexer] = value instead\n",
      "\n",
      "See the caveats in the documentation: https://pandas.pydata.org/pandas-docs/stable/user_guide/indexing.html#returning-a-view-versus-a-copy\n",
      "  missingRows[\"lastUpdate\"] = pd.to_datetime(missingRows[\"lastUpdate\"], unit=\"s\")\n"
     ]
    }
   ],
   "source": [
    "missingRows[\"lastUpdate\"] = pd.to_datetime(missingRows[\"lastUpdate\"], unit=\"s\")"
   ]
  },
  {
   "cell_type": "code",
   "execution_count": 50,
   "id": "81e73b76",
   "metadata": {},
   "outputs": [
    {
     "data": {
      "text/plain": [
       "<Axes: xlabel='lastUpdate', ylabel='Count'>"
      ]
     },
     "execution_count": 50,
     "metadata": {},
     "output_type": "execute_result"
    },
    {
     "data": {
      "image/png": "[encoded data removed]",
      "text/plain": [
       "<Figure size 432x288 with 1 Axes>"
      ]
     },
     "metadata": {
      "needs_background": "light"
     },
     "output_type": "display_data"
    }
   ],
   "source": [
    "sns.histplot(data=missingRows, x=\"lastUpdate\")"
   ]
  },
  {
   "cell_type": "code",
   "execution_count": 53,
   "id": "b65f690b",
   "metadata": {},
   "outputs": [
    {
     "data": {
      "text/plain": [
       "0                    https://markalanwilliams.libsyn.com/rss\n",
       "1                   https://anchor.fm/s/19ccb320/podcast/rss\n",
       "2          http://feeds.soundcloud.com/users/soundcloud:u...\n",
       "3                 https://audioboom.com/channels/4597972.rss\n",
       "5                http://feeds.feedburner.com/DirtBikePodcast\n",
       "                                 ...                        \n",
       "2099833    https://feeds.soundcloud.com/users/soundcloud:...\n",
       "2099842    https://feeds.soundcloud.com/users/soundcloud:...\n",
       "2099858    https://feeds.soundcloud.com/users/soundcloud:...\n",
       "2099873    https://elmad.pardes.org/topic/tanakh/torah/de...\n",
       "2099874    https://feeds.soundcloud.com/playlists/soundcl...\n",
       "Name: originalUrl, Length: 1085267, dtype: object"
      ]
     },
     "execution_count": 53,
     "metadata": {},
     "output_type": "execute_result"
    }
   ],
   "source": [
    "missingRows[\"originalUrl\"]"
   ]
  },
  {
   "cell_type": "code",
   "execution_count": 56,
   "id": "df8104e7",
   "metadata": {},
   "outputs": [
    {
     "name": "stderr",
     "output_type": "stream",
     "text": [
      "<ipython-input-56-e34afafbf5d5>:1: SettingWithCopyWarning: \n",
      "A value is trying to be set on a copy of a slice from a DataFrame.\n",
      "Try using .loc[row_indexer,col_indexer] = value instead\n",
      "\n",
      "See the caveats in the documentation: https://pandas.pydata.org/pandas-docs/stable/user_guide/indexing.html#returning-a-view-versus-a-copy\n",
      "  missingRows[\"isRss\"] = missingRows[\"url\"].apply(lambda x: \"rss\" in x)\n"
     ]
    },
    {
     "data": {
      "text/html": [
       "<div>\n",
       "<style scoped>\n",
       "    .dataframe tbody tr th:only-of-type {\n",
       "        vertical-align: middle;\n",
       "    }\n",
       "\n",
       "    .dataframe tbody tr th {\n",
       "        vertical-align: top;\n",
       "    }\n",
       "\n",
       "    .dataframe thead th {\n",
       "        text-align: right;\n",
       "    }\n",
       "</style>\n",
       "<table border=\"1\" class=\"dataframe\">\n",
       "  <thead>\n",
       "    <tr style=\"text-align: right;\">\n",
       "      <th></th>\n",
       "      <th>Unnamed: 0.1</th>\n",
       "      <th>Unnamed: 0</th>\n",
       "      <th>id</th>\n",
       "      <th>url</th>\n",
       "      <th>title</th>\n",
       "      <th>lastUpdate</th>\n",
       "      <th>link</th>\n",
       "      <th>lastHttpStatus</th>\n",
       "      <th>dead</th>\n",
       "      <th>contentType</th>\n",
       "      <th>...</th>\n",
       "      <th>category5</th>\n",
       "      <th>category6</th>\n",
       "      <th>category7</th>\n",
       "      <th>category8</th>\n",
       "      <th>category9</th>\n",
       "      <th>category10</th>\n",
       "      <th>newestEnclosureDuration</th>\n",
       "      <th>oldestItemDatetime</th>\n",
       "      <th>retreived</th>\n",
       "      <th>isRss</th>\n",
       "    </tr>\n",
       "  </thead>\n",
       "  <tbody>\n",
       "    <tr>\n",
       "      <th>0</th>\n",
       "      <td>0</td>\n",
       "      <td>0</td>\n",
       "      <td>1</td>\n",
       "      <td>https://markalanwilliams.libsyn.com/rss</td>\n",
       "      <td>Christianity Questions and Answers</td>\n",
       "      <td>2023-10-18 16:05:34</td>\n",
       "      <td>http://markalanwilliams.libsyn.com/webpage</td>\n",
       "      <td>200.0</td>\n",
       "      <td>0</td>\n",
       "      <td>application/rss+xml; charset=utf-8</td>\n",
       "      <td>...</td>\n",
       "      <td>NaN</td>\n",
       "      <td>NaN</td>\n",
       "      <td>NaN</td>\n",
       "      <td>NaN</td>\n",
       "      <td>NaN</td>\n",
       "      <td>NaN</td>\n",
       "      <td>384.0</td>\n",
       "      <td>2015-05-28 18:25:32</td>\n",
       "      <td>True</td>\n",
       "      <td>True</td>\n",
       "    </tr>\n",
       "    <tr>\n",
       "      <th>1</th>\n",
       "      <td>1</td>\n",
       "      <td>1</td>\n",
       "      <td>2</td>\n",
       "      <td>https://anchor.fm/s/19ccb320/podcast/rss</td>\n",
       "      <td>Rahdo Talks Through</td>\n",
       "      <td>2023-10-20 10:11:31</td>\n",
       "      <td>https://patreon.com/rahdo</td>\n",
       "      <td>200.0</td>\n",
       "      <td>0</td>\n",
       "      <td>application/rss+xml; charset=utf-8</td>\n",
       "      <td>...</td>\n",
       "      <td>NaN</td>\n",
       "      <td>NaN</td>\n",
       "      <td>NaN</td>\n",
       "      <td>NaN</td>\n",
       "      <td>NaN</td>\n",
       "      <td>NaN</td>\n",
       "      <td>4022.0</td>\n",
       "      <td>2015-05-31 03:00:00</td>\n",
       "      <td>True</td>\n",
       "      <td>True</td>\n",
       "    </tr>\n",
       "    <tr>\n",
       "      <th>2</th>\n",
       "      <td>2</td>\n",
       "      <td>2</td>\n",
       "      <td>4</td>\n",
       "      <td>https://feeds.soundcloud.com/users/soundcloud:...</td>\n",
       "      <td>IdiotSpeakShow</td>\n",
       "      <td>2023-10-20 21:17:24</td>\n",
       "      <td>https://soundcloud.com/idiotspeakshow</td>\n",
       "      <td>200.0</td>\n",
       "      <td>0</td>\n",
       "      <td>application/rss+xml; charset=utf-8</td>\n",
       "      <td>...</td>\n",
       "      <td>NaN</td>\n",
       "      <td>NaN</td>\n",
       "      <td>NaN</td>\n",
       "      <td>NaN</td>\n",
       "      <td>NaN</td>\n",
       "      <td>NaN</td>\n",
       "      <td>2722.0</td>\n",
       "      <td>2015-05-22 23:33:24</td>\n",
       "      <td>True</td>\n",
       "      <td>True</td>\n",
       "    </tr>\n",
       "    <tr>\n",
       "      <th>3</th>\n",
       "      <td>3</td>\n",
       "      <td>3</td>\n",
       "      <td>5</td>\n",
       "      <td>https://audioboom.com/channels/4597972.rss</td>\n",
       "      <td>Conciertos en el Living</td>\n",
       "      <td>2023-05-17 18:54:14</td>\n",
       "      <td>http://conciertosenelliving.com/podcast/</td>\n",
       "      <td>200.0</td>\n",
       "      <td>0</td>\n",
       "      <td>application/rss+xml; charset=utf-8</td>\n",
       "      <td>...</td>\n",
       "      <td>NaN</td>\n",
       "      <td>NaN</td>\n",
       "      <td>NaN</td>\n",
       "      <td>NaN</td>\n",
       "      <td>NaN</td>\n",
       "      <td>NaN</td>\n",
       "      <td>738.0</td>\n",
       "      <td>2015-04-08 22:26:52</td>\n",
       "      <td>True</td>\n",
       "      <td>True</td>\n",
       "    </tr>\n",
       "    <tr>\n",
       "      <th>6</th>\n",
       "      <td>6</td>\n",
       "      <td>6</td>\n",
       "      <td>8</td>\n",
       "      <td>https://anchor.fm/s/28f184c/podcast/rss</td>\n",
       "      <td>RNG Show</td>\n",
       "      <td>2023-10-13 10:43:18</td>\n",
       "      <td>https://podcasters.spotify.com/pod/show/rngshow</td>\n",
       "      <td>200.0</td>\n",
       "      <td>0</td>\n",
       "      <td>application/rss+xml; charset=utf-8</td>\n",
       "      <td>...</td>\n",
       "      <td>NaN</td>\n",
       "      <td>NaN</td>\n",
       "      <td>NaN</td>\n",
       "      <td>NaN</td>\n",
       "      <td>NaN</td>\n",
       "      <td>NaN</td>\n",
       "      <td>3777.0</td>\n",
       "      <td>2018-01-28 00:00:00</td>\n",
       "      <td>True</td>\n",
       "      <td>True</td>\n",
       "    </tr>\n",
       "    <tr>\n",
       "      <th>...</th>\n",
       "      <td>...</td>\n",
       "      <td>...</td>\n",
       "      <td>...</td>\n",
       "      <td>...</td>\n",
       "      <td>...</td>\n",
       "      <td>...</td>\n",
       "      <td>...</td>\n",
       "      <td>...</td>\n",
       "      <td>...</td>\n",
       "      <td>...</td>\n",
       "      <td>...</td>\n",
       "      <td>...</td>\n",
       "      <td>...</td>\n",
       "      <td>...</td>\n",
       "      <td>...</td>\n",
       "      <td>...</td>\n",
       "      <td>...</td>\n",
       "      <td>...</td>\n",
       "      <td>...</td>\n",
       "      <td>...</td>\n",
       "      <td>...</td>\n",
       "    </tr>\n",
       "    <tr>\n",
       "      <th>2099821</th>\n",
       "      <td>4167944</td>\n",
       "      <td>4165280</td>\n",
       "      <td>6564420</td>\n",
       "      <td>https://feeds.soundcloud.com/users/soundcloud:...</td>\n",
       "      <td>Steve_Bell</td>\n",
       "      <td>2023-08-07 13:06:27</td>\n",
       "      <td>http://stevebell.com</td>\n",
       "      <td>200.0</td>\n",
       "      <td>0</td>\n",
       "      <td>NaN</td>\n",
       "      <td>...</td>\n",
       "      <td>NaN</td>\n",
       "      <td>NaN</td>\n",
       "      <td>NaN</td>\n",
       "      <td>NaN</td>\n",
       "      <td>NaN</td>\n",
       "      <td>NaN</td>\n",
       "      <td>185.0</td>\n",
       "      <td>1992-11-15 00:00:00</td>\n",
       "      <td>True</td>\n",
       "      <td>True</td>\n",
       "    </tr>\n",
       "    <tr>\n",
       "      <th>2099833</th>\n",
       "      <td>4168029</td>\n",
       "      <td>4165365</td>\n",
       "      <td>6564529</td>\n",
       "      <td>https://feeds.soundcloud.com/users/soundcloud:...</td>\n",
       "      <td>Hyeryeong Jang</td>\n",
       "      <td>2023-08-07 14:45:18</td>\n",
       "      <td>http://420books.tistory.com</td>\n",
       "      <td>200.0</td>\n",
       "      <td>0</td>\n",
       "      <td>NaN</td>\n",
       "      <td>...</td>\n",
       "      <td>NaN</td>\n",
       "      <td>NaN</td>\n",
       "      <td>NaN</td>\n",
       "      <td>NaN</td>\n",
       "      <td>NaN</td>\n",
       "      <td>NaN</td>\n",
       "      <td>628.0</td>\n",
       "      <td>2016-05-01 06:36:39</td>\n",
       "      <td>True</td>\n",
       "      <td>True</td>\n",
       "    </tr>\n",
       "    <tr>\n",
       "      <th>2099842</th>\n",
       "      <td>4168114</td>\n",
       "      <td>4165450</td>\n",
       "      <td>6564632</td>\n",
       "      <td>https://feeds.soundcloud.com/users/soundcloud:...</td>\n",
       "      <td>#PLAYMRVL Playlists</td>\n",
       "      <td>2023-08-30 12:25:42</td>\n",
       "      <td>http://unitedmasters.com/simz-mrvl</td>\n",
       "      <td>200.0</td>\n",
       "      <td>0</td>\n",
       "      <td>NaN</td>\n",
       "      <td>...</td>\n",
       "      <td>NaN</td>\n",
       "      <td>NaN</td>\n",
       "      <td>NaN</td>\n",
       "      <td>NaN</td>\n",
       "      <td>NaN</td>\n",
       "      <td>NaN</td>\n",
       "      <td>187.0</td>\n",
       "      <td>2020-04-02 19:27:34</td>\n",
       "      <td>True</td>\n",
       "      <td>True</td>\n",
       "    </tr>\n",
       "    <tr>\n",
       "      <th>2099858</th>\n",
       "      <td>4168230</td>\n",
       "      <td>4165566</td>\n",
       "      <td>6564783</td>\n",
       "      <td>https://feeds.soundcloud.com/users/soundcloud:...</td>\n",
       "      <td>Storytelling broadcast</td>\n",
       "      <td>2023-08-07 18:39:41</td>\n",
       "      <td>https://soundcloud.com/orlandofriasg</td>\n",
       "      <td>200.0</td>\n",
       "      <td>0</td>\n",
       "      <td>NaN</td>\n",
       "      <td>...</td>\n",
       "      <td>NaN</td>\n",
       "      <td>NaN</td>\n",
       "      <td>NaN</td>\n",
       "      <td>NaN</td>\n",
       "      <td>NaN</td>\n",
       "      <td>NaN</td>\n",
       "      <td>3885.0</td>\n",
       "      <td>2015-03-19 06:31:25</td>\n",
       "      <td>True</td>\n",
       "      <td>True</td>\n",
       "    </tr>\n",
       "    <tr>\n",
       "      <th>2099874</th>\n",
       "      <td>4168304</td>\n",
       "      <td>4165640</td>\n",
       "      <td>6564877</td>\n",
       "      <td>https://feeds.soundcloud.com/playlists/soundcl...</td>\n",
       "      <td>FPM</td>\n",
       "      <td>2023-08-07 20:21:55</td>\n",
       "      <td>https://soundcloud.com/stevedemott/sets/fpm-1</td>\n",
       "      <td>200.0</td>\n",
       "      <td>0</td>\n",
       "      <td>NaN</td>\n",
       "      <td>...</td>\n",
       "      <td>NaN</td>\n",
       "      <td>NaN</td>\n",
       "      <td>NaN</td>\n",
       "      <td>NaN</td>\n",
       "      <td>NaN</td>\n",
       "      <td>NaN</td>\n",
       "      <td>130.0</td>\n",
       "      <td>2018-02-13 21:24:00</td>\n",
       "      <td>True</td>\n",
       "      <td>True</td>\n",
       "    </tr>\n",
       "  </tbody>\n",
       "</table>\n",
       "<p>677390 rows × 45 columns</p>\n",
       "</div>"
      ],
      "text/plain": [
       "         Unnamed: 0.1 Unnamed: 0       id  \\\n",
       "0                   0          0        1   \n",
       "1                   1          1        2   \n",
       "2                   2          2        4   \n",
       "3                   3          3        5   \n",
       "6                   6          6        8   \n",
       "...               ...        ...      ...   \n",
       "2099821       4167944    4165280  6564420   \n",
       "2099833       4168029    4165365  6564529   \n",
       "2099842       4168114    4165450  6564632   \n",
       "2099858       4168230    4165566  6564783   \n",
       "2099874       4168304    4165640  6564877   \n",
       "\n",
       "                                                       url  \\\n",
       "0                  https://markalanwilliams.libsyn.com/rss   \n",
       "1                 https://anchor.fm/s/19ccb320/podcast/rss   \n",
       "2        https://feeds.soundcloud.com/users/soundcloud:...   \n",
       "3               https://audioboom.com/channels/4597972.rss   \n",
       "6                  https://anchor.fm/s/28f184c/podcast/rss   \n",
       "...                                                    ...   \n",
       "2099821  https://feeds.soundcloud.com/users/soundcloud:...   \n",
       "2099833  https://feeds.soundcloud.com/users/soundcloud:...   \n",
       "2099842  https://feeds.soundcloud.com/users/soundcloud:...   \n",
       "2099858  https://feeds.soundcloud.com/users/soundcloud:...   \n",
       "2099874  https://feeds.soundcloud.com/playlists/soundcl...   \n",
       "\n",
       "                                      title          lastUpdate  \\\n",
       "0        Christianity Questions and Answers 2023-10-18 16:05:34   \n",
       "1                       Rahdo Talks Through 2023-10-20 10:11:31   \n",
       "2                            IdiotSpeakShow 2023-10-20 21:17:24   \n",
       "3                   Conciertos en el Living 2023-05-17 18:54:14   \n",
       "6                                  RNG Show 2023-10-13 10:43:18   \n",
       "...                                     ...                 ...   \n",
       "2099821                          Steve_Bell 2023-08-07 13:06:27   \n",
       "2099833                      Hyeryeong Jang 2023-08-07 14:45:18   \n",
       "2099842                 #PLAYMRVL Playlists 2023-08-30 12:25:42   \n",
       "2099858              Storytelling broadcast 2023-08-07 18:39:41   \n",
       "2099874                                 FPM 2023-08-07 20:21:55   \n",
       "\n",
       "                                                    link  lastHttpStatus dead  \\\n",
       "0             http://markalanwilliams.libsyn.com/webpage           200.0    0   \n",
       "1                              https://patreon.com/rahdo           200.0    0   \n",
       "2                  https://soundcloud.com/idiotspeakshow           200.0    0   \n",
       "3               http://conciertosenelliving.com/podcast/           200.0    0   \n",
       "6        https://podcasters.spotify.com/pod/show/rngshow           200.0    0   \n",
       "...                                                  ...             ...  ...   \n",
       "2099821                             http://stevebell.com           200.0    0   \n",
       "2099833                      http://420books.tistory.com           200.0    0   \n",
       "2099842               http://unitedmasters.com/simz-mrvl           200.0    0   \n",
       "2099858             https://soundcloud.com/orlandofriasg           200.0    0   \n",
       "2099874    https://soundcloud.com/stevedemott/sets/fpm-1           200.0    0   \n",
       "\n",
       "                                contentType  ...  category5 category6  \\\n",
       "0        application/rss+xml; charset=utf-8  ...        NaN       NaN   \n",
       "1        application/rss+xml; charset=utf-8  ...        NaN       NaN   \n",
       "2        application/rss+xml; charset=utf-8  ...        NaN       NaN   \n",
       "3        application/rss+xml; charset=utf-8  ...        NaN       NaN   \n",
       "6        application/rss+xml; charset=utf-8  ...        NaN       NaN   \n",
       "...                                     ...  ...        ...       ...   \n",
       "2099821                                 NaN  ...        NaN       NaN   \n",
       "2099833                                 NaN  ...        NaN       NaN   \n",
       "2099842                                 NaN  ...        NaN       NaN   \n",
       "2099858                                 NaN  ...        NaN       NaN   \n",
       "2099874                                 NaN  ...        NaN       NaN   \n",
       "\n",
       "        category7 category8 category9 category10 newestEnclosureDuration  \\\n",
       "0             NaN       NaN       NaN        NaN                   384.0   \n",
       "1             NaN       NaN       NaN        NaN                  4022.0   \n",
       "2             NaN       NaN       NaN        NaN                  2722.0   \n",
       "3             NaN       NaN       NaN        NaN                   738.0   \n",
       "6             NaN       NaN       NaN        NaN                  3777.0   \n",
       "...           ...       ...       ...        ...                     ...   \n",
       "2099821       NaN       NaN       NaN        NaN                   185.0   \n",
       "2099833       NaN       NaN       NaN        NaN                   628.0   \n",
       "2099842       NaN       NaN       NaN        NaN                   187.0   \n",
       "2099858       NaN       NaN       NaN        NaN                  3885.0   \n",
       "2099874       NaN       NaN       NaN        NaN                   130.0   \n",
       "\n",
       "          oldestItemDatetime  retreived isRss  \n",
       "0        2015-05-28 18:25:32       True  True  \n",
       "1        2015-05-31 03:00:00       True  True  \n",
       "2        2015-05-22 23:33:24       True  True  \n",
       "3        2015-04-08 22:26:52       True  True  \n",
       "6        2018-01-28 00:00:00       True  True  \n",
       "...                      ...        ...   ...  \n",
       "2099821  1992-11-15 00:00:00       True  True  \n",
       "2099833  2016-05-01 06:36:39       True  True  \n",
       "2099842  2020-04-02 19:27:34       True  True  \n",
       "2099858  2015-03-19 06:31:25       True  True  \n",
       "2099874  2018-02-13 21:24:00       True  True  \n",
       "\n",
       "[677390 rows x 45 columns]"
      ]
     },
     "execution_count": 56,
     "metadata": {},
     "output_type": "execute_result"
    }
   ],
   "source": [
    "#ok so roughly a quarter aren't rss feeds \n",
    "missingRows[\"isRss\"] = missingRows[\"url\"].apply(lambda x: \"rss\" in x)\n",
    "missingRows[missingRows[\"isRss\"]]"
   ]
  },
  {
   "cell_type": "code",
   "execution_count": 63,
   "id": "12416b9d",
   "metadata": {},
   "outputs": [
    {
     "data": {
      "text/plain": [
       "0           90.0\n",
       "1          411.0\n",
       "2            2.0\n",
       "3           19.0\n",
       "5            1.0\n",
       "           ...  \n",
       "2099833      5.0\n",
       "2099842      6.0\n",
       "2099858      2.0\n",
       "2099873      6.0\n",
       "2099874      3.0\n",
       "Name: episodeCount, Length: 1085267, dtype: float64"
      ]
     },
     "execution_count": 63,
     "metadata": {},
     "output_type": "execute_result"
    }
   ],
   "source": [
    "missingRows[\"episodeCount\"]"
   ]
  },
  {
   "cell_type": "code",
   "execution_count": null,
   "id": "03a580e0",
   "metadata": {},
   "outputs": [],
   "source": []
  }
 ],
 "metadata": {
  "kernelspec": {
   "display_name": "Python 3 (ipykernel)",
   "language": "python",
   "name": "python3"
  },
  "language_info": {
   "codemirror_mode": {
    "name": "ipython",
    "version": 3
   },
   "file_extension": ".py",
   "mimetype": "text/x-python",
   "name": "python",
   "nbconvert_exporter": "python",
   "pygments_lexer": "ipython3",
   "version": "3.11.5"
  }
 },
 "nbformat": 4,
 "nbformat_minor": 5
}
