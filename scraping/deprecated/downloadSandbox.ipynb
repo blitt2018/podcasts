{
 "cells": [
  {
   "cell_type": "code",
   "execution_count": null,
   "metadata": {},
   "outputs": [],
   "source": [
    "from bs4 import BeautifulSoup\n",
    "import requests as req\n",
    "from tqdm import tqdm \n",
    "import time\n",
    "import pandas as pd\n",
    "import random"
   ]
  },
  {
   "cell_type": "code",
   "execution_count": null,
   "metadata": {},
   "outputs": [],
   "source": [
    "print(\"hello world\")"
   ]
  },
  {
   "cell_type": "code",
   "execution_count": null,
   "metadata": {},
   "outputs": [],
   "source": [
    "BASE_URL = \"https://podcastaddict.com/\""
   ]
  },
  {
   "cell_type": "code",
   "execution_count": null,
   "metadata": {},
   "outputs": [],
   "source": [
    "#load in a large dataframe with names of podcasts to download \n",
    "IN_PATH = \"/shared/3/projects/benlitterer/podcastData/podNames/spotifySnowball50k.csv\"\n",
    "df = pd.read_csv(IN_PATH, index_col=\"Unnamed: 0\")\n",
    "df = df.sort_values(\"total_episodes\", ascending=False)"
   ]
  },
  {
   "cell_type": "code",
   "execution_count": 127,
   "metadata": {},
   "outputs": [],
   "source": [
    "def getPod(searchText): \n",
    "    #reformat the search text and make request \n",
    "    searchText = searchText.replace(\" \", \"+\")\n",
    "    searchResponse = req.get(BASE_URL + \"?q=\" + searchText).text\n",
    "    \n",
    "    print(BASE_URL + \"?q=\" + searchText)\n",
    "    #make soup from hits \n",
    "    hitsSoup = BeautifulSoup(searchResponse)\n",
    "    \n",
    "    #TODO: take care of case when we get no hits or not the right one\n",
    "    \n",
    "    #grab the first hit\n",
    "    hitsSoup = hitsSoup.find_all(\"a\", class_=\"clickeableItemRow\")\n",
    "    links = [hit.get(\"href\") for hit in hitsSoup]\n",
    "\n",
    "    #only proceed if we got some hits \n",
    "    if len(links) > 0: \n",
    "        #go to the website for the first hit\n",
    "        fpSite = req.get(links[0]).text\n",
    "        fpSite = BeautifulSoup(fpSite)\n",
    "        fpHead = fpSite.head\n",
    "\n",
    "        #get name from website page\n",
    "        fpName = fpSite.find(\"div\", class_=\"caption\", itemprop=\"name\").get_text()\n",
    "\n",
    "        #TODO: make sure that the first hit has a very similar title to what we searched \n",
    "        #after normalizing the text \n",
    "\n",
    "        #we can't be positive that this will always be the type of the link \n",
    "        fpRss = fpHead.find(\"link\", type=\"application/rss+xml\").get(\"href\")\n",
    "\n",
    "        #get the xml for the rss feed \n",
    "        rssText = req.get(fpRss).text\n",
    "\n",
    "        #pare the xml \n",
    "        rssSoup = BeautifulSoup(rssText, features=\"xml\")\n",
    "\n",
    "        #get all of the episode links from the xml \n",
    "        epLinks = [enclosure.get(\"url\") for enclosure in rssSoup.find_all(\"enclosure\")]\n",
    "\n",
    "        return fpName, epLinks\n",
    "    else: \n",
    "        return None, []"
   ]
  },
  {
   "cell_type": "code",
   "execution_count": 128,
   "metadata": {},
   "outputs": [],
   "source": [
    "#load in a large dataframe with names of podcasts to download \n",
    "IN_PATH = \"/shared/3/projects/benlitterer/podcastData/podNames/spotifySnowball50k.csv\"\n",
    "df = pd.read_csv(IN_PATH, index_col=\"Unnamed: 0\")\n",
    "df = df.sort_values(\"total_episodes\", ascending=False)"
   ]
  },
  {
   "cell_type": "code",
   "execution_count": 129,
   "metadata": {},
   "outputs": [],
   "source": [
    "searchText =  \"THE HUGE SHOW\"\n",
    "searchText = searchText.replace(\" \", \"+\")\n",
    "\n",
    "searchResponse = req.get(\"https://podcastaddict.com/?q=THE+HUGE+SHOW\")\n",
    "\n",
    "#make soup from hits \n",
    "hitsSoup = BeautifulSoup(searchResponse.text)"
   ]
  },
  {
   "cell_type": "code",
   "execution_count": 130,
   "metadata": {},
   "outputs": [
    {
     "data": {
      "text/plain": [
       "404"
      ]
     },
     "execution_count": 130,
     "metadata": {},
     "output_type": "execute_result"
    }
   ],
   "source": [
    "searchResponse.status_code"
   ]
  },
  {
   "cell_type": "code",
   "execution_count": 94,
   "metadata": {},
   "outputs": [
    {
     "data": {
      "text/plain": [
       "'<!DOCTYPE html>\\n<html lang=\"en\">\\n<link rel=\"icon\" type=\"image/png\" href=\"/res/images/favicon-32x32.png\" />\\n<meta charset=\"UTF-8\">\\n<html lang=\"en\">\\n<link rel=\"icon\" type=\"image/png\" href=\"/res/images/favicon-32x32.png\" />\\n<meta http-equiv=\"content-type\" content=\"text/html; charset=utf-8\" />\\n<head>\\n<title>Ooops!</title>\\n<meta name=\"viewport\" content=\"width=device-width, initial-scale=1.0, maximum-scale=1.0\" />\\n<link rel=\"stylesheet\" href=\"https://stackpath.bootstrapcdn.com/bootstrap/4.5.0/css/bootstrap.min.css\" integrity=\"sha384-9aIt2nRpC12Uk9gS9baDl411NQApFmC26EwAOH8WgZl5MYYxFfc+NcPb1dKGj7Sk\" crossorigin=\"anonymous\">\\n<script src=\"https://code.jquery.com/jquery-3.5.1.slim.min.js\" integrity=\"sha384-DfXdz2htPH0lsSSs5nCTpuj/zy4C+OGpamoFVy38MVBnE+IbbVYUew+OrCXaRkfj\" crossorigin=\"anonymous\"></script>\\n<script src=\"https://stackpath.bootstrapcdn.com/bootstrap/4.5.0/js/bootstrap.min.js\" integrity=\"sha384-OgVRvuATP1z7JjHLkuOU7Xw704+h835Lr+6QL9UvYjZE3Ipu6Tp75j7Bh/kR0JKI\" crossorigin=\"anonymous\"></script>\\n<script async src=\"https://pagead2.googlesyndication.com/pagead/js/adsbygoogle.js\"></script>\\n<link rel=\"stylesheet\" href=\"//maxcdn.bootstrapcdn.com/font-awesome/4.7.0/css/font-awesome.min.css\">\\n<link href=\"//fonts.googleapis.com/css?family=Open+Sans:400,300,700\" rel=\"stylesheet\" type=\"text/css\">\\n<link rel=\"stylesheet\" href=\"/css/style.css\">\\n<script type=\"text/javascript\" src=\"\\' . $pathPrefix . \\'/js/main.js?v=1.0m\"></script>\\n<style type=\"text/css\">\\r\\n\\t\\t#container404 {\\r\\n\\t\\t\\ttext-align:center;\\r\\n\\t\\t\\tmax-width:800px;\\r\\n\\t\\t\\twidth:80%;\\r\\n\\t\\t\\tmargin-top:5%;\\r\\n\\t\\t\\tmargin-bottom:5%;\\r\\n\\t\\t\\tmargin-left:auto;\\r\\n\\t\\t\\tmargin-right:auto;\\t\\t\\t\\r\\n\\t\\t\\tfont-family: concourse_t3, Helvetica, sans-serif;\\r\\n\\t\\t\\tline-height:150%;\\r\\n\\t\\t\\tcolor:gray;\\r\\n\\t\\t}\\r\\n\\r\\n\\t</style>\\n</head>\\n<body>\\n<div id=\"container404\"><img width=\"164\" height=\"164\" src=\"/res/images/logo.svg\" />\\n<h1>404</h1>\\n<p>This is not the podcast you are looking for...</p>\\n</div>\\n</body>\\n</html>'"
      ]
     },
     "execution_count": 94,
     "metadata": {},
     "output_type": "execute_result"
    }
   ],
   "source": [
    "searchResponse"
   ]
  },
  {
   "cell_type": "code",
   "execution_count": 106,
   "metadata": {},
   "outputs": [
    {
     "name": "stderr",
     "output_type": "stream",
     "text": [
      "  0%|          | 0/3 [00:00<?, ?it/s]"
     ]
    },
    {
     "name": "stdout",
     "output_type": "stream",
     "text": [
      "https://podcastaddict.com/?q=THE+HUGE+SHOW\n"
     ]
    },
    {
     "name": "stderr",
     "output_type": "stream",
     "text": [
      " 33%|███▎      | 1/3 [00:00<00:01,  1.04it/s]"
     ]
    },
    {
     "name": "stdout",
     "output_type": "stream",
     "text": [
      "https://podcastaddict.com/?q=Best+of+The+Steve+Harvey+Morning+Show\n"
     ]
    },
    {
     "name": "stderr",
     "output_type": "stream",
     "text": [
      " 67%|██████▋   | 2/3 [00:01<00:00,  1.10it/s]"
     ]
    },
    {
     "name": "stdout",
     "output_type": "stream",
     "text": [
      "https://podcastaddict.com/?q=The+Ben+Maller+Show\n"
     ]
    },
    {
     "name": "stderr",
     "output_type": "stream",
     "text": [
      "100%|██████████| 3/3 [00:02<00:00,  1.20it/s]\n"
     ]
    }
   ],
   "source": [
    "searchPhrases = list(df[\"name\"].head(3))\n",
    "\n",
    "podRows = []\n",
    "\n",
    "for search in tqdm(searchPhrases): \n",
    "    sResult, links = getPod(search)\n",
    "    podLinks[show] = links\n",
    "    \n",
    "    currRow = [[search, sResult, link] for link in links]\n",
    "    \n",
    "    podRows = podRows + currRow\n",
    "    \n",
    "    #in case of rate limit? \n",
    "    #sleep for random time between 0-1 seconds \n",
    "    time.sleep(random.random())"
   ]
  },
  {
   "cell_type": "code",
   "execution_count": 100,
   "metadata": {},
   "outputs": [],
   "source": [
    "linkDf = pd.DataFrame(podRows, columns=[\"search\", \"result\", \"link\"])"
   ]
  },
  {
   "cell_type": "code",
   "execution_count": 101,
   "metadata": {},
   "outputs": [
    {
     "data": {
      "text/plain": [
       "(0, 3)"
      ]
     },
     "execution_count": 101,
     "metadata": {},
     "output_type": "execute_result"
    }
   ],
   "source": [
    "linkDf.shape"
   ]
  },
  {
   "cell_type": "code",
   "execution_count": 102,
   "metadata": {},
   "outputs": [
    {
     "data": {
      "text/html": [
       "<div>\n",
       "<style scoped>\n",
       "    .dataframe tbody tr th:only-of-type {\n",
       "        vertical-align: middle;\n",
       "    }\n",
       "\n",
       "    .dataframe tbody tr th {\n",
       "        vertical-align: top;\n",
       "    }\n",
       "\n",
       "    .dataframe thead th {\n",
       "        text-align: right;\n",
       "    }\n",
       "</style>\n",
       "<table border=\"1\" class=\"dataframe\">\n",
       "  <thead>\n",
       "    <tr style=\"text-align: right;\">\n",
       "      <th></th>\n",
       "      <th>search</th>\n",
       "      <th>result</th>\n",
       "      <th>link</th>\n",
       "    </tr>\n",
       "  </thead>\n",
       "  <tbody>\n",
       "  </tbody>\n",
       "</table>\n",
       "</div>"
      ],
      "text/plain": [
       "Empty DataFrame\n",
       "Columns: [search, result, link]\n",
       "Index: []"
      ]
     },
     "execution_count": 102,
     "metadata": {},
     "output_type": "execute_result"
    }
   ],
   "source": [
    "linkDf[linkDf[\"search\"] != linkDf[\"result\"]]"
   ]
  },
  {
   "cell_type": "code",
   "execution_count": 114,
   "metadata": {},
   "outputs": [],
   "source": [
    "#what about the itunes search api  \n",
    "IURL = \"https://itunes.apple.com/search?\" \n",
    "response = req.get(IURL + \"term=Joe+Rogan&media=podcast\")"
   ]
  },
  {
   "cell_type": "code",
   "execution_count": 115,
   "metadata": {},
   "outputs": [
    {
     "data": {
      "text/plain": [
       "'\\n\\n\\n{\\n \"resultCount\":10,\\n \"results\": [\\n{\"wrapperType\":\"track\", \"kind\":\"podcast\", \"collectionId\":1396757201, \"trackId\":1396757201, \"artistName\":\"Joe Rogan Experience Review podcast\", \"collectionName\":\"Joe Rogan Experience Review podcast\", \"trackName\":\"Joe Rogan Experience Review podcast\", \"collectionCensoredName\":\"Joe Rogan Experience Review podcast\", \"trackCensoredName\":\"Joe Rogan Experience Review podcast\", \"collectionViewUrl\":\"https://podcasts.apple.com/us/podcast/joe-rogan-experience-review-podcast/id1396757201?uo=4\", \"feedUrl\":\"https://audioboom.com/channels/5081029.rss\", \"trackViewUrl\":\"https://podcasts.apple.com/us/podcast/joe-rogan-experience-review-podcast/id1396757201?uo=4\", \"artworkUrl30\":\"https://is4-ssl.mzstatic.com/image/thumb/Podcasts122/v4/e0/73/74/e07374ec-a986-feed-027c-5af718895a31/mza_4297001239469570007.jpg/30x30bb.jpg\", \"artworkUrl60\":\"https://is4-ssl.mzstatic.com/image/thumb/Podcasts122/v4/e0/73/74/e07374ec-a986-feed-027c-5af718895a31/mza_4297001239469570007.jpg/60x60bb.jpg\", \"artworkUrl100\":\"https://is4-ssl.mzstatic.com/image/thumb/Podcasts122/v4/e0/73/74/e07374ec-a986-feed-027c-5af718895a31/mza_4297001239469570007.jpg/100x100bb.jpg\", \"collectionPrice\":0.00, \"trackPrice\":0.00, \"collectionHdPrice\":0, \"releaseDate\":\"2023-08-11T20:17:00Z\", \"collectionExplicitness\":\"notExplicit\", \"trackExplicitness\":\"explicit\", \"trackCount\":361, \"trackTimeMillis\":2689, \"country\":\"USA\", \"currency\":\"USD\", \"primaryGenreName\":\"Society & Culture\", \"contentAdvisoryRating\":\"Explicit\", \"artworkUrl600\":\"https://is4-ssl.mzstatic.com/image/thumb/Podcasts122/v4/e0/73/74/e07374ec-a986-feed-027c-5af718895a31/mza_4297001239469570007.jpg/600x600bb.jpg\", \"genreIds\":[\"1324\", \"26\", \"1303\"], \"genres\":[\"Society & Culture\", \"Podcasts\", \"Comedy\"]}, \\n{\"wrapperType\":\"track\", \"kind\":\"podcast\", \"collectionId\":1681820755, \"trackId\":1681820755, \"artistName\":\"Joe Rogan AI\", \"collectionName\":\"The Joe Rogan AI Experience\", \"trackName\":\"The Joe Rogan AI Experience\", \"collectionCensoredName\":\"The Joe Rogan AI Experience\", \"trackCensoredName\":\"The Joe Rogan AI Experience\", \"collectionViewUrl\":\"https://podcasts.apple.com/us/podcast/the-joe-rogan-ai-experience/id1681820755?uo=4\", \"feedUrl\":\"https://feeds.buzzsprout.com/2170846.rss\", \"trackViewUrl\":\"https://podcasts.apple.com/us/podcast/the-joe-rogan-ai-experience/id1681820755?uo=4\", \"artworkUrl30\":\"https://is4-ssl.mzstatic.com/image/thumb/Podcasts126/v4/3d/ed/90/3ded909f-7b1c-bbef-3f49-41de45d06f96/mza_5550315794401702731.jpg/30x30bb.jpg\", \"artworkUrl60\":\"https://is4-ssl.mzstatic.com/image/thumb/Podcasts126/v4/3d/ed/90/3ded909f-7b1c-bbef-3f49-41de45d06f96/mza_5550315794401702731.jpg/60x60bb.jpg\", \"artworkUrl100\":\"https://is4-ssl.mzstatic.com/image/thumb/Podcasts126/v4/3d/ed/90/3ded909f-7b1c-bbef-3f49-41de45d06f96/mza_5550315794401702731.jpg/100x100bb.jpg\", \"collectionPrice\":0.00, \"trackPrice\":0.00, \"collectionHdPrice\":0, \"releaseDate\":\"2023-06-18T12:00:00Z\", \"collectionExplicitness\":\"notExplicit\", \"trackExplicitness\":\"cleaned\", \"trackCount\":5, \"trackTimeMillis\":2310, \"country\":\"USA\", \"currency\":\"USD\", \"primaryGenreName\":\"Comedy\", \"contentAdvisoryRating\":\"Clean\", \"artworkUrl600\":\"https://is4-ssl.mzstatic.com/image/thumb/Podcasts126/v4/3d/ed/90/3ded909f-7b1c-bbef-3f49-41de45d06f96/mza_5550315794401702731.jpg/600x600bb.jpg\", \"genreIds\":[\"1303\", \"26\", \"1483\", \"1486\"], \"genres\":[\"Comedy\", \"Podcasts\", \"Fiction\", \"Comedy Fiction\"]}, \\n{\"wrapperType\":\"track\", \"kind\":\"podcast\", \"collectionId\":1441095668, \"trackId\":1441095668, \"artistName\":\"Floyd, Simon, Kamar and Chico\", \"collectionName\":\"The Joe Rogan Experience Experience\", \"trackName\":\"The Joe Rogan Experience Experience\", \"collectionCensoredName\":\"The Joe Rogan Experience Experience\", \"trackCensoredName\":\"The Joe Rogan Experience Experience\", \"collectionViewUrl\":\"https://podcasts.apple.com/us/podcast/the-joe-rogan-experience-experience/id1441095668?uo=4\", \"feedUrl\":\"https://jreepodcast.podbean.com/feed.xml\", \"trackViewUrl\":\"https://podcasts.apple.com/us/podcast/the-joe-rogan-experience-experience/id1441095668?uo=4\", \"artworkUrl30\":\"https://is5-ssl.mzstatic.com/image/thumb/Podcasts122/v4/64/09/24/640924cb-bed7-6326-abb8-36055db5d2ba/mza_13411917391243217429.jpg/30x30bb.jpg\", \"artworkUrl60\":\"https://is5-ssl.mzstatic.com/image/thumb/Podcasts122/v4/64/09/24/640924cb-bed7-6326-abb8-36055db5d2ba/mza_13411917391243217429.jpg/60x60bb.jpg\", \"artworkUrl100\":\"https://is5-ssl.mzstatic.com/image/thumb/Podcasts122/v4/64/09/24/640924cb-bed7-6326-abb8-36055db5d2ba/mza_13411917391243217429.jpg/100x100bb.jpg\", \"collectionPrice\":0.00, \"trackPrice\":0.00, \"collectionHdPrice\":0, \"releaseDate\":\"2023-08-15T09:00:00Z\", \"collectionExplicitness\":\"notExplicit\", \"trackExplicitness\":\"cleaned\", \"trackCount\":349, \"trackTimeMillis\":10239, \"country\":\"USA\", \"currency\":\"USD\", \"primaryGenreName\":\"Comedy\", \"contentAdvisoryRating\":\"Clean\", \"artworkUrl600\":\"https://is5-ssl.mzstatic.com/image/thumb/Podcasts122/v4/64/09/24/640924cb-bed7-6326-abb8-36055db5d2ba/mza_13411917391243217429.jpg/600x600bb.jpg\", \"genreIds\":[\"1303\", \"26\", \"1309\", \"1563\"], \"genres\":[\"Comedy\", \"Podcasts\", \"TV & Film\", \"Film Reviews\"]}, \\n{\"wrapperType\":\"track\", \"kind\":\"podcast\", \"collectionId\":1679444703, \"trackId\":1679444703, \"artistName\":\"Vivek Ramaswamy\", \"collectionName\":\"The Vivek Show\", \"trackName\":\"The Vivek Show\", \"collectionCensoredName\":\"The Vivek Show\", \"trackCensoredName\":\"The Vivek Show\", \"collectionViewUrl\":\"https://podcasts.apple.com/us/podcast/the-vivek-show/id1679444703?uo=4\", \"feedUrl\":\"https://feeds.simplecast.com/sCIbv7v3\", \"trackViewUrl\":\"https://podcasts.apple.com/us/podcast/the-vivek-show/id1679444703?uo=4\", \"artworkUrl30\":\"https://is4-ssl.mzstatic.com/image/thumb/Podcasts126/v4/74/48/29/744829b8-471f-0d1c-c6fa-ce36909a8ca6/mza_18431415509606674098.jpg/30x30bb.jpg\", \"artworkUrl60\":\"https://is4-ssl.mzstatic.com/image/thumb/Podcasts126/v4/74/48/29/744829b8-471f-0d1c-c6fa-ce36909a8ca6/mza_18431415509606674098.jpg/60x60bb.jpg\", \"artworkUrl100\":\"https://is4-ssl.mzstatic.com/image/thumb/Podcasts126/v4/74/48/29/744829b8-471f-0d1c-c6fa-ce36909a8ca6/mza_18431415509606674098.jpg/100x100bb.jpg\", \"collectionPrice\":0.00, \"trackPrice\":0.00, \"collectionHdPrice\":0, \"releaseDate\":\"2023-07-10T19:35:00Z\", \"collectionExplicitness\":\"notExplicit\", \"trackExplicitness\":\"cleaned\", \"trackCount\":56, \"trackTimeMillis\":1820, \"country\":\"USA\", \"currency\":\"USD\", \"primaryGenreName\":\"Government\", \"contentAdvisoryRating\":\"Clean\", \"artworkUrl600\":\"https://is4-ssl.mzstatic.com/image/thumb/Podcasts126/v4/74/48/29/744829b8-471f-0d1c-c6fa-ce36909a8ca6/mza_18431415509606674098.jpg/600x600bb.jpg\", \"genreIds\":[\"1511\", \"26\", \"1321\", \"1493\"], \"genres\":[\"Government\", \"Podcasts\", \"Business\", \"Entrepreneurship\"]}, \\n{\"wrapperType\":\"track\", \"kind\":\"podcast\", \"collectionId\":1496562142, \"trackId\":1496562142, \"artistName\":\"Adam Cerniglia\", \"collectionName\":\"Today\\'s\\xa0Guest on the Joe Rogan Experience:\", \"trackName\":\"Today\\'s\\xa0Guest on the Joe Rogan Experience:\", \"collectionCensoredName\":\"Today\\'s\\xa0Guest on the Joe Rogan Experience:\", \"trackCensoredName\":\"Today\\'s\\xa0Guest on the Joe Rogan Experience:\", \"collectionViewUrl\":\"https://podcasts.apple.com/us/podcast/todays-guest-on-the-joe-rogan-experience/id1496562142?uo=4\", \"feedUrl\":\"https://anchor.fm/s/13189fe4/podcast/rss\", \"trackViewUrl\":\"https://podcasts.apple.com/us/podcast/todays-guest-on-the-joe-rogan-experience/id1496562142?uo=4\", \"artworkUrl30\":\"https://is5-ssl.mzstatic.com/image/thumb/Podcasts125/v4/f1/9d/88/f19d88f3-365b-4264-8b1b-9ff3e43a9094/mza_8820916718456269850.jpg/30x30bb.jpg\", \"artworkUrl60\":\"https://is5-ssl.mzstatic.com/image/thumb/Podcasts125/v4/f1/9d/88/f19d88f3-365b-4264-8b1b-9ff3e43a9094/mza_8820916718456269850.jpg/60x60bb.jpg\", \"artworkUrl100\":\"https://is5-ssl.mzstatic.com/image/thumb/Podcasts125/v4/f1/9d/88/f19d88f3-365b-4264-8b1b-9ff3e43a9094/mza_8820916718456269850.jpg/100x100bb.jpg\", \"collectionPrice\":0.00, \"trackPrice\":0.00, \"collectionHdPrice\":0, \"releaseDate\":\"2020-04-10T19:42:00Z\", \"collectionExplicitness\":\"notExplicit\", \"trackExplicitness\":\"cleaned\", \"trackCount\":43, \"trackTimeMillis\":52, \"country\":\"USA\", \"currency\":\"USD\", \"primaryGenreName\":\"Society & Culture\", \"contentAdvisoryRating\":\"Clean\", \"artworkUrl600\":\"https://is5-ssl.mzstatic.com/image/thumb/Podcasts125/v4/f1/9d/88/f19d88f3-365b-4264-8b1b-9ff3e43a9094/mza_8820916718456269850.jpg/600x600bb.jpg\", \"genreIds\":[\"1324\", \"26\"], \"genres\":[\"Society & Culture\", \"Podcasts\"]}, \\n{\"wrapperType\":\"track\", \"kind\":\"podcast\", \"collectionId\":1484371624, \"trackId\":1484371624, \"artistName\":\"Mr. R\", \"collectionName\":\"The Next Joe Rogan\", \"trackName\":\"The Next Joe Rogan\", \"collectionCensoredName\":\"The Next Joe Rogan\", \"trackCensoredName\":\"The Next Joe Rogan\", \"collectionViewUrl\":\"https://podcasts.apple.com/us/podcast/the-next-joe-rogan/id1484371624?uo=4\", \"feedUrl\":\"https://anchor.fm/s/f7d47b8/podcast/rss\", \"trackViewUrl\":\"https://podcasts.apple.com/us/podcast/the-next-joe-rogan/id1484371624?uo=4\", \"artworkUrl30\":\"https://is1-ssl.mzstatic.com/image/thumb/Podcasts125/v4/9a/d6/c5/9ad6c560-4d6c-dd45-e01d-4f6aa95213de/mza_18024229060766846024.jpg/30x30bb.jpg\", \"artworkUrl60\":\"https://is1-ssl.mzstatic.com/image/thumb/Podcasts125/v4/9a/d6/c5/9ad6c560-4d6c-dd45-e01d-4f6aa95213de/mza_18024229060766846024.jpg/60x60bb.jpg\", \"artworkUrl100\":\"https://is1-ssl.mzstatic.com/image/thumb/Podcasts125/v4/9a/d6/c5/9ad6c560-4d6c-dd45-e01d-4f6aa95213de/mza_18024229060766846024.jpg/100x100bb.jpg\", \"collectionPrice\":0.00, \"trackPrice\":0.00, \"collectionHdPrice\":0, \"releaseDate\":\"2021-08-28T18:50:00Z\", \"collectionExplicitness\":\"notExplicit\", \"trackExplicitness\":\"explicit\", \"trackCount\":1, \"trackTimeMillis\":7, \"country\":\"USA\", \"currency\":\"USD\", \"primaryGenreName\":\"Improv\", \"contentAdvisoryRating\":\"Explicit\", \"artworkUrl600\":\"https://is1-ssl.mzstatic.com/image/thumb/Podcasts125/v4/9a/d6/c5/9ad6c560-4d6c-dd45-e01d-4f6aa95213de/mza_18024229060766846024.jpg/600x600bb.jpg\", \"genreIds\":[\"1495\", \"26\", \"1303\"], \"genres\":[\"Improv\", \"Podcasts\", \"Comedy\"]}, \\n{\"wrapperType\":\"track\", \"kind\":\"podcast\", \"collectionId\":1541338775, \"trackId\":1541338775, \"artistName\":\"Aksel Ferry\", \"collectionName\":\"Better than Joe rogan\", \"trackName\":\"Better than Joe rogan\", \"collectionCensoredName\":\"Better than Joe rogan\", \"trackCensoredName\":\"Better than Joe rogan\", \"collectionViewUrl\":\"https://podcasts.apple.com/us/podcast/better-than-joe-rogan/id1541338775?uo=4\", \"feedUrl\":\"https://anchor.fm/s/3dcbf754/podcast/rss\", \"trackViewUrl\":\"https://podcasts.apple.com/us/podcast/better-than-joe-rogan/id1541338775?uo=4\", \"artworkUrl30\":\"https://is2-ssl.mzstatic.com/image/thumb/Podcasts125/v4/2c/52/53/2c5253fa-cc31-969f-dfd2-c0560efd2d83/mza_519306159010564292.jpg/30x30bb.jpg\", \"artworkUrl60\":\"https://is2-ssl.mzstatic.com/image/thumb/Podcasts125/v4/2c/52/53/2c5253fa-cc31-969f-dfd2-c0560efd2d83/mza_519306159010564292.jpg/60x60bb.jpg\", \"artworkUrl100\":\"https://is2-ssl.mzstatic.com/image/thumb/Podcasts125/v4/2c/52/53/2c5253fa-cc31-969f-dfd2-c0560efd2d83/mza_519306159010564292.jpg/100x100bb.jpg\", \"collectionPrice\":0.00, \"trackPrice\":0.00, \"collectionHdPrice\":0, \"releaseDate\":\"2020-11-19T20:05:00Z\", \"collectionExplicitness\":\"notExplicit\", \"trackExplicitness\":\"cleaned\", \"trackCount\":1, \"trackTimeMillis\":90, \"country\":\"USA\", \"currency\":\"USD\", \"primaryGenreName\":\"Books\", \"contentAdvisoryRating\":\"Clean\", \"artworkUrl600\":\"https://is2-ssl.mzstatic.com/image/thumb/Podcasts125/v4/2c/52/53/2c5253fa-cc31-969f-dfd2-c0560efd2d83/mza_519306159010564292.jpg/600x600bb.jpg\", \"genreIds\":[\"1482\", \"26\", \"1301\"], \"genres\":[\"Books\", \"Podcasts\", \"Arts\"]}, \\n{\"wrapperType\":\"track\", \"kind\":\"podcast\", \"collectionId\":1577489027, \"trackId\":1577489027, \"artistName\":\"Warre Vanstechelman\", \"collectionName\":\"KarperstratjeKapel Joe Rogan\", \"trackName\":\"KarperstratjeKapel Joe Rogan\", \"collectionCensoredName\":\"KarperstratjeKapel Joe Rogan\", \"trackCensoredName\":\"KarperstratjeKapel Joe Rogan\", \"collectionViewUrl\":\"https://podcasts.apple.com/us/podcast/karperstratjekapel-joe-rogan/id1577489027?uo=4\", \"feedUrl\":\"https://anchor.fm/s/630ef944/podcast/rss\", \"trackViewUrl\":\"https://podcasts.apple.com/us/podcast/karperstratjekapel-joe-rogan/id1577489027?uo=4\", \"artworkUrl30\":\"https://is3-ssl.mzstatic.com/image/thumb/Podcasts115/v4/12/3a/2a/123a2a98-f3db-a6df-0adf-4b9200ed8151/mza_9550179098836917821.jpg/30x30bb.jpg\", \"artworkUrl60\":\"https://is3-ssl.mzstatic.com/image/thumb/Podcasts115/v4/12/3a/2a/123a2a98-f3db-a6df-0adf-4b9200ed8151/mza_9550179098836917821.jpg/60x60bb.jpg\", \"artworkUrl100\":\"https://is3-ssl.mzstatic.com/image/thumb/Podcasts115/v4/12/3a/2a/123a2a98-f3db-a6df-0adf-4b9200ed8151/mza_9550179098836917821.jpg/100x100bb.jpg\", \"collectionPrice\":0.00, \"trackPrice\":0.00, \"collectionHdPrice\":0, \"releaseDate\":\"2021-07-06T23:58:00Z\", \"collectionExplicitness\":\"notExplicit\", \"trackExplicitness\":\"cleaned\", \"trackCount\":1, \"trackTimeMillis\":1049, \"country\":\"USA\", \"currency\":\"USD\", \"primaryGenreName\":\"Improv\", \"contentAdvisoryRating\":\"Clean\", \"artworkUrl600\":\"https://is3-ssl.mzstatic.com/image/thumb/Podcasts115/v4/12/3a/2a/123a2a98-f3db-a6df-0adf-4b9200ed8151/mza_9550179098836917821.jpg/600x600bb.jpg\", \"genreIds\":[\"1495\", \"26\", \"1303\"], \"genres\":[\"Improv\", \"Podcasts\", \"Comedy\"]}, \\n{\"wrapperType\":\"track\", \"kind\":\"podcast\", \"collectionId\":1563257404, \"trackId\":1563257404, \"artistName\":\"atleastitsnotjoerogan\", \"collectionName\":\"At Least its Not Joe Rogan\", \"trackName\":\"At Least its Not Joe Rogan\", \"collectionCensoredName\":\"At Least its Not Joe Rogan\", \"trackCensoredName\":\"At Least its Not Joe Rogan\", \"collectionViewUrl\":\"https://podcasts.apple.com/us/podcast/at-least-its-not-joe-rogan/id1563257404?uo=4\", \"feedUrl\":\"https://feed.podbean.com/atleastitsnotjoerogan/feed.xml\", \"trackViewUrl\":\"https://podcasts.apple.com/us/podcast/at-least-its-not-joe-rogan/id1563257404?uo=4\", \"artworkUrl30\":\"https://is5-ssl.mzstatic.com/image/thumb/Podcasts115/v4/49/d6/d9/49d6d9c2-61a8-2d3e-0d31-c7f91f0ee94c/mza_6739894960004660441.png/30x30bb.jpg\", \"artworkUrl60\":\"https://is5-ssl.mzstatic.com/image/thumb/Podcasts115/v4/49/d6/d9/49d6d9c2-61a8-2d3e-0d31-c7f91f0ee94c/mza_6739894960004660441.png/60x60bb.jpg\", \"artworkUrl100\":\"https://is5-ssl.mzstatic.com/image/thumb/Podcasts115/v4/49/d6/d9/49d6d9c2-61a8-2d3e-0d31-c7f91f0ee94c/mza_6739894960004660441.png/100x100bb.jpg\", \"collectionPrice\":0.00, \"trackPrice\":0.00, \"collectionHdPrice\":0, \"releaseDate\":\"2021-12-13T19:30:00Z\", \"collectionExplicitness\":\"notExplicit\", \"trackExplicitness\":\"explicit\", \"trackCount\":8, \"trackTimeMillis\":1940, \"country\":\"USA\", \"currency\":\"USD\", \"primaryGenreName\":\"Comedy\", \"contentAdvisoryRating\":\"Explicit\", \"artworkUrl600\":\"https://is5-ssl.mzstatic.com/image/thumb/Podcasts115/v4/49/d6/d9/49d6d9c2-61a8-2d3e-0d31-c7f91f0ee94c/mza_6739894960004660441.png/600x600bb.jpg\", \"genreIds\":[\"1303\", \"26\"], \"genres\":[\"Comedy\", \"Podcasts\"]}, \\n{\"wrapperType\":\"track\", \"kind\":\"podcast\", \"collectionId\":1615195553, \"trackId\":1615195553, \"artistName\":\"The Podmaster (Neal Veglio)\", \"collectionName\":\"The Podmaster - helping you master the art of podcasting\", \"trackName\":\"The Podmaster - helping you master the art of podcasting\", \"collectionCensoredName\":\"The Podmaster - helping you master the art of podcasting\", \"trackCensoredName\":\"The Podmaster - helping you master the art of podcasting\", \"collectionViewUrl\":\"https://podcasts.apple.com/us/podcast/the-podmaster-helping-you-master-the-art-of-podcasting/id1615195553?uo=4\", \"feedUrl\":\"https://feeds.captivate.fm/the-podmaster/\", \"trackViewUrl\":\"https://podcasts.apple.com/us/podcast/the-podmaster-helping-you-master-the-art-of-podcasting/id1615195553?uo=4\", \"artworkUrl30\":\"https://is1-ssl.mzstatic.com/image/thumb/Podcasts126/v4/c2/34/48/c2344839-eb27-eeb3-03f2-d9387203861c/mza_18434296562662792660.png/30x30bb.jpg\", \"artworkUrl60\":\"https://is1-ssl.mzstatic.com/image/thumb/Podcasts126/v4/c2/34/48/c2344839-eb27-eeb3-03f2-d9387203861c/mza_18434296562662792660.png/60x60bb.jpg\", \"artworkUrl100\":\"https://is1-ssl.mzstatic.com/image/thumb/Podcasts126/v4/c2/34/48/c2344839-eb27-eeb3-03f2-d9387203861c/mza_18434296562662792660.png/100x100bb.jpg\", \"collectionPrice\":0.00, \"trackPrice\":0.00, \"collectionHdPrice\":0, \"releaseDate\":\"2023-07-15T14:00:00Z\", \"collectionExplicitness\":\"notExplicit\", \"trackExplicitness\":\"cleaned\", \"trackCount\":9, \"trackTimeMillis\":1313, \"country\":\"USA\", \"currency\":\"USD\", \"primaryGenreName\":\"How To\", \"contentAdvisoryRating\":\"Clean\", \"artworkUrl600\":\"https://is1-ssl.mzstatic.com/image/thumb/Podcasts126/v4/c2/34/48/c2344839-eb27-eeb3-03f2-d9387203861c/mza_18434296562662792660.png/600x600bb.jpg\", \"genreIds\":[\"1499\", \"26\", \"1304\", \"1321\", \"1492\"], \"genres\":[\"How To\", \"Podcasts\", \"Education\", \"Business\", \"Marketing\"]}]\\n}\\n\\n\\n'"
      ]
     },
     "execution_count": 115,
     "metadata": {},
     "output_type": "execute_result"
    }
   ],
   "source": [
    "response.text"
   ]
  },
  {
   "cell_type": "code",
   "execution_count": null,
   "metadata": {},
   "outputs": [],
   "source": []
  }
 ],
 "metadata": {
  "kernelspec": {
   "display_name": "Python 3",
   "language": "python",
   "name": "python3"
  },
  "language_info": {
   "codemirror_mode": {
    "name": "ipython",
    "version": 3
   },
   "file_extension": ".py",
   "mimetype": "text/x-python",
   "name": "python",
   "nbconvert_exporter": "python",
   "pygments_lexer": "ipython3",
   "version": "3.8.5"
  }
 },
 "nbformat": 4,
 "nbformat_minor": 4
}
