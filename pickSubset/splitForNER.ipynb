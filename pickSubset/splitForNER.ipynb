{
 "cells": [
  {
   "cell_type": "code",
   "execution_count": 45,
   "id": "23638fc9",
   "metadata": {},
   "outputs": [],
   "source": [
    "\"\"\"\n",
    "This script splits our data into peices so that NER can be run in parallel \n",
    "\"\"\"\n",
    "import pandas as pd\n",
    "import spacy\n",
    "import numpy as np\n",
    "from collections import Counter\n",
    "import csv\n",
    "from multiprocessing import Pool \n",
    "\n",
    "#OLD: inFile = \"/shared/3/projects/benlitterer/localNews/mergedNewsData/dataSplits/splitNews27\"\n",
    "inFile = \"/shared/3/projects/benlitterer/podcastData/analysis/allEpisodes.csv\"\n",
    "newsDf = pd.read_csv(inFile,  index_col=0, nrows=160000, lineterminator='\\n')\n",
    "\n",
    "#only get English pods (to cut down on NER time)\n",
    "newsDf[\"language\"] = newsDf[\"language\"].str.lower()\n",
    "newsDf = newsDf.dropna(subset=[\"language\"])\n",
    "newsDf = newsDf[newsDf[\"language\"].str.contains(\"en\")]\n",
    "\n",
    "sub_df = newsDf[['key', 'epDescription']]\n",
    "\n",
    "#we use 160 because that's how many cores we have \n",
    "indexList = np.array_split(np.array(list(range(0, len(sub_df)))), 160)\n",
    "zippedIndices = list(zip(list(range(0, 160)), indexList))\n",
    "\n",
    "outStem = \"/shared/3/projects/benlitterer/podcastData/NER/preSplits/dSplit\"\n",
    "\n",
    "#last file will be missing one row \n",
    "def writeFrame(tup):\n",
    "    i, indices = tup\n",
    "    outDf = sub_df.iloc[indices, :]\n",
    "    outDf.to_csv(outStem + str(i), sep=\"\\t\", quoting=csv.QUOTE_NONNUMERIC)\n",
    "\n",
    "with Pool(12) as p: \n",
    "    p.map(writeFrame, zippedIndices)"
   ]
  },
  {
   "cell_type": "code",
   "execution_count": null,
   "id": "e8a480a2",
   "metadata": {},
   "outputs": [],
   "source": []
  }
 ],
 "metadata": {
  "kernelspec": {
   "display_name": "Python 3",
   "language": "python",
   "name": "python3"
  },
  "language_info": {
   "codemirror_mode": {
    "name": "ipython",
    "version": 3
   },
   "file_extension": ".py",
   "mimetype": "text/x-python",
   "name": "python",
   "nbconvert_exporter": "python",
   "pygments_lexer": "ipython3",
   "version": "3.8.5"
  }
 },
 "nbformat": 4,
 "nbformat_minor": 5
}
