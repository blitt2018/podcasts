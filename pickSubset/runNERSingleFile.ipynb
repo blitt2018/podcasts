{
 "cells": [
  {
   "cell_type": "code",
   "execution_count": 65,
   "id": "d702b40f",
   "metadata": {},
   "outputs": [],
   "source": [
    "\"\"\"\n",
    "apply NER to just a single file (we run in parallel so we will have many files)\n",
    "\"\"\"\n",
    "import pandas as pd\n",
    "import spacy\n",
    "import numpy as np\n",
    "from collections import Counter\n",
    "import csv\n",
    "from multiprocessing import Pool\n",
    "import sys\n",
    "import time\n",
    "import re"
   ]
  },
  {
   "cell_type": "code",
   "execution_count": 66,
   "id": "a8e57000",
   "metadata": {},
   "outputs": [],
   "source": [
    "inFile = \"/shared/3/projects/benlitterer/localNews/mergedNewsData/dataSplits/\" + sys.argv[1]\n",
    "#inFile = \"/shared/3/projects/benlitterer/podcastData/NER/preSplits/dSplit\" + \"0\"\n",
    "inDf = pd.read_csv(inFile, sep=\"\\t\", nrows=4000, index_col=0)\n",
    "\n",
    "#remove rows with no description\n",
    "inDf = inDf.dropna()\n",
    "\n",
    "#remove xml/html tags\n",
    "def cleanDescription(inStr): \n",
    "    return re.sub(\"<.*?>\", \"\", inStr)\n",
    "\n",
    "inDf[\"epDescription\"] = inDf[\"epDescription\"].apply(cleanDescription)"
   ]
  },
  {
   "cell_type": "code",
   "execution_count": 69,
   "id": "be2c13d0",
   "metadata": {},
   "outputs": [
    {
     "name": "stdout",
     "output_type": "stream",
     "text": [
      "110.25487160682678\n"
     ]
    }
   ],
   "source": [
    "currTime = time.time()\n",
    "contentList = list(inDf[\"epDescription\"].astype(str))\n",
    "\n",
    "nlp = spacy.load(\"en_core_web_md\")\n",
    "docs = nlp.pipe(contentList, batch_size=1, n_process=1)\n",
    "\n",
    "NERList = []\n",
    "for doc in docs:\n",
    "    outList = [[ent.label_, ent.text] for ent in doc.ents]\n",
    "    NERList.append(outList)\n",
    "\n",
    "inDf[\"NE\"] = NERList"
   ]
  },
  {
   "cell_type": "code",
   "execution_count": 70,
   "id": "2843f600",
   "metadata": {},
   "outputs": [],
   "source": [
    "inDf = inDf[[\"key\", \"NE\"]]\n",
    "\n",
    "inDf = inDf.explode(\"NE\").dropna()\n",
    "\n",
    "inDf[[\"type\", \"namedEnt\"]] = inDf[\"NE\"].tolist()\n",
    "\n",
    "inDf = inDf[[\"key\", \"type\", \"namedEnt\"]]"
   ]
  },
  {
   "cell_type": "code",
   "execution_count": 83,
   "id": "ac37949b",
   "metadata": {},
   "outputs": [],
   "source": [
    "#extract number from in path, write to output path\n",
    "fNumber = re.sub(\"[A-z]\", \"\", sys.argv[1].split(\"/\")[-1])\n",
    "inDf.to_csv(sys.argv[2] + \"NE\" + fNumber + \".tsv\" , sep=\"\\t\",  quoting=csv.QUOTE_NONNUMERIC)"
   ]
  }
 ],
 "metadata": {
  "kernelspec": {
   "display_name": "Python 3",
   "language": "python",
   "name": "python3"
  },
  "language_info": {
   "codemirror_mode": {
    "name": "ipython",
    "version": 3
   },
   "file_extension": ".py",
   "mimetype": "text/x-python",
   "name": "python",
   "nbconvert_exporter": "python",
   "pygments_lexer": "ipython3",
   "version": "3.8.5"
  }
 },
 "nbformat": 4,
 "nbformat_minor": 5
}
