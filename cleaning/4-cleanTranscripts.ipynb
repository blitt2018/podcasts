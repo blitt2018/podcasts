{
 "cells": [
  {
   "cell_type": "code",
   "execution_count": 97,
   "metadata": {},
   "outputs": [],
   "source": [
    "import pandas as pd\n",
    "from sklearn.feature_extraction.text import CountVectorizer\n",
    "import numpy as np\n",
    "import matplotlib.pyplot as plt\n",
    "from multiprocessing import Pool \n",
    "import seaborn as sns"
   ]
  },
  {
   "cell_type": "code",
   "execution_count": 80,
   "metadata": {},
   "outputs": [],
   "source": [
    "df = pd.read_json(\"/shared/4/projects/podcasts/processed/floydMonthData.jsonl\", orient=\"records\", lines=True)"
   ]
  },
  {
   "cell_type": "code",
   "execution_count": 81,
   "metadata": {},
   "outputs": [],
   "source": [
    "def getGrams(inStr, gramLen=4): \n",
    "    wordList = inStr.split()\n",
    "    numWords = len(wordList)\n",
    "    gramList = []\n",
    "    gramDict = {}\n",
    "    gramCount = 0\n",
    "    maxCount = 0\n",
    "    maxGram = \"\"\n",
    "    for i, word in enumerate(wordList): \n",
    "        \n",
    "        j = i + gramLen\n",
    "\n",
    "        #if we have enough words left, append the gram\n",
    "        if j < numWords: \n",
    "            \n",
    "            gram = \" \".join(list(wordList[i:j])).lower()\n",
    "            \n",
    "            \n",
    "            if gram not in gramDict: \n",
    "                gramDict[gram] = 1\n",
    "            else: \n",
    "                gramDict[gram] += 1\n",
    "\n",
    "            #if this is the new most common gram, update\n",
    "            currGramCount = gramDict[gram]\n",
    "            if currGramCount > maxCount: \n",
    "                maxCount = currGramCount\n",
    "                maxGram = gram\n",
    "            \n",
    "            gramCount += 1\n",
    "\n",
    "    return [gramCount, maxCount, maxGram]\n",
    "    \n"
   ]
  },
  {
   "cell_type": "code",
   "execution_count": 82,
   "metadata": {},
   "outputs": [],
   "source": [
    "def getGramsWrapper(tup): \n",
    "    i, indices=tup\n",
    "    currDf = df.iloc[indices]\n",
    "    gramOutput = currDf[\"transcript\"].apply(getGrams)\n",
    "    return gramOutput"
   ]
  },
  {
   "cell_type": "code",
   "execution_count": 83,
   "metadata": {},
   "outputs": [],
   "source": [
    "N_SPLITS=15\n",
    "indexList = np.array_split(np.array(list(range(0, len(df)))), N_SPLITS)\n",
    "zippedIndices = list(zip(list(range(0, N_SPLITS)), indexList))"
   ]
  },
  {
   "cell_type": "code",
   "execution_count": 84,
   "metadata": {},
   "outputs": [],
   "source": [
    "with Pool(N_SPLITS) as p: \n",
    "    outFrames = p.map(getGramsWrapper, zippedIndices)"
   ]
  },
  {
   "cell_type": "code",
   "execution_count": 85,
   "metadata": {},
   "outputs": [],
   "source": [
    "catOut= np.concatenate(outFrames)\n",
    "gramDf = pd.DataFrame.from_records(catOut) "
   ]
  },
  {
   "cell_type": "code",
   "execution_count": 86,
   "metadata": {},
   "outputs": [],
   "source": [
    "gramDf.columns = [\"totalGramCount\", \"topGramCount\", \"topGram\"]"
   ]
  },
  {
   "cell_type": "code",
   "execution_count": 87,
   "metadata": {},
   "outputs": [],
   "source": [
    "df = pd.concat([df, gramDf], axis=1)"
   ]
  },
  {
   "cell_type": "code",
   "execution_count": 88,
   "metadata": {},
   "outputs": [],
   "source": [
    "df = df[df[\"topGramCount\"] > 0]"
   ]
  },
  {
   "cell_type": "code",
   "execution_count": 89,
   "metadata": {},
   "outputs": [],
   "source": [
    "df[\"gramFrac\"] = df[\"topGramCount\"] / df[\"totalGramCount\"]"
   ]
  },
  {
   "cell_type": "code",
   "execution_count": 91,
   "metadata": {},
   "outputs": [
    {
     "data": {
      "text/html": [
       "<div>\n",
       "<style scoped>\n",
       "    .dataframe tbody tr th:only-of-type {\n",
       "        vertical-align: middle;\n",
       "    }\n",
       "\n",
       "    .dataframe tbody tr th {\n",
       "        vertical-align: top;\n",
       "    }\n",
       "\n",
       "    .dataframe thead th {\n",
       "        text-align: right;\n",
       "    }\n",
       "</style>\n",
       "<table border=\"1\" class=\"dataframe\">\n",
       "  <thead>\n",
       "    <tr style=\"text-align: right;\">\n",
       "      <th></th>\n",
       "      <th>transStarts</th>\n",
       "      <th>descStarts</th>\n",
       "    </tr>\n",
       "  </thead>\n",
       "  <tbody>\n",
       "    <tr>\n",
       "      <th>0</th>\n",
       "      <td>[4, 30, 125, 362, 417, 451, 485, 520, 639, 112...</td>\n",
       "      <td>[14, 43]</td>\n",
       "    </tr>\n",
       "    <tr>\n",
       "      <th>1</th>\n",
       "      <td>[4, 30, 125, 362, 406, 469, 497, 517, 532, 653...</td>\n",
       "      <td>[14, 43]</td>\n",
       "    </tr>\n",
       "    <tr>\n",
       "      <th>2</th>\n",
       "      <td>[4, 30, 125, 362, 425, 459, 568, 656, 668, 909...</td>\n",
       "      <td>[14, 43]</td>\n",
       "    </tr>\n",
       "    <tr>\n",
       "      <th>3</th>\n",
       "      <td>[1, 265, 282, 312, 345, 399, 410, 968, 1142, 1...</td>\n",
       "      <td>None</td>\n",
       "    </tr>\n",
       "    <tr>\n",
       "      <th>4</th>\n",
       "      <td>[12, 44, 122, 185, 231, 267, 352, 619, 694, 82...</td>\n",
       "      <td>[11, 43, 188, 294, 341]</td>\n",
       "    </tr>\n",
       "    <tr>\n",
       "      <th>...</th>\n",
       "      <td>...</td>\n",
       "      <td>...</td>\n",
       "    </tr>\n",
       "    <tr>\n",
       "      <th>591502</th>\n",
       "      <td>[467, 882, 971, 2360, 3462, 3489, 3596, 3659, ...</td>\n",
       "      <td>[130, 304]</td>\n",
       "    </tr>\n",
       "    <tr>\n",
       "      <th>591503</th>\n",
       "      <td>[195, 497, 1523, 1563, 1604, 1622, 1660, 1726,...</td>\n",
       "      <td>[130, 304]</td>\n",
       "    </tr>\n",
       "    <tr>\n",
       "      <th>591504</th>\n",
       "      <td>[0, 51, 274, 341, 466, 592, 621, 647, 801, 838...</td>\n",
       "      <td>[130, 304]</td>\n",
       "    </tr>\n",
       "    <tr>\n",
       "      <th>591505</th>\n",
       "      <td>[59, 75, 86, 421, 735, 1468, 2408, 2726, 3855,...</td>\n",
       "      <td>[130, 304]</td>\n",
       "    </tr>\n",
       "    <tr>\n",
       "      <th>591506</th>\n",
       "      <td>[141, 288, 308, 319, 381, 676, 1869, 2235, 285...</td>\n",
       "      <td>[130, 304]</td>\n",
       "    </tr>\n",
       "  </tbody>\n",
       "</table>\n",
       "<p>587558 rows × 2 columns</p>\n",
       "</div>"
      ],
      "text/plain": [
       "                                              transStarts  \\\n",
       "0       [4, 30, 125, 362, 417, 451, 485, 520, 639, 112...   \n",
       "1       [4, 30, 125, 362, 406, 469, 497, 517, 532, 653...   \n",
       "2       [4, 30, 125, 362, 425, 459, 568, 656, 668, 909...   \n",
       "3       [1, 265, 282, 312, 345, 399, 410, 968, 1142, 1...   \n",
       "4       [12, 44, 122, 185, 231, 267, 352, 619, 694, 82...   \n",
       "...                                                   ...   \n",
       "591502  [467, 882, 971, 2360, 3462, 3489, 3596, 3659, ...   \n",
       "591503  [195, 497, 1523, 1563, 1604, 1622, 1660, 1726,...   \n",
       "591504  [0, 51, 274, 341, 466, 592, 621, 647, 801, 838...   \n",
       "591505  [59, 75, 86, 421, 735, 1468, 2408, 2726, 3855,...   \n",
       "591506  [141, 288, 308, 319, 381, 676, 1869, 2235, 285...   \n",
       "\n",
       "                     descStarts  \n",
       "0                      [14, 43]  \n",
       "1                      [14, 43]  \n",
       "2                      [14, 43]  \n",
       "3                          None  \n",
       "4       [11, 43, 188, 294, 341]  \n",
       "...                         ...  \n",
       "591502               [130, 304]  \n",
       "591503               [130, 304]  \n",
       "591504               [130, 304]  \n",
       "591505               [130, 304]  \n",
       "591506               [130, 304]  \n",
       "\n",
       "[587558 rows x 2 columns]"
      ]
     },
     "execution_count": 91,
     "metadata": {},
     "output_type": "execute_result"
    }
   ],
   "source": [
    "#check NER errors\n",
    "df[[\"transStarts\", \"descStarts\"]]"
   ]
  },
  {
   "cell_type": "code",
   "execution_count": 98,
   "metadata": {},
   "outputs": [
    {
     "data": {
      "text/plain": [
       "<Axes: xlabel='gramFrac', ylabel='Proportion'>"
      ]
     },
     "execution_count": 98,
     "metadata": {},
     "output_type": "execute_result"
    },
    {
     "data": {
      "image/png": "[encoded data removed]",
      "text/plain": [
       "<Figure size 640x480 with 1 Axes>"
      ]
     },
     "metadata": {},
     "output_type": "display_data"
    }
   ],
   "source": [
    "sns.ecdfplot(df, x=\"gramFrac\")"
   ]
  },
  {
   "cell_type": "code",
   "execution_count": 96,
   "metadata": {},
   "outputs": [
    {
     "data": {
      "text/plain": [
       "0.08216720732251113"
      ]
     },
     "execution_count": 96,
     "metadata": {},
     "output_type": "execute_result"
    }
   ],
   "source": [
    "np.mean(df[\"gramFrac\"] > .05)"
   ]
  },
  {
   "cell_type": "code",
   "execution_count": 99,
   "metadata": {},
   "outputs": [],
   "source": [
    "#seems like 5% is a decent cutoff? \n",
    "cleanDf = df[df[\"gramFrac\"] < .05]"
   ]
  },
  {
   "cell_type": "code",
   "execution_count": 64,
   "metadata": {},
   "outputs": [],
   "source": [
    "test = cleanDf.sample(3000)"
   ]
  },
  {
   "cell_type": "code",
   "execution_count": 101,
   "metadata": {},
   "outputs": [
    {
     "data": {
      "text/plain": [
       "(539125, 76)"
      ]
     },
     "execution_count": 101,
     "metadata": {},
     "output_type": "execute_result"
    }
   ],
   "source": [
    "cleanDf.shape"
   ]
  },
  {
   "cell_type": "code",
   "execution_count": 100,
   "metadata": {},
   "outputs": [
    {
     "data": {
      "text/plain": [
       "(587558, 76)"
      ]
     },
     "execution_count": 100,
     "metadata": {},
     "output_type": "execute_result"
    }
   ],
   "source": [
    "df.shape"
   ]
  },
  {
   "cell_type": "code",
   "execution_count": 103,
   "metadata": {},
   "outputs": [],
   "source": [
    "cleanDf.to_json(\"/shared/3/projects/benlitterer/podcastData/processed/floydMonth/floydMonthDataClean.jsonl\", orient=\"records\", lines=True)"
   ]
  }
 ],
 "metadata": {
  "kernelspec": {
   "display_name": "Python 3 (ipykernel)",
   "language": "python",
   "name": "python3"
  }
 },
 "nbformat": 4,
 "nbformat_minor": 2
}
