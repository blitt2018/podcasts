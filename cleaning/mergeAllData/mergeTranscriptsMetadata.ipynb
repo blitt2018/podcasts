{
 "cells": [
  {
   "cell_type": "code",
   "execution_count": 1,
   "metadata": {},
   "outputs": [],
   "source": [
    "import pandas as pd"
   ]
  },
  {
   "cell_type": "code",
   "execution_count": 2,
   "metadata": {},
   "outputs": [],
   "source": [
    "transcriptDf = pd.read_csv(\"/shared/3/projects/benlitterer/podcastData/processed/mayJune/mayJuneTranscripts.tsv\", sep=\"\\t\")"
   ]
  },
  {
   "cell_type": "code",
   "execution_count": 3,
   "metadata": {},
   "outputs": [],
   "source": [
    "metaDf = pd.read_json(\"/shared/3/projects/benlitterer/podcastData/processed/mayJune/mayJuneMetadata.jsonl\", orient=\"records\", lines=True)"
   ]
  },
  {
   "cell_type": "code",
   "execution_count": 6,
   "metadata": {},
   "outputs": [],
   "source": [
    "transcriptDf.columns = [\"fullPotentialOutPath\", \"transcript\"]"
   ]
  },
  {
   "cell_type": "code",
   "execution_count": 14,
   "metadata": {},
   "outputs": [
    {
     "data": {
      "text/plain": [
       "0    /www.buzzsprout.com/e3/httpswww.buzzsprout.com...\n",
       "1    /www.buzzsprout.com/o3/httpswww.buzzsprout.com...\n",
       "2    /www.buzzsprout.com/83/httpswww.buzzsprout.com...\n",
       "3    /www.buzzsprout.com/30/httpswww.buzzsprout.com...\n",
       "4    /www.buzzsprout.com/3y/httpswww.buzzsprout.com...\n",
       "Name: potentialOutPath, dtype: object"
      ]
     },
     "execution_count": 14,
     "metadata": {},
     "output_type": "execute_result"
    }
   ],
   "source": [
    "metaDf.head()[\"potentialOutPath\"]"
   ]
  },
  {
   "cell_type": "code",
   "execution_count": 17,
   "metadata": {},
   "outputs": [
    {
     "data": {
      "text/plain": [
       "'/www.buzzsprout.com/83/httpswww.buzzsprout.com7830204165286itsallgone.mp3MERGED'"
      ]
     },
     "execution_count": 17,
     "metadata": {},
     "output_type": "execute_result"
    }
   ],
   "source": [
    "test = transcriptDf.iloc[1,0]\n",
    "\"/\" + \"/\".join(test.split(\"/\")[8:])"
   ]
  },
  {
   "cell_type": "code",
   "execution_count": 19,
   "metadata": {},
   "outputs": [],
   "source": [
    "transcriptDf[\"potentialOutPath\"] = transcriptDf[\"fullPotentialOutPath\"].apply(lambda x: \"/\" + \"/\".join(x.split(\"/\")[8:]))"
   ]
  },
  {
   "cell_type": "code",
   "execution_count": 23,
   "metadata": {},
   "outputs": [
    {
     "name": "stdout",
     "output_type": "stream",
     "text": [
      "(1584643, 57)\n",
      "(1547353, 57)\n"
     ]
    }
   ],
   "source": [
    "print(metaDf.shape)\n",
    "metaDf = metaDf.drop_duplicates(subset=[\"potentialOutPath\"])\n",
    "print(metaDf.shape)"
   ]
  },
  {
   "cell_type": "code",
   "execution_count": 25,
   "metadata": {},
   "outputs": [],
   "source": [
    "merged = pd.merge(transcriptDf, metaDf, on=\"potentialOutPath\", how=\"left\")"
   ]
  },
  {
   "cell_type": "code",
   "execution_count": 26,
   "metadata": {},
   "outputs": [
    {
     "data": {
      "text/plain": [
       "(908834, 59)"
      ]
     },
     "execution_count": 26,
     "metadata": {},
     "output_type": "execute_result"
    }
   ],
   "source": [
    "merged.to_json(\"/shared/3/projects/benlitterer/podcastData/processed/mayJune/mayJuneMetaTranscripts.jsonl\", orient=\"records\", lines=True)"
   ]
  },
  {
   "cell_type": "code",
   "execution_count": 27,
   "metadata": {},
   "outputs": [
    {
     "data": {
      "text/html": [
       "<div>\n",
       "<style scoped>\n",
       "    .dataframe tbody tr th:only-of-type {\n",
       "        vertical-align: middle;\n",
       "    }\n",
       "\n",
       "    .dataframe tbody tr th {\n",
       "        vertical-align: top;\n",
       "    }\n",
       "\n",
       "    .dataframe thead th {\n",
       "        text-align: right;\n",
       "    }\n",
       "</style>\n",
       "<table border=\"1\" class=\"dataframe\">\n",
       "  <thead>\n",
       "    <tr style=\"text-align: right;\">\n",
       "      <th></th>\n",
       "      <th>fullPotentialOutPath</th>\n",
       "      <th>transcript</th>\n",
       "      <th>potentialOutPath</th>\n",
       "      <th>Unnamed: 0</th>\n",
       "      <th>rssUrl</th>\n",
       "      <th>epTitle</th>\n",
       "      <th>epDescription</th>\n",
       "      <th>duration</th>\n",
       "      <th>pubDate</th>\n",
       "      <th>copyright</th>\n",
       "      <th>...</th>\n",
       "      <th>category5</th>\n",
       "      <th>category6</th>\n",
       "      <th>category7</th>\n",
       "      <th>category8</th>\n",
       "      <th>category9</th>\n",
       "      <th>category10</th>\n",
       "      <th>newestEnclosureDuration</th>\n",
       "      <th>oldestItemDatetime</th>\n",
       "      <th>cleanDates</th>\n",
       "      <th>cleanDatesLoc</th>\n",
       "    </tr>\n",
       "  </thead>\n",
       "  <tbody>\n",
       "    <tr>\n",
       "      <th>0</th>\n",
       "      <td>/shared/3/projects/benlitterer/podcastData/pro...</td>\n",
       "      <td>content I'm Simon Shapiro and this is Sing Out...</td>\n",
       "      <td>/www.buzzsprout.com/o3/httpswww.buzzsprout.com...</td>\n",
       "      <td>54</td>\n",
       "      <td>https://feeds.buzzsprout.com/783020.rss</td>\n",
       "      <td>Best of SingOut SpeakOut No.3</td>\n",
       "      <td>&lt;p&gt;Best of with snippets from 3 episodes and a...</td>\n",
       "      <td>803</td>\n",
       "      <td>Sun, 21 Jun 2020 07:00:00 +1000</td>\n",
       "      <td>None</td>\n",
       "      <td>...</td>\n",
       "      <td>education</td>\n",
       "      <td>self improvement</td>\n",
       "      <td>None</td>\n",
       "      <td>None</td>\n",
       "      <td>NaN</td>\n",
       "      <td>NaN</td>\n",
       "      <td>0.0</td>\n",
       "      <td>2020-01-04 04:00:00</td>\n",
       "      <td>2020-06-21 07:00:00+10:00</td>\n",
       "      <td>1592686800000</td>\n",
       "    </tr>\n",
       "    <tr>\n",
       "      <th>1</th>\n",
       "      <td>/shared/3/projects/benlitterer/podcastData/pro...</td>\n",
       "      <td>content I'm Simon Shapiro and this is Sing Out...</td>\n",
       "      <td>/www.buzzsprout.com/83/httpswww.buzzsprout.com...</td>\n",
       "      <td>55</td>\n",
       "      <td>https://feeds.buzzsprout.com/783020.rss</td>\n",
       "      <td>It's All Gone</td>\n",
       "      <td>&lt;p&gt;Simon introduces &amp;apos;It&amp;apos;s all Gone&amp;a...</td>\n",
       "      <td>360</td>\n",
       "      <td>Sun, 14 Jun 2020 22:00:00 +1000</td>\n",
       "      <td>None</td>\n",
       "      <td>...</td>\n",
       "      <td>education</td>\n",
       "      <td>self improvement</td>\n",
       "      <td>None</td>\n",
       "      <td>None</td>\n",
       "      <td>NaN</td>\n",
       "      <td>NaN</td>\n",
       "      <td>0.0</td>\n",
       "      <td>2020-01-04 04:00:00</td>\n",
       "      <td>2020-06-14 22:00:00+10:00</td>\n",
       "      <td>1592136000000</td>\n",
       "    </tr>\n",
       "    <tr>\n",
       "      <th>2</th>\n",
       "      <td>/shared/3/projects/benlitterer/podcastData/pro...</td>\n",
       "      <td>content I'm Simon Shapiro and this is Sing Out...</td>\n",
       "      <td>/www.buzzsprout.com/3y/httpswww.buzzsprout.com...</td>\n",
       "      <td>57</td>\n",
       "      <td>https://feeds.buzzsprout.com/783020.rss</td>\n",
       "      <td>Today Is Yesterday</td>\n",
       "      <td>&lt;p&gt;Simon introduces track 4, of the newly rele...</td>\n",
       "      <td>416</td>\n",
       "      <td>Sun, 31 May 2020 21:00:00 +1000</td>\n",
       "      <td>None</td>\n",
       "      <td>...</td>\n",
       "      <td>education</td>\n",
       "      <td>self improvement</td>\n",
       "      <td>None</td>\n",
       "      <td>None</td>\n",
       "      <td>NaN</td>\n",
       "      <td>NaN</td>\n",
       "      <td>0.0</td>\n",
       "      <td>2020-01-04 04:00:00</td>\n",
       "      <td>2020-05-31 21:00:00+10:00</td>\n",
       "      <td>1590922800000</td>\n",
       "    </tr>\n",
       "    <tr>\n",
       "      <th>3</th>\n",
       "      <td>/shared/3/projects/benlitterer/podcastData/pro...</td>\n",
       "      <td>content I'm Simon Shapiro and this is Sing Out...</td>\n",
       "      <td>/www.buzzsprout.com/3r/httpswww.buzzsprout.com...</td>\n",
       "      <td>58</td>\n",
       "      <td>https://feeds.buzzsprout.com/783020.rss</td>\n",
       "      <td>Saturn Return</td>\n",
       "      <td>&lt;p&gt;This week, Simon introduces track 2- Saturn...</td>\n",
       "      <td>476</td>\n",
       "      <td>Sun, 24 May 2020 19:00:00 +1000</td>\n",
       "      <td>None</td>\n",
       "      <td>...</td>\n",
       "      <td>education</td>\n",
       "      <td>self improvement</td>\n",
       "      <td>None</td>\n",
       "      <td>None</td>\n",
       "      <td>NaN</td>\n",
       "      <td>NaN</td>\n",
       "      <td>0.0</td>\n",
       "      <td>2020-01-04 04:00:00</td>\n",
       "      <td>2020-05-24 19:00:00+10:00</td>\n",
       "      <td>1590310800000</td>\n",
       "    </tr>\n",
       "    <tr>\n",
       "      <th>4</th>\n",
       "      <td>/shared/3/projects/benlitterer/podcastData/pro...</td>\n",
       "      <td>content I'm Simon Shapiro and this is Sing Out...</td>\n",
       "      <td>/www.buzzsprout.com/30/httpswww.buzzsprout.com...</td>\n",
       "      <td>59</td>\n",
       "      <td>https://feeds.buzzsprout.com/783020.rss</td>\n",
       "      <td>Quarterlife Crisis</td>\n",
       "      <td>&lt;p&gt;Big news week. The band Simon lived in the ...</td>\n",
       "      <td>509</td>\n",
       "      <td>Sun, 17 May 2020 20:00:00 +1000</td>\n",
       "      <td>None</td>\n",
       "      <td>...</td>\n",
       "      <td>education</td>\n",
       "      <td>self improvement</td>\n",
       "      <td>None</td>\n",
       "      <td>None</td>\n",
       "      <td>NaN</td>\n",
       "      <td>NaN</td>\n",
       "      <td>0.0</td>\n",
       "      <td>2020-01-04 04:00:00</td>\n",
       "      <td>2020-05-17 20:00:00+10:00</td>\n",
       "      <td>1589709600000</td>\n",
       "    </tr>\n",
       "  </tbody>\n",
       "</table>\n",
       "<p>5 rows × 59 columns</p>\n",
       "</div>"
      ],
      "text/plain": [
       "                                fullPotentialOutPath  \\\n",
       "0  /shared/3/projects/benlitterer/podcastData/pro...   \n",
       "1  /shared/3/projects/benlitterer/podcastData/pro...   \n",
       "2  /shared/3/projects/benlitterer/podcastData/pro...   \n",
       "3  /shared/3/projects/benlitterer/podcastData/pro...   \n",
       "4  /shared/3/projects/benlitterer/podcastData/pro...   \n",
       "\n",
       "                                          transcript  \\\n",
       "0  content I'm Simon Shapiro and this is Sing Out...   \n",
       "1  content I'm Simon Shapiro and this is Sing Out...   \n",
       "2  content I'm Simon Shapiro and this is Sing Out...   \n",
       "3  content I'm Simon Shapiro and this is Sing Out...   \n",
       "4  content I'm Simon Shapiro and this is Sing Out...   \n",
       "\n",
       "                                    potentialOutPath  Unnamed: 0  \\\n",
       "0  /www.buzzsprout.com/o3/httpswww.buzzsprout.com...          54   \n",
       "1  /www.buzzsprout.com/83/httpswww.buzzsprout.com...          55   \n",
       "2  /www.buzzsprout.com/3y/httpswww.buzzsprout.com...          57   \n",
       "3  /www.buzzsprout.com/3r/httpswww.buzzsprout.com...          58   \n",
       "4  /www.buzzsprout.com/30/httpswww.buzzsprout.com...          59   \n",
       "\n",
       "                                    rssUrl                        epTitle  \\\n",
       "0  https://feeds.buzzsprout.com/783020.rss  Best of SingOut SpeakOut No.3   \n",
       "1  https://feeds.buzzsprout.com/783020.rss                  It's All Gone   \n",
       "2  https://feeds.buzzsprout.com/783020.rss             Today Is Yesterday   \n",
       "3  https://feeds.buzzsprout.com/783020.rss                  Saturn Return   \n",
       "4  https://feeds.buzzsprout.com/783020.rss             Quarterlife Crisis   \n",
       "\n",
       "                                       epDescription duration  \\\n",
       "0  <p>Best of with snippets from 3 episodes and a...      803   \n",
       "1  <p>Simon introduces &apos;It&apos;s all Gone&a...      360   \n",
       "2  <p>Simon introduces track 4, of the newly rele...      416   \n",
       "3  <p>This week, Simon introduces track 2- Saturn...      476   \n",
       "4  <p>Big news week. The band Simon lived in the ...      509   \n",
       "\n",
       "                           pubDate copyright  ...  category5  \\\n",
       "0  Sun, 21 Jun 2020 07:00:00 +1000      None  ...  education   \n",
       "1  Sun, 14 Jun 2020 22:00:00 +1000      None  ...  education   \n",
       "2  Sun, 31 May 2020 21:00:00 +1000      None  ...  education   \n",
       "3  Sun, 24 May 2020 19:00:00 +1000      None  ...  education   \n",
       "4  Sun, 17 May 2020 20:00:00 +1000      None  ...  education   \n",
       "\n",
       "          category6 category7 category8 category9 category10  \\\n",
       "0  self improvement      None      None       NaN        NaN   \n",
       "1  self improvement      None      None       NaN        NaN   \n",
       "2  self improvement      None      None       NaN        NaN   \n",
       "3  self improvement      None      None       NaN        NaN   \n",
       "4  self improvement      None      None       NaN        NaN   \n",
       "\n",
       "  newestEnclosureDuration   oldestItemDatetime                 cleanDates  \\\n",
       "0                     0.0  2020-01-04 04:00:00  2020-06-21 07:00:00+10:00   \n",
       "1                     0.0  2020-01-04 04:00:00  2020-06-14 22:00:00+10:00   \n",
       "2                     0.0  2020-01-04 04:00:00  2020-05-31 21:00:00+10:00   \n",
       "3                     0.0  2020-01-04 04:00:00  2020-05-24 19:00:00+10:00   \n",
       "4                     0.0  2020-01-04 04:00:00  2020-05-17 20:00:00+10:00   \n",
       "\n",
       "   cleanDatesLoc  \n",
       "0  1592686800000  \n",
       "1  1592136000000  \n",
       "2  1590922800000  \n",
       "3  1590310800000  \n",
       "4  1589709600000  \n",
       "\n",
       "[5 rows x 59 columns]"
      ]
     },
     "execution_count": 27,
     "metadata": {},
     "output_type": "execute_result"
    }
   ],
   "source": [
    "merged.head() "
   ]
  },
  {
   "cell_type": "code",
   "execution_count": null,
   "metadata": {},
   "outputs": [],
   "source": []
  }
 ],
 "metadata": {
  "kernelspec": {
   "display_name": "Python 3 (ipykernel)",
   "language": "python",
   "name": "python3"
  },
  "language_info": {
   "codemirror_mode": {
    "name": "ipython",
    "version": 3
   },
   "file_extension": ".py",
   "mimetype": "text/x-python",
   "name": "python",
   "nbconvert_exporter": "python",
   "pygments_lexer": "ipython3",
   "version": "3.11.5"
  }
 },
 "nbformat": 4,
 "nbformat_minor": 2
}
