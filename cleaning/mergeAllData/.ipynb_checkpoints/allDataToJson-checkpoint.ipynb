{
 "cells": [
  {
   "cell_type": "code",
   "execution_count": 171,
   "id": "1f6fe7a6-c3b2-4c26-ad7e-b659fc85bc2d",
   "metadata": {},
   "outputs": [],
   "source": [
    "import pandas as pd \n",
    "import matplotlib.pyplot as plt\n",
    "import seaborn as sns\n",
    "import re"
   ]
  },
  {
   "cell_type": "code",
   "execution_count": 3,
   "id": "25a4e099-99c1-437a-a60c-f371094c4c9e",
   "metadata": {},
   "outputs": [
    {
     "name": "stderr",
     "output_type": "stream",
     "text": [
      "<ipython-input-3-42ae7f86572d>:1: DtypeWarning: Columns (6,7,8,12,20,49) have mixed types. Specify dtype option on import or set low_memory=False.\n",
      "  metaDf = pd.read_csv(\"/shared/3/projects/benlitterer/podcastData/processed/floydMonth/floydMonthEn.csv\")\n"
     ]
    }
   ],
   "source": [
    "metaDf = pd.read_csv(\"/shared/3/projects/benlitterer/podcastData/processed/floydMonth/floydMonthEn.csv\", lineterminator=\"\\n\")"
   ]
  },
  {
   "cell_type": "code",
   "execution_count": 111,
   "id": "13fbff24-3a2d-4ded-b69b-eea52adc5be1",
   "metadata": {},
   "outputs": [],
   "source": [
    "entDf = pd.read_csv(\"/shared/3/projects/benlitterer/podcastData/NER/podIntroductions/floydMonth500wordNEs.csv\", names=[\"potentialOutPath\", \"ent\", \"start\", \"end\", \"type\"], lineterminator=\"\\n\")"
   ]
  },
  {
   "cell_type": "code",
   "execution_count": 132,
   "id": "379d3c9b-db2c-4f35-b19f-ad2441e90ea4",
   "metadata": {},
   "outputs": [],
   "source": [
    "descEntDf = pd.read_csv(\"/shared/3/projects/benlitterer/podcastData/NER/podDescriptions/floydMonthNEs.tsv\", sep=\"\\t\",\n",
    "                        names=[\"potentialOutPath\", \"ent\", \"start\", \"end\", \"type\"], lineterminator=\"\\n\")"
   ]
  },
  {
   "cell_type": "code",
   "execution_count": 9,
   "id": "4f3a4827-f979-4098-98bc-caf624de7bb0",
   "metadata": {},
   "outputs": [],
   "source": [
    "transcriptDf = pd.read_csv(\"/shared/3/projects/benlitterer/podcastData/processed/floydMonth/allTranscripts.tsv\", sep=\"\\t\", names=[\"potentialOutPath\", \"transcript\"], lineterminator=\"\\n\")\n"
   ]
  },
  {
   "cell_type": "markdown",
   "id": "8d8d098b-ab53-4333-b6a0-e34e39b051e6",
   "metadata": {},
   "source": [
    "## Clean Each Dataframe"
   ]
  },
  {
   "cell_type": "code",
   "execution_count": 12,
   "id": "9c2e5e98-7436-4998-bc86-1a3418bd0bb2",
   "metadata": {},
   "outputs": [
    {
     "data": {
      "text/plain": [
       "Index(['Unnamed: 0', 'rssUrl', 'epTitle', 'epDescription', 'duration',\n",
       "       'pubDate', 'copyright', 'itunes:type', 'itunes:complete', 'guid',\n",
       "       'itunes:explicit', 'enclosure', 'itunes:image', 'transDict', 'id',\n",
       "       'title', 'lastUpdate', 'link', 'lastHttpStatus', 'dead', 'contentType',\n",
       "       'itunesId', 'originalUrl', 'itunesAuthor', 'itunesOwnerName',\n",
       "       'explicit', 'imageUrl', 'itunesType', 'generator', 'newestItemPubdate',\n",
       "       'language', 'oldestItemPubdate', 'episodeCount', 'popularityScore',\n",
       "       'priority', 'createdOn', 'updateFrequency', 'chash', 'host',\n",
       "       'newestEnclosureUrl', 'podcastGuid', 'podDescription', 'category1',\n",
       "       'category2', 'category3', 'category4', 'category5', 'category6',\n",
       "       'category7', 'category8', 'category9', 'category10',\n",
       "       'newestEnclosureDuration', 'oldestItemDatetime', 'cleanDates',\n",
       "       'potentialOutPath', 'cleanDatesLoc'],\n",
       "      dtype='object')"
      ]
     },
     "execution_count": 12,
     "metadata": {},
     "output_type": "execute_result"
    }
   ],
   "source": [
    "metaDf.columns"
   ]
  },
  {
   "cell_type": "code",
   "execution_count": 19,
   "id": "54341819-6b67-4790-af44-de2a4e1cac8c",
   "metadata": {},
   "outputs": [],
   "source": [
    "metaNaNs = metaDf[\"itunesId\"].isna()"
   ]
  },
  {
   "cell_type": "code",
   "execution_count": 23,
   "id": "5e0d1754-5f7b-4927-96db-d5429c73afc4",
   "metadata": {},
   "outputs": [
    {
     "data": {
      "text/plain": [
       "(128233, 57)"
      ]
     },
     "execution_count": 23,
     "metadata": {},
     "output_type": "execute_result"
    }
   ],
   "source": [
    "#we have quite a few NaN values for itunesAuthor\n",
    "metaDf.loc[metaNaNs].shape"
   ]
  },
  {
   "cell_type": "code",
   "execution_count": 24,
   "id": "6cf62999-fcda-4350-92e6-1e478b04d6f0",
   "metadata": {},
   "outputs": [],
   "source": [
    "guidNaNs = metaDf[\"guid\"].isna()  "
   ]
  },
  {
   "cell_type": "code",
   "execution_count": 25,
   "id": "89da1bc3-5f85-4f28-8df9-2745376ece0c",
   "metadata": {},
   "outputs": [
    {
     "data": {
      "text/plain": [
       "(644, 57)"
      ]
     },
     "execution_count": 25,
     "metadata": {},
     "output_type": "execute_result"
    }
   ],
   "source": [
    "#we have only a tiny number of NaNs for guid\n",
    "metaDf.loc[guidNaNs].shape"
   ]
  },
  {
   "cell_type": "code",
   "execution_count": 28,
   "id": "d2799b86-0cd2-4aa6-a853-7d4c01ea846c",
   "metadata": {},
   "outputs": [
    {
     "data": {
      "text/plain": [
       "37907"
      ]
     },
     "execution_count": 28,
     "metadata": {},
     "output_type": "execute_result"
    }
   ],
   "source": [
    "#we appear to have *some* duplicates for guid \n",
    "#check if they're the same thing? \n",
    "sum(metaDf.duplicated(subset=[\"guid\"])) #.shape "
   ]
  },
  {
   "cell_type": "code",
   "execution_count": 50,
   "id": "ae023ab8-135d-42ba-8c7e-b4028b9ae1fe",
   "metadata": {},
   "outputs": [],
   "source": [
    "#rougly 68k duplicates on guid, which appear to truly be duplicates \n",
    "guidDups = metaDf.loc[metaDf.duplicated(subset=[\"guid\"], keep=False)].sort_values(\"guid\")[[\"guid\", \"epTitle\", \"epDescription\", \"potentialOutPath\"]]"
   ]
  },
  {
   "cell_type": "code",
   "execution_count": 98,
   "id": "3b6f0ba8-3acc-4dda-9cde-b80acff3cba0",
   "metadata": {},
   "outputs": [],
   "source": [
    "potOutDups = metaDf.loc[metaDf.duplicated(subset=[\"potentialOutPath\"], keep=False)].sort_values(\"guid\")[[\"guid\", \"epTitle\", \"epDescription\", \"potentialOutPath\"]]"
   ]
  },
  {
   "cell_type": "code",
   "execution_count": 99,
   "id": "5638ab51-bea3-4944-81cc-71b221bc1e00",
   "metadata": {},
   "outputs": [
    {
     "data": {
      "text/html": [
       "<div>\n",
       "<style scoped>\n",
       "    .dataframe tbody tr th:only-of-type {\n",
       "        vertical-align: middle;\n",
       "    }\n",
       "\n",
       "    .dataframe tbody tr th {\n",
       "        vertical-align: top;\n",
       "    }\n",
       "\n",
       "    .dataframe thead th {\n",
       "        text-align: right;\n",
       "    }\n",
       "</style>\n",
       "<table border=\"1\" class=\"dataframe\">\n",
       "  <thead>\n",
       "    <tr style=\"text-align: right;\">\n",
       "      <th></th>\n",
       "      <th>guid</th>\n",
       "      <th>epTitle</th>\n",
       "      <th>epDescription</th>\n",
       "      <th>potentialOutPath</th>\n",
       "    </tr>\n",
       "  </thead>\n",
       "  <tbody>\n",
       "    <tr>\n",
       "      <th>63686</th>\n",
       "      <td>https://indianapu...</td>\n",
       "      <td>Harmonia Uncut: Viols, Vinci &amp; Vittoria</td>\n",
       "      <td>Three strands are ...</td>\n",
       "      <td>/indianapublicmedia.org/oa/httpsindianapublicm...</td>\n",
       "    </tr>\n",
       "    <tr>\n",
       "      <th>363874</th>\n",
       "      <td>https://indianapu...</td>\n",
       "      <td>Harmonia Uncut: Viols, Vinci &amp; Vittoria</td>\n",
       "      <td>Three strands are ...</td>\n",
       "      <td>/indianapublicmedia.org/oa/httpsindianapublicm...</td>\n",
       "    </tr>\n",
       "    <tr>\n",
       "      <th>63685</th>\n",
       "      <td>https://indianapu...</td>\n",
       "      <td>Harmonia Uncut: Waltham Abbey 1993</td>\n",
       "      <td>The Waltham Abbey ...</td>\n",
       "      <td>/indianapublicmedia.org/ao/httpsindianapublicm...</td>\n",
       "    </tr>\n",
       "    <tr>\n",
       "      <th>363873</th>\n",
       "      <td>https://indianapu...</td>\n",
       "      <td>Harmonia Uncut: Waltham Abbey 1993</td>\n",
       "      <td>The Waltham Abbey ...</td>\n",
       "      <td>/indianapublicmedia.org/ao/httpsindianapublicm...</td>\n",
       "    </tr>\n",
       "    <tr>\n",
       "      <th>331476</th>\n",
       "      <td>https://www.astoriachu...</td>\n",
       "      <td>Created to Know God</td>\n",
       "      <td>NaN</td>\n",
       "      <td>/www.csmedia1.com/or/httpswww.csmedia1.comasto...</td>\n",
       "    </tr>\n",
       "  </tbody>\n",
       "</table>\n",
       "</div>"
      ],
      "text/plain": [
       "                                                     guid  \\\n",
       "63686                                https://indianapu...   \n",
       "363874                               https://indianapu...   \n",
       "63685                                https://indianapu...   \n",
       "363873                               https://indianapu...   \n",
       "331476                          https://www.astoriachu...   \n",
       "\n",
       "                                        epTitle  \\\n",
       "63686   Harmonia Uncut: Viols, Vinci & Vittoria   \n",
       "363874  Harmonia Uncut: Viols, Vinci & Vittoria   \n",
       "63685        Harmonia Uncut: Waltham Abbey 1993   \n",
       "363873       Harmonia Uncut: Waltham Abbey 1993   \n",
       "331476                      Created to Know God   \n",
       "\n",
       "                                            epDescription  \\\n",
       "63686                               Three strands are ...   \n",
       "363874                              Three strands are ...   \n",
       "63685                               The Waltham Abbey ...   \n",
       "363873                              The Waltham Abbey ...   \n",
       "331476                                                NaN   \n",
       "\n",
       "                                         potentialOutPath  \n",
       "63686   /indianapublicmedia.org/oa/httpsindianapublicm...  \n",
       "363874  /indianapublicmedia.org/oa/httpsindianapublicm...  \n",
       "63685   /indianapublicmedia.org/ao/httpsindianapublicm...  \n",
       "363873  /indianapublicmedia.org/ao/httpsindianapublicm...  \n",
       "331476  /www.csmedia1.com/or/httpswww.csmedia1.comasto...  "
      ]
     },
     "execution_count": 99,
     "metadata": {},
     "output_type": "execute_result"
    }
   ],
   "source": [
    "potOutDups.head() "
   ]
  },
  {
   "cell_type": "code",
   "execution_count": 55,
   "id": "452d53d1-6dae-40c7-9bc9-b4849c48d6ea",
   "metadata": {},
   "outputs": [
    {
     "data": {
      "text/plain": [
       "(32296, 4)"
      ]
     },
     "execution_count": 55,
     "metadata": {},
     "output_type": "execute_result"
    }
   ],
   "source": [
    "#we get some duplicates here on potentialOutPath\n",
    "potOutDups.shape"
   ]
  },
  {
   "cell_type": "code",
   "execution_count": 56,
   "id": "124059d5-d787-437e-b5a4-79e5efe38112",
   "metadata": {},
   "outputs": [
    {
     "data": {
      "text/plain": [
       "(32296, 4)"
      ]
     },
     "execution_count": 56,
     "metadata": {},
     "output_type": "execute_result"
    }
   ],
   "source": [
    "#so about 15k are duplicates, not ideal but fine \n",
    "potOutDups.shape"
   ]
  },
  {
   "cell_type": "code",
   "execution_count": 64,
   "id": "c5909328-6c81-47fd-ae39-fb26113b6c36",
   "metadata": {},
   "outputs": [
    {
     "data": {
      "text/html": [
       "<div>\n",
       "<style scoped>\n",
       "    .dataframe tbody tr th:only-of-type {\n",
       "        vertical-align: middle;\n",
       "    }\n",
       "\n",
       "    .dataframe tbody tr th {\n",
       "        vertical-align: top;\n",
       "    }\n",
       "\n",
       "    .dataframe thead th {\n",
       "        text-align: right;\n",
       "    }\n",
       "</style>\n",
       "<table border=\"1\" class=\"dataframe\">\n",
       "  <thead>\n",
       "    <tr style=\"text-align: right;\">\n",
       "      <th></th>\n",
       "      <th>Unnamed: 0</th>\n",
       "      <th>rssUrl</th>\n",
       "      <th>epTitle</th>\n",
       "      <th>epDescription</th>\n",
       "      <th>duration</th>\n",
       "      <th>pubDate</th>\n",
       "      <th>copyright</th>\n",
       "      <th>itunes:type</th>\n",
       "      <th>itunes:complete</th>\n",
       "      <th>guid</th>\n",
       "      <th>...</th>\n",
       "      <th>category6</th>\n",
       "      <th>category7</th>\n",
       "      <th>category8</th>\n",
       "      <th>category9</th>\n",
       "      <th>category10</th>\n",
       "      <th>newestEnclosureDuration</th>\n",
       "      <th>oldestItemDatetime</th>\n",
       "      <th>cleanDates</th>\n",
       "      <th>potentialOutPath</th>\n",
       "      <th>cleanDatesLoc</th>\n",
       "    </tr>\n",
       "  </thead>\n",
       "  <tbody>\n",
       "    <tr>\n",
       "      <th>322961</th>\n",
       "      <td>22462421</td>\n",
       "      <td>https://feeds.captivate.fm/hotyoungdesignersclub/</td>\n",
       "      <td>07: A Conversation With Lindsey Brooke</td>\n",
       "      <td>&lt;p&gt;This week the Hot Young Designers sit down ...</td>\n",
       "      <td>01:17:40</td>\n",
       "      <td>Wed, 13 May 2020 06:00:00 -0700</td>\n",
       "      <td>NaN</td>\n",
       "      <td>NaN</td>\n",
       "      <td>NaN</td>\n",
       "      <td>00440d78-22e1-4ebd-aec4-b156d84b8782</td>\n",
       "      <td>...</td>\n",
       "      <td>self improvement</td>\n",
       "      <td>NaN</td>\n",
       "      <td>NaN</td>\n",
       "      <td>NaN</td>\n",
       "      <td>NaN</td>\n",
       "      <td>3886.0</td>\n",
       "      <td>2020-04-01 15:00:00</td>\n",
       "      <td>2020-05-13 06:00:00-07:00</td>\n",
       "      <td>/chtbl.com/a0/httpschtbl.comtrackDA1CA8podcast...</td>\n",
       "      <td>2020-05-13 13:00:00+00:00</td>\n",
       "    </tr>\n",
       "  </tbody>\n",
       "</table>\n",
       "<p>1 rows × 57 columns</p>\n",
       "</div>"
      ],
      "text/plain": [
       "        Unnamed: 0                                             rssUrl  \\\n",
       "322961    22462421  https://feeds.captivate.fm/hotyoungdesignersclub/   \n",
       "\n",
       "                                       epTitle  \\\n",
       "322961  07: A Conversation With Lindsey Brooke   \n",
       "\n",
       "                                            epDescription  duration  \\\n",
       "322961  <p>This week the Hot Young Designers sit down ...  01:17:40   \n",
       "\n",
       "                                pubDate copyright itunes:type itunes:complete  \\\n",
       "322961  Wed, 13 May 2020 06:00:00 -0700       NaN         NaN             NaN   \n",
       "\n",
       "                                        guid  ...         category6 category7  \\\n",
       "322961  00440d78-22e1-4ebd-aec4-b156d84b8782  ...  self improvement       NaN   \n",
       "\n",
       "       category8 category9  category10 newestEnclosureDuration  \\\n",
       "322961       NaN       NaN         NaN                  3886.0   \n",
       "\n",
       "         oldestItemDatetime                 cleanDates  \\\n",
       "322961  2020-04-01 15:00:00  2020-05-13 06:00:00-07:00   \n",
       "\n",
       "                                         potentialOutPath  \\\n",
       "322961  /chtbl.com/a0/httpschtbl.comtrackDA1CA8podcast...   \n",
       "\n",
       "                    cleanDatesLoc  \n",
       "322961  2020-05-13 13:00:00+00:00  \n",
       "\n",
       "[1 rows x 57 columns]"
      ]
     },
     "execution_count": 64,
     "metadata": {},
     "output_type": "execute_result"
    }
   ],
   "source": [
    "metaDf.sample() "
   ]
  },
  {
   "cell_type": "code",
   "execution_count": 65,
   "id": "905e1389-1b9d-4421-8436-d14e31885d37",
   "metadata": {},
   "outputs": [
    {
     "data": {
      "text/plain": [
       "(904, 2)"
      ]
     },
     "execution_count": 65,
     "metadata": {},
     "output_type": "execute_result"
    }
   ],
   "source": [
    "transcriptDf[transcriptDf[\"potentialOutPath\"].duplicated()].shape"
   ]
  },
  {
   "cell_type": "code",
   "execution_count": 66,
   "id": "565c9af1-0a4e-436f-bd7c-cb751312db3e",
   "metadata": {},
   "outputs": [
    {
     "data": {
      "text/plain": [
       "(377724, 2)"
      ]
     },
     "execution_count": 66,
     "metadata": {},
     "output_type": "execute_result"
    }
   ],
   "source": [
    "transcriptDf.shape"
   ]
  },
  {
   "cell_type": "code",
   "execution_count": 71,
   "id": "11158735-c3b1-43a2-a4bb-b7c13dafe935",
   "metadata": {},
   "outputs": [
    {
     "data": {
      "text/plain": [
       "1"
      ]
     },
     "execution_count": 71,
     "metadata": {},
     "output_type": "execute_result"
    }
   ],
   "source": [
    "sum(transcriptDf[\"transcript\"].isna())"
   ]
  },
  {
   "cell_type": "code",
   "execution_count": 82,
   "id": "04a7902a-c644-4699-b052-a0a56ec8ef15",
   "metadata": {},
   "outputs": [],
   "source": [
    "lens = transcriptDf[\"transcript\"].sample(5000).dropna().apply(lambda x: len(x.split())) "
   ]
  },
  {
   "cell_type": "code",
   "execution_count": 86,
   "id": "81881f1f-a1b9-47be-8183-9b806b4b018c",
   "metadata": {},
   "outputs": [
    {
     "data": {
      "text/plain": [
       "<Axes: xlabel='transcript', ylabel='Proportion'>"
      ]
     },
     "execution_count": 86,
     "metadata": {},
     "output_type": "execute_result"
    },
    {
     "data": {
      "image/png": "[encoded data removed]",
      "text/plain": [
       "<Figure size 432x288 with 1 Axes>"
      ]
     },
     "metadata": {
      "needs_background": "light"
     },
     "output_type": "display_data"
    }
   ],
   "source": [
    "sns.ecdfplot(x=lens)"
   ]
  },
  {
   "cell_type": "code",
   "execution_count": 90,
   "id": "c2013c54-891d-4d54-8124-feb0ffaafc0b",
   "metadata": {},
   "outputs": [],
   "source": [
    "#first we just merge transcripts to metadata \n",
    "potOutDups = transcriptDf[transcriptDf[\"potentialOutPath\"].duplicated(keep=False)].sort_values(\"potentialOutPath\")"
   ]
  },
  {
   "cell_type": "code",
   "execution_count": 96,
   "id": "5740f454-a8e4-46fe-ba01-12299099ab8e",
   "metadata": {},
   "outputs": [
    {
     "name": "stdout",
     "output_type": "stream",
     "text": [
      "content The following is a continuation in our series through the seven letters to the churches of R\n",
      "content The following is a continuation in our series through the seven letters to the churches of R\n"
     ]
    }
   ],
   "source": [
    "#it appears we do have some duplicate paths and transcripts? unclear exactly how this happened\n",
    "#rare enough that we can ignore \n",
    "print(potOutDups.iloc[0, 1][:100])\n",
    "print(potOutDups.iloc[1, 1][:100])"
   ]
  },
  {
   "cell_type": "code",
   "execution_count": 100,
   "id": "42fe734e-a4d3-4825-bd30-3722d6e5b317",
   "metadata": {},
   "outputs": [],
   "source": [
    "#de-duplicate rows in metadata \n",
    "metaDf = metaDf.drop_duplicates(subset=[\"potentialOutPath\"]) "
   ]
  },
  {
   "cell_type": "code",
   "execution_count": 102,
   "id": "5870c524-471a-4c26-a25e-97a9d0ec7631",
   "metadata": {},
   "outputs": [],
   "source": [
    "transcriptDf = transcriptDf.drop_duplicates(subset=[\"potentialOutPath\"])"
   ]
  },
  {
   "cell_type": "code",
   "execution_count": 119,
   "id": "25675d79-5723-4588-87ab-1e2e22691c30",
   "metadata": {},
   "outputs": [],
   "source": [
    "metaDf[\"potentialOutPath\"] = \"/shared/3/projects/benlitterer/podcastData/prosodyMerged/floydMonth\" + metaDf[\"potentialOutPath\"]"
   ]
  },
  {
   "cell_type": "code",
   "execution_count": 120,
   "id": "e8bd8185-12c8-4e37-9eab-4dfc740f36a6",
   "metadata": {},
   "outputs": [],
   "source": [
    "df = pd.merge(transcriptDf, metaDf, on=\"potentialOutPath\", how=\"left\") "
   ]
  },
  {
   "cell_type": "code",
   "execution_count": 112,
   "id": "ff613763-1932-4633-bbd7-e9fd58725bcb",
   "metadata": {},
   "outputs": [],
   "source": [
    "#add the entities in, but first check on duplicates \n",
    "entDf = entDf.groupby(by=\"potentialOutPath\").agg(list)"
   ]
  },
  {
   "cell_type": "code",
   "execution_count": 126,
   "id": "5f15b16a-b002-49b6-bb10-18744260ca3b",
   "metadata": {},
   "outputs": [],
   "source": [
    "entDf = entDf.reset_index() "
   ]
  },
  {
   "cell_type": "code",
   "execution_count": 127,
   "id": "53e11e70-e54a-45e6-b9ad-8a34b1c86675",
   "metadata": {},
   "outputs": [],
   "source": [
    "df = pd.merge(df, entDf, on=\"potentialOutPath\", how=\"left\") "
   ]
  },
  {
   "cell_type": "code",
   "execution_count": 136,
   "id": "c5b17af5-33e3-4d3b-b6f0-5c79eae4a075",
   "metadata": {},
   "outputs": [],
   "source": [
    "descEntDf = descEntDf.groupby(by=\"potentialOutPath\").agg(list)"
   ]
  },
  {
   "cell_type": "code",
   "execution_count": 143,
   "id": "23e579ff-6d8c-471e-931d-3fed631abb5a",
   "metadata": {},
   "outputs": [],
   "source": [
    "descEntDf = descEntDf.reset_index() "
   ]
  },
  {
   "cell_type": "code",
   "execution_count": 144,
   "id": "e384e945-019b-496b-92e7-8fc851e4ac27",
   "metadata": {},
   "outputs": [],
   "source": [
    "descEntDf[\"potentialOutPath\"] = \"/shared/3/projects/benlitterer/podcastData/prosodyMerged/floydMonth\" + descEntDf[\"potentialOutPath\"]"
   ]
  },
  {
   "cell_type": "code",
   "execution_count": 146,
   "id": "67d68d4b-97c5-456f-9366-0251e3700e14",
   "metadata": {},
   "outputs": [
    {
     "data": {
      "text/plain": [
       "Index(['potentialOutPath', 'transcript', 'Unnamed: 0', 'rssUrl', 'epTitle',\n",
       "       'epDescription', 'duration', 'pubDate', 'copyright', 'itunes:type',\n",
       "       'itunes:complete', 'guid', 'itunes:explicit', 'enclosure',\n",
       "       'itunes:image', 'transDict', 'id', 'title', 'lastUpdate', 'link',\n",
       "       'lastHttpStatus', 'dead', 'contentType', 'itunesId', 'originalUrl',\n",
       "       'itunesAuthor', 'itunesOwnerName', 'explicit', 'imageUrl', 'itunesType',\n",
       "       'generator', 'newestItemPubdate', 'language', 'oldestItemPubdate',\n",
       "       'episodeCount', 'popularityScore', 'priority', 'createdOn',\n",
       "       'updateFrequency', 'chash', 'host', 'newestEnclosureUrl', 'podcastGuid',\n",
       "       'podDescription', 'category1', 'category2', 'category3', 'category4',\n",
       "       'category5', 'category6', 'category7', 'category8', 'category9',\n",
       "       'category10', 'newestEnclosureDuration', 'oldestItemDatetime',\n",
       "       'cleanDates', 'cleanDatesLoc', 'ent', 'start', 'end', 'type'],\n",
       "      dtype='object')"
      ]
     },
     "execution_count": 146,
     "metadata": {},
     "output_type": "execute_result"
    }
   ],
   "source": [
    "df.columns"
   ]
  },
  {
   "cell_type": "code",
   "execution_count": 148,
   "id": "ed604366-5c51-445a-b2fe-f3c9c2f17ec3",
   "metadata": {},
   "outputs": [],
   "source": [
    "df = df.rename(columns={\"ent\":\"500ent\", \"start\":\"500start\", \"end\":\"500end\", \"type\":\"500type\"})"
   ]
  },
  {
   "cell_type": "code",
   "execution_count": 149,
   "id": "bf856aa7-7284-46e2-9008-95d46ed3397f",
   "metadata": {},
   "outputs": [],
   "source": [
    "df = df.drop(columns=['Unnamed: 0']) "
   ]
  },
  {
   "cell_type": "code",
   "execution_count": 155,
   "id": "52a84f08-f11d-4959-9d64-d643c3b9a789",
   "metadata": {},
   "outputs": [
    {
     "data": {
      "text/html": [
       "<div>\n",
       "<style scoped>\n",
       "    .dataframe tbody tr th:only-of-type {\n",
       "        vertical-align: middle;\n",
       "    }\n",
       "\n",
       "    .dataframe tbody tr th {\n",
       "        vertical-align: top;\n",
       "    }\n",
       "\n",
       "    .dataframe thead th {\n",
       "        text-align: right;\n",
       "    }\n",
       "</style>\n",
       "<table border=\"1\" class=\"dataframe\">\n",
       "  <thead>\n",
       "    <tr style=\"text-align: right;\">\n",
       "      <th></th>\n",
       "      <th>potentialOutPath</th>\n",
       "      <th>ent</th>\n",
       "      <th>start</th>\n",
       "      <th>end</th>\n",
       "      <th>type</th>\n",
       "    </tr>\n",
       "  </thead>\n",
       "  <tbody>\n",
       "    <tr>\n",
       "      <th>0</th>\n",
       "      <td>/shared/3/projects/benlitterer/podcastData/pro...</td>\n",
       "      <td>[TCF Sermons]</td>\n",
       "      <td>[0]</td>\n",
       "      <td>[11]</td>\n",
       "      <td>[ORG]</td>\n",
       "    </tr>\n",
       "    <tr>\n",
       "      <th>1</th>\n",
       "      <td>/shared/3/projects/benlitterer/podcastData/pro...</td>\n",
       "      <td>[KSCO Pet Radio's, Sundays 12-2 PM]</td>\n",
       "      <td>[0, 425]</td>\n",
       "      <td>[16, 440]</td>\n",
       "      <td>[ORG, DATE]</td>\n",
       "    </tr>\n",
       "    <tr>\n",
       "      <th>2</th>\n",
       "      <td>/shared/3/projects/benlitterer/podcastData/pro...</td>\n",
       "      <td>[the Truth of Jesus Christ, New Community Cove...</td>\n",
       "      <td>[17, 142, 172, 203, 213, 260, 293, 344, 392, 4...</td>\n",
       "      <td>[42, 171, 183, 210, 224, 289, 305, 356, 401, 4...</td>\n",
       "      <td>[WORK_OF_ART, ORG, GPE, GPE, GPE, ORG, FAC, PE...</td>\n",
       "    </tr>\n",
       "    <tr>\n",
       "      <th>3</th>\n",
       "      <td>/shared/3/projects/benlitterer/podcastData/pro...</td>\n",
       "      <td>[the Truth of Jesus Christ, New Community Cove...</td>\n",
       "      <td>[17, 142, 172, 203, 213, 260, 293, 344, 392, 4...</td>\n",
       "      <td>[42, 171, 183, 210, 224, 289, 305, 356, 401, 4...</td>\n",
       "      <td>[WORK_OF_ART, ORG, GPE, GPE, GPE, ORG, FAC, PE...</td>\n",
       "    </tr>\n",
       "    <tr>\n",
       "      <th>4</th>\n",
       "      <td>/shared/3/projects/benlitterer/podcastData/pro...</td>\n",
       "      <td>[the Truth of Jesus Christ, New Community Cove...</td>\n",
       "      <td>[17, 142, 172, 203, 213, 260, 293, 344, 392, 4...</td>\n",
       "      <td>[42, 171, 183, 210, 224, 289, 305, 356, 401, 4...</td>\n",
       "      <td>[WORK_OF_ART, ORG, GPE, GPE, GPE, ORG, FAC, PE...</td>\n",
       "    </tr>\n",
       "  </tbody>\n",
       "</table>\n",
       "</div>"
      ],
      "text/plain": [
       "                                    potentialOutPath  \\\n",
       "0  /shared/3/projects/benlitterer/podcastData/pro...   \n",
       "1  /shared/3/projects/benlitterer/podcastData/pro...   \n",
       "2  /shared/3/projects/benlitterer/podcastData/pro...   \n",
       "3  /shared/3/projects/benlitterer/podcastData/pro...   \n",
       "4  /shared/3/projects/benlitterer/podcastData/pro...   \n",
       "\n",
       "                                                 ent  \\\n",
       "0                                      [TCF Sermons]   \n",
       "1                [KSCO Pet Radio's, Sundays 12-2 PM]   \n",
       "2  [the Truth of Jesus Christ, New Community Cove...   \n",
       "3  [the Truth of Jesus Christ, New Community Cove...   \n",
       "4  [the Truth of Jesus Christ, New Community Cove...   \n",
       "\n",
       "                                               start  \\\n",
       "0                                                [0]   \n",
       "1                                           [0, 425]   \n",
       "2  [17, 142, 172, 203, 213, 260, 293, 344, 392, 4...   \n",
       "3  [17, 142, 172, 203, 213, 260, 293, 344, 392, 4...   \n",
       "4  [17, 142, 172, 203, 213, 260, 293, 344, 392, 4...   \n",
       "\n",
       "                                                 end  \\\n",
       "0                                               [11]   \n",
       "1                                          [16, 440]   \n",
       "2  [42, 171, 183, 210, 224, 289, 305, 356, 401, 4...   \n",
       "3  [42, 171, 183, 210, 224, 289, 305, 356, 401, 4...   \n",
       "4  [42, 171, 183, 210, 224, 289, 305, 356, 401, 4...   \n",
       "\n",
       "                                                type  \n",
       "0                                              [ORG]  \n",
       "1                                        [ORG, DATE]  \n",
       "2  [WORK_OF_ART, ORG, GPE, GPE, GPE, ORG, FAC, PE...  \n",
       "3  [WORK_OF_ART, ORG, GPE, GPE, GPE, ORG, FAC, PE...  \n",
       "4  [WORK_OF_ART, ORG, GPE, GPE, GPE, ORG, FAC, PE...  "
      ]
     },
     "execution_count": 155,
     "metadata": {},
     "output_type": "execute_result"
    }
   ],
   "source": [
    "descEntDf.head()"
   ]
  },
  {
   "cell_type": "code",
   "execution_count": 189,
   "id": "37cd650c-b9e9-45bb-8286-e4e75ff01752",
   "metadata": {},
   "outputs": [],
   "source": [
    "df = pd.merge(df, descEntDf, on=\"potentialOutPath\", how=\"left\") "
   ]
  },
  {
   "cell_type": "code",
   "execution_count": 191,
   "id": "afdcb563-7632-487b-939c-fe0b85b7d5e2",
   "metadata": {},
   "outputs": [],
   "source": [
    "df = df.rename(columns={\"ent\":\"DescEnt\", \"start\":\"DescStart\", \"end\":\"DescEnd\", \"type\":\"DescType\"})"
   ]
  },
  {
   "cell_type": "code",
   "execution_count": 153,
   "id": "9f03391a-d994-4f85-a621-8d64f76d06ae",
   "metadata": {},
   "outputs": [],
   "source": [
    "samp = df.sample(5000)"
   ]
  },
  {
   "cell_type": "code",
   "execution_count": 186,
   "id": "56e02b3e-006d-423e-9e14-ed00ed4db7b1",
   "metadata": {},
   "outputs": [
    {
     "data": {
      "text/plain": [
       "'content Alright\" good morning. It is Friday and after the weekend I am taking Monday and Tuesday off of work. So this is exciting. It\\'s been a while since I\\'ve taken vacation when the factory\\'s been open for more than just one day here and there. So I think I took one day back in January. It was a ton of fun because I happened to be sick during that time. So had a vacation day\" it\\'s gonna go and do some good fun stuff but then couldn\\'t and it was a bummer. So I guess I\\'m just hoping I don\\'t get sick for my vacation days. But I\\'m just pretty excited to not gonna really be doing anything. I\\'m gonna be trying to get a haircut so that\\'s kind of what the world has come to under COVID-19 is I gotta take two days off to go get a haircut. The bald look doesn\\'t quite work for me. I got a misshapen head. I think I was dropped as a kid and that\\'s either sparked genius or insanity but it does not lead to certain hairstyles. But today is the last day we are working the factory for the month. We despite a lot of struggles should be pretty close to our goal. Our goal already was above our AOP and in forecast so it was pretty exciting to have yet another month where we are going to perform better than what the plan was that was set last year. Whether or not that plan was set correctly and all this extra that we\\'re doing is the right approach. It kind of feels a little like sandbagging but understanding that other parts of our business around the world are much more affected by COVID-19 than we are. Once again we are keeping the ball moving and keeping the company going so it kind of feels good to be a part of something that\\'s helping the business overall be successful and not just an isolated site that lives and dies by its own success. It doesn\\'t really have much impact on other sites. The money that we make is going to help make up for whatever other sites are struggling to do. It\\'s kind of cool to be able to feel like that\\'s contributing to the overall success of the business. L'"
      ]
     },
     "execution_count": 186,
     "metadata": {},
     "output_type": "execute_result"
    }
   ],
   "source": [
    "list(transcriptDf.sample(1)[\"transcript\"])[0][:2000]"
   ]
  },
  {
   "cell_type": "code",
   "execution_count": 187,
   "id": "2bb1d5cc-34f3-4722-972f-b0c43e72077b",
   "metadata": {},
   "outputs": [],
   "source": [
    "def cleanQuotes(inStr): \n",
    "    if inStr != inStr: \n",
    "        return inStr \n",
    "    outStr = re.sub('(?<!\")\"(?!\")', ',',inStr) \n",
    "    return re.sub('\"\"\"', '\"', outStr)"
   ]
  },
  {
   "cell_type": "code",
   "execution_count": 194,
   "id": "a9ec54c0-ff46-434d-8f68-fd5d68b7e629",
   "metadata": {},
   "outputs": [],
   "source": [
    "samp = samp[\"transcript\"].apply(cleanQuotes)  "
   ]
  },
  {
   "cell_type": "code",
   "execution_count": 201,
   "id": "a5a111bf-73a6-4aae-ac43-c4f30af7f12f",
   "metadata": {},
   "outputs": [],
   "source": [
    "from tqdm import tqdm"
   ]
  },
  {
   "cell_type": "code",
   "execution_count": 221,
   "id": "6ac7b5d2-7766-42af-b9f9-1540c954d8aa",
   "metadata": {},
   "outputs": [
    {
     "name": "stderr",
     "output_type": "stream",
     "text": [
      "6853it [00:54, 125.04it/s]\n"
     ]
    },
    {
     "ename": "KeyboardInterrupt",
     "evalue": "",
     "output_type": "error",
     "traceback": [
      "\u001b[0;31m---------------------------------------------------------------------------\u001b[0m",
      "\u001b[0;31mKeyboardInterrupt\u001b[0m                         Traceback (most recent call last)",
      "Cell \u001b[0;32mIn[221], line 3\u001b[0m\n\u001b[1;32m      1\u001b[0m outList \u001b[38;5;241m=\u001b[39m []\n\u001b[1;32m      2\u001b[0m \u001b[38;5;28;01mfor\u001b[39;00m i, row \u001b[38;5;129;01min\u001b[39;00m tqdm(df\u001b[38;5;241m.\u001b[39miterrows()): \n\u001b[0;32m----> 3\u001b[0m     outList\u001b[38;5;241m.\u001b[39mappend(\u001b[43mcleanQuotes\u001b[49m\u001b[43m(\u001b[49m\u001b[43mrow\u001b[49m\u001b[43m[\u001b[49m\u001b[38;5;124;43m\"\u001b[39;49m\u001b[38;5;124;43mtranscript\u001b[39;49m\u001b[38;5;124;43m\"\u001b[39;49m\u001b[43m]\u001b[49m\u001b[43m)\u001b[49m[\u001b[38;5;241m8\u001b[39m:])\n",
      "Cell \u001b[0;32mIn[187], line 4\u001b[0m, in \u001b[0;36mcleanQuotes\u001b[0;34m(inStr)\u001b[0m\n\u001b[1;32m      2\u001b[0m \u001b[38;5;28;01mif\u001b[39;00m inStr \u001b[38;5;241m!=\u001b[39m inStr: \n\u001b[1;32m      3\u001b[0m     \u001b[38;5;28;01mreturn\u001b[39;00m inStr \n\u001b[0;32m----> 4\u001b[0m outStr \u001b[38;5;241m=\u001b[39m \u001b[43mre\u001b[49m\u001b[38;5;241;43m.\u001b[39;49m\u001b[43msub\u001b[49m\u001b[43m(\u001b[49m\u001b[38;5;124;43m'\u001b[39;49m\u001b[38;5;124;43m(?<!\u001b[39;49m\u001b[38;5;124;43m\"\u001b[39;49m\u001b[38;5;124;43m)\u001b[39;49m\u001b[38;5;124;43m\"\u001b[39;49m\u001b[38;5;124;43m(?!\u001b[39;49m\u001b[38;5;124;43m\"\u001b[39;49m\u001b[38;5;124;43m)\u001b[39;49m\u001b[38;5;124;43m'\u001b[39;49m\u001b[43m,\u001b[49m\u001b[43m \u001b[49m\u001b[38;5;124;43m'\u001b[39;49m\u001b[38;5;124;43m,\u001b[39;49m\u001b[38;5;124;43m'\u001b[39;49m\u001b[43m,\u001b[49m\u001b[43minStr\u001b[49m\u001b[43m)\u001b[49m \n\u001b[1;32m      5\u001b[0m \u001b[38;5;28;01mreturn\u001b[39;00m re\u001b[38;5;241m.\u001b[39msub(\u001b[38;5;124m'\u001b[39m\u001b[38;5;124m\"\u001b[39m\u001b[38;5;124m\"\u001b[39m\u001b[38;5;124m\"\u001b[39m\u001b[38;5;124m'\u001b[39m, \u001b[38;5;124m'\u001b[39m\u001b[38;5;124m\"\u001b[39m\u001b[38;5;124m'\u001b[39m, outStr)\n",
      "File \u001b[0;32m/opt/anaconda/lib/python3.9/re.py:210\u001b[0m, in \u001b[0;36msub\u001b[0;34m(pattern, repl, string, count, flags)\u001b[0m\n\u001b[1;32m    203\u001b[0m \u001b[38;5;28;01mdef\u001b[39;00m \u001b[38;5;21msub\u001b[39m(pattern, repl, string, count\u001b[38;5;241m=\u001b[39m\u001b[38;5;241m0\u001b[39m, flags\u001b[38;5;241m=\u001b[39m\u001b[38;5;241m0\u001b[39m):\n\u001b[1;32m    204\u001b[0m     \u001b[38;5;124;03m\"\"\"Return the string obtained by replacing the leftmost\u001b[39;00m\n\u001b[1;32m    205\u001b[0m \u001b[38;5;124;03m    non-overlapping occurrences of the pattern in string by the\u001b[39;00m\n\u001b[1;32m    206\u001b[0m \u001b[38;5;124;03m    replacement repl.  repl can be either a string or a callable;\u001b[39;00m\n\u001b[1;32m    207\u001b[0m \u001b[38;5;124;03m    if a string, backslash escapes in it are processed.  If it is\u001b[39;00m\n\u001b[1;32m    208\u001b[0m \u001b[38;5;124;03m    a callable, it's passed the Match object and must return\u001b[39;00m\n\u001b[1;32m    209\u001b[0m \u001b[38;5;124;03m    a replacement string to be used.\"\"\"\u001b[39;00m\n\u001b[0;32m--> 210\u001b[0m     \u001b[38;5;28;01mreturn\u001b[39;00m \u001b[43m_compile\u001b[49m\u001b[43m(\u001b[49m\u001b[43mpattern\u001b[49m\u001b[43m,\u001b[49m\u001b[43m \u001b[49m\u001b[43mflags\u001b[49m\u001b[43m)\u001b[49m\u001b[38;5;241;43m.\u001b[39;49m\u001b[43msub\u001b[49m\u001b[43m(\u001b[49m\u001b[43mrepl\u001b[49m\u001b[43m,\u001b[49m\u001b[43m \u001b[49m\u001b[43mstring\u001b[49m\u001b[43m,\u001b[49m\u001b[43m \u001b[49m\u001b[43mcount\u001b[49m\u001b[43m)\u001b[49m\n",
      "\u001b[0;31mKeyboardInterrupt\u001b[0m: "
     ]
    }
   ],
   "source": [
    "outList = []\n",
    "for i, row in tqdm(df.iterrows()): \n",
    "    outList.append(cleanQuotes(row[\"transcript\"])[8:])"
   ]
  },
  {
   "cell_type": "code",
   "execution_count": 200,
   "id": "2561cca4-dfba-44c8-b6e5-747797be9052",
   "metadata": {},
   "outputs": [
    {
     "ename": "KeyboardInterrupt",
     "evalue": "",
     "output_type": "error",
     "traceback": [
      "\u001b[0;31m---------------------------------------------------------------------------\u001b[0m",
      "\u001b[0;31mKeyboardInterrupt\u001b[0m                         Traceback (most recent call last)",
      "Cell \u001b[0;32mIn[200], line 1\u001b[0m\n\u001b[0;32m----> 1\u001b[0m df[\u001b[38;5;124m\"\u001b[39m\u001b[38;5;124mtranscript\u001b[39m\u001b[38;5;124m\"\u001b[39m] \u001b[38;5;241m=\u001b[39m \u001b[43mdf\u001b[49m\u001b[43m[\u001b[49m\u001b[38;5;124;43m\"\u001b[39;49m\u001b[38;5;124;43mtranscript\u001b[39;49m\u001b[38;5;124;43m\"\u001b[39;49m\u001b[43m]\u001b[49m\u001b[38;5;241;43m.\u001b[39;49m\u001b[43mapply\u001b[49m\u001b[43m(\u001b[49m\u001b[43mcleanQuotes\u001b[49m\u001b[43m)\u001b[49m\n",
      "File \u001b[0;32m/opt/anaconda/lib/python3.9/site-packages/pandas/core/series.py:4630\u001b[0m, in \u001b[0;36mSeries.apply\u001b[0;34m(self, func, convert_dtype, args, **kwargs)\u001b[0m\n\u001b[1;32m   4520\u001b[0m \u001b[38;5;28;01mdef\u001b[39;00m \u001b[38;5;21mapply\u001b[39m(\n\u001b[1;32m   4521\u001b[0m     \u001b[38;5;28mself\u001b[39m,\n\u001b[1;32m   4522\u001b[0m     func: AggFuncType,\n\u001b[0;32m   (...)\u001b[0m\n\u001b[1;32m   4525\u001b[0m     \u001b[38;5;241m*\u001b[39m\u001b[38;5;241m*\u001b[39mkwargs,\n\u001b[1;32m   4526\u001b[0m ) \u001b[38;5;241m-\u001b[39m\u001b[38;5;241m>\u001b[39m DataFrame \u001b[38;5;241m|\u001b[39m Series:\n\u001b[1;32m   4527\u001b[0m     \u001b[38;5;124;03m\"\"\"\u001b[39;00m\n\u001b[1;32m   4528\u001b[0m \u001b[38;5;124;03m    Invoke function on values of Series.\u001b[39;00m\n\u001b[1;32m   4529\u001b[0m \n\u001b[0;32m   (...)\u001b[0m\n\u001b[1;32m   4628\u001b[0m \u001b[38;5;124;03m    dtype: float64\u001b[39;00m\n\u001b[1;32m   4629\u001b[0m \u001b[38;5;124;03m    \"\"\"\u001b[39;00m\n\u001b[0;32m-> 4630\u001b[0m     \u001b[38;5;28;01mreturn\u001b[39;00m \u001b[43mSeriesApply\u001b[49m\u001b[43m(\u001b[49m\u001b[38;5;28;43mself\u001b[39;49m\u001b[43m,\u001b[49m\u001b[43m \u001b[49m\u001b[43mfunc\u001b[49m\u001b[43m,\u001b[49m\u001b[43m \u001b[49m\u001b[43mconvert_dtype\u001b[49m\u001b[43m,\u001b[49m\u001b[43m \u001b[49m\u001b[43margs\u001b[49m\u001b[43m,\u001b[49m\u001b[43m \u001b[49m\u001b[43mkwargs\u001b[49m\u001b[43m)\u001b[49m\u001b[38;5;241;43m.\u001b[39;49m\u001b[43mapply\u001b[49m\u001b[43m(\u001b[49m\u001b[43m)\u001b[49m\n",
      "File \u001b[0;32m/opt/anaconda/lib/python3.9/site-packages/pandas/core/apply.py:1025\u001b[0m, in \u001b[0;36mSeriesApply.apply\u001b[0;34m(self)\u001b[0m\n\u001b[1;32m   1022\u001b[0m     \u001b[38;5;28;01mreturn\u001b[39;00m \u001b[38;5;28mself\u001b[39m\u001b[38;5;241m.\u001b[39mapply_str()\n\u001b[1;32m   1024\u001b[0m \u001b[38;5;66;03m# self.f is Callable\u001b[39;00m\n\u001b[0;32m-> 1025\u001b[0m \u001b[38;5;28;01mreturn\u001b[39;00m \u001b[38;5;28;43mself\u001b[39;49m\u001b[38;5;241;43m.\u001b[39;49m\u001b[43mapply_standard\u001b[49m\u001b[43m(\u001b[49m\u001b[43m)\u001b[49m\n",
      "File \u001b[0;32m/opt/anaconda/lib/python3.9/site-packages/pandas/core/apply.py:1076\u001b[0m, in \u001b[0;36mSeriesApply.apply_standard\u001b[0;34m(self)\u001b[0m\n\u001b[1;32m   1074\u001b[0m     \u001b[38;5;28;01melse\u001b[39;00m:\n\u001b[1;32m   1075\u001b[0m         values \u001b[38;5;241m=\u001b[39m obj\u001b[38;5;241m.\u001b[39mastype(\u001b[38;5;28mobject\u001b[39m)\u001b[38;5;241m.\u001b[39m_values\n\u001b[0;32m-> 1076\u001b[0m         mapped \u001b[38;5;241m=\u001b[39m \u001b[43mlib\u001b[49m\u001b[38;5;241;43m.\u001b[39;49m\u001b[43mmap_infer\u001b[49m\u001b[43m(\u001b[49m\n\u001b[1;32m   1077\u001b[0m \u001b[43m            \u001b[49m\u001b[43mvalues\u001b[49m\u001b[43m,\u001b[49m\n\u001b[1;32m   1078\u001b[0m \u001b[43m            \u001b[49m\u001b[43mf\u001b[49m\u001b[43m,\u001b[49m\n\u001b[1;32m   1079\u001b[0m \u001b[43m            \u001b[49m\u001b[43mconvert\u001b[49m\u001b[38;5;241;43m=\u001b[39;49m\u001b[38;5;28;43mself\u001b[39;49m\u001b[38;5;241;43m.\u001b[39;49m\u001b[43mconvert_dtype\u001b[49m\u001b[43m,\u001b[49m\n\u001b[1;32m   1080\u001b[0m \u001b[43m        \u001b[49m\u001b[43m)\u001b[49m\n\u001b[1;32m   1082\u001b[0m \u001b[38;5;28;01mif\u001b[39;00m \u001b[38;5;28mlen\u001b[39m(mapped) \u001b[38;5;129;01mand\u001b[39;00m \u001b[38;5;28misinstance\u001b[39m(mapped[\u001b[38;5;241m0\u001b[39m], ABCSeries):\n\u001b[1;32m   1083\u001b[0m     \u001b[38;5;66;03m# GH#43986 Need to do list(mapped) in order to get treated as nested\u001b[39;00m\n\u001b[1;32m   1084\u001b[0m     \u001b[38;5;66;03m#  See also GH#25959 regarding EA support\u001b[39;00m\n\u001b[1;32m   1085\u001b[0m     \u001b[38;5;28;01mreturn\u001b[39;00m obj\u001b[38;5;241m.\u001b[39m_constructor_expanddim(\u001b[38;5;28mlist\u001b[39m(mapped), index\u001b[38;5;241m=\u001b[39mobj\u001b[38;5;241m.\u001b[39mindex)\n",
      "File \u001b[0;32m/opt/anaconda/lib/python3.9/site-packages/pandas/_libs/lib.pyx:2834\u001b[0m, in \u001b[0;36mpandas._libs.lib.map_infer\u001b[0;34m()\u001b[0m\n",
      "Cell \u001b[0;32mIn[187], line 4\u001b[0m, in \u001b[0;36mcleanQuotes\u001b[0;34m(inStr)\u001b[0m\n\u001b[1;32m      2\u001b[0m \u001b[38;5;28;01mif\u001b[39;00m inStr \u001b[38;5;241m!=\u001b[39m inStr: \n\u001b[1;32m      3\u001b[0m     \u001b[38;5;28;01mreturn\u001b[39;00m inStr \n\u001b[0;32m----> 4\u001b[0m outStr \u001b[38;5;241m=\u001b[39m \u001b[43mre\u001b[49m\u001b[38;5;241;43m.\u001b[39;49m\u001b[43msub\u001b[49m\u001b[43m(\u001b[49m\u001b[38;5;124;43m'\u001b[39;49m\u001b[38;5;124;43m(?<!\u001b[39;49m\u001b[38;5;124;43m\"\u001b[39;49m\u001b[38;5;124;43m)\u001b[39;49m\u001b[38;5;124;43m\"\u001b[39;49m\u001b[38;5;124;43m(?!\u001b[39;49m\u001b[38;5;124;43m\"\u001b[39;49m\u001b[38;5;124;43m)\u001b[39;49m\u001b[38;5;124;43m'\u001b[39;49m\u001b[43m,\u001b[49m\u001b[43m \u001b[49m\u001b[38;5;124;43m'\u001b[39;49m\u001b[38;5;124;43m,\u001b[39;49m\u001b[38;5;124;43m'\u001b[39;49m\u001b[43m,\u001b[49m\u001b[43minStr\u001b[49m\u001b[43m)\u001b[49m \n\u001b[1;32m      5\u001b[0m \u001b[38;5;28;01mreturn\u001b[39;00m re\u001b[38;5;241m.\u001b[39msub(\u001b[38;5;124m'\u001b[39m\u001b[38;5;124m\"\u001b[39m\u001b[38;5;124m\"\u001b[39m\u001b[38;5;124m\"\u001b[39m\u001b[38;5;124m'\u001b[39m, \u001b[38;5;124m'\u001b[39m\u001b[38;5;124m\"\u001b[39m\u001b[38;5;124m'\u001b[39m, outStr)\n",
      "File \u001b[0;32m/opt/anaconda/lib/python3.9/re.py:210\u001b[0m, in \u001b[0;36msub\u001b[0;34m(pattern, repl, string, count, flags)\u001b[0m\n\u001b[1;32m    203\u001b[0m \u001b[38;5;28;01mdef\u001b[39;00m \u001b[38;5;21msub\u001b[39m(pattern, repl, string, count\u001b[38;5;241m=\u001b[39m\u001b[38;5;241m0\u001b[39m, flags\u001b[38;5;241m=\u001b[39m\u001b[38;5;241m0\u001b[39m):\n\u001b[1;32m    204\u001b[0m     \u001b[38;5;124;03m\"\"\"Return the string obtained by replacing the leftmost\u001b[39;00m\n\u001b[1;32m    205\u001b[0m \u001b[38;5;124;03m    non-overlapping occurrences of the pattern in string by the\u001b[39;00m\n\u001b[1;32m    206\u001b[0m \u001b[38;5;124;03m    replacement repl.  repl can be either a string or a callable;\u001b[39;00m\n\u001b[1;32m    207\u001b[0m \u001b[38;5;124;03m    if a string, backslash escapes in it are processed.  If it is\u001b[39;00m\n\u001b[1;32m    208\u001b[0m \u001b[38;5;124;03m    a callable, it's passed the Match object and must return\u001b[39;00m\n\u001b[1;32m    209\u001b[0m \u001b[38;5;124;03m    a replacement string to be used.\"\"\"\u001b[39;00m\n\u001b[0;32m--> 210\u001b[0m     \u001b[38;5;28;01mreturn\u001b[39;00m \u001b[43m_compile\u001b[49m\u001b[43m(\u001b[49m\u001b[43mpattern\u001b[49m\u001b[43m,\u001b[49m\u001b[43m \u001b[49m\u001b[43mflags\u001b[49m\u001b[43m)\u001b[49m\u001b[38;5;241;43m.\u001b[39;49m\u001b[43msub\u001b[49m\u001b[43m(\u001b[49m\u001b[43mrepl\u001b[49m\u001b[43m,\u001b[49m\u001b[43m \u001b[49m\u001b[43mstring\u001b[49m\u001b[43m,\u001b[49m\u001b[43m \u001b[49m\u001b[43mcount\u001b[49m\u001b[43m)\u001b[49m\n",
      "\u001b[0;31mKeyboardInterrupt\u001b[0m: "
     ]
    }
   ],
   "source": [
    "df[\"transcript\"] = outList"
   ]
  },
  {
   "cell_type": "code",
   "execution_count": 222,
   "id": "f3bd0801-d501-434b-ba55-aa212a5965ee",
   "metadata": {},
   "outputs": [],
   "source": [
    "df.sample(5000).to_json(\"/shared/3/projects/benlitterer/podcastData/processed/floydMonth/floydMonthData.json\", orient=\"records\", lines=True)"
   ]
  },
  {
   "cell_type": "code",
   "execution_count": null,
   "id": "04b544ed-f186-4161-a73c-134e550ebaf2",
   "metadata": {},
   "outputs": [],
   "source": []
  }
 ],
 "metadata": {
  "kernelspec": {
   "display_name": "Python 3",
   "language": "python",
   "name": "python3"
  },
  "language_info": {
   "codemirror_mode": {
    "name": "ipython",
    "version": 3
   },
   "file_extension": ".py",
   "mimetype": "text/x-python",
   "name": "python",
   "nbconvert_exporter": "python",
   "pygments_lexer": "ipython3",
   "version": "3.9.12"
  }
 },
 "nbformat": 4,
 "nbformat_minor": 5
}
