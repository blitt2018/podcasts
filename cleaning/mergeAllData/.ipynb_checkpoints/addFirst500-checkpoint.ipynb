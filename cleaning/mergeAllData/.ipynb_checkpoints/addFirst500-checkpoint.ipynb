{
 "cells": [
  {
   "cell_type": "code",
   "execution_count": 1,
   "id": "d4fb2021-f31d-4db5-9669-1a0d7238c47b",
   "metadata": {},
   "outputs": [],
   "source": [
    "import pandas as pd"
   ]
  },
  {
   "cell_type": "code",
   "execution_count": 3,
   "id": "1a2132c5-8883-4887-9327-9edde276e1fa",
   "metadata": {},
   "outputs": [],
   "source": [
    "df = pd.read_json(\"/shared/3/projects/benlitterer/podcastData/processed/floydMonth/floydMonthData.jsonl\", orient=\"records\", lines=True)"
   ]
  },
  {
   "cell_type": "code",
   "execution_count": 4,
   "id": "efab278a-271e-43fc-bca8-3e5cffe18ffe",
   "metadata": {},
   "outputs": [],
   "source": [
    "introDf = pd.read_csv(\"/shared/3/projects/benlitterer/podcastData/NER/floydIntroductions.tsv\", sep=\"\\t\", names=[\"potentialOutPath\", \"first500\"]) "
   ]
  },
  {
   "cell_type": "code",
   "execution_count": 5,
   "id": "92b86648-d22f-41e4-9465-1f5eefdd57b7",
   "metadata": {},
   "outputs": [
    {
     "data": {
      "text/html": [
       "<div>\n",
       "<style scoped>\n",
       "    .dataframe tbody tr th:only-of-type {\n",
       "        vertical-align: middle;\n",
       "    }\n",
       "\n",
       "    .dataframe tbody tr th {\n",
       "        vertical-align: top;\n",
       "    }\n",
       "\n",
       "    .dataframe thead th {\n",
       "        text-align: right;\n",
       "    }\n",
       "</style>\n",
       "<table border=\"1\" class=\"dataframe\">\n",
       "  <thead>\n",
       "    <tr style=\"text-align: right;\">\n",
       "      <th></th>\n",
       "      <th>potentialOutPath</th>\n",
       "      <th>first500</th>\n",
       "    </tr>\n",
       "  </thead>\n",
       "  <tbody>\n",
       "    <tr>\n",
       "      <th>0</th>\n",
       "      <td>/shared/3/projects/benlitterer/podcastData/pro...</td>\n",
       "      <td>content I'm Simon Shapiro and this is Sing Out...</td>\n",
       "    </tr>\n",
       "    <tr>\n",
       "      <th>1</th>\n",
       "      <td>/shared/3/projects/benlitterer/podcastData/pro...</td>\n",
       "      <td>content I'm Simon Shapiro and this is Sing Out...</td>\n",
       "    </tr>\n",
       "    <tr>\n",
       "      <th>2</th>\n",
       "      <td>/shared/3/projects/benlitterer/podcastData/pro...</td>\n",
       "      <td>content I'm Simon Shapiro and this is Sing Out...</td>\n",
       "    </tr>\n",
       "    <tr>\n",
       "      <th>3</th>\n",
       "      <td>/shared/3/projects/benlitterer/podcastData/pro...</td>\n",
       "      <td>content Hi\" this is Eli Ortiz Oakley\" Chancell...</td>\n",
       "    </tr>\n",
       "    <tr>\n",
       "      <th>4</th>\n",
       "      <td>/shared/3/projects/benlitterer/podcastData/pro...</td>\n",
       "      <td>content (speaking in foreign language) (speaki...</td>\n",
       "    </tr>\n",
       "  </tbody>\n",
       "</table>\n",
       "</div>"
      ],
      "text/plain": [
       "                                    potentialOutPath  \\\n",
       "0  /shared/3/projects/benlitterer/podcastData/pro...   \n",
       "1  /shared/3/projects/benlitterer/podcastData/pro...   \n",
       "2  /shared/3/projects/benlitterer/podcastData/pro...   \n",
       "3  /shared/3/projects/benlitterer/podcastData/pro...   \n",
       "4  /shared/3/projects/benlitterer/podcastData/pro...   \n",
       "\n",
       "                                            first500  \n",
       "0  content I'm Simon Shapiro and this is Sing Out...  \n",
       "1  content I'm Simon Shapiro and this is Sing Out...  \n",
       "2  content I'm Simon Shapiro and this is Sing Out...  \n",
       "3  content Hi\" this is Eli Ortiz Oakley\" Chancell...  \n",
       "4  content (speaking in foreign language) (speaki...  "
      ]
     },
     "execution_count": 5,
     "metadata": {},
     "output_type": "execute_result"
    }
   ],
   "source": [
    "introDf.head() "
   ]
  },
  {
   "cell_type": "code",
   "execution_count": 6,
   "id": "8f4e4fbf-f789-4989-9939-a28e17b95a88",
   "metadata": {},
   "outputs": [
    {
     "data": {
      "text/plain": [
       "(396985, 65)"
      ]
     },
     "execution_count": 6,
     "metadata": {},
     "output_type": "execute_result"
    }
   ],
   "source": [
    "df.shape"
   ]
  },
  {
   "cell_type": "code",
   "execution_count": 7,
   "id": "8b5766d6-5c9d-4b2b-9fc8-ef6e6c9ce91c",
   "metadata": {},
   "outputs": [
    {
     "data": {
      "text/plain": [
       "(539390, 2)"
      ]
     },
     "execution_count": 7,
     "metadata": {},
     "output_type": "execute_result"
    }
   ],
   "source": [
    "introDf.shape"
   ]
  },
  {
   "cell_type": "code",
   "execution_count": 14,
   "id": "23b2e172-056f-4e8e-a554-3d14ac2d4a2e",
   "metadata": {},
   "outputs": [],
   "source": [
    "introDf = introDf.drop_duplicates(subset=[\"potentialOutPath\"])"
   ]
  },
  {
   "cell_type": "code",
   "execution_count": 15,
   "id": "218b3059-8fab-41a2-8221-0b9ac4fd0f20",
   "metadata": {},
   "outputs": [],
   "source": [
    "merged = pd.merge(df, introDf, on=\"potentialOutPath\", how=\"left\") "
   ]
  },
  {
   "cell_type": "code",
   "execution_count": 16,
   "id": "74fdecd0-283b-4bc7-8a42-91c8b5b8355d",
   "metadata": {},
   "outputs": [
    {
     "data": {
      "text/plain": [
       "(396985, 66)"
      ]
     },
     "execution_count": 16,
     "metadata": {},
     "output_type": "execute_result"
    }
   ],
   "source": [
    "merged.shape"
   ]
  },
  {
   "cell_type": "code",
   "execution_count": null,
   "id": "a0af7ca0-fa67-4c26-bf0d-1c07b488959a",
   "metadata": {},
   "outputs": [],
   "source": [
    "merged.to_json(\"/shared/3/projects/benlitterer/podcastData/processed/floydMonth/floydMonthData.jsonl\", orient=\"records\", lines=True)"
   ]
  },
  {
   "cell_type": "code",
   "execution_count": null,
   "id": "4818a247-3ada-448b-bc38-2a59c33322e9",
   "metadata": {},
   "outputs": [],
   "source": []
  }
 ],
 "metadata": {
  "kernelspec": {
   "display_name": "Python 3",
   "language": "python",
   "name": "python3"
  },
  "language_info": {
   "codemirror_mode": {
    "name": "ipython",
    "version": 3
   },
   "file_extension": ".py",
   "mimetype": "text/x-python",
   "name": "python",
   "nbconvert_exporter": "python",
   "pygments_lexer": "ipython3",
   "version": "3.9.12"
  }
 },
 "nbformat": 4,
 "nbformat_minor": 5
}
