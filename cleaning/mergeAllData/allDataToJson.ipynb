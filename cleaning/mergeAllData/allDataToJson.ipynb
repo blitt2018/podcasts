{
 "cells": [
  {
   "cell_type": "code",
   "execution_count": 373,
   "id": "1f6fe7a6-c3b2-4c26-ad7e-b659fc85bc2d",
   "metadata": {},
   "outputs": [],
   "source": [
    "import pandas as pd \n",
    "import matplotlib.pyplot as plt\n",
    "import seaborn as sns\n",
    "import re\n",
    "import numpy as np"
   ]
  },
  {
   "cell_type": "code",
   "execution_count": null,
   "id": "ce48e859",
   "metadata": {},
   "outputs": [],
   "source": [
    "#~20 minutes to load everything "
   ]
  },
  {
   "cell_type": "code",
   "execution_count": 717,
   "id": "97dee9bd-fae8-487b-abb4-01dc133b5fdc",
   "metadata": {},
   "outputs": [],
   "source": [
    "metaDf = pd.read_csv(\"/shared/3/projects/benlitterer/podcastData/processed/floydMonth/floydMonthEn.csv\", lineterminator=\"\\n\")\n",
    "\n",
    "#load in the entities for the full transcripts \n",
    "#OLD\n",
    "transcriptEnts = pd.read_csv(\"/shared/3/projects/benlitterer/podcastData/NER/transcripts/transcriptNEs.csv\", sep=\"\\t\", names=[\"potentialOutPath\", \"ent\", \"start\", \"end\", \"type\"], lineterminator=\"\\n\")\n",
    "\n",
    "#load in entities for the first parts of the transcripts\n",
    "#first500Ents = pd.read_csv(\"/shared/3/projects/benlitterer/podcastData/NER/podIntroductions/floydMonth500wordNEs.csv\", names=[\"potentialOutPath\", \"ent\", \"start\", \"end\", \"type\"], lineterminator=\"\\n\")\n",
    "\n"
   ]
  },
  {
   "cell_type": "code",
   "execution_count": 375,
   "id": "16607d49",
   "metadata": {},
   "outputs": [],
   "source": [
    "epDescEnts = pd.read_csv(\"/shared/3/projects/benlitterer/podcastData/NER/epDescriptions/epDescriptionNEs.csv\", sep=\"\\t\", names=[\"potentialOutPath\", \"ent\", \"start\", \"end\", \"type\"], lineterminator=\"\\n\")"
   ]
  },
  {
   "cell_type": "code",
   "execution_count": 376,
   "id": "f1a3c08c",
   "metadata": {},
   "outputs": [],
   "source": [
    "#load in the entities for the descriptions \n",
    "descEntDf = pd.read_csv(\"/shared/3/projects/benlitterer/podcastData/NER/podDescriptions/floydMonthNEs.tsv\", sep=\"\\t\",\n",
    "                        names=[\"potentialOutPath\", \"ent\", \"start\", \"end\", \"type\"], lineterminator=\"\\n\")\n",
    "\n",
    "#introDf = pd.read_csv(\"/shared/3/projects/benlitterer/podcastData/NER/floydIntroductions.tsv\", sep=\"\\t\", names=[\"potentialOutPath\", \"first500\"]) \n",
    "\n",
    "transcriptDf = pd.read_csv(\"/shared/3/projects/benlitterer/podcastData/processed/floydMonth/allTranscripts.tsv\", sep=\"\\t\", names=[\"potentialOutPath\", \"transcript\"], lineterminator=\"\\n\")"
   ]
  },
  {
   "cell_type": "code",
   "execution_count": null,
   "id": "84cca595",
   "metadata": {},
   "outputs": [],
   "source": [
    "#check on the \"potentialOutPath\" column "
   ]
  },
  {
   "cell_type": "code",
   "execution_count": null,
   "id": "5948ec36-4514-484e-a519-1a477269e015",
   "metadata": {},
   "outputs": [],
   "source": [
    "\"\"\"\n",
    "random info\n",
    "we have 828 gb of data in transcripts + prosodic information right now\n",
    "\"\"\""
   ]
  },
  {
   "cell_type": "markdown",
   "id": "8d8d098b-ab53-4333-b6a0-e34e39b051e6",
   "metadata": {},
   "source": [
    "## Clean Each Dataframe"
   ]
  },
  {
   "cell_type": "code",
   "execution_count": 377,
   "id": "a7de2570-4c90-4c6a-bbc1-dc29a2065562",
   "metadata": {},
   "outputs": [
    {
     "name": "stdout",
     "output_type": "stream",
     "text": [
      "transcript df shape:(601207, 2)\n"
     ]
    }
   ],
   "source": [
    "print(f\"transcript df shape:{transcriptDf.shape}\") \n",
    "transDups = transcriptDf[transcriptDf.duplicated(subset=[\"potentialOutPath\"], keep=False)]"
   ]
  },
  {
   "cell_type": "code",
   "execution_count": 378,
   "id": "f68e62d4-d74f-417b-9033-3203d863c7de",
   "metadata": {},
   "outputs": [
    {
     "data": {
      "text/plain": [
       "\"\\nout of the 601,207 transcripts, 18,124 of the paths are duplicates.\\n(that's 3.01%), but only half of those get dropped \\n\\nnot exactly sure where these come from is the thing... \\n\""
      ]
     },
     "execution_count": 378,
     "metadata": {},
     "output_type": "execute_result"
    }
   ],
   "source": [
    "\"\"\"\n",
    "out of the 601,207 transcripts, 18,124 of the paths are duplicates.\n",
    "(that's 3.01%), but only half of those get dropped \n",
    "\n",
    "not exactly sure where these come from is the thing... \n",
    "\"\"\""
   ]
  },
  {
   "cell_type": "code",
   "execution_count": 399,
   "id": "f02e5f30",
   "metadata": {},
   "outputs": [],
   "source": [
    "#fix the path so it doesn't include /shared/3/... etc... \n",
    "transcriptDf[\"potentialOutPath\"] = transcriptDf[\"potentialOutPath\"].apply(lambda x: x[67:])"
   ]
  },
  {
   "cell_type": "code",
   "execution_count": 400,
   "id": "953e790e-6a62-4d0b-a712-8e203fe2e8c1",
   "metadata": {},
   "outputs": [
    {
     "name": "stdout",
     "output_type": "stream",
     "text": [
      "(18124, 2)\n",
      "(18124, 2)\n"
     ]
    }
   ],
   "source": [
    "#this shows that they're all exact duplicates on both the outpath and the transcript\n",
    "print(transDups[transDups.duplicated(keep=False)].sort_values(\"potentialOutPath\").shape)\n",
    "print(transDups.shape)"
   ]
  },
  {
   "cell_type": "code",
   "execution_count": 401,
   "id": "4970a223-2620-4590-a74f-cc94d3f6d176",
   "metadata": {},
   "outputs": [
    {
     "data": {
      "text/plain": [
       "(53211, 2)"
      ]
     },
     "execution_count": 401,
     "metadata": {},
     "output_type": "execute_result"
    }
   ],
   "source": [
    "scriptDups = transcriptDf[transcriptDf.duplicated(subset=[\"transcript\"], keep=False)]\n",
    "scriptDups.shape"
   ]
  },
  {
   "cell_type": "code",
   "execution_count": 402,
   "id": "91cbe724-d2fa-4b91-9791-e82b726ff002",
   "metadata": {},
   "outputs": [
    {
     "data": {
      "text/plain": [
       "'\\nDuplicated transcripts.. \\nwe have 53,211 transcripts that are duplicates, which is 8.85%\\nwe only need to remove half of these which gives 4.425% that are removed \\nabout one third of the duplicates are very short \\n\\nfrom qualitative review of dups we are getting some amount of music-only and blank audio, which could have something\\nto do with this problem \\n\\ni.e. \"content [silence]\" or \"content [music]\" \\n'"
      ]
     },
     "execution_count": 402,
     "metadata": {},
     "output_type": "execute_result"
    }
   ],
   "source": [
    "\"\"\"\n",
    "Duplicated transcripts.. \n",
    "we have 53,211 transcripts that are duplicates, which is 8.85%\n",
    "we only need to remove half of these which gives 4.425% that are removed \\\n",
    "\n",
    "about one third of the duplicates are very short \n",
    "\n",
    "from qualitative review of dups we are getting some amount of music-only and blank audio, which could have something\n",
    "to do with this problem \n",
    "\n",
    "i.e. \"content [silence]\" or \"content [music]\" \n",
    "\"\"\""
   ]
  },
  {
   "cell_type": "code",
   "execution_count": 403,
   "id": "c28608d7-a516-4777-981c-0e84997df8d2",
   "metadata": {},
   "outputs": [
    {
     "name": "stderr",
     "output_type": "stream",
     "text": [
      "/tmp/ipykernel_1749053/217925127.py:2: SettingWithCopyWarning: \n",
      "A value is trying to be set on a copy of a slice from a DataFrame.\n",
      "Try using .loc[row_indexer,col_indexer] = value instead\n",
      "\n",
      "See the caveats in the documentation: https://pandas.pydata.org/pandas-docs/stable/user_guide/indexing.html#returning-a-view-versus-a-copy\n",
      "  scriptDups[\"scriptLen\"] = scriptDups[\"transcript\"].apply(lambda x: len(x.split()))\n"
     ]
    }
   ],
   "source": [
    "#what is the length of these duplicate transcripts \n",
    "scriptDups[\"scriptLen\"] = scriptDups[\"transcript\"].apply(lambda x: len(x.split()))"
   ]
  },
  {
   "cell_type": "code",
   "execution_count": 404,
   "id": "8c2bf9b1-6888-49c4-9d9b-100bdaff7635",
   "metadata": {},
   "outputs": [
    {
     "data": {
      "text/plain": [
       "0.08850695351185199"
      ]
     },
     "execution_count": 404,
     "metadata": {},
     "output_type": "execute_result"
    }
   ],
   "source": [
    "53211 / 601207"
   ]
  },
  {
   "cell_type": "code",
   "execution_count": 405,
   "id": "d7758199-5785-4ce1-b5d8-f46febf2aa07",
   "metadata": {},
   "outputs": [
    {
     "name": "stdout",
     "output_type": "stream",
     "text": [
      "(1, 2)\n",
      "(0, 2)\n"
     ]
    }
   ],
   "source": [
    "#do we have any NaN or None values in the transcripts or outPaths? \n",
    "#drop duplicates in transcript df\n",
    "#note that this removes duplicates on the (outPath, transcript) columns\n",
    "#which ones we keep doesn't matter because they're perfect duplicates of eachother\n",
    "transcriptDf = transcriptDf.drop_duplicates(keep=\"first\")\n",
    "\n",
    "#only one row!? \n",
    "#and no NaN values for potentialOutPath\n",
    "print(transcriptDf[transcriptDf[\"transcript\"].isna()].shape)\n",
    "print(transcriptDf[transcriptDf[\"potentialOutPath\"].isna()].shape) \n",
    "\n",
    "#no \"None\" values \n",
    "transcriptDf[transcriptDf[\"transcript\"] == None]\n",
    "transcriptDf[transcriptDf[\"potentialOutPath\"] == None]\n",
    "\n",
    "#drop the na's (one row atm) \n",
    "transcriptDf = transcriptDf.dropna()\n",
    "\n",
    "#are there transcripts that are too short? \n",
    "transcriptDf[\"wCount\"] = transcriptDf[\"transcript\"].apply(lambda x: len(x.split()))"
   ]
  },
  {
   "cell_type": "code",
   "execution_count": 406,
   "id": "8f340c22-5cbf-4563-8dd1-84ee35b906ce",
   "metadata": {},
   "outputs": [
    {
     "name": "stdout",
     "output_type": "stream",
     "text": [
      "average word count: 4204.260490577457\n",
      "median word count: 3673.0\n",
      "total word count: 2486849510\n"
     ]
    }
   ],
   "source": [
    "print(f'average word count: {np.mean(transcriptDf[\"wCount\"])}') \n",
    "print(f'median word count: {np.median(transcriptDf[\"wCount\"])}') \n",
    "print(f'total word count: {sum(transcriptDf[\"wCount\"])}')"
   ]
  },
  {
   "cell_type": "code",
   "execution_count": 407,
   "id": "f2cfef3e-e0da-431e-84a3-573df79ff582",
   "metadata": {},
   "outputs": [
    {
     "name": "stdout",
     "output_type": "stream",
     "text": [
      "(586225, 3)\n",
      "(32296, 57)\n"
     ]
    }
   ],
   "source": [
    "#do we have transcripts that have no real content?\n",
    "#we had about 5,800 transcripts with word counts under or equal to 10\n",
    "print(transcriptDf[transcriptDf[\"wCount\"] > 10].shape)\n",
    "\n",
    "#leave this for another script\n",
    "#transcriptDf = transcriptDf[transcriptDf[\"wCount\"] > 10]\n",
    "\n",
    "#duplicates on potentialOutPath in metadata\n",
    "print(metaDf[metaDf.duplicated(subset=[\"potentialOutPath\"], keep=False)].shape) \n",
    "\n",
    "#drop duplicates on potential out path \n",
    "metaDf = metaDf.drop_duplicates(subset=[\"potentialOutPath\"], keep=\"first\")"
   ]
  },
  {
   "cell_type": "code",
   "execution_count": 408,
   "id": "ab562ddd-d265-4945-8ae1-83144c55751d",
   "metadata": {},
   "outputs": [],
   "source": [
    "#for parsing the metadata durations \n",
    "def parseDurations(inDuration): \n",
    "    #if na value, just return na value \n",
    "    if inDuration != inDuration: \n",
    "        return inDuration \n",
    "    \n",
    "    inDuration = str(inDuration)\n",
    "    inDuration = re.sub(\"[A-z]\", \"\", inDuration)\n",
    "    colonCount = inDuration.count(\":\")\n",
    "    \n",
    "    try: \n",
    "        \n",
    "        #parse different strings into number of seconds \n",
    "        if colonCount == 0: \n",
    "            return int(inDuration)\n",
    "\n",
    "        elif colonCount == 1: \n",
    "            mins, seconds = [int(item) for item in inDuration.split(\":\")]\n",
    "            return (60*mins) + seconds \n",
    "\n",
    "        elif colonCount == 2: \n",
    "            hours, mins, seconds = [int(item) for item in inDuration.split(\":\")]\n",
    "            return (hours*60*60) + (mins*60) + seconds\n",
    "        else: \n",
    "            return np.nan\n",
    "    except: \n",
    "        return np.nan"
   ]
  },
  {
   "cell_type": "code",
   "execution_count": 409,
   "id": "16df2c1c-c983-4ad3-8bf8-6f5dbebe97a8",
   "metadata": {},
   "outputs": [
    {
     "data": {
      "text/plain": [
       "' \\nWe have a very small (like 300) number of podcasts that are over 10 hours. \\nNo discernable reason why, so we must assume a data entry error... \\n'"
      ]
     },
     "execution_count": 409,
     "metadata": {},
     "output_type": "execute_result"
    }
   ],
   "source": [
    "\"\"\" \n",
    "We have a very small (like 300) number of podcasts that are over 10 hours. \n",
    "No discernable reason why, so we must assume a data entry error... \n",
    "\"\"\""
   ]
  },
  {
   "cell_type": "code",
   "execution_count": 410,
   "id": "be52a3d4-8e20-4a04-a3fb-1b3c5e054445",
   "metadata": {},
   "outputs": [
    {
     "name": "stdout",
     "output_type": "stream",
     "text": [
      "0.02080318684904721\n"
     ]
    }
   ],
   "source": [
    "#now parse durations\n",
    "metaDf[\"parsedDuration\"] = metaDf[\"duration\"].apply(parseDurations) \n",
    "\n",
    "#2% of the values parsed are na \n",
    "print(np.mean(metaDf[\"parsedDuration\"].isna()))\n",
    "\n",
    "metaDf[\"hours\"] = metaDf[\"parsedDuration\"] / (60 * 60) "
   ]
  },
  {
   "cell_type": "code",
   "execution_count": 720,
   "id": "957d0a0c-8000-4392-9d86-4b5576fab8b9",
   "metadata": {},
   "outputs": [
    {
     "data": {
      "text/plain": [
       "(591507, 61)"
      ]
     },
     "execution_count": 720,
     "metadata": {},
     "output_type": "execute_result"
    }
   ],
   "source": [
    "#keeping only the metadata for which we have transcripts \n",
    "df = pd.merge(transcriptDf, metaDf, on=\"potentialOutPath\", how=\"left\") \n",
    "df.shape"
   ]
  },
  {
   "cell_type": "code",
   "execution_count": 442,
   "id": "c0c54f93",
   "metadata": {},
   "outputs": [],
   "source": [
    "#three entity Dfs \n",
    "#transcriptEnts, epDescEnts, descEntDf"
   ]
  },
  {
   "cell_type": "code",
   "execution_count": 413,
   "id": "1682ec61-2634-43ab-8b85-7c2148865200",
   "metadata": {},
   "outputs": [],
   "source": [
    "\"\"\"\n",
    "sampling entDf and descEntDf, they both seem fine... \n",
    "we do get duplicates though, which is odd. I assume this comes from \n",
    "reading the same file twice when running NER? didn't drop duplicates before doing NER potentially?\n",
    "\n",
    "entDf dups -> 150,000\n",
    "desEntDf dups -> 40,000 \n",
    "(both are tiny fractions of all entities extracted) \n",
    "\"\"\"\n",
    "sum(transcriptEnts.duplicated()) \n",
    "sum(epDescEnts.duplicated())\n",
    "sum(descEntDf.duplicated())\n",
    "\n",
    "transcriptEnts = transcriptEnts.drop_duplicates() \n",
    "epDescEnts = epDescEnts.drop_duplicates() \n",
    "descEntDf = descEntDf.drop_duplicates() "
   ]
  },
  {
   "cell_type": "code",
   "execution_count": 721,
   "id": "99e2c449",
   "metadata": {},
   "outputs": [],
   "source": [
    "transcriptEnts = transcriptEnts.drop_duplicates()"
   ]
  },
  {
   "cell_type": "code",
   "execution_count": 414,
   "id": "67357348",
   "metadata": {},
   "outputs": [],
   "source": [
    "#df = df.drop(columns=['ent_x', 'start_x', 'end_x', 'type_x', 'ent_y', 'start_y','end_y', 'type_y'])"
   ]
  },
  {
   "cell_type": "code",
   "execution_count": 722,
   "id": "ff613763-1932-4633-bbd7-e9fd58725bcb",
   "metadata": {},
   "outputs": [],
   "source": [
    "#add the entities in, but first check on duplicates \n",
    "transcriptEnts = transcriptEnts.groupby(by=\"potentialOutPath\").agg(list)\n",
    "transcriptEnts = transcriptEnts.reset_index() "
   ]
  },
  {
   "cell_type": "code",
   "execution_count": 723,
   "id": "97e2222e",
   "metadata": {},
   "outputs": [],
   "source": [
    "transcriptEnts = transcriptEnts.rename(columns={\"ent\":\"transEnts\", \"start\":\"transStarts\", \"end\":\"transEnds\", \"type\":\"transTypes\"})"
   ]
  },
  {
   "cell_type": "code",
   "execution_count": 748,
   "id": "3c61bc45",
   "metadata": {},
   "outputs": [],
   "source": [
    "#len(\"/shared/3/projects/benlitterer/podcastData/prosodyMerged/floydMonth\")\n",
    "transcriptEnts[\"potentialOutPath\"] = transcriptEnts[\"potentialOutPath\"].apply(lambda x: x[67:])"
   ]
  },
  {
   "cell_type": "code",
   "execution_count": 749,
   "id": "f9e777b8",
   "metadata": {},
   "outputs": [
    {
     "data": {
      "text/html": [
       "<div>\n",
       "<style scoped>\n",
       "    .dataframe tbody tr th:only-of-type {\n",
       "        vertical-align: middle;\n",
       "    }\n",
       "\n",
       "    .dataframe tbody tr th {\n",
       "        vertical-align: top;\n",
       "    }\n",
       "\n",
       "    .dataframe thead th {\n",
       "        text-align: right;\n",
       "    }\n",
       "</style>\n",
       "<table border=\"1\" class=\"dataframe\">\n",
       "  <thead>\n",
       "    <tr style=\"text-align: right;\">\n",
       "      <th></th>\n",
       "      <th>potentialOutPath</th>\n",
       "      <th>transEnts</th>\n",
       "      <th>transStarts</th>\n",
       "      <th>transEnds</th>\n",
       "      <th>transTypes</th>\n",
       "    </tr>\n",
       "  </thead>\n",
       "  <tbody>\n",
       "    <tr>\n",
       "      <th>0</th>\n",
       "      <td>/119ministries.podomatic.com/02/https119minist...</td>\n",
       "      <td>[Paw Shop Points, weekly, week, Paw Shop Point...</td>\n",
       "      <td>[38, 79, 105, 112, 138, 154, 172, 201, 219, 28...</td>\n",
       "      <td>[53, 85, 109, 126, 143, 160, 180, 210, 228, 29...</td>\n",
       "      <td>[ORG, DATE, DATE, ORG, ORG, LANGUAGE, LOC, PER...</td>\n",
       "    </tr>\n",
       "    <tr>\n",
       "      <th>1</th>\n",
       "      <td>/119ministries.podomatic.com/02/https119minist...</td>\n",
       "      <td>[Posh Off Points, weekly, week, Posh Off Point...</td>\n",
       "      <td>[38, 78, 104, 111, 137, 157, 175, 212, 227, 28...</td>\n",
       "      <td>[53, 84, 108, 125, 146, 163, 185, 215, 230, 29...</td>\n",
       "      <td>[ORG, DATE, DATE, ORG, ORG, LANGUAGE, LOC, CAR...</td>\n",
       "    </tr>\n",
       "    <tr>\n",
       "      <th>2</th>\n",
       "      <td>/163.172.97.59/pm/http163.172.97.59ndpndp14mmo...</td>\n",
       "      <td>[every day, Today, 12, 10, two, first, Ali, Al...</td>\n",
       "      <td>[35, 46, 73, 197, 205, 234, 253, 466, 608, 778...</td>\n",
       "      <td>[44, 51, 75, 199, 208, 239, 256, 469, 611, 786...</td>\n",
       "      <td>[DATE, DATE, CARDINAL, CARDINAL, CARDINAL, ORD...</td>\n",
       "    </tr>\n",
       "    <tr>\n",
       "      <th>3</th>\n",
       "      <td>/1bx8jry.podcaster.de/NE/https1bx8jry.podcaste...</td>\n",
       "      <td>[first, Kenneth Fiddlepage, today, one, IMCAG,...</td>\n",
       "      <td>[91, 141, 170, 297, 466, 953, 1193, 1294, 1381...</td>\n",
       "      <td>[96, 159, 175, 300, 471, 956, 1198, 1303, 1385...</td>\n",
       "      <td>[ORDINAL, PERSON, DATE, CARDINAL, ORG, ORG, OR...</td>\n",
       "    </tr>\n",
       "    <tr>\n",
       "      <th>4</th>\n",
       "      <td>/1ecf4a91e3b66e47e3c778560c25393e65036989e83e4...</td>\n",
       "      <td>[The Invisible String, Patrice Carst, this mor...</td>\n",
       "      <td>[301, 325, 379, 393, 404, 560, 626, 727, 890, ...</td>\n",
       "      <td>[321, 338, 391, 399, 410, 565, 629, 733, 894, ...</td>\n",
       "      <td>[WORK_OF_ART, PERSON, TIME, ORG, PERSON, PERSO...</td>\n",
       "    </tr>\n",
       "  </tbody>\n",
       "</table>\n",
       "</div>"
      ],
      "text/plain": [
       "                                    potentialOutPath  \\\n",
       "0  /119ministries.podomatic.com/02/https119minist...   \n",
       "1  /119ministries.podomatic.com/02/https119minist...   \n",
       "2  /163.172.97.59/pm/http163.172.97.59ndpndp14mmo...   \n",
       "3  /1bx8jry.podcaster.de/NE/https1bx8jry.podcaste...   \n",
       "4  /1ecf4a91e3b66e47e3c778560c25393e65036989e83e4...   \n",
       "\n",
       "                                           transEnts  \\\n",
       "0  [Paw Shop Points, weekly, week, Paw Shop Point...   \n",
       "1  [Posh Off Points, weekly, week, Posh Off Point...   \n",
       "2  [every day, Today, 12, 10, two, first, Ali, Al...   \n",
       "3  [first, Kenneth Fiddlepage, today, one, IMCAG,...   \n",
       "4  [The Invisible String, Patrice Carst, this mor...   \n",
       "\n",
       "                                         transStarts  \\\n",
       "0  [38, 79, 105, 112, 138, 154, 172, 201, 219, 28...   \n",
       "1  [38, 78, 104, 111, 137, 157, 175, 212, 227, 28...   \n",
       "2  [35, 46, 73, 197, 205, 234, 253, 466, 608, 778...   \n",
       "3  [91, 141, 170, 297, 466, 953, 1193, 1294, 1381...   \n",
       "4  [301, 325, 379, 393, 404, 560, 626, 727, 890, ...   \n",
       "\n",
       "                                           transEnds  \\\n",
       "0  [53, 85, 109, 126, 143, 160, 180, 210, 228, 29...   \n",
       "1  [53, 84, 108, 125, 146, 163, 185, 215, 230, 29...   \n",
       "2  [44, 51, 75, 199, 208, 239, 256, 469, 611, 786...   \n",
       "3  [96, 159, 175, 300, 471, 956, 1198, 1303, 1385...   \n",
       "4  [321, 338, 391, 399, 410, 565, 629, 733, 894, ...   \n",
       "\n",
       "                                          transTypes  \n",
       "0  [ORG, DATE, DATE, ORG, ORG, LANGUAGE, LOC, PER...  \n",
       "1  [ORG, DATE, DATE, ORG, ORG, LANGUAGE, LOC, CAR...  \n",
       "2  [DATE, DATE, CARDINAL, CARDINAL, CARDINAL, ORD...  \n",
       "3  [ORDINAL, PERSON, DATE, CARDINAL, ORG, ORG, OR...  \n",
       "4  [WORK_OF_ART, PERSON, TIME, ORG, PERSON, PERSO...  "
      ]
     },
     "execution_count": 749,
     "metadata": {},
     "output_type": "execute_result"
    }
   ],
   "source": [
    "transcriptEnts.head() "
   ]
  },
  {
   "cell_type": "code",
   "execution_count": 753,
   "id": "eb6d63f6",
   "metadata": {},
   "outputs": [],
   "source": [
    "df = pd.merge(df, transcriptEnts, on=\"potentialOutPath\", how=\"left\") "
   ]
  },
  {
   "cell_type": "code",
   "execution_count": 451,
   "id": "7f713e5d",
   "metadata": {},
   "outputs": [],
   "source": [
    "descEntDf = descEntDf.groupby(by=\"potentialOutPath\").agg(list)\n",
    "descEntDf = descEntDf.reset_index() "
   ]
  },
  {
   "cell_type": "code",
   "execution_count": 452,
   "id": "72989411",
   "metadata": {},
   "outputs": [
    {
     "data": {
      "text/html": [
       "<div>\n",
       "<style scoped>\n",
       "    .dataframe tbody tr th:only-of-type {\n",
       "        vertical-align: middle;\n",
       "    }\n",
       "\n",
       "    .dataframe tbody tr th {\n",
       "        vertical-align: top;\n",
       "    }\n",
       "\n",
       "    .dataframe thead th {\n",
       "        text-align: right;\n",
       "    }\n",
       "</style>\n",
       "<table border=\"1\" class=\"dataframe\">\n",
       "  <thead>\n",
       "    <tr style=\"text-align: right;\">\n",
       "      <th></th>\n",
       "      <th>potentialOutPath</th>\n",
       "      <th>descEnts</th>\n",
       "      <th>descStarts</th>\n",
       "      <th>descEnds</th>\n",
       "      <th>descTypes</th>\n",
       "    </tr>\n",
       "  </thead>\n",
       "  <tbody>\n",
       "    <tr>\n",
       "      <th>0</th>\n",
       "      <td>//02/httptcf.theophil.usmedia20200607207E20Fea...</td>\n",
       "      <td>[TCF Sermons]</td>\n",
       "      <td>[0]</td>\n",
       "      <td>[11]</td>\n",
       "      <td>[ORG]</td>\n",
       "    </tr>\n",
       "    <tr>\n",
       "      <th>1</th>\n",
       "      <td>//03/200531_Unclained.mp3MERGED</td>\n",
       "      <td>[KSCO Pet Radio's, Sundays 12-2 PM]</td>\n",
       "      <td>[0, 425]</td>\n",
       "      <td>[16, 440]</td>\n",
       "      <td>[ORG, DATE]</td>\n",
       "    </tr>\n",
       "    <tr>\n",
       "      <th>2</th>\n",
       "      <td>//10/10725MERGED</td>\n",
       "      <td>[the Truth of Jesus Christ, New Community Cove...</td>\n",
       "      <td>[17, 142, 172, 203, 213, 260, 293, 344, 392, 4...</td>\n",
       "      <td>[42, 171, 183, 210, 224, 289, 305, 356, 401, 4...</td>\n",
       "      <td>[WORK_OF_ART, ORG, GPE, GPE, GPE, ORG, FAC, PE...</td>\n",
       "    </tr>\n",
       "    <tr>\n",
       "      <th>3</th>\n",
       "      <td>//10/10728MERGED</td>\n",
       "      <td>[the Truth of Jesus Christ, New Community Cove...</td>\n",
       "      <td>[17, 142, 172, 203, 213, 260, 293, 344, 392, 4...</td>\n",
       "      <td>[42, 171, 183, 210, 224, 289, 305, 356, 401, 4...</td>\n",
       "      <td>[WORK_OF_ART, ORG, GPE, GPE, GPE, ORG, FAC, PE...</td>\n",
       "    </tr>\n",
       "    <tr>\n",
       "      <th>4</th>\n",
       "      <td>//10/10734MERGED</td>\n",
       "      <td>[the Truth of Jesus Christ, New Community Cove...</td>\n",
       "      <td>[17, 142, 172, 203, 213, 260, 293, 344, 392, 4...</td>\n",
       "      <td>[42, 171, 183, 210, 224, 289, 305, 356, 401, 4...</td>\n",
       "      <td>[WORK_OF_ART, ORG, GPE, GPE, GPE, ORG, FAC, PE...</td>\n",
       "    </tr>\n",
       "  </tbody>\n",
       "</table>\n",
       "</div>"
      ],
      "text/plain": [
       "                                    potentialOutPath  \\\n",
       "0  //02/httptcf.theophil.usmedia20200607207E20Fea...   \n",
       "1                    //03/200531_Unclained.mp3MERGED   \n",
       "2                                   //10/10725MERGED   \n",
       "3                                   //10/10728MERGED   \n",
       "4                                   //10/10734MERGED   \n",
       "\n",
       "                                            descEnts  \\\n",
       "0                                      [TCF Sermons]   \n",
       "1                [KSCO Pet Radio's, Sundays 12-2 PM]   \n",
       "2  [the Truth of Jesus Christ, New Community Cove...   \n",
       "3  [the Truth of Jesus Christ, New Community Cove...   \n",
       "4  [the Truth of Jesus Christ, New Community Cove...   \n",
       "\n",
       "                                          descStarts  \\\n",
       "0                                                [0]   \n",
       "1                                           [0, 425]   \n",
       "2  [17, 142, 172, 203, 213, 260, 293, 344, 392, 4...   \n",
       "3  [17, 142, 172, 203, 213, 260, 293, 344, 392, 4...   \n",
       "4  [17, 142, 172, 203, 213, 260, 293, 344, 392, 4...   \n",
       "\n",
       "                                            descEnds  \\\n",
       "0                                               [11]   \n",
       "1                                          [16, 440]   \n",
       "2  [42, 171, 183, 210, 224, 289, 305, 356, 401, 4...   \n",
       "3  [42, 171, 183, 210, 224, 289, 305, 356, 401, 4...   \n",
       "4  [42, 171, 183, 210, 224, 289, 305, 356, 401, 4...   \n",
       "\n",
       "                                           descTypes  \n",
       "0                                              [ORG]  \n",
       "1                                        [ORG, DATE]  \n",
       "2  [WORK_OF_ART, ORG, GPE, GPE, GPE, ORG, FAC, PE...  \n",
       "3  [WORK_OF_ART, ORG, GPE, GPE, GPE, ORG, FAC, PE...  \n",
       "4  [WORK_OF_ART, ORG, GPE, GPE, GPE, ORG, FAC, PE...  "
      ]
     },
     "execution_count": 452,
     "metadata": {},
     "output_type": "execute_result"
    }
   ],
   "source": [
    "descEntDf.head() "
   ]
  },
  {
   "cell_type": "code",
   "execution_count": 418,
   "id": "425fe76e",
   "metadata": {},
   "outputs": [],
   "source": [
    "descEntDf = descEntDf.rename(columns={\"ent\":\"descEnts\", \"start\":\"descStarts\", \"end\":\"descEnds\", \"type\":\"descTypes\"})"
   ]
  },
  {
   "cell_type": "code",
   "execution_count": 729,
   "id": "cb098795",
   "metadata": {},
   "outputs": [],
   "source": [
    "df = pd.merge(df, descEntDf, on=\"potentialOutPath\", how=\"left\") "
   ]
  },
  {
   "cell_type": "code",
   "execution_count": 454,
   "id": "4a490aef",
   "metadata": {},
   "outputs": [
    {
     "data": {
      "text/plain": [
       "(591507, 69)"
      ]
     },
     "execution_count": 454,
     "metadata": {},
     "output_type": "execute_result"
    }
   ],
   "source": [
    "df.shape"
   ]
  },
  {
   "cell_type": "code",
   "execution_count": 447,
   "id": "7b4b62a4",
   "metadata": {},
   "outputs": [
    {
     "data": {
      "text/html": [
       "<div>\n",
       "<style scoped>\n",
       "    .dataframe tbody tr th:only-of-type {\n",
       "        vertical-align: middle;\n",
       "    }\n",
       "\n",
       "    .dataframe tbody tr th {\n",
       "        vertical-align: top;\n",
       "    }\n",
       "\n",
       "    .dataframe thead th {\n",
       "        text-align: right;\n",
       "    }\n",
       "</style>\n",
       "<table border=\"1\" class=\"dataframe\">\n",
       "  <thead>\n",
       "    <tr style=\"text-align: right;\">\n",
       "      <th></th>\n",
       "      <th>potentialOutPath</th>\n",
       "      <th>descEnts</th>\n",
       "      <th>descStarts</th>\n",
       "      <th>descEnds</th>\n",
       "      <th>descTypes</th>\n",
       "    </tr>\n",
       "  </thead>\n",
       "  <tbody>\n",
       "    <tr>\n",
       "      <th>0</th>\n",
       "      <td>/www.buzzsprout.com/30/httpswww.buzzsprout.com...</td>\n",
       "      <td>Australian</td>\n",
       "      <td>14</td>\n",
       "      <td>24</td>\n",
       "      <td>NORP</td>\n",
       "    </tr>\n",
       "    <tr>\n",
       "      <th>1</th>\n",
       "      <td>/www.buzzsprout.com/30/httpswww.buzzsprout.com...</td>\n",
       "      <td>Simon Shapiro</td>\n",
       "      <td>43</td>\n",
       "      <td>56</td>\n",
       "      <td>PERSON</td>\n",
       "    </tr>\n",
       "    <tr>\n",
       "      <th>2</th>\n",
       "      <td>/www.buzzsprout.com/3y/httpswww.buzzsprout.com...</td>\n",
       "      <td>Australian</td>\n",
       "      <td>14</td>\n",
       "      <td>24</td>\n",
       "      <td>NORP</td>\n",
       "    </tr>\n",
       "    <tr>\n",
       "      <th>3</th>\n",
       "      <td>/www.buzzsprout.com/3y/httpswww.buzzsprout.com...</td>\n",
       "      <td>Simon Shapiro</td>\n",
       "      <td>43</td>\n",
       "      <td>56</td>\n",
       "      <td>PERSON</td>\n",
       "    </tr>\n",
       "    <tr>\n",
       "      <th>4</th>\n",
       "      <td>/www.buzzsprout.com/3r/httpswww.buzzsprout.com...</td>\n",
       "      <td>Australian</td>\n",
       "      <td>14</td>\n",
       "      <td>24</td>\n",
       "      <td>NORP</td>\n",
       "    </tr>\n",
       "  </tbody>\n",
       "</table>\n",
       "</div>"
      ],
      "text/plain": [
       "                                    potentialOutPath       descEnts  \\\n",
       "0  /www.buzzsprout.com/30/httpswww.buzzsprout.com...     Australian   \n",
       "1  /www.buzzsprout.com/30/httpswww.buzzsprout.com...  Simon Shapiro   \n",
       "2  /www.buzzsprout.com/3y/httpswww.buzzsprout.com...     Australian   \n",
       "3  /www.buzzsprout.com/3y/httpswww.buzzsprout.com...  Simon Shapiro   \n",
       "4  /www.buzzsprout.com/3r/httpswww.buzzsprout.com...     Australian   \n",
       "\n",
       "   descStarts  descEnds descTypes  \n",
       "0          14        24      NORP  \n",
       "1          43        56    PERSON  \n",
       "2          14        24      NORP  \n",
       "3          43        56    PERSON  \n",
       "4          14        24      NORP  "
      ]
     },
     "execution_count": 447,
     "metadata": {},
     "output_type": "execute_result"
    }
   ],
   "source": [
    "descEntDf.head() "
   ]
  },
  {
   "cell_type": "code",
   "execution_count": 446,
   "id": "12fc9388",
   "metadata": {},
   "outputs": [
    {
     "data": {
      "text/plain": [
       "(2017500, 69)"
      ]
     },
     "execution_count": 446,
     "metadata": {},
     "output_type": "execute_result"
    }
   ],
   "source": [
    "df.shape"
   ]
  },
  {
   "cell_type": "code",
   "execution_count": 420,
   "id": "7ea8b998",
   "metadata": {},
   "outputs": [],
   "source": [
    "epDescEnts= epDescEnts.groupby(by=\"potentialOutPath\").agg(list)\n",
    "epDescEnts = epDescEnts.reset_index() "
   ]
  },
  {
   "cell_type": "code",
   "execution_count": 440,
   "id": "93e181fe",
   "metadata": {},
   "outputs": [
    {
     "data": {
      "text/plain": [
       "1312920"
      ]
     },
     "execution_count": 440,
     "metadata": {},
     "output_type": "execute_result"
    }
   ],
   "source": [
    "len(epDescEnts[\"potentialOutPath\"].unique())"
   ]
  },
  {
   "cell_type": "code",
   "execution_count": 421,
   "id": "3e1052a1",
   "metadata": {},
   "outputs": [],
   "source": [
    "epDescEnts = epDescEnts.rename(columns={\"ent\":\"epDescEnts\", \"start\":\"epDescStarts\", \"end\":\"epDescEnds\", \"type\":\"epDescTypes\"})"
   ]
  },
  {
   "cell_type": "code",
   "execution_count": 730,
   "id": "c079d811",
   "metadata": {},
   "outputs": [
    {
     "data": {
      "text/html": [
       "<div>\n",
       "<style scoped>\n",
       "    .dataframe tbody tr th:only-of-type {\n",
       "        vertical-align: middle;\n",
       "    }\n",
       "\n",
       "    .dataframe tbody tr th {\n",
       "        vertical-align: top;\n",
       "    }\n",
       "\n",
       "    .dataframe thead th {\n",
       "        text-align: right;\n",
       "    }\n",
       "</style>\n",
       "<table border=\"1\" class=\"dataframe\">\n",
       "  <thead>\n",
       "    <tr style=\"text-align: right;\">\n",
       "      <th></th>\n",
       "      <th>potentialOutPath</th>\n",
       "      <th>epDescEnts</th>\n",
       "      <th>epDescStarts</th>\n",
       "      <th>epDescEnds</th>\n",
       "      <th>epDescTypes</th>\n",
       "    </tr>\n",
       "  </thead>\n",
       "  <tbody>\n",
       "    <tr>\n",
       "      <th>0</th>\n",
       "      <td>//02/atog042620.mp3MERGED</td>\n",
       "      <td>[1, Carole Marks, Kathleen O'Keefe-Kavanos, 2,...</td>\n",
       "      <td>[0, 3, 21, 120, 123, 141, 268, 295, 317, 413, ...</td>\n",
       "      <td>[1, 15, 45, 121, 135, 165, 293, 307, 334, 416,...</td>\n",
       "      <td>[CARDINAL, PERSON, PERSON, CARDINAL, PERSON, P...</td>\n",
       "    </tr>\n",
       "    <tr>\n",
       "      <th>1</th>\n",
       "      <td>//03/200531_Unclained.mp3MERGED</td>\n",
       "      <td>[Terrence Gargiulo, UnChainedPODCAST, Central ...</td>\n",
       "      <td>[0, 19, 62, 89, 98, 147, 188, 382, 419, 723, 8...</td>\n",
       "      <td>[17, 35, 75, 93, 112, 154, 205, 409, 428, 748,...</td>\n",
       "      <td>[PERSON, ORG, LOC, ORG, ORG, CARDINAL, PERSON,...</td>\n",
       "    </tr>\n",
       "    <tr>\n",
       "      <th>2</th>\n",
       "      <td>//0e/ReelAnimals20200505.mp3MERGED</td>\n",
       "      <td>[this week, the Reel Animals Podcast, Contende...</td>\n",
       "      <td>[6, 29, 67, 90, 117, 162, 194, 399, 435, 452, ...</td>\n",
       "      <td>[15, 53, 82, 103, 144, 172, 200, 423, 448, 466...</td>\n",
       "      <td>[DATE, ORG, PERSON, PERSON, ORG, PERSON, PERSO...</td>\n",
       "    </tr>\n",
       "    <tr>\n",
       "      <th>3</th>\n",
       "      <td>//10/10711MERGED</td>\n",
       "      <td>[Peter 2:4-10&lt;/p]</td>\n",
       "      <td>[5]</td>\n",
       "      <td>[20]</td>\n",
       "      <td>[PERSON]</td>\n",
       "    </tr>\n",
       "    <tr>\n",
       "      <th>4</th>\n",
       "      <td>//10/10715MERGED</td>\n",
       "      <td>[Peter, 2:11-3:7&lt;/p]</td>\n",
       "      <td>[5, 11]</td>\n",
       "      <td>[10, 22]</td>\n",
       "      <td>[PERSON, CARDINAL]</td>\n",
       "    </tr>\n",
       "  </tbody>\n",
       "</table>\n",
       "</div>"
      ],
      "text/plain": [
       "                     potentialOutPath  \\\n",
       "0           //02/atog042620.mp3MERGED   \n",
       "1     //03/200531_Unclained.mp3MERGED   \n",
       "2  //0e/ReelAnimals20200505.mp3MERGED   \n",
       "3                    //10/10711MERGED   \n",
       "4                    //10/10715MERGED   \n",
       "\n",
       "                                          epDescEnts  \\\n",
       "0  [1, Carole Marks, Kathleen O'Keefe-Kavanos, 2,...   \n",
       "1  [Terrence Gargiulo, UnChainedPODCAST, Central ...   \n",
       "2  [this week, the Reel Animals Podcast, Contende...   \n",
       "3                                  [Peter 2:4-10</p]   \n",
       "4                               [Peter, 2:11-3:7</p]   \n",
       "\n",
       "                                        epDescStarts  \\\n",
       "0  [0, 3, 21, 120, 123, 141, 268, 295, 317, 413, ...   \n",
       "1  [0, 19, 62, 89, 98, 147, 188, 382, 419, 723, 8...   \n",
       "2  [6, 29, 67, 90, 117, 162, 194, 399, 435, 452, ...   \n",
       "3                                                [5]   \n",
       "4                                            [5, 11]   \n",
       "\n",
       "                                          epDescEnds  \\\n",
       "0  [1, 15, 45, 121, 135, 165, 293, 307, 334, 416,...   \n",
       "1  [17, 35, 75, 93, 112, 154, 205, 409, 428, 748,...   \n",
       "2  [15, 53, 82, 103, 144, 172, 200, 423, 448, 466...   \n",
       "3                                               [20]   \n",
       "4                                           [10, 22]   \n",
       "\n",
       "                                         epDescTypes  \n",
       "0  [CARDINAL, PERSON, PERSON, CARDINAL, PERSON, P...  \n",
       "1  [PERSON, ORG, LOC, ORG, ORG, CARDINAL, PERSON,...  \n",
       "2  [DATE, ORG, PERSON, PERSON, ORG, PERSON, PERSO...  \n",
       "3                                           [PERSON]  \n",
       "4                                 [PERSON, CARDINAL]  "
      ]
     },
     "execution_count": 730,
     "metadata": {},
     "output_type": "execute_result"
    }
   ],
   "source": [
    "epDescEnts.head() "
   ]
  },
  {
   "cell_type": "code",
   "execution_count": 731,
   "id": "a4ba4eb0",
   "metadata": {},
   "outputs": [],
   "source": [
    "\n",
    "df = pd.merge(df, epDescEnts, on=\"potentialOutPath\", how=\"left\") "
   ]
  },
  {
   "cell_type": "code",
   "execution_count": 732,
   "id": "bf856aa7-7284-46e2-9008-95d46ed3397f",
   "metadata": {},
   "outputs": [],
   "source": [
    "df = df.drop(columns=['Unnamed: 0']) "
   ]
  },
  {
   "cell_type": "code",
   "execution_count": 733,
   "id": "c26e26aa-1aea-43a6-b624-dc7da68c4a0e",
   "metadata": {},
   "outputs": [
    {
     "data": {
      "text/plain": [
       "(591507, 72)"
      ]
     },
     "execution_count": 733,
     "metadata": {},
     "output_type": "execute_result"
    }
   ],
   "source": [
    "#validating that we have as many rows in our dataframe as we do transcripts that we've processed \n",
    "df.shape"
   ]
  },
  {
   "cell_type": "code",
   "execution_count": 428,
   "id": "290116a0-3e0f-4f6a-b8bb-cbc11a9d820e",
   "metadata": {},
   "outputs": [
    {
     "data": {
      "text/plain": [
       "'\\nWe have some duplicates on the outPaths and these are not all identical in terms of\\nthe (outPath, transcript) pair \\n'"
      ]
     },
     "execution_count": 428,
     "metadata": {},
     "output_type": "execute_result"
    }
   ],
   "source": [
    "\"\"\"\n",
    "We have some duplicates on the outPaths and these are not all identical in terms of\n",
    "the (outPath, transcript) pair \n",
    "\"\"\""
   ]
  },
  {
   "cell_type": "code",
   "execution_count": 408,
   "id": "cb97ea6d-f2b3-47a8-ae2d-f3ec18d2b837",
   "metadata": {},
   "outputs": [
    {
     "name": "stdout",
     "output_type": "stream",
     "text": [
      "259438.1211111099\n",
      "0.442582914290924\n",
      "0.41583333333333333\n"
     ]
    }
   ],
   "source": [
    "#get David's stuff \n",
    "print(sum(df.dropna(subset=[\"hours\"])[\"hours\"]))\n",
    "print(np.mean(df.dropna(subset=[\"hours\"])[\"hours\"]))\n",
    "print(np.median(df.dropna(subset=[\"hours\"])[\"hours\"]))"
   ]
  },
  {
   "cell_type": "code",
   "execution_count": 418,
   "id": "4c809c93-8375-4eb6-8e73-2601eb4b0d4f",
   "metadata": {},
   "outputs": [
    {
     "data": {
      "text/plain": [
       "'2020-05-11 00:00:00'"
      ]
     },
     "execution_count": 418,
     "metadata": {},
     "output_type": "execute_result"
    }
   ],
   "source": [
    "min(df[\"cleanDates\"]) "
   ]
  },
  {
   "cell_type": "code",
   "execution_count": 419,
   "id": "f726ea6a-21b2-411c-b64d-63d0785a134a",
   "metadata": {},
   "outputs": [
    {
     "data": {
      "text/plain": [
       "'2020-06-08 00:00:00+11:00'"
      ]
     },
     "execution_count": 419,
     "metadata": {},
     "output_type": "execute_result"
    }
   ],
   "source": [
    "max(df[\"cleanDates\"]) "
   ]
  },
  {
   "cell_type": "code",
   "execution_count": 415,
   "id": "624e7f42-544a-4af9-b9e1-ac5591857dfd",
   "metadata": {},
   "outputs": [
    {
     "data": {
      "text/plain": [
       "15566280"
      ]
     },
     "execution_count": 415,
     "metadata": {},
     "output_type": "execute_result"
    }
   ],
   "source": [
    "259438 * 60"
   ]
  },
  {
   "cell_type": "code",
   "execution_count": 414,
   "id": "3c8c80e5-3166-48bd-9b61-c2a8cca69f81",
   "metadata": {},
   "outputs": [
    {
     "data": {
      "text/plain": [
       "187119"
      ]
     },
     "execution_count": 414,
     "metadata": {},
     "output_type": "execute_result"
    }
   ],
   "source": [
    "#number of episodes \n",
    "len(df[\"rssUrl\"].unique())"
   ]
  },
  {
   "cell_type": "code",
   "execution_count": 422,
   "id": "4d718c81-cdcf-415c-8df5-4b4b137aa842",
   "metadata": {},
   "outputs": [
    {
     "data": {
      "text/plain": [
       "(586225, 68)"
      ]
     },
     "execution_count": 422,
     "metadata": {},
     "output_type": "execute_result"
    }
   ],
   "source": [
    "df.shape"
   ]
  },
  {
   "cell_type": "code",
   "execution_count": 424,
   "id": "6461b3aa-8386-4912-abaf-151c8b448020",
   "metadata": {},
   "outputs": [
    {
     "data": {
      "text/plain": [
       "Text(0.5, 1.0, 'ecdf: duration of collected podcasts')"
      ]
     },
     "execution_count": 424,
     "metadata": {},
     "output_type": "execute_result"
    },
    {
     "data": {
      "image/png": "[encoded data removed]",
      "text/plain": [
       "<Figure size 432x288 with 1 Axes>"
      ]
     },
     "metadata": {
      "needs_background": "light"
     },
     "output_type": "display_data"
    }
   ],
   "source": [
    "sns.ecdfplot(data=df, x=\"hours\")\n",
    "plt.title(\"ecdf: duration of collected podcasts\") "
   ]
  },
  {
   "cell_type": "code",
   "execution_count": 459,
   "id": "2bb1d5cc-34f3-4722-972f-b0c43e72077b",
   "metadata": {},
   "outputs": [],
   "source": [
    "def cleanQuotes(inStr): \n",
    "    if inStr != inStr: \n",
    "        return inStr \n",
    "    outStr = re.sub('(?<!\")\"(?!\")', ',',inStr) \n",
    "    return re.sub('\"\"\"', '\"', outStr)[8:]"
   ]
  },
  {
   "cell_type": "code",
   "execution_count": 460,
   "id": "a5a111bf-73a6-4aae-ac43-c4f30af7f12f",
   "metadata": {},
   "outputs": [],
   "source": [
    "from tqdm import tqdm"
   ]
  },
  {
   "cell_type": "code",
   "execution_count": 437,
   "id": "0dfa7b19",
   "metadata": {},
   "outputs": [
    {
     "data": {
      "text/plain": [
       "(1312920, 5)"
      ]
     },
     "execution_count": 437,
     "metadata": {},
     "output_type": "execute_result"
    }
   ],
   "source": [
    "epDescEnts.shape"
   ]
  },
  {
   "cell_type": "code",
   "execution_count": 735,
   "id": "6ac7b5d2-7766-42af-b9f9-1540c954d8aa",
   "metadata": {},
   "outputs": [
    {
     "name": "stderr",
     "output_type": "stream",
     "text": [
      "591507it [15:12, 648.25it/s] \n"
     ]
    }
   ],
   "source": [
    "outList = []\n",
    "for i, row in tqdm(df.iterrows()): \n",
    "    outList.append(cleanQuotes(row[\"transcript\"])[8:])"
   ]
  },
  {
   "cell_type": "code",
   "execution_count": 466,
   "id": "04614699",
   "metadata": {},
   "outputs": [
    {
     "data": {
      "text/plain": [
       "\"I'm Simon Shapiro and this is Sing Out Speak Out. Here I give you the philosophies, ideas and songs I've been working on for many years but until now I've shared just too few of because I've been afraid of you and worse I've been afraid of me. My will to connect with you and share the best of me has grown greater than any fear and that's why I am compelled to Sing Out Speak Out. Well hello everyone and welcome to Sing Out Speak Out episode number 20. I know crazy, it's going fast this crazy year that we are having 2020. I know for a lot of people the hard lockdown and the restrictions due to COVID-19 are still in full force and in Australia we are very lucky that we've managed to squash that curve for now due I think in part because we have a smaller population and we had advanced warning of what was happening in other countries so I think that held us in good stead but we're not over it yet of course and we're not gloating in any way whatsoever. But I know it can be tough when you're stuck in the same situation even if you might still have a job but you're working from home and one day you're homeschooling the next day you're doing your job at home and next day it's the weekend but it doesn't really feel like the weekend because you can't go anywhere. Every day is a bit the same. It's like Groundhog Day basically. So as I'm introducing songs to the Kiss Tone album Way to Nowhere which I made with my great friends Mike Haveername and Lee Walker. I'm going to skip to track number four because it's called Today is Yesterday. I'm not going to say too much about the song I'll let the song do the talking but it was a lot of fun to record even though the message itself is kind of serious. All the horns and the strings you hear are played by real musicians all of those layered vocals we did together and just vocal on top of vocal and a lot of work went into this song it was a heap of fun. It's one of my favourite bass parts that I've ever recorded and thanks to our producer Lindsey Rhimes who was there for every note guiding us getting the best out of us when we recorded this song. I hope you enjoy it. Without further adieu this is track four from our album Kiss Tone album Way to Nowhere. The song is called Today is Yesterday. I hope you have a great week. I'll be back next week with another episode of Sing Out Speak Out. [Music] [Music] [Music] [Music] [Music] [Music] [Music] [Music] [Music] [Music] [Music] [Music] [Music] [Music] [Music] [Music] [Music] [Music] [Music] [Music] [Music] [Music] [Music] [Music] [Music] [Music] [Music] [Music] You'll expend the restore Jump slower on the same reflection If you're never gonna change direction Today is yesterday over, over again This we wanted play over, in, in the rest Got to turn your crazy world around So that I don't own your way to nowhere now Today is yesterday Press room on and press the line Today is yesterday You've got to turn your crazy world around So that I don't own your way So that I don't own your way You've got to turn your crazy world around So that I don't own your way Today is yesterday You've got to turn your crazy world around So that I don't own your way to nowhere now Got to turn your crazy world around So that I don't own your way to nowhere now So that I don't own your way to nowhere So that I don't own your way to nowhere [Music] If you like the song, it's available at all the places you usually can download, stream, buy or otherwise share music Thanks for being here today, whether you are watching on my YouTube channel or listening to the podcast I'd love for you to do any of the following things If you like something out of the show then please subscribe to it, like it, share it with someone you think might get value out of it Leave a comment or write a review Any of these things can help me grow the show and make it even better I'll be back next week with another episode and I can't wait to share more with you then [Music] (music)\""
      ]
     },
     "execution_count": 466,
     "metadata": {},
     "output_type": "execute_result"
    }
   ],
   "source": [
    "outList[0]"
   ]
  },
  {
   "cell_type": "code",
   "execution_count": 736,
   "id": "2561cca4-dfba-44c8-b6e5-747797be9052",
   "metadata": {},
   "outputs": [],
   "source": [
    "df[\"transcript\"] = outList"
   ]
  },
  {
   "cell_type": "code",
   "execution_count": 738,
   "id": "7d0db7ab",
   "metadata": {},
   "outputs": [
    {
     "data": {
      "text/plain": [
       "(591507, 72)"
      ]
     },
     "execution_count": 738,
     "metadata": {},
     "output_type": "execute_result"
    }
   ],
   "source": [
    "#need to clean repetitive/non-english? \n",
    "df.shape"
   ]
  },
  {
   "cell_type": "code",
   "execution_count": 756,
   "id": "db3c3daf",
   "metadata": {},
   "outputs": [
    {
     "data": {
      "text/html": [
       "<div>\n",
       "<style scoped>\n",
       "    .dataframe tbody tr th:only-of-type {\n",
       "        vertical-align: middle;\n",
       "    }\n",
       "\n",
       "    .dataframe tbody tr th {\n",
       "        vertical-align: top;\n",
       "    }\n",
       "\n",
       "    .dataframe thead th {\n",
       "        text-align: right;\n",
       "    }\n",
       "</style>\n",
       "<table border=\"1\" class=\"dataframe\">\n",
       "  <thead>\n",
       "    <tr style=\"text-align: right;\">\n",
       "      <th></th>\n",
       "      <th>potentialOutPath</th>\n",
       "      <th>transcript</th>\n",
       "      <th>wCount</th>\n",
       "      <th>rssUrl</th>\n",
       "      <th>epTitle</th>\n",
       "      <th>epDescription</th>\n",
       "      <th>duration</th>\n",
       "      <th>pubDate</th>\n",
       "      <th>copyright</th>\n",
       "      <th>itunes:type</th>\n",
       "      <th>...</th>\n",
       "      <th>descEnds</th>\n",
       "      <th>descTypes</th>\n",
       "      <th>epDescEnts</th>\n",
       "      <th>epDescStarts</th>\n",
       "      <th>epDescEnds</th>\n",
       "      <th>epDescTypes</th>\n",
       "      <th>transEnts</th>\n",
       "      <th>transStarts</th>\n",
       "      <th>transEnds</th>\n",
       "      <th>transTypes</th>\n",
       "    </tr>\n",
       "  </thead>\n",
       "  <tbody>\n",
       "    <tr>\n",
       "      <th>0</th>\n",
       "      <td>/www.buzzsprout.com/3y/httpswww.buzzsprout.com...</td>\n",
       "      <td>I'm Simon Shapiro and this is Sing Out Speak O...</td>\n",
       "      <td>766</td>\n",
       "      <td>https://feeds.buzzsprout.com/783020.rss</td>\n",
       "      <td>Today Is Yesterday</td>\n",
       "      <td>&lt;p&gt;Simon introduces track 4, of the newly rele...</td>\n",
       "      <td>416</td>\n",
       "      <td>Sun, 31 May 2020 21:00:00 +1000</td>\n",
       "      <td>NaN</td>\n",
       "      <td>NaN</td>\n",
       "      <td>...</td>\n",
       "      <td>[24, 56]</td>\n",
       "      <td>[NORP, PERSON]</td>\n",
       "      <td>[Simon, 4, KisTone, Yesterday&amp;apos;.&lt;/p]</td>\n",
       "      <td>[3, 26, 52, 83]</td>\n",
       "      <td>[8, 27, 59, 102]</td>\n",
       "      <td>[PERSON, CARDINAL, FAC, PERSON]</td>\n",
       "      <td>[Simon Shapiro, Sing Out Speak Out, many years...</td>\n",
       "      <td>[4, 30, 125, 362, 417, 451, 485, 520, 639, 112...</td>\n",
       "      <td>[17, 48, 135, 380, 435, 453, 500, 524, 648, 11...</td>\n",
       "      <td>[PERSON, WORK_OF_ART, DATE, WORK_OF_ART, WORK_...</td>\n",
       "    </tr>\n",
       "    <tr>\n",
       "      <th>1</th>\n",
       "      <td>/www.buzzsprout.com/3r/httpswww.buzzsprout.com...</td>\n",
       "      <td>I'm Simon Shapiro and this is Sing Out Speak O...</td>\n",
       "      <td>599</td>\n",
       "      <td>https://feeds.buzzsprout.com/783020.rss</td>\n",
       "      <td>Saturn Return</td>\n",
       "      <td>&lt;p&gt;This week, Simon introduces track 2- Saturn...</td>\n",
       "      <td>476</td>\n",
       "      <td>Sun, 24 May 2020 19:00:00 +1000</td>\n",
       "      <td>NaN</td>\n",
       "      <td>NaN</td>\n",
       "      <td>...</td>\n",
       "      <td>[24, 56]</td>\n",
       "      <td>[NORP, PERSON]</td>\n",
       "      <td>[This week, Simon, Saturn Return of, KisTone, ...</td>\n",
       "      <td>[3, 14, 40, 61, 188]</td>\n",
       "      <td>[12, 19, 56, 68, 197]</td>\n",
       "      <td>[DATE, PERSON, WORK_OF_ART, FAC, ORG]</td>\n",
       "      <td>[Simon Shapiro, Sing Out Speak Out, many years...</td>\n",
       "      <td>[4, 30, 125, 362, 406, 469, 497, 517, 532, 653...</td>\n",
       "      <td>[17, 48, 135, 380, 422, 478, 502, 525, 549, 65...</td>\n",
       "      <td>[PERSON, WORK_OF_ART, DATE, WORK_OF_ART, DATE,...</td>\n",
       "    </tr>\n",
       "    <tr>\n",
       "      <th>2</th>\n",
       "      <td>/www.buzzsprout.com/30/httpswww.buzzsprout.com...</td>\n",
       "      <td>I'm Simon Shapiro and this is Sing Out Speak O...</td>\n",
       "      <td>699</td>\n",
       "      <td>https://feeds.buzzsprout.com/783020.rss</td>\n",
       "      <td>Quarterlife Crisis</td>\n",
       "      <td>&lt;p&gt;Big news week. The band Simon lived in the ...</td>\n",
       "      <td>509</td>\n",
       "      <td>Sun, 17 May 2020 20:00:00 +1000</td>\n",
       "      <td>NaN</td>\n",
       "      <td>NaN</td>\n",
       "      <td>...</td>\n",
       "      <td>[24, 56]</td>\n",
       "      <td>[NORP, PERSON]</td>\n",
       "      <td>[Simon, USA, KisTone, 12 years, Simon, 1, Cris...</td>\n",
       "      <td>[27, 46, 56, 101, 123, 196, 211]</td>\n",
       "      <td>[32, 49, 63, 109, 128, 197, 221]</td>\n",
       "      <td>[PERSON, GPE, PRODUCT, DATE, PERSON, CARDINAL,...</td>\n",
       "      <td>[Simon Shapiro, Sing Out Speak Out, many years...</td>\n",
       "      <td>[4, 30, 125, 362, 425, 459, 568, 656, 668, 909...</td>\n",
       "      <td>[17, 48, 135, 380, 443, 464, 577, 667, 680, 91...</td>\n",
       "      <td>[PERSON, WORK_OF_ART, DATE, WORK_OF_ART, WORK_...</td>\n",
       "    </tr>\n",
       "    <tr>\n",
       "      <th>3</th>\n",
       "      <td>/mcdn.podbean.com/e_/httpsmcdn.podbean.commfwe...</td>\n",
       "      <td>[Music] Welcome to, \"Brazing Education\"\" with ...</td>\n",
       "      <td>11152</td>\n",
       "      <td>https://brazeneducation.podbean.com/feed.xml</td>\n",
       "      <td>BE: Episode 37 - The Benefits of Homeschooling...</td>\n",
       "      <td>&lt;p&gt;Listen as Educator Barnes talks to Natalie ...</td>\n",
       "      <td>57:00</td>\n",
       "      <td>Sun, 24 May 2020 21:39:35 -0400</td>\n",
       "      <td>NaN</td>\n",
       "      <td>NaN</td>\n",
       "      <td>...</td>\n",
       "      <td>NaN</td>\n",
       "      <td>NaN</td>\n",
       "      <td>[Barnes, Natalie Pipkin]</td>\n",
       "      <td>[22, 38]</td>\n",
       "      <td>[28, 52]</td>\n",
       "      <td>[PERSON, PERSON]</td>\n",
       "      <td>[Music] Welcome, Barnes, today, Natalie Pippki...</td>\n",
       "      <td>[1, 265, 282, 312, 345, 399, 410, 968, 1142, 1...</td>\n",
       "      <td>[15, 271, 287, 327, 366, 408, 413, 975, 1163, ...</td>\n",
       "      <td>[WORK_OF_ART, PERSON, DATE, PERSON, ORG, PERSO...</td>\n",
       "    </tr>\n",
       "    <tr>\n",
       "      <th>4</th>\n",
       "      <td>/dts.podtrac.com/e3/httpdts.podtrac.comredirec...</td>\n",
       "      <td>Hi, this is Eli Ortiz Oakley, Chancellor of th...</td>\n",
       "      <td>3898</td>\n",
       "      <td>https://feeds.soundcloud.com/users/soundcloud:...</td>\n",
       "      <td>Episode 33  'California’s Higher Education Lan...</td>\n",
       "      <td>It’s no secret that the COVID-19 pandemic has ...</td>\n",
       "      <td>00:25:58</td>\n",
       "      <td>Fri, 22 May 2020 18:25:44 +0000</td>\n",
       "      <td>NaN</td>\n",
       "      <td>NaN</td>\n",
       "      <td>...</td>\n",
       "      <td>[25, 72, 196, 302, 351]</td>\n",
       "      <td>[PERSON, ORG, PERSON, DATE, GPE]</td>\n",
       "      <td>[Eloy Ortiz Oakley, Monica Lozano, the College...</td>\n",
       "      <td>[122, 153, 175, 236]</td>\n",
       "      <td>[139, 166, 205, 246]</td>\n",
       "      <td>[PERSON, PERSON, ORG, GPE]</td>\n",
       "      <td>[Eli Ortiz Oakley, the California Community Co...</td>\n",
       "      <td>[12, 44, 122, 185, 231, 267, 352, 619, 694, 82...</td>\n",
       "      <td>[28, 77, 155, 190, 244, 297, 362, 629, 701, 83...</td>\n",
       "      <td>[PERSON, ORG, ORG, DATE, PERSON, ORG, GPE, GPE...</td>\n",
       "    </tr>\n",
       "  </tbody>\n",
       "</table>\n",
       "<p>5 rows × 72 columns</p>\n",
       "</div>"
      ],
      "text/plain": [
       "                                    potentialOutPath  \\\n",
       "0  /www.buzzsprout.com/3y/httpswww.buzzsprout.com...   \n",
       "1  /www.buzzsprout.com/3r/httpswww.buzzsprout.com...   \n",
       "2  /www.buzzsprout.com/30/httpswww.buzzsprout.com...   \n",
       "3  /mcdn.podbean.com/e_/httpsmcdn.podbean.commfwe...   \n",
       "4  /dts.podtrac.com/e3/httpdts.podtrac.comredirec...   \n",
       "\n",
       "                                          transcript  wCount  \\\n",
       "0  I'm Simon Shapiro and this is Sing Out Speak O...     766   \n",
       "1  I'm Simon Shapiro and this is Sing Out Speak O...     599   \n",
       "2  I'm Simon Shapiro and this is Sing Out Speak O...     699   \n",
       "3  [Music] Welcome to, \"Brazing Education\"\" with ...   11152   \n",
       "4  Hi, this is Eli Ortiz Oakley, Chancellor of th...    3898   \n",
       "\n",
       "                                              rssUrl  \\\n",
       "0            https://feeds.buzzsprout.com/783020.rss   \n",
       "1            https://feeds.buzzsprout.com/783020.rss   \n",
       "2            https://feeds.buzzsprout.com/783020.rss   \n",
       "3       https://brazeneducation.podbean.com/feed.xml   \n",
       "4  https://feeds.soundcloud.com/users/soundcloud:...   \n",
       "\n",
       "                                             epTitle  \\\n",
       "0                                 Today Is Yesterday   \n",
       "1                                      Saturn Return   \n",
       "2                                 Quarterlife Crisis   \n",
       "3  BE: Episode 37 - The Benefits of Homeschooling...   \n",
       "4  Episode 33  'California’s Higher Education Lan...   \n",
       "\n",
       "                                       epDescription  duration  \\\n",
       "0  <p>Simon introduces track 4, of the newly rele...       416   \n",
       "1  <p>This week, Simon introduces track 2- Saturn...       476   \n",
       "2  <p>Big news week. The band Simon lived in the ...       509   \n",
       "3  <p>Listen as Educator Barnes talks to Natalie ...     57:00   \n",
       "4  It’s no secret that the COVID-19 pandemic has ...  00:25:58   \n",
       "\n",
       "                           pubDate copyright itunes:type  ...  \\\n",
       "0  Sun, 31 May 2020 21:00:00 +1000       NaN         NaN  ...   \n",
       "1  Sun, 24 May 2020 19:00:00 +1000       NaN         NaN  ...   \n",
       "2  Sun, 17 May 2020 20:00:00 +1000       NaN         NaN  ...   \n",
       "3  Sun, 24 May 2020 21:39:35 -0400       NaN         NaN  ...   \n",
       "4  Fri, 22 May 2020 18:25:44 +0000       NaN         NaN  ...   \n",
       "\n",
       "                  descEnds                         descTypes  \\\n",
       "0                 [24, 56]                    [NORP, PERSON]   \n",
       "1                 [24, 56]                    [NORP, PERSON]   \n",
       "2                 [24, 56]                    [NORP, PERSON]   \n",
       "3                      NaN                               NaN   \n",
       "4  [25, 72, 196, 302, 351]  [PERSON, ORG, PERSON, DATE, GPE]   \n",
       "\n",
       "                                          epDescEnts  \\\n",
       "0           [Simon, 4, KisTone, Yesterday&apos;.</p]   \n",
       "1  [This week, Simon, Saturn Return of, KisTone, ...   \n",
       "2  [Simon, USA, KisTone, 12 years, Simon, 1, Cris...   \n",
       "3                           [Barnes, Natalie Pipkin]   \n",
       "4  [Eloy Ortiz Oakley, Monica Lozano, the College...   \n",
       "\n",
       "                       epDescStarts                        epDescEnds  \\\n",
       "0                   [3, 26, 52, 83]                  [8, 27, 59, 102]   \n",
       "1              [3, 14, 40, 61, 188]             [12, 19, 56, 68, 197]   \n",
       "2  [27, 46, 56, 101, 123, 196, 211]  [32, 49, 63, 109, 128, 197, 221]   \n",
       "3                          [22, 38]                          [28, 52]   \n",
       "4              [122, 153, 175, 236]              [139, 166, 205, 246]   \n",
       "\n",
       "                                         epDescTypes  \\\n",
       "0                    [PERSON, CARDINAL, FAC, PERSON]   \n",
       "1              [DATE, PERSON, WORK_OF_ART, FAC, ORG]   \n",
       "2  [PERSON, GPE, PRODUCT, DATE, PERSON, CARDINAL,...   \n",
       "3                                   [PERSON, PERSON]   \n",
       "4                         [PERSON, PERSON, ORG, GPE]   \n",
       "\n",
       "                                           transEnts  \\\n",
       "0  [Simon Shapiro, Sing Out Speak Out, many years...   \n",
       "1  [Simon Shapiro, Sing Out Speak Out, many years...   \n",
       "2  [Simon Shapiro, Sing Out Speak Out, many years...   \n",
       "3  [Music] Welcome, Barnes, today, Natalie Pippki...   \n",
       "4  [Eli Ortiz Oakley, the California Community Co...   \n",
       "\n",
       "                                         transStarts  \\\n",
       "0  [4, 30, 125, 362, 417, 451, 485, 520, 639, 112...   \n",
       "1  [4, 30, 125, 362, 406, 469, 497, 517, 532, 653...   \n",
       "2  [4, 30, 125, 362, 425, 459, 568, 656, 668, 909...   \n",
       "3  [1, 265, 282, 312, 345, 399, 410, 968, 1142, 1...   \n",
       "4  [12, 44, 122, 185, 231, 267, 352, 619, 694, 82...   \n",
       "\n",
       "                                           transEnds  \\\n",
       "0  [17, 48, 135, 380, 435, 453, 500, 524, 648, 11...   \n",
       "1  [17, 48, 135, 380, 422, 478, 502, 525, 549, 65...   \n",
       "2  [17, 48, 135, 380, 443, 464, 577, 667, 680, 91...   \n",
       "3  [15, 271, 287, 327, 366, 408, 413, 975, 1163, ...   \n",
       "4  [28, 77, 155, 190, 244, 297, 362, 629, 701, 83...   \n",
       "\n",
       "                                          transTypes  \n",
       "0  [PERSON, WORK_OF_ART, DATE, WORK_OF_ART, WORK_...  \n",
       "1  [PERSON, WORK_OF_ART, DATE, WORK_OF_ART, DATE,...  \n",
       "2  [PERSON, WORK_OF_ART, DATE, WORK_OF_ART, WORK_...  \n",
       "3  [WORK_OF_ART, PERSON, DATE, PERSON, ORG, PERSO...  \n",
       "4  [PERSON, ORG, ORG, DATE, PERSON, ORG, GPE, GPE...  \n",
       "\n",
       "[5 rows x 72 columns]"
      ]
     },
     "execution_count": 756,
     "metadata": {},
     "output_type": "execute_result"
    }
   ],
   "source": [
    "df.head() "
   ]
  },
  {
   "cell_type": "code",
   "execution_count": 1,
   "id": "f3bd0801-d501-434b-ba55-aa212a5965ee",
   "metadata": {},
   "outputs": [
    {
     "ename": "NameError",
     "evalue": "name 'df' is not defined",
     "output_type": "error",
     "traceback": [
      "\u001b[0;31m---------------------------------------------------------------------------\u001b[0m",
      "\u001b[0;31mNameError\u001b[0m                                 Traceback (most recent call last)",
      "Cell \u001b[0;32mIn[1], line 1\u001b[0m\n\u001b[0;32m----> 1\u001b[0m df\u001b[38;5;241m.\u001b[39mto_json(\u001b[38;5;124m\"\u001b[39m\u001b[38;5;124m/shared/3/projects/benlitterer/podcastData/processed/floydMonth/floydMonthData.jsonl\u001b[39m\u001b[38;5;124m\"\u001b[39m, orient\u001b[38;5;241m=\u001b[39m\u001b[38;5;124m\"\u001b[39m\u001b[38;5;124mrecords\u001b[39m\u001b[38;5;124m\"\u001b[39m, lines\u001b[38;5;241m=\u001b[39m\u001b[38;5;28;01mTrue\u001b[39;00m)\n",
      "\u001b[0;31mNameError\u001b[0m: name 'df' is not defined"
     ]
    }
   ],
   "source": [
    "df.to_json(\"/shared/3/projects/benlitterer/podcastData/processed/floydMonth/floydMonthData.jsonl\", orient=\"records\", lines=True)"
   ]
  },
  {
   "cell_type": "code",
   "execution_count": null,
   "id": "04b544ed-f186-4161-a73c-134e550ebaf2",
   "metadata": {},
   "outputs": [],
   "source": []
  }
 ],
 "metadata": {
  "kernelspec": {
   "display_name": "Python 3 (ipykernel)",
   "language": "python",
   "name": "python3"
  }
 },
 "nbformat": 4,
 "nbformat_minor": 5
}
