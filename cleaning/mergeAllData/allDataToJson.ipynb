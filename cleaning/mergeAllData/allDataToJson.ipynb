{
 "cells": [
  {
   "cell_type": "code",
   "execution_count": 299,
   "id": "1f6fe7a6-c3b2-4c26-ad7e-b659fc85bc2d",
   "metadata": {},
   "outputs": [],
   "source": [
    "import pandas as pd \n",
    "import matplotlib.pyplot as plt\n",
    "import seaborn as sns\n",
    "import re\n",
    "import numpy as np"
   ]
  },
  {
   "cell_type": "code",
   "execution_count": 3,
   "id": "97dee9bd-fae8-487b-abb4-01dc133b5fdc",
   "metadata": {},
   "outputs": [],
   "source": [
    "metaDf = pd.read_csv(\"/shared/3/projects/benlitterer/podcastData/processed/floydMonth/floydMonthEn.csv\", lineterminator=\"\\n\")\n",
    "\n",
    "entDf = pd.read_csv(\"/shared/3/projects/benlitterer/podcastData/NER/podIntroductions/floydMonth500wordNEs.csv\", names=[\"potentialOutPath\", \"ent\", \"start\", \"end\", \"type\"], lineterminator=\"\\n\")\n",
    "\n",
    "descEntDf = pd.read_csv(\"/shared/3/projects/benlitterer/podcastData/NER/podDescriptions/floydMonthNEs.tsv\", sep=\"\\t\",\n",
    "                        names=[\"potentialOutPath\", \"ent\", \"start\", \"end\", \"type\"], lineterminator=\"\\n\")\n",
    "\n",
    "introDf = pd.read_csv(\"/shared/3/projects/benlitterer/podcastData/NER/floydIntroductions.tsv\", sep=\"\\t\", names=[\"potentialOutPath\", \"first500\"]) \n",
    "\n",
    "transcriptDf = pd.read_csv(\"/shared/3/projects/benlitterer/podcastData/processed/floydMonth/allTranscripts.tsv\", sep=\"\\t\", names=[\"potentialOutPath\", \"transcript\"], lineterminator=\"\\n\")\n"
   ]
  },
  {
   "cell_type": "code",
   "execution_count": null,
   "id": "5948ec36-4514-484e-a519-1a477269e015",
   "metadata": {},
   "outputs": [],
   "source": [
    "\"\"\"\n",
    "random info\n",
    "we have 828 gb of data in transcripts + prosodic information right now\n",
    "\"\"\""
   ]
  },
  {
   "cell_type": "markdown",
   "id": "8d8d098b-ab53-4333-b6a0-e34e39b051e6",
   "metadata": {},
   "source": [
    "## Clean Each Dataframe"
   ]
  },
  {
   "cell_type": "code",
   "execution_count": 226,
   "id": "a7de2570-4c90-4c6a-bbc1-dc29a2065562",
   "metadata": {},
   "outputs": [
    {
     "data": {
      "text/plain": [
       "(601207, 2)"
      ]
     },
     "execution_count": 226,
     "metadata": {},
     "output_type": "execute_result"
    }
   ],
   "source": [
    "transcriptDf.shape"
   ]
  },
  {
   "cell_type": "code",
   "execution_count": 244,
   "id": "6532c912-486e-47c9-99c4-2e2c28730531",
   "metadata": {},
   "outputs": [],
   "source": [
    "transDups = transcriptDf[transcriptDf.duplicated(subset=[\"potentialOutPath\"], keep=False)]"
   ]
  },
  {
   "cell_type": "code",
   "execution_count": 247,
   "id": "f68e62d4-d74f-417b-9033-3203d863c7de",
   "metadata": {},
   "outputs": [
    {
     "data": {
      "text/plain": [
       "\"\\nout of the 601,207 transcripts, 18,124 of the paths are duplicates.\\n(that's 1.6%) \\n\\n\\n\""
      ]
     },
     "execution_count": 247,
     "metadata": {},
     "output_type": "execute_result"
    }
   ],
   "source": [
    "\"\"\"\n",
    "out of the 601,207 transcripts, 18,124 of the paths are duplicates.\n",
    "(that's 3.01%), but only half of those get dropped \n",
    "\n",
    "not exactly sure where these come from is the thing... \n",
    "\"\"\""
   ]
  },
  {
   "cell_type": "code",
   "execution_count": 263,
   "id": "953e790e-6a62-4d0b-a712-8e203fe2e8c1",
   "metadata": {},
   "outputs": [],
   "source": [
    "#this shows that they're all exact duplicates on both the outpath and the transcript\n",
    "print(transDups[transDups.duplicated(keep=False)].sort_values(\"potentialOutPath\").shape)\n",
    "print(transDups.shape)"
   ]
  },
  {
   "cell_type": "code",
   "execution_count": null,
   "id": "4970a223-2620-4590-a74f-cc94d3f6d176",
   "metadata": {},
   "outputs": [],
   "source": [
    "scriptDups = transcriptDf[transcriptDf.duplicated(subset=[\"transcript\"], keep=False)]\n",
    "\n",
    "scriptDups.shape"
   ]
  },
  {
   "cell_type": "code",
   "execution_count": null,
   "id": "91cbe724-d2fa-4b91-9791-e82b726ff002",
   "metadata": {},
   "outputs": [],
   "source": [
    "\"\"\"\n",
    "Duplicated transcripts.. \n",
    "we have 53,211 transcripts that are duplicates, which is 8.85%\n",
    "we only need to remove half of these which gives 4.425% that are removed \\\n",
    "\n",
    "about one third of the duplicates are very short \n",
    "\n",
    "from qualitative review of dups we are getting some amount of music-only and blank audio, which could have something\n",
    "to do with this problem \n",
    "\n",
    "i.e. \"content [silence]\" or \"content [music]\" \n",
    "\"\"\""
   ]
  },
  {
   "cell_type": "code",
   "execution_count": 272,
   "id": "c28608d7-a516-4777-981c-0e84997df8d2",
   "metadata": {},
   "outputs": [
    {
     "name": "stderr",
     "output_type": "stream",
     "text": [
      "<ipython-input-272-bdae48c04eee>:2: SettingWithCopyWarning: \n",
      "A value is trying to be set on a copy of a slice from a DataFrame.\n",
      "Try using .loc[row_indexer,col_indexer] = value instead\n",
      "\n",
      "See the caveats in the documentation: https://pandas.pydata.org/pandas-docs/stable/user_guide/indexing.html#returning-a-view-versus-a-copy\n",
      "  scriptDups[\"scriptLen\"] = scriptDups[\"transcript\"].apply(lambda x: len(x.split()))\n"
     ]
    }
   ],
   "source": [
    "#what is the length of these duplicate transcripts \n",
    "scriptDups[\"scriptLen\"] = scriptDups[\"transcript\"].apply(lambda x: len(x.split()))"
   ]
  },
  {
   "cell_type": "code",
   "execution_count": 277,
   "id": "8c2bf9b1-6888-49c4-9d9b-100bdaff7635",
   "metadata": {},
   "outputs": [
    {
     "data": {
      "text/plain": [
       "0.08850695351185199"
      ]
     },
     "execution_count": 277,
     "metadata": {},
     "output_type": "execute_result"
    }
   ],
   "source": [
    "53211 / 601207"
   ]
  },
  {
   "cell_type": "code",
   "execution_count": 275,
   "id": "824a9f35-9ef2-4462-8a79-e72c30b83a50",
   "metadata": {},
   "outputs": [
    {
     "name": "stdout",
     "output_type": "stream",
     "text": [
      "(53211, 3)\n"
     ]
    },
    {
     "data": {
      "text/plain": [
       "<Axes: xlabel='scriptLen', ylabel='Proportion'>"
      ]
     },
     "execution_count": 275,
     "metadata": {},
     "output_type": "execute_result"
    },
    {
     "data": {
      "image/png": "[encoded data removed]",
      "text/plain": [
       "<Figure size 432x288 with 1 Axes>"
      ]
     },
     "metadata": {
      "needs_background": "light"
     },
     "output_type": "display_data"
    }
   ],
   "source": [
    "print(scriptDups.shape)\n",
    "sns.ecdfplot(data=scriptDups, x=\"scriptLen\")"
   ]
  },
  {
   "cell_type": "code",
   "execution_count": 284,
   "id": "dcf4afd6-c95e-47cf-8209-ff515fd38c2c",
   "metadata": {},
   "outputs": [],
   "source": [
    "#scriptDups.sort_values(\"transcript\").reset_index(drop=True).iloc[0:10]"
   ]
  },
  {
   "cell_type": "code",
   "execution_count": 282,
   "id": "1e2bf181-5b6d-4777-a97c-b6ec032980cc",
   "metadata": {},
   "outputs": [],
   "source": [
    "#scriptDups.sample(20)"
   ]
  },
  {
   "cell_type": "code",
   "execution_count": 12,
   "id": "9c2e5e98-7436-4998-bc86-1a3418bd0bb2",
   "metadata": {},
   "outputs": [
    {
     "data": {
      "text/plain": [
       "Index(['Unnamed: 0', 'rssUrl', 'epTitle', 'epDescription', 'duration',\n",
       "       'pubDate', 'copyright', 'itunes:type', 'itunes:complete', 'guid',\n",
       "       'itunes:explicit', 'enclosure', 'itunes:image', 'transDict', 'id',\n",
       "       'title', 'lastUpdate', 'link', 'lastHttpStatus', 'dead', 'contentType',\n",
       "       'itunesId', 'originalUrl', 'itunesAuthor', 'itunesOwnerName',\n",
       "       'explicit', 'imageUrl', 'itunesType', 'generator', 'newestItemPubdate',\n",
       "       'language', 'oldestItemPubdate', 'episodeCount', 'popularityScore',\n",
       "       'priority', 'createdOn', 'updateFrequency', 'chash', 'host',\n",
       "       'newestEnclosureUrl', 'podcastGuid', 'podDescription', 'category1',\n",
       "       'category2', 'category3', 'category4', 'category5', 'category6',\n",
       "       'category7', 'category8', 'category9', 'category10',\n",
       "       'newestEnclosureDuration', 'oldestItemDatetime', 'cleanDates',\n",
       "       'potentialOutPath', 'cleanDatesLoc'],\n",
       "      dtype='object')"
      ]
     },
     "execution_count": 12,
     "metadata": {},
     "output_type": "execute_result"
    }
   ],
   "source": [
    "metaDf.columns"
   ]
  },
  {
   "cell_type": "code",
   "execution_count": 285,
   "id": "339119df-4435-46f9-a560-268d1d3cfcb3",
   "metadata": {},
   "outputs": [],
   "source": [
    "#drop duplicates in transcript df\n",
    "#note that this removes duplicates on the (outPath, transcript) columns\n",
    "#which ones we keep doesn't matter because they're perfect duplicates of eachother\n",
    "transcriptDf = transcriptDf.drop_duplicates(keep=\"first\")"
   ]
  },
  {
   "cell_type": "code",
   "execution_count": 291,
   "id": "d7758199-5785-4ce1-b5d8-f46febf2aa07",
   "metadata": {},
   "outputs": [],
   "source": [
    "#do we have any NaN or None values in the transcripts or outPaths? \n",
    "#only one row!? \n",
    "#and no NaN values for potentialOutPath\n",
    "print(transcriptDf[transcriptDf[\"transcript\"].isna()].shape)\n",
    "print(transcriptDf[transcriptDf[\"potentialOutPath\"].isna()].shape) \n",
    "\n",
    "#no \"None\" values \n",
    "transcriptDf[transcriptDf[\"transcript\"] == None]\n",
    "transcriptDf[transcriptDf[\"potentialOutPath\"] == None]\n",
    "\n",
    "#drop the na's (one row atm) \n",
    "transcriptDf = transcriptDf.dropna()"
   ]
  },
  {
   "cell_type": "code",
   "execution_count": 296,
   "id": "c3c09bf6-7fe9-4594-b050-6b6faa305792",
   "metadata": {},
   "outputs": [],
   "source": [
    "#are there transcripts that are too short? \n",
    "transcriptDf[\"wCount\"] = transcriptDf[\"transcript\"].apply(lambda x: len(x.split()))"
   ]
  },
  {
   "cell_type": "code",
   "execution_count": 302,
   "id": "8f340c22-5cbf-4563-8dd1-84ee35b906ce",
   "metadata": {},
   "outputs": [
    {
     "name": "stdout",
     "output_type": "stream",
     "text": [
      "average word count: 4204.260490577457\n",
      "median word count: 3673.0\n",
      "total word count: 2486849510\n"
     ]
    }
   ],
   "source": [
    "print(f'average word count: {np.mean(transcriptDf[\"wCount\"])}') \n",
    "print(f'median word count: {np.median(transcriptDf[\"wCount\"])}') \n",
    "print(f'total word count: {sum(transcriptDf[\"wCount\"])}')"
   ]
  },
  {
   "cell_type": "code",
   "execution_count": 311,
   "id": "f2cfef3e-e0da-431e-84a3-573df79ff582",
   "metadata": {},
   "outputs": [
    {
     "name": "stdout",
     "output_type": "stream",
     "text": [
      "(586225, 3)\n"
     ]
    }
   ],
   "source": [
    "#do we have transcripts that have no real content?\n",
    "#we had about 5,800 transcripts with word counts under or equal to 10\n",
    "print(transcriptDf[transcriptDf[\"wCount\"] > 10].shape)\n",
    "transcriptDf = transcriptDf[transcriptDf[\"wCount\"] > 10]"
   ]
  },
  {
   "cell_type": "code",
   "execution_count": 328,
   "id": "35135f03-7412-4f88-966d-86434ea47d31",
   "metadata": {},
   "outputs": [
    {
     "name": "stdout",
     "output_type": "stream",
     "text": [
      "(0, 57)\n"
     ]
    }
   ],
   "source": [
    "#duplicates on potentialOutPath in metadata\n",
    "print(metaDf[metaDf.duplicated(subset=[\"potentialOutPath\"], keep=False)].shape) "
   ]
  },
  {
   "cell_type": "code",
   "execution_count": 357,
   "id": "206bf9f0-ff90-4b53-80ab-8e8473c6a406",
   "metadata": {},
   "outputs": [],
   "source": [
    "#drop duplicates on potential out path \n",
    "metaDf = metaDf.drop_duplicates(subset=[\"potentialOutPath\"], keep=\"first\")"
   ]
  },
  {
   "cell_type": "code",
   "execution_count": 331,
   "id": "ab562ddd-d265-4945-8ae1-83144c55751d",
   "metadata": {},
   "outputs": [],
   "source": [
    "#for parsing the metadata durations \n",
    "def parseDurations(inDuration): \n",
    "    #if na value, just return na value \n",
    "    if inDuration != inDuration: \n",
    "        return inDuration \n",
    "    \n",
    "    inDuration = str(inDuration)\n",
    "    inDuration = re.sub(\"[A-z]\", \"\", inDuration)\n",
    "    colonCount = inDuration.count(\":\")\n",
    "    \n",
    "    try: \n",
    "        \n",
    "        #parse different strings into number of seconds \n",
    "        if colonCount == 0: \n",
    "            return int(inDuration)\n",
    "\n",
    "        elif colonCount == 1: \n",
    "            mins, seconds = [int(item) for item in inDuration.split(\":\")]\n",
    "            return (60*mins) + seconds \n",
    "\n",
    "        elif colonCount == 2: \n",
    "            hours, mins, seconds = [int(item) for item in inDuration.split(\":\")]\n",
    "            return (hours*60*60) + (mins*60) + seconds\n",
    "        else: \n",
    "            return np.nan\n",
    "    except: \n",
    "        return np.nan"
   ]
  },
  {
   "cell_type": "code",
   "execution_count": null,
   "id": "16df2c1c-c983-4ad3-8bf8-6f5dbebe97a8",
   "metadata": {},
   "outputs": [],
   "source": [
    "\"\"\" \n",
    "We have a very small (like 300) number of podcasts that are over 10 hours. \n",
    "No discernable reason why, so we must assume a data entry error... \n",
    "\"\"\""
   ]
  },
  {
   "cell_type": "code",
   "execution_count": 332,
   "id": "be52a3d4-8e20-4a04-a3fb-1b3c5e054445",
   "metadata": {},
   "outputs": [],
   "source": [
    "#now parse durations\n",
    "metaDf[\"parsedDuration\"] = metaDf[\"duration\"].apply(parseDurations) "
   ]
  },
  {
   "cell_type": "code",
   "execution_count": 335,
   "id": "ab97287a-26c1-46b5-a404-c7c245530414",
   "metadata": {},
   "outputs": [
    {
     "data": {
      "text/plain": [
       "0.02080318684904721"
      ]
     },
     "execution_count": 335,
     "metadata": {},
     "output_type": "execute_result"
    }
   ],
   "source": [
    "#2% of the values parsed are na \n",
    "np.mean(metaDf[\"parsedDuration\"].isna()) "
   ]
  },
  {
   "cell_type": "code",
   "execution_count": 343,
   "id": "72108c80-8d90-4294-83b6-b39168f6ad9b",
   "metadata": {},
   "outputs": [],
   "source": [
    "metaDf[\"hours\"] = metaDf[\"parsedDuration\"] / (60 * 60) "
   ]
  },
  {
   "cell_type": "code",
   "execution_count": 348,
   "id": "69dd86cd-af72-40c6-8556-93a2347329a3",
   "metadata": {},
   "outputs": [
    {
     "data": {
      "text/html": [
       "<div>\n",
       "<style scoped>\n",
       "    .dataframe tbody tr th:only-of-type {\n",
       "        vertical-align: middle;\n",
       "    }\n",
       "\n",
       "    .dataframe tbody tr th {\n",
       "        vertical-align: top;\n",
       "    }\n",
       "\n",
       "    .dataframe thead th {\n",
       "        text-align: right;\n",
       "    }\n",
       "</style>\n",
       "<table border=\"1\" class=\"dataframe\">\n",
       "  <thead>\n",
       "    <tr style=\"text-align: right;\">\n",
       "      <th></th>\n",
       "      <th>duration</th>\n",
       "      <th>parsedDuration</th>\n",
       "    </tr>\n",
       "  </thead>\n",
       "  <tbody>\n",
       "    <tr>\n",
       "      <th>6939</th>\n",
       "      <td>93480</td>\n",
       "      <td>93480.0</td>\n",
       "    </tr>\n",
       "    <tr>\n",
       "      <th>6940</th>\n",
       "      <td>40080</td>\n",
       "      <td>40080.0</td>\n",
       "    </tr>\n",
       "    <tr>\n",
       "      <th>6941</th>\n",
       "      <td>91920</td>\n",
       "      <td>91920.0</td>\n",
       "    </tr>\n",
       "    <tr>\n",
       "      <th>6942</th>\n",
       "      <td>55500</td>\n",
       "      <td>55500.0</td>\n",
       "    </tr>\n",
       "    <tr>\n",
       "      <th>13020</th>\n",
       "      <td>115800</td>\n",
       "      <td>115800.0</td>\n",
       "    </tr>\n",
       "    <tr>\n",
       "      <th>...</th>\n",
       "      <td>...</td>\n",
       "      <td>...</td>\n",
       "    </tr>\n",
       "    <tr>\n",
       "      <th>769765</th>\n",
       "      <td>120900</td>\n",
       "      <td>120900.0</td>\n",
       "    </tr>\n",
       "    <tr>\n",
       "      <th>784602</th>\n",
       "      <td>525013</td>\n",
       "      <td>525013.0</td>\n",
       "    </tr>\n",
       "    <tr>\n",
       "      <th>784603</th>\n",
       "      <td>486971</td>\n",
       "      <td>486971.0</td>\n",
       "    </tr>\n",
       "    <tr>\n",
       "      <th>784604</th>\n",
       "      <td>412311</td>\n",
       "      <td>412311.0</td>\n",
       "    </tr>\n",
       "    <tr>\n",
       "      <th>784605</th>\n",
       "      <td>581605</td>\n",
       "      <td>581605.0</td>\n",
       "    </tr>\n",
       "  </tbody>\n",
       "</table>\n",
       "<p>255 rows × 2 columns</p>\n",
       "</div>"
      ],
      "text/plain": [
       "       duration  parsedDuration\n",
       "6939      93480         93480.0\n",
       "6940      40080         40080.0\n",
       "6941      91920         91920.0\n",
       "6942      55500         55500.0\n",
       "13020    115800        115800.0\n",
       "...         ...             ...\n",
       "769765   120900        120900.0\n",
       "784602   525013        525013.0\n",
       "784603   486971        486971.0\n",
       "784604   412311        412311.0\n",
       "784605   581605        581605.0\n",
       "\n",
       "[255 rows x 2 columns]"
      ]
     },
     "execution_count": 348,
     "metadata": {},
     "output_type": "execute_result"
    }
   ],
   "source": [
    "longPods = metaDf.loc[metaDf[\"hours\"] > 10]\n",
    "longPods[[\"duration\", \"parsedDuration\"]]"
   ]
  },
  {
   "cell_type": "code",
   "execution_count": 351,
   "id": "bfe710c9-bf21-4161-8cca-13a6f30bbbe4",
   "metadata": {},
   "outputs": [],
   "source": [
    "#longPods[[\"epTitle\"]]"
   ]
  },
  {
   "cell_type": "code",
   "execution_count": 347,
   "id": "5022900a-ad4f-40a2-a281-a4bc21ab31da",
   "metadata": {},
   "outputs": [
    {
     "data": {
      "text/plain": [
       "Text(0.5, 1.0, '(all) podcast durations ecdf')"
      ]
     },
     "execution_count": 347,
     "metadata": {},
     "output_type": "execute_result"
    },
    {
     "data": {
      "image/png": "[encoded data removed]",
      "text/plain": [
       "<Figure size 432x288 with 1 Axes>"
      ]
     },
     "metadata": {
      "needs_background": "light"
     },
     "output_type": "display_data"
    }
   ],
   "source": [
    "sns.ecdfplot(data=metaDf[metaDf[\"hours\"] < (10)], x=\"hours\")\n",
    "plt.title(\"(all) podcast durations ecdf\")"
   ]
  },
  {
   "cell_type": "code",
   "execution_count": 377,
   "id": "420966de-a44f-4726-a499-86379b438c2d",
   "metadata": {},
   "outputs": [
    {
     "data": {
      "text/plain": [
       "(769161, 59)"
      ]
     },
     "execution_count": 377,
     "metadata": {},
     "output_type": "execute_result"
    }
   ],
   "source": [
    "metaDf.shape"
   ]
  },
  {
   "cell_type": "code",
   "execution_count": 119,
   "id": "25675d79-5723-4588-87ab-1e2e22691c30",
   "metadata": {},
   "outputs": [],
   "source": [
    "#metaDf[\"potentialOutPath\"] = \"/shared/3/projects/benlitterer/podcastData/prosodyMerged/floydMonth\" + metaDf[\"potentialOutPath\"]"
   ]
  },
  {
   "cell_type": "code",
   "execution_count": 378,
   "id": "89308d21-0009-4499-a612-a42749ab7496",
   "metadata": {},
   "outputs": [
    {
     "data": {
      "text/plain": [
       "(586225, 3)"
      ]
     },
     "execution_count": 378,
     "metadata": {},
     "output_type": "execute_result"
    }
   ],
   "source": [
    "transcriptDf.shape"
   ]
  },
  {
   "cell_type": "code",
   "execution_count": 359,
   "id": "957d0a0c-8000-4392-9d86-4b5576fab8b9",
   "metadata": {},
   "outputs": [],
   "source": [
    "df = pd.merge(transcriptDf, metaDf, on=\"potentialOutPath\", how=\"left\") \n",
    "\n",
    "df.shape"
   ]
  },
  {
   "cell_type": "code",
   "execution_count": 374,
   "id": "1682ec61-2634-43ab-8b85-7c2148865200",
   "metadata": {},
   "outputs": [],
   "source": [
    "\"\"\"\n",
    "sampling entDf and descEntDf, they both seem fine... \n",
    "we do get duplicates though, which is odd. I assume this comes from \n",
    "reading the same file twice when running NER? didn't drop duplicates before doing NER potentially?\n",
    "\n",
    "entDf dups -> 150,000\n",
    "desEntDf dups -> 40,000 \n",
    "(both are tiny fractions of all entities extracted) \n",
    "\"\"\"\n",
    "sum(entDf.duplicated()) \n",
    "sum(descEntDf.duplicated())\n",
    "\n",
    "entDf = entDf.drop_duplicates() \n",
    "descEntDf = descEntDf.drop_duplicates() "
   ]
  },
  {
   "cell_type": "code",
   "execution_count": 379,
   "id": "ff613763-1932-4633-bbd7-e9fd58725bcb",
   "metadata": {},
   "outputs": [],
   "source": [
    "#add the entities in, but first check on duplicates \n",
    "entDf = entDf.groupby(by=\"potentialOutPath\").agg(list)"
   ]
  },
  {
   "cell_type": "code",
   "execution_count": 380,
   "id": "5f15b16a-b002-49b6-bb10-18744260ca3b",
   "metadata": {},
   "outputs": [],
   "source": [
    "entDf = entDf.reset_index() "
   ]
  },
  {
   "cell_type": "code",
   "execution_count": 381,
   "id": "53e11e70-e54a-45e6-b9ad-8a34b1c86675",
   "metadata": {},
   "outputs": [],
   "source": [
    "df = pd.merge(df, entDf, on=\"potentialOutPath\", how=\"left\") "
   ]
  },
  {
   "cell_type": "code",
   "execution_count": 382,
   "id": "c5b17af5-33e3-4d3b-b6f0-5c79eae4a075",
   "metadata": {},
   "outputs": [],
   "source": [
    "descEntDf = descEntDf.groupby(by=\"potentialOutPath\").agg(list)"
   ]
  },
  {
   "cell_type": "code",
   "execution_count": 383,
   "id": "23e579ff-6d8c-471e-931d-3fed631abb5a",
   "metadata": {},
   "outputs": [],
   "source": [
    "descEntDf = descEntDf.reset_index() "
   ]
  },
  {
   "cell_type": "code",
   "execution_count": 384,
   "id": "e384e945-019b-496b-92e7-8fc851e4ac27",
   "metadata": {},
   "outputs": [],
   "source": [
    "descEntDf[\"potentialOutPath\"] = \"/shared/3/projects/benlitterer/podcastData/prosodyMerged/floydMonth\" + descEntDf[\"potentialOutPath\"]"
   ]
  },
  {
   "cell_type": "code",
   "execution_count": 388,
   "id": "ce81367d-3030-486e-96a5-b4c2e9ed4d47",
   "metadata": {},
   "outputs": [
    {
     "data": {
      "text/plain": [
       "0"
      ]
     },
     "execution_count": 388,
     "metadata": {},
     "output_type": "execute_result"
    }
   ],
   "source": [
    "#check for duplicates on the indices of descEntDf and entDf\n",
    "#all good!\n",
    "sum(entDf[\"potentialOutPath\"].duplicated())\n",
    "sum(descEntDf[\"potentialOutPath\"].duplicated())"
   ]
  },
  {
   "cell_type": "code",
   "execution_count": 389,
   "id": "ed604366-5c51-445a-b2fe-f3c9c2f17ec3",
   "metadata": {},
   "outputs": [],
   "source": [
    "df = df.rename(columns={\"ent\":\"500ent\", \"start\":\"500start\", \"end\":\"500end\", \"type\":\"500type\"})"
   ]
  },
  {
   "cell_type": "code",
   "execution_count": 390,
   "id": "bf856aa7-7284-46e2-9008-95d46ed3397f",
   "metadata": {},
   "outputs": [],
   "source": [
    "df = df.drop(columns=['Unnamed: 0']) "
   ]
  },
  {
   "cell_type": "code",
   "execution_count": 391,
   "id": "37cd650c-b9e9-45bb-8286-e4e75ff01752",
   "metadata": {},
   "outputs": [],
   "source": [
    "df = pd.merge(df, descEntDf, on=\"potentialOutPath\", how=\"left\") "
   ]
  },
  {
   "cell_type": "code",
   "execution_count": 392,
   "id": "afdcb563-7632-487b-939c-fe0b85b7d5e2",
   "metadata": {},
   "outputs": [],
   "source": [
    "df = df.rename(columns={\"ent\":\"DescEnt\", \"start\":\"DescStart\", \"end\":\"DescEnd\", \"type\":\"DescType\"})"
   ]
  },
  {
   "cell_type": "code",
   "execution_count": 393,
   "id": "c26e26aa-1aea-43a6-b624-dc7da68c4a0e",
   "metadata": {},
   "outputs": [
    {
     "data": {
      "text/plain": [
       "(586225, 68)"
      ]
     },
     "execution_count": 393,
     "metadata": {},
     "output_type": "execute_result"
    }
   ],
   "source": [
    "#validating that we have as many rows in our dataframe as we do transcripts that we've processed \n",
    "df.shape"
   ]
  },
  {
   "cell_type": "code",
   "execution_count": null,
   "id": "290116a0-3e0f-4f6a-b8bb-cbc11a9d820e",
   "metadata": {},
   "outputs": [],
   "source": [
    "\"\"\"\n",
    "We have some duplicates on the outPaths and these are not all identical in terms of\n",
    "the (outPath, transcript) pair \n",
    "\"\"\""
   ]
  },
  {
   "cell_type": "code",
   "execution_count": 408,
   "id": "cb97ea6d-f2b3-47a8-ae2d-f3ec18d2b837",
   "metadata": {},
   "outputs": [
    {
     "name": "stdout",
     "output_type": "stream",
     "text": [
      "259438.1211111099\n",
      "0.442582914290924\n",
      "0.41583333333333333\n"
     ]
    }
   ],
   "source": [
    "#get David's stuff \n",
    "print(sum(df.dropna(subset=[\"hours\"])[\"hours\"]))\n",
    "print(np.mean(df.dropna(subset=[\"hours\"])[\"hours\"]))\n",
    "print(np.median(df.dropna(subset=[\"hours\"])[\"hours\"]))"
   ]
  },
  {
   "cell_type": "code",
   "execution_count": 418,
   "id": "4c809c93-8375-4eb6-8e73-2601eb4b0d4f",
   "metadata": {},
   "outputs": [
    {
     "data": {
      "text/plain": [
       "'2020-05-11 00:00:00'"
      ]
     },
     "execution_count": 418,
     "metadata": {},
     "output_type": "execute_result"
    }
   ],
   "source": [
    "min(df[\"cleanDates\"]) "
   ]
  },
  {
   "cell_type": "code",
   "execution_count": 419,
   "id": "f726ea6a-21b2-411c-b64d-63d0785a134a",
   "metadata": {},
   "outputs": [
    {
     "data": {
      "text/plain": [
       "'2020-06-08 00:00:00+11:00'"
      ]
     },
     "execution_count": 419,
     "metadata": {},
     "output_type": "execute_result"
    }
   ],
   "source": [
    "max(df[\"cleanDates\"]) "
   ]
  },
  {
   "cell_type": "code",
   "execution_count": 415,
   "id": "624e7f42-544a-4af9-b9e1-ac5591857dfd",
   "metadata": {},
   "outputs": [
    {
     "data": {
      "text/plain": [
       "15566280"
      ]
     },
     "execution_count": 415,
     "metadata": {},
     "output_type": "execute_result"
    }
   ],
   "source": [
    "259438 * 60"
   ]
  },
  {
   "cell_type": "code",
   "execution_count": 414,
   "id": "3c8c80e5-3166-48bd-9b61-c2a8cca69f81",
   "metadata": {},
   "outputs": [
    {
     "data": {
      "text/plain": [
       "187119"
      ]
     },
     "execution_count": 414,
     "metadata": {},
     "output_type": "execute_result"
    }
   ],
   "source": [
    "#number of episodes \n",
    "len(df[\"rssUrl\"].unique())"
   ]
  },
  {
   "cell_type": "code",
   "execution_count": 422,
   "id": "4d718c81-cdcf-415c-8df5-4b4b137aa842",
   "metadata": {},
   "outputs": [
    {
     "data": {
      "text/plain": [
       "(586225, 68)"
      ]
     },
     "execution_count": 422,
     "metadata": {},
     "output_type": "execute_result"
    }
   ],
   "source": [
    "df.shape"
   ]
  },
  {
   "cell_type": "code",
   "execution_count": 424,
   "id": "6461b3aa-8386-4912-abaf-151c8b448020",
   "metadata": {},
   "outputs": [
    {
     "data": {
      "text/plain": [
       "Text(0.5, 1.0, 'ecdf: duration of collected podcasts')"
      ]
     },
     "execution_count": 424,
     "metadata": {},
     "output_type": "execute_result"
    },
    {
     "data": {
      "image/png": "[encoded data removed]",
      "text/plain": [
       "<Figure size 432x288 with 1 Axes>"
      ]
     },
     "metadata": {
      "needs_background": "light"
     },
     "output_type": "display_data"
    }
   ],
   "source": [
    "sns.ecdfplot(data=df, x=\"hours\")\n",
    "plt.title(\"ecdf: duration of collected podcasts\") "
   ]
  },
  {
   "cell_type": "code",
   "execution_count": 428,
   "id": "2b697c94-d300-4d72-9cf9-631ab4605f91",
   "metadata": {},
   "outputs": [],
   "source": [
    "#now merge in the first 500 words that we got the entities from \n",
    "introDups = introDf[introDf.duplicated(subset=[\"potentialOutPath\"], keep=False)]"
   ]
  },
  {
   "cell_type": "code",
   "execution_count": 429,
   "id": "0994d5a3-f4b9-463d-814b-c6be5afefe6f",
   "metadata": {},
   "outputs": [
    {
     "name": "stdout",
     "output_type": "stream",
     "text": [
      "(15600, 2)\n",
      "8288\n"
     ]
    }
   ],
   "source": [
    "print(introDups.shape) \n",
    "print(sum(introDups.duplicated())) "
   ]
  },
  {
   "cell_type": "code",
   "execution_count": 431,
   "id": "a08bdeb3-0c5b-4f0f-9714-0053af9e56a4",
   "metadata": {},
   "outputs": [
    {
     "data": {
      "text/html": [
       "<div>\n",
       "<style scoped>\n",
       "    .dataframe tbody tr th:only-of-type {\n",
       "        vertical-align: middle;\n",
       "    }\n",
       "\n",
       "    .dataframe tbody tr th {\n",
       "        vertical-align: top;\n",
       "    }\n",
       "\n",
       "    .dataframe thead th {\n",
       "        text-align: right;\n",
       "    }\n",
       "</style>\n",
       "<table border=\"1\" class=\"dataframe\">\n",
       "  <thead>\n",
       "    <tr style=\"text-align: right;\">\n",
       "      <th></th>\n",
       "      <th>potentialOutPath</th>\n",
       "      <th>first500</th>\n",
       "    </tr>\n",
       "  </thead>\n",
       "  <tbody>\n",
       "    <tr>\n",
       "      <th>529161</th>\n",
       "      <td>/shared/3/projects/benlitterer/podcastData/pro...</td>\n",
       "      <td>content #HANISW Well\" it's unbelievable that w...</td>\n",
       "    </tr>\n",
       "    <tr>\n",
       "      <th>113347</th>\n",
       "      <td>/shared/3/projects/benlitterer/podcastData/pro...</td>\n",
       "      <td>content #HANISW Well\" it's unbelievable that w...</td>\n",
       "    </tr>\n",
       "    <tr>\n",
       "      <th>528058</th>\n",
       "      <td>/shared/3/projects/benlitterer/podcastData/pro...</td>\n",
       "      <td>content #HANISW Well\" it's unbelievable that w...</td>\n",
       "    </tr>\n",
       "    <tr>\n",
       "      <th>528048</th>\n",
       "      <td>/shared/3/projects/benlitterer/podcastData/pro...</td>\n",
       "      <td>content #HANISW. #HANISW. #HANISW. #HANISW. #H...</td>\n",
       "    </tr>\n",
       "    <tr>\n",
       "      <th>113337</th>\n",
       "      <td>/shared/3/projects/benlitterer/podcastData/pro...</td>\n",
       "      <td>content #HANISW. #HANISW. #HANISW. #HANISW. #H...</td>\n",
       "    </tr>\n",
       "    <tr>\n",
       "      <th>...</th>\n",
       "      <td>...</td>\n",
       "      <td>...</td>\n",
       "    </tr>\n",
       "    <tr>\n",
       "      <th>72867</th>\n",
       "      <td>/shared/3/projects/benlitterer/podcastData/pro...</td>\n",
       "      <td>content\" \"\"\"Sailatsut but katsut\"\"\"\"\" \"\"\"Vane ...</td>\n",
       "    </tr>\n",
       "    <tr>\n",
       "      <th>371979</th>\n",
       "      <td>/shared/3/projects/benlitterer/podcastData/pro...</td>\n",
       "      <td>content\" \"\"\"Sleak\" you've got to get that key\"...</td>\n",
       "    </tr>\n",
       "    <tr>\n",
       "      <th>273389</th>\n",
       "      <td>/shared/3/projects/benlitterer/podcastData/pro...</td>\n",
       "      <td>content\" \"\"\"Sleak\" you've got to get that key\"...</td>\n",
       "    </tr>\n",
       "    <tr>\n",
       "      <th>126719</th>\n",
       "      <td>/shared/3/projects/benlitterer/podcastData/pro...</td>\n",
       "      <td>content\" \"\"\"Tara Baba Shaka Rabu Sian Tara Bab...</td>\n",
       "    </tr>\n",
       "    <tr>\n",
       "      <th>126720</th>\n",
       "      <td>/shared/3/projects/benlitterer/podcastData/pro...</td>\n",
       "      <td>content\" \"\"\"Tara Baba Shaka Rabu Sian Tara Bab...</td>\n",
       "    </tr>\n",
       "  </tbody>\n",
       "</table>\n",
       "<p>15600 rows × 2 columns</p>\n",
       "</div>"
      ],
      "text/plain": [
       "                                         potentialOutPath  \\\n",
       "529161  /shared/3/projects/benlitterer/podcastData/pro...   \n",
       "113347  /shared/3/projects/benlitterer/podcastData/pro...   \n",
       "528058  /shared/3/projects/benlitterer/podcastData/pro...   \n",
       "528048  /shared/3/projects/benlitterer/podcastData/pro...   \n",
       "113337  /shared/3/projects/benlitterer/podcastData/pro...   \n",
       "...                                                   ...   \n",
       "72867   /shared/3/projects/benlitterer/podcastData/pro...   \n",
       "371979  /shared/3/projects/benlitterer/podcastData/pro...   \n",
       "273389  /shared/3/projects/benlitterer/podcastData/pro...   \n",
       "126719  /shared/3/projects/benlitterer/podcastData/pro...   \n",
       "126720  /shared/3/projects/benlitterer/podcastData/pro...   \n",
       "\n",
       "                                                 first500  \n",
       "529161  content #HANISW Well\" it's unbelievable that w...  \n",
       "113347  content #HANISW Well\" it's unbelievable that w...  \n",
       "528058  content #HANISW Well\" it's unbelievable that w...  \n",
       "528048  content #HANISW. #HANISW. #HANISW. #HANISW. #H...  \n",
       "113337  content #HANISW. #HANISW. #HANISW. #HANISW. #H...  \n",
       "...                                                   ...  \n",
       "72867   content\" \"\"\"Sailatsut but katsut\"\"\"\"\" \"\"\"Vane ...  \n",
       "371979  content\" \"\"\"Sleak\" you've got to get that key\"...  \n",
       "273389  content\" \"\"\"Sleak\" you've got to get that key\"...  \n",
       "126719  content\" \"\"\"Tara Baba Shaka Rabu Sian Tara Bab...  \n",
       "126720  content\" \"\"\"Tara Baba Shaka Rabu Sian Tara Bab...  \n",
       "\n",
       "[15600 rows x 2 columns]"
      ]
     },
     "execution_count": 431,
     "metadata": {},
     "output_type": "execute_result"
    }
   ],
   "source": [
    "#introDups.sort_values(\"first500\")"
   ]
  },
  {
   "cell_type": "code",
   "execution_count": 432,
   "id": "99a1b4b1-98d7-4aa7-8e08-7b423207219e",
   "metadata": {},
   "outputs": [],
   "source": [
    "introDf = introDf.drop_duplicates(subset=[\"potentialOutPath\"]) "
   ]
  },
  {
   "cell_type": "code",
   "execution_count": 433,
   "id": "cdf7dcde-6554-4cea-903b-af4941b73900",
   "metadata": {},
   "outputs": [],
   "source": [
    "df = pd.merge(df, introDf, on =\"potentialOutPath\", how=\"left\") "
   ]
  },
  {
   "cell_type": "code",
   "execution_count": 394,
   "id": "2bb1d5cc-34f3-4722-972f-b0c43e72077b",
   "metadata": {},
   "outputs": [],
   "source": [
    "def cleanQuotes(inStr): \n",
    "    if inStr != inStr: \n",
    "        return inStr \n",
    "    outStr = re.sub('(?<!\")\"(?!\")', ',',inStr) \n",
    "    return re.sub('\"\"\"', '\"', outStr)"
   ]
  },
  {
   "cell_type": "code",
   "execution_count": 395,
   "id": "a5a111bf-73a6-4aae-ac43-c4f30af7f12f",
   "metadata": {},
   "outputs": [],
   "source": [
    "from tqdm import tqdm"
   ]
  },
  {
   "cell_type": "code",
   "execution_count": 396,
   "id": "6ac7b5d2-7766-42af-b9f9-1540c954d8aa",
   "metadata": {},
   "outputs": [
    {
     "name": "stderr",
     "output_type": "stream",
     "text": [
      "16218it [00:21, 743.48it/s]\n"
     ]
    },
    {
     "ename": "KeyboardInterrupt",
     "evalue": "",
     "output_type": "error",
     "traceback": [
      "\u001b[0;31m---------------------------------------------------------------------------\u001b[0m",
      "\u001b[0;31mKeyboardInterrupt\u001b[0m                         Traceback (most recent call last)",
      "Cell \u001b[0;32mIn[396], line 3\u001b[0m\n\u001b[1;32m      1\u001b[0m outList \u001b[38;5;241m=\u001b[39m []\n\u001b[1;32m      2\u001b[0m \u001b[38;5;28;01mfor\u001b[39;00m i, row \u001b[38;5;129;01min\u001b[39;00m tqdm(df\u001b[38;5;241m.\u001b[39miterrows()): \n\u001b[0;32m----> 3\u001b[0m     outList\u001b[38;5;241m.\u001b[39mappend(\u001b[43mcleanQuotes\u001b[49m\u001b[43m(\u001b[49m\u001b[43mrow\u001b[49m\u001b[43m[\u001b[49m\u001b[38;5;124;43m\"\u001b[39;49m\u001b[38;5;124;43mtranscript\u001b[39;49m\u001b[38;5;124;43m\"\u001b[39;49m\u001b[43m]\u001b[49m\u001b[43m)\u001b[49m[\u001b[38;5;241m8\u001b[39m:])\n",
      "Cell \u001b[0;32mIn[394], line 4\u001b[0m, in \u001b[0;36mcleanQuotes\u001b[0;34m(inStr)\u001b[0m\n\u001b[1;32m      2\u001b[0m \u001b[38;5;28;01mif\u001b[39;00m inStr \u001b[38;5;241m!=\u001b[39m inStr: \n\u001b[1;32m      3\u001b[0m     \u001b[38;5;28;01mreturn\u001b[39;00m inStr \n\u001b[0;32m----> 4\u001b[0m outStr \u001b[38;5;241m=\u001b[39m \u001b[43mre\u001b[49m\u001b[38;5;241;43m.\u001b[39;49m\u001b[43msub\u001b[49m\u001b[43m(\u001b[49m\u001b[38;5;124;43m'\u001b[39;49m\u001b[38;5;124;43m(?<!\u001b[39;49m\u001b[38;5;124;43m\"\u001b[39;49m\u001b[38;5;124;43m)\u001b[39;49m\u001b[38;5;124;43m\"\u001b[39;49m\u001b[38;5;124;43m(?!\u001b[39;49m\u001b[38;5;124;43m\"\u001b[39;49m\u001b[38;5;124;43m)\u001b[39;49m\u001b[38;5;124;43m'\u001b[39;49m\u001b[43m,\u001b[49m\u001b[43m \u001b[49m\u001b[38;5;124;43m'\u001b[39;49m\u001b[38;5;124;43m,\u001b[39;49m\u001b[38;5;124;43m'\u001b[39;49m\u001b[43m,\u001b[49m\u001b[43minStr\u001b[49m\u001b[43m)\u001b[49m \n\u001b[1;32m      5\u001b[0m \u001b[38;5;28;01mreturn\u001b[39;00m re\u001b[38;5;241m.\u001b[39msub(\u001b[38;5;124m'\u001b[39m\u001b[38;5;124m\"\u001b[39m\u001b[38;5;124m\"\u001b[39m\u001b[38;5;124m\"\u001b[39m\u001b[38;5;124m'\u001b[39m, \u001b[38;5;124m'\u001b[39m\u001b[38;5;124m\"\u001b[39m\u001b[38;5;124m'\u001b[39m, outStr)\n",
      "File \u001b[0;32m/opt/anaconda/lib/python3.9/re.py:210\u001b[0m, in \u001b[0;36msub\u001b[0;34m(pattern, repl, string, count, flags)\u001b[0m\n\u001b[1;32m    203\u001b[0m \u001b[38;5;28;01mdef\u001b[39;00m \u001b[38;5;21msub\u001b[39m(pattern, repl, string, count\u001b[38;5;241m=\u001b[39m\u001b[38;5;241m0\u001b[39m, flags\u001b[38;5;241m=\u001b[39m\u001b[38;5;241m0\u001b[39m):\n\u001b[1;32m    204\u001b[0m     \u001b[38;5;124;03m\"\"\"Return the string obtained by replacing the leftmost\u001b[39;00m\n\u001b[1;32m    205\u001b[0m \u001b[38;5;124;03m    non-overlapping occurrences of the pattern in string by the\u001b[39;00m\n\u001b[1;32m    206\u001b[0m \u001b[38;5;124;03m    replacement repl.  repl can be either a string or a callable;\u001b[39;00m\n\u001b[1;32m    207\u001b[0m \u001b[38;5;124;03m    if a string, backslash escapes in it are processed.  If it is\u001b[39;00m\n\u001b[1;32m    208\u001b[0m \u001b[38;5;124;03m    a callable, it's passed the Match object and must return\u001b[39;00m\n\u001b[1;32m    209\u001b[0m \u001b[38;5;124;03m    a replacement string to be used.\"\"\"\u001b[39;00m\n\u001b[0;32m--> 210\u001b[0m     \u001b[38;5;28;01mreturn\u001b[39;00m \u001b[43m_compile\u001b[49m\u001b[43m(\u001b[49m\u001b[43mpattern\u001b[49m\u001b[43m,\u001b[49m\u001b[43m \u001b[49m\u001b[43mflags\u001b[49m\u001b[43m)\u001b[49m\u001b[38;5;241;43m.\u001b[39;49m\u001b[43msub\u001b[49m\u001b[43m(\u001b[49m\u001b[43mrepl\u001b[49m\u001b[43m,\u001b[49m\u001b[43m \u001b[49m\u001b[43mstring\u001b[49m\u001b[43m,\u001b[49m\u001b[43m \u001b[49m\u001b[43mcount\u001b[49m\u001b[43m)\u001b[49m\n",
      "\u001b[0;31mKeyboardInterrupt\u001b[0m: "
     ]
    }
   ],
   "source": [
    "outList = []\n",
    "for i, row in tqdm(df.iterrows()): \n",
    "    outList.append(cleanQuotes(row[\"transcript\"])[8:])"
   ]
  },
  {
   "cell_type": "code",
   "execution_count": 200,
   "id": "2561cca4-dfba-44c8-b6e5-747797be9052",
   "metadata": {},
   "outputs": [
    {
     "ename": "KeyboardInterrupt",
     "evalue": "",
     "output_type": "error",
     "traceback": [
      "\u001b[0;31m---------------------------------------------------------------------------\u001b[0m",
      "\u001b[0;31mKeyboardInterrupt\u001b[0m                         Traceback (most recent call last)",
      "Cell \u001b[0;32mIn[200], line 1\u001b[0m\n\u001b[0;32m----> 1\u001b[0m df[\u001b[38;5;124m\"\u001b[39m\u001b[38;5;124mtranscript\u001b[39m\u001b[38;5;124m\"\u001b[39m] \u001b[38;5;241m=\u001b[39m \u001b[43mdf\u001b[49m\u001b[43m[\u001b[49m\u001b[38;5;124;43m\"\u001b[39;49m\u001b[38;5;124;43mtranscript\u001b[39;49m\u001b[38;5;124;43m\"\u001b[39;49m\u001b[43m]\u001b[49m\u001b[38;5;241;43m.\u001b[39;49m\u001b[43mapply\u001b[49m\u001b[43m(\u001b[49m\u001b[43mcleanQuotes\u001b[49m\u001b[43m)\u001b[49m\n",
      "File \u001b[0;32m/opt/anaconda/lib/python3.9/site-packages/pandas/core/series.py:4630\u001b[0m, in \u001b[0;36mSeries.apply\u001b[0;34m(self, func, convert_dtype, args, **kwargs)\u001b[0m\n\u001b[1;32m   4520\u001b[0m \u001b[38;5;28;01mdef\u001b[39;00m \u001b[38;5;21mapply\u001b[39m(\n\u001b[1;32m   4521\u001b[0m     \u001b[38;5;28mself\u001b[39m,\n\u001b[1;32m   4522\u001b[0m     func: AggFuncType,\n\u001b[0;32m   (...)\u001b[0m\n\u001b[1;32m   4525\u001b[0m     \u001b[38;5;241m*\u001b[39m\u001b[38;5;241m*\u001b[39mkwargs,\n\u001b[1;32m   4526\u001b[0m ) \u001b[38;5;241m-\u001b[39m\u001b[38;5;241m>\u001b[39m DataFrame \u001b[38;5;241m|\u001b[39m Series:\n\u001b[1;32m   4527\u001b[0m     \u001b[38;5;124;03m\"\"\"\u001b[39;00m\n\u001b[1;32m   4528\u001b[0m \u001b[38;5;124;03m    Invoke function on values of Series.\u001b[39;00m\n\u001b[1;32m   4529\u001b[0m \n\u001b[0;32m   (...)\u001b[0m\n\u001b[1;32m   4628\u001b[0m \u001b[38;5;124;03m    dtype: float64\u001b[39;00m\n\u001b[1;32m   4629\u001b[0m \u001b[38;5;124;03m    \"\"\"\u001b[39;00m\n\u001b[0;32m-> 4630\u001b[0m     \u001b[38;5;28;01mreturn\u001b[39;00m \u001b[43mSeriesApply\u001b[49m\u001b[43m(\u001b[49m\u001b[38;5;28;43mself\u001b[39;49m\u001b[43m,\u001b[49m\u001b[43m \u001b[49m\u001b[43mfunc\u001b[49m\u001b[43m,\u001b[49m\u001b[43m \u001b[49m\u001b[43mconvert_dtype\u001b[49m\u001b[43m,\u001b[49m\u001b[43m \u001b[49m\u001b[43margs\u001b[49m\u001b[43m,\u001b[49m\u001b[43m \u001b[49m\u001b[43mkwargs\u001b[49m\u001b[43m)\u001b[49m\u001b[38;5;241;43m.\u001b[39;49m\u001b[43mapply\u001b[49m\u001b[43m(\u001b[49m\u001b[43m)\u001b[49m\n",
      "File \u001b[0;32m/opt/anaconda/lib/python3.9/site-packages/pandas/core/apply.py:1025\u001b[0m, in \u001b[0;36mSeriesApply.apply\u001b[0;34m(self)\u001b[0m\n\u001b[1;32m   1022\u001b[0m     \u001b[38;5;28;01mreturn\u001b[39;00m \u001b[38;5;28mself\u001b[39m\u001b[38;5;241m.\u001b[39mapply_str()\n\u001b[1;32m   1024\u001b[0m \u001b[38;5;66;03m# self.f is Callable\u001b[39;00m\n\u001b[0;32m-> 1025\u001b[0m \u001b[38;5;28;01mreturn\u001b[39;00m \u001b[38;5;28;43mself\u001b[39;49m\u001b[38;5;241;43m.\u001b[39;49m\u001b[43mapply_standard\u001b[49m\u001b[43m(\u001b[49m\u001b[43m)\u001b[49m\n",
      "File \u001b[0;32m/opt/anaconda/lib/python3.9/site-packages/pandas/core/apply.py:1076\u001b[0m, in \u001b[0;36mSeriesApply.apply_standard\u001b[0;34m(self)\u001b[0m\n\u001b[1;32m   1074\u001b[0m     \u001b[38;5;28;01melse\u001b[39;00m:\n\u001b[1;32m   1075\u001b[0m         values \u001b[38;5;241m=\u001b[39m obj\u001b[38;5;241m.\u001b[39mastype(\u001b[38;5;28mobject\u001b[39m)\u001b[38;5;241m.\u001b[39m_values\n\u001b[0;32m-> 1076\u001b[0m         mapped \u001b[38;5;241m=\u001b[39m \u001b[43mlib\u001b[49m\u001b[38;5;241;43m.\u001b[39;49m\u001b[43mmap_infer\u001b[49m\u001b[43m(\u001b[49m\n\u001b[1;32m   1077\u001b[0m \u001b[43m            \u001b[49m\u001b[43mvalues\u001b[49m\u001b[43m,\u001b[49m\n\u001b[1;32m   1078\u001b[0m \u001b[43m            \u001b[49m\u001b[43mf\u001b[49m\u001b[43m,\u001b[49m\n\u001b[1;32m   1079\u001b[0m \u001b[43m            \u001b[49m\u001b[43mconvert\u001b[49m\u001b[38;5;241;43m=\u001b[39;49m\u001b[38;5;28;43mself\u001b[39;49m\u001b[38;5;241;43m.\u001b[39;49m\u001b[43mconvert_dtype\u001b[49m\u001b[43m,\u001b[49m\n\u001b[1;32m   1080\u001b[0m \u001b[43m        \u001b[49m\u001b[43m)\u001b[49m\n\u001b[1;32m   1082\u001b[0m \u001b[38;5;28;01mif\u001b[39;00m \u001b[38;5;28mlen\u001b[39m(mapped) \u001b[38;5;129;01mand\u001b[39;00m \u001b[38;5;28misinstance\u001b[39m(mapped[\u001b[38;5;241m0\u001b[39m], ABCSeries):\n\u001b[1;32m   1083\u001b[0m     \u001b[38;5;66;03m# GH#43986 Need to do list(mapped) in order to get treated as nested\u001b[39;00m\n\u001b[1;32m   1084\u001b[0m     \u001b[38;5;66;03m#  See also GH#25959 regarding EA support\u001b[39;00m\n\u001b[1;32m   1085\u001b[0m     \u001b[38;5;28;01mreturn\u001b[39;00m obj\u001b[38;5;241m.\u001b[39m_constructor_expanddim(\u001b[38;5;28mlist\u001b[39m(mapped), index\u001b[38;5;241m=\u001b[39mobj\u001b[38;5;241m.\u001b[39mindex)\n",
      "File \u001b[0;32m/opt/anaconda/lib/python3.9/site-packages/pandas/_libs/lib.pyx:2834\u001b[0m, in \u001b[0;36mpandas._libs.lib.map_infer\u001b[0;34m()\u001b[0m\n",
      "Cell \u001b[0;32mIn[187], line 4\u001b[0m, in \u001b[0;36mcleanQuotes\u001b[0;34m(inStr)\u001b[0m\n\u001b[1;32m      2\u001b[0m \u001b[38;5;28;01mif\u001b[39;00m inStr \u001b[38;5;241m!=\u001b[39m inStr: \n\u001b[1;32m      3\u001b[0m     \u001b[38;5;28;01mreturn\u001b[39;00m inStr \n\u001b[0;32m----> 4\u001b[0m outStr \u001b[38;5;241m=\u001b[39m \u001b[43mre\u001b[49m\u001b[38;5;241;43m.\u001b[39;49m\u001b[43msub\u001b[49m\u001b[43m(\u001b[49m\u001b[38;5;124;43m'\u001b[39;49m\u001b[38;5;124;43m(?<!\u001b[39;49m\u001b[38;5;124;43m\"\u001b[39;49m\u001b[38;5;124;43m)\u001b[39;49m\u001b[38;5;124;43m\"\u001b[39;49m\u001b[38;5;124;43m(?!\u001b[39;49m\u001b[38;5;124;43m\"\u001b[39;49m\u001b[38;5;124;43m)\u001b[39;49m\u001b[38;5;124;43m'\u001b[39;49m\u001b[43m,\u001b[49m\u001b[43m \u001b[49m\u001b[38;5;124;43m'\u001b[39;49m\u001b[38;5;124;43m,\u001b[39;49m\u001b[38;5;124;43m'\u001b[39;49m\u001b[43m,\u001b[49m\u001b[43minStr\u001b[49m\u001b[43m)\u001b[49m \n\u001b[1;32m      5\u001b[0m \u001b[38;5;28;01mreturn\u001b[39;00m re\u001b[38;5;241m.\u001b[39msub(\u001b[38;5;124m'\u001b[39m\u001b[38;5;124m\"\u001b[39m\u001b[38;5;124m\"\u001b[39m\u001b[38;5;124m\"\u001b[39m\u001b[38;5;124m'\u001b[39m, \u001b[38;5;124m'\u001b[39m\u001b[38;5;124m\"\u001b[39m\u001b[38;5;124m'\u001b[39m, outStr)\n",
      "File \u001b[0;32m/opt/anaconda/lib/python3.9/re.py:210\u001b[0m, in \u001b[0;36msub\u001b[0;34m(pattern, repl, string, count, flags)\u001b[0m\n\u001b[1;32m    203\u001b[0m \u001b[38;5;28;01mdef\u001b[39;00m \u001b[38;5;21msub\u001b[39m(pattern, repl, string, count\u001b[38;5;241m=\u001b[39m\u001b[38;5;241m0\u001b[39m, flags\u001b[38;5;241m=\u001b[39m\u001b[38;5;241m0\u001b[39m):\n\u001b[1;32m    204\u001b[0m     \u001b[38;5;124;03m\"\"\"Return the string obtained by replacing the leftmost\u001b[39;00m\n\u001b[1;32m    205\u001b[0m \u001b[38;5;124;03m    non-overlapping occurrences of the pattern in string by the\u001b[39;00m\n\u001b[1;32m    206\u001b[0m \u001b[38;5;124;03m    replacement repl.  repl can be either a string or a callable;\u001b[39;00m\n\u001b[1;32m    207\u001b[0m \u001b[38;5;124;03m    if a string, backslash escapes in it are processed.  If it is\u001b[39;00m\n\u001b[1;32m    208\u001b[0m \u001b[38;5;124;03m    a callable, it's passed the Match object and must return\u001b[39;00m\n\u001b[1;32m    209\u001b[0m \u001b[38;5;124;03m    a replacement string to be used.\"\"\"\u001b[39;00m\n\u001b[0;32m--> 210\u001b[0m     \u001b[38;5;28;01mreturn\u001b[39;00m \u001b[43m_compile\u001b[49m\u001b[43m(\u001b[49m\u001b[43mpattern\u001b[49m\u001b[43m,\u001b[49m\u001b[43m \u001b[49m\u001b[43mflags\u001b[49m\u001b[43m)\u001b[49m\u001b[38;5;241;43m.\u001b[39;49m\u001b[43msub\u001b[49m\u001b[43m(\u001b[49m\u001b[43mrepl\u001b[49m\u001b[43m,\u001b[49m\u001b[43m \u001b[49m\u001b[43mstring\u001b[49m\u001b[43m,\u001b[49m\u001b[43m \u001b[49m\u001b[43mcount\u001b[49m\u001b[43m)\u001b[49m\n",
      "\u001b[0;31mKeyboardInterrupt\u001b[0m: "
     ]
    }
   ],
   "source": [
    "df[\"transcript\"] = outList"
   ]
  },
  {
   "cell_type": "code",
   "execution_count": 222,
   "id": "f3bd0801-d501-434b-ba55-aa212a5965ee",
   "metadata": {},
   "outputs": [],
   "source": [
    "df.to_json(\"/shared/3/projects/benlitterer/podcastData/processed/floydMonth/floydMonthData.jsonl\", orient=\"records\", lines=True)"
   ]
  },
  {
   "cell_type": "code",
   "execution_count": null,
   "id": "04b544ed-f186-4161-a73c-134e550ebaf2",
   "metadata": {},
   "outputs": [],
   "source": []
  }
 ],
 "metadata": {
  "kernelspec": {
   "display_name": "Python 3",
   "language": "python",
   "name": "python3"
  },
  "language_info": {
   "codemirror_mode": {
    "name": "ipython",
    "version": 3
   },
   "file_extension": ".py",
   "mimetype": "text/x-python",
   "name": "python",
   "nbconvert_exporter": "python",
   "pygments_lexer": "ipython3",
   "version": "3.9.12"
  }
 },
 "nbformat": 4,
 "nbformat_minor": 5
}
