{
 "cells": [
  {
   "cell_type": "code",
   "execution_count": 1,
   "id": "68817f6a",
   "metadata": {},
   "outputs": [],
   "source": [
    "import pandas as pd"
   ]
  },
  {
   "cell_type": "code",
   "execution_count": null,
   "id": "cf6fd311",
   "metadata": {},
   "outputs": [],
   "source": [
    "df = pd.read_csv(\"/shared/3/projects/benlitterer/podcastData/analysis/allEpisodes.csv\", index_col=0, lineterminator='\\n')"
   ]
  },
  {
   "cell_type": "code",
   "execution_count": null,
   "id": "b1799945",
   "metadata": {},
   "outputs": [],
   "source": [
    "df = df.dropna(subset=[\"language\"])"
   ]
  },
  {
   "cell_type": "code",
   "execution_count": null,
   "id": "0eb9ba37",
   "metadata": {},
   "outputs": [],
   "source": [
    "df = df[df[\"language\"].str.contains(\"en\")]"
   ]
  },
  {
   "cell_type": "code",
   "execution_count": null,
   "id": "bec160a2",
   "metadata": {},
   "outputs": [],
   "source": [
    "# Date formats:\n",
    "date_formats_with_offset = \"%a, %d %b %Y %H:%M:%S %z\"\n",
    "date_formats_without_offset = \"%a, %d %b %Y %H:%M:%S %Z\"\n",
    "date_format_without_tzone = '%Y-%m-%d %H:%M:%S'\n"
   ]
  },
  {
   "cell_type": "code",
   "execution_count": null,
   "id": "c3ed1aeb",
   "metadata": {},
   "outputs": [],
   "source": [
    "#use 1/20th of the data for speed, and then infer from those results \n",
    "#df = df.sample(int((1/20)* len(df)))"
   ]
  },
  {
   "cell_type": "code",
   "execution_count": null,
   "id": "4d2b73d0",
   "metadata": {},
   "outputs": [],
   "source": [
    "df = df.dropna(subset=[\"pubDate\"])"
   ]
  },
  {
   "cell_type": "code",
   "execution_count": null,
   "id": "beabe9c0",
   "metadata": {},
   "outputs": [],
   "source": [
    "# clean date using only one format, leaving NaTs for unmatched format \n",
    "df['date_formats_with_offset'] = pd.to_datetime(df['pubDate'], errors='coerce', format=date_formats_with_offset, utc=True).dt.tz_localize(None)\n",
    "df[\"date_formats_without_offset\"] = pd.to_datetime(df['pubDate'], errors='coerce', format=date_formats_without_offset, utc=True).dt.tz_localize(None)\n",
    "df[\"date_formats_without_PDT\"] = pd.to_datetime(df['pubDate'].replace({'PDT':'-07:00','PST':'-08:00'}, regex=True), errors='coerce', utc=True).dt.tz_localize(None)"
   ]
  },
  {
   "cell_type": "code",
   "execution_count": null,
   "id": "40233c1a",
   "metadata": {},
   "outputs": [],
   "source": [
    "# Merge columns  \n",
    "df[\"date_format_same\"] = df['date_formats_with_offset'].fillna(df[\"date_formats_without_offset\"])\n",
    "df['date_format_same_final'] = df[\"date_formats_without_PDT\"].fillna(df[\"date_format_same\"])"
   ]
  },
  {
   "cell_type": "code",
   "execution_count": null,
   "id": "4fc377d9",
   "metadata": {},
   "outputs": [],
   "source": [
    "uniqueCats = df[\"categories\"].str.split(\",\").explode().unique()"
   ]
  },
  {
   "cell_type": "code",
   "execution_count": null,
   "id": "c7780ff3",
   "metadata": {},
   "outputs": [],
   "source": [
    "len(uniqueCats)"
   ]
  },
  {
   "cell_type": "code",
   "execution_count": null,
   "id": "f2080d63",
   "metadata": {},
   "outputs": [],
   "source": [
    "df[\"catsSplit\"] = df[\"categories\"].str.split(\",\")"
   ]
  },
  {
   "cell_type": "code",
   "execution_count": null,
   "id": "1ab90fc3",
   "metadata": {},
   "outputs": [],
   "source": [
    "catDf = df[[\"key\", \"catsSplit\"]].explode(\"catsSplit\")"
   ]
  },
  {
   "cell_type": "code",
   "execution_count": null,
   "id": "44610e6e",
   "metadata": {},
   "outputs": [],
   "source": [
    "catFreqs = pd.DataFrame(catDf[\"catsSplit\"].value_counts())"
   ]
  },
  {
   "cell_type": "code",
   "execution_count": null,
   "id": "d662ee7f",
   "metadata": {},
   "outputs": [],
   "source": [
    "catFreqs[\"realFreq\"] = catFreqs[\"count\"] * 20"
   ]
  },
  {
   "cell_type": "code",
   "execution_count": null,
   "id": "a1e185e8",
   "metadata": {},
   "outputs": [],
   "source": [
    "catFreqs = catFreqs.reset_index()"
   ]
  },
  {
   "cell_type": "code",
   "execution_count": null,
   "id": "3a693679",
   "metadata": {},
   "outputs": [],
   "source": [
    "#44th most common? \n",
    "catFreqs[catFreqs[\"catsSplit\"] == \"Politics\"]"
   ]
  },
  {
   "cell_type": "code",
   "execution_count": null,
   "id": "37aeef09",
   "metadata": {},
   "outputs": [],
   "source": [
    "#what if we take religion, spirituality, society, culture, sports, "
   ]
  },
  {
   "cell_type": "code",
   "execution_count": null,
   "id": "bb868045",
   "metadata": {},
   "outputs": [],
   "source": [
    "def getCatOverlap(inList): \n",
    "    inList = set(inList)\n",
    "    toKeep = set([\"Religion\", \"Spirituality\", \"Society\", \"Culture\", \"Sports\", \"Politics\"])\n",
    "    return len(inList.intersection(toKeep))"
   ]
  },
  {
   "cell_type": "code",
   "execution_count": null,
   "id": "eae5fdfd",
   "metadata": {},
   "outputs": [],
   "source": [
    "df = df.dropna(subset=[\"catsSplit\"])"
   ]
  },
  {
   "cell_type": "code",
   "execution_count": null,
   "id": "ee633da5",
   "metadata": {},
   "outputs": [],
   "source": [
    "df[\"catOverlap\"] = df[\"catsSplit\"].apply(getCatOverlap)"
   ]
  },
  {
   "cell_type": "code",
   "execution_count": null,
   "id": "23a888c8",
   "metadata": {},
   "outputs": [],
   "source": [
    "df[[\"categories\", \"catsSplit\", \"catOverlap\"]]"
   ]
  },
  {
   "cell_type": "code",
   "execution_count": null,
   "id": "a7d201f0",
   "metadata": {},
   "outputs": [],
   "source": [
    "#7,567,280 english podcast episodes fall in our categories \n",
    "len(df[df[\"catsSplit\"].apply(getCatOverlap) > 0]) * 20"
   ]
  },
  {
   "cell_type": "code",
   "execution_count": null,
   "id": "261119df",
   "metadata": {},
   "outputs": [],
   "source": [
    "leanDf = df.loc[df[\"catOverlap\"] > 0, [\"title\", 'date_format_same_final']]"
   ]
  },
  {
   "cell_type": "code",
   "execution_count": null,
   "id": "32a7d7d8",
   "metadata": {},
   "outputs": [],
   "source": [
    "leanDf = leanDf.groupby(\"title\").agg([min, max, len])"
   ]
  },
  {
   "cell_type": "code",
   "execution_count": null,
   "id": "b34c0623",
   "metadata": {},
   "outputs": [],
   "source": [
    "leanDf.columns = leanDf.columns.droplevel()"
   ]
  },
  {
   "cell_type": "code",
   "execution_count": 114,
   "id": "6602820e",
   "metadata": {},
   "outputs": [
    {
     "data": {
      "text/html": [
       "<div>\n",
       "<style scoped>\n",
       "    .dataframe tbody tr th:only-of-type {\n",
       "        vertical-align: middle;\n",
       "    }\n",
       "\n",
       "    .dataframe tbody tr th {\n",
       "        vertical-align: top;\n",
       "    }\n",
       "\n",
       "    .dataframe thead th {\n",
       "        text-align: right;\n",
       "    }\n",
       "</style>\n",
       "<table border=\"1\" class=\"dataframe\">\n",
       "  <thead>\n",
       "    <tr style=\"text-align: right;\">\n",
       "      <th></th>\n",
       "      <th>min</th>\n",
       "      <th>max</th>\n",
       "    </tr>\n",
       "    <tr>\n",
       "      <th>title</th>\n",
       "      <th></th>\n",
       "      <th></th>\n",
       "    </tr>\n",
       "  </thead>\n",
       "  <tbody>\n",
       "    <tr>\n",
       "      <th>!Love The LORD, FUCK The Church!</th>\n",
       "      <td>2023-05-04 21:00:59</td>\n",
       "      <td>2023-07-21 19:07:25</td>\n",
       "    </tr>\n",
       "    <tr>\n",
       "      <th>$100K Network: AFL</th>\n",
       "      <td>2022-06-24 09:03:44</td>\n",
       "      <td>2023-08-27 20:00:03</td>\n",
       "    </tr>\n",
       "    <tr>\n",
       "      <th>'Round the Cauldron</th>\n",
       "      <td>2019-06-24 07:00:00</td>\n",
       "      <td>2022-02-28 05:00:00</td>\n",
       "    </tr>\n",
       "    <tr>\n",
       "      <th>'Sader Stories</th>\n",
       "      <td>2020-12-18 02:17:42</td>\n",
       "      <td>2023-08-30 13:00:00</td>\n",
       "    </tr>\n",
       "    <tr>\n",
       "      <th>(Basic)ally Anxious</th>\n",
       "      <td>2021-11-15 15:00:00</td>\n",
       "      <td>2023-08-07 11:00:00</td>\n",
       "    </tr>\n",
       "    <tr>\n",
       "      <th>...</th>\n",
       "      <td>...</td>\n",
       "      <td>...</td>\n",
       "    </tr>\n",
       "    <tr>\n",
       "      <th>🎙FUEL YOUR SOUL[F.Y.S] W/ RED SABLE ❤</th>\n",
       "      <td>2018-06-24 21:05:39</td>\n",
       "      <td>2018-11-11 23:25:59</td>\n",
       "    </tr>\n",
       "    <tr>\n",
       "      <th>🎙TALES FROM THE PLAYA🎙</th>\n",
       "      <td>2022-12-03 03:54:31</td>\n",
       "      <td>2023-09-02 14:18:26</td>\n",
       "    </tr>\n",
       "    <tr>\n",
       "      <th>🎙️ Just2Us! 😄🎧</th>\n",
       "      <td>2022-08-05 14:00:00</td>\n",
       "      <td>2022-08-05 14:00:00</td>\n",
       "    </tr>\n",
       "    <tr>\n",
       "      <th>🏏Armchair Cricket Podcast 🎧</th>\n",
       "      <td>2019-01-26 23:25:19</td>\n",
       "      <td>2023-05-27 10:15:32</td>\n",
       "    </tr>\n",
       "    <tr>\n",
       "      <th>🐌 Slow the F Down Show 🐢</th>\n",
       "      <td>2021-12-08 06:00:00</td>\n",
       "      <td>2021-12-08 06:00:00</td>\n",
       "    </tr>\n",
       "  </tbody>\n",
       "</table>\n",
       "<p>46963 rows × 2 columns</p>\n",
       "</div>"
      ],
      "text/plain": [
       "                                                      min                 max\n",
       "title                                                                        \n",
       "!Love The LORD, FUCK The Church!      2023-05-04 21:00:59 2023-07-21 19:07:25\n",
       "$100K Network: AFL                    2022-06-24 09:03:44 2023-08-27 20:00:03\n",
       "'Round the Cauldron                   2019-06-24 07:00:00 2022-02-28 05:00:00\n",
       "'Sader Stories                        2020-12-18 02:17:42 2023-08-30 13:00:00\n",
       "(Basic)ally Anxious                   2021-11-15 15:00:00 2023-08-07 11:00:00\n",
       "...                                                   ...                 ...\n",
       "🎙FUEL YOUR SOUL[F.Y.S] W/ RED SABLE ❤ 2018-06-24 21:05:39 2018-11-11 23:25:59\n",
       "🎙TALES FROM THE PLAYA🎙                2022-12-03 03:54:31 2023-09-02 14:18:26\n",
       "🎙️ Just2Us! 😄🎧                        2022-08-05 14:00:00 2022-08-05 14:00:00\n",
       "🏏Armchair Cricket Podcast 🎧           2019-01-26 23:25:19 2023-05-27 10:15:32\n",
       "🐌 Slow the F Down Show 🐢              2021-12-08 06:00:00 2021-12-08 06:00:00\n",
       "\n",
       "[46963 rows x 2 columns]"
      ]
     },
     "execution_count": 114,
     "metadata": {},
     "output_type": "execute_result"
    }
   ],
   "source": [
    "leanDf"
   ]
  },
  {
   "cell_type": "code",
   "execution_count": 112,
   "id": "2d44eb14",
   "metadata": {},
   "outputs": [
    {
     "data": {
      "text/plain": [
       "939260"
      ]
     },
     "execution_count": 112,
     "metadata": {},
     "output_type": "execute_result"
    }
   ],
   "source": [
    "len(leanDf) * 20"
   ]
  },
  {
   "cell_type": "code",
   "execution_count": 110,
   "id": "7e5a936e",
   "metadata": {},
   "outputs": [
    {
     "data": {
      "text/plain": [
       "414760"
      ]
     },
     "execution_count": 110,
     "metadata": {},
     "output_type": "execute_result"
    }
   ],
   "source": [
    "#number before 2020: \n",
    "len(leanDf[leanDf[\"min\"].dt.year <= 2020]) * 20"
   ]
  },
  {
   "cell_type": "code",
   "execution_count": null,
   "id": "5ea849b3",
   "metadata": {},
   "outputs": [],
   "source": []
  }
 ],
 "metadata": {
  "kernelspec": {
   "display_name": "Python 3",
   "language": "python",
   "name": "python3"
  },
  "language_info": {
   "codemirror_mode": {
    "name": "ipython",
    "version": 3
   },
   "file_extension": ".py",
   "mimetype": "text/x-python",
   "name": "python",
   "nbconvert_exporter": "python",
   "pygments_lexer": "ipython3",
   "version": "3.8.5"
  }
 },
 "nbformat": 4,
 "nbformat_minor": 5
}
