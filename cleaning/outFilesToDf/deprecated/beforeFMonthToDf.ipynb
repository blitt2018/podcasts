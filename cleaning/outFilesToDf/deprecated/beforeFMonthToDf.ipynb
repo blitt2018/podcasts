{
 "cells": [
  {
   "cell_type": "code",
   "execution_count": 1,
   "id": "c1f469ea-be12-4060-b402-0c32acc3651a",
   "metadata": {},
   "outputs": [],
   "source": [
    "import pandas as pd\n",
    "import os\n",
    "from tqdm import tqdm\n",
    "from multiprocessing import Pool \n",
    "import numpy as np"
   ]
  },
  {
   "cell_type": "code",
   "execution_count": 13,
   "id": "6dcdc4ab-2977-4b26-83d5-5137659becc6",
   "metadata": {},
   "outputs": [],
   "source": [
    "OUT_STEM = \"/shared/3/projects/benlitterer/podcastData/intermediary/beforeFMonth/splitsFromParallel/fullTextSplit\""
   ]
  },
  {
   "cell_type": "code",
   "execution_count": 8,
   "id": "d3a32c8c-d123-439a-a539-5ec6646ff3d0",
   "metadata": {},
   "outputs": [],
   "source": [
    "df = pd.read_csv(\"/shared/3/projects/benlitterer/podcastData/processed/beforeFloydMonth/beforeFMonth.tsv\", nrows=100) "
   ]
  },
  {
   "cell_type": "code",
   "execution_count": 10,
   "id": "b4aa94de-586e-4213-8c7d-d6246326acf9",
   "metadata": {},
   "outputs": [],
   "source": [
    "df[\"potentialOutPathFull\"] = \"/shared/3/projects/benlitterer/podcastData/prosodyMerged/beforeFMonth\" + df[\"potentialOutPath\"] \n",
    "df[\"exists\"] = df[\"potentialOutPathFull\"].apply(lambda x: os.path.exists(x)) \n",
    "df = df[df[\"exists\"] == True]"
   ]
  },
  {
   "cell_type": "code",
   "execution_count": 12,
   "id": "7b8baf13-02e0-49d0-b8f8-fb8439eaf654",
   "metadata": {},
   "outputs": [],
   "source": [
    "dfList = np.array_split(df, 12)"
   ]
  },
  {
   "cell_type": "code",
   "execution_count": 14,
   "id": "3d2a3f66-2225-461d-8ede-7126c80add47",
   "metadata": {},
   "outputs": [],
   "source": [
    "def outputDataFile(i): \n",
    "    currDf = dfList[i]\n",
    "    OUT_PATH = f\"{OUT_STEM}{i}.tsv\"\n",
    "    with open(OUT_PATH, \"w\") as outFile: \n",
    "        for path in tqdm(currDf[\"potentialOutPathFull\"]): \n",
    "            with open(path) as currFile: \n",
    "                fullText =  \"\".join([row.split(\",\")[4] for row in currFile.readlines()])\n",
    "                firstBit = fullText.replace(\"\\t\", \"\").replace(\"\\n\", \"\") \n",
    "                outFile.write(f\"{path}\\t{firstBit}\\n\")"
   ]
  },
  {
   "cell_type": "code",
   "execution_count": 15,
   "id": "39cd386d-93e7-496e-9050-bb769f0560e0",
   "metadata": {},
   "outputs": [
    {
     "name": "stderr",
     "output_type": "stream",
     "text": [
      "100%|███████████████████████████████████████████████████████████████████████████████████████████████████████████████| 8/8 [00:00<00:00, 40.00it/s]\n",
      "100%|███████████████████████████████████████████████████████████████████████████████████████████████████████████████| 8/8 [00:00<00:00, 22.22it/s]\n",
      "100%|███████████████████████████████████████████████████████████████████████████████████████████████████████████████| 8/8 [00:00<00:00, 21.70it/s]\n",
      "100%|███████████████████████████████████████████████████████████████████████████████████████████████████████████████| 8/8 [00:00<00:00, 19.25it/s]\n",
      "100%|███████████████████████████████████████████████████████████████████████████████████████████████████████████████| 8/8 [00:00<00:00, 18.33it/s]\n",
      "100%|███████████████████████████████████████████████████████████████████████████████████████████████████████████████| 8/8 [00:00<00:00, 17.79it/s]\n",
      "100%|███████████████████████████████████████████████████████████████████████████████████████████████████████████████| 8/8 [00:00<00:00, 13.56it/s]\n",
      "100%|███████████████████████████████████████████████████████████████████████████████████████████████████████████████| 7/7 [00:00<00:00, 11.17it/s]\n",
      "100%|███████████████████████████████████████████████████████████████████████████████████████████████████████████████| 8/8 [00:00<00:00, 10.80it/s]\n",
      "100%|███████████████████████████████████████████████████████████████████████████████████████████████████████████████| 8/8 [00:00<00:00,  9.25it/s]\n",
      "100%|███████████████████████████████████████████████████████████████████████████████████████████████████████████████| 8/8 [00:00<00:00,  9.35it/s]\n",
      "100%|███████████████████████████████████████████████████████████████████████████████████████████████████████████████| 8/8 [00:00<00:00,  8.22it/s]\n"
     ]
    },
    {
     "data": {
      "text/plain": [
       "[None, None, None, None, None, None, None, None, None, None, None, None]"
      ]
     },
     "execution_count": 15,
     "metadata": {},
     "output_type": "execute_result"
    }
   ],
   "source": [
    "pool = Pool(processes=12)\n",
    "pool.map(outputDataFile, list(range(12)))"
   ]
  },
  {
   "cell_type": "code",
   "execution_count": 53,
   "id": "3538df41-ba65-4a9b-be2a-7a356dc0713b",
   "metadata": {},
   "outputs": [],
   "source": [
    "catDf = pd.read_csv(\"/shared/3/projects/benlitterer/podcastData/NER/tempFloydIntroductions/floydIntroductions.tsv\", sep=\"\\t\", names=[\"outPath\", \"content\"]) "
   ]
  },
  {
   "cell_type": "code",
   "execution_count": null,
   "id": "89b3f223-ddbb-48a4-9749-c26429178dba",
   "metadata": {},
   "outputs": [],
   "source": []
  }
 ],
 "metadata": {
  "kernelspec": {
   "display_name": "Python 3 (ipykernel)",
   "language": "python",
   "name": "python3"
  },
  "language_info": {
   "codemirror_mode": {
    "name": "ipython",
    "version": 3
   },
   "file_extension": ".py",
   "mimetype": "text/x-python",
   "name": "python",
   "nbconvert_exporter": "python",
   "pygments_lexer": "ipython3",
   "version": "3.11.5"
  }
 },
 "nbformat": 4,
 "nbformat_minor": 5
}
