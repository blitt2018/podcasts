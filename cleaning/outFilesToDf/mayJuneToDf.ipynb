{
 "cells": [
  {
   "cell_type": "code",
   "execution_count": 2,
   "metadata": {},
   "outputs": [],
   "source": [
    "\n",
    "import pandas as pd\n",
    "import os\n",
    "from tqdm import tqdm\n",
    "from multiprocessing import Pool \n",
    "import numpy as np\n"
   ]
  },
  {
   "cell_type": "code",
   "execution_count": 3,
   "metadata": {},
   "outputs": [],
   "source": [
    "\n",
    "OUT_STEM = \"/shared/3/projects/benlitterer/podcastData/intermediary/beforeFMonth/splitsFromParallel/fullTextSplit\"\n",
    "OUT_STEM = \"/shared/3/projects/benlitterer/podcastData/intermediary/practice/transcriptFile\""
   ]
  },
  {
   "cell_type": "code",
   "execution_count": 7,
   "metadata": {},
   "outputs": [],
   "source": [
    "df = pd.read_json(\"/shared/3/projects/benlitterer/podcastData/processed/mayJune/mayJuneMetadata.jsonl\", orient=\"records\", lines=True)"
   ]
  },
  {
   "cell_type": "code",
   "execution_count": 8,
   "metadata": {},
   "outputs": [
    {
     "name": "stdout",
     "output_type": "stream",
     "text": [
      "(1584643, 57)\n"
     ]
    }
   ],
   "source": [
    "print(df.shape)"
   ]
  },
  {
   "cell_type": "code",
   "execution_count": 9,
   "metadata": {},
   "outputs": [],
   "source": [
    "def fileExists(fPath): \n",
    "    STEM_2 = \"/shared/3/projects/benlitterer/podcastData/prosodyMerged/5_4_5_10\"\n",
    "    STEM_3 = \"/shared/3/projects/benlitterer/podcastData/prosodyMerged/6_9_6_15\"\n",
    "    STEM_4 = \"/shared/3/projects/benlitterer/podcastData/prosodyMerged/mayJuneRemaining\"\n",
    "    STEM_5 = \"/shared/3/projects/benlitterer/podcastData/prosodyMerged/floydMonth\"\n",
    "    stemList = [STEM_1, STEM_2, STEM_3, STEM_4]\n",
    "    for stem in stemList: \n",
    "        potPath = stem + fPath\n",
    "        if os.path.exists(potPath): \n",
    "            return potPath \n",
    "    return \"\" \n",
    "\n",
    "df[\"fullPotPath\"] = df[\"potentialOutPath\"].apply(fileExists)\n",
    "df = df[df[\"fullPotPath\"] != \"\"]"
   ]
  },
  {
   "cell_type": "code",
   "execution_count": 14,
   "metadata": {},
   "outputs": [
    {
     "name": "stdout",
     "output_type": "stream",
     "text": [
      "/shared/3/projects/benlitterer/podcastData/prosodyMerged/mayJuneRemaining/anchor.fm/2t/httpsanchor.fms8a5f50cpodcastplay15760713https3A2F2Fd3ctxlq1ktw2nl.cloudfront.net2Fproduction2F20205262F85583180441002a6b91bfc214c1.mp3MERGED\n",
      "/shared/3/projects/benlitterer/podcastData/prosodyMerged/beforeFMonth/awscdn.podcasts.com/9i/httpawscdn.podcasts.com9Einstein22cb9.mp3MERGED\n",
      "/shared/3/projects/benlitterer/podcastData/prosodyMerged/mayJuneRemaining/traffic.libsyn.com/e9/httpstraffic.libsyn.comsecure9b3e7e4eff0f497c94e4827e5379224b33999.mp3destid3753240MERGED\n",
      "/shared/3/projects/benlitterer/podcastData/prosodyMerged/5_4_5_10/anchor.fm/23/httpsanchor.fms13a72890podcastplay13518993https3A2F2Fd3ctxlq1ktw2nl.cloudfront.net2Fproduction2F2020492F716386664410026320d804277fb.mp3MERGED\n",
      "/shared/3/projects/benlitterer/podcastData/prosodyMerged/6_9_6_15/traffic.libsyn.com/e_/httpstraffic.libsyn.comsecurehssbmThree_Levels_of_Prayers__Part_1.mp3destid2102864MERGED\n",
      "/shared/3/projects/benlitterer/podcastData/prosodyMerged/beforeFMonth/www.buzzsprout.com/90/httpswww.buzzsprout.com105097935969202winthemorning.mp3MERGED\n",
      "/shared/3/projects/benlitterer/podcastData/prosodyMerged/beforeFMonth/media.blubrry.com/se/httpsmedia.blubrry.commessyjesusbusinesscontent.blubrry.commessyjesusbusinessSeeing_Jesus_in_the_Poor_and_the_Bread_MJB_Season1_Episode_1_.mp3MERGED\n",
      "/shared/3/projects/benlitterer/podcastData/prosodyMerged/beforeFMonth/anchor.fm/2t/httpsanchor.fms1fdafd58podcastplay13402290https3A2F2Fd3ctxlq1ktw2nl.cloudfront.net2Fstaging2F202012172F0052e4abd4863888324de043018827a4.m4aMERGED\n",
      "/shared/3/projects/benlitterer/podcastData/prosodyMerged/6_9_6_15/anchor.fm/2t/httpsanchor.fmsbb9a2cpodcastplay14962293https3A2F2Fd3ctxlq1ktw2nl.cloudfront.net2Fstaging2F202006092Ff9650b7c69d86e7055602832d0de98db.m4aMERGED\n",
      "/shared/3/projects/benlitterer/podcastData/prosodyMerged/6_9_6_15/traffic.libsyn.com/o_/httpstraffic.libsyn.comsecurethenocomfortzone271_Know_What_you_want_and_Why.mp3destid1367162MERGED\n"
     ]
    }
   ],
   "source": [
    "for item in df.sample(10)[\"fullPotPath\"]: \n",
    "    print(item)"
   ]
  },
  {
   "cell_type": "code",
   "execution_count": 16,
   "metadata": {},
   "outputs": [
    {
     "name": "stderr",
     "output_type": "stream",
     "text": [
      "/opt/anaconda/lib/python3.11/site-packages/numpy/core/fromnumeric.py:59: FutureWarning: 'DataFrame.swapaxes' is deprecated and will be removed in a future version. Please use 'DataFrame.transpose' instead.\n",
      "  return bound(*args, **kwds)\n"
     ]
    }
   ],
   "source": [
    "potPathDf = df[[\"fullPotPath\"]]\n",
    "dfList = np.array_split(potPathDf, 12)"
   ]
  },
  {
   "cell_type": "code",
   "execution_count": null,
   "metadata": {},
   "outputs": [],
   "source": []
  },
  {
   "cell_type": "code",
   "execution_count": 27,
   "metadata": {},
   "outputs": [],
   "source": [
    "def outputDataFile(i): \n",
    "    currDf = dfList[i]\n",
    "    OUT_PATH = f\"{OUT_STEM}{i}.tsv\"\n",
    "    with open(OUT_PATH, \"w\") as outFile: \n",
    "        if i == 0: \n",
    "            for path in tqdm(currDf[\"fullPotPath\"]): \n",
    "                with open(path) as currFile: \n",
    "                    fullText =  \"\".join([row.split(\",\")[4] for row in currFile.readlines()])\n",
    "\n",
    "                    #remove tabs and all types of newlines \n",
    "                    fullText = fullText.replace(\"\\t\", \"\")\n",
    "                    fullText = \" \".join(fullText.splitlines())\n",
    "                    \n",
    "                    outFile.write(f\"{path}\\t{fullText}\\n\")\n",
    "        else: \n",
    "            for path in currDf[\"fullPotPath\"]: \n",
    "                with open(path) as currFile: \n",
    "                    fullText =  \"\".join([row.split(\",\")[4] for row in currFile.readlines()])\n",
    "\n",
    "                    #remove tabs and all types of newlines \n",
    "                    fullText = fullText.replace(\"\\t\", \"\")\n",
    "                    fullText = \" \".join(fullText.splitlines())\n",
    "                    \n",
    "                    outFile.write(f\"{path}\\t{fullText}\\n\")\n",
    "\n"
   ]
  },
  {
   "cell_type": "code",
   "execution_count": 28,
   "metadata": {},
   "outputs": [
    {
     "name": "stderr",
     "output_type": "stream",
     "text": [
      "100%|███████████████████████████████████████████████████████████████████████████████████████████████████████████████████████████████████████████████████| 343/343 [00:15<00:00, 21.67it/s]\n"
     ]
    },
    {
     "data": {
      "text/plain": [
       "[None, None, None, None, None, None, None, None, None, None, None, None]"
      ]
     },
     "execution_count": 28,
     "metadata": {},
     "output_type": "execute_result"
    }
   ],
   "source": [
    "pool = Pool(processes=12)\n",
    "pool.map(outputDataFile, list(range(12)))"
   ]
  },
  {
   "cell_type": "code",
   "execution_count": 26,
   "metadata": {},
   "outputs": [
    {
     "data": {
      "text/plain": [
       "(4111, 58)"
      ]
     },
     "execution_count": 26,
     "metadata": {},
     "output_type": "execute_result"
    }
   ],
   "source": [
    "df.shape"
   ]
  },
  {
   "cell_type": "code",
   "execution_count": null,
   "metadata": {},
   "outputs": [],
   "source": []
  }
 ],
 "metadata": {
  "kernelspec": {
   "display_name": "Python 3 (ipykernel)",
   "language": "python",
   "name": "python3"
  },
  "language_info": {
   "codemirror_mode": {
    "name": "ipython",
    "version": 3
   },
   "file_extension": ".py",
   "mimetype": "text/x-python",
   "name": "python",
   "nbconvert_exporter": "python",
   "pygments_lexer": "ipython3",
   "version": "3.11.5"
  }
 },
 "nbformat": 4,
 "nbformat_minor": 2
}
