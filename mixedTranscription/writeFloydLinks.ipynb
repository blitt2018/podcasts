{
 "cells": [
  {
   "cell_type": "code",
   "execution_count": 89,
   "metadata": {},
   "outputs": [],
   "source": [
    "import pandas as pd\n",
    "import numpy as np\n",
    "import re\n",
    "import matplotlib.pyplot as plt"
   ]
  },
  {
   "cell_type": "code",
   "execution_count": 39,
   "metadata": {},
   "outputs": [
    {
     "name": "stderr",
     "output_type": "stream",
     "text": [
      "<ipython-input-39-6fe8a334f350>:3: DtypeWarning: Columns (6,7,8,12,20,49) have mixed types. Specify dtype option on import or set low_memory=False.\n",
      "  df = pd.read_csv(IN_FILE, lineterminator=\"\\n\")\n"
     ]
    }
   ],
   "source": [
    "#read in file and write only the urls to output \n",
    "IN_FILE = \"/shared/3/projects/benlitterer/podcastData/processed/floydMonth/floydMonthEn.csv\"\n",
    "df = pd.read_csv(IN_FILE, lineterminator=\"\\n\")"
   ]
  },
  {
   "cell_type": "code",
   "execution_count": 40,
   "metadata": {},
   "outputs": [],
   "source": [
    "df = df.dropna(subset=[\"enclosure\"])"
   ]
  },
  {
   "cell_type": "code",
   "execution_count": 92,
   "metadata": {},
   "outputs": [],
   "source": [
    "def parseDurations(inDuration): \n",
    "    #if na value, just return na value \n",
    "    if inDuration != inDuration: \n",
    "        return inDuration \n",
    "    \n",
    "    inDuration = str(inDuration)\n",
    "    inDuration = re.sub(\"[A-z]\", \"\", inDuration)\n",
    "    colonCount = inDuration.count(\":\")\n",
    "    \n",
    "    try: \n",
    "        \n",
    "        #parse different strings into number of seconds \n",
    "        if colonCount == 0: \n",
    "            return int(inDuration)\n",
    "\n",
    "        elif colonCount == 1: \n",
    "            mins, seconds = [int(item) for item in inDuration.split(\":\")]\n",
    "            return (60*mins) + seconds \n",
    "\n",
    "        elif colonCount == 2: \n",
    "            hours, mins, seconds = [int(item) for item in inDuration.split(\":\")]\n",
    "            return (hours*60*60) + (mins*60) + seconds\n",
    "        else: \n",
    "            return np.nan\n",
    "    except: \n",
    "        return np.nan"
   ]
  },
  {
   "cell_type": "code",
   "execution_count": 79,
   "metadata": {},
   "outputs": [],
   "source": [
    "#df[\"duration\"].apply(parseDurations)\n",
    "#df.dropna(subset=[\"duration\"]).loc[df.dropna(subset=[\"duration\"])[\"duration\"].str.contains(\"mins\"), \"duration\"]"
   ]
  },
  {
   "cell_type": "code",
   "execution_count": 93,
   "metadata": {},
   "outputs": [],
   "source": [
    "df[\"parsedDurations\"] = df[\"duration\"].apply(parseDurations)"
   ]
  },
  {
   "cell_type": "code",
   "execution_count": 94,
   "metadata": {},
   "outputs": [
    {
     "data": {
      "text/plain": [
       "17718"
      ]
     },
     "execution_count": 94,
     "metadata": {},
     "output_type": "execute_result"
    }
   ],
   "source": [
    "sum(df[\"parsedDurations\"].isnull())"
   ]
  },
  {
   "cell_type": "code",
   "execution_count": 100,
   "metadata": {},
   "outputs": [
    {
     "data": {
      "text/html": [
       "<div>\n",
       "<style scoped>\n",
       "    .dataframe tbody tr th:only-of-type {\n",
       "        vertical-align: middle;\n",
       "    }\n",
       "\n",
       "    .dataframe tbody tr th {\n",
       "        vertical-align: top;\n",
       "    }\n",
       "\n",
       "    .dataframe thead th {\n",
       "        text-align: right;\n",
       "    }\n",
       "</style>\n",
       "<table border=\"1\" class=\"dataframe\">\n",
       "  <thead>\n",
       "    <tr style=\"text-align: right;\">\n",
       "      <th></th>\n",
       "      <th>parsedDurations</th>\n",
       "      <th>duration</th>\n",
       "    </tr>\n",
       "  </thead>\n",
       "  <tbody>\n",
       "    <tr>\n",
       "      <th>56875</th>\n",
       "      <td>155.0</td>\n",
       "      <td>00:02:35</td>\n",
       "    </tr>\n",
       "    <tr>\n",
       "      <th>469030</th>\n",
       "      <td>205.0</td>\n",
       "      <td>205</td>\n",
       "    </tr>\n",
       "    <tr>\n",
       "      <th>40419</th>\n",
       "      <td>2112.0</td>\n",
       "      <td>35:12</td>\n",
       "    </tr>\n",
       "    <tr>\n",
       "      <th>295725</th>\n",
       "      <td>681.0</td>\n",
       "      <td>00:11:21</td>\n",
       "    </tr>\n",
       "    <tr>\n",
       "      <th>449097</th>\n",
       "      <td>2592.0</td>\n",
       "      <td>2592</td>\n",
       "    </tr>\n",
       "    <tr>\n",
       "      <th>317689</th>\n",
       "      <td>2669.0</td>\n",
       "      <td>2669</td>\n",
       "    </tr>\n",
       "    <tr>\n",
       "      <th>378519</th>\n",
       "      <td>93.0</td>\n",
       "      <td>00:01:33</td>\n",
       "    </tr>\n",
       "    <tr>\n",
       "      <th>514877</th>\n",
       "      <td>3732.0</td>\n",
       "      <td>3732</td>\n",
       "    </tr>\n",
       "    <tr>\n",
       "      <th>406897</th>\n",
       "      <td>1094.0</td>\n",
       "      <td>1094</td>\n",
       "    </tr>\n",
       "    <tr>\n",
       "      <th>613632</th>\n",
       "      <td>3154.0</td>\n",
       "      <td>00:52:34</td>\n",
       "    </tr>\n",
       "  </tbody>\n",
       "</table>\n",
       "</div>"
      ],
      "text/plain": [
       "        parsedDurations  duration\n",
       "56875             155.0  00:02:35\n",
       "469030            205.0       205\n",
       "40419            2112.0     35:12\n",
       "295725            681.0  00:11:21\n",
       "449097           2592.0      2592\n",
       "317689           2669.0      2669\n",
       "378519             93.0  00:01:33\n",
       "514877           3732.0      3732\n",
       "406897           1094.0      1094\n",
       "613632           3154.0  00:52:34"
      ]
     },
     "execution_count": 100,
     "metadata": {},
     "output_type": "execute_result"
    }
   ],
   "source": [
    "df[[\"parsedDurations\", \"duration\"]].sample(10)"
   ]
  },
  {
   "cell_type": "code",
   "execution_count": 115,
   "metadata": {},
   "outputs": [
    {
     "data": {
      "text/plain": [
       "Text(0, 0.5, '# of podcasts')"
      ]
     },
     "execution_count": 115,
     "metadata": {},
     "output_type": "execute_result"
    },
    {
     "data": {
      "image/png": "[encoded data removed]",
      "text/plain": [
       "<Figure size 432x288 with 1 Axes>"
      ]
     },
     "metadata": {
      "needs_background": "light"
     },
     "output_type": "display_data"
    }
   ],
   "source": [
    "durations = df.dropna(subset=[\"parsedDurations\"])\n",
    "durations = durations[durations[\"parsedDurations\"] / 60 < 240]\n",
    "\n",
    "plt.hist(durations[\"parsedDurations\"] / 60 / 60)\n",
    "plt.xlim(0, 3)\n",
    "plt.title(\"distribution of podcast durations\")\n",
    "plt.xlabel(\"time in hours\")\n",
    "plt.ylabel(\"# of podcasts\")"
   ]
  },
  {
   "cell_type": "code",
   "execution_count": null,
   "metadata": {},
   "outputs": [],
   "source": []
  },
  {
   "cell_type": "code",
   "execution_count": 118,
   "metadata": {},
   "outputs": [
    {
     "data": {
      "text/plain": [
       "Index(['Unnamed: 0', 'rssUrl', 'epTitle', 'epDescription', 'duration',\n",
       "       'pubDate', 'copyright', 'itunes:type', 'itunes:complete', 'guid',\n",
       "       'itunes:explicit', 'enclosure', 'itunes:image', 'transDict', 'id',\n",
       "       'title', 'lastUpdate', 'link', 'lastHttpStatus', 'dead', 'contentType',\n",
       "       'itunesId', 'originalUrl', 'itunesAuthor', 'itunesOwnerName',\n",
       "       'explicit', 'imageUrl', 'itunesType', 'generator', 'newestItemPubdate',\n",
       "       'language', 'oldestItemPubdate', 'episodeCount', 'popularityScore',\n",
       "       'priority', 'createdOn', 'updateFrequency', 'chash', 'host',\n",
       "       'newestEnclosureUrl', 'podcastGuid', 'podDescription', 'category1',\n",
       "       'category2', 'category3', 'category4', 'category5', 'category6',\n",
       "       'category7', 'category8', 'category9', 'category10',\n",
       "       'newestEnclosureDuration', 'oldestItemDatetime', 'cleanDates',\n",
       "       'cleanDatesLoc', 'parsedDuration', 'parsedDurations'],\n",
       "      dtype='object')"
      ]
     },
     "execution_count": 118,
     "metadata": {},
     "output_type": "execute_result"
    }
   ],
   "source": [
    "df.columns"
   ]
  },
  {
   "cell_type": "code",
   "execution_count": 125,
   "metadata": {},
   "outputs": [],
   "source": [
    "df.sort_values(\"parsedDurations\")[[\"enclosure\", \"title\",\"epTitle\", \"pubDate\", \"cleanDatesLoc\", \"cleanDates\", \"parsedDurations\"]]\n",
    "df = df.sort_values(\"parsedDurations\")"
   ]
  },
  {
   "cell_type": "code",
   "execution_count": 132,
   "metadata": {},
   "outputs": [
    {
     "data": {
      "text/html": [
       "<div>\n",
       "<style scoped>\n",
       "    .dataframe tbody tr th:only-of-type {\n",
       "        vertical-align: middle;\n",
       "    }\n",
       "\n",
       "    .dataframe tbody tr th {\n",
       "        vertical-align: top;\n",
       "    }\n",
       "\n",
       "    .dataframe thead th {\n",
       "        text-align: right;\n",
       "    }\n",
       "</style>\n",
       "<table border=\"1\" class=\"dataframe\">\n",
       "  <thead>\n",
       "    <tr style=\"text-align: right;\">\n",
       "      <th></th>\n",
       "      <th>duration</th>\n",
       "      <th>parsedDurations</th>\n",
       "      <th>enclosure</th>\n",
       "    </tr>\n",
       "  </thead>\n",
       "  <tbody>\n",
       "    <tr>\n",
       "      <th>48143</th>\n",
       "      <td>0:00</td>\n",
       "      <td>0.0</td>\n",
       "      <td>https://dts.podtrac.com/redirect.mp3/dts.podtr...</td>\n",
       "    </tr>\n",
       "    <tr>\n",
       "      <th>683249</th>\n",
       "      <td>00:00</td>\n",
       "      <td>0.0</td>\n",
       "      <td>http://www.jonesroadchurch.org/media/uploads/s...</td>\n",
       "    </tr>\n",
       "    <tr>\n",
       "      <th>683248</th>\n",
       "      <td>00:00</td>\n",
       "      <td>0.0</td>\n",
       "      <td>http://www.jonesroadchurch.org/media/uploads/s...</td>\n",
       "    </tr>\n",
       "    <tr>\n",
       "      <th>688220</th>\n",
       "      <td>0</td>\n",
       "      <td>0.0</td>\n",
       "      <td>https://s3.castbox.fm/.static/rss/10259/271014109</td>\n",
       "    </tr>\n",
       "    <tr>\n",
       "      <th>43037</th>\n",
       "      <td>0:00</td>\n",
       "      <td>0.0</td>\n",
       "      <td>https://chtbl.com/track/3712E/torahcleveland.c...</td>\n",
       "    </tr>\n",
       "  </tbody>\n",
       "</table>\n",
       "</div>"
      ],
      "text/plain": [
       "       duration  parsedDurations  \\\n",
       "48143      0:00              0.0   \n",
       "683249    00:00              0.0   \n",
       "683248    00:00              0.0   \n",
       "688220        0              0.0   \n",
       "43037      0:00              0.0   \n",
       "\n",
       "                                                enclosure  \n",
       "48143   https://dts.podtrac.com/redirect.mp3/dts.podtr...  \n",
       "683249  http://www.jonesroadchurch.org/media/uploads/s...  \n",
       "683248  http://www.jonesroadchurch.org/media/uploads/s...  \n",
       "688220  https://s3.castbox.fm/.static/rss/10259/271014109  \n",
       "43037   https://chtbl.com/track/3712E/torahcleveland.c...  "
      ]
     },
     "execution_count": 132,
     "metadata": {},
     "output_type": "execute_result"
    }
   ],
   "source": [
    "df[[\"duration\", \"parsedDurations\", \"enclosure\"]].head()"
   ]
  },
  {
   "cell_type": "code",
   "execution_count": 124,
   "metadata": {},
   "outputs": [
    {
     "data": {
      "text/plain": [
       "30"
      ]
     },
     "execution_count": 124,
     "metadata": {},
     "output_type": "execute_result"
    }
   ],
   "source": [
    "#for some reason we have all of these numbers... \n",
    "#only a small fraction though \n",
    "len(df.loc[(df[\"enclosure\"].str.contains(\"https\") == False) & (df[\"enclosure\"].str.contains(\"http\") == False), \"enclosure\"])"
   ]
  },
  {
   "cell_type": "code",
   "execution_count": 126,
   "metadata": {},
   "outputs": [],
   "source": [
    "#get only the urls \n",
    "df = df[(df[\"enclosure\"].str.contains(\"https\")) | (df[\"enclosure\"].str.contains(\"http\"))]"
   ]
  },
  {
   "cell_type": "code",
   "execution_count": 127,
   "metadata": {},
   "outputs": [
    {
     "data": {
      "text/plain": [
       "(787223, 58)"
      ]
     },
     "execution_count": 127,
     "metadata": {},
     "output_type": "execute_result"
    }
   ],
   "source": [
    "df.shape"
   ]
  },
  {
   "cell_type": "code",
   "execution_count": 128,
   "metadata": {},
   "outputs": [],
   "source": [
    "outStr = \"\\n\".join(list(df[\"enclosure\"]))"
   ]
  },
  {
   "cell_type": "code",
   "execution_count": 130,
   "metadata": {},
   "outputs": [],
   "source": [
    "OUTFILE = \"/shared/3/projects/benlitterer/podcastData/mp3s/links/floydMonth/floydMonthLinks.txt\" \n",
    "with open(OUTFILE, \"w\") as outHandle: \n",
    "    outHandle.write(outStr)"
   ]
  },
  {
   "cell_type": "code",
   "execution_count": null,
   "metadata": {},
   "outputs": [],
   "source": []
  }
 ],
 "metadata": {
  "kernelspec": {
   "display_name": "Python 3",
   "language": "python",
   "name": "python3"
  },
  "language_info": {
   "codemirror_mode": {
    "name": "ipython",
    "version": 3
   },
   "file_extension": ".py",
   "mimetype": "text/x-python",
   "name": "python",
   "nbconvert_exporter": "python",
   "pygments_lexer": "ipython3",
   "version": "3.9.12"
  }
 },
 "nbformat": 4,
 "nbformat_minor": 4
}
