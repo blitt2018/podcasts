{
 "cells": [
  {
   "cell_type": "code",
   "execution_count": 1,
   "id": "6dc11ee6-0c1a-44f9-8db4-8b22e867d1e6",
   "metadata": {},
   "outputs": [],
   "source": [
    "import sys"
   ]
  },
  {
   "cell_type": "code",
   "execution_count": 2,
   "id": "bc2e0210-e692-4c95-b4e0-39b373cd7048",
   "metadata": {},
   "outputs": [],
   "source": [
    "allUrlsPath = \"/gpfs/accounts/jurgens_root/jurgens0/blitt/podcasts/links/premadeTransLinks10.txt\" \n",
    "finishedUrlsPath = \"/gpfs/accounts/jurgens_root/jurgens0/blitt/podcasts/diarization/finished/finishedTest.txt\" "
   ]
  },
  {
   "cell_type": "code",
   "execution_count": 4,
   "id": "0c3a5a70-0f56-4241-9c85-9bd186cca1c5",
   "metadata": {},
   "outputs": [
    {
     "name": "stdout",
     "output_type": "stream",
     "text": [
      "https://audio1.redcircle.com/episodes/4d002f6d-809c-424c-8c1c-e81eede7c608/stream.mp3\n",
      "\n"
     ]
    }
   ],
   "source": [
    "with open(finishedUrlsPath) as finishedUrlsFile: \n",
    "    finishedUrls = set(finishedUrlsFile.readlines()) \n",
    "\n",
    "with open(allUrlsPath) as allUrlsFile: \n",
    "    for line in allUrlsFile.readlines(): \n",
    "        url = line \n",
    "        if url not in finishedUrls: \n",
    "            print(url)\n",
    "            break"
   ]
  },
  {
   "cell_type": "code",
   "execution_count": null,
   "id": "cdfa2852-4c6d-4ee4-b2d5-8f8a659a8a43",
   "metadata": {},
   "outputs": [],
   "source": []
  }
 ],
 "metadata": {
  "kernelspec": {
   "display_name": "transcribePodcasts",
   "language": "python",
   "name": "transcribepodcasts"
  },
  "language_info": {
   "codemirror_mode": {
    "name": "ipython",
    "version": 3
   },
   "file_extension": ".py",
   "mimetype": "text/x-python",
   "name": "python",
   "nbconvert_exporter": "python",
   "pygments_lexer": "ipython3",
   "version": "3.9.7"
  }
 },
 "nbformat": 4,
 "nbformat_minor": 5
}
