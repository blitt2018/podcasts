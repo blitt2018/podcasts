{
 "cells": [
  {
   "cell_type": "code",
   "execution_count": 21,
   "id": "bd32608c",
   "metadata": {},
   "outputs": [],
   "source": [
    "import sys\n",
    "from urllib.parse import urlparse \n",
    "import re\n",
    "from collections import Counter"
   ]
  },
  {
   "cell_type": "code",
   "execution_count": 12,
   "id": "53c240ae",
   "metadata": {},
   "outputs": [],
   "source": [
    "#inPath = sys.argv[0]\n",
    "inPath = \"https://audio3.redcircle.com/episodes/81ed922b-1731-4112-b037-5916ccc68011/stream.mp3\"\n",
    "\n",
    "host = urlparse(inPath).netloc\n",
    "\n",
    "#remove anything that isn't a letter, number, or . \n",
    "host = re.sub(\"[^\\w\\d.]\",\"\", host)\n"
   ]
  },
  {
   "cell_type": "code",
   "execution_count": 49,
   "id": "ec2abf90",
   "metadata": {},
   "outputs": [],
   "source": [
    "#get the first few chars of the path \n",
    "path = urlparse(inPath).path\n",
    "path = re.sub(\"[^\\w]\",\"\", path)\n",
    "\n"
   ]
  },
  {
   "cell_type": "code",
   "execution_count": 50,
   "id": "986838b0",
   "metadata": {},
   "outputs": [],
   "source": [
    "counted = dict(Counter(path))"
   ]
  },
  {
   "cell_type": "code",
   "execution_count": 55,
   "id": "d1d9253f",
   "metadata": {},
   "outputs": [],
   "source": [
    "sortedLetters = sorted(list(counted.keys()), key=lambda x: counted[x], reverse=True)\n",
    "\n",
    "outStr = \"\"\n",
    "length = 3\n",
    "while len(outStr) == 0 and length > 0: \n",
    "    if len(sortedLetters) >= length: \n",
    "        outStr = \"\".join(sortedLetters[:length])\n",
    "    length = length - 1"
   ]
  },
  {
   "cell_type": "code",
   "execution_count": 58,
   "id": "c1a485ee",
   "metadata": {},
   "outputs": [
    {
     "name": "stdout",
     "output_type": "stream",
     "text": [
      "audio3.redcircle.com/1es\n"
     ]
    }
   ],
   "source": [
    "print(host + \"/\" + outStr)"
   ]
  },
  {
   "cell_type": "code",
   "execution_count": null,
   "id": "737fe6d0",
   "metadata": {},
   "outputs": [],
   "source": []
  }
 ],
 "metadata": {
  "kernelspec": {
   "display_name": "Python 3",
   "language": "python",
   "name": "python3"
  },
  "language_info": {
   "codemirror_mode": {
    "name": "ipython",
    "version": 3
   },
   "file_extension": ".py",
   "mimetype": "text/x-python",
   "name": "python",
   "nbconvert_exporter": "python",
   "pygments_lexer": "ipython3",
   "version": "3.8.5"
  }
 },
 "nbformat": 4,
 "nbformat_minor": 5
}
