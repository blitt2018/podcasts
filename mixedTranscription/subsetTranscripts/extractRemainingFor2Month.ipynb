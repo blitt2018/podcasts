{
 "cells": [
  {
   "cell_type": "code",
   "execution_count": 188,
   "id": "0e9ac44e-324e-423f-91a7-52bba6399e35",
   "metadata": {},
   "outputs": [],
   "source": [
    "import pandas as pd \n",
    "import csv\n",
    "from datetime import datetime"
   ]
  },
  {
   "cell_type": "code",
   "execution_count": 189,
   "id": "64103e57-6d72-4958-bb73-f18194fa26f4",
   "metadata": {},
   "outputs": [],
   "source": [
    "df = pd.read_json(\"/shared/3/projects/benlitterer/podcastData/processed/mayJune/mayJuneMetadata.jsonl\", orient=\"records\", lines=True)"
   ]
  },
  {
   "cell_type": "code",
   "execution_count": 190,
   "id": "008d9531",
   "metadata": {},
   "outputs": [],
   "source": [
    "df[\"cleanDatesLoc\"] = pd.to_datetime(df[\"cleanDatesLoc\"], unit=\"ms\")"
   ]
  },
  {
   "cell_type": "code",
   "execution_count": 191,
   "id": "b786a79b",
   "metadata": {},
   "outputs": [
    {
     "data": {
      "text/plain": [
       "0   2020-06-28 11:00:00\n",
       "1   2020-06-20 21:00:00\n",
       "2   2020-06-14 12:00:00\n",
       "3   2020-06-07 11:00:00\n",
       "4   2020-05-31 11:00:00\n",
       "Name: cleanDatesLoc, dtype: datetime64[ns]"
      ]
     },
     "execution_count": 191,
     "metadata": {},
     "output_type": "execute_result"
    }
   ],
   "source": [
    "df[\"cleanDatesLoc\"].head() "
   ]
  },
  {
   "cell_type": "code",
   "execution_count": 195,
   "id": "d420be24",
   "metadata": {},
   "outputs": [
    {
     "data": {
      "text/plain": [
       "0          True\n",
       "1          True\n",
       "2          True\n",
       "3          True\n",
       "4          True\n",
       "           ... \n",
       "1584638    True\n",
       "1584639    True\n",
       "1584640    True\n",
       "1584641    True\n",
       "1584642    True\n",
       "Name: cleanDatesLoc, Length: 1584643, dtype: bool"
      ]
     },
     "execution_count": 195,
     "metadata": {},
     "output_type": "execute_result"
    }
   ],
   "source": [
    "df[\"cleanDatesLoc\"] > \"05-01-2020\""
   ]
  },
  {
   "cell_type": "code",
   "execution_count": 197,
   "id": "784599a8",
   "metadata": {},
   "outputs": [],
   "source": [
    "'''\n",
    "firstMayCut = pd.to_datetime(\"05-01-2020\", format=\"%m-%d-%Y\", utc=True)\n",
    "lastMayCut = pd.to_datetime(\"05-03-2020\", format=\"%m-%d-%Y\", utc=True).date()\n",
    "\n",
    "firstJuneCut = pd.to_datetime(\"06-16-2020\", format=\"%m-%d-%Y\", utc=True).date()\n",
    "lastJuneCut = pd.to_datetime(\"06-30-2020\", format=\"%m-%d-%Y\", utc=True).date()\n",
    "'''\n",
    "firstMayCut = \"05-01-2020\"\n",
    "lastMayCut = \"05-03-2020\"\n",
    "firstJuneCut = \"06-16-2020\"\n",
    "lastJuneCut = \"06-30-2020\""
   ]
  },
  {
   "cell_type": "code",
   "execution_count": 71,
   "id": "c6570956",
   "metadata": {},
   "outputs": [
    {
     "data": {
      "text/plain": [
       "Timestamp('2020-05-01 00:00:00+0000', tz='UTC')"
      ]
     },
     "execution_count": 71,
     "metadata": {},
     "output_type": "execute_result"
    }
   ],
   "source": [
    "firstMayCut"
   ]
  },
  {
   "cell_type": "code",
   "execution_count": 68,
   "id": "8b3cb328",
   "metadata": {},
   "outputs": [
    {
     "data": {
      "text/plain": [
       "datetime.date(2020, 5, 1)"
      ]
     },
     "execution_count": 68,
     "metadata": {},
     "output_type": "execute_result"
    }
   ],
   "source": [
    "firstMayCut"
   ]
  },
  {
   "cell_type": "code",
   "execution_count": 199,
   "id": "2d727c3b",
   "metadata": {},
   "outputs": [
    {
     "data": {
      "text/plain": [
       "(1584643, 57)"
      ]
     },
     "execution_count": 199,
     "metadata": {},
     "output_type": "execute_result"
    }
   ],
   "source": [
    "df.shape"
   ]
  },
  {
   "cell_type": "code",
   "execution_count": 206,
   "id": "77c1fb30",
   "metadata": {},
   "outputs": [],
   "source": [
    "subsetDf = df[((df[\"cleanDatesLoc\"] >= firstMayCut) & (df[\"cleanDatesLoc\"] <= lastMayCut)) | ((df[\"cleanDatesLoc\"] >= firstJuneCut) & (df[\"cleanDatesLoc\"] <= lastJuneCut))]"
   ]
  },
  {
   "cell_type": "code",
   "execution_count": 207,
   "id": "f4dcb4df",
   "metadata": {},
   "outputs": [
    {
     "data": {
      "text/plain": [
       "(371795, 57)"
      ]
     },
     "execution_count": 207,
     "metadata": {},
     "output_type": "execute_result"
    }
   ],
   "source": [
    "subsetDf.shape"
   ]
  },
  {
   "cell_type": "code",
   "execution_count": 208,
   "id": "5ee99b8f",
   "metadata": {},
   "outputs": [],
   "source": [
    "subsetDf.to_json(\"/shared/3/projects/benlitterer/podcastData/processed/mayJuneRemaining/mayJuneRemaining.jsonl\", orient=\"records\", lines=True)"
   ]
  }
 ],
 "metadata": {
  "kernelspec": {
   "display_name": "Python 3 (ipykernel)",
   "language": "python",
   "name": "python3"
  },
  "language_info": {
   "codemirror_mode": {
    "name": "ipython",
    "version": 3
   },
   "file_extension": ".py",
   "mimetype": "text/x-python",
   "name": "python",
   "nbconvert_exporter": "python",
   "pygments_lexer": "ipython3",
   "version": "3.11.5"
  }
 },
 "nbformat": 4,
 "nbformat_minor": 5
}
