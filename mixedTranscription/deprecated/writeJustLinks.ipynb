{
 "cells": [
  {
   "cell_type": "code",
   "execution_count": 1,
   "metadata": {},
   "outputs": [],
   "source": [
    "import pandas as pd"
   ]
  },
  {
   "cell_type": "code",
   "execution_count": 5,
   "metadata": {},
   "outputs": [],
   "source": [
    "#read in file and write only the urls to output \n",
    "IN_FILE = \"/shared/3/projects/benlitterer/podcastData/analysis/allEpisodes.csv\"\n",
    "df = pd.read_csv(IN_FILE, nrows=200)"
   ]
  },
  {
   "cell_type": "code",
   "execution_count": 12,
   "metadata": {},
   "outputs": [],
   "source": [
    "outStr = \"\\n\".join(list(df.dropna(subset=[\"mp3Url\"])[\"mp3Url\"]))"
   ]
  },
  {
   "cell_type": "code",
   "execution_count": 14,
   "metadata": {},
   "outputs": [],
   "source": [
    "OUTFILE = \"/shared/3/projects/benlitterer/podcastData/mp3s/links/200links.txt\" \n",
    "with open(OUTFILE, \"w\") as outHandle: \n",
    "    outHandle.write(outStr)"
   ]
  }
 ],
 "metadata": {
  "kernelspec": {
   "display_name": "Python 3",
   "language": "python",
   "name": "python3"
  },
  "language_info": {
   "codemirror_mode": {
    "name": "ipython",
    "version": 3
   },
   "file_extension": ".py",
   "mimetype": "text/x-python",
   "name": "python",
   "nbconvert_exporter": "python",
   "pygments_lexer": "ipython3",
   "version": "3.8.5"
  }
 },
 "nbformat": 4,
 "nbformat_minor": 4
}
