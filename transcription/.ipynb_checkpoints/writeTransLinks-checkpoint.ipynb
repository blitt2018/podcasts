{
 "cells": [
  {
   "cell_type": "code",
   "execution_count": 1,
   "metadata": {},
   "outputs": [],
   "source": [
    "import pandas as pd"
   ]
  },
  {
   "cell_type": "code",
   "execution_count": 2,
   "metadata": {},
   "outputs": [],
   "source": [
    "df = pd.read_csv(\"/shared/4/projects/podcasts/premadeTranscripts/transcriptLinks.csv\")"
   ]
  },
  {
   "cell_type": "code",
   "execution_count": 7,
   "metadata": {},
   "outputs": [],
   "source": [
    "OUT_PATH = \"/shared/3/projects/benlitterer/podcastData/mp3s/links/premadeTransLinks.txt\""
   ]
  },
  {
   "cell_type": "code",
   "execution_count": 12,
   "metadata": {},
   "outputs": [],
   "source": [
    "df[\"mp3Url\"] = df[\"mp3Url\"].str.replace(\" \", \"%20\")"
   ]
  },
  {
   "cell_type": "code",
   "execution_count": 11,
   "metadata": {},
   "outputs": [],
   "source": [
    "with open(OUT_PATH, \"w\") as handle: \n",
    "    mp3List = [item for item in list(df[\"mp3Url\"].str.replace(\" \", \"%20\"))]\n",
    "    handle.write(\"\\n\".join(mp3List))"
   ]
  },
  {
   "cell_type": "code",
   "execution_count": 6,
   "metadata": {},
   "outputs": [
    {
     "data": {
      "text/plain": [
       "\"'https://audio1.redcircle.com/episodes/3c3e73af-49ff-41a2-9d84-f83c51a6de9d/stream.mp3'\\n'https://audio1.redcircle.com/episodes/27e662c8-bea5-4b93-bb57-3fa15853b336/stream.mp3'\\n'https://audio1.redcircle.com/episodes/2f8c0bc9-a240-433d-934c-8971d8da0a6c/stream.mp3'\\n'https://audio1.redcircle.com/episodes/3e117127-2451-4717-ba7f-b031b0acbe8d/stream.mp3'\\n'https://audio1.redcircle.com/episodes/3eb1266f-717a-436b-a2b1-a084f9c416dc/stream.mp3'\\n'https://audio1.redcircle.com/episodes/4d002f6d-809c-424c-8c1c-e81eede7c608/stream.mp3'\\n'https://audio1.redcircle.com/episodes/567bd372-73d9-4f2c-bc30-aee9a99ccaec/stream.mp3'\\n'https://audio1.redcircle.com/episodes/5af8bdeb-a9f9-4740-b1ba-6d22bf2c0755/stream.mp3'\\n'https://audio1.redcircle.com/episodes/5c6ec59f-6287-4cc2-be24-717569238525/stream.mp3'\\n'https://audio1.redcircle.com/episodes/5f94c7d0-92a8-47b8-9d01-89027e04246d/stream.mp3'\""
      ]
     },
     "execution_count": 6,
     "metadata": {},
     "output_type": "execute_result"
    }
   ],
   "source": [
    "\"\\n\".join(mp3List[:10])"
   ]
  },
  {
   "cell_type": "code",
   "execution_count": null,
   "metadata": {},
   "outputs": [],
   "source": []
  }
 ],
 "metadata": {
  "kernelspec": {
   "display_name": "Python 3",
   "language": "python",
   "name": "python3"
  },
  "language_info": {
   "codemirror_mode": {
    "name": "ipython",
    "version": 3
   },
   "file_extension": ".py",
   "mimetype": "text/x-python",
   "name": "python",
   "nbconvert_exporter": "python",
   "pygments_lexer": "ipython3",
   "version": "3.8.5"
  }
 },
 "nbformat": 4,
 "nbformat_minor": 4
}
