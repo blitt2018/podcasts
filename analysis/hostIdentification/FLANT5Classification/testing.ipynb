{
 "cells": [
  {
   "cell_type": "code",
   "execution_count": 19,
   "id": "6aa76e2b-66b2-4d9f-9566-c9acb2c068db",
   "metadata": {},
   "outputs": [],
   "source": [
    "from transformers import AutoModelForSeq2SeqLM, AutoTokenizer\n",
    "import torch\n",
    "import pandas as pd"
   ]
  },
  {
   "cell_type": "code",
   "execution_count": 20,
   "id": "c0d20bba-0431-4613-b450-3f117fad8572",
   "metadata": {},
   "outputs": [],
   "source": [
    "inPath = \"/shared/3/projects/benlitterer/podcastData/hostIdentification/trainTestVal2_5/descTrain.csv\"\n",
    "df = pd.read_csv(inPath, nrows=20)"
   ]
  },
  {
   "cell_type": "code",
   "execution_count": 30,
   "id": "884864e8-8911-475f-9f8b-124b8f94f1f2",
   "metadata": {},
   "outputs": [],
   "source": [
    "df[[\"left\", \"ent\", \"right\"]] = df[[\"left\", \"ent\", \"right\"]].fillna(\"\")"
   ]
  },
  {
   "cell_type": "code",
   "execution_count": 31,
   "id": "fa14b573-5086-4117-bc89-cf7a0d8e9a6b",
   "metadata": {},
   "outputs": [],
   "source": [
    "df[\"fullSnip\"] = df[\"left\"] + df[\"ent\"] + df[\"right\"]"
   ]
  },
  {
   "cell_type": "code",
   "execution_count": 12,
   "id": "ec7a91fc-63a5-442e-a87e-046299fd0ad2",
   "metadata": {},
   "outputs": [],
   "source": [
    "deviceNum = 1\n",
    "device = torch.device(\"cuda:\" + str(deviceNum) if torch.cuda.is_available() else \"cpu\")"
   ]
  },
  {
   "cell_type": "code",
   "execution_count": 13,
   "id": "3df2c238-8769-4316-b4bd-3e2b73c34c99",
   "metadata": {},
   "outputs": [],
   "source": [
    "model = AutoModelForSeq2SeqLM.from_pretrained(\"google/flan-t5-small\").to(device)\n",
    "tokenizer = AutoTokenizer.from_pretrained(\"google/flan-t5-small\")"
   ]
  },
  {
   "cell_type": "code",
   "execution_count": 32,
   "id": "192ba927-4120-4579-8eba-427d29c4369b",
   "metadata": {},
   "outputs": [
    {
     "name": "stderr",
     "output_type": "stream",
     "text": [
      "/opt/anaconda/lib/python3.9/site-packages/transformers/generation/utils.py:1273: UserWarning: Using the model-agnostic default `max_length` (=20) to control the generation length. We recommend setting `max_new_tokens` to control the maximum length of the generation.\n",
      "  warnings.warn(\n"
     ]
    },
    {
     "name": "stdout",
     "output_type": "stream",
     "text": [
      "nebolí! Aj takto sa zvykne označovať doposiaľ nevyliečiteľné ochorenie - cukrovka. Keďže výskyt celosvetovo, teda aj na Slovensku neustále narastá a v súčasnosti sa počet diabetikov vo svete odhaduje na\n",
      "['nebol!']\n",
      "----------------------------\n",
      "Hosted by Singer/Songwriter and Professional Wrestler Robby Vegas, this podcast brings you the latest and greatest interviews in Rock and Roll, paranormal/horror,\n",
      "['Robby Vegas']\n",
      "----------------------------\n",
      "children.Understand more about your child’s growth and development through different ages and stages. Join Geneviève Kyle-Lefebvre and her Co-Host on this parenting journey and get the most up-to-date, expert information\n",
      "['Geneviève Kyle-Lefebvre']\n",
      "----------------------------\n",
      "Short interviews with exemplary Duhawks from Loras College. Host & Executive Producer: Robert Waterbury\n",
      "['Robert Waterbury']\n",
      "----------------------------\n",
      "“Right There” Nicole Scherzinger ft. 50 cent. Other tracks include “Fly So High” with Machel Montano and Kardinal Offishall, “Makeup” with Vybz Kartel, “Skyrocket” with Walshy Fire (Major Lazer), “Warriors”\n",
      "['Nicole Scherzinger']\n",
      "----------------------------\n",
      "your emotional flashbacks (main CPTSD symptom), you will notice your motivation and discipline go up.Richard Grannon provides insights from psychology and philosophy to assist humans with life on this here\n",
      "['Richard Grannon']\n",
      "----------------------------\n",
      "Photography from the ground up. Podcast host Jorge Garcia talks ground level and aerial photography gear, news, and education.\n",
      "['Jorge Garcia']\n",
      "----------------------------\n",
      "Over 150 original Christian faith based Ecumenical poems read by the poet, Kai-Anne Clews. The poems follow a variety of subject matter and topics. With listeners from 50\n",
      "['Kai-Anne Clews']\n",
      "----------------------------\n",
      "Radio is your time to meditate on the Word of God, proclaimed by Rev. Mark Hawkinson.\n",
      "['Mark Hawkinson']\n",
      "----------------------------\n",
      "Tiny Leaps, Big Changes is a personal development podcast focused on exploring the day-to-day behaviors we\n",
      "['Tiny Leaps, Big Changes']\n",
      "----------------------------\n",
      "My name is Mark Kumar and I am a lifestyle entrepreneur.This podcast is for people who are looking to\n",
      "['Mark Kumar']\n",
      "----------------------------\n",
      "<p>The ART of property management with Ashleigh Goodchild is a leading platform supporting collaboration not competition through an online community and events\n",
      "['Ashleigh Goodchild']\n",
      "----------------------------\n",
      "Office Chats is a podcast presented by Madame Blue, an online magazine founded by Valeria Ramos. In this show, Valeria hosts weekly interviews with entrepreneurs and innovators across various industries\n",
      "['Valeria Ramos']\n",
      "----------------------------\n",
      "Podcast by Dottie Herman\n",
      "['Dottie Herman']\n",
      "----------------------------\n",
      "Serving the Abundant Life family since 1985, Pastor Greg has a passion for teaching God's Word in a practical and relevant way!\n",
      "['Greg McCormack']\n",
      "----------------------------\n",
      "Join Sally-anne Whitten and Jody Crosby as they discuss what has been making news over the last\n",
      "['Sally-anne Whitten']\n",
      "----------------------------\n",
      "Bob Hutchins- Digital Marketing OG, Cultural and media theorist, and Organizational Psychologist talks about all things\n",
      "['Bob Hutchins']\n",
      "----------------------------\n",
      "about with your own family. That’s why nationally known personal finance experts Terry Savage, Richard Eisenberg, and Pam Krueger and are here to open up the dialogue so you can\n",
      "['Terry Savage']\n",
      "----------------------------\n",
      "Join your host, Ángela Loca on a journey to uncovering the multiple truths of modern day social justice organizers\n",
      "['ngela Loca']\n",
      "----------------------------\n",
      "F1 fans from every nation, welcome to F1 Nation! Tom Clarkson, Damon Hill, Natalie Pinkham, Pedro de la Rosa and big guests bring you expert\n",
      "['F1 Nation']\n",
      "----------------------------\n"
     ]
    }
   ],
   "source": [
    "for snip in df[\"fullSnip\"].head(20):  \n",
    "    prefix = \"Output the full name of the person who is the most likely to be the host in the following podcast description. If there is no host, output NONE:\"  \n",
    "    inputs = tokenizer(f\"{prefix} {snip}\", return_tensors=\"pt\").to(device)\n",
    "    outputs = model.generate(**inputs)\n",
    "    decoded = tokenizer.batch_decode(outputs, skip_special_tokens=True)\n",
    "    print(snip) \n",
    "    print(decoded) \n",
    "    print(\"----------------------------\") "
   ]
  },
  {
   "cell_type": "code",
   "execution_count": 16,
   "id": "7b846dd0-f0bd-498d-a64a-84fcf9654cb6",
   "metadata": {},
   "outputs": [],
   "source": [
    "outputs = model.generate(**inputs)"
   ]
  },
  {
   "cell_type": "code",
   "execution_count": 17,
   "id": "97349d92-4447-4dfc-b2a6-d82988b7ba86",
   "metadata": {},
   "outputs": [
    {
     "name": "stdout",
     "output_type": "stream",
     "text": [
      "['Caleb Anderson']\n"
     ]
    }
   ],
   "source": [
    "print(tokenizer.batch_decode(outputs, skip_special_tokens=True))"
   ]
  },
  {
   "cell_type": "code",
   "execution_count": null,
   "id": "4774aa21-e570-4148-9c13-ee8fefc7e710",
   "metadata": {},
   "outputs": [],
   "source": []
  }
 ],
 "metadata": {
  "kernelspec": {
   "display_name": "Python 3",
   "language": "python",
   "name": "python3"
  },
  "language_info": {
   "codemirror_mode": {
    "name": "ipython",
    "version": 3
   },
   "file_extension": ".py",
   "mimetype": "text/x-python",
   "name": "python",
   "nbconvert_exporter": "python",
   "pygments_lexer": "ipython3",
   "version": "3.9.12"
  }
 },
 "nbformat": 4,
 "nbformat_minor": 5
}
