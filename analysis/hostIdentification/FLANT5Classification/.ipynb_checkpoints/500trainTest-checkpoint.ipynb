{
 "cells": [
  {
   "cell_type": "code",
   "execution_count": 17,
   "id": "6aa76e2b-66b2-4d9f-9566-c9acb2c068db",
   "metadata": {},
   "outputs": [],
   "source": [
    "from transformers import AutoModelForSeq2SeqLM, AutoTokenizer\n",
    "import torch\n",
    "import pandas as pd\n",
    "from tqdm import tqdm"
   ]
  },
  {
   "cell_type": "code",
   "execution_count": 5,
   "id": "c0d20bba-0431-4613-b450-3f117fad8572",
   "metadata": {},
   "outputs": [],
   "source": [
    "inPath = \"/shared/3/projects/benlitterer/podcastData/hostIdentification/trainTestVal2_5/500trainLabelled.csv\"\n",
    "df = pd.read_csv(inPath)"
   ]
  },
  {
   "cell_type": "code",
   "execution_count": 7,
   "id": "92fdb6f9-a2da-4404-bc34-ca9ee91c5ccd",
   "metadata": {},
   "outputs": [],
   "source": [
    "df = df.dropna(subset=[\"tag\"])"
   ]
  },
  {
   "cell_type": "code",
   "execution_count": 9,
   "id": "884864e8-8911-475f-9f8b-124b8f94f1f2",
   "metadata": {},
   "outputs": [],
   "source": [
    "df[[\"left\", \"ent\", \"right\"]] = df[[\"left\", \"ent\", \"right\"]].fillna(\"\")"
   ]
  },
  {
   "cell_type": "code",
   "execution_count": 10,
   "id": "fa14b573-5086-4117-bc89-cf7a0d8e9a6b",
   "metadata": {},
   "outputs": [],
   "source": [
    "df[\"fullSnip\"] = df[\"left\"] + df[\"ent\"] + df[\"right\"]"
   ]
  },
  {
   "cell_type": "code",
   "execution_count": 11,
   "id": "ec7a91fc-63a5-442e-a87e-046299fd0ad2",
   "metadata": {},
   "outputs": [],
   "source": [
    "deviceNum = 1\n",
    "device = torch.device(\"cuda:\" + str(deviceNum) if torch.cuda.is_available() else \"cpu\")"
   ]
  },
  {
   "cell_type": "code",
   "execution_count": 12,
   "id": "3df2c238-8769-4316-b4bd-3e2b73c34c99",
   "metadata": {},
   "outputs": [
    {
     "name": "stdout",
     "output_type": "stream",
     "text": [
      "[2024-02-08 17:37:31,148] [INFO] [real_accelerator.py:158:get_accelerator] Setting ds_accelerator to cuda (auto detect)\n"
     ]
    }
   ],
   "source": [
    "model = AutoModelForSeq2SeqLM.from_pretrained(\"google/flan-t5-small\").to(device)\n",
    "tokenizer = AutoTokenizer.from_pretrained(\"google/flan-t5-small\")"
   ]
  },
  {
   "cell_type": "code",
   "execution_count": 18,
   "id": "192ba927-4120-4579-8eba-427d29c4369b",
   "metadata": {},
   "outputs": [
    {
     "name": "stderr",
     "output_type": "stream",
     "text": [
      "100%|██████████| 298/298 [00:26<00:00, 11.19it/s]\n"
     ]
    }
   ],
   "source": [
    "outPred = []\n",
    "for snip in tqdm(df[\"fullSnip\"]):  \n",
    "    prefix = \"Output the full name of the podcast hosts in the following sequence of text, and if there is no host output NONE instead: \"  \n",
    "    inputs = tokenizer(f\"{prefix} {snip}\", return_tensors=\"pt\").to(device)\n",
    "    outputs = model.generate(**inputs)\n",
    "    decoded = tokenizer.batch_decode(outputs, skip_special_tokens=True)\n",
    "    outPred.append(decoded) \n",
    "    #print(snip) \n",
    "    #print(decoded) \n",
    "    #print(\"----------------------------\") "
   ]
  },
  {
   "cell_type": "code",
   "execution_count": 19,
   "id": "4774aa21-e570-4148-9c13-ee8fefc7e710",
   "metadata": {},
   "outputs": [
    {
     "data": {
      "text/plain": [
       "[['Carl Bimchawand'],\n",
       " ['Harry Potter'],\n",
       " ['Coach Bowling'],\n",
       " ['adrian kobson'],\n",
       " ['Falbani'],\n",
       " ['Andy Dieri'],\n",
       " ['Angela Hauntley'],\n",
       " ['Francis Fukuyama'],\n",
       " ['Tammy Pateand'],\n",
       " ['Nathan Katum']]"
      ]
     },
     "execution_count": 19,
     "metadata": {},
     "output_type": "execute_result"
    }
   ],
   "source": [
    "outPred[0:10]"
   ]
  },
  {
   "cell_type": "code",
   "execution_count": 23,
   "id": "ddc41fa1-a966-4f7f-8d21-e27b591bcbb0",
   "metadata": {},
   "outputs": [],
   "source": [
    "outCol = pd.DataFrame(outPred, columns=[\"FLANT5oneShot\"])"
   ]
  },
  {
   "cell_type": "code",
   "execution_count": 25,
   "id": "cba00173-9313-4d50-af71-eb2318e761a7",
   "metadata": {},
   "outputs": [],
   "source": [
    "outCol.to_csv(\"/shared/3/projects/benlitterer/podcastData/hostIdentification/FLANTT5/earlyExperiments/500trainTest.csv\", sep=\",\")"
   ]
  },
  {
   "cell_type": "code",
   "execution_count": null,
   "id": "a517a451-9b91-403e-971d-465af6d95623",
   "metadata": {},
   "outputs": [],
   "source": []
  }
 ],
 "metadata": {
  "kernelspec": {
   "display_name": "Python 3",
   "language": "python",
   "name": "python3"
  },
  "language_info": {
   "codemirror_mode": {
    "name": "ipython",
    "version": 3
   },
   "file_extension": ".py",
   "mimetype": "text/x-python",
   "name": "python",
   "nbconvert_exporter": "python",
   "pygments_lexer": "ipython3",
   "version": "3.9.12"
  }
 },
 "nbformat": 4,
 "nbformat_minor": 5
}
