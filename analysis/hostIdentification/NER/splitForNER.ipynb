{
 "cells": [
  {
   "cell_type": "code",
   "execution_count": 3,
   "id": "7224109e-f606-412b-b748-8d51488ca05e",
   "metadata": {},
   "outputs": [],
   "source": [
    "import pandas as pd\n",
    "import spacy\n",
    "import numpy as np\n",
    "from collections import Counter\n",
    "import csv\n",
    "from multiprocessing import Pool "
   ]
  },
  {
   "cell_type": "code",
   "execution_count": 8,
   "id": "696623b7-f6fa-4eb8-9bbf-3a2a629cf24b",
   "metadata": {},
   "outputs": [],
   "source": [
    "#IN_PATH = sys.argv[1]\n",
    "#IN_COL = sys.argv[2]\n",
    "#OUT_STEM = sys.argv[3]\n",
    "#N_SPLITS = sys.argv[4]\n",
    "\n",
    "IN_PATH = \"/shared/3/projects/benlitterer/podcastData/processed/floydMonth/floydMonthEn50000.csv\"\n",
    "IN_COL = \"podDescription\"\n",
    "OUT_STEM = \"/shared/3/projects/benlitterer/podcastData/NER/tempSplits\"\n",
    "N_SPLITS = 20"
   ]
  },
  {
   "cell_type": "code",
   "execution_count": 9,
   "id": "1d9a2dfc-be58-459f-bff8-4f3ddff24551",
   "metadata": {},
   "outputs": [
    {
     "name": "stderr",
     "output_type": "stream",
     "text": [
      "/tmp/ipykernel_2454981/426021157.py:1: DtypeWarning: Columns (7,8,50) have mixed types. Specify dtype option on import or set low_memory=False.\n",
      "  df = pd.read_csv(IN_PATH)\n"
     ]
    }
   ],
   "source": [
    "df = pd.read_csv(IN_PATH) "
   ]
  },
  {
   "cell_type": "code",
   "execution_count": 10,
   "id": "e20fd3c3-477a-45a8-b410-12fd99482c41",
   "metadata": {},
   "outputs": [],
   "source": [
    "sub_df = df[['potentialOutPath', IN_COL]]\n",
    "\n",
    "#we use 160 because that's how many cores we have \n",
    "indexList = np.array_split(np.array(list(range(0, len(sub_df)))), N_SPLITS)"
   ]
  },
  {
   "cell_type": "code",
   "execution_count": 11,
   "id": "a7718a75-cbda-4a4b-b487-6950c4a2a16c",
   "metadata": {},
   "outputs": [],
   "source": [
    "zippedIndices = list(zip(list(range(0, N_SPLITS)), indexList))"
   ]
  },
  {
   "cell_type": "code",
   "execution_count": null,
   "id": "42e5233a-e7fe-4c31-8bf4-656a7cf205b4",
   "metadata": {},
   "outputs": [],
   "source": [
    "\n",
    "\n",
    "\n",
    "outStem = \"/shared/3/projects/benlitterer/podcastData/NER/tempSplits\"\n",
    "\n",
    "#last file will be missing one row \n",
    "def writeFrame(tup):\n",
    "    i, indices = tup\n",
    "    outDf = sub_df.iloc[indices, :]\n",
    "    outDf.to_csv(outStem + str(i), sep=\"\\t\", quoting=csv.QUOTE_NONNUMERIC)\n",
    "\n",
    "with Pool(12) as p: \n",
    "    p.map(writeFrame, zippedIndices)\n",
    "\n"
   ]
  }
 ],
 "metadata": {
  "kernelspec": {
   "display_name": "Python 3 (ipykernel)",
   "language": "python",
   "name": "python3"
  },
  "language_info": {
   "codemirror_mode": {
    "name": "ipython",
    "version": 3
   },
   "file_extension": ".py",
   "mimetype": "text/x-python",
   "name": "python",
   "nbconvert_exporter": "python",
   "pygments_lexer": "ipython3",
   "version": "3.11.5"
  }
 },
 "nbformat": 4,
 "nbformat_minor": 5
}
