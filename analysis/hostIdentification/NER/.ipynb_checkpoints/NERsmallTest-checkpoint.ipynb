{
 "cells": [
  {
   "cell_type": "code",
   "execution_count": 10,
   "id": "3c3295d1-0e83-45f8-a391-dbef44082425",
   "metadata": {},
   "outputs": [],
   "source": [
    "import spacy\n",
    "import pandas as pd\n",
    "from tqdm import tqdm "
   ]
  },
  {
   "cell_type": "code",
   "execution_count": 40,
   "id": "7a579348-2c0b-4f33-8ae5-376f72b1fe68",
   "metadata": {},
   "outputs": [],
   "source": [
    "IN_COL = \"first500\"\n",
    "OUT_PATH = \"/shared/3/projects/benlitterer/podcastData/NER/tempSplits/testOut1.csv\"\n",
    "TRUNCATION = 50"
   ]
  },
  {
   "cell_type": "code",
   "execution_count": 51,
   "id": "9954ae50-e6cb-42da-bff9-f36818a8a110",
   "metadata": {},
   "outputs": [],
   "source": [
    "df = pd.read_csv(\"/shared/3/projects/benlitterer/podcastData/NER/floydIntroductions.tsv\", sep=\"\\t\", nrows=300) "
   ]
  },
  {
   "cell_type": "code",
   "execution_count": 3,
   "id": "630457b2-046e-489d-b093-89bf0e930b56",
   "metadata": {},
   "outputs": [],
   "source": [
    "nlp = spacy.load(\"en_core_web_md\", exclude=[\"parse\", \"tagger\", \"textcat\"])"
   ]
  },
  {
   "cell_type": "code",
   "execution_count": 41,
   "id": "3e5988ea-9cac-47ec-9f91-aeffd6055c04",
   "metadata": {},
   "outputs": [],
   "source": [
    "docs = df.dropna(subset=[IN_COL])[IN_COL]\n",
    "if TRUNCATION != 0: \n",
    "    docs = [doc[:TRUNCATION] for doc in docs]\n",
    "outPaths = list(df[\"potentialOutPath\"]) \n",
    "docs = nlp.pipe(docs)"
   ]
  },
  {
   "cell_type": "code",
   "execution_count": 42,
   "id": "c0ff7149-1e27-4fb4-856f-bf409dde90bd",
   "metadata": {},
   "outputs": [
    {
     "name": "stderr",
     "output_type": "stream",
     "text": [
      "0it [00:00, ?it/s]/opt/anaconda/lib/python3.11/site-packages/spacy/pipeline/lemmatizer.py:211: UserWarning: [W108] The rule-based lemmatizer did not find POS annotation for one or more tokens. Check that your pipeline includes components that assign token.pos, typically 'tagger'+'attribute_ruler' or 'morphologizer'.\n",
      "  warnings.warn(Warnings.W108)\n",
      "9983it [00:21, 455.15it/s]\n"
     ]
    }
   ],
   "source": [
    "with open(OUT_PATH, \"w\") as outFile: \n",
    "    for i, doc in tqdm(enumerate(docs)): \n",
    "        outStr = \"\"\n",
    "        for ent in doc.ents: \n",
    "            outPath = outPaths[i]\n",
    "            cleanText = ent.text.replace(\",\", \"\")\n",
    "            outStr += f\"{outPath},{cleanText},{ent.start_char},{ent.end_char},{ent.label_}\\n\"\n",
    "        outFile.write(outStr) "
   ]
  }
 ],
 "metadata": {
  "kernelspec": {
   "display_name": "Python 3 (ipykernel)",
   "language": "python",
   "name": "python3"
  },
  "language_info": {
   "codemirror_mode": {
    "name": "ipython",
    "version": 3
   },
   "file_extension": ".py",
   "mimetype": "text/x-python",
   "name": "python",
   "nbconvert_exporter": "python",
   "pygments_lexer": "ipython3",
   "version": "3.11.5"
  }
 },
 "nbformat": 4,
 "nbformat_minor": 5
}
