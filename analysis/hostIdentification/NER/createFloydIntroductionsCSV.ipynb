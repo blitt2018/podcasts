{
 "cells": [
  {
   "cell_type": "code",
   "execution_count": 28,
   "id": "c1f469ea-be12-4060-b402-0c32acc3651a",
   "metadata": {},
   "outputs": [],
   "source": [
    "import pandas as pd\n",
    "import os\n",
    "from tqdm import tqdm\n",
    "from multiprocessing import Pool \n",
    "import numpy as np"
   ]
  },
  {
   "cell_type": "code",
   "execution_count": 47,
   "id": "6dcdc4ab-2977-4b26-83d5-5137659becc6",
   "metadata": {},
   "outputs": [],
   "source": [
    "OUT_STEM = \"/shared/3/projects/benlitterer/podcastData/NER/tempFloydIntroductions/floydIntroductions\""
   ]
  },
  {
   "cell_type": "code",
   "execution_count": 2,
   "id": "d3a32c8c-d123-439a-a539-5ec6646ff3d0",
   "metadata": {},
   "outputs": [
    {
     "name": "stderr",
     "output_type": "stream",
     "text": [
      "/tmp/ipykernel_3389318/586084763.py:1: DtypeWarning: Columns (6,7,8,12,20,49) have mixed types. Specify dtype option on import or set low_memory=False.\n",
      "  df = pd.read_csv(\"/shared/3/projects/benlitterer/podcastData/processed/floydMonth/floydMonthEnSHORT.csv\")\n"
     ]
    }
   ],
   "source": [
    "df = pd.read_csv(\"/shared/3/projects/benlitterer/podcastData/processed/floydMonth/floydMonthEnSHORT.csv\") "
   ]
  },
  {
   "cell_type": "code",
   "execution_count": null,
   "id": "b4aa94de-586e-4213-8c7d-d6246326acf9",
   "metadata": {},
   "outputs": [],
   "source": [
    "df[\"potentialOutPathFull\"] = \"/shared/3/projects/benlitterer/podcastData/prosodyMerged/floydMonth\" + df[\"potentialOutPath\"] \n",
    "df[\"exists\"] = df[\"potentialOutPathFull\"].apply(lambda x: os.path.exists(x)) \n",
    "df = df[df[\"exists\"] == True]"
   ]
  },
  {
   "cell_type": "code",
   "execution_count": 29,
   "id": "7b8baf13-02e0-49d0-b8f8-fb8439eaf654",
   "metadata": {},
   "outputs": [],
   "source": [
    "dfList = np.array_split(df, 12)"
   ]
  },
  {
   "cell_type": "code",
   "execution_count": 43,
   "id": "3d2a3f66-2225-461d-8ede-7126c80add47",
   "metadata": {},
   "outputs": [],
   "source": [
    "def outputDataFile(i): \n",
    "    currDf = dfList[i]\n",
    "    OUT_PATH = f\"{OUT_STEM}{i}.tsv\"\n",
    "    with open(OUT_PATH, \"w\") as outFile: \n",
    "        for path in tqdm(currDf[\"potentialOutPathFull\"]): \n",
    "            with open(path) as currFile: \n",
    "                fullText =  \"\".join([row.split(\",\")[4] for row in currFile.readlines()])\n",
    "                firstBit = \" \".join(fullText.split()[:500]).replace(\"\\t\", \"\").replace(\"\\n\", \"\") \n",
    "                outFile.write(f\"{path}\\t{firstBit}\\n\")"
   ]
  },
  {
   "cell_type": "code",
   "execution_count": 48,
   "id": "39cd386d-93e7-496e-9050-bb769f0560e0",
   "metadata": {},
   "outputs": [
    {
     "name": "stderr",
     "output_type": "stream",
     "text": [
      "  1%|█▎                                                                                                     | 570/44935 [00:49<1:04:44, 11.42it/s]\n",
      "Process ForkPoolWorker-23:\n",
      "Traceback (most recent call last):\n",
      "  File \"/opt/anaconda/lib/python3.11/multiprocessing/process.py\", line 314, in _bootstrap\n",
      "    self.run()\n",
      "  File \"/opt/anaconda/lib/python3.11/multiprocessing/process.py\", line 108, in run\n",
      "    self._target(*self._args, **self._kwargs)\n",
      "  File \"/opt/anaconda/lib/python3.11/multiprocessing/pool.py\", line 125, in worker\n",
      "    result = (True, func(*args, **kwds))\n",
      "                    ^^^^^^^^^^^^^^^^^^^\n",
      "  File \"/opt/anaconda/lib/python3.11/multiprocessing/pool.py\", line 48, in mapstar\n",
      "    return list(map(*args))\n",
      "           ^^^^^^^^^^^^^^^^\n",
      "  File \"/tmp/ipykernel_3389318/409557742.py\", line 5, in outputDataFile\n",
      "    for path in tqdm(currDf[\"potentialOutPathFull\"]):\n",
      "  File \"/opt/anaconda/lib/python3.11/site-packages/tqdm/std.py\", line 1192, in __iter__\n",
      "    self.update(n - last_print_n)\n",
      "  File \"/opt/anaconda/lib/python3.11/site-packages/tqdm/std.py\", line 1243, in update\n",
      "    self.refresh(lock_args=self.lock_args)\n",
      "  File \"/opt/anaconda/lib/python3.11/site-packages/tqdm/std.py\", line 1348, in refresh\n",
      "    self.display()\n",
      "  File \"/opt/anaconda/lib/python3.11/site-packages/tqdm/std.py\", line 1496, in display\n",
      "    self.sp(self.__str__() if msg is None else msg)\n",
      "  File \"/opt/anaconda/lib/python3.11/site-packages/tqdm/std.py\", line 462, in print_status\n",
      "    fp_write('\\r' + s + (' ' * max(last_len[0] - len_s, 0)))\n",
      "  File \"/opt/anaconda/lib/python3.11/site-packages/tqdm/std.py\", line 455, in fp_write\n",
      "    fp.write(str(s))\n",
      "  File \"/opt/anaconda/lib/python3.11/site-packages/tqdm/utils.py\", line 195, in inner\n",
      "    return func(*args, **kwargs)\n",
      "           ^^^^^^^^^^^^^^^^^^^^^\n",
      "  File \"/opt/anaconda/lib/python3.11/site-packages/ipykernel/iostream.py\", line 646, in write\n",
      "    self.pub_thread.schedule(self._flush)\n",
      "  File \"/opt/anaconda/lib/python3.11/site-packages/ipykernel/iostream.py\", line 253, in schedule\n",
      "    f()\n",
      "  File \"/opt/anaconda/lib/python3.11/site-packages/ipykernel/iostream.py\", line 604, in _flush\n",
      "    self.session.send(\n",
      "  File \"/opt/anaconda/lib/python3.11/site-packages/jupyter_client/session.py\", line 859, in send\n",
      "    stream.send_multipart(to_send, copy=copy)\n",
      "  File \"/opt/anaconda/lib/python3.11/site-packages/ipykernel/iostream.py\", line 260, in send_multipart\n",
      "    self.schedule(lambda: self._really_send(*args, **kwargs))\n",
      "  File \"/opt/anaconda/lib/python3.11/site-packages/ipykernel/iostream.py\", line 253, in schedule\n",
      "    f()\n",
      "  File \"/opt/anaconda/lib/python3.11/site-packages/ipykernel/iostream.py\", line 260, in <lambda>\n",
      "    self.schedule(lambda: self._really_send(*args, **kwargs))\n",
      "                          ^^^^^^^^^^^^^^^^^^^^^^^^^^^^^^^^^^\n",
      "  File \"/opt/anaconda/lib/python3.11/site-packages/ipykernel/iostream.py\", line 279, in _really_send\n",
      "    ctx.term()\n",
      "  File \"/opt/anaconda/lib/python3.11/site-packages/zmq/sugar/context.py\", line 275, in term\n",
      "    super().term()\n",
      "  File \"zmq/backend/cython/context.pyx\", line 83, in zmq.backend.cython.context.Context.term\n",
      "KeyboardInterrupt\n",
      "  File \"zmq/backend/cython/checkrc.pxd\", line 13, in zmq.backend.cython.checkrc._check_rc\n"
     ]
    },
    {
     "ename": "KeyboardInterrupt",
     "evalue": "",
     "output_type": "error",
     "traceback": [
      "\u001b[0;31m---------------------------------------------------------------------------\u001b[0m",
      "\u001b[0;31mKeyboardInterrupt\u001b[0m                         Traceback (most recent call last)",
      "Cell \u001b[0;32mIn[48], line 2\u001b[0m\n\u001b[1;32m      1\u001b[0m pool \u001b[38;5;241m=\u001b[39m Pool(processes\u001b[38;5;241m=\u001b[39m\u001b[38;5;241m12\u001b[39m)\n\u001b[0;32m----> 2\u001b[0m pool\u001b[38;5;241m.\u001b[39mmap(outputDataFile, \u001b[38;5;28mlist\u001b[39m(\u001b[38;5;28mrange\u001b[39m(\u001b[38;5;241m12\u001b[39m)))\n",
      "File \u001b[0;32m/opt/anaconda/lib/python3.11/multiprocessing/pool.py:367\u001b[0m, in \u001b[0;36mPool.map\u001b[0;34m(self, func, iterable, chunksize)\u001b[0m\n\u001b[1;32m    362\u001b[0m \u001b[38;5;28;01mdef\u001b[39;00m \u001b[38;5;21mmap\u001b[39m(\u001b[38;5;28mself\u001b[39m, func, iterable, chunksize\u001b[38;5;241m=\u001b[39m\u001b[38;5;28;01mNone\u001b[39;00m):\n\u001b[1;32m    363\u001b[0m \u001b[38;5;250m    \u001b[39m\u001b[38;5;124;03m'''\u001b[39;00m\n\u001b[1;32m    364\u001b[0m \u001b[38;5;124;03m    Apply `func` to each element in `iterable`, collecting the results\u001b[39;00m\n\u001b[1;32m    365\u001b[0m \u001b[38;5;124;03m    in a list that is returned.\u001b[39;00m\n\u001b[1;32m    366\u001b[0m \u001b[38;5;124;03m    '''\u001b[39;00m\n\u001b[0;32m--> 367\u001b[0m     \u001b[38;5;28;01mreturn\u001b[39;00m \u001b[38;5;28mself\u001b[39m\u001b[38;5;241m.\u001b[39m_map_async(func, iterable, mapstar, chunksize)\u001b[38;5;241m.\u001b[39mget()\n",
      "File \u001b[0;32m/opt/anaconda/lib/python3.11/multiprocessing/pool.py:768\u001b[0m, in \u001b[0;36mApplyResult.get\u001b[0;34m(self, timeout)\u001b[0m\n\u001b[1;32m    767\u001b[0m \u001b[38;5;28;01mdef\u001b[39;00m \u001b[38;5;21mget\u001b[39m(\u001b[38;5;28mself\u001b[39m, timeout\u001b[38;5;241m=\u001b[39m\u001b[38;5;28;01mNone\u001b[39;00m):\n\u001b[0;32m--> 768\u001b[0m     \u001b[38;5;28mself\u001b[39m\u001b[38;5;241m.\u001b[39mwait(timeout)\n\u001b[1;32m    769\u001b[0m     \u001b[38;5;28;01mif\u001b[39;00m \u001b[38;5;129;01mnot\u001b[39;00m \u001b[38;5;28mself\u001b[39m\u001b[38;5;241m.\u001b[39mready():\n\u001b[1;32m    770\u001b[0m         \u001b[38;5;28;01mraise\u001b[39;00m \u001b[38;5;167;01mTimeoutError\u001b[39;00m\n",
      "File \u001b[0;32m/opt/anaconda/lib/python3.11/multiprocessing/pool.py:765\u001b[0m, in \u001b[0;36mApplyResult.wait\u001b[0;34m(self, timeout)\u001b[0m\n\u001b[1;32m    764\u001b[0m \u001b[38;5;28;01mdef\u001b[39;00m \u001b[38;5;21mwait\u001b[39m(\u001b[38;5;28mself\u001b[39m, timeout\u001b[38;5;241m=\u001b[39m\u001b[38;5;28;01mNone\u001b[39;00m):\n\u001b[0;32m--> 765\u001b[0m     \u001b[38;5;28mself\u001b[39m\u001b[38;5;241m.\u001b[39m_event\u001b[38;5;241m.\u001b[39mwait(timeout)\n",
      "File \u001b[0;32m/opt/anaconda/lib/python3.11/threading.py:622\u001b[0m, in \u001b[0;36mEvent.wait\u001b[0;34m(self, timeout)\u001b[0m\n\u001b[1;32m    620\u001b[0m signaled \u001b[38;5;241m=\u001b[39m \u001b[38;5;28mself\u001b[39m\u001b[38;5;241m.\u001b[39m_flag\n\u001b[1;32m    621\u001b[0m \u001b[38;5;28;01mif\u001b[39;00m \u001b[38;5;129;01mnot\u001b[39;00m signaled:\n\u001b[0;32m--> 622\u001b[0m     signaled \u001b[38;5;241m=\u001b[39m \u001b[38;5;28mself\u001b[39m\u001b[38;5;241m.\u001b[39m_cond\u001b[38;5;241m.\u001b[39mwait(timeout)\n\u001b[1;32m    623\u001b[0m \u001b[38;5;28;01mreturn\u001b[39;00m signaled\n",
      "File \u001b[0;32m/opt/anaconda/lib/python3.11/threading.py:320\u001b[0m, in \u001b[0;36mCondition.wait\u001b[0;34m(self, timeout)\u001b[0m\n\u001b[1;32m    318\u001b[0m \u001b[38;5;28;01mtry\u001b[39;00m:    \u001b[38;5;66;03m# restore state no matter what (e.g., KeyboardInterrupt)\u001b[39;00m\n\u001b[1;32m    319\u001b[0m     \u001b[38;5;28;01mif\u001b[39;00m timeout \u001b[38;5;129;01mis\u001b[39;00m \u001b[38;5;28;01mNone\u001b[39;00m:\n\u001b[0;32m--> 320\u001b[0m         waiter\u001b[38;5;241m.\u001b[39macquire()\n\u001b[1;32m    321\u001b[0m         gotit \u001b[38;5;241m=\u001b[39m \u001b[38;5;28;01mTrue\u001b[39;00m\n\u001b[1;32m    322\u001b[0m     \u001b[38;5;28;01melse\u001b[39;00m:\n",
      "\u001b[0;31mKeyboardInterrupt\u001b[0m: "
     ]
    }
   ],
   "source": [
    "pool = Pool(processes=12)\n",
    "pool.map(outputDataFile, list(range(12)))"
   ]
  },
  {
   "cell_type": "code",
   "execution_count": 53,
   "id": "3538df41-ba65-4a9b-be2a-7a356dc0713b",
   "metadata": {},
   "outputs": [],
   "source": [
    "catDf = pd.read_csv(\"/shared/3/projects/benlitterer/podcastData/NER/tempFloydIntroductions/floydIntroductions.tsv\", sep=\"\\t\", names=[\"outPath\", \"content\"]) "
   ]
  },
  {
   "cell_type": "code",
   "execution_count": null,
   "id": "89b3f223-ddbb-48a4-9749-c26429178dba",
   "metadata": {},
   "outputs": [],
   "source": []
  }
 ],
 "metadata": {
  "kernelspec": {
   "display_name": "Python 3 (ipykernel)",
   "language": "python",
   "name": "python3"
  },
  "language_info": {
   "codemirror_mode": {
    "name": "ipython",
    "version": 3
   },
   "file_extension": ".py",
   "mimetype": "text/x-python",
   "name": "python",
   "nbconvert_exporter": "python",
   "pygments_lexer": "ipython3",
   "version": "3.11.5"
  }
 },
 "nbformat": 4,
 "nbformat_minor": 5
}
