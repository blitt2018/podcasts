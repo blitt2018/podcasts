{
 "cells": [
  {
   "cell_type": "code",
   "execution_count": 152,
   "id": "7b391a97-0e89-4770-9329-8e8fbc238ed5",
   "metadata": {},
   "outputs": [],
   "source": [
    "from tqdm.auto import tqdm\n",
    "import torch \n",
    "import transformers\n",
    "from transformers import PreTrainedTokenizer\n",
    "from transformers import RobertaTokenizer, RobertaConfig, RobertaModel, RobertaForTokenClassification\n",
    "#from sentence_transformers import SentenceTransformer, SentencesDataset, InputExample, losses, util\n",
    "from datasets import Dataset\n",
    "import pandas as pd\n",
    "from transformers.optimization import get_linear_schedule_with_warmup\n",
    "#import matplotlib.pyplot as plt \n",
    "import numpy as np\n",
    "from sentence_transformers import SentenceTransformer\n",
    "from transformers import AutoTokenizer, AutoModel, PreTrainedTokenizerFast, RobertaTokenizerFast\n",
    "#from torch.nn import CosineEmbeddingLoss\n",
    "import random\n",
    "#from torch.nn import CosineEmbeddingLoss\n",
    "from torch import nn\n",
    "#Build up to SBERT model "
   ]
  },
  {
   "cell_type": "code",
   "execution_count": 153,
   "id": "7b0c18c1-be41-4339-a7e3-f2adce4bfccc",
   "metadata": {},
   "outputs": [],
   "source": [
    "import seaborn as sns\n",
    "from sklearn.metrics import f1_score\n",
    "import matplotlib.pyplot as plt\n",
    "\n",
    "from sklearn.model_selection import train_test_split"
   ]
  },
  {
   "cell_type": "code",
   "execution_count": 154,
   "id": "0469fb4e-bf36-4143-91e4-9b4bbb64ece4",
   "metadata": {},
   "outputs": [],
   "source": [
    "#df = pd.read_csv(\"/shared/3/projects/benlitterer/podcastData/hostIdentification/itunesGTsubset.tsv\", sep=\"\\t\") "
   ]
  },
  {
   "cell_type": "code",
   "execution_count": 157,
   "id": "ce0ca3e4-8180-4ea1-b65a-80af4fcdebe4",
   "metadata": {},
   "outputs": [
    {
     "data": {
      "text/plain": [
       "Index(['Unnamed: 0', 'potentialOutPath', 'epTitle', 'left', 'ent', 'tag',\n",
       "       'right', 'rssUrl', 'cleanDates', 'first500', '500ent', '500start',\n",
       "       '500end', '500type', 'itunesAuthor', 'levenshtein', 'groundTruth'],\n",
       "      dtype='object')"
      ]
     },
     "execution_count": 157,
     "metadata": {},
     "output_type": "execute_result"
    }
   ],
   "source": [
    "trainDf.columns"
   ]
  },
  {
   "cell_type": "code",
   "execution_count": 156,
   "id": "7494ce48-3081-404e-a139-bd27b5793c65",
   "metadata": {},
   "outputs": [
    {
     "ename": "KeyError",
     "evalue": "'entSnippets'",
     "output_type": "error",
     "traceback": [
      "\u001b[0;31m---------------------------------------------------------------------------\u001b[0m",
      "\u001b[0;31mKeyError\u001b[0m                                  Traceback (most recent call last)",
      "File \u001b[0;32m/opt/anaconda/lib/python3.9/site-packages/pandas/core/indexes/base.py:3653\u001b[0m, in \u001b[0;36mIndex.get_loc\u001b[0;34m(self, key)\u001b[0m\n\u001b[1;32m   3652\u001b[0m \u001b[38;5;28;01mtry\u001b[39;00m:\n\u001b[0;32m-> 3653\u001b[0m     \u001b[38;5;28;01mreturn\u001b[39;00m \u001b[38;5;28;43mself\u001b[39;49m\u001b[38;5;241;43m.\u001b[39;49m\u001b[43m_engine\u001b[49m\u001b[38;5;241;43m.\u001b[39;49m\u001b[43mget_loc\u001b[49m\u001b[43m(\u001b[49m\u001b[43mcasted_key\u001b[49m\u001b[43m)\u001b[49m\n\u001b[1;32m   3654\u001b[0m \u001b[38;5;28;01mexcept\u001b[39;00m \u001b[38;5;167;01mKeyError\u001b[39;00m \u001b[38;5;28;01mas\u001b[39;00m err:\n",
      "File \u001b[0;32m/opt/anaconda/lib/python3.9/site-packages/pandas/_libs/index.pyx:147\u001b[0m, in \u001b[0;36mpandas._libs.index.IndexEngine.get_loc\u001b[0;34m()\u001b[0m\n",
      "File \u001b[0;32m/opt/anaconda/lib/python3.9/site-packages/pandas/_libs/index.pyx:176\u001b[0m, in \u001b[0;36mpandas._libs.index.IndexEngine.get_loc\u001b[0;34m()\u001b[0m\n",
      "File \u001b[0;32mpandas/_libs/hashtable_class_helper.pxi:7080\u001b[0m, in \u001b[0;36mpandas._libs.hashtable.PyObjectHashTable.get_item\u001b[0;34m()\u001b[0m\n",
      "File \u001b[0;32mpandas/_libs/hashtable_class_helper.pxi:7088\u001b[0m, in \u001b[0;36mpandas._libs.hashtable.PyObjectHashTable.get_item\u001b[0;34m()\u001b[0m\n",
      "\u001b[0;31mKeyError\u001b[0m: 'entSnippets'",
      "\nThe above exception was the direct cause of the following exception:\n",
      "\u001b[0;31mKeyError\u001b[0m                                  Traceback (most recent call last)",
      "Cell \u001b[0;32mIn[156], line 11\u001b[0m\n\u001b[1;32m      8\u001b[0m valDf[\u001b[38;5;124m\"\u001b[39m\u001b[38;5;124mgroundTruth\u001b[39m\u001b[38;5;124m\"\u001b[39m] \u001b[38;5;241m=\u001b[39m valDf[\u001b[38;5;124m\"\u001b[39m\u001b[38;5;124mtag\u001b[39m\u001b[38;5;124m\"\u001b[39m] \u001b[38;5;241m==\u001b[39m \u001b[38;5;124m\"\u001b[39m\u001b[38;5;124mHOST\u001b[39m\u001b[38;5;124m\"\u001b[39m\n\u001b[1;32m      9\u001b[0m valDf[\u001b[38;5;124m\"\u001b[39m\u001b[38;5;124mgroundTruth\u001b[39m\u001b[38;5;124m\"\u001b[39m] \u001b[38;5;241m=\u001b[39m valDf[\u001b[38;5;124m\"\u001b[39m\u001b[38;5;124mgroundTruth\u001b[39m\u001b[38;5;124m\"\u001b[39m]\u001b[38;5;241m.\u001b[39mastype(\u001b[38;5;28mint\u001b[39m)\n\u001b[0;32m---> 11\u001b[0m trainDf[\u001b[38;5;124m\"\u001b[39m\u001b[38;5;124msnippetStart\u001b[39m\u001b[38;5;124m\"\u001b[39m] \u001b[38;5;241m=\u001b[39m \u001b[43mtrainDf\u001b[49m\u001b[38;5;241;43m.\u001b[39;49m\u001b[43mapply\u001b[49m\u001b[43m(\u001b[49m\u001b[38;5;28;43;01mlambda\u001b[39;49;00m\u001b[43m \u001b[49m\u001b[43mx\u001b[49m\u001b[43m:\u001b[49m\u001b[43m \u001b[49m\u001b[43mx\u001b[49m\u001b[43m[\u001b[49m\u001b[38;5;124;43m\"\u001b[39;49m\u001b[38;5;124;43mentSnippets\u001b[39;49m\u001b[38;5;124;43m\"\u001b[39;49m\u001b[43m]\u001b[49m\u001b[38;5;241;43m.\u001b[39;49m\u001b[43mlower\u001b[49m\u001b[43m(\u001b[49m\u001b[43m)\u001b[49m\u001b[38;5;241;43m.\u001b[39;49m\u001b[43mfind\u001b[49m\u001b[43m(\u001b[49m\u001b[43mx\u001b[49m\u001b[43m[\u001b[49m\u001b[38;5;124;43m\"\u001b[39;49m\u001b[38;5;124;43ment\u001b[39;49m\u001b[38;5;124;43m\"\u001b[39;49m\u001b[43m]\u001b[49m\u001b[38;5;241;43m.\u001b[39;49m\u001b[43mlower\u001b[49m\u001b[43m(\u001b[49m\u001b[43m)\u001b[49m\u001b[43m)\u001b[49m\u001b[43m,\u001b[49m\u001b[43m \u001b[49m\u001b[43maxis\u001b[49m\u001b[38;5;241;43m=\u001b[39;49m\u001b[38;5;241;43m1\u001b[39;49m\u001b[43m)\u001b[49m\n\u001b[1;32m     12\u001b[0m valDf[\u001b[38;5;124m\"\u001b[39m\u001b[38;5;124msnippetStart\u001b[39m\u001b[38;5;124m\"\u001b[39m] \u001b[38;5;241m=\u001b[39m valDf\u001b[38;5;241m.\u001b[39mapply(\u001b[38;5;28;01mlambda\u001b[39;00m x: x[\u001b[38;5;124m\"\u001b[39m\u001b[38;5;124mentSnippets\u001b[39m\u001b[38;5;124m\"\u001b[39m]\u001b[38;5;241m.\u001b[39mlower()\u001b[38;5;241m.\u001b[39mfind(x[\u001b[38;5;124m\"\u001b[39m\u001b[38;5;124ment\u001b[39m\u001b[38;5;124m\"\u001b[39m]\u001b[38;5;241m.\u001b[39mlower()), axis\u001b[38;5;241m=\u001b[39m\u001b[38;5;241m1\u001b[39m)\n\u001b[1;32m     14\u001b[0m trainDf \u001b[38;5;241m=\u001b[39m trainDf[trainDf[\u001b[38;5;124m\"\u001b[39m\u001b[38;5;124msnippetStart\u001b[39m\u001b[38;5;124m\"\u001b[39m] \u001b[38;5;241m!=\u001b[39m \u001b[38;5;241m-\u001b[39m\u001b[38;5;241m1\u001b[39m]\n",
      "File \u001b[0;32m/opt/anaconda/lib/python3.9/site-packages/pandas/core/frame.py:9423\u001b[0m, in \u001b[0;36mDataFrame.apply\u001b[0;34m(self, func, axis, raw, result_type, args, **kwargs)\u001b[0m\n\u001b[1;32m   9412\u001b[0m \u001b[38;5;28;01mfrom\u001b[39;00m \u001b[38;5;21;01mpandas\u001b[39;00m\u001b[38;5;21;01m.\u001b[39;00m\u001b[38;5;21;01mcore\u001b[39;00m\u001b[38;5;21;01m.\u001b[39;00m\u001b[38;5;21;01mapply\u001b[39;00m \u001b[38;5;28;01mimport\u001b[39;00m frame_apply\n\u001b[1;32m   9414\u001b[0m op \u001b[38;5;241m=\u001b[39m frame_apply(\n\u001b[1;32m   9415\u001b[0m     \u001b[38;5;28mself\u001b[39m,\n\u001b[1;32m   9416\u001b[0m     func\u001b[38;5;241m=\u001b[39mfunc,\n\u001b[0;32m   (...)\u001b[0m\n\u001b[1;32m   9421\u001b[0m     kwargs\u001b[38;5;241m=\u001b[39mkwargs,\n\u001b[1;32m   9422\u001b[0m )\n\u001b[0;32m-> 9423\u001b[0m \u001b[38;5;28;01mreturn\u001b[39;00m \u001b[43mop\u001b[49m\u001b[38;5;241;43m.\u001b[39;49m\u001b[43mapply\u001b[49m\u001b[43m(\u001b[49m\u001b[43m)\u001b[49m\u001b[38;5;241m.\u001b[39m__finalize__(\u001b[38;5;28mself\u001b[39m, method\u001b[38;5;241m=\u001b[39m\u001b[38;5;124m\"\u001b[39m\u001b[38;5;124mapply\u001b[39m\u001b[38;5;124m\"\u001b[39m)\n",
      "File \u001b[0;32m/opt/anaconda/lib/python3.9/site-packages/pandas/core/apply.py:678\u001b[0m, in \u001b[0;36mFrameApply.apply\u001b[0;34m(self)\u001b[0m\n\u001b[1;32m    675\u001b[0m \u001b[38;5;28;01melif\u001b[39;00m \u001b[38;5;28mself\u001b[39m\u001b[38;5;241m.\u001b[39mraw:\n\u001b[1;32m    676\u001b[0m     \u001b[38;5;28;01mreturn\u001b[39;00m \u001b[38;5;28mself\u001b[39m\u001b[38;5;241m.\u001b[39mapply_raw()\n\u001b[0;32m--> 678\u001b[0m \u001b[38;5;28;01mreturn\u001b[39;00m \u001b[38;5;28;43mself\u001b[39;49m\u001b[38;5;241;43m.\u001b[39;49m\u001b[43mapply_standard\u001b[49m\u001b[43m(\u001b[49m\u001b[43m)\u001b[49m\n",
      "File \u001b[0;32m/opt/anaconda/lib/python3.9/site-packages/pandas/core/apply.py:798\u001b[0m, in \u001b[0;36mFrameApply.apply_standard\u001b[0;34m(self)\u001b[0m\n\u001b[1;32m    797\u001b[0m \u001b[38;5;28;01mdef\u001b[39;00m \u001b[38;5;21mapply_standard\u001b[39m(\u001b[38;5;28mself\u001b[39m):\n\u001b[0;32m--> 798\u001b[0m     results, res_index \u001b[38;5;241m=\u001b[39m \u001b[38;5;28;43mself\u001b[39;49m\u001b[38;5;241;43m.\u001b[39;49m\u001b[43mapply_series_generator\u001b[49m\u001b[43m(\u001b[49m\u001b[43m)\u001b[49m\n\u001b[1;32m    800\u001b[0m     \u001b[38;5;66;03m# wrap results\u001b[39;00m\n\u001b[1;32m    801\u001b[0m     \u001b[38;5;28;01mreturn\u001b[39;00m \u001b[38;5;28mself\u001b[39m\u001b[38;5;241m.\u001b[39mwrap_results(results, res_index)\n",
      "File \u001b[0;32m/opt/anaconda/lib/python3.9/site-packages/pandas/core/apply.py:814\u001b[0m, in \u001b[0;36mFrameApply.apply_series_generator\u001b[0;34m(self)\u001b[0m\n\u001b[1;32m    811\u001b[0m \u001b[38;5;28;01mwith\u001b[39;00m option_context(\u001b[38;5;124m\"\u001b[39m\u001b[38;5;124mmode.chained_assignment\u001b[39m\u001b[38;5;124m\"\u001b[39m, \u001b[38;5;28;01mNone\u001b[39;00m):\n\u001b[1;32m    812\u001b[0m     \u001b[38;5;28;01mfor\u001b[39;00m i, v \u001b[38;5;129;01min\u001b[39;00m \u001b[38;5;28menumerate\u001b[39m(series_gen):\n\u001b[1;32m    813\u001b[0m         \u001b[38;5;66;03m# ignore SettingWithCopy here in case the user mutates\u001b[39;00m\n\u001b[0;32m--> 814\u001b[0m         results[i] \u001b[38;5;241m=\u001b[39m \u001b[38;5;28;43mself\u001b[39;49m\u001b[38;5;241;43m.\u001b[39;49m\u001b[43mf\u001b[49m\u001b[43m(\u001b[49m\u001b[43mv\u001b[49m\u001b[43m)\u001b[49m\n\u001b[1;32m    815\u001b[0m         \u001b[38;5;28;01mif\u001b[39;00m \u001b[38;5;28misinstance\u001b[39m(results[i], ABCSeries):\n\u001b[1;32m    816\u001b[0m             \u001b[38;5;66;03m# If we have a view on v, we need to make a copy because\u001b[39;00m\n\u001b[1;32m    817\u001b[0m             \u001b[38;5;66;03m#  series_generator will swap out the underlying data\u001b[39;00m\n\u001b[1;32m    818\u001b[0m             results[i] \u001b[38;5;241m=\u001b[39m results[i]\u001b[38;5;241m.\u001b[39mcopy(deep\u001b[38;5;241m=\u001b[39m\u001b[38;5;28;01mFalse\u001b[39;00m)\n",
      "Cell \u001b[0;32mIn[156], line 11\u001b[0m, in \u001b[0;36m<lambda>\u001b[0;34m(x)\u001b[0m\n\u001b[1;32m      8\u001b[0m valDf[\u001b[38;5;124m\"\u001b[39m\u001b[38;5;124mgroundTruth\u001b[39m\u001b[38;5;124m\"\u001b[39m] \u001b[38;5;241m=\u001b[39m valDf[\u001b[38;5;124m\"\u001b[39m\u001b[38;5;124mtag\u001b[39m\u001b[38;5;124m\"\u001b[39m] \u001b[38;5;241m==\u001b[39m \u001b[38;5;124m\"\u001b[39m\u001b[38;5;124mHOST\u001b[39m\u001b[38;5;124m\"\u001b[39m\n\u001b[1;32m      9\u001b[0m valDf[\u001b[38;5;124m\"\u001b[39m\u001b[38;5;124mgroundTruth\u001b[39m\u001b[38;5;124m\"\u001b[39m] \u001b[38;5;241m=\u001b[39m valDf[\u001b[38;5;124m\"\u001b[39m\u001b[38;5;124mgroundTruth\u001b[39m\u001b[38;5;124m\"\u001b[39m]\u001b[38;5;241m.\u001b[39mastype(\u001b[38;5;28mint\u001b[39m)\n\u001b[0;32m---> 11\u001b[0m trainDf[\u001b[38;5;124m\"\u001b[39m\u001b[38;5;124msnippetStart\u001b[39m\u001b[38;5;124m\"\u001b[39m] \u001b[38;5;241m=\u001b[39m trainDf\u001b[38;5;241m.\u001b[39mapply(\u001b[38;5;28;01mlambda\u001b[39;00m x: \u001b[43mx\u001b[49m\u001b[43m[\u001b[49m\u001b[38;5;124;43m\"\u001b[39;49m\u001b[38;5;124;43mentSnippets\u001b[39;49m\u001b[38;5;124;43m\"\u001b[39;49m\u001b[43m]\u001b[49m\u001b[38;5;241m.\u001b[39mlower()\u001b[38;5;241m.\u001b[39mfind(x[\u001b[38;5;124m\"\u001b[39m\u001b[38;5;124ment\u001b[39m\u001b[38;5;124m\"\u001b[39m]\u001b[38;5;241m.\u001b[39mlower()), axis\u001b[38;5;241m=\u001b[39m\u001b[38;5;241m1\u001b[39m)\n\u001b[1;32m     12\u001b[0m valDf[\u001b[38;5;124m\"\u001b[39m\u001b[38;5;124msnippetStart\u001b[39m\u001b[38;5;124m\"\u001b[39m] \u001b[38;5;241m=\u001b[39m valDf\u001b[38;5;241m.\u001b[39mapply(\u001b[38;5;28;01mlambda\u001b[39;00m x: x[\u001b[38;5;124m\"\u001b[39m\u001b[38;5;124mentSnippets\u001b[39m\u001b[38;5;124m\"\u001b[39m]\u001b[38;5;241m.\u001b[39mlower()\u001b[38;5;241m.\u001b[39mfind(x[\u001b[38;5;124m\"\u001b[39m\u001b[38;5;124ment\u001b[39m\u001b[38;5;124m\"\u001b[39m]\u001b[38;5;241m.\u001b[39mlower()), axis\u001b[38;5;241m=\u001b[39m\u001b[38;5;241m1\u001b[39m)\n\u001b[1;32m     14\u001b[0m trainDf \u001b[38;5;241m=\u001b[39m trainDf[trainDf[\u001b[38;5;124m\"\u001b[39m\u001b[38;5;124msnippetStart\u001b[39m\u001b[38;5;124m\"\u001b[39m] \u001b[38;5;241m!=\u001b[39m \u001b[38;5;241m-\u001b[39m\u001b[38;5;241m1\u001b[39m]\n",
      "File \u001b[0;32m/opt/anaconda/lib/python3.9/site-packages/pandas/core/series.py:1007\u001b[0m, in \u001b[0;36mSeries.__getitem__\u001b[0;34m(self, key)\u001b[0m\n\u001b[1;32m   1004\u001b[0m     \u001b[38;5;28;01mreturn\u001b[39;00m \u001b[38;5;28mself\u001b[39m\u001b[38;5;241m.\u001b[39m_values[key]\n\u001b[1;32m   1006\u001b[0m \u001b[38;5;28;01melif\u001b[39;00m key_is_scalar:\n\u001b[0;32m-> 1007\u001b[0m     \u001b[38;5;28;01mreturn\u001b[39;00m \u001b[38;5;28;43mself\u001b[39;49m\u001b[38;5;241;43m.\u001b[39;49m\u001b[43m_get_value\u001b[49m\u001b[43m(\u001b[49m\u001b[43mkey\u001b[49m\u001b[43m)\u001b[49m\n\u001b[1;32m   1009\u001b[0m \u001b[38;5;28;01mif\u001b[39;00m is_hashable(key):\n\u001b[1;32m   1010\u001b[0m     \u001b[38;5;66;03m# Otherwise index.get_value will raise InvalidIndexError\u001b[39;00m\n\u001b[1;32m   1011\u001b[0m     \u001b[38;5;28;01mtry\u001b[39;00m:\n\u001b[1;32m   1012\u001b[0m         \u001b[38;5;66;03m# For labels that don't resolve as scalars like tuples and frozensets\u001b[39;00m\n",
      "File \u001b[0;32m/opt/anaconda/lib/python3.9/site-packages/pandas/core/series.py:1116\u001b[0m, in \u001b[0;36mSeries._get_value\u001b[0;34m(self, label, takeable)\u001b[0m\n\u001b[1;32m   1113\u001b[0m     \u001b[38;5;28;01mreturn\u001b[39;00m \u001b[38;5;28mself\u001b[39m\u001b[38;5;241m.\u001b[39m_values[label]\n\u001b[1;32m   1115\u001b[0m \u001b[38;5;66;03m# Similar to Index.get_value, but we do not fall back to positional\u001b[39;00m\n\u001b[0;32m-> 1116\u001b[0m loc \u001b[38;5;241m=\u001b[39m \u001b[38;5;28;43mself\u001b[39;49m\u001b[38;5;241;43m.\u001b[39;49m\u001b[43mindex\u001b[49m\u001b[38;5;241;43m.\u001b[39;49m\u001b[43mget_loc\u001b[49m\u001b[43m(\u001b[49m\u001b[43mlabel\u001b[49m\u001b[43m)\u001b[49m\n\u001b[1;32m   1118\u001b[0m \u001b[38;5;28;01mif\u001b[39;00m is_integer(loc):\n\u001b[1;32m   1119\u001b[0m     \u001b[38;5;28;01mreturn\u001b[39;00m \u001b[38;5;28mself\u001b[39m\u001b[38;5;241m.\u001b[39m_values[loc]\n",
      "File \u001b[0;32m/opt/anaconda/lib/python3.9/site-packages/pandas/core/indexes/base.py:3655\u001b[0m, in \u001b[0;36mIndex.get_loc\u001b[0;34m(self, key)\u001b[0m\n\u001b[1;32m   3653\u001b[0m     \u001b[38;5;28;01mreturn\u001b[39;00m \u001b[38;5;28mself\u001b[39m\u001b[38;5;241m.\u001b[39m_engine\u001b[38;5;241m.\u001b[39mget_loc(casted_key)\n\u001b[1;32m   3654\u001b[0m \u001b[38;5;28;01mexcept\u001b[39;00m \u001b[38;5;167;01mKeyError\u001b[39;00m \u001b[38;5;28;01mas\u001b[39;00m err:\n\u001b[0;32m-> 3655\u001b[0m     \u001b[38;5;28;01mraise\u001b[39;00m \u001b[38;5;167;01mKeyError\u001b[39;00m(key) \u001b[38;5;28;01mfrom\u001b[39;00m \u001b[38;5;21;01merr\u001b[39;00m\n\u001b[1;32m   3656\u001b[0m \u001b[38;5;28;01mexcept\u001b[39;00m \u001b[38;5;167;01mTypeError\u001b[39;00m:\n\u001b[1;32m   3657\u001b[0m     \u001b[38;5;66;03m# If we have a listlike key, _check_indexing_error will raise\u001b[39;00m\n\u001b[1;32m   3658\u001b[0m     \u001b[38;5;66;03m#  InvalidIndexError. Otherwise we fall through and re-raise\u001b[39;00m\n\u001b[1;32m   3659\u001b[0m     \u001b[38;5;66;03m#  the TypeError.\u001b[39;00m\n\u001b[1;32m   3660\u001b[0m     \u001b[38;5;28mself\u001b[39m\u001b[38;5;241m.\u001b[39m_check_indexing_error(key)\n",
      "\u001b[0;31mKeyError\u001b[0m: 'entSnippets'"
     ]
    }
   ],
   "source": [
    "trainDf = pd.read_csv(\"/shared/3/projects/benlitterer/podcastData/hostIdentification/trainTestVal2_5/500trainLabelled.csv\")\n",
    "trainDf = trainDf.dropna(subset=[\"tag\"])\n",
    "trainDf[\"groundTruth\"] = trainDf[\"tag\"] == \"HOST\"\n",
    "trainDf[\"groundTruth\"] = trainDf[\"groundTruth\"].astype(int)\n",
    "\n",
    "valDf = pd.read_csv(\"/shared/3/projects/benlitterer/podcastData/hostIdentification/trainTestVal2_5/500valLabelled.csv\")\n",
    "valDf = valDf.dropna(subset=[\"tag\"])\n",
    "valDf[\"groundTruth\"] = valDf[\"tag\"] == \"HOST\"\n",
    "valDf[\"groundTruth\"] = valDf[\"groundTruth\"].astype(int)\n",
    "\n",
    "trainDf[\"snippetStart\"] = trainDf.apply(lambda x: x[\"entSnippets\"].lower().find(x[\"ent\"].lower()), axis=1)\n",
    "valDf[\"snippetStart\"] = valDf.apply(lambda x: x[\"entSnippets\"].lower().find(x[\"ent\"].lower()), axis=1)\n",
    "\n",
    "trainDf = trainDf[trainDf[\"snippetStart\"] != -1]\n",
    "valDf = valDf[valDf[\"snippetStart\"] != -1]\n",
    "\n",
    "trainDf[\"snippetEnd\"] = trainDf[\"snippetStart\"] + trainDf[\"500end\"] - trainDf[\"500start\"]\n",
    "valDf[\"snippetEnd\"] = valDf[\"snippetStart\"] + valDf[\"500end\"] - valDf[\"500start\"]\n",
    "\n",
    "def extractEnt(inRow): \n",
    "    return inRow[\"entSnippets\"][inRow[\"snippetStart\"]:inRow[\"snippetEnd\"]]\n",
    "\n",
    "#just for sanity checking whether our inferred start/end indices are correct \n",
    "#looks good!\n",
    "trainDf[\"extractedEnt\"] = trainDf.apply(extractEnt, axis=1)\n",
    "valDf[\"extractedEnt\"] = valDf.apply(extractEnt, axis=1)"
   ]
  },
  {
   "cell_type": "code",
   "execution_count": 107,
   "id": "ac31fb66-b075-4576-a72c-fa86eeaa1f54",
   "metadata": {},
   "outputs": [],
   "source": [
    "deviceNum = 1\n",
    "device = torch.device(\"cuda:\" + str(deviceNum) if torch.cuda.is_available() else \"cpu\")"
   ]
  },
  {
   "cell_type": "code",
   "execution_count": 108,
   "id": "bfc38ffd-442c-4378-9131-2d9a1eb089ff",
   "metadata": {},
   "outputs": [],
   "source": [
    "TRAIN_FRAC = .7 \n",
    "VALID_FRAC = .1\n",
    "TEST_FRAC = .2\n",
    "\n",
    "#put ground truth values into a list \n",
    "trainDf = trainDf[[\"entSnippets\", \"groundTruth\", \"snippetStart\", \"snippetEnd\"]] \n",
    "trainDf = trainDf.reset_index(drop=True)\n",
    "\n",
    "valDf = valDf[[\"entSnippets\", \"groundTruth\", \"snippetStart\", \"snippetEnd\"]] \n",
    "valDf = valDf.reset_index(drop=True)\n",
    "\n",
    "#get train, valid, test \n",
    "#trainDf, testDf = train_test_split(leanDf, test_size=0.3) \n",
    "#validDf, testDf = train_test_split(testDf, test_size=0.666) \n",
    "\n",
    "trainDataset = Dataset.from_pandas(trainDf)\n",
    "validDataset = Dataset.from_pandas(valDf)\n",
    "#testDataset = Datase|t.from_pandas(testDf)"
   ]
  },
  {
   "cell_type": "code",
   "execution_count": 109,
   "id": "6ddedec8-3abd-4880-8262-8baaa78b6119",
   "metadata": {},
   "outputs": [
    {
     "data": {
      "text/html": [
       "<div>\n",
       "<style scoped>\n",
       "    .dataframe tbody tr th:only-of-type {\n",
       "        vertical-align: middle;\n",
       "    }\n",
       "\n",
       "    .dataframe tbody tr th {\n",
       "        vertical-align: top;\n",
       "    }\n",
       "\n",
       "    .dataframe thead th {\n",
       "        text-align: right;\n",
       "    }\n",
       "</style>\n",
       "<table border=\"1\" class=\"dataframe\">\n",
       "  <thead>\n",
       "    <tr style=\"text-align: right;\">\n",
       "      <th></th>\n",
       "      <th>entSnippets</th>\n",
       "      <th>groundTruth</th>\n",
       "      <th>snippetStart</th>\n",
       "      <th>snippetEnd</th>\n",
       "    </tr>\n",
       "  </thead>\n",
       "  <tbody>\n",
       "    <tr>\n",
       "      <th>0</th>\n",
       "      <td>[\"not allowed to talk about on Slack. It's lik...</td>\n",
       "      <td>0</td>\n",
       "      <td>75</td>\n",
       "      <td>87</td>\n",
       "    </tr>\n",
       "    <tr>\n",
       "      <th>1</th>\n",
       "      <td>['http://www.OperationCrossTraining.comFaceboo...</td>\n",
       "      <td>1</td>\n",
       "      <td>303</td>\n",
       "      <td>317</td>\n",
       "    </tr>\n",
       "    <tr>\n",
       "      <th>2</th>\n",
       "      <td>['WoMed is a space to discuss, debate, and cel...</td>\n",
       "      <td>1</td>\n",
       "      <td>87</td>\n",
       "      <td>102</td>\n",
       "    </tr>\n",
       "    <tr>\n",
       "      <th>3</th>\n",
       "      <td>['Yoga Magic hosted by ', 'Ashley Sondergaard'...</td>\n",
       "      <td>1</td>\n",
       "      <td>27</td>\n",
       "      <td>45</td>\n",
       "    </tr>\n",
       "    <tr>\n",
       "      <th>4</th>\n",
       "      <td>['and the City meets Howard Stern if he minore...</td>\n",
       "      <td>0</td>\n",
       "      <td>86</td>\n",
       "      <td>99</td>\n",
       "    </tr>\n",
       "  </tbody>\n",
       "</table>\n",
       "</div>"
      ],
      "text/plain": [
       "                                         entSnippets  groundTruth  \\\n",
       "0  [\"not allowed to talk about on Slack. It's lik...            0   \n",
       "1  ['http://www.OperationCrossTraining.comFaceboo...            1   \n",
       "2  ['WoMed is a space to discuss, debate, and cel...            1   \n",
       "3  ['Yoga Magic hosted by ', 'Ashley Sondergaard'...            1   \n",
       "4  ['and the City meets Howard Stern if he minore...            0   \n",
       "\n",
       "   snippetStart  snippetEnd  \n",
       "0            75          87  \n",
       "1           303         317  \n",
       "2            87         102  \n",
       "3            27          45  \n",
       "4            86          99  "
      ]
     },
     "execution_count": 109,
     "metadata": {},
     "output_type": "execute_result"
    }
   ],
   "source": [
    "valDf.head() "
   ]
  },
  {
   "cell_type": "code",
   "execution_count": 110,
   "id": "77cba0f8-6f6f-42ff-b7da-639c2db72b2c",
   "metadata": {},
   "outputs": [],
   "source": [
    "#TODO: figure out by tokenizer isn't padding out to max_length "
   ]
  },
  {
   "cell_type": "code",
   "execution_count": 111,
   "id": "4d19311d-611d-4e52-b55b-33dabf32cca0",
   "metadata": {},
   "outputs": [],
   "source": [
    "# Preprocessing\n",
    "tokenizer = RobertaTokenizerFast.from_pretrained('roberta-base', max_length=512, padding=\"max_length\", truncation=True)"
   ]
  },
  {
   "cell_type": "code",
   "execution_count": 112,
   "id": "ebcfcff9-c3be-4120-bd10-21b79754b95b",
   "metadata": {},
   "outputs": [
    {
     "data": {
      "application/vnd.jupyter.widget-view+json": {
       "model_id": "204190d1e04a4f0cb7b5256f87050941",
       "version_major": 2,
       "version_minor": 0
      },
      "text/plain": [
       "Map:   0%|          | 0/298 [00:00<?, ? examples/s]"
      ]
     },
     "metadata": {},
     "output_type": "display_data"
    },
    {
     "data": {
      "application/vnd.jupyter.widget-view+json": {
       "model_id": "50712d7da7414894a7c548c066124b21",
       "version_major": 2,
       "version_minor": 0
      },
      "text/plain": [
       "Map:   0%|          | 0/99 [00:00<?, ? examples/s]"
      ]
     },
     "metadata": {},
     "output_type": "display_data"
    }
   ],
   "source": [
    "# define a function that will tokenize the model, and will return the relevant inputs for the model\n",
    "def tokenization(batched_text):\n",
    "    return tokenizer(batched_text['entSnippets'], padding = \"max_length\", truncation=True, return_offsets_mapping=True)\n",
    "\n",
    "trainDataset = trainDataset.map(tokenization, batched = True, batch_size = 20)\n",
    "validDataset = validDataset.map(tokenization, batched = True, batch_size = 20)\n",
    "#testDataset = testDataset.map(tokenization, batched = True, batch_size = 20)"
   ]
  },
  {
   "cell_type": "code",
   "execution_count": 113,
   "id": "07ab653e-eea0-4188-96e9-3eb8b40ea48c",
   "metadata": {},
   "outputs": [],
   "source": [
    "trainDataset.set_format(type='torch', columns=[\"entSnippets\", \"groundTruth\", \"input_ids\", \"snippetStart\", \"snippetEnd\", \"attention_mask\", \"offset_mapping\"])\n",
    "validDataset.set_format(type='torch', columns=[\"entSnippets\", \"groundTruth\", \"input_ids\", \"snippetStart\", \"snippetEnd\", \"attention_mask\", \"offset_mapping\"])"
   ]
  },
  {
   "cell_type": "code",
   "execution_count": 114,
   "id": "d02c986c-04a2-438a-b97e-a5fd883e0452",
   "metadata": {},
   "outputs": [],
   "source": [
    "#we need to save the offset of our entity and then index token in the embedding output\n",
    "#tokenizer(\"hello world how is everyone doing today\", padding = \"max_length\", truncation=True, return_offsets_mapping=True)[\"offset_mapping\"]"
   ]
  },
  {
   "cell_type": "code",
   "execution_count": 115,
   "id": "110b6ded-0662-4364-be0e-160e8cfcc89a",
   "metadata": {},
   "outputs": [
    {
     "name": "stdout",
     "output_type": "stream",
     "text": [
      "(298, 4)\n",
      "(99, 4)\n"
     ]
    }
   ],
   "source": [
    "#sanity check \n",
    "print(trainDf.shape) \n",
    "print(valDf.shape) \n",
    "#print(testDf.shape) \n",
    "#print(leanDf.shape) "
   ]
  },
  {
   "cell_type": "code",
   "execution_count": 116,
   "id": "dd3a1582-266f-4d6a-a5fa-31825e9f0386",
   "metadata": {},
   "outputs": [
    {
     "data": {
      "text/plain": [
       "512"
      ]
     },
     "execution_count": 116,
     "metadata": {},
     "output_type": "execute_result"
    }
   ],
   "source": [
    "len(trainDataset[22][\"input_ids\"]) "
   ]
  },
  {
   "cell_type": "code",
   "execution_count": 138,
   "id": "66ab04f7-b542-4a08-9ca9-9da2a939e440",
   "metadata": {},
   "outputs": [
    {
     "name": "stderr",
     "output_type": "stream",
     "text": [
      "Some weights of RobertaForTokenClassification were not initialized from the model checkpoint at roberta-base and are newly initialized: ['classifier.weight', 'classifier.bias']\n",
      "You should probably TRAIN this model on a down-stream task to be able to use it for predictions and inference.\n"
     ]
    }
   ],
   "source": [
    "#model stuff\n",
    "model = RobertaForTokenClassification.from_pretrained('roberta-base').to(device) "
   ]
  },
  {
   "cell_type": "code",
   "execution_count": 139,
   "id": "0ea76864-1923-4212-a20a-67103e79f0ba",
   "metadata": {},
   "outputs": [],
   "source": [
    "#peek at config\n",
    "#dropout might be the only thing we really want to look into here \n",
    "#configuration "
   ]
  },
  {
   "cell_type": "code",
   "execution_count": 140,
   "id": "705e8591-45ad-4079-90fc-5deac58b740b",
   "metadata": {},
   "outputs": [
    {
     "name": "stdout",
     "output_type": "stream",
     "text": [
      "592\n",
      "(298, 4)\n"
     ]
    }
   ],
   "source": [
    "BATCH_SIZE=4\n",
    "EPOCHS=2\n",
    "\n",
    "# initialize everything\n",
    "# and setup a warmup for the first ~10% steps\n",
    "optim = torch.optim.Adam(model.parameters(), lr=2e-6)\n",
    "total_steps = int(len(trainDataset) / BATCH_SIZE)*EPOCHS\n",
    "warmup_steps = int(0.05 * total_steps)\n",
    "scheduler = get_linear_schedule_with_warmup(optim, num_warmup_steps=0, num_training_steps=total_steps - warmup_steps)\n",
    "loss_func = torch.nn.CrossEntropyLoss()\n",
    "\n",
    "#sanity check \n",
    "print(total_steps * BATCH_SIZE)\n",
    "print(trainDf.shape) "
   ]
  },
  {
   "cell_type": "code",
   "execution_count": 141,
   "id": "c361cc45-ae0d-4972-8f39-55a2a99ee29b",
   "metadata": {},
   "outputs": [
    {
     "data": {
      "text/plain": [
       "148"
      ]
     },
     "execution_count": 141,
     "metadata": {},
     "output_type": "execute_result"
    }
   ],
   "source": [
    "total_steps"
   ]
  },
  {
   "cell_type": "code",
   "execution_count": 142,
   "id": "2c55812d-6568-4e88-ba62-f3796e36a30c",
   "metadata": {},
   "outputs": [],
   "source": [
    "trainLoader = torch.utils.data.DataLoader(trainDataset, batch_size=BATCH_SIZE, shuffle=True)\n",
    "validLoader = torch.utils.data.DataLoader(validDataset, batch_size=BATCH_SIZE, shuffle=False)"
   ]
  },
  {
   "cell_type": "code",
   "execution_count": 143,
   "id": "b3ebe6fc-7f31-40e1-a850-6720c3bba6ab",
   "metadata": {},
   "outputs": [],
   "source": [
    "#find the token indices which correspond to our entity \n",
    "def getTokenIndices(starts, ends, allOffsets):\n",
    "    outIndices = [] \n",
    "    for i in range(0, len(starts)): \n",
    "        start = starts[i]\n",
    "        end = ends[i] \n",
    "        offsets = allOffsets[i]\n",
    "        \n",
    "        \"\"\"\n",
    "        print(start) \n",
    "        print(end) \n",
    "        print(offsets[:20]) \n",
    "        \"\"\"\n",
    "        \n",
    "        currIndices = []\n",
    "        for j, offset in enumerate(offsets): \n",
    "            offsetL, offsetR = offset\n",
    "            if offsetL >= start: \n",
    "                currIndices.append(j)\n",
    "        \n",
    "        #we can modify this code as need be \n",
    "        outIndices.append(min(currIndices)) \n",
    "        \n",
    "    return outIndices"
   ]
  },
  {
   "cell_type": "code",
   "execution_count": 144,
   "id": "61cc4b02-9fdf-455c-b402-943811d11755",
   "metadata": {},
   "outputs": [
    {
     "data": {
      "text/plain": [
       "'\\ndebugging getTokenIndices\\n#where are we supposed to start \\nprint(outIndices[2])\\n\\n#check check the offsets for the index we\\'re supposed to use \\nprint(batch[\"offset_mapping\"][2][6])\\nprint(batch[\"entSnippets\"][2][17:21])\\n\\n#looks good from checking examples \\n'"
      ]
     },
     "execution_count": 144,
     "metadata": {},
     "output_type": "execute_result"
    }
   ],
   "source": [
    "\"\"\"\n",
    "debugging getTokenIndices\n",
    "#where are we supposed to start \n",
    "print(outIndices[2])\n",
    "\n",
    "#check check the offsets for the index we're supposed to use \n",
    "print(batch[\"offset_mapping\"][2][6])\n",
    "print(batch[\"entSnippets\"][2][17:21])\n",
    "\n",
    "#looks good from checking examples \n",
    "\"\"\""
   ]
  },
  {
   "cell_type": "code",
   "execution_count": 145,
   "id": "bda84d1f-b6fd-4ca4-bcba-31c2e77d4d09",
   "metadata": {},
   "outputs": [],
   "source": [
    "#validation function \n",
    "def validate(model, validLoader, loss_func):\n",
    "    model.eval()\n",
    "    \n",
    "    outList = [[], []]\n",
    "    for batch in tqdm(validLoader): \n",
    "        \n",
    "        optim.zero_grad()\n",
    "        \n",
    "        input_ids = batch[\"input_ids\"].to(device) \n",
    "        attention_mask = batch[\"attention_mask\"].to(device) \n",
    "        output = model(input_ids, attention_mask=attention_mask)\n",
    "\n",
    "        #get the index/indices of our tokens that correspond to the entitiy we want to classify \n",
    "        outIndices = getTokenIndices(batch[\"snippetStart\"], batch[\"snippetEnd\"], batch[\"offset_mapping\"]) \n",
    "\n",
    "        #get the output logits only for the indices we care about\n",
    "        #i.e. where there's a named entity we seek to classify \n",
    "        tokenLogits = []\n",
    "        for i, logit in enumerate(output.logits): \n",
    "            index = outIndices[i]\n",
    "            #print(logic[index])  \n",
    "            #print(logit.shape)\n",
    "            tokenLogits.append(logit[index,:])\n",
    "\n",
    "        #run logits through softmax to normalize probabilities \n",
    "        tokenLogits = torch.stack(tokenLogits)\n",
    "        normedOutputs = nn.functional.softmax(tokenLogits, 1) \n",
    "        \n",
    "        #get class predictions \n",
    "        preds = normedOutputs.argmax(dim=1)\n",
    "        \n",
    "        #get groundtruth and compute loss \n",
    "        gt = batch[\"groundTruth\"].to(device)\n",
    "        loss = loss_func(normedOutputs, gt)\n",
    "        \n",
    "        outList[0] += preds.detach().cpu().tolist()\n",
    "        outList[1] += gt.detach().cpu().tolist() \n",
    "        \n",
    "    print(outList[0][:10]) \n",
    "    print(outList[1][:10])\n",
    "    print(sum([item == 0 for item in outList[0]]))\n",
    "    print(sum([item == 1 for item in outList[0]]))\n",
    "    f1 = f1_score(outList[0], outList[1]) \n",
    "    print(f1)\n",
    "    model.train()\n",
    "    return f1"
   ]
  },
  {
   "cell_type": "code",
   "execution_count": 146,
   "id": "63a9ac50-62e5-4dbd-afbe-42e7ae3de1dd",
   "metadata": {},
   "outputs": [
    {
     "name": "stdout",
     "output_type": "stream",
     "text": [
      "EPOCH: 0\n"
     ]
    },
    {
     "data": {
      "application/vnd.jupyter.widget-view+json": {
       "model_id": "1e4b6c94d0774c52a8f3c1fab0b614cb",
       "version_major": 2,
       "version_minor": 0
      },
      "text/plain": [
       "  0%|          | 0/75 [00:00<?, ?it/s]"
      ]
     },
     "metadata": {},
     "output_type": "display_data"
    },
    {
     "name": "stderr",
     "output_type": "stream",
     "text": [
      "/opt/anaconda/lib/python3.9/site-packages/numpy/core/fromnumeric.py:3432: RuntimeWarning: Mean of empty slice.\n",
      "  return _methods._mean(a, axis=axis, dtype=dtype,\n",
      "/opt/anaconda/lib/python3.9/site-packages/numpy/core/_methods.py:190: RuntimeWarning: invalid value encountered in double_scalars\n",
      "  ret = ret.dtype.type(ret / rcount)\n"
     ]
    },
    {
     "data": {
      "application/vnd.jupyter.widget-view+json": {
       "model_id": "f839c81ab3ad42c2a5e2b8636999320f",
       "version_major": 2,
       "version_minor": 0
      },
      "text/plain": [
       "  0%|          | 0/25 [00:00<?, ?it/s]"
      ]
     },
     "metadata": {},
     "output_type": "display_data"
    },
    {
     "name": "stdout",
     "output_type": "stream",
     "text": [
      "[0, 0, 0, 0, 0, 0, 0, 0, 0, 0]\n",
      "[0, 1, 1, 1, 0, 1, 0, 1, 1, 0]\n",
      "98\n",
      "1\n",
      "0.0\n",
      "[1.9858156028368793e-06]\n"
     ]
    },
    {
     "data": {
      "application/vnd.jupyter.widget-view+json": {
       "model_id": "ab67a0770f5148989a1512c38f891520",
       "version_major": 2,
       "version_minor": 0
      },
      "text/plain": [
       "  0%|          | 0/25 [00:00<?, ?it/s]"
      ]
     },
     "metadata": {},
     "output_type": "display_data"
    },
    {
     "name": "stdout",
     "output_type": "stream",
     "text": [
      "[0, 0, 1, 1, 0, 0, 0, 1, 0, 1]\n",
      "[0, 1, 1, 1, 0, 1, 0, 1, 1, 0]\n",
      "71\n",
      "28\n",
      "0.4150943396226415\n",
      "[1.8439716312056737e-06]\n"
     ]
    },
    {
     "data": {
      "application/vnd.jupyter.widget-view+json": {
       "model_id": "5a25405ca9cd4a63a4c71da1ab92eebe",
       "version_major": 2,
       "version_minor": 0
      },
      "text/plain": [
       "  0%|          | 0/25 [00:00<?, ?it/s]"
      ]
     },
     "metadata": {},
     "output_type": "display_data"
    },
    {
     "name": "stdout",
     "output_type": "stream",
     "text": [
      "[0, 1, 1, 1, 1, 1, 1, 1, 1, 1]\n",
      "[0, 1, 1, 1, 0, 1, 0, 1, 1, 0]\n",
      "21\n",
      "78\n",
      "0.8461538461538461\n",
      "[1.702127659574468e-06]\n"
     ]
    },
    {
     "data": {
      "application/vnd.jupyter.widget-view+json": {
       "model_id": "58de5b7e74ce432595c807bdec27b81b",
       "version_major": 2,
       "version_minor": 0
      },
      "text/plain": [
       "  0%|          | 0/25 [00:00<?, ?it/s]"
      ]
     },
     "metadata": {},
     "output_type": "display_data"
    },
    {
     "name": "stdout",
     "output_type": "stream",
     "text": [
      "[1, 1, 1, 1, 1, 1, 1, 1, 1, 1]\n",
      "[0, 1, 1, 1, 0, 1, 0, 1, 1, 0]\n",
      "4\n",
      "95\n",
      "0.8670520231213873\n",
      "[1.5602836879432624e-06]\n"
     ]
    },
    {
     "data": {
      "application/vnd.jupyter.widget-view+json": {
       "model_id": "e2245daef6e04bcd9ddf444aedd1d1ef",
       "version_major": 2,
       "version_minor": 0
      },
      "text/plain": [
       "  0%|          | 0/25 [00:00<?, ?it/s]"
      ]
     },
     "metadata": {},
     "output_type": "display_data"
    },
    {
     "name": "stdout",
     "output_type": "stream",
     "text": [
      "[1, 1, 1, 1, 1, 1, 1, 1, 1, 1]\n",
      "[0, 1, 1, 1, 0, 1, 0, 1, 1, 0]\n",
      "1\n",
      "98\n",
      "0.8863636363636364\n",
      "[1.4184397163120568e-06]\n"
     ]
    },
    {
     "data": {
      "application/vnd.jupyter.widget-view+json": {
       "model_id": "75b272f63aee4a38a75bede969ea0878",
       "version_major": 2,
       "version_minor": 0
      },
      "text/plain": [
       "  0%|          | 0/25 [00:00<?, ?it/s]"
      ]
     },
     "metadata": {},
     "output_type": "display_data"
    },
    {
     "name": "stdout",
     "output_type": "stream",
     "text": [
      "[1, 1, 1, 1, 1, 1, 1, 1, 1, 1]\n",
      "[0, 1, 1, 1, 0, 1, 0, 1, 1, 0]\n",
      "0\n",
      "99\n",
      "0.8813559322033898\n",
      "[1.276595744680851e-06]\n"
     ]
    },
    {
     "data": {
      "application/vnd.jupyter.widget-view+json": {
       "model_id": "e5b184d0136f4e7cb8b529f600f106a0",
       "version_major": 2,
       "version_minor": 0
      },
      "text/plain": [
       "  0%|          | 0/25 [00:00<?, ?it/s]"
      ]
     },
     "metadata": {},
     "output_type": "display_data"
    },
    {
     "name": "stdout",
     "output_type": "stream",
     "text": [
      "[1, 1, 1, 1, 1, 1, 1, 1, 1, 1]\n",
      "[0, 1, 1, 1, 0, 1, 0, 1, 1, 0]\n",
      "0\n",
      "99\n",
      "0.8813559322033898\n",
      "[1.1347517730496454e-06]\n"
     ]
    },
    {
     "data": {
      "application/vnd.jupyter.widget-view+json": {
       "model_id": "f155aba7c5d448dc932511c20b3b39fa",
       "version_major": 2,
       "version_minor": 0
      },
      "text/plain": [
       "  0%|          | 0/25 [00:00<?, ?it/s]"
      ]
     },
     "metadata": {},
     "output_type": "display_data"
    },
    {
     "name": "stdout",
     "output_type": "stream",
     "text": [
      "[1, 1, 1, 1, 1, 1, 1, 1, 1, 1]\n",
      "[0, 1, 1, 1, 0, 1, 0, 1, 1, 0]\n",
      "0\n",
      "99\n",
      "0.8813559322033898\n",
      "[9.929078014184397e-07]\n",
      "EPOCH: 1\n"
     ]
    },
    {
     "data": {
      "application/vnd.jupyter.widget-view+json": {
       "model_id": "74a894609c7545d88bad653b0ff7730e",
       "version_major": 2,
       "version_minor": 0
      },
      "text/plain": [
       "  0%|          | 0/75 [00:00<?, ?it/s]"
      ]
     },
     "metadata": {},
     "output_type": "display_data"
    },
    {
     "name": "stderr",
     "output_type": "stream",
     "text": [
      "/opt/anaconda/lib/python3.9/site-packages/numpy/core/fromnumeric.py:3432: RuntimeWarning: Mean of empty slice.\n",
      "  return _methods._mean(a, axis=axis, dtype=dtype,\n",
      "/opt/anaconda/lib/python3.9/site-packages/numpy/core/_methods.py:190: RuntimeWarning: invalid value encountered in double_scalars\n",
      "  ret = ret.dtype.type(ret / rcount)\n"
     ]
    },
    {
     "data": {
      "application/vnd.jupyter.widget-view+json": {
       "model_id": "07d32da2979b43a186473d63786b90c0",
       "version_major": 2,
       "version_minor": 0
      },
      "text/plain": [
       "  0%|          | 0/25 [00:00<?, ?it/s]"
      ]
     },
     "metadata": {},
     "output_type": "display_data"
    },
    {
     "name": "stdout",
     "output_type": "stream",
     "text": [
      "[1, 1, 1, 1, 1, 1, 1, 1, 1, 1]\n",
      "[0, 1, 1, 1, 0, 1, 0, 1, 1, 0]\n",
      "0\n",
      "99\n",
      "0.8813559322033898\n",
      "[9.219858156028369e-07]\n"
     ]
    },
    {
     "data": {
      "application/vnd.jupyter.widget-view+json": {
       "model_id": "530a8d4d561b4eafb1fcd8fb5ce53154",
       "version_major": 2,
       "version_minor": 0
      },
      "text/plain": [
       "  0%|          | 0/25 [00:00<?, ?it/s]"
      ]
     },
     "metadata": {},
     "output_type": "display_data"
    },
    {
     "name": "stdout",
     "output_type": "stream",
     "text": [
      "[1, 1, 1, 1, 1, 1, 1, 1, 1, 1]\n",
      "[0, 1, 1, 1, 0, 1, 0, 1, 1, 0]\n",
      "0\n",
      "99\n",
      "0.8813559322033898\n",
      "[7.801418439716312e-07]\n"
     ]
    },
    {
     "data": {
      "application/vnd.jupyter.widget-view+json": {
       "model_id": "33b5474dbb6f430cb81d710e8544fd4b",
       "version_major": 2,
       "version_minor": 0
      },
      "text/plain": [
       "  0%|          | 0/25 [00:00<?, ?it/s]"
      ]
     },
     "metadata": {},
     "output_type": "display_data"
    },
    {
     "name": "stdout",
     "output_type": "stream",
     "text": [
      "[1, 1, 1, 1, 1, 1, 1, 1, 1, 1]\n",
      "[0, 1, 1, 1, 0, 1, 0, 1, 1, 0]\n",
      "0\n",
      "99\n",
      "0.8813559322033898\n",
      "[6.382978723404255e-07]\n"
     ]
    },
    {
     "data": {
      "application/vnd.jupyter.widget-view+json": {
       "model_id": "543a6541def04e1a9ff0af109cb9947d",
       "version_major": 2,
       "version_minor": 0
      },
      "text/plain": [
       "  0%|          | 0/25 [00:00<?, ?it/s]"
      ]
     },
     "metadata": {},
     "output_type": "display_data"
    },
    {
     "name": "stdout",
     "output_type": "stream",
     "text": [
      "[1, 1, 1, 1, 1, 1, 1, 1, 1, 1]\n",
      "[0, 1, 1, 1, 0, 1, 0, 1, 1, 0]\n",
      "0\n",
      "99\n",
      "0.8813559322033898\n",
      "[4.964539007092198e-07]\n"
     ]
    },
    {
     "data": {
      "application/vnd.jupyter.widget-view+json": {
       "model_id": "47db0b6b8535431999903ee9fe83c09f",
       "version_major": 2,
       "version_minor": 0
      },
      "text/plain": [
       "  0%|          | 0/25 [00:00<?, ?it/s]"
      ]
     },
     "metadata": {},
     "output_type": "display_data"
    },
    {
     "name": "stdout",
     "output_type": "stream",
     "text": [
      "[1, 1, 1, 1, 1, 1, 1, 1, 1, 1]\n",
      "[0, 1, 1, 1, 0, 1, 0, 1, 1, 0]\n",
      "0\n",
      "99\n",
      "0.8813559322033898\n",
      "[3.546099290780142e-07]\n"
     ]
    },
    {
     "data": {
      "application/vnd.jupyter.widget-view+json": {
       "model_id": "69c96c362037437f8ee346dc701b9b84",
       "version_major": 2,
       "version_minor": 0
      },
      "text/plain": [
       "  0%|          | 0/25 [00:00<?, ?it/s]"
      ]
     },
     "metadata": {},
     "output_type": "display_data"
    },
    {
     "name": "stdout",
     "output_type": "stream",
     "text": [
      "[1, 1, 1, 1, 1, 1, 1, 1, 1, 1]\n",
      "[0, 1, 1, 1, 0, 1, 0, 1, 1, 0]\n",
      "0\n",
      "99\n",
      "0.8813559322033898\n",
      "[2.127659574468085e-07]\n"
     ]
    },
    {
     "data": {
      "application/vnd.jupyter.widget-view+json": {
       "model_id": "e98923fcff7e4524a0e0efb8d53f0d1c",
       "version_major": 2,
       "version_minor": 0
      },
      "text/plain": [
       "  0%|          | 0/25 [00:00<?, ?it/s]"
      ]
     },
     "metadata": {},
     "output_type": "display_data"
    },
    {
     "name": "stdout",
     "output_type": "stream",
     "text": [
      "[1, 1, 1, 1, 1, 1, 1, 1, 1, 1]\n",
      "[0, 1, 1, 1, 0, 1, 0, 1, 1, 0]\n",
      "0\n",
      "99\n",
      "0.8813559322033898\n",
      "[7.092198581560284e-08]\n"
     ]
    },
    {
     "data": {
      "application/vnd.jupyter.widget-view+json": {
       "model_id": "f2e8b89316564322aae231f5cd71e7c9",
       "version_major": 2,
       "version_minor": 0
      },
      "text/plain": [
       "  0%|          | 0/25 [00:00<?, ?it/s]"
      ]
     },
     "metadata": {},
     "output_type": "display_data"
    },
    {
     "name": "stdout",
     "output_type": "stream",
     "text": [
      "[1, 1, 1, 1, 1, 1, 1, 1, 1, 1]\n",
      "[0, 1, 1, 1, 0, 1, 0, 1, 1, 0]\n",
      "0\n",
      "99\n",
      "0.8813559322033898\n",
      "[0.0]\n"
     ]
    }
   ],
   "source": [
    "lossList = []\n",
    "validateList = []\n",
    "for epoch in range(EPOCHS):\n",
    "    print(\"EPOCH: \" + str(epoch))\n",
    "    #validateBi(model, validLoader, loss_func)\n",
    "    \n",
    "    model.train()  # make sure model is in training mode\n",
    "\n",
    "    #DEBUGGING\n",
    "    i = 0 \n",
    "    currLossList = []\n",
    "    for batch in tqdm(trainLoader):\n",
    "        optim.zero_grad()\n",
    "        \n",
    "        input_ids = batch[\"input_ids\"].to(device) \n",
    "        attention_mask = batch[\"attention_mask\"].to(device) \n",
    "        output = model(input_ids, attention_mask=attention_mask)\n",
    "\n",
    "        #get the index/indices of our tokens that correspond to the entitiy we want to classify \n",
    "        outIndices = getTokenIndices(batch[\"snippetStart\"], batch[\"snippetEnd\"], batch[\"offset_mapping\"]) \n",
    "\n",
    "        #get the output logits only for the indices we care about\n",
    "        #i.e. where there's a named entity we seek to classify \n",
    "        tokenLogits = []\n",
    "        for j, logit in enumerate(output.logits): \n",
    "            index = outIndices[j]\n",
    "            #print(logic[index])  \n",
    "            #print(logit.shape)\n",
    "            tokenLogits.append(logit[index,:])\n",
    "\n",
    "        #run logits through softmax to normalize probabilities \n",
    "        tokenLogits = torch.stack(tokenLogits)\n",
    "        normedOutputs = nn.functional.softmax(tokenLogits, 1) \n",
    "        preds = normedOutputs.argmax(dim=1)\n",
    "        \n",
    "        #get groundtruth and compute loss \n",
    "        gt = batch[\"groundTruth\"].to(device)\n",
    "        loss = loss_func(normedOutputs, gt)\n",
    "        \n",
    "        # using loss, calculate gradients and then optimize\n",
    "        loss.backward()\n",
    "        optim.step()\n",
    "        scheduler.step()\n",
    "        \n",
    "        if i % 10 == 0: \n",
    "            #for train loss\n",
    "            curLossList = []\n",
    "            lossList.append([i, np.mean(currLossList)])\n",
    "            \n",
    "            #for validation stuff\n",
    "            validateList.append([i, validate(model, validLoader, loss_func)]) \n",
    "            model.train() \n",
    "            print(scheduler.get_lr()) \n",
    "            \n",
    "        currLossList.append(loss.item()) \n",
    "        i += 1\n",
    "        \n",
    "        #DEBUGGING\n",
    "        \"\"\"\n",
    "        print(loss)\n",
    "        print(scheduler.get_last_lr())\n",
    "        \n",
    "        #see if model params have changed\n",
    "        param = list(model.parameters())[0].clone()\n",
    "        print(torch.equal(param.data, prevParam.data))\n",
    "        \"\"\"\n"
   ]
  },
  {
   "cell_type": "code",
   "execution_count": 147,
   "id": "baa0eb2f-22c1-450a-b06f-0751c0c1dc49",
   "metadata": {},
   "outputs": [],
   "source": [
    "lossDf = pd.DataFrame(lossList, columns=[\"iter\", \"loss\"]).dropna()"
   ]
  },
  {
   "cell_type": "code",
   "execution_count": 148,
   "id": "62ba86c0-f2ff-45e9-aae5-a2ea5b5366f0",
   "metadata": {},
   "outputs": [],
   "source": [
    "validDf = pd.DataFrame(validateList, columns=[\"iter\", \"f1\"]) "
   ]
  },
  {
   "cell_type": "code",
   "execution_count": 149,
   "id": "efd9eda0-f026-4f2b-8b15-01682e8d7278",
   "metadata": {},
   "outputs": [],
   "source": [
    "resultsDf = pd.merge(lossDf, validDf, on=\"iter\", how=\"inner\") "
   ]
  },
  {
   "cell_type": "code",
   "execution_count": 150,
   "id": "e25278ab-c926-436b-bc82-6bf52cd517e1",
   "metadata": {},
   "outputs": [
    {
     "data": {
      "text/html": [
       "<div>\n",
       "<style scoped>\n",
       "    .dataframe tbody tr th:only-of-type {\n",
       "        vertical-align: middle;\n",
       "    }\n",
       "\n",
       "    .dataframe tbody tr th {\n",
       "        vertical-align: top;\n",
       "    }\n",
       "\n",
       "    .dataframe thead th {\n",
       "        text-align: right;\n",
       "    }\n",
       "</style>\n",
       "<table border=\"1\" class=\"dataframe\">\n",
       "  <thead>\n",
       "    <tr style=\"text-align: right;\">\n",
       "      <th></th>\n",
       "      <th>iter</th>\n",
       "      <th>loss</th>\n",
       "    </tr>\n",
       "  </thead>\n",
       "  <tbody>\n",
       "    <tr>\n",
       "      <th>1</th>\n",
       "      <td>10</td>\n",
       "      <td>0.724935</td>\n",
       "    </tr>\n",
       "    <tr>\n",
       "      <th>2</th>\n",
       "      <td>20</td>\n",
       "      <td>0.706570</td>\n",
       "    </tr>\n",
       "    <tr>\n",
       "      <th>3</th>\n",
       "      <td>30</td>\n",
       "      <td>0.696273</td>\n",
       "    </tr>\n",
       "    <tr>\n",
       "      <th>4</th>\n",
       "      <td>40</td>\n",
       "      <td>0.687096</td>\n",
       "    </tr>\n",
       "    <tr>\n",
       "      <th>5</th>\n",
       "      <td>50</td>\n",
       "      <td>0.682225</td>\n",
       "    </tr>\n",
       "    <tr>\n",
       "      <th>6</th>\n",
       "      <td>60</td>\n",
       "      <td>0.675875</td>\n",
       "    </tr>\n",
       "    <tr>\n",
       "      <th>7</th>\n",
       "      <td>70</td>\n",
       "      <td>0.665048</td>\n",
       "    </tr>\n",
       "    <tr>\n",
       "      <th>9</th>\n",
       "      <td>10</td>\n",
       "      <td>0.627107</td>\n",
       "    </tr>\n",
       "    <tr>\n",
       "      <th>10</th>\n",
       "      <td>20</td>\n",
       "      <td>0.639550</td>\n",
       "    </tr>\n",
       "    <tr>\n",
       "      <th>11</th>\n",
       "      <td>30</td>\n",
       "      <td>0.633054</td>\n",
       "    </tr>\n",
       "    <tr>\n",
       "      <th>12</th>\n",
       "      <td>40</td>\n",
       "      <td>0.615123</td>\n",
       "    </tr>\n",
       "    <tr>\n",
       "      <th>13</th>\n",
       "      <td>50</td>\n",
       "      <td>0.602213</td>\n",
       "    </tr>\n",
       "    <tr>\n",
       "      <th>14</th>\n",
       "      <td>60</td>\n",
       "      <td>0.607043</td>\n",
       "    </tr>\n",
       "    <tr>\n",
       "      <th>15</th>\n",
       "      <td>70</td>\n",
       "      <td>0.605477</td>\n",
       "    </tr>\n",
       "  </tbody>\n",
       "</table>\n",
       "</div>"
      ],
      "text/plain": [
       "    iter      loss\n",
       "1     10  0.724935\n",
       "2     20  0.706570\n",
       "3     30  0.696273\n",
       "4     40  0.687096\n",
       "5     50  0.682225\n",
       "6     60  0.675875\n",
       "7     70  0.665048\n",
       "9     10  0.627107\n",
       "10    20  0.639550\n",
       "11    30  0.633054\n",
       "12    40  0.615123\n",
       "13    50  0.602213\n",
       "14    60  0.607043\n",
       "15    70  0.605477"
      ]
     },
     "execution_count": 150,
     "metadata": {},
     "output_type": "execute_result"
    }
   ],
   "source": [
    "lossDf"
   ]
  },
  {
   "cell_type": "code",
   "execution_count": 151,
   "id": "77daa4bc-8416-414b-9729-3ecc6c1b45c6",
   "metadata": {},
   "outputs": [
    {
     "data": {
      "text/plain": [
       "Text(0.5, 0.98, 'Predicting Hosts in Transcript Snippets Surrounding Named Entities')"
      ]
     },
     "execution_count": 151,
     "metadata": {},
     "output_type": "execute_result"
    },
    {
     "data": {
      "image/png": "[encoded data removed]",
      "text/plain": [
       "<Figure size 720x288 with 2 Axes>"
      ]
     },
     "metadata": {
      "needs_background": "light"
     },
     "output_type": "display_data"
    }
   ],
   "source": [
    "fig, axs = plt.subplots(1, 2, figsize=(10, 4)) \n",
    "sns.lineplot(data=resultsDf, x=\"iter\", y=\"loss\", ax=axs[0])\n",
    "sns.lineplot(data=resultsDf, x=\"iter\", y=\"f1\", ax=axs[1])\n",
    "axs[0].set_title(\"train loss\") \n",
    "axs[1].set_title(\"validation set f1\") \n",
    "fig.suptitle(\"Predicting Hosts in Transcript Snippets Surrounding Named Entities\", size=16) "
   ]
  },
  {
   "cell_type": "code",
   "execution_count": 152,
   "id": "640e814f-fa17-43db-9371-70e8c18f128f",
   "metadata": {},
   "outputs": [],
   "source": [
    "model = model.to(device) "
   ]
  },
  {
   "cell_type": "code",
   "execution_count": 166,
   "id": "1362c504-d66b-4f61-adca-f0603f93cb84",
   "metadata": {},
   "outputs": [
    {
     "name": "stderr",
     "output_type": "stream",
     "text": [
      "<ipython-input-166-2fd2f66a40ba>:2: UserWarning: Implicit dimension choice for softmax has been deprecated. Change the call to include dim=X as an argument.\n",
      "  normedOutputs = nn.functional.softmax(output.logits)\n"
     ]
    }
   ],
   "source": [
    "output = model(input_ids, attention_mask=attention_masks)\n",
    "normedOutputs = nn.functional.softmax(output.logits) \n",
    "preds = normedOutputs.argmax(dim=1) "
   ]
  }
 ],
 "metadata": {
  "kernelspec": {
   "display_name": "Python 3",
   "language": "python",
   "name": "python3"
  },
  "language_info": {
   "codemirror_mode": {
    "name": "ipython",
    "version": 3
   },
   "file_extension": ".py",
   "mimetype": "text/x-python",
   "name": "python",
   "nbconvert_exporter": "python",
   "pygments_lexer": "ipython3",
   "version": "3.9.12"
  }
 },
 "nbformat": 4,
 "nbformat_minor": 5
}
