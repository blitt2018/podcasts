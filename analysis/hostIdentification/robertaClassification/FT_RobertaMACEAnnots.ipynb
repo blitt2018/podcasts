{
 "cells": [
  {
   "cell_type": "code",
   "execution_count": 1,
   "id": "7b391a97-0e89-4770-9329-8e8fbc238ed5",
   "metadata": {},
   "outputs": [],
   "source": [
    "from tqdm.auto import tqdm\n",
    "import torch \n",
    "import transformers\n",
    "from transformers import PreTrainedTokenizer\n",
    "from transformers import RobertaTokenizer, RobertaConfig, RobertaModel, RobertaForTokenClassification\n",
    "#from sentence_transformers import SentenceTransformer, SentencesDataset, InputExample, losses, util\n",
    "from datasets import Dataset\n",
    "import pandas as pd\n",
    "from transformers.optimization import get_linear_schedule_with_warmup\n",
    "#import matplotlib.pyplot as plt \n",
    "import numpy as np\n",
    "from transformers import AutoTokenizer, AutoModel, PreTrainedTokenizerFast, RobertaTokenizerFast\n",
    "#from torch.nn import CosineEmbeddingLoss\n",
    "import random\n",
    "#from torch.nn import CosineEmbeddingLoss\n",
    "from torch import nn\n",
    "#Build up to SBERT model "
   ]
  },
  {
   "cell_type": "code",
   "execution_count": 2,
   "id": "7b0c18c1-be41-4339-a7e3-f2adce4bfccc",
   "metadata": {},
   "outputs": [],
   "source": [
    "import seaborn as sns\n",
    "from sklearn.metrics import f1_score, confusion_matrix\n",
    "import matplotlib.pyplot as plt\n",
    "from sklearn.model_selection import train_test_split, KFold\n",
    "from torch.utils.data import DataLoader,random_split,SubsetRandomSampler"
   ]
  },
  {
   "cell_type": "code",
   "execution_count": 3,
   "id": "0469fb4e-bf36-4143-91e4-9b4bbb64ece4",
   "metadata": {},
   "outputs": [],
   "source": [
    "#df = pd.read_csv(\"/shared/3/projects/benlitterer/podcastData/hostIdentification/itunesGTsubset.tsv\", sep=\"\\t\") "
   ]
  },
  {
   "cell_type": "code",
   "execution_count": 4,
   "id": "c284f19d",
   "metadata": {},
   "outputs": [],
   "source": [
    "df = pd.read_json(\"/shared/3/projects/benlitterer/podcastData/annotation/label1000/MACE/1000annotTrain.jsonl\", orient=\"records\", lines=True)"
   ]
  },
  {
   "cell_type": "code",
   "execution_count": 5,
   "id": "398dc41f-6bb4-46f2-a24c-493ca53da607",
   "metadata": {},
   "outputs": [],
   "source": [
    "#set seeds\n",
    "torch.manual_seed(0)\n",
    "random.seed(0)\n",
    "np.random.seed(0)"
   ]
  },
  {
   "cell_type": "code",
   "execution_count": 6,
   "id": "adb5f207-5a6d-47f7-9b39-0a69b6545299",
   "metadata": {},
   "outputs": [],
   "source": [
    "df[\"entSnippets\"] = df[\"left\"] + df[\"ent\"] + df[\"right\"] "
   ]
  },
  {
   "cell_type": "code",
   "execution_count": 7,
   "id": "7a9efa61-d3eb-4d0f-a13c-738f14ee8baf",
   "metadata": {},
   "outputs": [],
   "source": [
    "df = df[[\"left\", \"right\", \"ent\",'transStarts', 'transEnds', 'groundTruth', 'entSnippets']]\n",
    "df = df.dropna()"
   ]
  },
  {
   "cell_type": "code",
   "execution_count": 8,
   "id": "a28dd809-2365-4d0e-8c95-255d990fef63",
   "metadata": {},
   "outputs": [],
   "source": [
    "#when we make the snippet, our spacing from the named entity extraction gets thrown off\n",
    "#that's fine though! just re-extract the entity indices here \n",
    "df[\"snippetStart\"] = df.apply(lambda x: x[\"entSnippets\"].lower().find(x[\"ent\"].lower()), axis=1)\n",
    "df[\"snippetEnd\"] = df[\"snippetStart\"] + df[\"transEnds\"] - df[\"transStarts\"]\n",
    "\n",
    "\n",
    "def extractEnt(inRow): \n",
    "    return inRow[\"entSnippets\"][inRow[\"snippetStart\"]:inRow[\"snippetEnd\"]]\n",
    "\n",
    "df[\"extractedEnt\"] = df.apply(extractEnt, axis=1)"
   ]
  },
  {
   "cell_type": "code",
   "execution_count": 9,
   "id": "ac31fb66-b075-4576-a72c-fa86eeaa1f54",
   "metadata": {},
   "outputs": [],
   "source": [
    "deviceNum = 0\n",
    "device = torch.device(\"cuda:\" + str(deviceNum) if torch.cuda.is_available() else \"cpu\")"
   ]
  },
  {
   "cell_type": "code",
   "execution_count": 10,
   "id": "869d3a05",
   "metadata": {},
   "outputs": [],
   "source": [
    "df = df.reset_index(drop=True)"
   ]
  },
  {
   "cell_type": "code",
   "execution_count": 11,
   "id": "acff9ce2",
   "metadata": {},
   "outputs": [
    {
     "name": "stdout",
     "output_type": "stream",
     "text": [
      "cuda:0\n"
     ]
    }
   ],
   "source": [
    "print(device)"
   ]
  },
  {
   "cell_type": "code",
   "execution_count": 12,
   "id": "bfc38ffd-442c-4378-9131-2d9a1eb089ff",
   "metadata": {},
   "outputs": [],
   "source": [
    "\n",
    "#put ground truth values into a list \n",
    "#trainDf = trainDf[[\"entSnippets\", \"groundTruth\", \"snippetStart\", \"snippetEnd\"]] \n",
    "#trainDf = trainDf.reset_index(drop=True)\n",
    "\n",
    "#valDf = valDf[[\"entSnippets\", \"groundTruth\", \"snippetStart\", \"snippetEnd\"]] \n",
    "#valDf = valDf.reset_index(drop=True)\n",
    "\n",
    "#get train, valid, test \n",
    "#trainDf, testDf = train_test_split(leanDf, test_size=0.3) \n",
    "#validDf, testDf = train_test_split(testDf, test_size=0.666) \n",
    "\n",
    "\n",
    "#validDataset = Dataset.from_pandas(valDf)\n",
    "#testDataset = Datase|t.from_pandas(testDf)"
   ]
  },
  {
   "cell_type": "code",
   "execution_count": 13,
   "id": "b584aa7f-1f34-468f-80f8-cccc00dd8f80",
   "metadata": {},
   "outputs": [],
   "source": [
    "# Preprocessing\n",
    "tokenizer = RobertaTokenizerFast.from_pretrained('roberta-base', max_length=512, padding=\"max_length\", truncation=True)"
   ]
  },
  {
   "cell_type": "code",
   "execution_count": 14,
   "id": "560a9314-9c15-4463-baf0-848879708500",
   "metadata": {},
   "outputs": [],
   "source": [
    "tokenized = []\n",
    "for snip in df[\"entSnippets\"]: \n",
    "    tokenized.append(tokenizer(snip, padding = \"max_length\", truncation=True, return_offsets_mapping=True))"
   ]
  },
  {
   "cell_type": "code",
   "execution_count": 15,
   "id": "8e42f292-b89d-4ea6-8f7a-96389e9e7a33",
   "metadata": {},
   "outputs": [],
   "source": [
    "df = pd.concat([df, pd.DataFrame.from_records(tokenized)], axis=1) "
   ]
  },
  {
   "cell_type": "code",
   "execution_count": 16,
   "id": "6fa23e57-57a3-4c4c-8485-530d90c0dc1f",
   "metadata": {},
   "outputs": [],
   "source": [
    "#find the token indices which correspond to our entity \n",
    "def getTokenIndices(start, end, offsets):\n",
    "    \"\"\"\n",
    "    print(start) \n",
    "    print(end) \n",
    "    print(offsets[:20]) \n",
    "    \"\"\"\n",
    "\n",
    "    currIndices = []\n",
    "    for j, offset in enumerate(offsets): \n",
    "        offsetL, offsetR = offset\n",
    "        if offsetL >= start and offsetR <= end: \n",
    "            currIndices.append(j)\n",
    "\n",
    "    return currIndices"
   ]
  },
  {
   "cell_type": "code",
   "execution_count": 17,
   "id": "d6031ddb-0b08-49ce-b664-7383dfc632ce",
   "metadata": {},
   "outputs": [
    {
     "name": "stderr",
     "output_type": "stream",
     "text": [
      "2024-05-15 13:55:23.191419: I tensorflow/core/platform/cpu_feature_guard.cc:181] Beginning TensorFlow 2.15, this package will be updated to install stock TensorFlow 2.15 alongside Intel's TensorFlow CPU extension plugin, which provides all the optimizations available in the package and more. If a compatible version of stock TensorFlow is present, only the extension will get installed. No changes to code or installation setup is needed as a result of this change.\n",
      "More information on Intel's optimizations for TensorFlow, delivered as TensorFlow extension plugin can be viewed at https://github.com/intel/intel-extension-for-tensorflow.\n",
      "2024-05-15 13:55:23.191476: I tensorflow/core/platform/cpu_feature_guard.cc:192] This TensorFlow binary is optimized to use available CPU instructions in performance-critical operations.\n",
      "To enable the following instructions: AVX2 AVX512F AVX512_VNNI FMA, in other operations, rebuild TensorFlow with the appropriate compiler flags.\n"
     ]
    }
   ],
   "source": [
    "\n",
    "df[\"posTokens\"] = df.apply(lambda row: getTokenIndices(row[\"snippetStart\"], row[\"snippetEnd\"], row[\"offset_mapping\"]), axis=1)\n",
    "\n",
    "labList = []\n",
    "for i, row in df.iterrows(): \n",
    "    tokCount = sum(row[\"attention_mask\"])\n",
    "    paddingLen = len(row[\"attention_mask\"]) - tokCount\n",
    "    \n",
    "    labels = ([0] * tokCount) + ([2] * paddingLen)\n",
    "    \n",
    "    for posIndex in row[\"posTokens\"]: \n",
    "        labels[posIndex] = 1\n",
    "    \n",
    "    labList.append(labels) \n",
    "\n",
    "df[\"labels\"] = labList\n",
    "\n",
    "df[\"entsTokenized\"] = df.apply(lambda row: [tokenizer.decode(row[\"input_ids\"][i]) for i in row[\"posTokens\"]], axis=1) "
   ]
  },
  {
   "cell_type": "code",
   "execution_count": 18,
   "id": "d3ceca21-f676-43d5-9e88-6c7a97d550da",
   "metadata": {},
   "outputs": [],
   "source": [
    "#TODO: check what that <s> token is... \n",
    "#sanity check looks good!\n",
    "#df.sample(10)"
   ]
  },
  {
   "cell_type": "code",
   "execution_count": 19,
   "id": "9e509e10-d241-4506-80e7-6725bd21f019",
   "metadata": {},
   "outputs": [],
   "source": [
    "#validDataset.set_format(type='torch', columns=[\"entSnippets\", \"groundTruth\", \"input_ids\", \"snippetStart\", \"snippetEnd\", \"attention_mask\", \"offset_mapping\"])"
   ]
  },
  {
   "cell_type": "code",
   "execution_count": 20,
   "id": "9d14d45b-a005-4ea1-81cb-3d63b40ae07d",
   "metadata": {},
   "outputs": [],
   "source": [
    "class Model(nn.Module):\n",
    "    def __init__(self, ixList):\n",
    "        #def __init__(self):\n",
    "        super(Model,self).__init__()\n",
    "        self.model = RobertaModel.from_pretrained('roberta-base')\n",
    "\n",
    "        #since we have three classes \n",
    "        self.l1 = nn.Linear(768, 3)\n",
    "\n",
    "        #normalizes probabilities to sum to 1\n",
    "        self.sig = nn.Sigmoid()\n",
    "        self.ixList = ixList\n",
    "        \n",
    "    def mean_pooling(self, token_embeddings, attention_mask): \n",
    "        input_mask_expanded = attention_mask.unsqueeze(-1).expand(token_embeddings.size()).float()\n",
    "        return torch.sum(token_embeddings * input_mask_expanded, 1) / torch.clamp(input_mask_expanded.sum(1), min=1e-9)\n",
    "    \n",
    "    def forward(self, input_ids, attention_mask, index): \n",
    "        \n",
    "        #encode sentence and get mean pooled sentence representation \n",
    "        output = self.model(input_ids, attention_mask=attention_mask)\n",
    "        \n",
    "        #TODO: address problem that may be arising here \n",
    "        outIndices = [self.ixList[ix] for ix in index]\n",
    "        embeddingMeans = []\n",
    "        batchIter = 0\n",
    "        for batchIter in range(input_ids.shape[0]): \n",
    "            \n",
    "            #get the last layer of the model \n",
    "            hiddenStates = output[0]\n",
    "            \n",
    "            #get the embeddings corresponding to the entity we're interested in \n",
    "            tokStates = [hiddenStates[batchIter][tokIndex,:] for tokIndex in outIndices[batchIter]]\n",
    "            \n",
    "            #take the mean over all embeddings for an entity \n",
    "            embeddingMean = torch.stack(tokStates).mean(dim=0)\n",
    "            \n",
    "            #append this so we get the mean embedding for each \n",
    "            #training example in this batch \n",
    "            embeddingMeans.append(embeddingMean) \n",
    "            #embeddingMeans.append(hiddenStates[batchIter][outIndices[batchIter][0],:])\n",
    "        \n",
    "        #we stack because this is for an entire batch \n",
    "        embeddingMeans = torch.stack(embeddingMeans)\n",
    "        \"\"\"\n",
    "        working code just used this!\n",
    "        embeddingMeans = self.mean_pooling(output[0], attention_mask)\n",
    "        \"\"\"\n",
    "        probs = self.sig(self.l1(embeddingMeans)).squeeze()\n",
    "        \n",
    "        return probs"
   ]
  },
  {
   "cell_type": "code",
   "execution_count": 21,
   "id": "6059fd9e-0a32-4cc2-afdf-b9b2084ca067",
   "metadata": {},
   "outputs": [],
   "source": [
    "\n",
    "#validation function \n",
    "def validate(model, validLoader, loss_func, f1type=\"weighted\"):\n",
    "    model.eval()\n",
    "    \n",
    "    validPreds = []\n",
    "    validGts = []\n",
    "    validLoss = []\n",
    "    outList = [[], []]\n",
    "    for batch in tqdm(validLoader): \n",
    "        \n",
    "        optim.zero_grad()\n",
    "        \n",
    "        input_ids = batch[\"input_ids\"].to(device) \n",
    "        attention_mask = batch[\"attention_mask\"].to(device) \n",
    "        index = batch[\"index\"]\n",
    "        \n",
    "        gt = batch[\"groundTruth\"].to(device) #.to(torch.float32)\n",
    "        probs = model(input_ids, attention_mask, index) #.to(torch.float32)\n",
    "        \n",
    "        \n",
    "        #if we've hit the end of data, we may have a batch size of 1, which requires extra care\n",
    "        if probs.size()[0] == 3 and len(probs.size()) == 1: \n",
    "            probs = probs.unsqueeze(0)\n",
    "            print(probs.size())\n",
    "            print(gt.size())\n",
    "\n",
    "        loss = loss_func(probs, gt) \n",
    "        preds = torch.max(probs, 1).indices.to(int).cpu().tolist()\n",
    "        gt = gt.to(int).detach().cpu().tolist()\n",
    "\n",
    "        #update the lists of predictions, ground truths for train metrics\n",
    "        validPreds += preds\n",
    "        validGts += gt\n",
    "        validLoss.append(loss.cpu().detach().item())\n",
    "\n",
    "        \n",
    "    \n",
    "    f1 = f1_score(validPreds, validGts, average=f1type)\n",
    "    validLossMean = np.mean(validLoss)\n",
    "    \n",
    "    model.train()\n",
    "    return [validPreds, validGts, f1, validLossMean]\n",
    "    \n",
    "    \n",
    "   \n"
   ]
  },
  {
   "cell_type": "code",
   "execution_count": 22,
   "id": "dcdde8ba-3679-4f76-a460-7064487d00db",
   "metadata": {},
   "outputs": [],
   "source": [
    "def train(model, fold, epochs, optim, scheduler, loss_func, trainLoader, validLoader, METRIC_FREQ=100, f1type=\"weighted\"): \n",
    "    \n",
    "    #how often should we be getting our train metrics\n",
    "    print(len(trainLoader))\n",
    "    validIndices = list(np.arange(0, len(trainLoader), METRIC_FREQ))\n",
    "    \n",
    "    #lists to put our f1 scores in \n",
    "    lossList = []\n",
    "    trainMetrics = []\n",
    "    validMetrics = []\n",
    "    \n",
    "    finalPreds = []\n",
    "    \n",
    "    for epoch in range(epochs):\n",
    "        print(\"EPOCH: \" + str(epoch))\n",
    "\n",
    "        model.train()  # make sure model is in training mode\n",
    "\n",
    "        #DEBUGGING\n",
    "        i = 0 \n",
    "        currLossList = []\n",
    "        currPreds = []\n",
    "        currGts = []\n",
    "        \n",
    "        for batch in tqdm(trainLoader):\n",
    "            optim.zero_grad()\n",
    "\n",
    "            input_ids = batch[\"input_ids\"].to(device) \n",
    "            attention_mask = batch[\"attention_mask\"].to(device) \n",
    "            index = batch[\"index\"]\n",
    "            gt = batch[\"groundTruth\"].to(device) #.to(torch.)\n",
    "\n",
    "            probs = model(input_ids, attention_mask, index) #.to(torch.float32)\n",
    "\n",
    "            #if we've hit the end of data, we may have a batch size of 1, which requires extra care\n",
    "            if probs.size()[0] == 3 and len(probs.size()) == 1: \n",
    "                probs = probs.unsqueeze(0)\n",
    "                print(probs.size())\n",
    "                print(gt.size())\n",
    "\n",
    "            loss = loss_func(probs, gt) \n",
    "            loss.backward()\n",
    "            optim.step()\n",
    "            scheduler.step()\n",
    "\n",
    "            #preds = preds.detach().cpu().tolist()\n",
    "            #gt = gt.detach().cpu().tolist() \n",
    "\n",
    "            #preds should be the index of the highest value \n",
    "            preds = torch.max(probs, 1).indices.to(int).cpu().tolist()\n",
    "            gt = gt.to(int).detach().cpu().tolist()\n",
    "\n",
    "            #update the lists of predictions, ground truths for train metrics\n",
    "            currPreds += preds\n",
    "            currGts += gt\n",
    "            currLossList.append(loss.cpu().detach().item())\n",
    "\n",
    "            #if we've hit the number of steps where we want to \n",
    "            #get training metrics \n",
    "            if i in validIndices: \n",
    "                trainF1 = f1_score(currPreds, currGts, average=f1type)\n",
    "                avgLoss = np.mean(currLossList)\n",
    "                \n",
    "                #we don't want to get train metrics on the first step \n",
    "                if i != 0: \n",
    "                    trainMetrics.append([fold, i, i/len(trainLoader), epoch, trainF1, avgLoss]) \n",
    "                \n",
    "                 \n",
    "                validPreds, validGts, validF1, validLossMean = validate(model, validLoader, loss_func, f1type=f1type)\n",
    "                validMetrics.append([fold, i, i/len(trainLoader), epoch, validF1, validLossMean]) \n",
    "                                    \n",
    "                \"\"\"\n",
    "                print(f\"average loss: {np.mean(currLossList)}\")\n",
    "                print(f\"F1: {f1_score(currPreds, currGts)}\")\n",
    "                print(currPreds[:20]) \n",
    "                print(currGts[:20]) \n",
    "                \"\"\"\n",
    "                \n",
    "                #if this is our last run \n",
    "                #if i == validIndices[-1] and epoch == (epochs-1): \n",
    "                #    finalPreds.append([validPreds, validGts]) \n",
    "                \n",
    "                currPreds = []\n",
    "                currGts = []\n",
    "                print(f\"train f1: {trainF1}\")\n",
    "                print(f\"valid f1: {validF1}\") \n",
    "                print(f\"learning rate {scheduler.get_last_lr()}\")\n",
    "                #print(model.l1.weight[0][:20]) \n",
    "                \n",
    "            i += 1\n",
    "    \n",
    "    return [validPreds, validGts, trainMetrics, validMetrics]\n",
    "                                    \n",
    "    \"\"\"       \n",
    "    print(f\"average loss: {np.mean(currLossList)}\")\n",
    "    print(f\"F1: {f1_score(currPreds, currGts)}\")\n",
    "    print(f\"learning rate {scheduler.get_last_lr()}\")  \n",
    "    \"\"\""
   ]
  },
  {
   "cell_type": "code",
   "execution_count": 23,
   "id": "3817c3b7",
   "metadata": {},
   "outputs": [],
   "source": [
    "#we want to get a train/test split here \n"
   ]
  },
  {
   "cell_type": "code",
   "execution_count": 24,
   "id": "11226c7c",
   "metadata": {},
   "outputs": [],
   "source": [
    "#split the unique entities into K_FOLDS segments \n",
    "FOLDS=5\n",
    "splits=KFold(n_splits=FOLDS,shuffle=True,random_state=42)\n",
    "\n",
    "uniqueEnts = df[\"ent\"].unique()\n",
    "entSplits = [split for split in splits.split(uniqueEnts)]\n",
    "df = df.reset_index(drop=True).reset_index()"
   ]
  },
  {
   "cell_type": "code",
   "execution_count": 25,
   "id": "1aaac7a0",
   "metadata": {},
   "outputs": [
    {
     "name": "stdout",
     "output_type": "stream",
     "text": [
      "(1596, 17)\n",
      "(410, 17)\n",
      "-------------------------\n",
      "(1566, 17)\n",
      "(440, 17)\n",
      "-------------------------\n",
      "(1626, 17)\n",
      "(380, 17)\n",
      "-------------------------\n",
      "(1603, 17)\n",
      "(403, 17)\n",
      "-------------------------\n",
      "(1633, 17)\n",
      "(373, 17)\n",
      "-------------------------\n"
     ]
    }
   ],
   "source": [
    "\n",
    "for fold, (train_idx,val_idx) in enumerate(entSplits):\n",
    "    trainEnts = uniqueEnts[train_idx]\n",
    "    valEnts = uniqueEnts[val_idx]\n",
    "\n",
    "    trainDf = df[df[\"ent\"].apply(lambda x: x in trainEnts)]\n",
    "    valDf = df[df[\"ent\"].apply(lambda x: x in valEnts)]\n",
    "\n",
    "    print(trainDf.shape)\n",
    "    print(valDf.shape)\n",
    "    print(\"-------------------------\")"
   ]
  },
  {
   "cell_type": "code",
   "execution_count": 36,
   "id": "66149470",
   "metadata": {},
   "outputs": [
    {
     "data": {
      "text/html": [
       "<div>\n",
       "<style scoped>\n",
       "    .dataframe tbody tr th:only-of-type {\n",
       "        vertical-align: middle;\n",
       "    }\n",
       "\n",
       "    .dataframe tbody tr th {\n",
       "        vertical-align: top;\n",
       "    }\n",
       "\n",
       "    .dataframe thead th {\n",
       "        text-align: right;\n",
       "    }\n",
       "</style>\n",
       "<table border=\"1\" class=\"dataframe\">\n",
       "  <thead>\n",
       "    <tr style=\"text-align: right;\">\n",
       "      <th></th>\n",
       "      <th>index</th>\n",
       "      <th>left</th>\n",
       "      <th>right</th>\n",
       "      <th>ent</th>\n",
       "      <th>transStarts</th>\n",
       "      <th>transEnds</th>\n",
       "      <th>groundTruth</th>\n",
       "      <th>entSnippets</th>\n",
       "      <th>snippetStart</th>\n",
       "      <th>snippetEnd</th>\n",
       "      <th>extractedEnt</th>\n",
       "      <th>attention_mask</th>\n",
       "      <th>input_ids</th>\n",
       "      <th>offset_mapping</th>\n",
       "      <th>posTokens</th>\n",
       "      <th>labels</th>\n",
       "      <th>entsTokenized</th>\n",
       "    </tr>\n",
       "  </thead>\n",
       "  <tbody>\n",
       "    <tr>\n",
       "      <th>107</th>\n",
       "      <td>107</td>\n",
       "      <td>(upbeat music) Hey, hello everyone, welcome to...</td>\n",
       "      <td>. In this episode, I'm gonna talk about board ...</td>\n",
       "      <td>Aaron Prasad</td>\n",
       "      <td>70</td>\n",
       "      <td>82</td>\n",
       "      <td>0</td>\n",
       "      <td>(upbeat music) Hey, hello everyone, welcome to...</td>\n",
       "      <td>70</td>\n",
       "      <td>82</td>\n",
       "      <td>Aaron Prasad</td>\n",
       "      <td>[1, 1, 1, 1, 1, 1, 1, 1, 1, 1, 1, 1, 1, 1, 1, ...</td>\n",
       "      <td>[0, 1640, 658, 13825, 930, 43, 11468, 6, 20760...</td>\n",
       "      <td>[(0, 0), (0, 1), (1, 3), (3, 7), (8, 13), (13,...</td>\n",
       "      <td>[19, 20, 21, 22]</td>\n",
       "      <td>[0, 0, 0, 0, 0, 0, 0, 0, 0, 0, 0, 0, 0, 0, 0, ...</td>\n",
       "      <td>[ Aaron,  Pr, as, ad]</td>\n",
       "    </tr>\n",
       "    <tr>\n",
       "      <th>55</th>\n",
       "      <td>55</td>\n",
       "      <td>[MUSIC] Hey Wofford fans, Phil Marcelo here we...</td>\n",
       "      <td>and Amanda Paris. Fans, we now welcome on Wof...</td>\n",
       "      <td>Alex Hamilton</td>\n",
       "      <td>331</td>\n",
       "      <td>344</td>\n",
       "      <td>1</td>\n",
       "      <td>[MUSIC] Hey Wofford fans, Phil Marcelo here we...</td>\n",
       "      <td>331</td>\n",
       "      <td>344</td>\n",
       "      <td>Alex Hamilton</td>\n",
       "      <td>[1, 1, 1, 1, 1, 1, 1, 1, 1, 1, 1, 1, 1, 1, 1, ...</td>\n",
       "      <td>[0, 10975, 448, 3048, 2371, 742, 11468, 305, 1...</td>\n",
       "      <td>[(0, 0), (0, 1), (1, 2), (2, 4), (4, 6), (6, 7...</td>\n",
       "      <td>[74, 75]</td>\n",
       "      <td>[0, 0, 0, 0, 0, 0, 0, 0, 0, 0, 0, 0, 0, 0, 0, ...</td>\n",
       "      <td>[ Alex,  Hamilton]</td>\n",
       "    </tr>\n",
       "    <tr>\n",
       "      <th>56</th>\n",
       "      <td>56</td>\n",
       "      <td>[MUSIC] Hey Wofford fans, Phil Marcelo here we...</td>\n",
       "      <td>. Alex, I know you've been busy, so first off,...</td>\n",
       "      <td>Alex Hamilton</td>\n",
       "      <td>413</td>\n",
       "      <td>426</td>\n",
       "      <td>1</td>\n",
       "      <td>[MUSIC] Hey Wofford fans, Phil Marcelo here we...</td>\n",
       "      <td>331</td>\n",
       "      <td>344</td>\n",
       "      <td>Alex Hamilton</td>\n",
       "      <td>[1, 1, 1, 1, 1, 1, 1, 1, 1, 1, 1, 1, 1, 1, 1, ...</td>\n",
       "      <td>[0, 10975, 448, 3048, 2371, 742, 11468, 305, 1...</td>\n",
       "      <td>[(0, 0), (0, 1), (1, 2), (2, 4), (4, 6), (6, 7...</td>\n",
       "      <td>[74, 75]</td>\n",
       "      <td>[0, 0, 0, 0, 0, 0, 0, 0, 0, 0, 0, 0, 0, 0, 0, ...</td>\n",
       "      <td>[ Alex,  Hamilton]</td>\n",
       "    </tr>\n",
       "    <tr>\n",
       "      <th>529</th>\n",
       "      <td>529</td>\n",
       "      <td>The Wildlife Observer Network. Hey everybody, ...</td>\n",
       "      <td>. But before we hear from him, let me share so...</td>\n",
       "      <td>Alex Troutman</td>\n",
       "      <td>166</td>\n",
       "      <td>179</td>\n",
       "      <td>1</td>\n",
       "      <td>The Wildlife Observer Network. Hey everybody, ...</td>\n",
       "      <td>166</td>\n",
       "      <td>179</td>\n",
       "      <td>Alex Troutman</td>\n",
       "      <td>[1, 1, 1, 1, 1, 1, 1, 1, 1, 1, 1, 1, 1, 1, 1, ...</td>\n",
       "      <td>[0, 133, 10479, 15815, 3658, 4, 11468, 3370, 6...</td>\n",
       "      <td>[(0, 0), (0, 3), (4, 12), (13, 21), (22, 29), ...</td>\n",
       "      <td>[36, 37, 38]</td>\n",
       "      <td>[0, 0, 0, 0, 0, 0, 0, 0, 0, 0, 0, 0, 0, 0, 0, ...</td>\n",
       "      <td>[ Alex,  Trout, man]</td>\n",
       "    </tr>\n",
       "    <tr>\n",
       "      <th>468</th>\n",
       "      <td>468</td>\n",
       "      <td>The REB Business Empowerment Showcase. Shining...</td>\n",
       "      <td>. So take a look at the real estate market. An...</td>\n",
       "      <td>Alex Whitlock</td>\n",
       "      <td>244</td>\n",
       "      <td>257</td>\n",
       "      <td>0</td>\n",
       "      <td>The REB Business Empowerment Showcase. Shining...</td>\n",
       "      <td>244</td>\n",
       "      <td>257</td>\n",
       "      <td>Alex Whitlock</td>\n",
       "      <td>[1, 1, 1, 1, 1, 1, 1, 1, 1, 1, 1, 1, 1, 1, 1, ...</td>\n",
       "      <td>[0, 133, 4979, 387, 2090, 3676, 11017, 1757, 2...</td>\n",
       "      <td>[(0, 0), (0, 3), (4, 6), (6, 7), (8, 16), (17,...</td>\n",
       "      <td>[51, 52, 53]</td>\n",
       "      <td>[0, 0, 0, 0, 0, 0, 0, 0, 0, 0, 0, 0, 0, 0, 0, ...</td>\n",
       "      <td>[ Alex,  Whit, lock]</td>\n",
       "    </tr>\n",
       "    <tr>\n",
       "      <th>...</th>\n",
       "      <td>...</td>\n",
       "      <td>...</td>\n",
       "      <td>...</td>\n",
       "      <td>...</td>\n",
       "      <td>...</td>\n",
       "      <td>...</td>\n",
       "      <td>...</td>\n",
       "      <td>...</td>\n",
       "      <td>...</td>\n",
       "      <td>...</td>\n",
       "      <td>...</td>\n",
       "      <td>...</td>\n",
       "      <td>...</td>\n",
       "      <td>...</td>\n",
       "      <td>...</td>\n",
       "      <td>...</td>\n",
       "      <td>...</td>\n",
       "    </tr>\n",
       "    <tr>\n",
       "      <th>1542</th>\n",
       "      <td>1542</td>\n",
       "      <td>Okay. It's 1102 Eastern Daylight Time, and tha...</td>\n",
       "      <td>has to go to the bathroom really bad? I don't...</td>\n",
       "      <td>Vladimir Zelinsky</td>\n",
       "      <td>400</td>\n",
       "      <td>417</td>\n",
       "      <td>2</td>\n",
       "      <td>Okay. It's 1102 Eastern Daylight Time, and tha...</td>\n",
       "      <td>400</td>\n",
       "      <td>417</td>\n",
       "      <td>Vladimir Zelinsky</td>\n",
       "      <td>[1, 1, 1, 1, 1, 1, 1, 1, 1, 1, 1, 1, 1, 1, 1, ...</td>\n",
       "      <td>[0, 33082, 4, 85, 18, 8017, 176, 3877, 41992, ...</td>\n",
       "      <td>[(0, 0), (0, 4), (4, 5), (6, 8), (8, 10), (11,...</td>\n",
       "      <td>[109, 110, 111]</td>\n",
       "      <td>[0, 0, 0, 0, 0, 0, 0, 0, 0, 0, 0, 0, 0, 0, 0, ...</td>\n",
       "      <td>[ Vladimir,  Zel, insky]</td>\n",
       "    </tr>\n",
       "    <tr>\n",
       "      <th>1543</th>\n",
       "      <td>1543</td>\n",
       "      <td>Okay. It's 1102 Eastern Daylight Time, and tha...</td>\n",
       "      <td>has to go to the bathroom really bad? Because...</td>\n",
       "      <td>Vladimir Zelinsky</td>\n",
       "      <td>491</td>\n",
       "      <td>508</td>\n",
       "      <td>2</td>\n",
       "      <td>Okay. It's 1102 Eastern Daylight Time, and tha...</td>\n",
       "      <td>400</td>\n",
       "      <td>417</td>\n",
       "      <td>Vladimir Zelinsky</td>\n",
       "      <td>[1, 1, 1, 1, 1, 1, 1, 1, 1, 1, 1, 1, 1, 1, 1, ...</td>\n",
       "      <td>[0, 33082, 4, 85, 18, 8017, 176, 3877, 41992, ...</td>\n",
       "      <td>[(0, 0), (0, 4), (4, 5), (6, 8), (8, 10), (11,...</td>\n",
       "      <td>[109, 110, 111]</td>\n",
       "      <td>[0, 0, 0, 0, 0, 0, 0, 0, 0, 0, 0, 0, 0, 0, 0, ...</td>\n",
       "      <td>[ Vladimir,  Zel, insky]</td>\n",
       "    </tr>\n",
       "    <tr>\n",
       "      <th>1544</th>\n",
       "      <td>1544</td>\n",
       "      <td>Okay. It's 1102 Eastern Daylight Time, and tha...</td>\n",
       "      <td>, first you're a Russian, then you're a peon. ...</td>\n",
       "      <td>Vladimir Zelinsky</td>\n",
       "      <td>565</td>\n",
       "      <td>582</td>\n",
       "      <td>2</td>\n",
       "      <td>Okay. It's 1102 Eastern Daylight Time, and tha...</td>\n",
       "      <td>400</td>\n",
       "      <td>417</td>\n",
       "      <td>Vladimir Zelinsky</td>\n",
       "      <td>[1, 1, 1, 1, 1, 1, 1, 1, 1, 1, 1, 1, 1, 1, 1, ...</td>\n",
       "      <td>[0, 33082, 4, 85, 18, 8017, 176, 3877, 41992, ...</td>\n",
       "      <td>[(0, 0), (0, 4), (4, 5), (6, 8), (8, 10), (11,...</td>\n",
       "      <td>[109, 110, 111]</td>\n",
       "      <td>[0, 0, 0, 0, 0, 0, 0, 0, 0, 0, 0, 0, 0, 0, 0, ...</td>\n",
       "      <td>[ Vladimir,  Zel, insky]</td>\n",
       "    </tr>\n",
       "    <tr>\n",
       "      <th>266</th>\n",
       "      <td>266</td>\n",
       "      <td>Hi everyone, this is just a quick note to apol...</td>\n",
       "      <td>I'm sure you're all sick of me by now. Well, ...</td>\n",
       "      <td>Yo yo</td>\n",
       "      <td>699</td>\n",
       "      <td>704</td>\n",
       "      <td>2</td>\n",
       "      <td>Hi everyone, this is just a quick note to apol...</td>\n",
       "      <td>699</td>\n",
       "      <td>704</td>\n",
       "      <td>Yo yo</td>\n",
       "      <td>[1, 1, 1, 1, 1, 1, 1, 1, 1, 1, 1, 1, 1, 1, 1, ...</td>\n",
       "      <td>[0, 30086, 961, 6, 42, 16, 95, 10, 2119, 1591,...</td>\n",
       "      <td>[(0, 0), (0, 2), (3, 11), (11, 12), (13, 17), ...</td>\n",
       "      <td>[165, 166]</td>\n",
       "      <td>[0, 0, 0, 0, 0, 0, 0, 0, 0, 0, 0, 0, 0, 0, 0, ...</td>\n",
       "      <td>[ Yo,  yo]</td>\n",
       "    </tr>\n",
       "    <tr>\n",
       "      <th>191</th>\n",
       "      <td>191</td>\n",
       "      <td>they are born to be. Now today's episode is br...</td>\n",
       "      <td>who is a graduate. Graduate. Receipt is BFA f...</td>\n",
       "      <td>Zewon Chung</td>\n",
       "      <td>1761</td>\n",
       "      <td>1772</td>\n",
       "      <td>1</td>\n",
       "      <td>they are born to be. Now today's episode is br...</td>\n",
       "      <td>1198</td>\n",
       "      <td>1209</td>\n",
       "      <td>Zewon Chung</td>\n",
       "      <td>[1, 1, 1, 1, 1, 1, 1, 1, 1, 1, 1, 1, 1, 1, 1, ...</td>\n",
       "      <td>[0, 10010, 32, 2421, 7, 28, 4, 978, 452, 18, 3...</td>\n",
       "      <td>[(0, 0), (0, 4), (5, 8), (9, 13), (14, 16), (1...</td>\n",
       "      <td>[245, 246, 247, 248]</td>\n",
       "      <td>[0, 0, 0, 0, 0, 0, 0, 0, 0, 0, 0, 0, 0, 0, 0, ...</td>\n",
       "      <td>[ Z, ew, on,  Chung]</td>\n",
       "    </tr>\n",
       "  </tbody>\n",
       "</table>\n",
       "<p>373 rows × 17 columns</p>\n",
       "</div>"
      ],
      "text/plain": [
       "      index                                               left  \\\n",
       "107     107  (upbeat music) Hey, hello everyone, welcome to...   \n",
       "55       55  [MUSIC] Hey Wofford fans, Phil Marcelo here we...   \n",
       "56       56  [MUSIC] Hey Wofford fans, Phil Marcelo here we...   \n",
       "529     529  The Wildlife Observer Network. Hey everybody, ...   \n",
       "468     468  The REB Business Empowerment Showcase. Shining...   \n",
       "...     ...                                                ...   \n",
       "1542   1542  Okay. It's 1102 Eastern Daylight Time, and tha...   \n",
       "1543   1543  Okay. It's 1102 Eastern Daylight Time, and tha...   \n",
       "1544   1544  Okay. It's 1102 Eastern Daylight Time, and tha...   \n",
       "266     266  Hi everyone, this is just a quick note to apol...   \n",
       "191     191  they are born to be. Now today's episode is br...   \n",
       "\n",
       "                                                  right                ent  \\\n",
       "107   . In this episode, I'm gonna talk about board ...       Aaron Prasad   \n",
       "55     and Amanda Paris. Fans, we now welcome on Wof...      Alex Hamilton   \n",
       "56    . Alex, I know you've been busy, so first off,...      Alex Hamilton   \n",
       "529   . But before we hear from him, let me share so...      Alex Troutman   \n",
       "468   . So take a look at the real estate market. An...      Alex Whitlock   \n",
       "...                                                 ...                ...   \n",
       "1542   has to go to the bathroom really bad? I don't...  Vladimir Zelinsky   \n",
       "1543   has to go to the bathroom really bad? Because...  Vladimir Zelinsky   \n",
       "1544  , first you're a Russian, then you're a peon. ...  Vladimir Zelinsky   \n",
       "266    I'm sure you're all sick of me by now. Well, ...              Yo yo   \n",
       "191    who is a graduate. Graduate. Receipt is BFA f...        Zewon Chung   \n",
       "\n",
       "      transStarts  transEnds  groundTruth  \\\n",
       "107            70         82            0   \n",
       "55            331        344            1   \n",
       "56            413        426            1   \n",
       "529           166        179            1   \n",
       "468           244        257            0   \n",
       "...           ...        ...          ...   \n",
       "1542          400        417            2   \n",
       "1543          491        508            2   \n",
       "1544          565        582            2   \n",
       "266           699        704            2   \n",
       "191          1761       1772            1   \n",
       "\n",
       "                                            entSnippets  snippetStart  \\\n",
       "107   (upbeat music) Hey, hello everyone, welcome to...            70   \n",
       "55    [MUSIC] Hey Wofford fans, Phil Marcelo here we...           331   \n",
       "56    [MUSIC] Hey Wofford fans, Phil Marcelo here we...           331   \n",
       "529   The Wildlife Observer Network. Hey everybody, ...           166   \n",
       "468   The REB Business Empowerment Showcase. Shining...           244   \n",
       "...                                                 ...           ...   \n",
       "1542  Okay. It's 1102 Eastern Daylight Time, and tha...           400   \n",
       "1543  Okay. It's 1102 Eastern Daylight Time, and tha...           400   \n",
       "1544  Okay. It's 1102 Eastern Daylight Time, and tha...           400   \n",
       "266   Hi everyone, this is just a quick note to apol...           699   \n",
       "191   they are born to be. Now today's episode is br...          1198   \n",
       "\n",
       "      snippetEnd       extractedEnt  \\\n",
       "107           82       Aaron Prasad   \n",
       "55           344      Alex Hamilton   \n",
       "56           344      Alex Hamilton   \n",
       "529          179      Alex Troutman   \n",
       "468          257      Alex Whitlock   \n",
       "...          ...                ...   \n",
       "1542         417  Vladimir Zelinsky   \n",
       "1543         417  Vladimir Zelinsky   \n",
       "1544         417  Vladimir Zelinsky   \n",
       "266          704              Yo yo   \n",
       "191         1209        Zewon Chung   \n",
       "\n",
       "                                         attention_mask  \\\n",
       "107   [1, 1, 1, 1, 1, 1, 1, 1, 1, 1, 1, 1, 1, 1, 1, ...   \n",
       "55    [1, 1, 1, 1, 1, 1, 1, 1, 1, 1, 1, 1, 1, 1, 1, ...   \n",
       "56    [1, 1, 1, 1, 1, 1, 1, 1, 1, 1, 1, 1, 1, 1, 1, ...   \n",
       "529   [1, 1, 1, 1, 1, 1, 1, 1, 1, 1, 1, 1, 1, 1, 1, ...   \n",
       "468   [1, 1, 1, 1, 1, 1, 1, 1, 1, 1, 1, 1, 1, 1, 1, ...   \n",
       "...                                                 ...   \n",
       "1542  [1, 1, 1, 1, 1, 1, 1, 1, 1, 1, 1, 1, 1, 1, 1, ...   \n",
       "1543  [1, 1, 1, 1, 1, 1, 1, 1, 1, 1, 1, 1, 1, 1, 1, ...   \n",
       "1544  [1, 1, 1, 1, 1, 1, 1, 1, 1, 1, 1, 1, 1, 1, 1, ...   \n",
       "266   [1, 1, 1, 1, 1, 1, 1, 1, 1, 1, 1, 1, 1, 1, 1, ...   \n",
       "191   [1, 1, 1, 1, 1, 1, 1, 1, 1, 1, 1, 1, 1, 1, 1, ...   \n",
       "\n",
       "                                              input_ids  \\\n",
       "107   [0, 1640, 658, 13825, 930, 43, 11468, 6, 20760...   \n",
       "55    [0, 10975, 448, 3048, 2371, 742, 11468, 305, 1...   \n",
       "56    [0, 10975, 448, 3048, 2371, 742, 11468, 305, 1...   \n",
       "529   [0, 133, 10479, 15815, 3658, 4, 11468, 3370, 6...   \n",
       "468   [0, 133, 4979, 387, 2090, 3676, 11017, 1757, 2...   \n",
       "...                                                 ...   \n",
       "1542  [0, 33082, 4, 85, 18, 8017, 176, 3877, 41992, ...   \n",
       "1543  [0, 33082, 4, 85, 18, 8017, 176, 3877, 41992, ...   \n",
       "1544  [0, 33082, 4, 85, 18, 8017, 176, 3877, 41992, ...   \n",
       "266   [0, 30086, 961, 6, 42, 16, 95, 10, 2119, 1591,...   \n",
       "191   [0, 10010, 32, 2421, 7, 28, 4, 978, 452, 18, 3...   \n",
       "\n",
       "                                         offset_mapping             posTokens  \\\n",
       "107   [(0, 0), (0, 1), (1, 3), (3, 7), (8, 13), (13,...      [19, 20, 21, 22]   \n",
       "55    [(0, 0), (0, 1), (1, 2), (2, 4), (4, 6), (6, 7...              [74, 75]   \n",
       "56    [(0, 0), (0, 1), (1, 2), (2, 4), (4, 6), (6, 7...              [74, 75]   \n",
       "529   [(0, 0), (0, 3), (4, 12), (13, 21), (22, 29), ...          [36, 37, 38]   \n",
       "468   [(0, 0), (0, 3), (4, 6), (6, 7), (8, 16), (17,...          [51, 52, 53]   \n",
       "...                                                 ...                   ...   \n",
       "1542  [(0, 0), (0, 4), (4, 5), (6, 8), (8, 10), (11,...       [109, 110, 111]   \n",
       "1543  [(0, 0), (0, 4), (4, 5), (6, 8), (8, 10), (11,...       [109, 110, 111]   \n",
       "1544  [(0, 0), (0, 4), (4, 5), (6, 8), (8, 10), (11,...       [109, 110, 111]   \n",
       "266   [(0, 0), (0, 2), (3, 11), (11, 12), (13, 17), ...            [165, 166]   \n",
       "191   [(0, 0), (0, 4), (5, 8), (9, 13), (14, 16), (1...  [245, 246, 247, 248]   \n",
       "\n",
       "                                                 labels  \\\n",
       "107   [0, 0, 0, 0, 0, 0, 0, 0, 0, 0, 0, 0, 0, 0, 0, ...   \n",
       "55    [0, 0, 0, 0, 0, 0, 0, 0, 0, 0, 0, 0, 0, 0, 0, ...   \n",
       "56    [0, 0, 0, 0, 0, 0, 0, 0, 0, 0, 0, 0, 0, 0, 0, ...   \n",
       "529   [0, 0, 0, 0, 0, 0, 0, 0, 0, 0, 0, 0, 0, 0, 0, ...   \n",
       "468   [0, 0, 0, 0, 0, 0, 0, 0, 0, 0, 0, 0, 0, 0, 0, ...   \n",
       "...                                                 ...   \n",
       "1542  [0, 0, 0, 0, 0, 0, 0, 0, 0, 0, 0, 0, 0, 0, 0, ...   \n",
       "1543  [0, 0, 0, 0, 0, 0, 0, 0, 0, 0, 0, 0, 0, 0, 0, ...   \n",
       "1544  [0, 0, 0, 0, 0, 0, 0, 0, 0, 0, 0, 0, 0, 0, 0, ...   \n",
       "266   [0, 0, 0, 0, 0, 0, 0, 0, 0, 0, 0, 0, 0, 0, 0, ...   \n",
       "191   [0, 0, 0, 0, 0, 0, 0, 0, 0, 0, 0, 0, 0, 0, 0, ...   \n",
       "\n",
       "                 entsTokenized  \n",
       "107      [ Aaron,  Pr, as, ad]  \n",
       "55          [ Alex,  Hamilton]  \n",
       "56          [ Alex,  Hamilton]  \n",
       "529       [ Alex,  Trout, man]  \n",
       "468       [ Alex,  Whit, lock]  \n",
       "...                        ...  \n",
       "1542  [ Vladimir,  Zel, insky]  \n",
       "1543  [ Vladimir,  Zel, insky]  \n",
       "1544  [ Vladimir,  Zel, insky]  \n",
       "266                 [ Yo,  yo]  \n",
       "191       [ Z, ew, on,  Chung]  \n",
       "\n",
       "[373 rows x 17 columns]"
      ]
     },
     "execution_count": 36,
     "metadata": {},
     "output_type": "execute_result"
    }
   ],
   "source": [
    "#get the first occurence of each entity and train with that instead \n",
    "valDf.sort_values([\"extractedEnt\", \"transStarts\"])"
   ]
  },
  {
   "cell_type": "code",
   "execution_count": 26,
   "id": "b80f785f-dc7a-45f6-ae18-ceffd3b3d839",
   "metadata": {},
   "outputs": [
    {
     "name": "stderr",
     "output_type": "stream",
     "text": [
      "Some weights of RobertaModel were not initialized from the model checkpoint at roberta-base and are newly initialized: ['roberta.pooler.dense.bias', 'roberta.pooler.dense.weight']\n",
      "You should probably TRAIN this model on a down-stream task to be able to use it for predictions and inference.\n"
     ]
    },
    {
     "name": "stdout",
     "output_type": "stream",
     "text": [
      "Fold 1\n",
      "399\n",
      "EPOCH: 0\n"
     ]
    },
    {
     "data": {
      "application/vnd.jupyter.widget-view+json": {
       "model_id": "d68406a0179e44709d14096b37916f5b",
       "version_major": 2,
       "version_minor": 0
      },
      "text/plain": [
       "  0%|          | 0/399 [00:00<?, ?it/s]"
      ]
     },
     "metadata": {},
     "output_type": "display_data"
    },
    {
     "data": {
      "application/vnd.jupyter.widget-view+json": {
       "model_id": "0aec7ec162ca486793248f643aebf1da",
       "version_major": 2,
       "version_minor": 0
      },
      "text/plain": [
       "  0%|          | 0/103 [00:00<?, ?it/s]"
      ]
     },
     "metadata": {},
     "output_type": "display_data"
    },
    {
     "name": "stdout",
     "output_type": "stream",
     "text": [
      "train f1: 0.0\n",
      "valid f1: 0.3348202854056513\n",
      "learning rate [5.128205128205128e-07]\n"
     ]
    },
    {
     "data": {
      "application/vnd.jupyter.widget-view+json": {
       "model_id": "5eaa7ea92d284ee6b1aeed3770c313af",
       "version_major": 2,
       "version_minor": 0
      },
      "text/plain": [
       "  0%|          | 0/103 [00:00<?, ?it/s]"
      ]
     },
     "metadata": {},
     "output_type": "display_data"
    },
    {
     "name": "stdout",
     "output_type": "stream",
     "text": [
      "train f1: 0.6542223504964211\n",
      "valid f1: 0.7774159986355108\n",
      "learning rate [1.827777777777778e-05]\n"
     ]
    },
    {
     "data": {
      "application/vnd.jupyter.widget-view+json": {
       "model_id": "e1d867c21da44e98a95a930fb7f7e85e",
       "version_major": 2,
       "version_minor": 0
      },
      "text/plain": [
       "  0%|          | 0/103 [00:00<?, ?it/s]"
      ]
     },
     "metadata": {},
     "output_type": "display_data"
    },
    {
     "name": "stdout",
     "output_type": "stream",
     "text": [
      "train f1: 0.8226736041065545\n",
      "valid f1: 0.8346798810411058\n",
      "learning rate [1.55e-05]\n"
     ]
    },
    {
     "data": {
      "application/vnd.jupyter.widget-view+json": {
       "model_id": "1a1ef3d2a51543beab424c77e4868858",
       "version_major": 2,
       "version_minor": 0
      },
      "text/plain": [
       "  0%|          | 0/103 [00:00<?, ?it/s]"
      ]
     },
     "metadata": {},
     "output_type": "display_data"
    },
    {
     "name": "stdout",
     "output_type": "stream",
     "text": [
      "train f1: 0.8663422702809461\n",
      "valid f1: 0.8313836002825116\n",
      "learning rate [1.2722222222222223e-05]\n",
      "EPOCH: 1\n"
     ]
    },
    {
     "data": {
      "application/vnd.jupyter.widget-view+json": {
       "model_id": "07e7c755bb6f458d80ab49b2458c67e4",
       "version_major": 2,
       "version_minor": 0
      },
      "text/plain": [
       "  0%|          | 0/399 [00:00<?, ?it/s]"
      ]
     },
     "metadata": {},
     "output_type": "display_data"
    },
    {
     "data": {
      "application/vnd.jupyter.widget-view+json": {
       "model_id": "c3a6d204b375465dac76a35fdcfd803a",
       "version_major": 2,
       "version_minor": 0
      },
      "text/plain": [
       "  0%|          | 0/103 [00:00<?, ?it/s]"
      ]
     },
     "metadata": {},
     "output_type": "display_data"
    },
    {
     "name": "stdout",
     "output_type": "stream",
     "text": [
      "train f1: 0.75\n",
      "valid f1: 0.7906307635401778\n",
      "learning rate [9.972222222222224e-06]\n"
     ]
    },
    {
     "data": {
      "application/vnd.jupyter.widget-view+json": {
       "model_id": "c0decb08075149a094bfb1e226cbc230",
       "version_major": 2,
       "version_minor": 0
      },
      "text/plain": [
       "  0%|          | 0/103 [00:00<?, ?it/s]"
      ]
     },
     "metadata": {},
     "output_type": "display_data"
    },
    {
     "name": "stdout",
     "output_type": "stream",
     "text": [
      "train f1: 0.9172196579551638\n",
      "valid f1: 0.8396044257798223\n",
      "learning rate [7.194444444444445e-06]\n"
     ]
    },
    {
     "data": {
      "application/vnd.jupyter.widget-view+json": {
       "model_id": "086785922eca4ba7b1a469d15e3755c0",
       "version_major": 2,
       "version_minor": 0
      },
      "text/plain": [
       "  0%|          | 0/103 [00:00<?, ?it/s]"
      ]
     },
     "metadata": {},
     "output_type": "display_data"
    },
    {
     "name": "stdout",
     "output_type": "stream",
     "text": [
      "train f1: 0.898047256949198\n",
      "valid f1: 0.8382184372976731\n",
      "learning rate [4.416666666666667e-06]\n"
     ]
    },
    {
     "data": {
      "application/vnd.jupyter.widget-view+json": {
       "model_id": "db04297870994bd5aa93ac546b111c29",
       "version_major": 2,
       "version_minor": 0
      },
      "text/plain": [
       "  0%|          | 0/103 [00:00<?, ?it/s]"
      ]
     },
     "metadata": {},
     "output_type": "display_data"
    },
    {
     "name": "stdout",
     "output_type": "stream",
     "text": [
      "train f1: 0.9399083291749832\n",
      "valid f1: 0.822009503026444\n",
      "learning rate [1.638888888888889e-06]\n"
     ]
    },
    {
     "name": "stderr",
     "output_type": "stream",
     "text": [
      "Some weights of RobertaModel were not initialized from the model checkpoint at roberta-base and are newly initialized: ['roberta.pooler.dense.bias', 'roberta.pooler.dense.weight']\n",
      "You should probably TRAIN this model on a down-stream task to be able to use it for predictions and inference.\n"
     ]
    },
    {
     "name": "stdout",
     "output_type": "stream",
     "text": [
      "Fold 2\n",
      "392\n",
      "EPOCH: 0\n"
     ]
    },
    {
     "data": {
      "application/vnd.jupyter.widget-view+json": {
       "model_id": "85d67840ba154af6b1f9f5cf98c07663",
       "version_major": 2,
       "version_minor": 0
      },
      "text/plain": [
       "  0%|          | 0/392 [00:00<?, ?it/s]"
      ]
     },
     "metadata": {},
     "output_type": "display_data"
    },
    {
     "data": {
      "application/vnd.jupyter.widget-view+json": {
       "model_id": "0d8dec99950148dd90bfcf24811dba02",
       "version_major": 2,
       "version_minor": 0
      },
      "text/plain": [
       "  0%|          | 0/110 [00:00<?, ?it/s]"
      ]
     },
     "metadata": {},
     "output_type": "display_data"
    },
    {
     "name": "stdout",
     "output_type": "stream",
     "text": [
      "train f1: 0.5\n",
      "valid f1: 0.4962603060071413\n",
      "learning rate [5.128205128205128e-07]\n"
     ]
    },
    {
     "data": {
      "application/vnd.jupyter.widget-view+json": {
       "model_id": "08065c9321f541be83e694076034537f",
       "version_major": 2,
       "version_minor": 0
      },
      "text/plain": [
       "  0%|          | 0/110 [00:00<?, ?it/s]"
      ]
     },
     "metadata": {},
     "output_type": "display_data"
    },
    {
     "name": "stdout",
     "output_type": "stream",
     "text": [
      "train f1: 0.6451966766899282\n",
      "valid f1: 0.7797506583326158\n",
      "learning rate [1.8243626062322947e-05]\n"
     ]
    },
    {
     "data": {
      "application/vnd.jupyter.widget-view+json": {
       "model_id": "a025e4fdf9de4ce98dd9b10b0da2984f",
       "version_major": 2,
       "version_minor": 0
      },
      "text/plain": [
       "  0%|          | 0/110 [00:00<?, ?it/s]"
      ]
     },
     "metadata": {},
     "output_type": "display_data"
    },
    {
     "name": "stdout",
     "output_type": "stream",
     "text": [
      "train f1: 0.7818067323011562\n",
      "valid f1: 0.796449077051374\n",
      "learning rate [1.5410764872521246e-05]\n"
     ]
    },
    {
     "data": {
      "application/vnd.jupyter.widget-view+json": {
       "model_id": "ced48977ecf1465aaa168841b176c736",
       "version_major": 2,
       "version_minor": 0
      },
      "text/plain": [
       "  0%|          | 0/110 [00:00<?, ?it/s]"
      ]
     },
     "metadata": {},
     "output_type": "display_data"
    },
    {
     "name": "stdout",
     "output_type": "stream",
     "text": [
      "train f1: 0.7808209721349256\n",
      "valid f1: 0.8040866519319932\n",
      "learning rate [1.2577903682719548e-05]\n",
      "EPOCH: 1\n"
     ]
    },
    {
     "data": {
      "application/vnd.jupyter.widget-view+json": {
       "model_id": "f596183ace924dfd81322a241ea79719",
       "version_major": 2,
       "version_minor": 0
      },
      "text/plain": [
       "  0%|          | 0/392 [00:00<?, ?it/s]"
      ]
     },
     "metadata": {},
     "output_type": "display_data"
    },
    {
     "data": {
      "application/vnd.jupyter.widget-view+json": {
       "model_id": "1b112ab1b256414994c94a18f21b59a6",
       "version_major": 2,
       "version_minor": 0
      },
      "text/plain": [
       "  0%|          | 0/110 [00:00<?, ?it/s]"
      ]
     },
     "metadata": {},
     "output_type": "display_data"
    },
    {
     "name": "stdout",
     "output_type": "stream",
     "text": [
      "train f1: 0.5\n",
      "valid f1: 0.8290627939577356\n",
      "learning rate [9.971671388101982e-06]\n"
     ]
    },
    {
     "data": {
      "application/vnd.jupyter.widget-view+json": {
       "model_id": "6d6f2eb1894d4ff8a3d26a54993a9cb2",
       "version_major": 2,
       "version_minor": 0
      },
      "text/plain": [
       "  0%|          | 0/110 [00:00<?, ?it/s]"
      ]
     },
     "metadata": {},
     "output_type": "display_data"
    },
    {
     "name": "stdout",
     "output_type": "stream",
     "text": [
      "train f1: 0.8711840964013546\n",
      "valid f1: 0.8763488167668512\n",
      "learning rate [7.1388101983002834e-06]\n"
     ]
    },
    {
     "data": {
      "application/vnd.jupyter.widget-view+json": {
       "model_id": "76e5aa77ffce41119b38a2afd5b9bf73",
       "version_major": 2,
       "version_minor": 0
      },
      "text/plain": [
       "  0%|          | 0/110 [00:00<?, ?it/s]"
      ]
     },
     "metadata": {},
     "output_type": "display_data"
    },
    {
     "name": "stdout",
     "output_type": "stream",
     "text": [
      "train f1: 0.8866356722522472\n",
      "valid f1: 0.8583843429579215\n",
      "learning rate [4.3059490084985835e-06]\n"
     ]
    },
    {
     "data": {
      "application/vnd.jupyter.widget-view+json": {
       "model_id": "32c2c9a1e2844d96984530ab70b26d2f",
       "version_major": 2,
       "version_minor": 0
      },
      "text/plain": [
       "  0%|          | 0/110 [00:00<?, ?it/s]"
      ]
     },
     "metadata": {},
     "output_type": "display_data"
    },
    {
     "name": "stdout",
     "output_type": "stream",
     "text": [
      "train f1: 0.8779556241101092\n",
      "valid f1: 0.8868884917036863\n",
      "learning rate [1.4730878186968839e-06]\n"
     ]
    },
    {
     "name": "stderr",
     "output_type": "stream",
     "text": [
      "Some weights of RobertaModel were not initialized from the model checkpoint at roberta-base and are newly initialized: ['roberta.pooler.dense.bias', 'roberta.pooler.dense.weight']\n",
      "You should probably TRAIN this model on a down-stream task to be able to use it for predictions and inference.\n"
     ]
    },
    {
     "name": "stdout",
     "output_type": "stream",
     "text": [
      "Fold 3\n",
      "407\n",
      "EPOCH: 0\n"
     ]
    },
    {
     "data": {
      "application/vnd.jupyter.widget-view+json": {
       "model_id": "82b2560c32d2408798b2fd6af0f1b8dd",
       "version_major": 2,
       "version_minor": 0
      },
      "text/plain": [
       "  0%|          | 0/407 [00:00<?, ?it/s]"
      ]
     },
     "metadata": {},
     "output_type": "display_data"
    },
    {
     "data": {
      "application/vnd.jupyter.widget-view+json": {
       "model_id": "df0301b51a0d49bc9f065249bc828547",
       "version_major": 2,
       "version_minor": 0
      },
      "text/plain": [
       "  0%|          | 0/95 [00:00<?, ?it/s]"
      ]
     },
     "metadata": {},
     "output_type": "display_data"
    },
    {
     "name": "stdout",
     "output_type": "stream",
     "text": [
      "train f1: 0.375\n",
      "valid f1: 0.3172427385221802\n",
      "learning rate [5.000000000000001e-07]\n"
     ]
    },
    {
     "data": {
      "application/vnd.jupyter.widget-view+json": {
       "model_id": "18adc6b49cb042caa33b9e59c68d4019",
       "version_major": 2,
       "version_minor": 0
      },
      "text/plain": [
       "  0%|          | 0/95 [00:00<?, ?it/s]"
      ]
     },
     "metadata": {},
     "output_type": "display_data"
    },
    {
     "name": "stdout",
     "output_type": "stream",
     "text": [
      "train f1: 0.6034270238882268\n",
      "valid f1: 0.6919548563936345\n",
      "learning rate [1.8337874659400548e-05]\n"
     ]
    },
    {
     "data": {
      "application/vnd.jupyter.widget-view+json": {
       "model_id": "36b969b4539f489cbc3f3c04352b88f5",
       "version_major": 2,
       "version_minor": 0
      },
      "text/plain": [
       "  0%|          | 0/95 [00:00<?, ?it/s]"
      ]
     },
     "metadata": {},
     "output_type": "display_data"
    },
    {
     "name": "stdout",
     "output_type": "stream",
     "text": [
      "train f1: 0.80572502869679\n",
      "valid f1: 0.8736546032153472\n",
      "learning rate [1.5613079019073573e-05]\n"
     ]
    },
    {
     "data": {
      "application/vnd.jupyter.widget-view+json": {
       "model_id": "18c738fbe99d41018721e521aede2b56",
       "version_major": 2,
       "version_minor": 0
      },
      "text/plain": [
       "  0%|          | 0/95 [00:00<?, ?it/s]"
      ]
     },
     "metadata": {},
     "output_type": "display_data"
    },
    {
     "name": "stdout",
     "output_type": "stream",
     "text": [
      "train f1: 0.8572846514262176\n",
      "valid f1: 0.8576871662009296\n",
      "learning rate [1.2888283378746595e-05]\n"
     ]
    },
    {
     "data": {
      "application/vnd.jupyter.widget-view+json": {
       "model_id": "dc5a09ef4abd430abf398177e7ff4118",
       "version_major": 2,
       "version_minor": 0
      },
      "text/plain": [
       "  0%|          | 0/95 [00:00<?, ?it/s]"
      ]
     },
     "metadata": {},
     "output_type": "display_data"
    },
    {
     "name": "stdout",
     "output_type": "stream",
     "text": [
      "train f1: 0.8752456791067605\n",
      "valid f1: 0.829795534298126\n",
      "learning rate [1.016348773841962e-05]\n",
      "EPOCH: 1\n"
     ]
    },
    {
     "data": {
      "application/vnd.jupyter.widget-view+json": {
       "model_id": "1cbf3a70ceb34cfe95752496c1e8ed22",
       "version_major": 2,
       "version_minor": 0
      },
      "text/plain": [
       "  0%|          | 0/407 [00:00<?, ?it/s]"
      ]
     },
     "metadata": {},
     "output_type": "display_data"
    },
    {
     "data": {
      "application/vnd.jupyter.widget-view+json": {
       "model_id": "0a25da5fa795405ba10665023f32fc85",
       "version_major": 2,
       "version_minor": 0
      },
      "text/plain": [
       "  0%|          | 0/95 [00:00<?, ?it/s]"
      ]
     },
     "metadata": {},
     "output_type": "display_data"
    },
    {
     "name": "stdout",
     "output_type": "stream",
     "text": [
      "train f1: 1.0\n",
      "valid f1: 0.8441468115602202\n",
      "learning rate [9.97275204359673e-06]\n"
     ]
    },
    {
     "data": {
      "application/vnd.jupyter.widget-view+json": {
       "model_id": "e646c92629f64130acd8a9889f5cbd0a",
       "version_major": 2,
       "version_minor": 0
      },
      "text/plain": [
       "  0%|          | 0/95 [00:00<?, ?it/s]"
      ]
     },
     "metadata": {},
     "output_type": "display_data"
    },
    {
     "name": "stdout",
     "output_type": "stream",
     "text": [
      "train f1: 0.931159831143651\n",
      "valid f1: 0.9081840790684499\n",
      "learning rate [7.247956403269756e-06]\n"
     ]
    },
    {
     "data": {
      "application/vnd.jupyter.widget-view+json": {
       "model_id": "c407ba6e325b47d9b47d015ca60c4ccb",
       "version_major": 2,
       "version_minor": 0
      },
      "text/plain": [
       "  0%|          | 0/95 [00:00<?, ?it/s]"
      ]
     },
     "metadata": {},
     "output_type": "display_data"
    },
    {
     "name": "stdout",
     "output_type": "stream",
     "text": [
      "train f1: 0.935458160228243\n",
      "valid f1: 0.8404005155826387\n",
      "learning rate [4.52316076294278e-06]\n"
     ]
    },
    {
     "data": {
      "application/vnd.jupyter.widget-view+json": {
       "model_id": "51c6e00cc92444dbaa18fd6656b3cc91",
       "version_major": 2,
       "version_minor": 0
      },
      "text/plain": [
       "  0%|          | 0/95 [00:00<?, ?it/s]"
      ]
     },
     "metadata": {},
     "output_type": "display_data"
    },
    {
     "name": "stdout",
     "output_type": "stream",
     "text": [
      "train f1: 0.9176214811037977\n",
      "valid f1: 0.9106105969514299\n",
      "learning rate [1.7983651226158039e-06]\n"
     ]
    },
    {
     "data": {
      "application/vnd.jupyter.widget-view+json": {
       "model_id": "2705ac1175774beb93d4e8e061b5a968",
       "version_major": 2,
       "version_minor": 0
      },
      "text/plain": [
       "  0%|          | 0/95 [00:00<?, ?it/s]"
      ]
     },
     "metadata": {},
     "output_type": "display_data"
    },
    {
     "name": "stdout",
     "output_type": "stream",
     "text": [
      "train f1: 0.8892361841183068\n",
      "valid f1: 0.9159168691642857\n",
      "learning rate [0.0]\n"
     ]
    },
    {
     "name": "stderr",
     "output_type": "stream",
     "text": [
      "Some weights of RobertaModel were not initialized from the model checkpoint at roberta-base and are newly initialized: ['roberta.pooler.dense.bias', 'roberta.pooler.dense.weight']\n",
      "You should probably TRAIN this model on a down-stream task to be able to use it for predictions and inference.\n"
     ]
    },
    {
     "name": "stdout",
     "output_type": "stream",
     "text": [
      "Fold 4\n",
      "401\n",
      "EPOCH: 0\n"
     ]
    },
    {
     "data": {
      "application/vnd.jupyter.widget-view+json": {
       "model_id": "f9fe1037e6334e7fbe931685474f7e03",
       "version_major": 2,
       "version_minor": 0
      },
      "text/plain": [
       "  0%|          | 0/401 [00:00<?, ?it/s]"
      ]
     },
     "metadata": {},
     "output_type": "display_data"
    },
    {
     "data": {
      "application/vnd.jupyter.widget-view+json": {
       "model_id": "d930538facdd4f2285ad1c97859bd6b5",
       "version_major": 2,
       "version_minor": 0
      },
      "text/plain": [
       "  0%|          | 0/101 [00:00<?, ?it/s]"
      ]
     },
     "metadata": {},
     "output_type": "display_data"
    },
    {
     "name": "stdout",
     "output_type": "stream",
     "text": [
      "train f1: 0.5\n",
      "valid f1: 0.6692270505856114\n",
      "learning rate [5.000000000000001e-07]\n"
     ]
    },
    {
     "data": {
      "application/vnd.jupyter.widget-view+json": {
       "model_id": "6742b37529da4a61ad65a04678a4e7da",
       "version_major": 2,
       "version_minor": 0
      },
      "text/plain": [
       "  0%|          | 0/101 [00:00<?, ?it/s]"
      ]
     },
     "metadata": {},
     "output_type": "display_data"
    },
    {
     "name": "stdout",
     "output_type": "stream",
     "text": [
      "train f1: 0.6731441097376331\n",
      "valid f1: 0.7425897035881435\n",
      "learning rate [1.8310249307479225e-05]\n"
     ]
    },
    {
     "data": {
      "application/vnd.jupyter.widget-view+json": {
       "model_id": "ecc334e82f8843b699ff070659ec39b2",
       "version_major": 2,
       "version_minor": 0
      },
      "text/plain": [
       "  0%|          | 0/101 [00:00<?, ?it/s]"
      ]
     },
     "metadata": {},
     "output_type": "display_data"
    },
    {
     "name": "stdout",
     "output_type": "stream",
     "text": [
      "train f1: 0.7261146496815287\n",
      "valid f1: 0.7425897035881435\n",
      "learning rate [1.5540166204986152e-05]\n"
     ]
    },
    {
     "data": {
      "application/vnd.jupyter.widget-view+json": {
       "model_id": "85c85481c5534effba2abe6dc6f428c4",
       "version_major": 2,
       "version_minor": 0
      },
      "text/plain": [
       "  0%|          | 0/101 [00:00<?, ?it/s]"
      ]
     },
     "metadata": {},
     "output_type": "display_data"
    },
    {
     "name": "stdout",
     "output_type": "stream",
     "text": [
      "train f1: 0.7002612750880971\n",
      "valid f1: 0.8143680813290647\n",
      "learning rate [1.2770083102493075e-05]\n"
     ]
    },
    {
     "data": {
      "application/vnd.jupyter.widget-view+json": {
       "model_id": "b22cff7b094d4e6bb1ba144da7b884ae",
       "version_major": 2,
       "version_minor": 0
      },
      "text/plain": [
       "  0%|          | 0/101 [00:00<?, ?it/s]"
      ]
     },
     "metadata": {},
     "output_type": "display_data"
    },
    {
     "name": "stdout",
     "output_type": "stream",
     "text": [
      "train f1: 0.7957703314929547\n",
      "valid f1: 0.808674315994887\n",
      "learning rate [1e-05]\n",
      "EPOCH: 1\n"
     ]
    },
    {
     "data": {
      "application/vnd.jupyter.widget-view+json": {
       "model_id": "704f2ddcf9ee4f4d987d634c665dc789",
       "version_major": 2,
       "version_minor": 0
      },
      "text/plain": [
       "  0%|          | 0/401 [00:00<?, ?it/s]"
      ]
     },
     "metadata": {},
     "output_type": "display_data"
    },
    {
     "data": {
      "application/vnd.jupyter.widget-view+json": {
       "model_id": "77b54e44d5354685ab9d98eac60b4183",
       "version_major": 2,
       "version_minor": 0
      },
      "text/plain": [
       "  0%|          | 0/101 [00:00<?, ?it/s]"
      ]
     },
     "metadata": {},
     "output_type": "display_data"
    },
    {
     "name": "stdout",
     "output_type": "stream",
     "text": [
      "train f1: 1.0\n",
      "valid f1: 0.8064404014611483\n",
      "learning rate [9.97229916897507e-06]\n"
     ]
    },
    {
     "data": {
      "application/vnd.jupyter.widget-view+json": {
       "model_id": "053c4a996bb546f28d1a2870a385c10c",
       "version_major": 2,
       "version_minor": 0
      },
      "text/plain": [
       "  0%|          | 0/101 [00:00<?, ?it/s]"
      ]
     },
     "metadata": {},
     "output_type": "display_data"
    },
    {
     "name": "stdout",
     "output_type": "stream",
     "text": [
      "train f1: 0.8708698630136987\n",
      "valid f1: 0.8558999573658831\n",
      "learning rate [7.2022160664819955e-06]\n"
     ]
    },
    {
     "data": {
      "application/vnd.jupyter.widget-view+json": {
       "model_id": "4c8b03ce253a4d6c85292796db7a6634",
       "version_major": 2,
       "version_minor": 0
      },
      "text/plain": [
       "  0%|          | 0/101 [00:00<?, ?it/s]"
      ]
     },
     "metadata": {},
     "output_type": "display_data"
    },
    {
     "name": "stdout",
     "output_type": "stream",
     "text": [
      "train f1: 0.8681646910183054\n",
      "valid f1: 0.8829275953654036\n",
      "learning rate [4.43213296398892e-06]\n"
     ]
    },
    {
     "data": {
      "application/vnd.jupyter.widget-view+json": {
       "model_id": "82305d0805c94f898744503cecb12b1e",
       "version_major": 2,
       "version_minor": 0
      },
      "text/plain": [
       "  0%|          | 0/101 [00:00<?, ?it/s]"
      ]
     },
     "metadata": {},
     "output_type": "display_data"
    },
    {
     "name": "stdout",
     "output_type": "stream",
     "text": [
      "train f1: 0.886980772974349\n",
      "valid f1: 0.875844525511771\n",
      "learning rate [1.6620498614958449e-06]\n"
     ]
    },
    {
     "data": {
      "application/vnd.jupyter.widget-view+json": {
       "model_id": "195ad807ef0b419586d803890439c328",
       "version_major": 2,
       "version_minor": 0
      },
      "text/plain": [
       "  0%|          | 0/101 [00:00<?, ?it/s]"
      ]
     },
     "metadata": {},
     "output_type": "display_data"
    },
    {
     "name": "stdout",
     "output_type": "stream",
     "text": [
      "train f1: 0.9058263183006784\n",
      "valid f1: 0.8775661719981347\n",
      "learning rate [0.0]\n"
     ]
    },
    {
     "name": "stderr",
     "output_type": "stream",
     "text": [
      "Some weights of RobertaModel were not initialized from the model checkpoint at roberta-base and are newly initialized: ['roberta.pooler.dense.bias', 'roberta.pooler.dense.weight']\n",
      "You should probably TRAIN this model on a down-stream task to be able to use it for predictions and inference.\n"
     ]
    },
    {
     "name": "stdout",
     "output_type": "stream",
     "text": [
      "Fold 5\n",
      "409\n",
      "EPOCH: 0\n"
     ]
    },
    {
     "data": {
      "application/vnd.jupyter.widget-view+json": {
       "model_id": "47924086630d4f1d8e003c31169ed6ce",
       "version_major": 2,
       "version_minor": 0
      },
      "text/plain": [
       "  0%|          | 0/409 [00:00<?, ?it/s]"
      ]
     },
     "metadata": {},
     "output_type": "display_data"
    },
    {
     "data": {
      "application/vnd.jupyter.widget-view+json": {
       "model_id": "acb9591c5e1948a19fedac3ca379b650",
       "version_major": 2,
       "version_minor": 0
      },
      "text/plain": [
       "  0%|          | 0/94 [00:00<?, ?it/s]"
      ]
     },
     "metadata": {},
     "output_type": "display_data"
    },
    {
     "name": "stdout",
     "output_type": "stream",
     "text": [
      "torch.Size([1, 3])\n",
      "torch.Size([1])\n",
      "train f1: 0.4\n",
      "valid f1: 0.39530555292277614\n",
      "learning rate [5.000000000000001e-07]\n"
     ]
    },
    {
     "data": {
      "application/vnd.jupyter.widget-view+json": {
       "model_id": "99631d1238794a3b8d57e2c0df05b9e4",
       "version_major": 2,
       "version_minor": 0
      },
      "text/plain": [
       "  0%|          | 0/94 [00:00<?, ?it/s]"
      ]
     },
     "metadata": {},
     "output_type": "display_data"
    },
    {
     "name": "stdout",
     "output_type": "stream",
     "text": [
      "torch.Size([1, 3])\n",
      "torch.Size([1])\n",
      "train f1: 0.6467562093229159\n",
      "valid f1: 0.7831110846541439\n",
      "learning rate [1.834688346883469e-05]\n"
     ]
    },
    {
     "data": {
      "application/vnd.jupyter.widget-view+json": {
       "model_id": "661eba67a4b74463ac8abd598a699adf",
       "version_major": 2,
       "version_minor": 0
      },
      "text/plain": [
       "  0%|          | 0/94 [00:00<?, ?it/s]"
      ]
     },
     "metadata": {},
     "output_type": "display_data"
    },
    {
     "name": "stdout",
     "output_type": "stream",
     "text": [
      "torch.Size([1, 3])\n",
      "torch.Size([1])\n",
      "train f1: 0.7630607844574382\n",
      "valid f1: 0.843232791426397\n",
      "learning rate [1.5636856368563685e-05]\n"
     ]
    },
    {
     "data": {
      "application/vnd.jupyter.widget-view+json": {
       "model_id": "7cb57d090dc244dab35ed6cb7df96cdf",
       "version_major": 2,
       "version_minor": 0
      },
      "text/plain": [
       "  0%|          | 0/94 [00:00<?, ?it/s]"
      ]
     },
     "metadata": {},
     "output_type": "display_data"
    },
    {
     "name": "stdout",
     "output_type": "stream",
     "text": [
      "torch.Size([1, 3])\n",
      "torch.Size([1])\n",
      "train f1: 0.8143858617859326\n",
      "valid f1: 0.7301231500250659\n",
      "learning rate [1.2926829268292684e-05]\n"
     ]
    },
    {
     "data": {
      "application/vnd.jupyter.widget-view+json": {
       "model_id": "6a37550a5e21445ebd00e06ec0d40773",
       "version_major": 2,
       "version_minor": 0
      },
      "text/plain": [
       "  0%|          | 0/94 [00:00<?, ?it/s]"
      ]
     },
     "metadata": {},
     "output_type": "display_data"
    },
    {
     "name": "stdout",
     "output_type": "stream",
     "text": [
      "torch.Size([1, 3])\n",
      "torch.Size([1])\n",
      "train f1: 0.8424311135987379\n",
      "valid f1: 0.8665970967840286\n",
      "learning rate [1.021680216802168e-05]\n",
      "torch.Size([1, 3])\n",
      "torch.Size([1])\n",
      "EPOCH: 1\n"
     ]
    },
    {
     "data": {
      "application/vnd.jupyter.widget-view+json": {
       "model_id": "baa10abb7a0b470bae121b3ca28ab7ab",
       "version_major": 2,
       "version_minor": 0
      },
      "text/plain": [
       "  0%|          | 0/409 [00:00<?, ?it/s]"
      ]
     },
     "metadata": {},
     "output_type": "display_data"
    },
    {
     "data": {
      "application/vnd.jupyter.widget-view+json": {
       "model_id": "c78bbb12a0204f8badd8dfb2871dabe1",
       "version_major": 2,
       "version_minor": 0
      },
      "text/plain": [
       "  0%|          | 0/94 [00:00<?, ?it/s]"
      ]
     },
     "metadata": {},
     "output_type": "display_data"
    },
    {
     "name": "stdout",
     "output_type": "stream",
     "text": [
      "torch.Size([1, 3])\n",
      "torch.Size([1])\n",
      "train f1: 0.8500000000000001\n",
      "valid f1: 0.8311567213374743\n",
      "learning rate [9.972899728997291e-06]\n"
     ]
    },
    {
     "data": {
      "application/vnd.jupyter.widget-view+json": {
       "model_id": "b073340d69334cf88dcbed6e24d5f30f",
       "version_major": 2,
       "version_minor": 0
      },
      "text/plain": [
       "  0%|          | 0/94 [00:00<?, ?it/s]"
      ]
     },
     "metadata": {},
     "output_type": "display_data"
    },
    {
     "name": "stdout",
     "output_type": "stream",
     "text": [
      "torch.Size([1, 3])\n",
      "torch.Size([1])\n",
      "train f1: 0.9067378991556648\n",
      "valid f1: 0.8505930413915821\n",
      "learning rate [7.262872628726287e-06]\n"
     ]
    },
    {
     "data": {
      "application/vnd.jupyter.widget-view+json": {
       "model_id": "d4275ad8c91d46f380b3b0644a636439",
       "version_major": 2,
       "version_minor": 0
      },
      "text/plain": [
       "  0%|          | 0/94 [00:00<?, ?it/s]"
      ]
     },
     "metadata": {},
     "output_type": "display_data"
    },
    {
     "name": "stdout",
     "output_type": "stream",
     "text": [
      "torch.Size([1, 3])\n",
      "torch.Size([1])\n",
      "train f1: 0.9027639730899009\n",
      "valid f1: 0.854419503746779\n",
      "learning rate [4.552845528455285e-06]\n"
     ]
    },
    {
     "data": {
      "application/vnd.jupyter.widget-view+json": {
       "model_id": "33dcd6f0f46242e6b914e9b872935f48",
       "version_major": 2,
       "version_minor": 0
      },
      "text/plain": [
       "  0%|          | 0/94 [00:00<?, ?it/s]"
      ]
     },
     "metadata": {},
     "output_type": "display_data"
    },
    {
     "name": "stdout",
     "output_type": "stream",
     "text": [
      "torch.Size([1, 3])\n",
      "torch.Size([1])\n",
      "train f1: 0.9193826502978877\n",
      "valid f1: 0.849260286632417\n",
      "learning rate [1.842818428184282e-06]\n"
     ]
    },
    {
     "data": {
      "application/vnd.jupyter.widget-view+json": {
       "model_id": "ff887e8820684719800e06870e5e9839",
       "version_major": 2,
       "version_minor": 0
      },
      "text/plain": [
       "  0%|          | 0/94 [00:00<?, ?it/s]"
      ]
     },
     "metadata": {},
     "output_type": "display_data"
    },
    {
     "name": "stdout",
     "output_type": "stream",
     "text": [
      "torch.Size([1, 3])\n",
      "torch.Size([1])\n",
      "train f1: 0.9093242616051493\n",
      "valid f1: 0.8558034317904102\n",
      "learning rate [0.0]\n",
      "torch.Size([1, 3])\n",
      "torch.Size([1])\n"
     ]
    }
   ],
   "source": [
    "BATCH_SIZE=4\n",
    "EPOCHS=2\n",
    "\n",
    "allMetrics = []\n",
    "\n",
    "for fold, (train_idx,val_idx) in enumerate(entSplits):\n",
    "\n",
    "    #get the entities associated with the train and validation indices \n",
    "    trainEnts = uniqueEnts[train_idx]\n",
    "    valEnts = uniqueEnts[val_idx]\n",
    "\n",
    "    trainDf = df[df[\"ent\"].apply(lambda x: x in trainEnts)]\n",
    "    valDf = df[df[\"ent\"].apply(lambda x: x in valEnts)]\n",
    "\n",
    "    #get an \"index\" column that just indexes the row of the dataframe we have \n",
    "    #trainDf = trainDf.reset_index(drop=True).reset_index()\n",
    "    #valDf = valDf.reset_index(drop=True).reset_index()\n",
    "\n",
    "    #get a fresh index\n",
    "    #the index is used to find the indices of the entity in the model we're training \n",
    "    tokenIxList = list(df[\"posTokens\"])\n",
    "\n",
    "    trainDataset = Dataset.from_pandas(trainDf)\n",
    "    trainDataset.set_format(type='torch', columns=[\"index\", \"entSnippets\", \"groundTruth\", \"input_ids\", \"attention_mask\"])\n",
    "    \n",
    "    valDataset = Dataset.from_pandas(valDf)\n",
    "    valDataset.set_format(type='torch', columns=[\"index\", \"entSnippets\", \"groundTruth\", \"input_ids\", \"attention_mask\"])\n",
    "\n",
    "    #initialize model \n",
    "    model = Model(tokenIxList).to(device)\n",
    "    \n",
    "    print('Fold {}'.format(fold + 1))\n",
    "\n",
    "    trainLoader = torch.utils.data.DataLoader(trainDataset, batch_size=BATCH_SIZE, shuffle=True)\n",
    "    validLoader = torch.utils.data.DataLoader(valDataset, batch_size=BATCH_SIZE, shuffle=True )\n",
    "    \n",
    "    optim = torch.optim.Adam(model.parameters(), lr=2e-5)\n",
    "    \n",
    "    total_steps = int(len(trainLoader))*EPOCHS\n",
    "    warmup_steps = int(0.05 * total_steps)\n",
    "    \n",
    "    scheduler = get_linear_schedule_with_warmup(optim, num_warmup_steps=warmup_steps, num_training_steps=total_steps - warmup_steps)\n",
    "    loss_func = torch.nn.CrossEntropyLoss()\n",
    "\n",
    "    allMetrics.append(train(model, fold, EPOCHS, optim, scheduler, loss_func, trainLoader, validLoader, f1type=\"weighted\"))\n",
    "    del model \n"
   ]
  },
  {
   "cell_type": "code",
   "execution_count": 27,
   "id": "0b3e43bc-1830-48ef-a063-4a569f622c68",
   "metadata": {},
   "outputs": [],
   "source": [
    "#append all of the train matrices together \n",
    "trainOutput = []\n",
    "validOutput = []\n",
    "for i in range(len(allMetrics)): \n",
    "    trainOutput += allMetrics[i][2]\n",
    "    validOutput += allMetrics[i][3]\n",
    "    \n",
    "trainDf = pd.DataFrame(trainOutput, columns=[\"fold\", \"step\", \"epochFrac\", \"epoch\", \"f1\", \"learningRate\"]) \n",
    "trainDf[\"data\"] =  \"train\"\n",
    "\n",
    "validDf = pd.DataFrame(validOutput, columns=[\"fold\", \"step\", \"epochFrac\", \"epoch\", \"f1\", \"learningRate\"]) \n",
    "validDf[\"data\"] =  \"valid\"                     \n",
    "\n",
    "#validDf[\"totalSteps\"] = \n",
    "#validDf[\"overallEpochFrac\"] = validDf[\"epoch\"] + validDf[\"epochFrac\"]\n",
    "#trainDf[\"overallEpochFrac\"] = trainDf[\"epoch\"] + trainDf[\"epochFrac\"]\n",
    "\n",
    "#NOTE: this is approximate, since not every fold is the exact same length \n",
    "epochLen = len(trainLoader)\n",
    "trainDf[\"epochFrac\"] = (trainDf[\"step\"] / epochLen) + trainDf[\"epoch\"]\n",
    "validDf[\"epochFrac\"] = (validDf[\"step\"] / epochLen) + validDf[\"epoch\"]\n",
    "metricDf = pd.concat([validDf, trainDf], axis=0) "
   ]
  },
  {
   "cell_type": "code",
   "execution_count": 28,
   "id": "29e51ace",
   "metadata": {},
   "outputs": [
    {
     "data": {
      "text/html": [
       "<div>\n",
       "<style scoped>\n",
       "    .dataframe tbody tr th:only-of-type {\n",
       "        vertical-align: middle;\n",
       "    }\n",
       "\n",
       "    .dataframe tbody tr th {\n",
       "        vertical-align: top;\n",
       "    }\n",
       "\n",
       "    .dataframe thead th {\n",
       "        text-align: right;\n",
       "    }\n",
       "</style>\n",
       "<table border=\"1\" class=\"dataframe\">\n",
       "  <thead>\n",
       "    <tr style=\"text-align: right;\">\n",
       "      <th></th>\n",
       "      <th>fold</th>\n",
       "      <th>step</th>\n",
       "      <th>epochFrac</th>\n",
       "      <th>epoch</th>\n",
       "      <th>f1</th>\n",
       "      <th>learningRate</th>\n",
       "      <th>data</th>\n",
       "    </tr>\n",
       "  </thead>\n",
       "  <tbody>\n",
       "    <tr>\n",
       "      <th>0</th>\n",
       "      <td>0</td>\n",
       "      <td>0</td>\n",
       "      <td>0.000000</td>\n",
       "      <td>0</td>\n",
       "      <td>0.334820</td>\n",
       "      <td>1.105970</td>\n",
       "      <td>valid</td>\n",
       "    </tr>\n",
       "    <tr>\n",
       "      <th>1</th>\n",
       "      <td>0</td>\n",
       "      <td>100</td>\n",
       "      <td>0.244499</td>\n",
       "      <td>0</td>\n",
       "      <td>0.777416</td>\n",
       "      <td>0.798675</td>\n",
       "      <td>valid</td>\n",
       "    </tr>\n",
       "    <tr>\n",
       "      <th>2</th>\n",
       "      <td>0</td>\n",
       "      <td>200</td>\n",
       "      <td>0.488998</td>\n",
       "      <td>0</td>\n",
       "      <td>0.834680</td>\n",
       "      <td>0.736080</td>\n",
       "      <td>valid</td>\n",
       "    </tr>\n",
       "    <tr>\n",
       "      <th>3</th>\n",
       "      <td>0</td>\n",
       "      <td>300</td>\n",
       "      <td>0.733496</td>\n",
       "      <td>0</td>\n",
       "      <td>0.831384</td>\n",
       "      <td>0.722095</td>\n",
       "      <td>valid</td>\n",
       "    </tr>\n",
       "    <tr>\n",
       "      <th>4</th>\n",
       "      <td>0</td>\n",
       "      <td>0</td>\n",
       "      <td>1.000000</td>\n",
       "      <td>1</td>\n",
       "      <td>0.790631</td>\n",
       "      <td>0.742903</td>\n",
       "      <td>valid</td>\n",
       "    </tr>\n",
       "  </tbody>\n",
       "</table>\n",
       "</div>"
      ],
      "text/plain": [
       "   fold  step  epochFrac  epoch        f1  learningRate   data\n",
       "0     0     0   0.000000      0  0.334820      1.105970  valid\n",
       "1     0   100   0.244499      0  0.777416      0.798675  valid\n",
       "2     0   200   0.488998      0  0.834680      0.736080  valid\n",
       "3     0   300   0.733496      0  0.831384      0.722095  valid\n",
       "4     0     0   1.000000      1  0.790631      0.742903  valid"
      ]
     },
     "execution_count": 28,
     "metadata": {},
     "output_type": "execute_result"
    }
   ],
   "source": [
    "metricDf.head() "
   ]
  },
  {
   "cell_type": "code",
   "execution_count": 29,
   "id": "df140722-2737-4195-aef8-9da314c7b27e",
   "metadata": {},
   "outputs": [
    {
     "name": "stdout",
     "output_type": "stream",
     "text": [
      "highest validation f1 acheived: 0.9159168691642857\n"
     ]
    },
    {
     "data": {
      "text/html": [
       "<div>\n",
       "<style scoped>\n",
       "    .dataframe tbody tr th:only-of-type {\n",
       "        vertical-align: middle;\n",
       "    }\n",
       "\n",
       "    .dataframe tbody tr th {\n",
       "        vertical-align: top;\n",
       "    }\n",
       "\n",
       "    .dataframe thead th {\n",
       "        text-align: right;\n",
       "    }\n",
       "</style>\n",
       "<table border=\"1\" class=\"dataframe\">\n",
       "  <thead>\n",
       "    <tr style=\"text-align: right;\">\n",
       "      <th></th>\n",
       "      <th>f1</th>\n",
       "    </tr>\n",
       "    <tr>\n",
       "      <th>fold</th>\n",
       "      <th></th>\n",
       "    </tr>\n",
       "  </thead>\n",
       "  <tbody>\n",
       "    <tr>\n",
       "      <th>0</th>\n",
       "      <td>0.822010</td>\n",
       "    </tr>\n",
       "    <tr>\n",
       "      <th>1</th>\n",
       "      <td>0.886888</td>\n",
       "    </tr>\n",
       "    <tr>\n",
       "      <th>2</th>\n",
       "      <td>0.915917</td>\n",
       "    </tr>\n",
       "    <tr>\n",
       "      <th>3</th>\n",
       "      <td>0.877566</td>\n",
       "    </tr>\n",
       "    <tr>\n",
       "      <th>4</th>\n",
       "      <td>0.855803</td>\n",
       "    </tr>\n",
       "  </tbody>\n",
       "</table>\n",
       "</div>"
      ],
      "text/plain": [
       "            f1\n",
       "fold          \n",
       "0     0.822010\n",
       "1     0.886888\n",
       "2     0.915917\n",
       "3     0.877566\n",
       "4     0.855803"
      ]
     },
     "execution_count": 29,
     "metadata": {},
     "output_type": "execute_result"
    }
   ],
   "source": [
    "#get best validation score achieved\n",
    "print(f'highest validation f1 acheived: {max(metricDf.loc[metricDf[\"data\"] == \"valid\", \"f1\"])}') \n",
    "metricDf.loc[metricDf[\"data\"] == \"valid\", [\"fold\", \"f1\"]].groupby(\"fold\").agg(lambda x: list(x)[-1])"
   ]
  },
  {
   "cell_type": "code",
   "execution_count": 34,
   "id": "5a2fe239",
   "metadata": {},
   "outputs": [
    {
     "data": {
      "text/plain": [
       "Text(0.5, 1.0, 'Speaker Role Classification: Weighted f1 with Duplicate Entities')"
      ]
     },
     "execution_count": 34,
     "metadata": {},
     "output_type": "execute_result"
    },
    {
     "data": {
      "image/png": "[encoded data removed]",
      "text/plain": [
       "<Figure size 640x480 with 1 Axes>"
      ]
     },
     "metadata": {},
     "output_type": "display_data"
    }
   ],
   "source": [
    "#TODO: collect different types of F1 scores, also do for no duplicates in validation set \n",
    "sns.lineplot(data=metricDf, x=\"epochFrac\", y=\"f1\", hue=\"data\")\n",
    "plt.ylabel(\"Accuracy (Macro f1)\")\n",
    "plt.xlabel(\"Epoch (approximate)\")\n",
    "plt.title(\"Speaker Role Classification: Weighted f1 with Duplicate Entities\")"
   ]
  },
  {
   "cell_type": "code",
   "execution_count": 37,
   "id": "4562ee4c-c41b-4210-99f9-81fc695c0895",
   "metadata": {},
   "outputs": [
    {
     "data": {
      "text/html": [
       "<div>\n",
       "<style scoped>\n",
       "    .dataframe tbody tr th:only-of-type {\n",
       "        vertical-align: middle;\n",
       "    }\n",
       "\n",
       "    .dataframe tbody tr th {\n",
       "        vertical-align: top;\n",
       "    }\n",
       "\n",
       "    .dataframe thead th {\n",
       "        text-align: right;\n",
       "    }\n",
       "</style>\n",
       "<table border=\"1\" class=\"dataframe\">\n",
       "  <thead>\n",
       "    <tr style=\"text-align: right;\">\n",
       "      <th></th>\n",
       "      <th>fold</th>\n",
       "      <th>step</th>\n",
       "      <th>epochFrac</th>\n",
       "      <th>epoch</th>\n",
       "      <th>f1</th>\n",
       "      <th>learningRate</th>\n",
       "      <th>data</th>\n",
       "    </tr>\n",
       "  </thead>\n",
       "  <tbody>\n",
       "    <tr>\n",
       "      <th>0</th>\n",
       "      <td>0</td>\n",
       "      <td>0</td>\n",
       "      <td>0.000000</td>\n",
       "      <td>0</td>\n",
       "      <td>0.334820</td>\n",
       "      <td>1.105970</td>\n",
       "      <td>valid</td>\n",
       "    </tr>\n",
       "    <tr>\n",
       "      <th>1</th>\n",
       "      <td>0</td>\n",
       "      <td>100</td>\n",
       "      <td>0.244499</td>\n",
       "      <td>0</td>\n",
       "      <td>0.777416</td>\n",
       "      <td>0.798675</td>\n",
       "      <td>valid</td>\n",
       "    </tr>\n",
       "    <tr>\n",
       "      <th>2</th>\n",
       "      <td>0</td>\n",
       "      <td>200</td>\n",
       "      <td>0.488998</td>\n",
       "      <td>0</td>\n",
       "      <td>0.834680</td>\n",
       "      <td>0.736080</td>\n",
       "      <td>valid</td>\n",
       "    </tr>\n",
       "    <tr>\n",
       "      <th>3</th>\n",
       "      <td>0</td>\n",
       "      <td>300</td>\n",
       "      <td>0.733496</td>\n",
       "      <td>0</td>\n",
       "      <td>0.831384</td>\n",
       "      <td>0.722095</td>\n",
       "      <td>valid</td>\n",
       "    </tr>\n",
       "    <tr>\n",
       "      <th>4</th>\n",
       "      <td>0</td>\n",
       "      <td>0</td>\n",
       "      <td>1.000000</td>\n",
       "      <td>1</td>\n",
       "      <td>0.790631</td>\n",
       "      <td>0.742903</td>\n",
       "      <td>valid</td>\n",
       "    </tr>\n",
       "    <tr>\n",
       "      <th>...</th>\n",
       "      <td>...</td>\n",
       "      <td>...</td>\n",
       "      <td>...</td>\n",
       "      <td>...</td>\n",
       "      <td>...</td>\n",
       "      <td>...</td>\n",
       "      <td>...</td>\n",
       "    </tr>\n",
       "    <tr>\n",
       "      <th>31</th>\n",
       "      <td>4</td>\n",
       "      <td>400</td>\n",
       "      <td>0.977995</td>\n",
       "      <td>0</td>\n",
       "      <td>0.842431</td>\n",
       "      <td>0.787724</td>\n",
       "      <td>train</td>\n",
       "    </tr>\n",
       "    <tr>\n",
       "      <th>32</th>\n",
       "      <td>4</td>\n",
       "      <td>100</td>\n",
       "      <td>1.244499</td>\n",
       "      <td>1</td>\n",
       "      <td>0.906738</td>\n",
       "      <td>0.649787</td>\n",
       "      <td>train</td>\n",
       "    </tr>\n",
       "    <tr>\n",
       "      <th>33</th>\n",
       "      <td>4</td>\n",
       "      <td>200</td>\n",
       "      <td>1.488998</td>\n",
       "      <td>1</td>\n",
       "      <td>0.902764</td>\n",
       "      <td>0.651133</td>\n",
       "      <td>train</td>\n",
       "    </tr>\n",
       "    <tr>\n",
       "      <th>34</th>\n",
       "      <td>4</td>\n",
       "      <td>300</td>\n",
       "      <td>1.733496</td>\n",
       "      <td>1</td>\n",
       "      <td>0.919383</td>\n",
       "      <td>0.647179</td>\n",
       "      <td>train</td>\n",
       "    </tr>\n",
       "    <tr>\n",
       "      <th>35</th>\n",
       "      <td>4</td>\n",
       "      <td>400</td>\n",
       "      <td>1.977995</td>\n",
       "      <td>1</td>\n",
       "      <td>0.909324</td>\n",
       "      <td>0.646465</td>\n",
       "      <td>train</td>\n",
       "    </tr>\n",
       "  </tbody>\n",
       "</table>\n",
       "<p>82 rows × 7 columns</p>\n",
       "</div>"
      ],
      "text/plain": [
       "    fold  step  epochFrac  epoch        f1  learningRate   data\n",
       "0      0     0   0.000000      0  0.334820      1.105970  valid\n",
       "1      0   100   0.244499      0  0.777416      0.798675  valid\n",
       "2      0   200   0.488998      0  0.834680      0.736080  valid\n",
       "3      0   300   0.733496      0  0.831384      0.722095  valid\n",
       "4      0     0   1.000000      1  0.790631      0.742903  valid\n",
       "..   ...   ...        ...    ...       ...           ...    ...\n",
       "31     4   400   0.977995      0  0.842431      0.787724  train\n",
       "32     4   100   1.244499      1  0.906738      0.649787  train\n",
       "33     4   200   1.488998      1  0.902764      0.651133  train\n",
       "34     4   300   1.733496      1  0.919383      0.647179  train\n",
       "35     4   400   1.977995      1  0.909324      0.646465  train\n",
       "\n",
       "[82 rows x 7 columns]"
      ]
     },
     "execution_count": 37,
     "metadata": {},
     "output_type": "execute_result"
    }
   ],
   "source": [
    "metricDf"
   ]
  },
  {
   "cell_type": "code",
   "execution_count": 42,
   "id": "61fc4dff",
   "metadata": {},
   "outputs": [],
   "source": [
    "fullDf = pd.DataFrame(allMetrics, columns=[\"lastPreds\", \"lastGts\", \"trainOutput\", \"validOutput\"])"
   ]
  },
  {
   "cell_type": "code",
   "execution_count": 46,
   "id": "c016eea8",
   "metadata": {},
   "outputs": [],
   "source": [
    "fullDf = fullDf.reset_index().rename(columns={\"index\":\"fold\"})"
   ]
  }
 ],
 "metadata": {
  "kernelspec": {
   "display_name": "Python 3 (ipykernel)",
   "language": "python",
   "name": "python3"
  },
  "language_info": {
   "codemirror_mode": {
    "name": "ipython",
    "version": 3
   },
   "file_extension": ".py",
   "mimetype": "text/x-python",
   "name": "python",
   "nbconvert_exporter": "python",
   "pygments_lexer": "ipython3",
   "version": "3.11.5"
  }
 },
 "nbformat": 4,
 "nbformat_minor": 5
}
