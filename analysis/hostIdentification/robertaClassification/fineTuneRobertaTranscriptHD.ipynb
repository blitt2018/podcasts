{
 "cells": [
  {
   "cell_type": "code",
   "execution_count": 1,
   "id": "7b391a97-0e89-4770-9329-8e8fbc238ed5",
   "metadata": {},
   "outputs": [
    {
     "name": "stdout",
     "output_type": "stream",
     "text": [
      "[2024-01-24 21:47:51,628] [INFO] [real_accelerator.py:158:get_accelerator] Setting ds_accelerator to cuda (auto detect)\n"
     ]
    }
   ],
   "source": [
    "from tqdm.auto import tqdm\n",
    "import torch \n",
    "import transformers\n",
    "from transformers import PreTrainedTokenizer\n",
    "from transformers import RobertaTokenizer, RobertaConfig, RobertaModel, RobertaForSequenceClassification\n",
    "#from sentence_transformers import SentenceTransformer, SentencesDataset, InputExample, losses, util\n",
    "from datasets import Dataset\n",
    "import pandas as pd\n",
    "from transformers.optimization import get_linear_schedule_with_warmup\n",
    "#import matplotlib.pyplot as plt \n",
    "import numpy as np\n",
    "from sentence_transformers import SentenceTransformer\n",
    "from transformers import AutoTokenizer, AutoModel\n",
    "#from torch.nn import CosineEmbeddingLoss\n",
    "import random\n",
    "#from torch.nn import CosineEmbeddingLoss\n",
    "from torch import nn\n",
    "#Build up to SBERT model "
   ]
  },
  {
   "cell_type": "code",
   "execution_count": 28,
   "id": "9e409622-042b-4b18-8426-2130435c4e36",
   "metadata": {},
   "outputs": [],
   "source": [
    "import seaborn as sns\n",
    "from sklearn.metrics import f1_score\n",
    "import matplotlib.pyplot as plt"
   ]
  },
  {
   "cell_type": "code",
   "execution_count": 3,
   "id": "2563345c-37e8-4c49-82e5-8985764244ba",
   "metadata": {},
   "outputs": [],
   "source": [
    "from sklearn.model_selection import train_test_split"
   ]
  },
  {
   "cell_type": "code",
   "execution_count": 4,
   "id": "0469fb4e-bf36-4143-91e4-9b4bbb64ece4",
   "metadata": {},
   "outputs": [],
   "source": [
    "df = pd.read_csv(\"/shared/3/projects/benlitterer/podcastData/hostIdentification/itunesGTsubset.tsv\", sep=\"\\t\") "
   ]
  },
  {
   "cell_type": "code",
   "execution_count": 5,
   "id": "810358b2-c518-4231-9bcf-a3ab6e2a3ea8",
   "metadata": {},
   "outputs": [],
   "source": [
    "#we're predicting all zero's, try to adjust class imbalance? \n",
    "posClass = df[df[\"entInAuthor\"] == True] \n",
    "negClass = df[df[\"entInAuthor\"] == False].sample(len(posClass)) \n",
    "df = pd.concat([posClass, negClass], axis=0) "
   ]
  },
  {
   "cell_type": "code",
   "execution_count": 6,
   "id": "141ce109-f922-4cc9-871e-0ec105aeecc9",
   "metadata": {},
   "outputs": [],
   "source": [
    "#we have an annoying amount of data right now, so reduce for now\n",
    "df = df.sample(int(len(df) * .25))"
   ]
  },
  {
   "cell_type": "code",
   "execution_count": 7,
   "id": "5520cbd4-5c1a-497e-903a-4dadb862e5d6",
   "metadata": {},
   "outputs": [],
   "source": [
    "df[\"groundTruth\"] = df[\"entInAuthor\"].astype(int) "
   ]
  },
  {
   "cell_type": "code",
   "execution_count": 8,
   "id": "471e9cc0-38bd-424e-8a9d-1e97693256b3",
   "metadata": {},
   "outputs": [],
   "source": [
    "df = df.dropna() "
   ]
  },
  {
   "cell_type": "code",
   "execution_count": 9,
   "id": "ac31fb66-b075-4576-a72c-fa86eeaa1f54",
   "metadata": {},
   "outputs": [],
   "source": [
    "deviceNum = 1\n",
    "device = torch.device(\"cuda:\" + str(deviceNum) if torch.cuda.is_available() else \"cpu\")"
   ]
  },
  {
   "cell_type": "code",
   "execution_count": 10,
   "id": "bfc38ffd-442c-4378-9131-2d9a1eb089ff",
   "metadata": {},
   "outputs": [],
   "source": [
    "TRAIN_FRAC = .7 \n",
    "VALID_FRAC = .1\n",
    "TEST_FRAC = .2\n",
    "\n",
    "#put ground truth values into a list \n",
    "leanDf = df[[\"entSnippets\", \"groundTruth\"]] \n",
    "\n",
    "#reset index so it is contiguous set of numbers \n",
    "leanDf = leanDf.reset_index(drop=True)\n",
    "\n",
    "#get train, valid, test \n",
    "trainDf, testDf = train_test_split(leanDf, test_size=0.3) \n",
    "validDf, testDf = train_test_split(testDf, test_size=0.666) \n",
    "\n",
    "trainDataset = Dataset.from_pandas(trainDf)\n",
    "validDataset = Dataset.from_pandas(validDf)\n",
    "testDataset = Dataset.from_pandas(testDf) "
   ]
  },
  {
   "cell_type": "code",
   "execution_count": 11,
   "id": "77cba0f8-6f6f-42ff-b7da-639c2db72b2c",
   "metadata": {},
   "outputs": [],
   "source": [
    "#TODO: figure out by tokenizer isn't padding out to max_length "
   ]
  },
  {
   "cell_type": "code",
   "execution_count": 12,
   "id": "4d19311d-611d-4e52-b55b-33dabf32cca0",
   "metadata": {},
   "outputs": [],
   "source": [
    "# Preprocessing\n",
    "tokenizer = RobertaTokenizer.from_pretrained('roberta-base', max_length=512, padding=\"max_length\", truncation=True)"
   ]
  },
  {
   "cell_type": "code",
   "execution_count": 13,
   "id": "ebcfcff9-c3be-4120-bd10-21b79754b95b",
   "metadata": {},
   "outputs": [
    {
     "data": {
      "application/vnd.jupyter.widget-view+json": {
       "model_id": "09bb20a97871480db34a8f13b0aaae8b",
       "version_major": 2,
       "version_minor": 0
      },
      "text/plain": [
       "Map:   0%|          | 0/9935 [00:00<?, ? examples/s]"
      ]
     },
     "metadata": {},
     "output_type": "display_data"
    },
    {
     "data": {
      "application/vnd.jupyter.widget-view+json": {
       "model_id": "7a6b39133d674052ac4c17dc5112dda5",
       "version_major": 2,
       "version_minor": 0
      },
      "text/plain": [
       "Map:   0%|          | 0/1422 [00:00<?, ? examples/s]"
      ]
     },
     "metadata": {},
     "output_type": "display_data"
    },
    {
     "data": {
      "application/vnd.jupyter.widget-view+json": {
       "model_id": "6f14f953037345ab94ce6ceb1ee9b7b4",
       "version_major": 2,
       "version_minor": 0
      },
      "text/plain": [
       "Map:   0%|          | 0/2837 [00:00<?, ? examples/s]"
      ]
     },
     "metadata": {},
     "output_type": "display_data"
    }
   ],
   "source": [
    "# define a function that will tokenize the model, and will return the relevant inputs for the model\n",
    "def tokenization(batched_text):\n",
    "    return tokenizer(batched_text['entSnippets'], padding = \"max_length\", truncation=True)\n",
    "\n",
    "trainDataset = trainDataset.map(tokenization, batched = True, batch_size = 20)\n",
    "validDataset = validDataset.map(tokenization, batched = True, batch_size = 20)\n",
    "testDataset = testDataset.map(tokenization, batched = True, batch_size = 20)"
   ]
  },
  {
   "cell_type": "code",
   "execution_count": 14,
   "id": "07ab653e-eea0-4188-96e9-3eb8b40ea48c",
   "metadata": {},
   "outputs": [],
   "source": [
    "trainDataset.set_format(type='torch', columns=[\"groundTruth\", \"input_ids\", \"attention_mask\"])\n",
    "validDataset.set_format(type='torch', columns=[\"groundTruth\", \"input_ids\", \"attention_mask\"])"
   ]
  },
  {
   "cell_type": "code",
   "execution_count": 15,
   "id": "110b6ded-0662-4364-be0e-160e8cfcc89a",
   "metadata": {},
   "outputs": [
    {
     "name": "stdout",
     "output_type": "stream",
     "text": [
      "(9935, 2)\n",
      "(1422, 2)\n",
      "(2837, 2)\n",
      "(14194, 2)\n"
     ]
    }
   ],
   "source": [
    "#sanity check \n",
    "print(trainDf.shape) \n",
    "print(validDf.shape) \n",
    "print(testDf.shape) \n",
    "print(leanDf.shape) "
   ]
  },
  {
   "cell_type": "code",
   "execution_count": 16,
   "id": "dd3a1582-266f-4d6a-a5fa-31825e9f0386",
   "metadata": {},
   "outputs": [
    {
     "data": {
      "text/plain": [
       "512"
      ]
     },
     "execution_count": 16,
     "metadata": {},
     "output_type": "execute_result"
    }
   ],
   "source": [
    "len(trainDataset[22][\"input_ids\"]) "
   ]
  },
  {
   "cell_type": "code",
   "execution_count": 17,
   "id": "66ab04f7-b542-4a08-9ca9-9da2a939e440",
   "metadata": {},
   "outputs": [
    {
     "name": "stderr",
     "output_type": "stream",
     "text": [
      "Some weights of RobertaForSequenceClassification were not initialized from the model checkpoint at roberta-base and are newly initialized: ['classifier.dense.weight', 'classifier.dense.bias', 'classifier.out_proj.weight', 'classifier.out_proj.bias']\n",
      "You should probably TRAIN this model on a down-stream task to be able to use it for predictions and inference.\n"
     ]
    }
   ],
   "source": [
    "#model stuff\n",
    "model = RobertaForSequenceClassification.from_pretrained('roberta-base').to(device) "
   ]
  },
  {
   "cell_type": "code",
   "execution_count": 18,
   "id": "0ea76864-1923-4212-a20a-67103e79f0ba",
   "metadata": {},
   "outputs": [],
   "source": [
    "#peek at config\n",
    "#dropout might be the only thing we really want to look into here \n",
    "#configuration "
   ]
  },
  {
   "cell_type": "code",
   "execution_count": 19,
   "id": "705e8591-45ad-4079-90fc-5deac58b740b",
   "metadata": {},
   "outputs": [
    {
     "name": "stdout",
     "output_type": "stream",
     "text": [
      "9930\n",
      "(9935, 2)\n"
     ]
    }
   ],
   "source": [
    "BATCH_SIZE=10\n",
    "EPOCHS=1\n",
    "\n",
    "# initialize everything\n",
    "# and setup a warmup for the first ~10% steps\n",
    "optim = torch.optim.Adam(model.parameters(), lr=2e-6)\n",
    "total_steps = int(len(trainDataset) / BATCH_SIZE)*EPOCHS\n",
    "warmup_steps = int(0.05 * total_steps)\n",
    "scheduler = get_linear_schedule_with_warmup(optim, num_warmup_steps=warmup_steps, num_training_steps=total_steps - warmup_steps)\n",
    "loss_func = torch.nn.CrossEntropyLoss()\n",
    "\n",
    "#sanity check \n",
    "print(total_steps * BATCH_SIZE)\n",
    "print(trainDf.shape) "
   ]
  },
  {
   "cell_type": "code",
   "execution_count": 20,
   "id": "c361cc45-ae0d-4972-8f39-55a2a99ee29b",
   "metadata": {},
   "outputs": [
    {
     "data": {
      "text/plain": [
       "993"
      ]
     },
     "execution_count": 20,
     "metadata": {},
     "output_type": "execute_result"
    }
   ],
   "source": [
    "total_steps"
   ]
  },
  {
   "cell_type": "code",
   "execution_count": 21,
   "id": "2c55812d-6568-4e88-ba62-f3796e36a30c",
   "metadata": {},
   "outputs": [],
   "source": [
    "trainLoader = torch.utils.data.DataLoader(trainDataset, batch_size=BATCH_SIZE, shuffle=True)\n",
    "validLoader = torch.utils.data.DataLoader(validDataset, batch_size=BATCH_SIZE, shuffle=False)"
   ]
  },
  {
   "cell_type": "code",
   "execution_count": 22,
   "id": "bda84d1f-b6fd-4ca4-bcba-31c2e77d4d09",
   "metadata": {},
   "outputs": [],
   "source": [
    "#validation function \n",
    "def validate(model, validLoader, loss_func):\n",
    "    model.eval()\n",
    "    \n",
    "    outList = [[], []]\n",
    "    for batch in tqdm(validLoader): \n",
    "        \n",
    "        input_ids = batch[\"input_ids\"].to(device) \n",
    "        attention_mask = batch[\"attention_mask\"].to(device) \n",
    "        output = model(input_ids, attention_mask=attention_mask)\n",
    "        normedOutputs = nn.functional.softmax(output.logits)\n",
    "        preds = normedOutputs.argmax(dim=1)\n",
    "        \n",
    "        gt = batch[\"groundTruth\"].to(device)\n",
    "        \n",
    "        #print(f\"preds\\n{preds}\") \n",
    "        #cross entropy loss\n",
    "        loss = loss_func(normedOutputs, gt)\n",
    "        \n",
    "        outList[0] += preds.detach().cpu().tolist()\n",
    "        outList[1] += gt.detach().cpu().tolist() \n",
    "        \n",
    "    f1 = f1_score(outList[0], outList[1]) \n",
    "    print(f1)\n",
    "    model.train()\n",
    "    return f1"
   ]
  },
  {
   "cell_type": "code",
   "execution_count": 23,
   "id": "63a9ac50-62e5-4dbd-afbe-42e7ae3de1dd",
   "metadata": {},
   "outputs": [
    {
     "name": "stdout",
     "output_type": "stream",
     "text": [
      "EPOCH: 0\n"
     ]
    },
    {
     "data": {
      "application/vnd.jupyter.widget-view+json": {
       "model_id": "0f0d00b671ca4070a6fafc7f9ce8c1ba",
       "version_major": 2,
       "version_minor": 0
      },
      "text/plain": [
       "  0%|          | 0/994 [00:00<?, ?it/s]"
      ]
     },
     "metadata": {},
     "output_type": "display_data"
    },
    {
     "name": "stderr",
     "output_type": "stream",
     "text": [
      "<ipython-input-23-14e13d4fed3a>:18: UserWarning: Implicit dimension choice for softmax has been deprecated. Change the call to include dim=X as an argument.\n",
      "  normedOutputs = nn.functional.softmax(output.logits)\n",
      "/opt/anaconda/lib/python3.9/site-packages/numpy/core/fromnumeric.py:3432: RuntimeWarning: Mean of empty slice.\n",
      "  return _methods._mean(a, axis=axis, dtype=dtype,\n",
      "/opt/anaconda/lib/python3.9/site-packages/numpy/core/_methods.py:190: RuntimeWarning: invalid value encountered in double_scalars\n",
      "  ret = ret.dtype.type(ret / rcount)\n"
     ]
    },
    {
     "data": {
      "application/vnd.jupyter.widget-view+json": {
       "model_id": "4b851164180b4ff399a6a768aea0c650",
       "version_major": 2,
       "version_minor": 0
      },
      "text/plain": [
       "  0%|          | 0/143 [00:00<?, ?it/s]"
      ]
     },
     "metadata": {},
     "output_type": "display_data"
    },
    {
     "name": "stderr",
     "output_type": "stream",
     "text": [
      "<ipython-input-22-403a2a615b9c>:11: UserWarning: Implicit dimension choice for softmax has been deprecated. Change the call to include dim=X as an argument.\n",
      "  normedOutputs = nn.functional.softmax(output.logits)\n"
     ]
    },
    {
     "name": "stdout",
     "output_type": "stream",
     "text": [
      "0.6565895134624469\n",
      "[4.081632653061224e-08]\n"
     ]
    },
    {
     "name": "stderr",
     "output_type": "stream",
     "text": [
      "<ipython-input-23-14e13d4fed3a>:18: UserWarning: Implicit dimension choice for softmax has been deprecated. Change the call to include dim=X as an argument.\n",
      "  normedOutputs = nn.functional.softmax(output.logits)\n"
     ]
    },
    {
     "data": {
      "application/vnd.jupyter.widget-view+json": {
       "model_id": "ea06126a99f64f7588f3e81f615ca5cc",
       "version_major": 2,
       "version_minor": 0
      },
      "text/plain": [
       "  0%|          | 0/143 [00:00<?, ?it/s]"
      ]
     },
     "metadata": {},
     "output_type": "display_data"
    },
    {
     "name": "stderr",
     "output_type": "stream",
     "text": [
      "<ipython-input-22-403a2a615b9c>:11: UserWarning: Implicit dimension choice for softmax has been deprecated. Change the call to include dim=X as an argument.\n",
      "  normedOutputs = nn.functional.softmax(output.logits)\n"
     ]
    },
    {
     "name": "stdout",
     "output_type": "stream",
     "text": [
      "0.6565895134624469\n",
      "[1.995530726256983e-06]\n"
     ]
    },
    {
     "name": "stderr",
     "output_type": "stream",
     "text": [
      "<ipython-input-23-14e13d4fed3a>:18: UserWarning: Implicit dimension choice for softmax has been deprecated. Change the call to include dim=X as an argument.\n",
      "  normedOutputs = nn.functional.softmax(output.logits)\n"
     ]
    },
    {
     "data": {
      "application/vnd.jupyter.widget-view+json": {
       "model_id": "5dbb88fd6e854c7eb538e92478143e4b",
       "version_major": 2,
       "version_minor": 0
      },
      "text/plain": [
       "  0%|          | 0/143 [00:00<?, ?it/s]"
      ]
     },
     "metadata": {},
     "output_type": "display_data"
    },
    {
     "name": "stderr",
     "output_type": "stream",
     "text": [
      "<ipython-input-22-403a2a615b9c>:11: UserWarning: Implicit dimension choice for softmax has been deprecated. Change the call to include dim=X as an argument.\n",
      "  normedOutputs = nn.functional.softmax(output.logits)\n"
     ]
    },
    {
     "name": "stdout",
     "output_type": "stream",
     "text": [
      "0.6600189933523267\n",
      "[1.883798882681564e-06]\n"
     ]
    },
    {
     "name": "stderr",
     "output_type": "stream",
     "text": [
      "<ipython-input-23-14e13d4fed3a>:18: UserWarning: Implicit dimension choice for softmax has been deprecated. Change the call to include dim=X as an argument.\n",
      "  normedOutputs = nn.functional.softmax(output.logits)\n"
     ]
    },
    {
     "data": {
      "application/vnd.jupyter.widget-view+json": {
       "model_id": "bf87f6702562483c8828a5e56bb750b4",
       "version_major": 2,
       "version_minor": 0
      },
      "text/plain": [
       "  0%|          | 0/143 [00:00<?, ?it/s]"
      ]
     },
     "metadata": {},
     "output_type": "display_data"
    },
    {
     "name": "stderr",
     "output_type": "stream",
     "text": [
      "<ipython-input-22-403a2a615b9c>:11: UserWarning: Implicit dimension choice for softmax has been deprecated. Change the call to include dim=X as an argument.\n",
      "  normedOutputs = nn.functional.softmax(output.logits)\n"
     ]
    },
    {
     "name": "stdout",
     "output_type": "stream",
     "text": [
      "0.6783767413688674\n",
      "[1.7720670391061452e-06]\n"
     ]
    },
    {
     "name": "stderr",
     "output_type": "stream",
     "text": [
      "<ipython-input-23-14e13d4fed3a>:18: UserWarning: Implicit dimension choice for softmax has been deprecated. Change the call to include dim=X as an argument.\n",
      "  normedOutputs = nn.functional.softmax(output.logits)\n"
     ]
    },
    {
     "data": {
      "application/vnd.jupyter.widget-view+json": {
       "model_id": "14da6046f3bb489db71c75d857918950",
       "version_major": 2,
       "version_minor": 0
      },
      "text/plain": [
       "  0%|          | 0/143 [00:00<?, ?it/s]"
      ]
     },
     "metadata": {},
     "output_type": "display_data"
    },
    {
     "name": "stderr",
     "output_type": "stream",
     "text": [
      "<ipython-input-22-403a2a615b9c>:11: UserWarning: Implicit dimension choice for softmax has been deprecated. Change the call to include dim=X as an argument.\n",
      "  normedOutputs = nn.functional.softmax(output.logits)\n"
     ]
    },
    {
     "name": "stdout",
     "output_type": "stream",
     "text": [
      "0.6692419121197488\n",
      "[1.6603351955307262e-06]\n"
     ]
    },
    {
     "name": "stderr",
     "output_type": "stream",
     "text": [
      "<ipython-input-23-14e13d4fed3a>:18: UserWarning: Implicit dimension choice for softmax has been deprecated. Change the call to include dim=X as an argument.\n",
      "  normedOutputs = nn.functional.softmax(output.logits)\n"
     ]
    },
    {
     "data": {
      "application/vnd.jupyter.widget-view+json": {
       "model_id": "3714c1f1464a44c282b606b97772d4ea",
       "version_major": 2,
       "version_minor": 0
      },
      "text/plain": [
       "  0%|          | 0/143 [00:00<?, ?it/s]"
      ]
     },
     "metadata": {},
     "output_type": "display_data"
    },
    {
     "name": "stderr",
     "output_type": "stream",
     "text": [
      "<ipython-input-22-403a2a615b9c>:11: UserWarning: Implicit dimension choice for softmax has been deprecated. Change the call to include dim=X as an argument.\n",
      "  normedOutputs = nn.functional.softmax(output.logits)\n"
     ]
    },
    {
     "name": "stdout",
     "output_type": "stream",
     "text": [
      "0.6565895134624469\n",
      "[1.5486033519553071e-06]\n"
     ]
    },
    {
     "name": "stderr",
     "output_type": "stream",
     "text": [
      "<ipython-input-23-14e13d4fed3a>:18: UserWarning: Implicit dimension choice for softmax has been deprecated. Change the call to include dim=X as an argument.\n",
      "  normedOutputs = nn.functional.softmax(output.logits)\n"
     ]
    },
    {
     "data": {
      "application/vnd.jupyter.widget-view+json": {
       "model_id": "020a54ff36df4b7bbb2acbb95ad7a81b",
       "version_major": 2,
       "version_minor": 0
      },
      "text/plain": [
       "  0%|          | 0/143 [00:00<?, ?it/s]"
      ]
     },
     "metadata": {},
     "output_type": "display_data"
    },
    {
     "name": "stderr",
     "output_type": "stream",
     "text": [
      "<ipython-input-22-403a2a615b9c>:11: UserWarning: Implicit dimension choice for softmax has been deprecated. Change the call to include dim=X as an argument.\n",
      "  normedOutputs = nn.functional.softmax(output.logits)\n"
     ]
    },
    {
     "name": "stdout",
     "output_type": "stream",
     "text": [
      "0.7253521126760563\n",
      "[1.436871508379888e-06]\n"
     ]
    },
    {
     "name": "stderr",
     "output_type": "stream",
     "text": [
      "<ipython-input-23-14e13d4fed3a>:18: UserWarning: Implicit dimension choice for softmax has been deprecated. Change the call to include dim=X as an argument.\n",
      "  normedOutputs = nn.functional.softmax(output.logits)\n"
     ]
    },
    {
     "data": {
      "application/vnd.jupyter.widget-view+json": {
       "model_id": "b1edf33a773a4a1b8640e4b4c73060c0",
       "version_major": 2,
       "version_minor": 0
      },
      "text/plain": [
       "  0%|          | 0/143 [00:00<?, ?it/s]"
      ]
     },
     "metadata": {},
     "output_type": "display_data"
    },
    {
     "name": "stderr",
     "output_type": "stream",
     "text": [
      "<ipython-input-22-403a2a615b9c>:11: UserWarning: Implicit dimension choice for softmax has been deprecated. Change the call to include dim=X as an argument.\n",
      "  normedOutputs = nn.functional.softmax(output.logits)\n"
     ]
    },
    {
     "name": "stdout",
     "output_type": "stream",
     "text": [
      "0.7255304585900068\n",
      "[1.3251396648044692e-06]\n"
     ]
    },
    {
     "name": "stderr",
     "output_type": "stream",
     "text": [
      "<ipython-input-23-14e13d4fed3a>:18: UserWarning: Implicit dimension choice for softmax has been deprecated. Change the call to include dim=X as an argument.\n",
      "  normedOutputs = nn.functional.softmax(output.logits)\n"
     ]
    },
    {
     "data": {
      "application/vnd.jupyter.widget-view+json": {
       "model_id": "2cd8f4379cad4f75af79e4f5fb711d01",
       "version_major": 2,
       "version_minor": 0
      },
      "text/plain": [
       "  0%|          | 0/143 [00:00<?, ?it/s]"
      ]
     },
     "metadata": {},
     "output_type": "display_data"
    },
    {
     "name": "stderr",
     "output_type": "stream",
     "text": [
      "<ipython-input-22-403a2a615b9c>:11: UserWarning: Implicit dimension choice for softmax has been deprecated. Change the call to include dim=X as an argument.\n",
      "  normedOutputs = nn.functional.softmax(output.logits)\n"
     ]
    },
    {
     "name": "stdout",
     "output_type": "stream",
     "text": [
      "0.7008797653958945\n",
      "[1.2134078212290502e-06]\n"
     ]
    },
    {
     "name": "stderr",
     "output_type": "stream",
     "text": [
      "<ipython-input-23-14e13d4fed3a>:18: UserWarning: Implicit dimension choice for softmax has been deprecated. Change the call to include dim=X as an argument.\n",
      "  normedOutputs = nn.functional.softmax(output.logits)\n"
     ]
    },
    {
     "data": {
      "application/vnd.jupyter.widget-view+json": {
       "model_id": "e8d6f9e84e3d44199daab7f2f12599a8",
       "version_major": 2,
       "version_minor": 0
      },
      "text/plain": [
       "  0%|          | 0/143 [00:00<?, ?it/s]"
      ]
     },
     "metadata": {},
     "output_type": "display_data"
    },
    {
     "name": "stderr",
     "output_type": "stream",
     "text": [
      "<ipython-input-22-403a2a615b9c>:11: UserWarning: Implicit dimension choice for softmax has been deprecated. Change the call to include dim=X as an argument.\n",
      "  normedOutputs = nn.functional.softmax(output.logits)\n"
     ]
    },
    {
     "name": "stdout",
     "output_type": "stream",
     "text": [
      "0.7256990679094542\n",
      "[1.1016759776536314e-06]\n"
     ]
    },
    {
     "name": "stderr",
     "output_type": "stream",
     "text": [
      "<ipython-input-23-14e13d4fed3a>:18: UserWarning: Implicit dimension choice for softmax has been deprecated. Change the call to include dim=X as an argument.\n",
      "  normedOutputs = nn.functional.softmax(output.logits)\n"
     ]
    },
    {
     "data": {
      "application/vnd.jupyter.widget-view+json": {
       "model_id": "1c0fefd32de9402e95179d2803be7681",
       "version_major": 2,
       "version_minor": 0
      },
      "text/plain": [
       "  0%|          | 0/143 [00:00<?, ?it/s]"
      ]
     },
     "metadata": {},
     "output_type": "display_data"
    },
    {
     "name": "stderr",
     "output_type": "stream",
     "text": [
      "<ipython-input-22-403a2a615b9c>:11: UserWarning: Implicit dimension choice for softmax has been deprecated. Change the call to include dim=X as an argument.\n",
      "  normedOutputs = nn.functional.softmax(output.logits)\n"
     ]
    },
    {
     "name": "stdout",
     "output_type": "stream",
     "text": [
      "0.7297116029510395\n",
      "[9.899441340782121e-07]\n"
     ]
    },
    {
     "name": "stderr",
     "output_type": "stream",
     "text": [
      "<ipython-input-23-14e13d4fed3a>:18: UserWarning: Implicit dimension choice for softmax has been deprecated. Change the call to include dim=X as an argument.\n",
      "  normedOutputs = nn.functional.softmax(output.logits)\n"
     ]
    },
    {
     "data": {
      "application/vnd.jupyter.widget-view+json": {
       "model_id": "5bf122a3b71347d98d5ed98ebdd7a2fe",
       "version_major": 2,
       "version_minor": 0
      },
      "text/plain": [
       "  0%|          | 0/143 [00:00<?, ?it/s]"
      ]
     },
     "metadata": {},
     "output_type": "display_data"
    },
    {
     "name": "stderr",
     "output_type": "stream",
     "text": [
      "<ipython-input-22-403a2a615b9c>:11: UserWarning: Implicit dimension choice for softmax has been deprecated. Change the call to include dim=X as an argument.\n",
      "  normedOutputs = nn.functional.softmax(output.logits)\n"
     ]
    },
    {
     "name": "stdout",
     "output_type": "stream",
     "text": [
      "0.7282835302293259\n",
      "[8.782122905027932e-07]\n"
     ]
    },
    {
     "name": "stderr",
     "output_type": "stream",
     "text": [
      "<ipython-input-23-14e13d4fed3a>:18: UserWarning: Implicit dimension choice for softmax has been deprecated. Change the call to include dim=X as an argument.\n",
      "  normedOutputs = nn.functional.softmax(output.logits)\n"
     ]
    },
    {
     "data": {
      "application/vnd.jupyter.widget-view+json": {
       "model_id": "dfc504ace59d48b5b5d8020398ae55a1",
       "version_major": 2,
       "version_minor": 0
      },
      "text/plain": [
       "  0%|          | 0/143 [00:00<?, ?it/s]"
      ]
     },
     "metadata": {},
     "output_type": "display_data"
    },
    {
     "name": "stderr",
     "output_type": "stream",
     "text": [
      "<ipython-input-22-403a2a615b9c>:11: UserWarning: Implicit dimension choice for softmax has been deprecated. Change the call to include dim=X as an argument.\n",
      "  normedOutputs = nn.functional.softmax(output.logits)\n"
     ]
    },
    {
     "name": "stdout",
     "output_type": "stream",
     "text": [
      "0.7319034852546917\n",
      "[7.664804469273742e-07]\n"
     ]
    },
    {
     "name": "stderr",
     "output_type": "stream",
     "text": [
      "<ipython-input-23-14e13d4fed3a>:18: UserWarning: Implicit dimension choice for softmax has been deprecated. Change the call to include dim=X as an argument.\n",
      "  normedOutputs = nn.functional.softmax(output.logits)\n"
     ]
    },
    {
     "data": {
      "application/vnd.jupyter.widget-view+json": {
       "model_id": "34a27e057b904c5abcdedc9b0aa78ae5",
       "version_major": 2,
       "version_minor": 0
      },
      "text/plain": [
       "  0%|          | 0/143 [00:00<?, ?it/s]"
      ]
     },
     "metadata": {},
     "output_type": "display_data"
    },
    {
     "name": "stderr",
     "output_type": "stream",
     "text": [
      "<ipython-input-22-403a2a615b9c>:11: UserWarning: Implicit dimension choice for softmax has been deprecated. Change the call to include dim=X as an argument.\n",
      "  normedOutputs = nn.functional.softmax(output.logits)\n"
     ]
    },
    {
     "name": "stdout",
     "output_type": "stream",
     "text": [
      "0.7159420289855071\n",
      "[6.547486033519553e-07]\n"
     ]
    },
    {
     "name": "stderr",
     "output_type": "stream",
     "text": [
      "<ipython-input-23-14e13d4fed3a>:18: UserWarning: Implicit dimension choice for softmax has been deprecated. Change the call to include dim=X as an argument.\n",
      "  normedOutputs = nn.functional.softmax(output.logits)\n"
     ]
    },
    {
     "data": {
      "application/vnd.jupyter.widget-view+json": {
       "model_id": "eb6e7904da2a4d4cae6aa0a81f8c108e",
       "version_major": 2,
       "version_minor": 0
      },
      "text/plain": [
       "  0%|          | 0/143 [00:00<?, ?it/s]"
      ]
     },
     "metadata": {},
     "output_type": "display_data"
    },
    {
     "name": "stderr",
     "output_type": "stream",
     "text": [
      "<ipython-input-22-403a2a615b9c>:11: UserWarning: Implicit dimension choice for softmax has been deprecated. Change the call to include dim=X as an argument.\n",
      "  normedOutputs = nn.functional.softmax(output.logits)\n"
     ]
    },
    {
     "name": "stdout",
     "output_type": "stream",
     "text": [
      "0.7325905292479109\n",
      "[5.430167597765362e-07]\n"
     ]
    },
    {
     "name": "stderr",
     "output_type": "stream",
     "text": [
      "<ipython-input-23-14e13d4fed3a>:18: UserWarning: Implicit dimension choice for softmax has been deprecated. Change the call to include dim=X as an argument.\n",
      "  normedOutputs = nn.functional.softmax(output.logits)\n"
     ]
    },
    {
     "data": {
      "application/vnd.jupyter.widget-view+json": {
       "model_id": "00fd6d63e36c4ce38dc04caf064f186c",
       "version_major": 2,
       "version_minor": 0
      },
      "text/plain": [
       "  0%|          | 0/143 [00:00<?, ?it/s]"
      ]
     },
     "metadata": {},
     "output_type": "display_data"
    },
    {
     "name": "stderr",
     "output_type": "stream",
     "text": [
      "<ipython-input-22-403a2a615b9c>:11: UserWarning: Implicit dimension choice for softmax has been deprecated. Change the call to include dim=X as an argument.\n",
      "  normedOutputs = nn.functional.softmax(output.logits)\n"
     ]
    },
    {
     "name": "stdout",
     "output_type": "stream",
     "text": [
      "0.7337837837837838\n",
      "[4.312849162011173e-07]\n"
     ]
    },
    {
     "name": "stderr",
     "output_type": "stream",
     "text": [
      "<ipython-input-23-14e13d4fed3a>:18: UserWarning: Implicit dimension choice for softmax has been deprecated. Change the call to include dim=X as an argument.\n",
      "  normedOutputs = nn.functional.softmax(output.logits)\n"
     ]
    },
    {
     "data": {
      "application/vnd.jupyter.widget-view+json": {
       "model_id": "b30575b0094044ddb3b788c594ba5b23",
       "version_major": 2,
       "version_minor": 0
      },
      "text/plain": [
       "  0%|          | 0/143 [00:00<?, ?it/s]"
      ]
     },
     "metadata": {},
     "output_type": "display_data"
    },
    {
     "name": "stderr",
     "output_type": "stream",
     "text": [
      "<ipython-input-22-403a2a615b9c>:11: UserWarning: Implicit dimension choice for softmax has been deprecated. Change the call to include dim=X as an argument.\n",
      "  normedOutputs = nn.functional.softmax(output.logits)\n"
     ]
    },
    {
     "name": "stdout",
     "output_type": "stream",
     "text": [
      "0.7371879106438897\n",
      "[3.195530726256983e-07]\n"
     ]
    },
    {
     "name": "stderr",
     "output_type": "stream",
     "text": [
      "<ipython-input-23-14e13d4fed3a>:18: UserWarning: Implicit dimension choice for softmax has been deprecated. Change the call to include dim=X as an argument.\n",
      "  normedOutputs = nn.functional.softmax(output.logits)\n"
     ]
    },
    {
     "data": {
      "application/vnd.jupyter.widget-view+json": {
       "model_id": "7ebac0a81f6144428774e348dac7af63",
       "version_major": 2,
       "version_minor": 0
      },
      "text/plain": [
       "  0%|          | 0/143 [00:00<?, ?it/s]"
      ]
     },
     "metadata": {},
     "output_type": "display_data"
    },
    {
     "name": "stderr",
     "output_type": "stream",
     "text": [
      "<ipython-input-22-403a2a615b9c>:11: UserWarning: Implicit dimension choice for softmax has been deprecated. Change the call to include dim=X as an argument.\n",
      "  normedOutputs = nn.functional.softmax(output.logits)\n"
     ]
    },
    {
     "name": "stdout",
     "output_type": "stream",
     "text": [
      "0.736562707365627\n",
      "[2.0782122905027932e-07]\n"
     ]
    },
    {
     "name": "stderr",
     "output_type": "stream",
     "text": [
      "<ipython-input-23-14e13d4fed3a>:18: UserWarning: Implicit dimension choice for softmax has been deprecated. Change the call to include dim=X as an argument.\n",
      "  normedOutputs = nn.functional.softmax(output.logits)\n"
     ]
    },
    {
     "data": {
      "application/vnd.jupyter.widget-view+json": {
       "model_id": "55521666512c4edfbc034a6c0fca91de",
       "version_major": 2,
       "version_minor": 0
      },
      "text/plain": [
       "  0%|          | 0/143 [00:00<?, ?it/s]"
      ]
     },
     "metadata": {},
     "output_type": "display_data"
    },
    {
     "name": "stderr",
     "output_type": "stream",
     "text": [
      "<ipython-input-22-403a2a615b9c>:11: UserWarning: Implicit dimension choice for softmax has been deprecated. Change the call to include dim=X as an argument.\n",
      "  normedOutputs = nn.functional.softmax(output.logits)\n"
     ]
    },
    {
     "name": "stdout",
     "output_type": "stream",
     "text": [
      "0.7378252168112076\n",
      "[9.608938547486033e-08]\n"
     ]
    },
    {
     "name": "stderr",
     "output_type": "stream",
     "text": [
      "<ipython-input-23-14e13d4fed3a>:18: UserWarning: Implicit dimension choice for softmax has been deprecated. Change the call to include dim=X as an argument.\n",
      "  normedOutputs = nn.functional.softmax(output.logits)\n"
     ]
    },
    {
     "data": {
      "application/vnd.jupyter.widget-view+json": {
       "model_id": "b5e39dbfd4734d7a93a2da01faf0e721",
       "version_major": 2,
       "version_minor": 0
      },
      "text/plain": [
       "  0%|          | 0/143 [00:00<?, ?it/s]"
      ]
     },
     "metadata": {},
     "output_type": "display_data"
    },
    {
     "name": "stderr",
     "output_type": "stream",
     "text": [
      "<ipython-input-22-403a2a615b9c>:11: UserWarning: Implicit dimension choice for softmax has been deprecated. Change the call to include dim=X as an argument.\n",
      "  normedOutputs = nn.functional.softmax(output.logits)\n"
     ]
    },
    {
     "name": "stdout",
     "output_type": "stream",
     "text": [
      "0.7386666666666667\n",
      "[0.0]\n"
     ]
    },
    {
     "name": "stderr",
     "output_type": "stream",
     "text": [
      "<ipython-input-23-14e13d4fed3a>:18: UserWarning: Implicit dimension choice for softmax has been deprecated. Change the call to include dim=X as an argument.\n",
      "  normedOutputs = nn.functional.softmax(output.logits)\n"
     ]
    }
   ],
   "source": [
    "lossList = []\n",
    "validateList = []\n",
    "for epoch in range(EPOCHS):\n",
    "    print(\"EPOCH: \" + str(epoch))\n",
    "    #validateBi(model, validLoader, loss_func)\n",
    "    \n",
    "    model.train()  # make sure model is in training mode\n",
    "\n",
    "    #DEBUGGING\n",
    "    i = 0 \n",
    "    currLossList = []\n",
    "    for batch in tqdm(trainLoader):\n",
    "        optim.zero_grad()\n",
    "        \n",
    "        input_ids = batch[\"input_ids\"].to(device) \n",
    "        attention_mask = batch[\"attention_mask\"].to(device) \n",
    "        output = model(input_ids, attention_mask=attention_mask)\n",
    "        normedOutputs = nn.functional.softmax(output.logits) \n",
    "        #preds = normedOutputs.argmax(dim=1) \n",
    "        \n",
    "        gt = batch[\"groundTruth\"].to(device)\n",
    "        loss = loss_func(normedOutputs, gt)\n",
    "        \n",
    "        # using loss, calculate gradients and then optimize\n",
    "        loss.backward()\n",
    "        optim.step()\n",
    "        scheduler.step()\n",
    "        \n",
    "        if i % 50 == 0: \n",
    "            #for train loss\n",
    "            curLossList = []\n",
    "            lossList.append([i, np.mean(currLossList)])\n",
    "            \n",
    "            #for validation stuff\n",
    "            validateList.append([i, validate(model, validLoader, loss_func)]) \n",
    "            model.train() \n",
    "            print(scheduler.get_lr()) \n",
    "            \n",
    "        currLossList.append(loss.item()) \n",
    "        i += 1\n",
    "        \n",
    "        #DEBUGGING\n",
    "        \"\"\"\n",
    "        print(loss)\n",
    "        print(scheduler.get_last_lr())\n",
    "        \n",
    "        #see if model params have changed\n",
    "        param = list(model.parameters())[0].clone()\n",
    "        print(torch.equal(param.data, prevParam.data))\n",
    "        \"\"\"\n"
   ]
  },
  {
   "cell_type": "code",
   "execution_count": 24,
   "id": "baa0eb2f-22c1-450a-b06f-0751c0c1dc49",
   "metadata": {},
   "outputs": [],
   "source": [
    "lossDf = pd.DataFrame(lossList, columns=[\"iter\", \"loss\"]) "
   ]
  },
  {
   "cell_type": "code",
   "execution_count": 30,
   "id": "62ba86c0-f2ff-45e9-aae5-a2ea5b5366f0",
   "metadata": {},
   "outputs": [],
   "source": [
    "validDf = pd.DataFrame(validateList, columns=[\"iter\", \"f1\"]) "
   ]
  },
  {
   "cell_type": "code",
   "execution_count": 31,
   "id": "efd9eda0-f026-4f2b-8b15-01682e8d7278",
   "metadata": {},
   "outputs": [],
   "source": [
    "resultsDf = pd.merge(lossDf, validDf, on=\"iter\", how=\"inner\") "
   ]
  },
  {
   "cell_type": "code",
   "execution_count": 32,
   "id": "77daa4bc-8416-414b-9729-3ecc6c1b45c6",
   "metadata": {},
   "outputs": [
    {
     "data": {
      "text/plain": [
       "Text(0.5, 0.98, 'Predicting Hosts in Transcript Snippets Surrounding Named Entities')"
      ]
     },
     "execution_count": 32,
     "metadata": {},
     "output_type": "execute_result"
    },
    {
     "data": {
      "image/png": "[encoded data removed]",
      "text/plain": [
       "<Figure size 720x288 with 2 Axes>"
      ]
     },
     "metadata": {
      "needs_background": "light"
     },
     "output_type": "display_data"
    }
   ],
   "source": [
    "fig, axs = plt.subplots(1, 2, figsize=(10, 4)) \n",
    "sns.lineplot(data=resultsDf, x=\"iter\", y=\"loss\", ax=axs[0])\n",
    "sns.lineplot(data=resultsDf, x=\"iter\", y=\"f1\", ax=axs[1])\n",
    "axs[0].set_title(\"train loss\") \n",
    "axs[1].set_title(\"validation set f1\") \n",
    "fig.suptitle(\"Predicting Hosts in Transcript Snippets Surrounding Named Entities\", size=16) "
   ]
  },
  {
   "cell_type": "code",
   "execution_count": 192,
   "id": "be952161-3f4f-488b-9d08-67b71d75a287",
   "metadata": {},
   "outputs": [
    {
     "data": {
      "text/plain": [
       "0.6968264579772949"
      ]
     },
     "execution_count": 192,
     "metadata": {},
     "output_type": "execute_result"
    }
   ],
   "source": [
    "loss_func(normedOutputs, gt).item() "
   ]
  },
  {
   "cell_type": "code",
   "execution_count": 152,
   "id": "640e814f-fa17-43db-9371-70e8c18f128f",
   "metadata": {},
   "outputs": [],
   "source": [
    "model = model.to(device) "
   ]
  },
  {
   "cell_type": "code",
   "execution_count": 166,
   "id": "1362c504-d66b-4f61-adca-f0603f93cb84",
   "metadata": {},
   "outputs": [
    {
     "name": "stderr",
     "output_type": "stream",
     "text": [
      "<ipython-input-166-2fd2f66a40ba>:2: UserWarning: Implicit dimension choice for softmax has been deprecated. Change the call to include dim=X as an argument.\n",
      "  normedOutputs = nn.functional.softmax(output.logits)\n"
     ]
    }
   ],
   "source": [
    "output = model(input_ids, attention_mask=attention_masks)\n",
    "normedOutputs = nn.functional.softmax(output.logits) \n",
    "preds = normedOutputs.argmax(dim=1) "
   ]
  },
  {
   "cell_type": "code",
   "execution_count": null,
   "id": "1a52f790-d4bb-4ea3-b104-2625de737226",
   "metadata": {},
   "outputs": [],
   "source": []
  }
 ],
 "metadata": {
  "kernelspec": {
   "display_name": "Python 3",
   "language": "python",
   "name": "python3"
  },
  "language_info": {
   "codemirror_mode": {
    "name": "ipython",
    "version": 3
   },
   "file_extension": ".py",
   "mimetype": "text/x-python",
   "name": "python",
   "nbconvert_exporter": "python",
   "pygments_lexer": "ipython3",
   "version": "3.9.12"
  }
 },
 "nbformat": 4,
 "nbformat_minor": 5
}
