{
 "cells": [
  {
   "cell_type": "code",
   "execution_count": 1,
   "id": "7b391a97-0e89-4770-9329-8e8fbc238ed5",
   "metadata": {},
   "outputs": [
    {
     "name": "stdout",
     "output_type": "stream",
     "text": [
      "[2024-02-15 17:42:27,729] [INFO] [real_accelerator.py:158:get_accelerator] Setting ds_accelerator to cuda (auto detect)\n"
     ]
    }
   ],
   "source": [
    "from tqdm.auto import tqdm\n",
    "import torch \n",
    "import transformers\n",
    "from transformers import PreTrainedTokenizer\n",
    "from transformers import RobertaTokenizer, RobertaConfig, RobertaModel, RobertaForTokenClassification\n",
    "#from sentence_transformers import SentenceTransformer, SentencesDataset, InputExample, losses, util\n",
    "from datasets import Dataset\n",
    "import pandas as pd\n",
    "from transformers.optimization import get_linear_schedule_with_warmup\n",
    "#import matplotlib.pyplot as plt \n",
    "import numpy as np\n",
    "from sentence_transformers import SentenceTransformer\n",
    "from transformers import AutoTokenizer, AutoModel, PreTrainedTokenizerFast, RobertaTokenizerFast\n",
    "#from torch.nn import CosineEmbeddingLoss\n",
    "import random\n",
    "#from torch.nn import CosineEmbeddingLoss\n",
    "from torch import nn\n",
    "#Build up to SBERT model "
   ]
  },
  {
   "cell_type": "code",
   "execution_count": 2,
   "id": "7b0c18c1-be41-4339-a7e3-f2adce4bfccc",
   "metadata": {},
   "outputs": [],
   "source": [
    "import seaborn as sns\n",
    "from sklearn.metrics import f1_score, confusion_matrix\n",
    "import matplotlib.pyplot as plt\n",
    "from sklearn.model_selection import train_test_split, KFold\n",
    "from torch.utils.data import DataLoader,random_split,SubsetRandomSampler"
   ]
  },
  {
   "cell_type": "code",
   "execution_count": 3,
   "id": "0469fb4e-bf36-4143-91e4-9b4bbb64ece4",
   "metadata": {},
   "outputs": [],
   "source": [
    "#df = pd.read_csv(\"/shared/3/projects/benlitterer/podcastData/hostIdentification/itunesGTsubset.tsv\", sep=\"\\t\") "
   ]
  },
  {
   "cell_type": "code",
   "execution_count": 4,
   "id": "398dc41f-6bb4-46f2-a24c-493ca53da607",
   "metadata": {},
   "outputs": [],
   "source": [
    "#set seeds\n",
    "torch.manual_seed(0)\n",
    "random.seed(0)\n",
    "np.random.seed(0)"
   ]
  },
  {
   "cell_type": "code",
   "execution_count": 5,
   "id": "adb5f207-5a6d-47f7-9b39-0a69b6545299",
   "metadata": {},
   "outputs": [],
   "source": [
    "trainDf = pd.read_csv(\"/shared/3/projects/benlitterer/podcastData/hostIdentification/trainTestVal2_5/descTrainLabelled.csv\")\n",
    "trainDf = trainDf.dropna(subset=[\"tag\"])\n",
    "trainDf[\"groundTruth\"] = trainDf[\"tag\"] == \"HOST\"\n",
    "trainDf[\"groundTruth\"] = trainDf[\"groundTruth\"].astype(int)\n",
    "trainDf[\"entSnippets\"] = trainDf[\"left\"] + trainDf[\"ent\"] + trainDf[\"right\"] \n",
    "\n",
    "valDf = pd.read_csv(\"/shared/3/projects/benlitterer/podcastData/hostIdentification/trainTestVal2_5/descValLabelled.csv\")\n",
    "valDf = valDf.dropna(subset=[\"tag\"])\n",
    "valDf[\"groundTruth\"] = valDf[\"tag\"] == \"HOST\"\n",
    "valDf[\"groundTruth\"] = valDf[\"groundTruth\"].astype(int)\n",
    "valDf[\"entSnippets\"] = valDf[\"left\"] + valDf[\"ent\"] + valDf[\"right\"] \n",
    "\n",
    "trainDf = pd.concat([trainDf, valDf], axis=0) \n",
    "\n"
   ]
  },
  {
   "cell_type": "code",
   "execution_count": 275,
   "id": "5ffb4fd8-f788-443f-8fab-d897893f8bd7",
   "metadata": {},
   "outputs": [
    {
     "data": {
      "text/plain": [
       "itunesAuthor\n",
       "Entertainment Radio    10\n",
       "The Athletic            8\n",
       "Claibs Online           7\n",
       "Blue Wire               5\n",
       "Jack Goodwin            5\n",
       "                       ..\n",
       "Carmen Brown            1\n",
       "Vertical Church         1\n",
       "Ashley Little           1\n",
       "Aurelia Grierson        1\n",
       "Johnny Ciao             1\n",
       "Name: count, Length: 649, dtype: int64"
      ]
     },
     "execution_count": 275,
     "metadata": {},
     "output_type": "execute_result"
    }
   ],
   "source": [
    "#hmmm why do we also have the same author ids? \n",
    "trainDf[\"itunesAuthor\"].value_counts()"
   ]
  },
  {
   "cell_type": "code",
   "execution_count": 278,
   "id": "b0a3b94a-0cdf-438b-9caa-9013faaaa7d0",
   "metadata": {},
   "outputs": [
    {
     "data": {
      "text/html": [
       "<div>\n",
       "<style scoped>\n",
       "    .dataframe tbody tr th:only-of-type {\n",
       "        vertical-align: middle;\n",
       "    }\n",
       "\n",
       "    .dataframe tbody tr th {\n",
       "        vertical-align: top;\n",
       "    }\n",
       "\n",
       "    .dataframe thead th {\n",
       "        text-align: right;\n",
       "    }\n",
       "</style>\n",
       "<table border=\"1\" class=\"dataframe\">\n",
       "  <thead>\n",
       "    <tr style=\"text-align: right;\">\n",
       "      <th></th>\n",
       "      <th>count</th>\n",
       "    </tr>\n",
       "    <tr>\n",
       "      <th>ent</th>\n",
       "      <th></th>\n",
       "    </tr>\n",
       "  </thead>\n",
       "  <tbody>\n",
       "    <tr>\n",
       "      <th>George Floyd</th>\n",
       "      <td>14</td>\n",
       "    </tr>\n",
       "    <tr>\n",
       "      <th>Jesus Christ</th>\n",
       "      <td>7</td>\n",
       "    </tr>\n",
       "    <tr>\n",
       "      <th>Ryan Reynolds</th>\n",
       "      <td>4</td>\n",
       "    </tr>\n",
       "    <tr>\n",
       "      <th>Quincy AmeriQua</th>\n",
       "      <td>4</td>\n",
       "    </tr>\n",
       "    <tr>\n",
       "      <th>Joe Biden</th>\n",
       "      <td>4</td>\n",
       "    </tr>\n",
       "    <tr>\n",
       "      <th>Joe Rogan</th>\n",
       "      <td>3</td>\n",
       "    </tr>\n",
       "    <tr>\n",
       "      <th>John chapter</th>\n",
       "      <td>3</td>\n",
       "    </tr>\n",
       "    <tr>\n",
       "      <th>Donald Trump</th>\n",
       "      <td>3</td>\n",
       "    </tr>\n",
       "    <tr>\n",
       "      <th>Michael Jordan</th>\n",
       "      <td>3</td>\n",
       "    </tr>\n",
       "    <tr>\n",
       "      <th>Joe Roderick</th>\n",
       "      <td>3</td>\n",
       "    </tr>\n",
       "  </tbody>\n",
       "</table>\n",
       "</div>"
      ],
      "text/plain": [
       "                 count\n",
       "ent                   \n",
       "George Floyd        14\n",
       "Jesus Christ         7\n",
       "Ryan Reynolds        4\n",
       "Quincy AmeriQua      4\n",
       "Joe Biden            4\n",
       "Joe Rogan            3\n",
       "John chapter         3\n",
       "Donald Trump         3\n",
       "Michael Jordan       3\n",
       "Joe Roderick         3"
      ]
     },
     "execution_count": 278,
     "metadata": {},
     "output_type": "execute_result"
    }
   ],
   "source": [
    "#we do have some repeated entities\n",
    "pd.DataFrame(trainDf[\"ent\"].value_counts()).head(10)"
   ]
  },
  {
   "cell_type": "code",
   "execution_count": null,
   "id": "7a9efa61-d3eb-4d0f-a13c-738f14ee8baf",
   "metadata": {},
   "outputs": [],
   "source": [
    "trainDf = trainDf[[\"left\", \"right\", \"ent\", \"tag\", 'first500', '500ent',\n",
    "       '500start', '500end', '500type', 'itunesAuthor', 'levenshtein',\n",
    "       'groundTruth', 'entSnippets']]\n",
    "\n",
    "trainDf = trainDf.dropna()"
   ]
  },
  {
   "cell_type": "code",
   "execution_count": 268,
   "id": "a28dd809-2365-4d0e-8c95-255d990fef63",
   "metadata": {},
   "outputs": [
    {
     "data": {
      "text/html": [
       "<div>\n",
       "<style scoped>\n",
       "    .dataframe tbody tr th:only-of-type {\n",
       "        vertical-align: middle;\n",
       "    }\n",
       "\n",
       "    .dataframe tbody tr th {\n",
       "        vertical-align: top;\n",
       "    }\n",
       "\n",
       "    .dataframe thead th {\n",
       "        text-align: right;\n",
       "    }\n",
       "</style>\n",
       "<table border=\"1\" class=\"dataframe\">\n",
       "  <thead>\n",
       "    <tr style=\"text-align: right;\">\n",
       "      <th></th>\n",
       "      <th>left</th>\n",
       "      <th>right</th>\n",
       "      <th>ent</th>\n",
       "      <th>tag</th>\n",
       "      <th>first500</th>\n",
       "      <th>500ent</th>\n",
       "      <th>500start</th>\n",
       "      <th>500end</th>\n",
       "      <th>500type</th>\n",
       "      <th>itunesAuthor</th>\n",
       "      <th>levenshtein</th>\n",
       "      <th>groundTruth</th>\n",
       "      <th>entSnippets</th>\n",
       "    </tr>\n",
       "  </thead>\n",
       "  <tbody>\n",
       "    <tr>\n",
       "      <th>0</th>\n",
       "      <td>content You're listening to Reflections on Lea...</td>\n",
       "      <td>and welcome to the Strengthen Your Leadership ...</td>\n",
       "      <td>Carl Bimchaw</td>\n",
       "      <td>HOST</td>\n",
       "      <td>content You're listening to Reflections on Lea...</td>\n",
       "      <td>Carl Bimchaw</td>\n",
       "      <td>182</td>\n",
       "      <td>194</td>\n",
       "      <td>PERSON</td>\n",
       "      <td>Karl Bimshas</td>\n",
       "      <td>75</td>\n",
       "      <td>1</td>\n",
       "      <td>content You're listening to Reflections on Lea...</td>\n",
       "    </tr>\n",
       "    <tr>\n",
       "      <th>1</th>\n",
       "      <td>content Harry Potter. Harry Potter. Harry Pott...</td>\n",
       "      <td>. Harry Potter. Harry Potter. Harry Potter. Ha...</td>\n",
       "      <td>Harry Potter</td>\n",
       "      <td>OTHER</td>\n",
       "      <td>content Harry Potter. Harry Potter. Harry Pott...</td>\n",
       "      <td>Harry Potter</td>\n",
       "      <td>134</td>\n",
       "      <td>146</td>\n",
       "      <td>PERSON</td>\n",
       "      <td>Harry Potter</td>\n",
       "      <td>100</td>\n",
       "      <td>0</td>\n",
       "      <td>content Harry Potter. Harry Potter. Harry Pott...</td>\n",
       "    </tr>\n",
       "    <tr>\n",
       "      <th>2</th>\n",
       "      <td>time I got to listen to Coach Bowling will spe...</td>\n",
       "      <td>was a coach at San Jose State\" had some reall...</td>\n",
       "      <td>Bill Berry</td>\n",
       "      <td>OTHER</td>\n",
       "      <td>content Welcome Inside Real Talk Basketball wi...</td>\n",
       "      <td>Bill Berry</td>\n",
       "      <td>323</td>\n",
       "      <td>333</td>\n",
       "      <td>PERSON</td>\n",
       "      <td>Rex Walters</td>\n",
       "      <td>29</td>\n",
       "      <td>0</td>\n",
       "      <td>time I got to listen to Coach Bowling will spe...</td>\n",
       "    </tr>\n",
       "    <tr>\n",
       "      <th>3</th>\n",
       "      <td>all the way when he was in the third grade. In...</td>\n",
       "      <td>from NC State and the most recent one being r...</td>\n",
       "      <td>Patrick Bailey</td>\n",
       "      <td>OTHER</td>\n",
       "      <td>content What's up guys\" welcome back to anothe...</td>\n",
       "      <td>Patrick Bailey</td>\n",
       "      <td>694</td>\n",
       "      <td>708</td>\n",
       "      <td>PERSON</td>\n",
       "      <td>Cullen Craig</td>\n",
       "      <td>23</td>\n",
       "      <td>0</td>\n",
       "      <td>all the way when he was in the third grade. In...</td>\n",
       "    </tr>\n",
       "    <tr>\n",
       "      <th>4</th>\n",
       "      <td>Falbani. I'm Taka Falbani. I'm Taka Falbani. I...</td>\n",
       "      <td>. I'm Taka Falbani. I'm Taka Falbani. I'm Taka...</td>\n",
       "      <td>Taka Falbani</td>\n",
       "      <td>HOST</td>\n",
       "      <td>content Hi\" hi guys\" I'm Taka Falbani. I'm her...</td>\n",
       "      <td>Taka Falbani</td>\n",
       "      <td>2477</td>\n",
       "      <td>2489</td>\n",
       "      <td>PERSON</td>\n",
       "      <td>Agus Sri</td>\n",
       "      <td>30</td>\n",
       "      <td>1</td>\n",
       "      <td>Falbani. I'm Taka Falbani. I'm Taka Falbani. I...</td>\n",
       "    </tr>\n",
       "  </tbody>\n",
       "</table>\n",
       "</div>"
      ],
      "text/plain": [
       "                                                left  \\\n",
       "0  content You're listening to Reflections on Lea...   \n",
       "1  content Harry Potter. Harry Potter. Harry Pott...   \n",
       "2  time I got to listen to Coach Bowling will spe...   \n",
       "3  all the way when he was in the third grade. In...   \n",
       "4  Falbani. I'm Taka Falbani. I'm Taka Falbani. I...   \n",
       "\n",
       "                                               right             ent    tag  \\\n",
       "0  and welcome to the Strengthen Your Leadership ...    Carl Bimchaw   HOST   \n",
       "1  . Harry Potter. Harry Potter. Harry Potter. Ha...    Harry Potter  OTHER   \n",
       "2   was a coach at San Jose State\" had some reall...      Bill Berry  OTHER   \n",
       "3   from NC State and the most recent one being r...  Patrick Bailey  OTHER   \n",
       "4  . I'm Taka Falbani. I'm Taka Falbani. I'm Taka...    Taka Falbani   HOST   \n",
       "\n",
       "                                            first500          500ent  \\\n",
       "0  content You're listening to Reflections on Lea...    Carl Bimchaw   \n",
       "1  content Harry Potter. Harry Potter. Harry Pott...    Harry Potter   \n",
       "2  content Welcome Inside Real Talk Basketball wi...      Bill Berry   \n",
       "3  content What's up guys\" welcome back to anothe...  Patrick Bailey   \n",
       "4  content Hi\" hi guys\" I'm Taka Falbani. I'm her...    Taka Falbani   \n",
       "\n",
       "   500start  500end 500type  itunesAuthor  levenshtein  groundTruth  \\\n",
       "0       182     194  PERSON  Karl Bimshas           75            1   \n",
       "1       134     146  PERSON  Harry Potter          100            0   \n",
       "2       323     333  PERSON   Rex Walters           29            0   \n",
       "3       694     708  PERSON  Cullen Craig           23            0   \n",
       "4      2477    2489  PERSON      Agus Sri           30            1   \n",
       "\n",
       "                                         entSnippets  \n",
       "0  content You're listening to Reflections on Lea...  \n",
       "1  content Harry Potter. Harry Potter. Harry Pott...  \n",
       "2  time I got to listen to Coach Bowling will spe...  \n",
       "3  all the way when he was in the third grade. In...  \n",
       "4  Falbani. I'm Taka Falbani. I'm Taka Falbani. I...  "
      ]
     },
     "execution_count": 268,
     "metadata": {},
     "output_type": "execute_result"
    }
   ],
   "source": [
    "trainDf.head()"
   ]
  },
  {
   "cell_type": "code",
   "execution_count": 228,
   "id": "59c88673-f7f8-4425-96d4-b08d08f0ff50",
   "metadata": {},
   "outputs": [],
   "source": [
    "#create snippet from \n",
    "trainDf[\"snippetStart\"] = trainDf.apply(lambda x: x[\"entSnippets\"].lower().find(x[\"ent\"].lower()), axis=1)\n"
   ]
  },
  {
   "cell_type": "code",
   "execution_count": 229,
   "id": "3479264e-7d2e-482d-a3e7-684e454c1ee0",
   "metadata": {},
   "outputs": [],
   "source": [
    "\n",
    "trainDf = trainDf[trainDf[\"snippetStart\"] != -1]\n",
    "#valDf = valDf[valDf[\"snippetStart\"] != -1]\n",
    "\n",
    "trainDf[\"snippetEnd\"] = trainDf[\"snippetStart\"] + trainDf[\"500end\"] - trainDf[\"500start\"]\n",
    "#valDf[\"snippetEnd\"] = valDf[\"snippetStart\"] + valDf[\"500end\"] - valDf[\"500start\"]\n",
    "\n",
    "def extractEnt(inRow): \n",
    "    return inRow[\"entSnippets\"][inRow[\"snippetStart\"]:inRow[\"snippetEnd\"]]\n",
    "\n",
    "#just for sanity checking whether our inferred start/end indices are correct \n",
    "#looks good!\n",
    "trainDf[\"extractedEnt\"] = trainDf.apply(extractEnt, axis=1)\n",
    "#valDf[\"extractedEnt\"] = valDf.apply(extractEnt, axis=1)"
   ]
  },
  {
   "cell_type": "code",
   "execution_count": 230,
   "id": "ac31fb66-b075-4576-a72c-fa86eeaa1f54",
   "metadata": {},
   "outputs": [],
   "source": [
    "deviceNum = 1\n",
    "device = torch.device(\"cuda:\" + str(deviceNum) if torch.cuda.is_available() else \"cpu\")"
   ]
  },
  {
   "cell_type": "code",
   "execution_count": 231,
   "id": "bfc38ffd-442c-4378-9131-2d9a1eb089ff",
   "metadata": {},
   "outputs": [],
   "source": [
    "\n",
    "#put ground truth values into a list \n",
    "trainDf = trainDf[[\"entSnippets\", \"groundTruth\", \"snippetStart\", \"snippetEnd\"]] \n",
    "trainDf = trainDf.reset_index(drop=True)\n",
    "\n",
    "#valDf = valDf[[\"entSnippets\", \"groundTruth\", \"snippetStart\", \"snippetEnd\"]] \n",
    "#valDf = valDf.reset_index(drop=True)\n",
    "\n",
    "#get train, valid, test \n",
    "#trainDf, testDf = train_test_split(leanDf, test_size=0.3) \n",
    "#validDf, testDf = train_test_split(testDf, test_size=0.666) \n",
    "\n",
    "\n",
    "#validDataset = Dataset.from_pandas(valDf)\n",
    "#testDataset = Datase|t.from_pandas(testDf)"
   ]
  },
  {
   "cell_type": "code",
   "execution_count": 232,
   "id": "b584aa7f-1f34-468f-80f8-cccc00dd8f80",
   "metadata": {},
   "outputs": [],
   "source": [
    "# Preprocessing\n",
    "tokenizer = RobertaTokenizerFast.from_pretrained('roberta-base', max_length=512, padding=\"max_length\", truncation=True)"
   ]
  },
  {
   "cell_type": "code",
   "execution_count": 233,
   "id": "560a9314-9c15-4463-baf0-848879708500",
   "metadata": {},
   "outputs": [],
   "source": [
    "tokenized = []\n",
    "for snip in trainDf[\"entSnippets\"]: \n",
    "    tokenized.append(tokenizer(snip, padding = \"max_length\", truncation=True, return_offsets_mapping=True))"
   ]
  },
  {
   "cell_type": "code",
   "execution_count": 234,
   "id": "8e42f292-b89d-4ea6-8f7a-96389e9e7a33",
   "metadata": {},
   "outputs": [],
   "source": [
    "trainDf = pd.concat([trainDf, pd.DataFrame.from_records(tokenized)], axis=1) "
   ]
  },
  {
   "cell_type": "code",
   "execution_count": 235,
   "id": "6fa23e57-57a3-4c4c-8485-530d90c0dc1f",
   "metadata": {},
   "outputs": [],
   "source": [
    "#find the token indices which correspond to our entity \n",
    "def getTokenIndices(start, end, offsets):\n",
    "    \"\"\"\n",
    "    print(start) \n",
    "    print(end) \n",
    "    print(offsets[:20]) \n",
    "    \"\"\"\n",
    "\n",
    "    currIndices = []\n",
    "    for j, offset in enumerate(offsets): \n",
    "        offsetL, offsetR = offset\n",
    "        if offsetL >= start and offsetR <= end: \n",
    "            currIndices.append(j)\n",
    "\n",
    "    return currIndices"
   ]
  },
  {
   "cell_type": "code",
   "execution_count": 236,
   "id": "d6031ddb-0b08-49ce-b664-7383dfc632ce",
   "metadata": {},
   "outputs": [],
   "source": [
    "#posTokens is useful with a BIO setup \n",
    "trainDf[\"posTokens\"] = trainDf.apply(lambda row: getTokenIndices(row[\"snippetStart\"], row[\"snippetEnd\"], row[\"offset_mapping\"]), axis=1)\n",
    "\n",
    "labList = []\n",
    "for i, row in trainDf.iterrows(): \n",
    "    tokCount = sum(row[\"attention_mask\"])\n",
    "    paddingLen = len(row[\"attention_mask\"]) - tokCount\n",
    "    \n",
    "    labels = ([0] * tokCount) + ([2] * paddingLen)\n",
    "    \n",
    "    for posIndex in row[\"posTokens\"]: \n",
    "        labels[posIndex] = 1\n",
    "    \n",
    "    labList.append(labels) \n",
    "\n",
    "trainDf[\"labels\"] = labList\n",
    "\n",
    "trainDf[\"entsTokenized\"] = trainDf.apply(lambda row: [tokenizer.decode(row[\"input_ids\"][i]) for i in row[\"posTokens\"]], axis=1) "
   ]
  },
  {
   "cell_type": "code",
   "execution_count": 240,
   "id": "d3ceca21-f676-43d5-9e88-6c7a97d550da",
   "metadata": {},
   "outputs": [
    {
     "data": {
      "text/html": [
       "<div>\n",
       "<style scoped>\n",
       "    .dataframe tbody tr th:only-of-type {\n",
       "        vertical-align: middle;\n",
       "    }\n",
       "\n",
       "    .dataframe tbody tr th {\n",
       "        vertical-align: top;\n",
       "    }\n",
       "\n",
       "    .dataframe thead th {\n",
       "        text-align: right;\n",
       "    }\n",
       "</style>\n",
       "<table border=\"1\" class=\"dataframe\">\n",
       "  <thead>\n",
       "    <tr style=\"text-align: right;\">\n",
       "      <th></th>\n",
       "      <th>entSnippets</th>\n",
       "      <th>groundTruth</th>\n",
       "      <th>snippetStart</th>\n",
       "      <th>snippetEnd</th>\n",
       "      <th>attention_mask</th>\n",
       "      <th>input_ids</th>\n",
       "      <th>offset_mapping</th>\n",
       "      <th>posTokens</th>\n",
       "      <th>labels</th>\n",
       "      <th>entsTokenized</th>\n",
       "    </tr>\n",
       "  </thead>\n",
       "  <tbody>\n",
       "    <tr>\n",
       "      <th>575</th>\n",
       "      <td>greatest terrorist threat in America is white ...</td>\n",
       "      <td>0</td>\n",
       "      <td>171</td>\n",
       "      <td>185</td>\n",
       "      <td>[1, 1, 1, 1, 1, 1, 1, 1, 1, 1, 1, 1, 1, 1, 1, ...</td>\n",
       "      <td>[0, 12338, 990, 4888, 1856, 11, 730, 16, 1104,...</td>\n",
       "      <td>[(0, 0), (0, 5), (5, 8), (9, 18), (19, 25), (2...</td>\n",
       "      <td>[34, 35]</td>\n",
       "      <td>[0, 0, 0, 0, 0, 0, 0, 0, 0, 0, 0, 0, 0, 0, 0, ...</td>\n",
       "      <td>[Bernie,  Sanders]</td>\n",
       "    </tr>\n",
       "    <tr>\n",
       "      <th>693</th>\n",
       "      <td>will show it to the screen that we are on a zo...</td>\n",
       "      <td>0</td>\n",
       "      <td>136</td>\n",
       "      <td>152</td>\n",
       "      <td>[1, 1, 1, 1, 1, 1, 1, 1, 1, 1, 1, 1, 1, 1, 1, ...</td>\n",
       "      <td>[0, 6677, 311, 24, 7, 5, 2441, 14, 52, 32, 15,...</td>\n",
       "      <td>[(0, 0), (0, 4), (5, 9), (10, 12), (13, 15), (...</td>\n",
       "      <td>[33, 34, 35, 36, 37]</td>\n",
       "      <td>[0, 0, 0, 0, 0, 0, 0, 0, 0, 0, 0, 0, 0, 0, 0, ...</td>\n",
       "      <td>[ Gabriel, le,  J, az, ous]</td>\n",
       "    </tr>\n",
       "    <tr>\n",
       "      <th>79</th>\n",
       "      <td>distinctly unmonkey square. -Maybe they didn't...</td>\n",
       "      <td>0</td>\n",
       "      <td>193</td>\n",
       "      <td>208</td>\n",
       "      <td>[1, 1, 1, 1, 1, 1, 1, 1, 1, 1, 1, 1, 1, 1, 1, ...</td>\n",
       "      <td>[0, 17165, 24115, 352, 542, 45384, 3925, 4, 11...</td>\n",
       "      <td>[(0, 0), (0, 4), (4, 8), (8, 10), (11, 13), (1...</td>\n",
       "      <td>[50, 51, 52, 53, 54, 55, 56]</td>\n",
       "      <td>[0, 0, 0, 0, 0, 0, 0, 0, 0, 0, 0, 0, 0, 0, 0, ...</td>\n",
       "      <td>[ Bre, x, se, f,  Ak, al, ten]</td>\n",
       "    </tr>\n",
       "    <tr>\n",
       "      <th>577</th>\n",
       "      <td>your cart today at Kroger.com. Kroger\" fresh f...</td>\n",
       "      <td>1</td>\n",
       "      <td>186</td>\n",
       "      <td>198</td>\n",
       "      <td>[1, 1, 1, 1, 1, 1, 1, 1, 1, 1, 1, 1, 1, 1, 1, ...</td>\n",
       "      <td>[0, 16625, 9727, 452, 23, 14226, 2403, 4, 175,...</td>\n",
       "      <td>[(0, 0), (0, 4), (5, 9), (10, 15), (16, 18), (...</td>\n",
       "      <td>[49, 50]</td>\n",
       "      <td>[0, 0, 0, 0, 0, 0, 0, 0, 0, 0, 0, 0, 0, 0, 0, ...</td>\n",
       "      <td>[ Andrea,  Lopez]</td>\n",
       "    </tr>\n",
       "    <tr>\n",
       "      <th>667</th>\n",
       "      <td>content [MUSIC] From Relay FM\" this is the Pen...</td>\n",
       "      <td>1</td>\n",
       "      <td>142</td>\n",
       "      <td>153</td>\n",
       "      <td>[1, 1, 1, 1, 1, 1, 1, 1, 1, 1, 1, 1, 1, 1, 1, ...</td>\n",
       "      <td>[0, 10166, 646, 448, 3048, 2371, 742, 1740, 81...</td>\n",
       "      <td>[(0, 0), (0, 7), (8, 9), (9, 10), (10, 12), (1...</td>\n",
       "      <td>[41, 42, 43]</td>\n",
       "      <td>[0, 0, 0, 0, 0, 0, 0, 0, 0, 0, 0, 0, 0, 0, 0, ...</td>\n",
       "      <td>[ Mike,  Hur, ley]</td>\n",
       "    </tr>\n",
       "    <tr>\n",
       "      <th>428</th>\n",
       "      <td>40 years later. But he went to make his dream ...</td>\n",
       "      <td>0</td>\n",
       "      <td>137</td>\n",
       "      <td>150</td>\n",
       "      <td>[1, 1, 1, 1, 1, 1, 1, 1, 1, 1, 1, 1, 1, 1, 1, ...</td>\n",
       "      <td>[0, 1749, 107, 423, 4, 125, 37, 439, 7, 146, 3...</td>\n",
       "      <td>[(0, 0), (0, 2), (3, 8), (9, 14), (14, 15), (1...</td>\n",
       "      <td>[33, 34, 35, 36, 37]</td>\n",
       "      <td>[0, 0, 0, 0, 0, 0, 0, 0, 0, 0, 0, 0, 0, 0, 0, ...</td>\n",
       "      <td>[ Mir, iam,  McK, eb, a]</td>\n",
       "    </tr>\n",
       "    <tr>\n",
       "      <th>345</th>\n",
       "      <td>content Welcome to the Sony Alpha Photographer...</td>\n",
       "      <td>0</td>\n",
       "      <td>102</td>\n",
       "      <td>111</td>\n",
       "      <td>[1, 1, 1, 1, 1, 1, 1, 1, 1, 1, 1, 1, 1, 1, 1, ...</td>\n",
       "      <td>[0, 10166, 14826, 7, 5, 6366, 7829, 23769, 307...</td>\n",
       "      <td>[(0, 0), (0, 7), (8, 15), (16, 18), (19, 22), ...</td>\n",
       "      <td>[21, 22]</td>\n",
       "      <td>[0, 0, 0, 0, 0, 0, 0, 0, 0, 0, 0, 0, 0, 0, 0, ...</td>\n",
       "      <td>[Gary,  Hart]</td>\n",
       "    </tr>\n",
       "    <tr>\n",
       "      <th>603</th>\n",
       "      <td>Hamlin\" Denny Hamlin tenths. Now we take a loo...</td>\n",
       "      <td>0</td>\n",
       "      <td>169</td>\n",
       "      <td>183</td>\n",
       "      <td>[1, 1, 1, 1, 1, 1, 1, 1, 1, 1, 1, 1, 1, 1, 1, ...</td>\n",
       "      <td>[0, 30907, 2614, 113, 211, 11867, 3600, 2614, ...</td>\n",
       "      <td>[(0, 0), (0, 3), (3, 6), (6, 7), (8, 9), (9, 1...</td>\n",
       "      <td>[46, 47, 48, 49, 50]</td>\n",
       "      <td>[0, 0, 0, 0, 0, 0, 0, 0, 0, 0, 0, 0, 0, 0, 0, ...</td>\n",
       "      <td>[ Brad,  K, isl, av, ski]</td>\n",
       "    </tr>\n",
       "    <tr>\n",
       "      <th>652</th>\n",
       "      <td>all things NFL. The sun is shining across the ...</td>\n",
       "      <td>0</td>\n",
       "      <td>148</td>\n",
       "      <td>161</td>\n",
       "      <td>[1, 1, 1, 1, 1, 1, 1, 1, 1, 1, 1, 1, 1, 1, 1, ...</td>\n",
       "      <td>[0, 1250, 383, 1485, 4, 20, 3778, 16, 21003, 4...</td>\n",
       "      <td>[(0, 0), (0, 3), (4, 10), (11, 14), (14, 15), ...</td>\n",
       "      <td>[36, 37, 38]</td>\n",
       "      <td>[0, 0, 0, 0, 0, 0, 0, 0, 0, 0, 0, 0, 0, 0, 0, ...</td>\n",
       "      <td>[ Jeff,  Ryan, bold]</td>\n",
       "    </tr>\n",
       "    <tr>\n",
       "      <th>715</th>\n",
       "      <td>Lee Tignor\" Michael Espinel\" Michael Noel\" Kev...</td>\n",
       "      <td>0</td>\n",
       "      <td>218</td>\n",
       "      <td>235</td>\n",
       "      <td>[1, 1, 1, 1, 1, 1, 1, 1, 1, 1, 1, 1, 1, 1, 1, ...</td>\n",
       "      <td>[0, 24403, 255, 4932, 368, 113, 988, 11631, 16...</td>\n",
       "      <td>[(0, 0), (0, 3), (4, 5), (5, 8), (8, 10), (10,...</td>\n",
       "      <td>[60, 61]</td>\n",
       "      <td>[0, 0, 0, 0, 0, 0, 0, 0, 0, 0, 0, 0, 0, 0, 0, ...</td>\n",
       "      <td>[ Christopher,  Davis]</td>\n",
       "    </tr>\n",
       "  </tbody>\n",
       "</table>\n",
       "</div>"
      ],
      "text/plain": [
       "                                           entSnippets  groundTruth  \\\n",
       "575  greatest terrorist threat in America is white ...            0   \n",
       "693  will show it to the screen that we are on a zo...            0   \n",
       "79   distinctly unmonkey square. -Maybe they didn't...            0   \n",
       "577  your cart today at Kroger.com. Kroger\" fresh f...            1   \n",
       "667  content [MUSIC] From Relay FM\" this is the Pen...            1   \n",
       "428  40 years later. But he went to make his dream ...            0   \n",
       "345  content Welcome to the Sony Alpha Photographer...            0   \n",
       "603  Hamlin\" Denny Hamlin tenths. Now we take a loo...            0   \n",
       "652  all things NFL. The sun is shining across the ...            0   \n",
       "715  Lee Tignor\" Michael Espinel\" Michael Noel\" Kev...            0   \n",
       "\n",
       "     snippetStart  snippetEnd  \\\n",
       "575           171         185   \n",
       "693           136         152   \n",
       "79            193         208   \n",
       "577           186         198   \n",
       "667           142         153   \n",
       "428           137         150   \n",
       "345           102         111   \n",
       "603           169         183   \n",
       "652           148         161   \n",
       "715           218         235   \n",
       "\n",
       "                                        attention_mask  \\\n",
       "575  [1, 1, 1, 1, 1, 1, 1, 1, 1, 1, 1, 1, 1, 1, 1, ...   \n",
       "693  [1, 1, 1, 1, 1, 1, 1, 1, 1, 1, 1, 1, 1, 1, 1, ...   \n",
       "79   [1, 1, 1, 1, 1, 1, 1, 1, 1, 1, 1, 1, 1, 1, 1, ...   \n",
       "577  [1, 1, 1, 1, 1, 1, 1, 1, 1, 1, 1, 1, 1, 1, 1, ...   \n",
       "667  [1, 1, 1, 1, 1, 1, 1, 1, 1, 1, 1, 1, 1, 1, 1, ...   \n",
       "428  [1, 1, 1, 1, 1, 1, 1, 1, 1, 1, 1, 1, 1, 1, 1, ...   \n",
       "345  [1, 1, 1, 1, 1, 1, 1, 1, 1, 1, 1, 1, 1, 1, 1, ...   \n",
       "603  [1, 1, 1, 1, 1, 1, 1, 1, 1, 1, 1, 1, 1, 1, 1, ...   \n",
       "652  [1, 1, 1, 1, 1, 1, 1, 1, 1, 1, 1, 1, 1, 1, 1, ...   \n",
       "715  [1, 1, 1, 1, 1, 1, 1, 1, 1, 1, 1, 1, 1, 1, 1, ...   \n",
       "\n",
       "                                             input_ids  \\\n",
       "575  [0, 12338, 990, 4888, 1856, 11, 730, 16, 1104,...   \n",
       "693  [0, 6677, 311, 24, 7, 5, 2441, 14, 52, 32, 15,...   \n",
       "79   [0, 17165, 24115, 352, 542, 45384, 3925, 4, 11...   \n",
       "577  [0, 16625, 9727, 452, 23, 14226, 2403, 4, 175,...   \n",
       "667  [0, 10166, 646, 448, 3048, 2371, 742, 1740, 81...   \n",
       "428  [0, 1749, 107, 423, 4, 125, 37, 439, 7, 146, 3...   \n",
       "345  [0, 10166, 14826, 7, 5, 6366, 7829, 23769, 307...   \n",
       "603  [0, 30907, 2614, 113, 211, 11867, 3600, 2614, ...   \n",
       "652  [0, 1250, 383, 1485, 4, 20, 3778, 16, 21003, 4...   \n",
       "715  [0, 24403, 255, 4932, 368, 113, 988, 11631, 16...   \n",
       "\n",
       "                                        offset_mapping  \\\n",
       "575  [(0, 0), (0, 5), (5, 8), (9, 18), (19, 25), (2...   \n",
       "693  [(0, 0), (0, 4), (5, 9), (10, 12), (13, 15), (...   \n",
       "79   [(0, 0), (0, 4), (4, 8), (8, 10), (11, 13), (1...   \n",
       "577  [(0, 0), (0, 4), (5, 9), (10, 15), (16, 18), (...   \n",
       "667  [(0, 0), (0, 7), (8, 9), (9, 10), (10, 12), (1...   \n",
       "428  [(0, 0), (0, 2), (3, 8), (9, 14), (14, 15), (1...   \n",
       "345  [(0, 0), (0, 7), (8, 15), (16, 18), (19, 22), ...   \n",
       "603  [(0, 0), (0, 3), (3, 6), (6, 7), (8, 9), (9, 1...   \n",
       "652  [(0, 0), (0, 3), (4, 10), (11, 14), (14, 15), ...   \n",
       "715  [(0, 0), (0, 3), (4, 5), (5, 8), (8, 10), (10,...   \n",
       "\n",
       "                        posTokens  \\\n",
       "575                      [34, 35]   \n",
       "693          [33, 34, 35, 36, 37]   \n",
       "79   [50, 51, 52, 53, 54, 55, 56]   \n",
       "577                      [49, 50]   \n",
       "667                  [41, 42, 43]   \n",
       "428          [33, 34, 35, 36, 37]   \n",
       "345                      [21, 22]   \n",
       "603          [46, 47, 48, 49, 50]   \n",
       "652                  [36, 37, 38]   \n",
       "715                      [60, 61]   \n",
       "\n",
       "                                                labels  \\\n",
       "575  [0, 0, 0, 0, 0, 0, 0, 0, 0, 0, 0, 0, 0, 0, 0, ...   \n",
       "693  [0, 0, 0, 0, 0, 0, 0, 0, 0, 0, 0, 0, 0, 0, 0, ...   \n",
       "79   [0, 0, 0, 0, 0, 0, 0, 0, 0, 0, 0, 0, 0, 0, 0, ...   \n",
       "577  [0, 0, 0, 0, 0, 0, 0, 0, 0, 0, 0, 0, 0, 0, 0, ...   \n",
       "667  [0, 0, 0, 0, 0, 0, 0, 0, 0, 0, 0, 0, 0, 0, 0, ...   \n",
       "428  [0, 0, 0, 0, 0, 0, 0, 0, 0, 0, 0, 0, 0, 0, 0, ...   \n",
       "345  [0, 0, 0, 0, 0, 0, 0, 0, 0, 0, 0, 0, 0, 0, 0, ...   \n",
       "603  [0, 0, 0, 0, 0, 0, 0, 0, 0, 0, 0, 0, 0, 0, 0, ...   \n",
       "652  [0, 0, 0, 0, 0, 0, 0, 0, 0, 0, 0, 0, 0, 0, 0, ...   \n",
       "715  [0, 0, 0, 0, 0, 0, 0, 0, 0, 0, 0, 0, 0, 0, 0, ...   \n",
       "\n",
       "                      entsTokenized  \n",
       "575              [Bernie,  Sanders]  \n",
       "693     [ Gabriel, le,  J, az, ous]  \n",
       "79   [ Bre, x, se, f,  Ak, al, ten]  \n",
       "577               [ Andrea,  Lopez]  \n",
       "667              [ Mike,  Hur, ley]  \n",
       "428        [ Mir, iam,  McK, eb, a]  \n",
       "345                   [Gary,  Hart]  \n",
       "603       [ Brad,  K, isl, av, ski]  \n",
       "652            [ Jeff,  Ryan, bold]  \n",
       "715          [ Christopher,  Davis]  "
      ]
     },
     "execution_count": 240,
     "metadata": {},
     "output_type": "execute_result"
    }
   ],
   "source": [
    "trainDf.sample(10)"
   ]
  },
  {
   "cell_type": "code",
   "execution_count": 241,
   "id": "9e509e10-d241-4506-80e7-6725bd21f019",
   "metadata": {},
   "outputs": [],
   "source": [
    "#get an \"index\" column that just indexes the row of the dataframe we have \n",
    "trainDf = trainDf.reset_index(drop=True).reset_index()\n",
    "tokenIxList = list(trainDf[\"posTokens\"])\n",
    "\n",
    "dataset = Dataset.from_pandas(trainDf)\n",
    "dataset.set_format(type='torch', columns=[\"index\", \"entSnippets\", \"groundTruth\", \"input_ids\", \"attention_mask\"])\n",
    "#validDataset.set_format(type='torch', columns=[\"entSnippets\", \"groundTruth\", \"input_ids\", \"snippetStart\", \"snippetEnd\", \"attention_mask\", \"offset_mapping\"])"
   ]
  },
  {
   "cell_type": "code",
   "execution_count": 245,
   "id": "9d14d45b-a005-4ea1-81cb-3d63b40ae07d",
   "metadata": {},
   "outputs": [],
   "source": [
    "class Model(nn.Module):\n",
    "    def __init__(self, ixList):\n",
    "        #def __init__(self):\n",
    "        super(Model,self).__init__()\n",
    "        self.model = RobertaModel.from_pretrained('roberta-base')\n",
    "        self.l1 = nn.Linear(768, 1)\n",
    "        self.sig = nn.Sigmoid()\n",
    "        self.ixList = ixList\n",
    "        \n",
    "    def mean_pooling(self, token_embeddings, attention_mask): \n",
    "        input_mask_expanded = attention_mask.unsqueeze(-1).expand(token_embeddings.size()).float()\n",
    "        return torch.sum(token_embeddings * input_mask_expanded, 1) / torch.clamp(input_mask_expanded.sum(1), min=1e-9)\n",
    "    \n",
    "    def forward(self, input_ids, attention_mask, index): \n",
    "        \n",
    "        #encode sentence and get mean pooled sentence representation \n",
    "        output = self.model(input_ids, attention_mask=attention_mask)\n",
    "        \n",
    "        outIndices = [self.ixList[ix] for ix in index]\n",
    "        embeddingMeans = []\n",
    "        batchIter = 0\n",
    "        for batchIter in range(input_ids.shape[0]): \n",
    "            \n",
    "            #get the last layer of the model \n",
    "            hiddenStates = output[0]\n",
    "            \n",
    "            #get the embeddings corresponding to the entity we're interested in \n",
    "            tokStates = [hiddenStates[batchIter][tokIndex,:] for tokIndex in outIndices[batchIter]]\n",
    "            \n",
    "            #take the mean over all embeddings for an entity \n",
    "            embeddingMean = torch.stack(tokStates).mean(dim=0)\n",
    "            \n",
    "            #append this so we get the mean embedding for each \n",
    "            #training example in this batch \n",
    "            embeddingMeans.append(embeddingMean) \n",
    "            #embeddingMeans.append(hiddenStates[batchIter][outIndices[batchIter][0],:])\n",
    "            \n",
    "        embeddingMeans = torch.stack(embeddingMeans)\n",
    "        \"\"\"\n",
    "        working code just used this!\n",
    "        embeddingMeans = self.mean_pooling(output[0], attention_mask)\n",
    "        \"\"\"\n",
    "        probs = self.sig(self.l1(embeddingMeans)).squeeze()\n",
    "        \n",
    "        \n",
    "        return probs"
   ]
  },
  {
   "cell_type": "code",
   "execution_count": 246,
   "id": "c773861d-c5de-4b03-9ae4-e83145e07d74",
   "metadata": {},
   "outputs": [
    {
     "data": {
      "text/plain": [
       "'\\nas a sanity check, this prints the Named Entitiy of the first\\nelement in the batch that was most recently processed \\ntempModel = RobertaModel.from_pretrained(\\'roberta-base\\')\\noutput = tempModel(batch[\"input_ids\"], attention_mask=batch[\"attention_mask\"])\\ncurrIndex = batch[\"index\"][0]\\ntokIndices = tokenIxList[currIndex]\\ntokenizer.decode(batch[\"input_ids\"][0][tokIndices])\\n#trainDf.loc[443]\\n'"
      ]
     },
     "execution_count": 246,
     "metadata": {},
     "output_type": "execute_result"
    }
   ],
   "source": [
    "\"\"\"\n",
    "as a sanity check, this prints the Named Entitiy of the first\n",
    "element in the batch that was most recently processed \n",
    "tempModel = RobertaModel.from_pretrained('roberta-base')\n",
    "output = tempModel(batch[\"input_ids\"], attention_mask=batch[\"attention_mask\"])\n",
    "currIndex = batch[\"index\"][0]\n",
    "tokIndices = tokenIxList[currIndex]\n",
    "tokenizer.decode(batch[\"input_ids\"][0][tokIndices])\n",
    "#trainDf.loc[443]\n",
    "\"\"\""
   ]
  },
  {
   "cell_type": "code",
   "execution_count": 252,
   "id": "6059fd9e-0a32-4cc2-afdf-b9b2084ca067",
   "metadata": {},
   "outputs": [],
   "source": [
    "\n",
    "#validation function \n",
    "def validate(model, validLoader, loss_func):\n",
    "    model.eval()\n",
    "    \n",
    "    validPreds = []\n",
    "    validGts = []\n",
    "    validLoss = []\n",
    "    outList = [[], []]\n",
    "    for batch in tqdm(validLoader): \n",
    "        \n",
    "        optim.zero_grad()\n",
    "        \n",
    "        input_ids = batch[\"input_ids\"].to(device) \n",
    "        attention_mask = batch[\"attention_mask\"].to(device) \n",
    "        index = batch[\"index\"]\n",
    "        \n",
    "        gt = batch[\"groundTruth\"].to(device).to(torch.float32)\n",
    "        probs = model(input_ids, attention_mask, index) #.to(torch.float32)\n",
    "        \n",
    "\n",
    "        loss = loss_func(probs, gt) \n",
    "        preds = (probs > .5).to(int).cpu().tolist()\n",
    "        gt = gt.to(int).detach().cpu().tolist()\n",
    "\n",
    "        #update the lists of predictions, ground truths for train metrics\n",
    "        validPreds += preds\n",
    "        validGts += gt\n",
    "        validLoss.append(loss.cpu().detach().item())\n",
    "\n",
    "        \n",
    "    \n",
    "    f1 = f1_score(validPreds, validGts)\n",
    "    validLossMean = np.mean(validLoss)\n",
    "    \n",
    "    model.train()\n",
    "    return [validPreds, validGts, f1, validLossMean]\n",
    "    \n",
    "    \n",
    "   \n"
   ]
  },
  {
   "cell_type": "code",
   "execution_count": 254,
   "id": "dcdde8ba-3679-4f76-a460-7064487d00db",
   "metadata": {},
   "outputs": [],
   "source": [
    "def train(model, fold, epochs, optim, scheduler, loss_func, trainLoader, validLoader): \n",
    "    \n",
    "    #how often should we be getting our train metrics \n",
    "    METRIC_FREQ = 3\n",
    "    trainLen = len(trainLoader) \n",
    "    metricSteps = int(len(trainLoader) / METRIC_FREQ) \n",
    "    validIndices = list(np.arange(0, len(trainLoader), metricSteps))\n",
    "\n",
    "    if trainLen not in validIndices: \n",
    "        validIndices += [trainLen]\n",
    "    \n",
    "    #lists to put our f1 scores in \n",
    "    lossList = []\n",
    "    trainMetrics = []\n",
    "    validMetrics = []\n",
    "    \n",
    "    finalPreds = []\n",
    "    \n",
    "    for epoch in range(epochs):\n",
    "        print(\"EPOCH: \" + str(epoch))\n",
    "\n",
    "        model.train()  # make sure model is in training mode\n",
    "\n",
    "        #DEBUGGING\n",
    "        i = 0 \n",
    "        currLossList = []\n",
    "        currPreds = []\n",
    "        currGts = []\n",
    "        \n",
    "        for batch in tqdm(trainLoader):\n",
    "            optim.zero_grad()\n",
    "\n",
    "            input_ids = batch[\"input_ids\"].to(device) \n",
    "            attention_mask = batch[\"attention_mask\"].to(device) \n",
    "            index = batch[\"index\"]\n",
    "            gt = batch[\"groundTruth\"].to(device).to(torch.float32)\n",
    "\n",
    "            probs = model(input_ids, attention_mask, index) #.to(torch.float32)\n",
    "\n",
    "            #print(batch[\"index\"]) \n",
    "\n",
    "            loss = loss_func(probs, gt) \n",
    "            loss.backward()\n",
    "            optim.step()\n",
    "            scheduler.step()\n",
    "\n",
    "            #preds = preds.detach().cpu().tolist()\n",
    "            #gt = gt.detach().cpu().tolist() \n",
    "\n",
    "            preds = (probs > .5).to(int).cpu().tolist()\n",
    "            #preds = preds.detach().cpu().tolist()\n",
    "            gt = gt.to(int).detach().cpu().tolist()\n",
    "\n",
    "            #update the lists of predictions, ground truths for train metrics\n",
    "            currPreds += preds\n",
    "            currGts += gt\n",
    "            currLossList.append(loss.cpu().detach().item())\n",
    "\n",
    "            #if we've hit the number of steps where we want to \n",
    "            #get training metrics \n",
    "            if i in validIndices: \n",
    "                trainF1 = f1_score(currPreds, currGts)\n",
    "                avgLoss = np.mean(currLossList)\n",
    "                \n",
    "                if i != 0: \n",
    "                    trainMetrics.append([fold, i, i/len(trainLoader), epoch, trainF1, avgLoss]) \n",
    "                \n",
    "                 \n",
    "                validPreds, validGts, validF1, validLossMean = validate(model, validLoader, loss_func)\n",
    "                validMetrics.append([fold, i, i/len(trainLoader), epoch, validF1, validLossMean]) \n",
    "                                    \n",
    "                \"\"\"\n",
    "                print(f\"average loss: {np.mean(currLossList)}\")\n",
    "                print(f\"F1: {f1_score(currPreds, currGts)}\")\n",
    "                print(currPreds[:20]) \n",
    "                print(currGts[:20]) \n",
    "                \"\"\"\n",
    "                \n",
    "                #if this is our last run \n",
    "                #if i == validIndices[-1] and epoch == (epochs-1): \n",
    "                #    finalPreds.append([validPreds, validGts]) \n",
    "                \n",
    "                currPreds = []\n",
    "                currGts = []\n",
    "                print(f\"train f1: {trainF1}\")\n",
    "                print(f\"valid f1: {validF1}\") \n",
    "                print(f\"learning rate {scheduler.get_last_lr()}\")\n",
    "                #print(model.l1.weight[0][:20]) \n",
    "                \n",
    "            i += 1\n",
    "    \n",
    "    return [validPreds, validGts, trainMetrics, validMetrics]\n",
    "                                    \n",
    "    \"\"\"       \n",
    "    print(f\"average loss: {np.mean(currLossList)}\")\n",
    "    print(f\"F1: {f1_score(currPreds, currGts)}\")\n",
    "    print(f\"learning rate {scheduler.get_last_lr()}\")  \n",
    "    \"\"\""
   ]
  },
  {
   "cell_type": "code",
   "execution_count": 255,
   "id": "b80f785f-dc7a-45f6-ae18-ceffd3b3d839",
   "metadata": {},
   "outputs": [
    {
     "name": "stderr",
     "output_type": "stream",
     "text": [
      "Some weights of RobertaModel were not initialized from the model checkpoint at roberta-base and are newly initialized: ['roberta.pooler.dense.bias', 'roberta.pooler.dense.weight']\n",
      "You should probably TRAIN this model on a down-stream task to be able to use it for predictions and inference.\n"
     ]
    },
    {
     "name": "stdout",
     "output_type": "stream",
     "text": [
      "Fold 1\n",
      "EPOCH: 0\n"
     ]
    },
    {
     "data": {
      "application/vnd.jupyter.widget-view+json": {
       "model_id": "27da22c5c1c64590930d7d47addd42a3",
       "version_major": 2,
       "version_minor": 0
      },
      "text/plain": [
       "  0%|          | 0/160 [00:00<?, ?it/s]"
      ]
     },
     "metadata": {},
     "output_type": "display_data"
    },
    {
     "data": {
      "application/vnd.jupyter.widget-view+json": {
       "model_id": "b6d3e941ae53474cab0a46bf017c313b",
       "version_major": 2,
       "version_minor": 0
      },
      "text/plain": [
       "  0%|          | 0/40 [00:00<?, ?it/s]"
      ]
     },
     "metadata": {},
     "output_type": "display_data"
    },
    {
     "name": "stdout",
     "output_type": "stream",
     "text": [
      "train f1: 0.6666666666666666\n",
      "valid f1: 0.47619047619047616\n",
      "learning rate [4.1666666666666667e-07]\n"
     ]
    },
    {
     "data": {
      "application/vnd.jupyter.widget-view+json": {
       "model_id": "cff7abcf8b564997809565b7b1a6d17d",
       "version_major": 2,
       "version_minor": 0
      },
      "text/plain": [
       "  0%|          | 0/40 [00:00<?, ?it/s]"
      ]
     },
     "metadata": {},
     "output_type": "display_data"
    },
    {
     "name": "stdout",
     "output_type": "stream",
     "text": [
      "train f1: 0.32558139534883723\n",
      "valid f1: 0.6753246753246753\n",
      "learning rate [1.96875e-05]\n"
     ]
    },
    {
     "data": {
      "application/vnd.jupyter.widget-view+json": {
       "model_id": "25a6590630f343e289614adf45908188",
       "version_major": 2,
       "version_minor": 0
      },
      "text/plain": [
       "  0%|          | 0/40 [00:00<?, ?it/s]"
      ]
     },
     "metadata": {},
     "output_type": "display_data"
    },
    {
     "name": "stdout",
     "output_type": "stream",
     "text": [
      "train f1: 0.7899159663865546\n",
      "valid f1: 0.853932584269663\n",
      "learning rate [1.6927083333333333e-05]\n"
     ]
    },
    {
     "data": {
      "application/vnd.jupyter.widget-view+json": {
       "model_id": "9d35830d9be641c6a119953fdc0b8ee6",
       "version_major": 2,
       "version_minor": 0
      },
      "text/plain": [
       "  0%|          | 0/40 [00:00<?, ?it/s]"
      ]
     },
     "metadata": {},
     "output_type": "display_data"
    },
    {
     "name": "stdout",
     "output_type": "stream",
     "text": [
      "train f1: 0.8307692307692308\n",
      "valid f1: 0.8000000000000002\n",
      "learning rate [1.416666666666667e-05]\n",
      "EPOCH: 1\n"
     ]
    },
    {
     "data": {
      "application/vnd.jupyter.widget-view+json": {
       "model_id": "ccc5de4b6bcb4c7388a92042fb84e08d",
       "version_major": 2,
       "version_minor": 0
      },
      "text/plain": [
       "  0%|          | 0/160 [00:00<?, ?it/s]"
      ]
     },
     "metadata": {},
     "output_type": "display_data"
    },
    {
     "data": {
      "application/vnd.jupyter.widget-view+json": {
       "model_id": "886b364fc30844658d42edbfeb309c43",
       "version_major": 2,
       "version_minor": 0
      },
      "text/plain": [
       "  0%|          | 0/40 [00:00<?, ?it/s]"
      ]
     },
     "metadata": {},
     "output_type": "display_data"
    },
    {
     "name": "stdout",
     "output_type": "stream",
     "text": [
      "train f1: 1.0\n",
      "valid f1: 0.8000000000000002\n",
      "learning rate [1.4114583333333334e-05]\n"
     ]
    },
    {
     "data": {
      "application/vnd.jupyter.widget-view+json": {
       "model_id": "adf5662ca3624268b9c3b8aaa49ce936",
       "version_major": 2,
       "version_minor": 0
      },
      "text/plain": [
       "  0%|          | 0/40 [00:00<?, ?it/s]"
      ]
     },
     "metadata": {},
     "output_type": "display_data"
    },
    {
     "name": "stdout",
     "output_type": "stream",
     "text": [
      "train f1: 0.9172932330827067\n",
      "valid f1: 0.8659793814432989\n",
      "learning rate [1.1354166666666669e-05]\n"
     ]
    },
    {
     "data": {
      "application/vnd.jupyter.widget-view+json": {
       "model_id": "c0b860c6fe4144948fa0b8c4d2e7714b",
       "version_major": 2,
       "version_minor": 0
      },
      "text/plain": [
       "  0%|          | 0/40 [00:00<?, ?it/s]"
      ]
     },
     "metadata": {},
     "output_type": "display_data"
    },
    {
     "name": "stdout",
     "output_type": "stream",
     "text": [
      "train f1: 0.8985507246376812\n",
      "valid f1: 0.8440366972477064\n",
      "learning rate [8.59375e-06]\n"
     ]
    },
    {
     "data": {
      "application/vnd.jupyter.widget-view+json": {
       "model_id": "f5199808b1954617af3988fa961fae21",
       "version_major": 2,
       "version_minor": 0
      },
      "text/plain": [
       "  0%|          | 0/40 [00:00<?, ?it/s]"
      ]
     },
     "metadata": {},
     "output_type": "display_data"
    },
    {
     "name": "stdout",
     "output_type": "stream",
     "text": [
      "train f1: 0.9312977099236641\n",
      "valid f1: 0.8659793814432989\n",
      "learning rate [5.833333333333334e-06]\n",
      "EPOCH: 2\n"
     ]
    },
    {
     "data": {
      "application/vnd.jupyter.widget-view+json": {
       "model_id": "5a6a7c028a7844deb5b184edd5d8f103",
       "version_major": 2,
       "version_minor": 0
      },
      "text/plain": [
       "  0%|          | 0/160 [00:00<?, ?it/s]"
      ]
     },
     "metadata": {},
     "output_type": "display_data"
    },
    {
     "data": {
      "application/vnd.jupyter.widget-view+json": {
       "model_id": "0c856e6a027e4b09abd1dad9e6f5456c",
       "version_major": 2,
       "version_minor": 0
      },
      "text/plain": [
       "  0%|          | 0/40 [00:00<?, ?it/s]"
      ]
     },
     "metadata": {},
     "output_type": "display_data"
    },
    {
     "name": "stdout",
     "output_type": "stream",
     "text": [
      "train f1: 1.0\n",
      "valid f1: 0.8659793814432989\n",
      "learning rate [5.781250000000001e-06]\n"
     ]
    },
    {
     "data": {
      "application/vnd.jupyter.widget-view+json": {
       "model_id": "b4bd81bccb46488aa11559cfe5071aa1",
       "version_major": 2,
       "version_minor": 0
      },
      "text/plain": [
       "  0%|          | 0/40 [00:00<?, ?it/s]"
      ]
     },
     "metadata": {},
     "output_type": "display_data"
    },
    {
     "name": "stdout",
     "output_type": "stream",
     "text": [
      "train f1: 0.9594594594594594\n",
      "valid f1: 0.8599999999999999\n",
      "learning rate [3.0208333333333334e-06]\n"
     ]
    },
    {
     "data": {
      "application/vnd.jupyter.widget-view+json": {
       "model_id": "6531a08e3417485ea13755c3f4d2a471",
       "version_major": 2,
       "version_minor": 0
      },
      "text/plain": [
       "  0%|          | 0/40 [00:00<?, ?it/s]"
      ]
     },
     "metadata": {},
     "output_type": "display_data"
    },
    {
     "name": "stdout",
     "output_type": "stream",
     "text": [
      "train f1: 0.991869918699187\n",
      "valid f1: 0.8599999999999999\n",
      "learning rate [2.604166666666667e-07]\n"
     ]
    },
    {
     "data": {
      "application/vnd.jupyter.widget-view+json": {
       "model_id": "a169641cb11d4a18a688cb9413be36e0",
       "version_major": 2,
       "version_minor": 0
      },
      "text/plain": [
       "  0%|          | 0/40 [00:00<?, ?it/s]"
      ]
     },
     "metadata": {},
     "output_type": "display_data"
    },
    {
     "name": "stdout",
     "output_type": "stream",
     "text": [
      "train f1: 0.9770992366412214\n",
      "valid f1: 0.8599999999999999\n",
      "learning rate [0.0]\n"
     ]
    },
    {
     "name": "stderr",
     "output_type": "stream",
     "text": [
      "Some weights of RobertaModel were not initialized from the model checkpoint at roberta-base and are newly initialized: ['roberta.pooler.dense.bias', 'roberta.pooler.dense.weight']\n",
      "You should probably TRAIN this model on a down-stream task to be able to use it for predictions and inference.\n"
     ]
    },
    {
     "name": "stdout",
     "output_type": "stream",
     "text": [
      "Fold 2\n",
      "EPOCH: 0\n"
     ]
    },
    {
     "data": {
      "application/vnd.jupyter.widget-view+json": {
       "model_id": "78f48c23349c4347bbf1d833a4f6c8c2",
       "version_major": 2,
       "version_minor": 0
      },
      "text/plain": [
       "  0%|          | 0/160 [00:00<?, ?it/s]"
      ]
     },
     "metadata": {},
     "output_type": "display_data"
    },
    {
     "data": {
      "application/vnd.jupyter.widget-view+json": {
       "model_id": "de370fd69eb2456083c34e8699ecffb4",
       "version_major": 2,
       "version_minor": 0
      },
      "text/plain": [
       "  0%|          | 0/40 [00:00<?, ?it/s]"
      ]
     },
     "metadata": {},
     "output_type": "display_data"
    },
    {
     "name": "stdout",
     "output_type": "stream",
     "text": [
      "train f1: 0.0\n",
      "valid f1: 0.34848484848484856\n",
      "learning rate [4.1666666666666667e-07]\n"
     ]
    },
    {
     "data": {
      "application/vnd.jupyter.widget-view+json": {
       "model_id": "6da68261d40046f8a84b6245881dd63a",
       "version_major": 2,
       "version_minor": 0
      },
      "text/plain": [
       "  0%|          | 0/40 [00:00<?, ?it/s]"
      ]
     },
     "metadata": {},
     "output_type": "display_data"
    },
    {
     "name": "stdout",
     "output_type": "stream",
     "text": [
      "train f1: 0.28865979381443296\n",
      "valid f1: 0.8363636363636363\n",
      "learning rate [1.96875e-05]\n"
     ]
    },
    {
     "data": {
      "application/vnd.jupyter.widget-view+json": {
       "model_id": "d85d61f74d234ae3b9f37ec143d02f96",
       "version_major": 2,
       "version_minor": 0
      },
      "text/plain": [
       "  0%|          | 0/40 [00:00<?, ?it/s]"
      ]
     },
     "metadata": {},
     "output_type": "display_data"
    },
    {
     "name": "stdout",
     "output_type": "stream",
     "text": [
      "train f1: 0.7727272727272727\n",
      "valid f1: 0.8505747126436781\n",
      "learning rate [1.6927083333333333e-05]\n"
     ]
    },
    {
     "data": {
      "application/vnd.jupyter.widget-view+json": {
       "model_id": "57f21700529442f4a73c74cabc2afa25",
       "version_major": 2,
       "version_minor": 0
      },
      "text/plain": [
       "  0%|          | 0/40 [00:00<?, ?it/s]"
      ]
     },
     "metadata": {},
     "output_type": "display_data"
    },
    {
     "name": "stdout",
     "output_type": "stream",
     "text": [
      "train f1: 0.8661417322834646\n",
      "valid f1: 0.9361702127659575\n",
      "learning rate [1.416666666666667e-05]\n",
      "EPOCH: 1\n"
     ]
    },
    {
     "data": {
      "application/vnd.jupyter.widget-view+json": {
       "model_id": "b6ecc4fe40224881945c2152ec07763f",
       "version_major": 2,
       "version_minor": 0
      },
      "text/plain": [
       "  0%|          | 0/160 [00:00<?, ?it/s]"
      ]
     },
     "metadata": {},
     "output_type": "display_data"
    },
    {
     "name": "stderr",
     "output_type": "stream",
     "text": [
      "/opt/anaconda/lib/python3.9/site-packages/sklearn/metrics/_classification.py:1757: UndefinedMetricWarning: F-score is ill-defined and being set to 0.0 due to no true nor predicted samples. Use `zero_division` parameter to control this behavior.\n",
      "  _warn_prf(average, \"true nor predicted\", \"F-score is\", len(true_sum))\n"
     ]
    },
    {
     "data": {
      "application/vnd.jupyter.widget-view+json": {
       "model_id": "926fa70322c54d54bf279fcb21dd11ce",
       "version_major": 2,
       "version_minor": 0
      },
      "text/plain": [
       "  0%|          | 0/40 [00:00<?, ?it/s]"
      ]
     },
     "metadata": {},
     "output_type": "display_data"
    },
    {
     "name": "stdout",
     "output_type": "stream",
     "text": [
      "train f1: 0.0\n",
      "valid f1: 0.9361702127659575\n",
      "learning rate [1.4114583333333334e-05]\n"
     ]
    },
    {
     "data": {
      "application/vnd.jupyter.widget-view+json": {
       "model_id": "f6763e9a99804ccfbbf436075c70719d",
       "version_major": 2,
       "version_minor": 0
      },
      "text/plain": [
       "  0%|          | 0/40 [00:00<?, ?it/s]"
      ]
     },
     "metadata": {},
     "output_type": "display_data"
    },
    {
     "name": "stdout",
     "output_type": "stream",
     "text": [
      "train f1: 0.9291338582677166\n",
      "valid f1: 0.9130434782608696\n",
      "learning rate [1.1354166666666669e-05]\n"
     ]
    },
    {
     "data": {
      "application/vnd.jupyter.widget-view+json": {
       "model_id": "a42d34dfa77c4194b9f9531880678961",
       "version_major": 2,
       "version_minor": 0
      },
      "text/plain": [
       "  0%|          | 0/40 [00:00<?, ?it/s]"
      ]
     },
     "metadata": {},
     "output_type": "display_data"
    },
    {
     "name": "stdout",
     "output_type": "stream",
     "text": [
      "train f1: 0.9090909090909092\n",
      "valid f1: 0.9148936170212766\n",
      "learning rate [8.59375e-06]\n"
     ]
    },
    {
     "data": {
      "application/vnd.jupyter.widget-view+json": {
       "model_id": "0989f51bf4934bebaaa1135c159c7bec",
       "version_major": 2,
       "version_minor": 0
      },
      "text/plain": [
       "  0%|          | 0/40 [00:00<?, ?it/s]"
      ]
     },
     "metadata": {},
     "output_type": "display_data"
    },
    {
     "name": "stdout",
     "output_type": "stream",
     "text": [
      "train f1: 0.923076923076923\n",
      "valid f1: 0.9278350515463918\n",
      "learning rate [5.833333333333334e-06]\n",
      "EPOCH: 2\n"
     ]
    },
    {
     "data": {
      "application/vnd.jupyter.widget-view+json": {
       "model_id": "1827e0a9f0e143259aa1c4e1bfa1b3c8",
       "version_major": 2,
       "version_minor": 0
      },
      "text/plain": [
       "  0%|          | 0/160 [00:00<?, ?it/s]"
      ]
     },
     "metadata": {},
     "output_type": "display_data"
    },
    {
     "data": {
      "application/vnd.jupyter.widget-view+json": {
       "model_id": "919ec4f07217421da4bcc2977cd2df3b",
       "version_major": 2,
       "version_minor": 0
      },
      "text/plain": [
       "  0%|          | 0/40 [00:00<?, ?it/s]"
      ]
     },
     "metadata": {},
     "output_type": "display_data"
    },
    {
     "name": "stdout",
     "output_type": "stream",
     "text": [
      "train f1: 1.0\n",
      "valid f1: 0.9278350515463918\n",
      "learning rate [5.781250000000001e-06]\n"
     ]
    },
    {
     "data": {
      "application/vnd.jupyter.widget-view+json": {
       "model_id": "4b3d635ad363473ca2545b67b5d97779",
       "version_major": 2,
       "version_minor": 0
      },
      "text/plain": [
       "  0%|          | 0/40 [00:00<?, ?it/s]"
      ]
     },
     "metadata": {},
     "output_type": "display_data"
    },
    {
     "name": "stdout",
     "output_type": "stream",
     "text": [
      "train f1: 0.9696969696969696\n",
      "valid f1: 0.9148936170212766\n",
      "learning rate [3.0208333333333334e-06]\n"
     ]
    },
    {
     "data": {
      "application/vnd.jupyter.widget-view+json": {
       "model_id": "9a2c106132034924af7aaee901d5d8c6",
       "version_major": 2,
       "version_minor": 0
      },
      "text/plain": [
       "  0%|          | 0/40 [00:00<?, ?it/s]"
      ]
     },
     "metadata": {},
     "output_type": "display_data"
    },
    {
     "name": "stdout",
     "output_type": "stream",
     "text": [
      "train f1: 0.96875\n",
      "valid f1: 0.9148936170212766\n",
      "learning rate [2.604166666666667e-07]\n"
     ]
    },
    {
     "data": {
      "application/vnd.jupyter.widget-view+json": {
       "model_id": "672b49427c214399941fbbffdc92b416",
       "version_major": 2,
       "version_minor": 0
      },
      "text/plain": [
       "  0%|          | 0/40 [00:00<?, ?it/s]"
      ]
     },
     "metadata": {},
     "output_type": "display_data"
    },
    {
     "name": "stdout",
     "output_type": "stream",
     "text": [
      "train f1: 0.9577464788732394\n",
      "valid f1: 0.9148936170212766\n",
      "learning rate [0.0]\n"
     ]
    },
    {
     "name": "stderr",
     "output_type": "stream",
     "text": [
      "Some weights of RobertaModel were not initialized from the model checkpoint at roberta-base and are newly initialized: ['roberta.pooler.dense.bias', 'roberta.pooler.dense.weight']\n",
      "You should probably TRAIN this model on a down-stream task to be able to use it for predictions and inference.\n"
     ]
    },
    {
     "name": "stdout",
     "output_type": "stream",
     "text": [
      "Fold 3\n",
      "EPOCH: 0\n"
     ]
    },
    {
     "data": {
      "application/vnd.jupyter.widget-view+json": {
       "model_id": "984146bffd204f0abc6a7af449ba382a",
       "version_major": 2,
       "version_minor": 0
      },
      "text/plain": [
       "  0%|          | 0/160 [00:00<?, ?it/s]"
      ]
     },
     "metadata": {},
     "output_type": "display_data"
    },
    {
     "data": {
      "application/vnd.jupyter.widget-view+json": {
       "model_id": "e6709b77bc524967ae742456f3398ff2",
       "version_major": 2,
       "version_minor": 0
      },
      "text/plain": [
       "  0%|          | 0/40 [00:00<?, ?it/s]"
      ]
     },
     "metadata": {},
     "output_type": "display_data"
    },
    {
     "name": "stdout",
     "output_type": "stream",
     "text": [
      "train f1: 0.4\n",
      "valid f1: 0.43349753694581283\n",
      "learning rate [4.1666666666666667e-07]\n"
     ]
    },
    {
     "data": {
      "application/vnd.jupyter.widget-view+json": {
       "model_id": "cecb6fad1d1a44c194b24946c2e1674c",
       "version_major": 2,
       "version_minor": 0
      },
      "text/plain": [
       "  0%|          | 0/40 [00:00<?, ?it/s]"
      ]
     },
     "metadata": {},
     "output_type": "display_data"
    },
    {
     "name": "stdout",
     "output_type": "stream",
     "text": [
      "train f1: 0.3829787234042554\n",
      "valid f1: 0.7368421052631579\n",
      "learning rate [1.96875e-05]\n"
     ]
    },
    {
     "data": {
      "application/vnd.jupyter.widget-view+json": {
       "model_id": "cff6d3ce4e184edeac94d7ddb2a38f49",
       "version_major": 2,
       "version_minor": 0
      },
      "text/plain": [
       "  0%|          | 0/40 [00:00<?, ?it/s]"
      ]
     },
     "metadata": {},
     "output_type": "display_data"
    },
    {
     "name": "stdout",
     "output_type": "stream",
     "text": [
      "train f1: 0.8253968253968255\n",
      "valid f1: 0.7865168539325843\n",
      "learning rate [1.6927083333333333e-05]\n"
     ]
    },
    {
     "data": {
      "application/vnd.jupyter.widget-view+json": {
       "model_id": "581c3eeda4e34b7dba37bc8f25787b06",
       "version_major": 2,
       "version_minor": 0
      },
      "text/plain": [
       "  0%|          | 0/40 [00:00<?, ?it/s]"
      ]
     },
     "metadata": {},
     "output_type": "display_data"
    },
    {
     "name": "stdout",
     "output_type": "stream",
     "text": [
      "train f1: 0.8500000000000001\n",
      "valid f1: 0.8275862068965518\n",
      "learning rate [1.416666666666667e-05]\n",
      "EPOCH: 1\n"
     ]
    },
    {
     "data": {
      "application/vnd.jupyter.widget-view+json": {
       "model_id": "7facf8df32034d30aac85b4b645013e3",
       "version_major": 2,
       "version_minor": 0
      },
      "text/plain": [
       "  0%|          | 0/160 [00:00<?, ?it/s]"
      ]
     },
     "metadata": {},
     "output_type": "display_data"
    },
    {
     "name": "stderr",
     "output_type": "stream",
     "text": [
      "/opt/anaconda/lib/python3.9/site-packages/sklearn/metrics/_classification.py:1757: UndefinedMetricWarning: F-score is ill-defined and being set to 0.0 due to no true nor predicted samples. Use `zero_division` parameter to control this behavior.\n",
      "  _warn_prf(average, \"true nor predicted\", \"F-score is\", len(true_sum))\n"
     ]
    },
    {
     "data": {
      "application/vnd.jupyter.widget-view+json": {
       "model_id": "63673d2a3d6d47209e8f9bcaf8af354f",
       "version_major": 2,
       "version_minor": 0
      },
      "text/plain": [
       "  0%|          | 0/40 [00:00<?, ?it/s]"
      ]
     },
     "metadata": {},
     "output_type": "display_data"
    },
    {
     "name": "stdout",
     "output_type": "stream",
     "text": [
      "train f1: 0.0\n",
      "valid f1: 0.8139534883720929\n",
      "learning rate [1.4114583333333334e-05]\n"
     ]
    },
    {
     "data": {
      "application/vnd.jupyter.widget-view+json": {
       "model_id": "c9d6220ae6ec438ab5d01d606f56ba2d",
       "version_major": 2,
       "version_minor": 0
      },
      "text/plain": [
       "  0%|          | 0/40 [00:00<?, ?it/s]"
      ]
     },
     "metadata": {},
     "output_type": "display_data"
    },
    {
     "name": "stdout",
     "output_type": "stream",
     "text": [
      "train f1: 0.9142857142857143\n",
      "valid f1: 0.8297872340425532\n",
      "learning rate [1.1354166666666669e-05]\n"
     ]
    },
    {
     "data": {
      "application/vnd.jupyter.widget-view+json": {
       "model_id": "a5e5a5d38d9c4ab8a7108c04b30ec1f2",
       "version_major": 2,
       "version_minor": 0
      },
      "text/plain": [
       "  0%|          | 0/40 [00:00<?, ?it/s]"
      ]
     },
     "metadata": {},
     "output_type": "display_data"
    },
    {
     "name": "stdout",
     "output_type": "stream",
     "text": [
      "train f1: 0.9206349206349206\n",
      "valid f1: 0.823529411764706\n",
      "learning rate [8.59375e-06]\n"
     ]
    },
    {
     "data": {
      "application/vnd.jupyter.widget-view+json": {
       "model_id": "94852db72a084e09921545718f175d9b",
       "version_major": 2,
       "version_minor": 0
      },
      "text/plain": [
       "  0%|          | 0/40 [00:00<?, ?it/s]"
      ]
     },
     "metadata": {},
     "output_type": "display_data"
    },
    {
     "name": "stdout",
     "output_type": "stream",
     "text": [
      "train f1: 0.9444444444444444\n",
      "valid f1: 0.8541666666666667\n",
      "learning rate [5.833333333333334e-06]\n",
      "EPOCH: 2\n"
     ]
    },
    {
     "data": {
      "application/vnd.jupyter.widget-view+json": {
       "model_id": "5362c13666254597aa6cca5b30627023",
       "version_major": 2,
       "version_minor": 0
      },
      "text/plain": [
       "  0%|          | 0/160 [00:00<?, ?it/s]"
      ]
     },
     "metadata": {},
     "output_type": "display_data"
    },
    {
     "data": {
      "application/vnd.jupyter.widget-view+json": {
       "model_id": "0489c0a4c1f040fb8fc6849d6143f371",
       "version_major": 2,
       "version_minor": 0
      },
      "text/plain": [
       "  0%|          | 0/40 [00:00<?, ?it/s]"
      ]
     },
     "metadata": {},
     "output_type": "display_data"
    },
    {
     "name": "stdout",
     "output_type": "stream",
     "text": [
      "train f1: 1.0\n",
      "valid f1: 0.8541666666666667\n",
      "learning rate [5.781250000000001e-06]\n"
     ]
    },
    {
     "data": {
      "application/vnd.jupyter.widget-view+json": {
       "model_id": "b38b5f0586e640418ac5a335a1717ce8",
       "version_major": 2,
       "version_minor": 0
      },
      "text/plain": [
       "  0%|          | 0/40 [00:00<?, ?it/s]"
      ]
     },
     "metadata": {},
     "output_type": "display_data"
    },
    {
     "name": "stdout",
     "output_type": "stream",
     "text": [
      "train f1: 0.9594594594594594\n",
      "valid f1: 0.8453608247422681\n",
      "learning rate [3.0208333333333334e-06]\n"
     ]
    },
    {
     "data": {
      "application/vnd.jupyter.widget-view+json": {
       "model_id": "552085b4fc5246e2803b7d3c0b2d506f",
       "version_major": 2,
       "version_minor": 0
      },
      "text/plain": [
       "  0%|          | 0/40 [00:00<?, ?it/s]"
      ]
     },
     "metadata": {},
     "output_type": "display_data"
    },
    {
     "name": "stdout",
     "output_type": "stream",
     "text": [
      "train f1: 0.9806451612903225\n",
      "valid f1: 0.8453608247422681\n",
      "learning rate [2.604166666666667e-07]\n"
     ]
    },
    {
     "data": {
      "application/vnd.jupyter.widget-view+json": {
       "model_id": "c06dc9ce6eb34eafbf00a07571003e46",
       "version_major": 2,
       "version_minor": 0
      },
      "text/plain": [
       "  0%|          | 0/40 [00:00<?, ?it/s]"
      ]
     },
     "metadata": {},
     "output_type": "display_data"
    },
    {
     "name": "stdout",
     "output_type": "stream",
     "text": [
      "train f1: 0.9734513274336283\n",
      "valid f1: 0.8453608247422681\n",
      "learning rate [0.0]\n"
     ]
    },
    {
     "name": "stderr",
     "output_type": "stream",
     "text": [
      "Some weights of RobertaModel were not initialized from the model checkpoint at roberta-base and are newly initialized: ['roberta.pooler.dense.bias', 'roberta.pooler.dense.weight']\n",
      "You should probably TRAIN this model on a down-stream task to be able to use it for predictions and inference.\n"
     ]
    },
    {
     "name": "stdout",
     "output_type": "stream",
     "text": [
      "Fold 4\n",
      "EPOCH: 0\n"
     ]
    },
    {
     "data": {
      "application/vnd.jupyter.widget-view+json": {
       "model_id": "f49e6223215d467d8025a5c0e1cb8344",
       "version_major": 2,
       "version_minor": 0
      },
      "text/plain": [
       "  0%|          | 0/160 [00:00<?, ?it/s]"
      ]
     },
     "metadata": {},
     "output_type": "display_data"
    },
    {
     "data": {
      "application/vnd.jupyter.widget-view+json": {
       "model_id": "822e44b7a77f445fb1e32fb4b32f8465",
       "version_major": 2,
       "version_minor": 0
      },
      "text/plain": [
       "  0%|          | 0/40 [00:00<?, ?it/s]"
      ]
     },
     "metadata": {},
     "output_type": "display_data"
    },
    {
     "name": "stdout",
     "output_type": "stream",
     "text": [
      "train f1: 0.4\n",
      "valid f1: 0.5345622119815668\n",
      "learning rate [4.1666666666666667e-07]\n"
     ]
    },
    {
     "data": {
      "application/vnd.jupyter.widget-view+json": {
       "model_id": "e2544eda15934b639017a23699e2560e",
       "version_major": 2,
       "version_minor": 0
      },
      "text/plain": [
       "  0%|          | 0/40 [00:00<?, ?it/s]"
      ]
     },
     "metadata": {},
     "output_type": "display_data"
    },
    {
     "name": "stdout",
     "output_type": "stream",
     "text": [
      "train f1: 0.23703703703703705\n",
      "valid f1: 0.8703703703703703\n",
      "learning rate [1.96875e-05]\n"
     ]
    },
    {
     "data": {
      "application/vnd.jupyter.widget-view+json": {
       "model_id": "6217992a79844ba5bed0e3720934e05a",
       "version_major": 2,
       "version_minor": 0
      },
      "text/plain": [
       "  0%|          | 0/40 [00:00<?, ?it/s]"
      ]
     },
     "metadata": {},
     "output_type": "display_data"
    },
    {
     "name": "stdout",
     "output_type": "stream",
     "text": [
      "train f1: 0.831858407079646\n",
      "valid f1: 0.9009009009009009\n",
      "learning rate [1.6927083333333333e-05]\n"
     ]
    },
    {
     "data": {
      "application/vnd.jupyter.widget-view+json": {
       "model_id": "feb86a2c1c084ec686c675a7d39a621b",
       "version_major": 2,
       "version_minor": 0
      },
      "text/plain": [
       "  0%|          | 0/40 [00:00<?, ?it/s]"
      ]
     },
     "metadata": {},
     "output_type": "display_data"
    },
    {
     "name": "stdout",
     "output_type": "stream",
     "text": [
      "train f1: 0.7863247863247863\n",
      "valid f1: 0.8285714285714285\n",
      "learning rate [1.416666666666667e-05]\n",
      "EPOCH: 1\n"
     ]
    },
    {
     "data": {
      "application/vnd.jupyter.widget-view+json": {
       "model_id": "1412955391bb44d9b1d8891b72a00f99",
       "version_major": 2,
       "version_minor": 0
      },
      "text/plain": [
       "  0%|          | 0/160 [00:00<?, ?it/s]"
      ]
     },
     "metadata": {},
     "output_type": "display_data"
    },
    {
     "data": {
      "application/vnd.jupyter.widget-view+json": {
       "model_id": "fded95a125c24a52a39f2d4ca407cb10",
       "version_major": 2,
       "version_minor": 0
      },
      "text/plain": [
       "  0%|          | 0/40 [00:00<?, ?it/s]"
      ]
     },
     "metadata": {},
     "output_type": "display_data"
    },
    {
     "name": "stdout",
     "output_type": "stream",
     "text": [
      "train f1: 1.0\n",
      "valid f1: 0.8285714285714285\n",
      "learning rate [1.4114583333333334e-05]\n"
     ]
    },
    {
     "data": {
      "application/vnd.jupyter.widget-view+json": {
       "model_id": "c1145777b80c457ea2c5a169435bb5b3",
       "version_major": 2,
       "version_minor": 0
      },
      "text/plain": [
       "  0%|          | 0/40 [00:00<?, ?it/s]"
      ]
     },
     "metadata": {},
     "output_type": "display_data"
    },
    {
     "name": "stdout",
     "output_type": "stream",
     "text": [
      "train f1: 0.8849557522123894\n",
      "valid f1: 0.9193548387096775\n",
      "learning rate [1.1354166666666669e-05]\n"
     ]
    },
    {
     "data": {
      "application/vnd.jupyter.widget-view+json": {
       "model_id": "ae6749ba31804c909c422fd2abe4a575",
       "version_major": 2,
       "version_minor": 0
      },
      "text/plain": [
       "  0%|          | 0/40 [00:00<?, ?it/s]"
      ]
     },
     "metadata": {},
     "output_type": "display_data"
    },
    {
     "name": "stdout",
     "output_type": "stream",
     "text": [
      "train f1: 0.9066666666666666\n",
      "valid f1: 0.9047619047619048\n",
      "learning rate [8.59375e-06]\n"
     ]
    },
    {
     "data": {
      "application/vnd.jupyter.widget-view+json": {
       "model_id": "76db6666e0a04f2f90fe0f9289c65114",
       "version_major": 2,
       "version_minor": 0
      },
      "text/plain": [
       "  0%|          | 0/40 [00:00<?, ?it/s]"
      ]
     },
     "metadata": {},
     "output_type": "display_data"
    },
    {
     "name": "stdout",
     "output_type": "stream",
     "text": [
      "train f1: 0.9344262295081968\n",
      "valid f1: 0.9298245614035087\n",
      "learning rate [5.833333333333334e-06]\n",
      "EPOCH: 2\n"
     ]
    },
    {
     "data": {
      "application/vnd.jupyter.widget-view+json": {
       "model_id": "4647e5adb7c74c6a9b4f1bc91da54e2c",
       "version_major": 2,
       "version_minor": 0
      },
      "text/plain": [
       "  0%|          | 0/160 [00:00<?, ?it/s]"
      ]
     },
     "metadata": {},
     "output_type": "display_data"
    },
    {
     "data": {
      "application/vnd.jupyter.widget-view+json": {
       "model_id": "303fbb6927e643a6ae4fae77b71bf2cb",
       "version_major": 2,
       "version_minor": 0
      },
      "text/plain": [
       "  0%|          | 0/40 [00:00<?, ?it/s]"
      ]
     },
     "metadata": {},
     "output_type": "display_data"
    },
    {
     "name": "stdout",
     "output_type": "stream",
     "text": [
      "train f1: 1.0\n",
      "valid f1: 0.9298245614035087\n",
      "learning rate [5.781250000000001e-06]\n"
     ]
    },
    {
     "data": {
      "application/vnd.jupyter.widget-view+json": {
       "model_id": "843af742d3264977a2d0e53d8e937612",
       "version_major": 2,
       "version_minor": 0
      },
      "text/plain": [
       "  0%|          | 0/40 [00:00<?, ?it/s]"
      ]
     },
     "metadata": {},
     "output_type": "display_data"
    },
    {
     "name": "stdout",
     "output_type": "stream",
     "text": [
      "train f1: 0.9586776859504132\n",
      "valid f1: 0.9180327868852458\n",
      "learning rate [3.0208333333333334e-06]\n"
     ]
    },
    {
     "data": {
      "application/vnd.jupyter.widget-view+json": {
       "model_id": "3e890687d1a543db9d53eab85e71fea7",
       "version_major": 2,
       "version_minor": 0
      },
      "text/plain": [
       "  0%|          | 0/40 [00:00<?, ?it/s]"
      ]
     },
     "metadata": {},
     "output_type": "display_data"
    },
    {
     "name": "stdout",
     "output_type": "stream",
     "text": [
      "train f1: 0.9733333333333333\n",
      "valid f1: 0.9333333333333333\n",
      "learning rate [2.604166666666667e-07]\n"
     ]
    },
    {
     "data": {
      "application/vnd.jupyter.widget-view+json": {
       "model_id": "96c07f8a201349c0afb7eab0787c0205",
       "version_major": 2,
       "version_minor": 0
      },
      "text/plain": [
       "  0%|          | 0/40 [00:00<?, ?it/s]"
      ]
     },
     "metadata": {},
     "output_type": "display_data"
    },
    {
     "name": "stdout",
     "output_type": "stream",
     "text": [
      "train f1: 0.9411764705882353\n",
      "valid f1: 0.9333333333333333\n",
      "learning rate [0.0]\n"
     ]
    },
    {
     "name": "stderr",
     "output_type": "stream",
     "text": [
      "Some weights of RobertaModel were not initialized from the model checkpoint at roberta-base and are newly initialized: ['roberta.pooler.dense.bias', 'roberta.pooler.dense.weight']\n",
      "You should probably TRAIN this model on a down-stream task to be able to use it for predictions and inference.\n"
     ]
    },
    {
     "name": "stdout",
     "output_type": "stream",
     "text": [
      "Fold 5\n",
      "EPOCH: 0\n"
     ]
    },
    {
     "data": {
      "application/vnd.jupyter.widget-view+json": {
       "model_id": "151f94aba346475a8f5e4ad3b13c396b",
       "version_major": 2,
       "version_minor": 0
      },
      "text/plain": [
       "  0%|          | 0/160 [00:00<?, ?it/s]"
      ]
     },
     "metadata": {},
     "output_type": "display_data"
    },
    {
     "name": "stderr",
     "output_type": "stream",
     "text": [
      "/opt/anaconda/lib/python3.9/site-packages/sklearn/metrics/_classification.py:1757: UndefinedMetricWarning: F-score is ill-defined and being set to 0.0 due to no true nor predicted samples. Use `zero_division` parameter to control this behavior.\n",
      "  _warn_prf(average, \"true nor predicted\", \"F-score is\", len(true_sum))\n"
     ]
    },
    {
     "data": {
      "application/vnd.jupyter.widget-view+json": {
       "model_id": "ab60b8a4a36d4b8bb07e5c4a747e3eba",
       "version_major": 2,
       "version_minor": 0
      },
      "text/plain": [
       "  0%|          | 0/40 [00:00<?, ?it/s]"
      ]
     },
     "metadata": {},
     "output_type": "display_data"
    },
    {
     "name": "stdout",
     "output_type": "stream",
     "text": [
      "train f1: 0.0\n",
      "valid f1: 0.24\n",
      "learning rate [4.1666666666666667e-07]\n"
     ]
    },
    {
     "data": {
      "application/vnd.jupyter.widget-view+json": {
       "model_id": "958384987d40491986a6c1f1521ab504",
       "version_major": 2,
       "version_minor": 0
      },
      "text/plain": [
       "  0%|          | 0/40 [00:00<?, ?it/s]"
      ]
     },
     "metadata": {},
     "output_type": "display_data"
    },
    {
     "name": "stdout",
     "output_type": "stream",
     "text": [
      "train f1: 0.08823529411764706\n",
      "valid f1: 0.7288135593220337\n",
      "learning rate [1.96875e-05]\n"
     ]
    },
    {
     "data": {
      "application/vnd.jupyter.widget-view+json": {
       "model_id": "471b418d68c144acacb34103ae260b7e",
       "version_major": 2,
       "version_minor": 0
      },
      "text/plain": [
       "  0%|          | 0/40 [00:00<?, ?it/s]"
      ]
     },
     "metadata": {},
     "output_type": "display_data"
    },
    {
     "name": "stdout",
     "output_type": "stream",
     "text": [
      "train f1: 0.6349206349206349\n",
      "valid f1: 0.8155339805825242\n",
      "learning rate [1.6927083333333333e-05]\n"
     ]
    },
    {
     "data": {
      "application/vnd.jupyter.widget-view+json": {
       "model_id": "8178286f03794bf3871b74ad7b3253f0",
       "version_major": 2,
       "version_minor": 0
      },
      "text/plain": [
       "  0%|          | 0/40 [00:00<?, ?it/s]"
      ]
     },
     "metadata": {},
     "output_type": "display_data"
    },
    {
     "name": "stdout",
     "output_type": "stream",
     "text": [
      "train f1: 0.8368794326241135\n",
      "valid f1: 0.8686868686868686\n",
      "learning rate [1.416666666666667e-05]\n",
      "EPOCH: 1\n"
     ]
    },
    {
     "data": {
      "application/vnd.jupyter.widget-view+json": {
       "model_id": "24e63a5968e943059069743b1cc6800d",
       "version_major": 2,
       "version_minor": 0
      },
      "text/plain": [
       "  0%|          | 0/160 [00:00<?, ?it/s]"
      ]
     },
     "metadata": {},
     "output_type": "display_data"
    },
    {
     "data": {
      "application/vnd.jupyter.widget-view+json": {
       "model_id": "18c50e23112e40a28a40a40258f3f27f",
       "version_major": 2,
       "version_minor": 0
      },
      "text/plain": [
       "  0%|          | 0/40 [00:00<?, ?it/s]"
      ]
     },
     "metadata": {},
     "output_type": "display_data"
    },
    {
     "name": "stdout",
     "output_type": "stream",
     "text": [
      "train f1: 0.8\n",
      "valid f1: 0.8514851485148514\n",
      "learning rate [1.4114583333333334e-05]\n"
     ]
    },
    {
     "data": {
      "application/vnd.jupyter.widget-view+json": {
       "model_id": "f78af9060d904a7caaa4d84a6cf87bae",
       "version_major": 2,
       "version_minor": 0
      },
      "text/plain": [
       "  0%|          | 0/40 [00:00<?, ?it/s]"
      ]
     },
     "metadata": {},
     "output_type": "display_data"
    },
    {
     "name": "stdout",
     "output_type": "stream",
     "text": [
      "train f1: 0.9090909090909091\n",
      "valid f1: 0.8653846153846154\n",
      "learning rate [1.1354166666666669e-05]\n"
     ]
    },
    {
     "data": {
      "application/vnd.jupyter.widget-view+json": {
       "model_id": "5650d4631b4b49d4b8b98c15a6f73068",
       "version_major": 2,
       "version_minor": 0
      },
      "text/plain": [
       "  0%|          | 0/40 [00:00<?, ?it/s]"
      ]
     },
     "metadata": {},
     "output_type": "display_data"
    },
    {
     "name": "stdout",
     "output_type": "stream",
     "text": [
      "train f1: 0.8867924528301886\n",
      "valid f1: 0.8737864077669903\n",
      "learning rate [8.59375e-06]\n"
     ]
    },
    {
     "data": {
      "application/vnd.jupyter.widget-view+json": {
       "model_id": "6609e6e5fbd749cc8af671a75faf7760",
       "version_major": 2,
       "version_minor": 0
      },
      "text/plain": [
       "  0%|          | 0/40 [00:00<?, ?it/s]"
      ]
     },
     "metadata": {},
     "output_type": "display_data"
    },
    {
     "name": "stdout",
     "output_type": "stream",
     "text": [
      "train f1: 0.9147286821705427\n",
      "valid f1: 0.8799999999999999\n",
      "learning rate [5.833333333333334e-06]\n",
      "EPOCH: 2\n"
     ]
    },
    {
     "data": {
      "application/vnd.jupyter.widget-view+json": {
       "model_id": "1df9a591a7044de5b391bac338410ad3",
       "version_major": 2,
       "version_minor": 0
      },
      "text/plain": [
       "  0%|          | 0/160 [00:00<?, ?it/s]"
      ]
     },
     "metadata": {},
     "output_type": "display_data"
    },
    {
     "name": "stderr",
     "output_type": "stream",
     "text": [
      "/opt/anaconda/lib/python3.9/site-packages/sklearn/metrics/_classification.py:1757: UndefinedMetricWarning: F-score is ill-defined and being set to 0.0 due to no true nor predicted samples. Use `zero_division` parameter to control this behavior.\n",
      "  _warn_prf(average, \"true nor predicted\", \"F-score is\", len(true_sum))\n"
     ]
    },
    {
     "data": {
      "application/vnd.jupyter.widget-view+json": {
       "model_id": "b36f0b4056ca4d57abad8ed81a77a1a3",
       "version_major": 2,
       "version_minor": 0
      },
      "text/plain": [
       "  0%|          | 0/40 [00:00<?, ?it/s]"
      ]
     },
     "metadata": {},
     "output_type": "display_data"
    },
    {
     "name": "stdout",
     "output_type": "stream",
     "text": [
      "train f1: 0.0\n",
      "valid f1: 0.8979591836734695\n",
      "learning rate [5.781250000000001e-06]\n"
     ]
    },
    {
     "data": {
      "application/vnd.jupyter.widget-view+json": {
       "model_id": "98c3c884ee70459fa01c9b36daca9358",
       "version_major": 2,
       "version_minor": 0
      },
      "text/plain": [
       "  0%|          | 0/40 [00:00<?, ?it/s]"
      ]
     },
     "metadata": {},
     "output_type": "display_data"
    },
    {
     "name": "stdout",
     "output_type": "stream",
     "text": [
      "train f1: 0.9635036496350364\n",
      "valid f1: 0.8448275862068965\n",
      "learning rate [3.0208333333333334e-06]\n"
     ]
    },
    {
     "data": {
      "application/vnd.jupyter.widget-view+json": {
       "model_id": "2f73368744394adabbb3bec0a6d43acc",
       "version_major": 2,
       "version_minor": 0
      },
      "text/plain": [
       "  0%|          | 0/40 [00:00<?, ?it/s]"
      ]
     },
     "metadata": {},
     "output_type": "display_data"
    },
    {
     "name": "stdout",
     "output_type": "stream",
     "text": [
      "train f1: 0.9850746268656716\n",
      "valid f1: 0.8727272727272727\n",
      "learning rate [2.604166666666667e-07]\n"
     ]
    },
    {
     "data": {
      "application/vnd.jupyter.widget-view+json": {
       "model_id": "2945784006cc47ca93c8d3c0b42cdb9a",
       "version_major": 2,
       "version_minor": 0
      },
      "text/plain": [
       "  0%|          | 0/40 [00:00<?, ?it/s]"
      ]
     },
     "metadata": {},
     "output_type": "display_data"
    },
    {
     "name": "stdout",
     "output_type": "stream",
     "text": [
      "train f1: 0.9770992366412213\n",
      "valid f1: 0.8727272727272727\n",
      "learning rate [0.0]\n"
     ]
    }
   ],
   "source": [
    "BATCH_SIZE=4\n",
    "EPOCHS=3\n",
    "\n",
    "FOLDS=5\n",
    "splits=KFold(n_splits=FOLDS,shuffle=True,random_state=42)\n",
    "allMetrics = []\n",
    "\n",
    "for fold, (train_idx,val_idx) in enumerate(splits.split(np.arange(len(dataset)))):\n",
    "\n",
    "    #initialize model \n",
    "    model = Model(tokenIxList).to(device)\n",
    "    \n",
    "    print('Fold {}'.format(fold + 1))\n",
    "\n",
    "    trainSampler = SubsetRandomSampler(train_idx)\n",
    "    validSampler = SubsetRandomSampler(val_idx)\n",
    "    trainLoader = torch.utils.data.DataLoader(dataset, batch_size=BATCH_SIZE, sampler=trainSampler)\n",
    "    validLoader = torch.utils.data.DataLoader(dataset, batch_size=BATCH_SIZE, sampler=validSampler)\n",
    "    \n",
    "    \n",
    "    optim = torch.optim.Adam(model.parameters(), lr=2e-5)\n",
    "    \n",
    "    total_steps = int(len(trainLoader))*EPOCHS\n",
    "    warmup_steps = int(0.1 * total_steps)\n",
    "    \n",
    "    scheduler = get_linear_schedule_with_warmup(optim, num_warmup_steps=warmup_steps, num_training_steps=total_steps - warmup_steps)\n",
    "    loss_func = torch.nn.BCELoss()\n",
    "\n",
    "    allMetrics.append(train(model, fold, EPOCHS, optim, scheduler, loss_func, trainLoader, validLoader))\n"
   ]
  },
  {
   "cell_type": "code",
   "execution_count": 256,
   "id": "0b3e43bc-1830-48ef-a063-4a569f622c68",
   "metadata": {},
   "outputs": [],
   "source": [
    "#append all of the train matrices together \n",
    "trainOutput = []\n",
    "validOutput = []\n",
    "for i in range(len(allMetrics)): \n",
    "    trainOutput += allMetrics[i][2]\n",
    "    validOutput += allMetrics[i][3]\n",
    "    \n",
    "trainDf = pd.DataFrame(trainOutput, columns=[\"fold\", \"step\", \"epochFrac\", \"epoch\", \"f1\", \"learningRate\"]) \n",
    "trainDf[\"data\"] =  \"train\"\n",
    "\n",
    "validDf = pd.DataFrame(validOutput, columns=[\"fold\", \"step\", \"epochFrac\", \"epoch\", \"f1\", \"learningRate\"]) \n",
    "validDf[\"data\"] =  \"valid\"                     \n",
    "\n",
    "#validDf[\"totalSteps\"] = \n",
    "validDf[\"overallEpochFrac\"] = validDf[\"epoch\"] + validDf[\"epochFrac\"]\n",
    "trainDf[\"overallEpochFrac\"] = trainDf[\"epoch\"] + trainDf[\"epochFrac\"]\n",
    "metricDf = pd.concat([validDf, trainDf], axis=0) "
   ]
  },
  {
   "cell_type": "code",
   "execution_count": 257,
   "id": "df140722-2737-4195-aef8-9da314c7b27e",
   "metadata": {},
   "outputs": [
    {
     "data": {
      "text/html": [
       "<div>\n",
       "<style scoped>\n",
       "    .dataframe tbody tr th:only-of-type {\n",
       "        vertical-align: middle;\n",
       "    }\n",
       "\n",
       "    .dataframe tbody tr th {\n",
       "        vertical-align: top;\n",
       "    }\n",
       "\n",
       "    .dataframe thead th {\n",
       "        text-align: right;\n",
       "    }\n",
       "</style>\n",
       "<table border=\"1\" class=\"dataframe\">\n",
       "  <thead>\n",
       "    <tr style=\"text-align: right;\">\n",
       "      <th></th>\n",
       "      <th>fold</th>\n",
       "      <th>step</th>\n",
       "      <th>epochFrac</th>\n",
       "      <th>epoch</th>\n",
       "      <th>f1</th>\n",
       "      <th>learningRate</th>\n",
       "      <th>data</th>\n",
       "      <th>overallEpochFrac</th>\n",
       "    </tr>\n",
       "  </thead>\n",
       "  <tbody>\n",
       "    <tr>\n",
       "      <th>0</th>\n",
       "      <td>0</td>\n",
       "      <td>0</td>\n",
       "      <td>0.00000</td>\n",
       "      <td>0</td>\n",
       "      <td>0.476190</td>\n",
       "      <td>0.756611</td>\n",
       "      <td>valid</td>\n",
       "      <td>0.00000</td>\n",
       "    </tr>\n",
       "    <tr>\n",
       "      <th>1</th>\n",
       "      <td>0</td>\n",
       "      <td>53</td>\n",
       "      <td>0.33125</td>\n",
       "      <td>0</td>\n",
       "      <td>0.675325</td>\n",
       "      <td>0.425444</td>\n",
       "      <td>valid</td>\n",
       "      <td>0.33125</td>\n",
       "    </tr>\n",
       "    <tr>\n",
       "      <th>2</th>\n",
       "      <td>0</td>\n",
       "      <td>106</td>\n",
       "      <td>0.66250</td>\n",
       "      <td>0</td>\n",
       "      <td>0.853933</td>\n",
       "      <td>0.310617</td>\n",
       "      <td>valid</td>\n",
       "      <td>0.66250</td>\n",
       "    </tr>\n",
       "    <tr>\n",
       "      <th>3</th>\n",
       "      <td>0</td>\n",
       "      <td>159</td>\n",
       "      <td>0.99375</td>\n",
       "      <td>0</td>\n",
       "      <td>0.800000</td>\n",
       "      <td>0.293546</td>\n",
       "      <td>valid</td>\n",
       "      <td>0.99375</td>\n",
       "    </tr>\n",
       "    <tr>\n",
       "      <th>4</th>\n",
       "      <td>0</td>\n",
       "      <td>0</td>\n",
       "      <td>0.00000</td>\n",
       "      <td>1</td>\n",
       "      <td>0.800000</td>\n",
       "      <td>0.292710</td>\n",
       "      <td>valid</td>\n",
       "      <td>1.00000</td>\n",
       "    </tr>\n",
       "    <tr>\n",
       "      <th>...</th>\n",
       "      <td>...</td>\n",
       "      <td>...</td>\n",
       "      <td>...</td>\n",
       "      <td>...</td>\n",
       "      <td>...</td>\n",
       "      <td>...</td>\n",
       "      <td>...</td>\n",
       "      <td>...</td>\n",
       "    </tr>\n",
       "    <tr>\n",
       "      <th>40</th>\n",
       "      <td>4</td>\n",
       "      <td>106</td>\n",
       "      <td>0.66250</td>\n",
       "      <td>1</td>\n",
       "      <td>0.886792</td>\n",
       "      <td>0.177436</td>\n",
       "      <td>train</td>\n",
       "      <td>1.66250</td>\n",
       "    </tr>\n",
       "    <tr>\n",
       "      <th>41</th>\n",
       "      <td>4</td>\n",
       "      <td>159</td>\n",
       "      <td>0.99375</td>\n",
       "      <td>1</td>\n",
       "      <td>0.914729</td>\n",
       "      <td>0.170969</td>\n",
       "      <td>train</td>\n",
       "      <td>1.99375</td>\n",
       "    </tr>\n",
       "    <tr>\n",
       "      <th>42</th>\n",
       "      <td>4</td>\n",
       "      <td>53</td>\n",
       "      <td>0.33125</td>\n",
       "      <td>2</td>\n",
       "      <td>0.963504</td>\n",
       "      <td>0.056884</td>\n",
       "      <td>train</td>\n",
       "      <td>2.33125</td>\n",
       "    </tr>\n",
       "    <tr>\n",
       "      <th>43</th>\n",
       "      <td>4</td>\n",
       "      <td>106</td>\n",
       "      <td>0.66250</td>\n",
       "      <td>2</td>\n",
       "      <td>0.985075</td>\n",
       "      <td>0.053792</td>\n",
       "      <td>train</td>\n",
       "      <td>2.66250</td>\n",
       "    </tr>\n",
       "    <tr>\n",
       "      <th>44</th>\n",
       "      <td>4</td>\n",
       "      <td>159</td>\n",
       "      <td>0.99375</td>\n",
       "      <td>2</td>\n",
       "      <td>0.977099</td>\n",
       "      <td>0.051619</td>\n",
       "      <td>train</td>\n",
       "      <td>2.99375</td>\n",
       "    </tr>\n",
       "  </tbody>\n",
       "</table>\n",
       "<p>105 rows × 8 columns</p>\n",
       "</div>"
      ],
      "text/plain": [
       "    fold  step  epochFrac  epoch        f1  learningRate   data  \\\n",
       "0      0     0    0.00000      0  0.476190      0.756611  valid   \n",
       "1      0    53    0.33125      0  0.675325      0.425444  valid   \n",
       "2      0   106    0.66250      0  0.853933      0.310617  valid   \n",
       "3      0   159    0.99375      0  0.800000      0.293546  valid   \n",
       "4      0     0    0.00000      1  0.800000      0.292710  valid   \n",
       "..   ...   ...        ...    ...       ...           ...    ...   \n",
       "40     4   106    0.66250      1  0.886792      0.177436  train   \n",
       "41     4   159    0.99375      1  0.914729      0.170969  train   \n",
       "42     4    53    0.33125      2  0.963504      0.056884  train   \n",
       "43     4   106    0.66250      2  0.985075      0.053792  train   \n",
       "44     4   159    0.99375      2  0.977099      0.051619  train   \n",
       "\n",
       "    overallEpochFrac  \n",
       "0            0.00000  \n",
       "1            0.33125  \n",
       "2            0.66250  \n",
       "3            0.99375  \n",
       "4            1.00000  \n",
       "..               ...  \n",
       "40           1.66250  \n",
       "41           1.99375  \n",
       "42           2.33125  \n",
       "43           2.66250  \n",
       "44           2.99375  \n",
       "\n",
       "[105 rows x 8 columns]"
      ]
     },
     "execution_count": 257,
     "metadata": {},
     "output_type": "execute_result"
    }
   ],
   "source": [
    "metricDf"
   ]
  },
  {
   "cell_type": "code",
   "execution_count": 258,
   "id": "a8d00d34-09a1-457a-bd12-2ebe5cb45ef8",
   "metadata": {},
   "outputs": [
    {
     "data": {
      "text/plain": [
       "Text(0, 0.5, 'F1 score')"
      ]
     },
     "execution_count": 258,
     "metadata": {},
     "output_type": "execute_result"
    },
    {
     "data": {
      "image/png": "[encoded data removed]",
      "text/plain": [
       "<Figure size 432x288 with 1 Axes>"
      ]
     },
     "metadata": {
      "needs_background": "light"
     },
     "output_type": "display_data"
    }
   ],
   "source": [
    "sns.lineplot(data=metricDf, x=\"overallEpochFrac\", y=\"f1\", hue=\"data\")\n",
    "plt.title(\"F1: Train and Validation\") \n",
    "plt.xlabel(\"epochs\") \n",
    "plt.ylabel(\"F1 score\") "
   ]
  },
  {
   "cell_type": "code",
   "execution_count": 259,
   "id": "4c7478e3-5c21-4147-93de-936437a94acb",
   "metadata": {},
   "outputs": [],
   "source": [
    "validPreds = []\n",
    "validGts = []\n",
    "for i in range(len(allMetrics)): \n",
    "    validPreds += allMetrics[i][0]\n",
    "    validGts += allMetrics[i][1]\n",
    "    "
   ]
  },
  {
   "cell_type": "code",
   "execution_count": 260,
   "id": "3cc7a260-7b64-4fab-b9ab-5f637eea4d94",
   "metadata": {},
   "outputs": [
    {
     "data": {
      "text/plain": [
       "0.8867562380038388"
      ]
     },
     "execution_count": 260,
     "metadata": {},
     "output_type": "execute_result"
    }
   ],
   "source": [
    "f1_score(validPreds, validGts) "
   ]
  },
  {
   "cell_type": "code",
   "execution_count": 262,
   "id": "a728f39d-4bf2-4238-b4d5-1cce30007660",
   "metadata": {},
   "outputs": [
    {
     "data": {
      "text/plain": [
       "array([[508,  36],\n",
       "       [ 23, 231]])"
      ]
     },
     "execution_count": 262,
     "metadata": {},
     "output_type": "execute_result"
    }
   ],
   "source": [
    "#rows: what the ground truth is (0 versus 1) \n",
    "#columns: what we predicted (0 versus 1) \n",
    "\n",
    "confusion_matrix(validGts, validPreds)"
   ]
  },
  {
   "cell_type": "code",
   "execution_count": 197,
   "id": "454a29b7-8b9f-4ce7-aa7c-540280c79cfd",
   "metadata": {},
   "outputs": [
    {
     "name": "stdout",
     "output_type": "stream",
     "text": [
      "[1, 0, 0, 1, 0, 1, 0, 0, 0, 0, 0, 1, 1, 0, 0, 0, 0, 1, 1, 1, 0, 0, 1, 0, 0, 0, 0, 1, 0, 1]\n",
      "[1, 0, 0, 1, 0, 1, 0, 0, 0, 0, 0, 1, 1, 0, 0, 0, 0, 1, 1, 1, 0, 0, 0, 1, 1, 0, 0, 1, 0, 1]\n"
     ]
    }
   ],
   "source": [
    "#print(f\"{validPreds[:30]}\") \n",
    "#print(f\"{validGts[:30]}\") "
   ]
  },
  {
   "cell_type": "code",
   "execution_count": 173,
   "id": "b03d4b95-0bf3-4841-8bc4-e58dc586aded",
   "metadata": {},
   "outputs": [],
   "source": [
    "for i in range(len(allMetrics)):\n",
    "    print(allMetrics[i])"
   ]
  },
  {
   "cell_type": "code",
   "execution_count": 102,
   "id": "da4a2acc-111f-462e-b6aa-1b02e8cd8f5a",
   "metadata": {},
   "outputs": [
    {
     "data": {
      "text/plain": [
       "798"
      ]
     },
     "execution_count": 102,
     "metadata": {},
     "output_type": "execute_result"
    }
   ],
   "source": [
    "len(dataset)"
   ]
  },
  {
   "cell_type": "code",
   "execution_count": 263,
   "id": "93fb9f13-e259-46c1-8101-a0b95c625785",
   "metadata": {},
   "outputs": [],
   "source": [
    "WEIGHTS_PATH=\"/shared/3/projects/benlitterer/podcastData/hostIdentification/robertaTokenClassifier/weights/feb15.weights\"\n",
    "torch.save(model.state_dict(), WEIGHTS_PATH)\n"
   ]
  },
  {
   "cell_type": "code",
   "execution_count": null,
   "id": "4562ee4c-c41b-4210-99f9-81fc695c0895",
   "metadata": {},
   "outputs": [],
   "source": []
  }
 ],
 "metadata": {
  "kernelspec": {
   "display_name": "Python 3",
   "language": "python",
   "name": "python3"
  },
  "language_info": {
   "codemirror_mode": {
    "name": "ipython",
    "version": 3
   },
   "file_extension": ".py",
   "mimetype": "text/x-python",
   "name": "python",
   "nbconvert_exporter": "python",
   "pygments_lexer": "ipython3",
   "version": "3.9.12"
  }
 },
 "nbformat": 4,
 "nbformat_minor": 5
}
