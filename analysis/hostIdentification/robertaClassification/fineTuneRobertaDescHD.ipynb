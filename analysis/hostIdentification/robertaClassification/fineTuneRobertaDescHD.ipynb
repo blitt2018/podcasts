{
 "cells": [
  {
   "cell_type": "code",
   "execution_count": 1,
   "id": "7b391a97-0e89-4770-9329-8e8fbc238ed5",
   "metadata": {},
   "outputs": [
    {
     "name": "stdout",
     "output_type": "stream",
     "text": [
      "[2024-01-24 20:47:48,913] [INFO] [real_accelerator.py:158:get_accelerator] Setting ds_accelerator to cuda (auto detect)\n"
     ]
    }
   ],
   "source": [
    "from tqdm.auto import tqdm\n",
    "import torch \n",
    "import transformers\n",
    "from transformers import PreTrainedTokenizer\n",
    "from transformers import RobertaTokenizer, RobertaConfig, RobertaModel, RobertaForSequenceClassification\n",
    "#from sentence_transformers import SentenceTransformer, SentencesDataset, InputExample, losses, util\n",
    "from datasets import Dataset\n",
    "import pandas as pd\n",
    "from transformers.optimization import get_linear_schedule_with_warmup\n",
    "#import matplotlib.pyplot as plt \n",
    "import numpy as np\n",
    "from sentence_transformers import SentenceTransformer\n",
    "from transformers import AutoTokenizer, AutoModel\n",
    "#from torch.nn import CosineEmbeddingLoss\n",
    "import random\n",
    "#from torch.nn import CosineEmbeddingLoss\n",
    "from torch import nn\n",
    "#Build up to SBERT model "
   ]
  },
  {
   "cell_type": "code",
   "execution_count": 2,
   "id": "9e409622-042b-4b18-8426-2130435c4e36",
   "metadata": {},
   "outputs": [],
   "source": [
    "#import seaborn as sns\n",
    "from sklearn.metrics import f1_score\n",
    "import matplotlib.pyplot as plt\n",
    "import seaborn as sns"
   ]
  },
  {
   "cell_type": "code",
   "execution_count": 3,
   "id": "2563345c-37e8-4c49-82e5-8985764244ba",
   "metadata": {},
   "outputs": [],
   "source": [
    "from sklearn.model_selection import train_test_split"
   ]
  },
  {
   "cell_type": "code",
   "execution_count": 4,
   "id": "0469fb4e-bf36-4143-91e4-9b4bbb64ece4",
   "metadata": {},
   "outputs": [],
   "source": [
    "df = pd.read_csv(\"/shared/3/projects/benlitterer/podcastData/hostIdentification/itunesGTsubsetDescriptions.tsv\", sep=\"\\t\") "
   ]
  },
  {
   "cell_type": "code",
   "execution_count": 12,
   "id": "810358b2-c518-4231-9bcf-a3ab6e2a3ea8",
   "metadata": {},
   "outputs": [],
   "source": [
    "#we're predicting all zero's, try to adjust class imbalance? \n",
    "\"\"\"\n",
    "classes should already be balanced here \n",
    "posClass = df[df[\"entInAuthor\"] == True] \n",
    "negClass = df[df[\"entInAuthor\"] == False].sample(len(posClass)) \n",
    "df = pd.concat([posClass, negClass], axis=0) \n",
    "\"\"\""
   ]
  },
  {
   "cell_type": "code",
   "execution_count": 5,
   "id": "141ce109-f922-4cc9-871e-0ec105aeecc9",
   "metadata": {},
   "outputs": [],
   "source": [
    "#we have an annoying amount of data right now, so reduce for now\n",
    "df = df.sample(int(len(df) * .25))"
   ]
  },
  {
   "cell_type": "code",
   "execution_count": 6,
   "id": "5520cbd4-5c1a-497e-903a-4dadb862e5d6",
   "metadata": {},
   "outputs": [],
   "source": [
    "df[\"groundTruth\"] = df[\"entInAuthor\"].astype(int) "
   ]
  },
  {
   "cell_type": "code",
   "execution_count": 7,
   "id": "471e9cc0-38bd-424e-8a9d-1e97693256b3",
   "metadata": {},
   "outputs": [],
   "source": [
    "df = df.dropna() "
   ]
  },
  {
   "cell_type": "code",
   "execution_count": 8,
   "id": "ac31fb66-b075-4576-a72c-fa86eeaa1f54",
   "metadata": {},
   "outputs": [],
   "source": [
    "deviceNum = 1\n",
    "device = torch.device(\"cuda:\" + str(deviceNum) if torch.cuda.is_available() else \"cpu\")"
   ]
  },
  {
   "cell_type": "code",
   "execution_count": 9,
   "id": "bfc38ffd-442c-4378-9131-2d9a1eb089ff",
   "metadata": {},
   "outputs": [],
   "source": [
    "TRAIN_FRAC = .7 \n",
    "VALID_FRAC = .1\n",
    "TEST_FRAC = .2\n",
    "\n",
    "#put ground truth values into a list \n",
    "leanDf = df[[\"entSnippets\", \"groundTruth\"]] \n",
    "\n",
    "#reset index so it is contiguous set of numbers \n",
    "leanDf = leanDf.reset_index(drop=True)\n",
    "\n",
    "#get train, valid, test \n",
    "trainDf, testDf = train_test_split(leanDf, test_size=0.3) \n",
    "validDf, testDf = train_test_split(testDf, test_size=0.666) \n",
    "\n",
    "trainDataset = Dataset.from_pandas(trainDf)\n",
    "validDataset = Dataset.from_pandas(validDf)\n",
    "testDataset = Dataset.from_pandas(testDf) "
   ]
  },
  {
   "cell_type": "code",
   "execution_count": 10,
   "id": "77cba0f8-6f6f-42ff-b7da-639c2db72b2c",
   "metadata": {},
   "outputs": [],
   "source": [
    "#TODO: figure out by tokenizer isn't padding out to max_length "
   ]
  },
  {
   "cell_type": "code",
   "execution_count": 11,
   "id": "4d19311d-611d-4e52-b55b-33dabf32cca0",
   "metadata": {},
   "outputs": [],
   "source": [
    "# Preprocessing\n",
    "tokenizer = RobertaTokenizer.from_pretrained('roberta-base', max_length=512, padding=\"max_length\", truncation=True)"
   ]
  },
  {
   "cell_type": "code",
   "execution_count": 12,
   "id": "ebcfcff9-c3be-4120-bd10-21b79754b95b",
   "metadata": {},
   "outputs": [
    {
     "data": {
      "application/vnd.jupyter.widget-view+json": {
       "model_id": "60b70687da114c308daa0d70dc42e32c",
       "version_major": 2,
       "version_minor": 0
      },
      "text/plain": [
       "Map:   0%|          | 0/75788 [00:00<?, ? examples/s]"
      ]
     },
     "metadata": {},
     "output_type": "display_data"
    },
    {
     "data": {
      "application/vnd.jupyter.widget-view+json": {
       "model_id": "521dcedb33384fd8aab901a0794970e5",
       "version_major": 2,
       "version_minor": 0
      },
      "text/plain": [
       "Map:   0%|          | 0/10848 [00:00<?, ? examples/s]"
      ]
     },
     "metadata": {},
     "output_type": "display_data"
    },
    {
     "data": {
      "application/vnd.jupyter.widget-view+json": {
       "model_id": "95dd4ad667e347bbb7b02e53011c9491",
       "version_major": 2,
       "version_minor": 0
      },
      "text/plain": [
       "Map:   0%|          | 0/21633 [00:00<?, ? examples/s]"
      ]
     },
     "metadata": {},
     "output_type": "display_data"
    }
   ],
   "source": [
    "# define a function that will tokenize the model, and will return the relevant inputs for the model\n",
    "def tokenization(batched_text):\n",
    "    return tokenizer(batched_text['entSnippets'], padding = \"max_length\", truncation=True)\n",
    "\n",
    "trainDataset = trainDataset.map(tokenization, batched = True, batch_size = 20)\n",
    "validDataset = validDataset.map(tokenization, batched = True, batch_size = 20)\n",
    "testDataset = testDataset.map(tokenization, batched = True, batch_size = 20)"
   ]
  },
  {
   "cell_type": "code",
   "execution_count": 13,
   "id": "07ab653e-eea0-4188-96e9-3eb8b40ea48c",
   "metadata": {},
   "outputs": [],
   "source": [
    "trainDataset.set_format(type='torch', columns=[\"groundTruth\", \"input_ids\", \"attention_mask\"])\n",
    "validDataset.set_format(type='torch', columns=[\"groundTruth\", \"input_ids\", \"attention_mask\"])"
   ]
  },
  {
   "cell_type": "code",
   "execution_count": 14,
   "id": "110b6ded-0662-4364-be0e-160e8cfcc89a",
   "metadata": {},
   "outputs": [
    {
     "name": "stdout",
     "output_type": "stream",
     "text": [
      "(75788, 2)\n",
      "(10848, 2)\n",
      "(21633, 2)\n",
      "(108269, 2)\n"
     ]
    }
   ],
   "source": [
    "#sanity check \n",
    "print(trainDf.shape) \n",
    "print(validDf.shape) \n",
    "print(testDf.shape) \n",
    "print(leanDf.shape) "
   ]
  },
  {
   "cell_type": "code",
   "execution_count": 15,
   "id": "dd3a1582-266f-4d6a-a5fa-31825e9f0386",
   "metadata": {},
   "outputs": [
    {
     "data": {
      "text/plain": [
       "512"
      ]
     },
     "execution_count": 15,
     "metadata": {},
     "output_type": "execute_result"
    }
   ],
   "source": [
    "len(trainDataset[22][\"input_ids\"]) "
   ]
  },
  {
   "cell_type": "code",
   "execution_count": 16,
   "id": "66ab04f7-b542-4a08-9ca9-9da2a939e440",
   "metadata": {},
   "outputs": [
    {
     "name": "stderr",
     "output_type": "stream",
     "text": [
      "Some weights of RobertaForSequenceClassification were not initialized from the model checkpoint at roberta-base and are newly initialized: ['classifier.dense.weight', 'classifier.out_proj.weight', 'classifier.dense.bias', 'classifier.out_proj.bias']\n",
      "You should probably TRAIN this model on a down-stream task to be able to use it for predictions and inference.\n"
     ]
    }
   ],
   "source": [
    "#model stuff\n",
    "model = RobertaForSequenceClassification.from_pretrained('roberta-base').to(device) "
   ]
  },
  {
   "cell_type": "code",
   "execution_count": 17,
   "id": "0ea76864-1923-4212-a20a-67103e79f0ba",
   "metadata": {},
   "outputs": [],
   "source": [
    "#peek at config\n",
    "#dropout might be the only thing we really want to look into here \n",
    "#configuration "
   ]
  },
  {
   "cell_type": "code",
   "execution_count": 34,
   "id": "705e8591-45ad-4079-90fc-5deac58b740b",
   "metadata": {},
   "outputs": [
    {
     "name": "stdout",
     "output_type": "stream",
     "text": [
      "75780\n",
      "(75788, 2)\n"
     ]
    }
   ],
   "source": [
    "BATCH_SIZE=10\n",
    "EPOCHS=1\n",
    "\n",
    "# initialize everything\n",
    "# and setup a warmup for the first ~10% steps\n",
    "optim = torch.optim.Adam(model.parameters(), lr=2e-6)\n",
    "total_steps = int(len(trainDataset) / BATCH_SIZE)*EPOCHS\n",
    "warmup_steps = int(0.05 * total_steps)\n",
    "scheduler = get_linear_schedule_with_warmup(optim, num_warmup_steps=warmup_steps, num_training_steps=total_steps - warmup_steps)\n",
    "loss_func = torch.nn.CrossEntropyLoss()\n",
    "\n",
    "#sanity check \n",
    "print(total_steps * BATCH_SIZE)\n",
    "print(trainDf.shape) "
   ]
  },
  {
   "cell_type": "code",
   "execution_count": 35,
   "id": "c361cc45-ae0d-4972-8f39-55a2a99ee29b",
   "metadata": {},
   "outputs": [
    {
     "data": {
      "text/plain": [
       "7578"
      ]
     },
     "execution_count": 35,
     "metadata": {},
     "output_type": "execute_result"
    }
   ],
   "source": [
    "total_steps"
   ]
  },
  {
   "cell_type": "code",
   "execution_count": 36,
   "id": "2c55812d-6568-4e88-ba62-f3796e36a30c",
   "metadata": {},
   "outputs": [],
   "source": [
    "trainLoader = torch.utils.data.DataLoader(trainDataset, batch_size=BATCH_SIZE, shuffle=True)\n",
    "validLoader = torch.utils.data.DataLoader(validDataset, batch_size=BATCH_SIZE, shuffle=False)"
   ]
  },
  {
   "cell_type": "code",
   "execution_count": 37,
   "id": "bda84d1f-b6fd-4ca4-bcba-31c2e77d4d09",
   "metadata": {},
   "outputs": [],
   "source": [
    "#validation function \n",
    "def validate(model, validLoader, loss_func):\n",
    "    model.eval()\n",
    "    \n",
    "    outList = [[], []]\n",
    "    for batch in tqdm(validLoader): \n",
    "        \n",
    "        input_ids = batch[\"input_ids\"].to(device) \n",
    "        attention_mask = batch[\"attention_mask\"].to(device) \n",
    "        output = model(input_ids, attention_mask=attention_mask)\n",
    "        normedOutputs = nn.functional.softmax(output.logits)\n",
    "        preds = normedOutputs.argmax(dim=1)\n",
    "        \n",
    "        gt = batch[\"groundTruth\"].to(device)\n",
    "        \n",
    "        #print(f\"preds\\n{preds}\") \n",
    "        #cross entropy loss\n",
    "        loss = loss_func(normedOutputs, gt)\n",
    "        \n",
    "        outList[0] += preds.detach().cpu().tolist()\n",
    "        outList[1] += gt.detach().cpu().tolist() \n",
    "        \n",
    "    f1 = f1_score(outList[0], outList[1]) \n",
    "    print(f1)\n",
    "    model.train()\n",
    "    return f1"
   ]
  },
  {
   "cell_type": "code",
   "execution_count": 38,
   "id": "63a9ac50-62e5-4dbd-afbe-42e7ae3de1dd",
   "metadata": {},
   "outputs": [
    {
     "name": "stdout",
     "output_type": "stream",
     "text": [
      "EPOCH: 0\n"
     ]
    },
    {
     "data": {
      "application/vnd.jupyter.widget-view+json": {
       "model_id": "304820bdbaa94552b5ca9ebabedb2a65",
       "version_major": 2,
       "version_minor": 0
      },
      "text/plain": [
       "  0%|          | 0/7579 [00:00<?, ?it/s]"
      ]
     },
     "metadata": {},
     "output_type": "display_data"
    },
    {
     "name": "stderr",
     "output_type": "stream",
     "text": [
      "<ipython-input-38-5a3aca86abd1>:18: UserWarning: Implicit dimension choice for softmax has been deprecated. Change the call to include dim=X as an argument.\n",
      "  normedOutputs = nn.functional.softmax(output.logits)\n",
      "/opt/anaconda/lib/python3.9/site-packages/numpy/core/fromnumeric.py:3432: RuntimeWarning: Mean of empty slice.\n",
      "  return _methods._mean(a, axis=axis, dtype=dtype,\n",
      "/opt/anaconda/lib/python3.9/site-packages/numpy/core/_methods.py:190: RuntimeWarning: invalid value encountered in double_scalars\n",
      "  ret = ret.dtype.type(ret / rcount)\n"
     ]
    },
    {
     "data": {
      "application/vnd.jupyter.widget-view+json": {
       "model_id": "8b4632f47e0a49e381c97ca8064f7f11",
       "version_major": 2,
       "version_minor": 0
      },
      "text/plain": [
       "  0%|          | 0/1085 [00:00<?, ?it/s]"
      ]
     },
     "metadata": {},
     "output_type": "display_data"
    },
    {
     "name": "stderr",
     "output_type": "stream",
     "text": [
      "<ipython-input-37-403a2a615b9c>:11: UserWarning: Implicit dimension choice for softmax has been deprecated. Change the call to include dim=X as an argument.\n",
      "  normedOutputs = nn.functional.softmax(output.logits)\n"
     ]
    },
    {
     "name": "stdout",
     "output_type": "stream",
     "text": [
      "0.11450008155276464\n",
      "[5.29100529100529e-09]\n"
     ]
    },
    {
     "name": "stderr",
     "output_type": "stream",
     "text": [
      "<ipython-input-38-5a3aca86abd1>:18: UserWarning: Implicit dimension choice for softmax has been deprecated. Change the call to include dim=X as an argument.\n",
      "  normedOutputs = nn.functional.softmax(output.logits)\n"
     ]
    },
    {
     "data": {
      "application/vnd.jupyter.widget-view+json": {
       "model_id": "e6317528f0f64ea6b90323bb6995d857",
       "version_major": 2,
       "version_minor": 0
      },
      "text/plain": [
       "  0%|          | 0/1085 [00:00<?, ?it/s]"
      ]
     },
     "metadata": {},
     "output_type": "display_data"
    },
    {
     "name": "stderr",
     "output_type": "stream",
     "text": [
      "<ipython-input-37-403a2a615b9c>:11: UserWarning: Implicit dimension choice for softmax has been deprecated. Change the call to include dim=X as an argument.\n",
      "  normedOutputs = nn.functional.softmax(output.logits)\n"
     ]
    },
    {
     "name": "stdout",
     "output_type": "stream",
     "text": [
      "0.5861136158701533\n",
      "[7.989417989417989e-07]\n"
     ]
    },
    {
     "name": "stderr",
     "output_type": "stream",
     "text": [
      "<ipython-input-38-5a3aca86abd1>:18: UserWarning: Implicit dimension choice for softmax has been deprecated. Change the call to include dim=X as an argument.\n",
      "  normedOutputs = nn.functional.softmax(output.logits)\n"
     ]
    },
    {
     "data": {
      "application/vnd.jupyter.widget-view+json": {
       "model_id": "f713998ab5724cbc9f653ff08075140b",
       "version_major": 2,
       "version_minor": 0
      },
      "text/plain": [
       "  0%|          | 0/1085 [00:00<?, ?it/s]"
      ]
     },
     "metadata": {},
     "output_type": "display_data"
    },
    {
     "name": "stderr",
     "output_type": "stream",
     "text": [
      "<ipython-input-37-403a2a615b9c>:11: UserWarning: Implicit dimension choice for softmax has been deprecated. Change the call to include dim=X as an argument.\n",
      "  normedOutputs = nn.functional.softmax(output.logits)\n"
     ]
    },
    {
     "name": "stdout",
     "output_type": "stream",
     "text": [
      "0.690062231346635\n",
      "[1.5925925925925925e-06]\n"
     ]
    },
    {
     "name": "stderr",
     "output_type": "stream",
     "text": [
      "<ipython-input-38-5a3aca86abd1>:18: UserWarning: Implicit dimension choice for softmax has been deprecated. Change the call to include dim=X as an argument.\n",
      "  normedOutputs = nn.functional.softmax(output.logits)\n"
     ]
    },
    {
     "data": {
      "application/vnd.jupyter.widget-view+json": {
       "model_id": "526c570758db4f2ea721077b3bc96f58",
       "version_major": 2,
       "version_minor": 0
      },
      "text/plain": [
       "  0%|          | 0/1085 [00:00<?, ?it/s]"
      ]
     },
     "metadata": {},
     "output_type": "display_data"
    },
    {
     "name": "stderr",
     "output_type": "stream",
     "text": [
      "<ipython-input-37-403a2a615b9c>:11: UserWarning: Implicit dimension choice for softmax has been deprecated. Change the call to include dim=X as an argument.\n",
      "  normedOutputs = nn.functional.softmax(output.logits)\n"
     ]
    },
    {
     "name": "stdout",
     "output_type": "stream",
     "text": [
      "0.6881971033793908\n",
      "[1.9785986514218706e-06]\n"
     ]
    },
    {
     "name": "stderr",
     "output_type": "stream",
     "text": [
      "<ipython-input-38-5a3aca86abd1>:18: UserWarning: Implicit dimension choice for softmax has been deprecated. Change the call to include dim=X as an argument.\n",
      "  normedOutputs = nn.functional.softmax(output.logits)\n"
     ]
    },
    {
     "data": {
      "application/vnd.jupyter.widget-view+json": {
       "model_id": "ec2838cdaf5f43b4a2af70b43bf9cdae",
       "version_major": 2,
       "version_minor": 0
      },
      "text/plain": [
       "  0%|          | 0/1085 [00:00<?, ?it/s]"
      ]
     },
     "metadata": {},
     "output_type": "display_data"
    },
    {
     "name": "stderr",
     "output_type": "stream",
     "text": [
      "<ipython-input-37-403a2a615b9c>:11: UserWarning: Implicit dimension choice for softmax has been deprecated. Change the call to include dim=X as an argument.\n",
      "  normedOutputs = nn.functional.softmax(output.logits)\n"
     ]
    },
    {
     "name": "stdout",
     "output_type": "stream",
     "text": [
      "0.7324926639701801\n",
      "[1.934623277631193e-06]\n"
     ]
    },
    {
     "name": "stderr",
     "output_type": "stream",
     "text": [
      "<ipython-input-38-5a3aca86abd1>:18: UserWarning: Implicit dimension choice for softmax has been deprecated. Change the call to include dim=X as an argument.\n",
      "  normedOutputs = nn.functional.softmax(output.logits)\n"
     ]
    },
    {
     "data": {
      "application/vnd.jupyter.widget-view+json": {
       "model_id": "627f97eed90d4f0a8b797c7a6df16a61",
       "version_major": 2,
       "version_minor": 0
      },
      "text/plain": [
       "  0%|          | 0/1085 [00:00<?, ?it/s]"
      ]
     },
     "metadata": {},
     "output_type": "display_data"
    },
    {
     "name": "stderr",
     "output_type": "stream",
     "text": [
      "<ipython-input-37-403a2a615b9c>:11: UserWarning: Implicit dimension choice for softmax has been deprecated. Change the call to include dim=X as an argument.\n",
      "  normedOutputs = nn.functional.softmax(output.logits)\n"
     ]
    },
    {
     "name": "stdout",
     "output_type": "stream",
     "text": [
      "0.7404833359658822\n",
      "[1.8906479038405158e-06]\n"
     ]
    },
    {
     "name": "stderr",
     "output_type": "stream",
     "text": [
      "<ipython-input-38-5a3aca86abd1>:18: UserWarning: Implicit dimension choice for softmax has been deprecated. Change the call to include dim=X as an argument.\n",
      "  normedOutputs = nn.functional.softmax(output.logits)\n"
     ]
    },
    {
     "data": {
      "application/vnd.jupyter.widget-view+json": {
       "model_id": "2594cd7514764fb6ae561b0f4b99a872",
       "version_major": 2,
       "version_minor": 0
      },
      "text/plain": [
       "  0%|          | 0/1085 [00:00<?, ?it/s]"
      ]
     },
     "metadata": {},
     "output_type": "display_data"
    },
    {
     "name": "stderr",
     "output_type": "stream",
     "text": [
      "<ipython-input-37-403a2a615b9c>:11: UserWarning: Implicit dimension choice for softmax has been deprecated. Change the call to include dim=X as an argument.\n",
      "  normedOutputs = nn.functional.softmax(output.logits)\n"
     ]
    },
    {
     "name": "stdout",
     "output_type": "stream",
     "text": [
      "0.7427854454203263\n",
      "[1.8466725300498387e-06]\n"
     ]
    },
    {
     "name": "stderr",
     "output_type": "stream",
     "text": [
      "<ipython-input-38-5a3aca86abd1>:18: UserWarning: Implicit dimension choice for softmax has been deprecated. Change the call to include dim=X as an argument.\n",
      "  normedOutputs = nn.functional.softmax(output.logits)\n"
     ]
    },
    {
     "data": {
      "application/vnd.jupyter.widget-view+json": {
       "model_id": "dd1af97fef1b46c6ad5c064cc5b3f341",
       "version_major": 2,
       "version_minor": 0
      },
      "text/plain": [
       "  0%|          | 0/1085 [00:00<?, ?it/s]"
      ]
     },
     "metadata": {},
     "output_type": "display_data"
    },
    {
     "name": "stderr",
     "output_type": "stream",
     "text": [
      "<ipython-input-37-403a2a615b9c>:11: UserWarning: Implicit dimension choice for softmax has been deprecated. Change the call to include dim=X as an argument.\n",
      "  normedOutputs = nn.functional.softmax(output.logits)\n"
     ]
    },
    {
     "name": "stdout",
     "output_type": "stream",
     "text": [
      "0.7470263025632434\n",
      "[1.8026971562591616e-06]\n"
     ]
    },
    {
     "name": "stderr",
     "output_type": "stream",
     "text": [
      "<ipython-input-38-5a3aca86abd1>:18: UserWarning: Implicit dimension choice for softmax has been deprecated. Change the call to include dim=X as an argument.\n",
      "  normedOutputs = nn.functional.softmax(output.logits)\n"
     ]
    },
    {
     "data": {
      "application/vnd.jupyter.widget-view+json": {
       "model_id": "e9174e3d244a4342abc7d31c2af26a3a",
       "version_major": 2,
       "version_minor": 0
      },
      "text/plain": [
       "  0%|          | 0/1085 [00:00<?, ?it/s]"
      ]
     },
     "metadata": {},
     "output_type": "display_data"
    },
    {
     "name": "stderr",
     "output_type": "stream",
     "text": [
      "<ipython-input-37-403a2a615b9c>:11: UserWarning: Implicit dimension choice for softmax has been deprecated. Change the call to include dim=X as an argument.\n",
      "  normedOutputs = nn.functional.softmax(output.logits)\n"
     ]
    },
    {
     "name": "stdout",
     "output_type": "stream",
     "text": [
      "0.7481462541549475\n",
      "[1.7587217824684842e-06]\n"
     ]
    },
    {
     "name": "stderr",
     "output_type": "stream",
     "text": [
      "<ipython-input-38-5a3aca86abd1>:18: UserWarning: Implicit dimension choice for softmax has been deprecated. Change the call to include dim=X as an argument.\n",
      "  normedOutputs = nn.functional.softmax(output.logits)\n"
     ]
    },
    {
     "data": {
      "application/vnd.jupyter.widget-view+json": {
       "model_id": "618cb442053249a0ad4628cd59fc5613",
       "version_major": 2,
       "version_minor": 0
      },
      "text/plain": [
       "  0%|          | 0/1085 [00:00<?, ?it/s]"
      ]
     },
     "metadata": {},
     "output_type": "display_data"
    },
    {
     "name": "stderr",
     "output_type": "stream",
     "text": [
      "<ipython-input-37-403a2a615b9c>:11: UserWarning: Implicit dimension choice for softmax has been deprecated. Change the call to include dim=X as an argument.\n",
      "  normedOutputs = nn.functional.softmax(output.logits)\n"
     ]
    },
    {
     "name": "stdout",
     "output_type": "stream",
     "text": [
      "0.7597035147844106\n",
      "[1.714746408677807e-06]\n"
     ]
    },
    {
     "name": "stderr",
     "output_type": "stream",
     "text": [
      "<ipython-input-38-5a3aca86abd1>:18: UserWarning: Implicit dimension choice for softmax has been deprecated. Change the call to include dim=X as an argument.\n",
      "  normedOutputs = nn.functional.softmax(output.logits)\n"
     ]
    },
    {
     "data": {
      "application/vnd.jupyter.widget-view+json": {
       "model_id": "721496c9b38a43a4af270e8c4564d13b",
       "version_major": 2,
       "version_minor": 0
      },
      "text/plain": [
       "  0%|          | 0/1085 [00:00<?, ?it/s]"
      ]
     },
     "metadata": {},
     "output_type": "display_data"
    },
    {
     "name": "stderr",
     "output_type": "stream",
     "text": [
      "<ipython-input-37-403a2a615b9c>:11: UserWarning: Implicit dimension choice for softmax has been deprecated. Change the call to include dim=X as an argument.\n",
      "  normedOutputs = nn.functional.softmax(output.logits)\n"
     ]
    },
    {
     "name": "stdout",
     "output_type": "stream",
     "text": [
      "0.7635237111764238\n",
      "[1.6707710348871297e-06]\n"
     ]
    },
    {
     "name": "stderr",
     "output_type": "stream",
     "text": [
      "<ipython-input-38-5a3aca86abd1>:18: UserWarning: Implicit dimension choice for softmax has been deprecated. Change the call to include dim=X as an argument.\n",
      "  normedOutputs = nn.functional.softmax(output.logits)\n"
     ]
    },
    {
     "data": {
      "application/vnd.jupyter.widget-view+json": {
       "model_id": "9861ba3849284d1b838c8c06f0266328",
       "version_major": 2,
       "version_minor": 0
      },
      "text/plain": [
       "  0%|          | 0/1085 [00:00<?, ?it/s]"
      ]
     },
     "metadata": {},
     "output_type": "display_data"
    },
    {
     "name": "stderr",
     "output_type": "stream",
     "text": [
      "<ipython-input-37-403a2a615b9c>:11: UserWarning: Implicit dimension choice for softmax has been deprecated. Change the call to include dim=X as an argument.\n",
      "  normedOutputs = nn.functional.softmax(output.logits)\n"
     ]
    },
    {
     "name": "stdout",
     "output_type": "stream",
     "text": [
      "0.7529018642279283\n",
      "[1.6267956610964526e-06]\n"
     ]
    },
    {
     "name": "stderr",
     "output_type": "stream",
     "text": [
      "<ipython-input-38-5a3aca86abd1>:18: UserWarning: Implicit dimension choice for softmax has been deprecated. Change the call to include dim=X as an argument.\n",
      "  normedOutputs = nn.functional.softmax(output.logits)\n"
     ]
    },
    {
     "data": {
      "application/vnd.jupyter.widget-view+json": {
       "model_id": "7ebbba9af8f447ef88d8bbdb7a1f5a01",
       "version_major": 2,
       "version_minor": 0
      },
      "text/plain": [
       "  0%|          | 0/1085 [00:00<?, ?it/s]"
      ]
     },
     "metadata": {},
     "output_type": "display_data"
    },
    {
     "name": "stderr",
     "output_type": "stream",
     "text": [
      "<ipython-input-37-403a2a615b9c>:11: UserWarning: Implicit dimension choice for softmax has been deprecated. Change the call to include dim=X as an argument.\n",
      "  normedOutputs = nn.functional.softmax(output.logits)\n"
     ]
    },
    {
     "name": "stdout",
     "output_type": "stream",
     "text": [
      "0.7613861386138614\n",
      "[1.5828202873057754e-06]\n"
     ]
    },
    {
     "name": "stderr",
     "output_type": "stream",
     "text": [
      "<ipython-input-38-5a3aca86abd1>:18: UserWarning: Implicit dimension choice for softmax has been deprecated. Change the call to include dim=X as an argument.\n",
      "  normedOutputs = nn.functional.softmax(output.logits)\n"
     ]
    },
    {
     "data": {
      "application/vnd.jupyter.widget-view+json": {
       "model_id": "82e06128a0e249eb9088325bd9d8b6ff",
       "version_major": 2,
       "version_minor": 0
      },
      "text/plain": [
       "  0%|          | 0/1085 [00:00<?, ?it/s]"
      ]
     },
     "metadata": {},
     "output_type": "display_data"
    },
    {
     "name": "stderr",
     "output_type": "stream",
     "text": [
      "<ipython-input-37-403a2a615b9c>:11: UserWarning: Implicit dimension choice for softmax has been deprecated. Change the call to include dim=X as an argument.\n",
      "  normedOutputs = nn.functional.softmax(output.logits)\n"
     ]
    },
    {
     "name": "stdout",
     "output_type": "stream",
     "text": [
      "0.7617125073597444\n",
      "[1.538844913515098e-06]\n"
     ]
    },
    {
     "name": "stderr",
     "output_type": "stream",
     "text": [
      "<ipython-input-38-5a3aca86abd1>:18: UserWarning: Implicit dimension choice for softmax has been deprecated. Change the call to include dim=X as an argument.\n",
      "  normedOutputs = nn.functional.softmax(output.logits)\n"
     ]
    },
    {
     "data": {
      "application/vnd.jupyter.widget-view+json": {
       "model_id": "336228e0892246fd9dbe9a7e967b441b",
       "version_major": 2,
       "version_minor": 0
      },
      "text/plain": [
       "  0%|          | 0/1085 [00:00<?, ?it/s]"
      ]
     },
     "metadata": {},
     "output_type": "display_data"
    },
    {
     "name": "stderr",
     "output_type": "stream",
     "text": [
      "<ipython-input-37-403a2a615b9c>:11: UserWarning: Implicit dimension choice for softmax has been deprecated. Change the call to include dim=X as an argument.\n",
      "  normedOutputs = nn.functional.softmax(output.logits)\n"
     ]
    },
    {
     "name": "stdout",
     "output_type": "stream",
     "text": [
      "0.7643043734726553\n",
      "[1.494869539724421e-06]\n"
     ]
    },
    {
     "name": "stderr",
     "output_type": "stream",
     "text": [
      "<ipython-input-38-5a3aca86abd1>:18: UserWarning: Implicit dimension choice for softmax has been deprecated. Change the call to include dim=X as an argument.\n",
      "  normedOutputs = nn.functional.softmax(output.logits)\n"
     ]
    },
    {
     "data": {
      "application/vnd.jupyter.widget-view+json": {
       "model_id": "60116fbc91fe44b48c70718517eb0d7b",
       "version_major": 2,
       "version_minor": 0
      },
      "text/plain": [
       "  0%|          | 0/1085 [00:00<?, ?it/s]"
      ]
     },
     "metadata": {},
     "output_type": "display_data"
    },
    {
     "name": "stderr",
     "output_type": "stream",
     "text": [
      "<ipython-input-37-403a2a615b9c>:11: UserWarning: Implicit dimension choice for softmax has been deprecated. Change the call to include dim=X as an argument.\n",
      "  normedOutputs = nn.functional.softmax(output.logits)\n"
     ]
    },
    {
     "name": "stdout",
     "output_type": "stream",
     "text": [
      "0.7640865830034532\n",
      "[1.4508941659337438e-06]\n"
     ]
    },
    {
     "name": "stderr",
     "output_type": "stream",
     "text": [
      "<ipython-input-38-5a3aca86abd1>:18: UserWarning: Implicit dimension choice for softmax has been deprecated. Change the call to include dim=X as an argument.\n",
      "  normedOutputs = nn.functional.softmax(output.logits)\n"
     ]
    },
    {
     "data": {
      "application/vnd.jupyter.widget-view+json": {
       "model_id": "0a26bbecc778441cbb89538777cd664c",
       "version_major": 2,
       "version_minor": 0
      },
      "text/plain": [
       "  0%|          | 0/1085 [00:00<?, ?it/s]"
      ]
     },
     "metadata": {},
     "output_type": "display_data"
    },
    {
     "name": "stderr",
     "output_type": "stream",
     "text": [
      "<ipython-input-37-403a2a615b9c>:11: UserWarning: Implicit dimension choice for softmax has been deprecated. Change the call to include dim=X as an argument.\n",
      "  normedOutputs = nn.functional.softmax(output.logits)\n"
     ]
    },
    {
     "name": "stdout",
     "output_type": "stream",
     "text": [
      "0.7659320006834103\n",
      "[1.4069187921430664e-06]\n"
     ]
    },
    {
     "name": "stderr",
     "output_type": "stream",
     "text": [
      "<ipython-input-38-5a3aca86abd1>:18: UserWarning: Implicit dimension choice for softmax has been deprecated. Change the call to include dim=X as an argument.\n",
      "  normedOutputs = nn.functional.softmax(output.logits)\n"
     ]
    },
    {
     "data": {
      "application/vnd.jupyter.widget-view+json": {
       "model_id": "364cd62c9d7a4476a1844fe1613a9ad0",
       "version_major": 2,
       "version_minor": 0
      },
      "text/plain": [
       "  0%|          | 0/1085 [00:00<?, ?it/s]"
      ]
     },
     "metadata": {},
     "output_type": "display_data"
    },
    {
     "name": "stderr",
     "output_type": "stream",
     "text": [
      "<ipython-input-37-403a2a615b9c>:11: UserWarning: Implicit dimension choice for softmax has been deprecated. Change the call to include dim=X as an argument.\n",
      "  normedOutputs = nn.functional.softmax(output.logits)\n"
     ]
    },
    {
     "ename": "KeyboardInterrupt",
     "evalue": "",
     "output_type": "error",
     "traceback": [
      "\u001b[0;31m---------------------------------------------------------------------------\u001b[0m",
      "\u001b[0;31mKeyboardInterrupt\u001b[0m                         Traceback (most recent call last)",
      "Cell \u001b[0;32mIn[38], line 35\u001b[0m\n\u001b[1;32m     32\u001b[0m lossList\u001b[38;5;241m.\u001b[39mappend([i, np\u001b[38;5;241m.\u001b[39mmean(currLossList)])\n\u001b[1;32m     34\u001b[0m \u001b[38;5;66;03m#for validation stuff\u001b[39;00m\n\u001b[0;32m---> 35\u001b[0m validateList\u001b[38;5;241m.\u001b[39mappend([i, \u001b[43mvalidate\u001b[49m\u001b[43m(\u001b[49m\u001b[43mmodel\u001b[49m\u001b[43m,\u001b[49m\u001b[43m \u001b[49m\u001b[43mvalidLoader\u001b[49m\u001b[43m,\u001b[49m\u001b[43m \u001b[49m\u001b[43mloss_func\u001b[49m\u001b[43m)\u001b[49m]) \n\u001b[1;32m     36\u001b[0m model\u001b[38;5;241m.\u001b[39mtrain() \n\u001b[1;32m     37\u001b[0m \u001b[38;5;28mprint\u001b[39m(scheduler\u001b[38;5;241m.\u001b[39mget_lr()) \n",
      "Cell \u001b[0;32mIn[37], line 14\u001b[0m, in \u001b[0;36mvalidate\u001b[0;34m(model, validLoader, loss_func)\u001b[0m\n\u001b[1;32m     11\u001b[0m normedOutputs \u001b[38;5;241m=\u001b[39m nn\u001b[38;5;241m.\u001b[39mfunctional\u001b[38;5;241m.\u001b[39msoftmax(output\u001b[38;5;241m.\u001b[39mlogits)\n\u001b[1;32m     12\u001b[0m preds \u001b[38;5;241m=\u001b[39m normedOutputs\u001b[38;5;241m.\u001b[39margmax(dim\u001b[38;5;241m=\u001b[39m\u001b[38;5;241m1\u001b[39m)\n\u001b[0;32m---> 14\u001b[0m gt \u001b[38;5;241m=\u001b[39m \u001b[43mbatch\u001b[49m\u001b[43m[\u001b[49m\u001b[38;5;124;43m\"\u001b[39;49m\u001b[38;5;124;43mgroundTruth\u001b[39;49m\u001b[38;5;124;43m\"\u001b[39;49m\u001b[43m]\u001b[49m\u001b[38;5;241;43m.\u001b[39;49m\u001b[43mto\u001b[49m\u001b[43m(\u001b[49m\u001b[43mdevice\u001b[49m\u001b[43m)\u001b[49m\n\u001b[1;32m     16\u001b[0m \u001b[38;5;66;03m#print(f\"preds\\n{preds}\") \u001b[39;00m\n\u001b[1;32m     17\u001b[0m \u001b[38;5;66;03m#cross entropy loss\u001b[39;00m\n\u001b[1;32m     18\u001b[0m loss \u001b[38;5;241m=\u001b[39m loss_func(normedOutputs, gt)\n",
      "\u001b[0;31mKeyboardInterrupt\u001b[0m: "
     ]
    }
   ],
   "source": [
    "lossList = []\n",
    "validateList = []\n",
    "for epoch in range(EPOCHS):\n",
    "    print(\"EPOCH: \" + str(epoch))\n",
    "    #validateBi(model, validLoader, loss_func)\n",
    "    \n",
    "    model.train()  # make sure model is in training mode\n",
    "\n",
    "    #DEBUGGING\n",
    "    i = 0 \n",
    "    currLossList = []\n",
    "    for batch in tqdm(trainLoader):\n",
    "        optim.zero_grad()\n",
    "        \n",
    "        input_ids = batch[\"input_ids\"].to(device) \n",
    "        attention_mask = batch[\"attention_mask\"].to(device) \n",
    "        output = model(input_ids, attention_mask=attention_mask)\n",
    "        normedOutputs = nn.functional.softmax(output.logits) \n",
    "        #preds = normedOutputs.argmax(dim=1) \n",
    "        \n",
    "        gt = batch[\"groundTruth\"].to(device)\n",
    "        loss = loss_func(normedOutputs, gt)\n",
    "        \n",
    "        # using loss, calculate gradients and then optimize\n",
    "        loss.backward()\n",
    "        optim.step()\n",
    "        scheduler.step()\n",
    "        \n",
    "        if i % 150 == 0: \n",
    "            #for train loss\n",
    "            curLossList = []\n",
    "            lossList.append([i, np.mean(currLossList)])\n",
    "            \n",
    "            #for validation stuff\n",
    "            validateList.append([i, validate(model, validLoader, loss_func)]) \n",
    "            model.train() \n",
    "            print(scheduler.get_lr()) \n",
    "            \n",
    "        currLossList.append(loss.item()) \n",
    "        i += 1\n",
    "        \n",
    "        #DEBUGGING\n",
    "        \"\"\"\n",
    "        print(loss)\n",
    "        print(scheduler.get_last_lr())\n",
    "        \n",
    "        #see if model params have changed\n",
    "        param = list(model.parameters())[0].clone()\n",
    "        print(torch.equal(param.data, prevParam.data))\n",
    "        \"\"\"\n"
   ]
  },
  {
   "cell_type": "code",
   "execution_count": 39,
   "id": "baa0eb2f-22c1-450a-b06f-0751c0c1dc49",
   "metadata": {},
   "outputs": [],
   "source": [
    "lossDf = pd.DataFrame(lossList, columns=[\"iter\", \"loss\"]) "
   ]
  },
  {
   "cell_type": "code",
   "execution_count": 40,
   "id": "62ba86c0-f2ff-45e9-aae5-a2ea5b5366f0",
   "metadata": {},
   "outputs": [],
   "source": [
    "validDf = pd.DataFrame(validateList, columns=[\"iter\", \"f1\"]) "
   ]
  },
  {
   "cell_type": "code",
   "execution_count": 41,
   "id": "efd9eda0-f026-4f2b-8b15-01682e8d7278",
   "metadata": {},
   "outputs": [],
   "source": [
    "resultsDf = pd.merge(lossDf, validDf, on=\"iter\", how=\"inner\") "
   ]
  },
  {
   "cell_type": "code",
   "execution_count": 50,
   "id": "77daa4bc-8416-414b-9729-3ecc6c1b45c6",
   "metadata": {},
   "outputs": [
    {
     "data": {
      "text/plain": [
       "Text(0.5, 0.98, 'Predicting Hosts in Description Snippets Surrounding Named Entities')"
      ]
     },
     "execution_count": 50,
     "metadata": {},
     "output_type": "execute_result"
    },
    {
     "data": {
      "image/png": "[encoded data removed]",
      "text/plain": [
       "<Figure size 720x288 with 2 Axes>"
      ]
     },
     "metadata": {
      "needs_background": "light"
     },
     "output_type": "display_data"
    }
   ],
   "source": [
    "fig, axs = plt.subplots(1, 2, figsize=(10, 4)) \n",
    "sns.lineplot(data=resultsDf, x=\"iter\", y=\"loss\", ax=axs[0])\n",
    "sns.lineplot(data=resultsDf, x=\"iter\", y=\"f1\", ax=axs[1])\n",
    "axs[0].set_title(\"train loss\") \n",
    "axs[1].set_title(\"validation set f1\") \n",
    "fig.suptitle(\"Predicting Hosts in Description Snippets Surrounding Named Entities\", size=16) "
   ]
  },
  {
   "cell_type": "code",
   "execution_count": 192,
   "id": "be952161-3f4f-488b-9d08-67b71d75a287",
   "metadata": {},
   "outputs": [
    {
     "data": {
      "text/plain": [
       "0.6968264579772949"
      ]
     },
     "execution_count": 192,
     "metadata": {},
     "output_type": "execute_result"
    }
   ],
   "source": [
    "loss_func(normedOutputs, gt).item() "
   ]
  },
  {
   "cell_type": "code",
   "execution_count": 152,
   "id": "640e814f-fa17-43db-9371-70e8c18f128f",
   "metadata": {},
   "outputs": [],
   "source": [
    "model = model.to(device) "
   ]
  },
  {
   "cell_type": "code",
   "execution_count": 166,
   "id": "1362c504-d66b-4f61-adca-f0603f93cb84",
   "metadata": {},
   "outputs": [
    {
     "name": "stderr",
     "output_type": "stream",
     "text": [
      "<ipython-input-166-2fd2f66a40ba>:2: UserWarning: Implicit dimension choice for softmax has been deprecated. Change the call to include dim=X as an argument.\n",
      "  normedOutputs = nn.functional.softmax(output.logits)\n"
     ]
    }
   ],
   "source": [
    "output = model(input_ids, attention_mask=attention_masks)\n",
    "normedOutputs = nn.functional.softmax(output.logits) \n",
    "preds = normedOutputs.argmax(dim=1) "
   ]
  },
  {
   "cell_type": "code",
   "execution_count": null,
   "id": "1a52f790-d4bb-4ea3-b104-2625de737226",
   "metadata": {},
   "outputs": [],
   "source": []
  }
 ],
 "metadata": {
  "kernelspec": {
   "display_name": "Python 3",
   "language": "python",
   "name": "python3"
  },
  "language_info": {
   "codemirror_mode": {
    "name": "ipython",
    "version": 3
   },
   "file_extension": ".py",
   "mimetype": "text/x-python",
   "name": "python",
   "nbconvert_exporter": "python",
   "pygments_lexer": "ipython3",
   "version": "3.9.12"
  }
 },
 "nbformat": 4,
 "nbformat_minor": 5
}
