{
 "cells": [
  {
   "cell_type": "code",
   "execution_count": 335,
   "id": "d5f77837-0895-4e4e-bffc-f80c944d4f73",
   "metadata": {},
   "outputs": [],
   "source": [
    "import pandas as pd\n",
    "from tqdm import tqdm \n",
    "from sklearn.model_selection import train_test_split\n",
    "from fuzzywuzzy import fuzz\n",
    "import seaborn as sns"
   ]
  },
  {
   "cell_type": "code",
   "execution_count": 290,
   "id": "40a432ea-4300-43cb-b335-4c5dd89e2a70",
   "metadata": {},
   "outputs": [
    {
     "data": {
      "text/plain": [
       "'\\nOLD\\n#dataframe with the entities extracted from the introduction of each podcast \\nentDf = pd.read_csv(\"/shared/3/projects/benlitterer/podcastData/NER/podDescriptions/floydMonthNEs.tsv\", sep=\"\\t\", names=[\"potentialOutPath\", \"ent\", \"start\", \"end\", \"type\"])\\nentDf = entDf[entDf[\"type\"] == \"PERSON\"] \\n\\nentDf[\"potentialOutPath\"] = \"/shared/3/projects/benlitterer/podcastData/prosodyMerged/floydMonth\" + entDf[\"potentialOutPath\"] \\n\\n#metadata (this has author field)  \\nmetaDf = pd.read_csv(\"/shared/3/projects/benlitterer/podcastData/processed/floydMonth/floydMonthEn.csv\")\\nmetaDf[\"potentialOutPath\"] = \"/shared/3/projects/benlitterer/podcastData/prosodyMerged/floydMonth\" + metaDf[\"potentialOutPath\"]\\n'"
      ]
     },
     "execution_count": 290,
     "metadata": {},
     "output_type": "execute_result"
    }
   ],
   "source": [
    "\"\"\"\n",
    "OLD\n",
    "#dataframe with the entities extracted from the introduction of each podcast \n",
    "entDf = pd.read_csv(\"/shared/3/projects/benlitterer/podcastData/NER/podDescriptions/floydMonthNEs.tsv\", sep=\"\\t\", names=[\"potentialOutPath\", \"ent\", \"start\", \"end\", \"type\"])\n",
    "entDf = entDf[entDf[\"type\"] == \"PERSON\"] \n",
    "\n",
    "entDf[\"potentialOutPath\"] = \"/shared/3/projects/benlitterer/podcastData/prosodyMerged/floydMonth\" + entDf[\"potentialOutPath\"] \n",
    "\n",
    "#metadata (this has author field)  \n",
    "metaDf = pd.read_csv(\"/shared/3/projects/benlitterer/podcastData/processed/floydMonth/floydMonthEn.csv\")\n",
    "metaDf[\"potentialOutPath\"] = \"/shared/3/projects/benlitterer/podcastData/prosodyMerged/floydMonth\" + metaDf[\"potentialOutPath\"]\n",
    "\"\"\""
   ]
  },
  {
   "cell_type": "code",
   "execution_count": 439,
   "id": "08b77d84-d358-4220-bcd6-cb846a18f3f0",
   "metadata": {},
   "outputs": [],
   "source": [
    "loadedDf = pd.read_json(\"/shared/3/projects/benlitterer/podcastData/processed/floydMonth/floydMonthData.jsonl\", orient=\"records\", lines=True)"
   ]
  },
  {
   "cell_type": "code",
   "execution_count": 379,
   "id": "a80ae59e-e8a4-44cc-b260-76ec263088a4",
   "metadata": {},
   "outputs": [
    {
     "data": {
      "text/plain": [
       "Index(['potentialOutPath', 'transcript', 'rssUrl', 'epTitle', 'epDescription',\n",
       "       'duration', 'pubDate', 'copyright', 'itunes:type', 'itunes:complete',\n",
       "       'guid', 'itunes:explicit', 'enclosure', 'itunes:image', 'transDict',\n",
       "       'id', 'title', 'lastUpdate', 'link', 'lastHttpStatus', 'dead',\n",
       "       'contentType', 'itunesId', 'originalUrl', 'itunesAuthor',\n",
       "       'itunesOwnerName', 'explicit', 'imageUrl', 'itunesType', 'generator',\n",
       "       'newestItemPubdate', 'language', 'oldestItemPubdate', 'episodeCount',\n",
       "       'popularityScore', 'priority', 'createdOn', 'updateFrequency', 'chash',\n",
       "       'host', 'newestEnclosureUrl', 'podcastGuid', 'podDescription',\n",
       "       'category1', 'category2', 'category3', 'category4', 'category5',\n",
       "       'category6', 'category7', 'category8', 'category9', 'category10',\n",
       "       'newestEnclosureDuration', 'oldestItemDatetime', 'cleanDates',\n",
       "       'cleanDatesLoc', '500ent', '500start', '500end', '500type', 'DescEnt',\n",
       "       'DescStart', 'DescEnd', 'DescType'],\n",
       "      dtype='object')"
      ]
     },
     "execution_count": 379,
     "metadata": {},
     "output_type": "execute_result"
    }
   ],
   "source": [
    "df.columns"
   ]
  },
  {
   "cell_type": "code",
   "execution_count": 440,
   "id": "f5875479-2492-4cad-a3e9-926415f85647",
   "metadata": {},
   "outputs": [],
   "source": [
    "df = loadedDf[[\"potentialOutPath\",\"epTitle\", \"rssUrl\", \"transcript\", \"cleanDates\", \"first500\", \"500ent\", \"500start\", \"500end\", \"500type\", \"itunesAuthor\"]] \n"
   ]
  },
  {
   "cell_type": "code",
   "execution_count": 441,
   "id": "b2362728-ca29-462c-b92e-4cf2d75621d9",
   "metadata": {},
   "outputs": [],
   "source": [
    "df = df.explode([\"500ent\", \"500start\", \"500end\", \"500type\"])"
   ]
  },
  {
   "cell_type": "code",
   "execution_count": 442,
   "id": "c353925f-24c1-4254-aafc-8ff5eed3ad8a",
   "metadata": {},
   "outputs": [
    {
     "data": {
      "text/plain": [
       "(7481946, 11)"
      ]
     },
     "execution_count": 442,
     "metadata": {},
     "output_type": "execute_result"
    }
   ],
   "source": [
    "df.shape"
   ]
  },
  {
   "cell_type": "code",
   "execution_count": 443,
   "id": "954f0123-d502-4f32-b8a3-446e1fb90780",
   "metadata": {},
   "outputs": [],
   "source": [
    "df = df[df[\"500type\"] == \"PERSON\"]"
   ]
  },
  {
   "cell_type": "code",
   "execution_count": 444,
   "id": "b0b6bded-ff3e-4a91-ab83-f469fda2f335",
   "metadata": {},
   "outputs": [
    {
     "data": {
      "text/html": [
       "<div>\n",
       "<style scoped>\n",
       "    .dataframe tbody tr th:only-of-type {\n",
       "        vertical-align: middle;\n",
       "    }\n",
       "\n",
       "    .dataframe tbody tr th {\n",
       "        vertical-align: top;\n",
       "    }\n",
       "\n",
       "    .dataframe thead th {\n",
       "        text-align: right;\n",
       "    }\n",
       "</style>\n",
       "<table border=\"1\" class=\"dataframe\">\n",
       "  <thead>\n",
       "    <tr style=\"text-align: right;\">\n",
       "      <th></th>\n",
       "      <th>potentialOutPath</th>\n",
       "      <th>epTitle</th>\n",
       "      <th>rssUrl</th>\n",
       "      <th>transcript</th>\n",
       "      <th>cleanDates</th>\n",
       "      <th>first500</th>\n",
       "      <th>500ent</th>\n",
       "      <th>500start</th>\n",
       "      <th>500end</th>\n",
       "      <th>500type</th>\n",
       "      <th>itunesAuthor</th>\n",
       "    </tr>\n",
       "  </thead>\n",
       "  <tbody>\n",
       "    <tr>\n",
       "      <th>0</th>\n",
       "      <td>/shared/3/projects/be...</td>\n",
       "      <td>Today Is Yesterday</td>\n",
       "      <td>https://feeds.buzzspr...</td>\n",
       "      <td>I'm Simon Shapiro and...</td>\n",
       "      <td>2020-05-31 21:00:00+1...</td>\n",
       "      <td>content I'm Simon Sha...</td>\n",
       "      <td>Simon Shapiro</td>\n",
       "      <td>12</td>\n",
       "      <td>25</td>\n",
       "      <td>PERSON</td>\n",
       "      <td>Simon Shapiro</td>\n",
       "    </tr>\n",
       "    <tr>\n",
       "      <th>0</th>\n",
       "      <td>/shared/3/projects/be...</td>\n",
       "      <td>Today Is Yesterday</td>\n",
       "      <td>https://feeds.buzzspr...</td>\n",
       "      <td>I'm Simon Shapiro and...</td>\n",
       "      <td>2020-05-31 21:00:00+1...</td>\n",
       "      <td>content I'm Simon Sha...</td>\n",
       "      <td>Mike Haveername</td>\n",
       "      <td>1446</td>\n",
       "      <td>1461</td>\n",
       "      <td>PERSON</td>\n",
       "      <td>Simon Shapiro</td>\n",
       "    </tr>\n",
       "    <tr>\n",
       "      <th>0</th>\n",
       "      <td>/shared/3/projects/be...</td>\n",
       "      <td>Today Is Yesterday</td>\n",
       "      <td>https://feeds.buzzspr...</td>\n",
       "      <td>I'm Simon Shapiro and...</td>\n",
       "      <td>2020-05-31 21:00:00+1...</td>\n",
       "      <td>content I'm Simon Sha...</td>\n",
       "      <td>Lee Walker</td>\n",
       "      <td>1466</td>\n",
       "      <td>1476</td>\n",
       "      <td>PERSON</td>\n",
       "      <td>Simon Shapiro</td>\n",
       "    </tr>\n",
       "    <tr>\n",
       "      <th>0</th>\n",
       "      <td>/shared/3/projects/be...</td>\n",
       "      <td>Today Is Yesterday</td>\n",
       "      <td>https://feeds.buzzspr...</td>\n",
       "      <td>I'm Simon Shapiro and...</td>\n",
       "      <td>2020-05-31 21:00:00+1...</td>\n",
       "      <td>content I'm Simon Sha...</td>\n",
       "      <td>Lindsey Rhimes</td>\n",
       "      <td>2010</td>\n",
       "      <td>2024</td>\n",
       "      <td>PERSON</td>\n",
       "      <td>Simon Shapiro</td>\n",
       "    </tr>\n",
       "    <tr>\n",
       "      <th>1</th>\n",
       "      <td>/shared/3/projects/be...</td>\n",
       "      <td>Saturn Return</td>\n",
       "      <td>https://feeds.buzzspr...</td>\n",
       "      <td>I'm Simon Shapiro and...</td>\n",
       "      <td>2020-05-24 19:00:00+1...</td>\n",
       "      <td>content I'm Simon Sha...</td>\n",
       "      <td>Simon Shapiro</td>\n",
       "      <td>12</td>\n",
       "      <td>25</td>\n",
       "      <td>PERSON</td>\n",
       "      <td>Simon Shapiro</td>\n",
       "    </tr>\n",
       "  </tbody>\n",
       "</table>\n",
       "</div>"
      ],
      "text/plain": [
       "           potentialOutPath             epTitle                    rssUrl  \\\n",
       "0  /shared/3/projects/be...  Today Is Yesterday  https://feeds.buzzspr...   \n",
       "0  /shared/3/projects/be...  Today Is Yesterday  https://feeds.buzzspr...   \n",
       "0  /shared/3/projects/be...  Today Is Yesterday  https://feeds.buzzspr...   \n",
       "0  /shared/3/projects/be...  Today Is Yesterday  https://feeds.buzzspr...   \n",
       "1  /shared/3/projects/be...       Saturn Return  https://feeds.buzzspr...   \n",
       "\n",
       "                 transcript                cleanDates  \\\n",
       "0  I'm Simon Shapiro and...  2020-05-31 21:00:00+1...   \n",
       "0  I'm Simon Shapiro and...  2020-05-31 21:00:00+1...   \n",
       "0  I'm Simon Shapiro and...  2020-05-31 21:00:00+1...   \n",
       "0  I'm Simon Shapiro and...  2020-05-31 21:00:00+1...   \n",
       "1  I'm Simon Shapiro and...  2020-05-24 19:00:00+1...   \n",
       "\n",
       "                   first500           500ent 500start 500end 500type  \\\n",
       "0  content I'm Simon Sha...    Simon Shapiro       12     25  PERSON   \n",
       "0  content I'm Simon Sha...  Mike Haveername     1446   1461  PERSON   \n",
       "0  content I'm Simon Sha...       Lee Walker     1466   1476  PERSON   \n",
       "0  content I'm Simon Sha...   Lindsey Rhimes     2010   2024  PERSON   \n",
       "1  content I'm Simon Sha...    Simon Shapiro       12     25  PERSON   \n",
       "\n",
       "    itunesAuthor  \n",
       "0  Simon Shapiro  \n",
       "0  Simon Shapiro  \n",
       "0  Simon Shapiro  \n",
       "0  Simon Shapiro  \n",
       "1  Simon Shapiro  "
      ]
     },
     "execution_count": 444,
     "metadata": {},
     "output_type": "execute_result"
    }
   ],
   "source": [
    "df.head() "
   ]
  },
  {
   "cell_type": "code",
   "execution_count": 417,
   "id": "3ccc18e5-4d9b-4a68-8590-ad06dda0a096",
   "metadata": {},
   "outputs": [
    {
     "data": {
      "text/plain": [
       "103353"
      ]
     },
     "execution_count": 417,
     "metadata": {},
     "output_type": "execute_result"
    }
   ],
   "source": [
    "len(df[\"rssUrl\"].unique())"
   ]
  },
  {
   "cell_type": "code",
   "execution_count": 445,
   "id": "64af861f-35bd-4311-9c92-3c3e79582723",
   "metadata": {},
   "outputs": [],
   "source": [
    "#we only want entities with two words \n",
    "df = df[df[\"500ent\"].apply(lambda x: len(x.split())) == 2]"
   ]
  },
  {
   "cell_type": "code",
   "execution_count": 447,
   "id": "f7ef2583-2f27-4c67-9e8d-7712acf3563f",
   "metadata": {},
   "outputs": [
    {
     "data": {
      "text/html": [
       "<div>\n",
       "<style scoped>\n",
       "    .dataframe tbody tr th:only-of-type {\n",
       "        vertical-align: middle;\n",
       "    }\n",
       "\n",
       "    .dataframe tbody tr th {\n",
       "        vertical-align: top;\n",
       "    }\n",
       "\n",
       "    .dataframe thead th {\n",
       "        text-align: right;\n",
       "    }\n",
       "</style>\n",
       "<table border=\"1\" class=\"dataframe\">\n",
       "  <thead>\n",
       "    <tr style=\"text-align: right;\">\n",
       "      <th></th>\n",
       "      <th>potentialOutPath</th>\n",
       "      <th>epTitle</th>\n",
       "      <th>rssUrl</th>\n",
       "      <th>transcript</th>\n",
       "      <th>cleanDates</th>\n",
       "      <th>first500</th>\n",
       "      <th>500ent</th>\n",
       "      <th>500start</th>\n",
       "      <th>500end</th>\n",
       "      <th>500type</th>\n",
       "      <th>itunesAuthor</th>\n",
       "    </tr>\n",
       "  </thead>\n",
       "  <tbody>\n",
       "    <tr>\n",
       "      <th>0</th>\n",
       "      <td>/shared/3/projects/be...</td>\n",
       "      <td>Today Is Yesterday</td>\n",
       "      <td>https://feeds.buzzspr...</td>\n",
       "      <td>I'm Simon Shapiro and...</td>\n",
       "      <td>2020-05-31 21:00:00+1...</td>\n",
       "      <td>content I'm Simon Sha...</td>\n",
       "      <td>Simon Shapiro</td>\n",
       "      <td>12</td>\n",
       "      <td>25</td>\n",
       "      <td>PERSON</td>\n",
       "      <td>Simon Shapiro</td>\n",
       "    </tr>\n",
       "    <tr>\n",
       "      <th>0</th>\n",
       "      <td>/shared/3/projects/be...</td>\n",
       "      <td>Today Is Yesterday</td>\n",
       "      <td>https://feeds.buzzspr...</td>\n",
       "      <td>I'm Simon Shapiro and...</td>\n",
       "      <td>2020-05-31 21:00:00+1...</td>\n",
       "      <td>content I'm Simon Sha...</td>\n",
       "      <td>Mike Haveername</td>\n",
       "      <td>1446</td>\n",
       "      <td>1461</td>\n",
       "      <td>PERSON</td>\n",
       "      <td>Simon Shapiro</td>\n",
       "    </tr>\n",
       "    <tr>\n",
       "      <th>0</th>\n",
       "      <td>/shared/3/projects/be...</td>\n",
       "      <td>Today Is Yesterday</td>\n",
       "      <td>https://feeds.buzzspr...</td>\n",
       "      <td>I'm Simon Shapiro and...</td>\n",
       "      <td>2020-05-31 21:00:00+1...</td>\n",
       "      <td>content I'm Simon Sha...</td>\n",
       "      <td>Lee Walker</td>\n",
       "      <td>1466</td>\n",
       "      <td>1476</td>\n",
       "      <td>PERSON</td>\n",
       "      <td>Simon Shapiro</td>\n",
       "    </tr>\n",
       "    <tr>\n",
       "      <th>0</th>\n",
       "      <td>/shared/3/projects/be...</td>\n",
       "      <td>Today Is Yesterday</td>\n",
       "      <td>https://feeds.buzzspr...</td>\n",
       "      <td>I'm Simon Shapiro and...</td>\n",
       "      <td>2020-05-31 21:00:00+1...</td>\n",
       "      <td>content I'm Simon Sha...</td>\n",
       "      <td>Lindsey Rhimes</td>\n",
       "      <td>2010</td>\n",
       "      <td>2024</td>\n",
       "      <td>PERSON</td>\n",
       "      <td>Simon Shapiro</td>\n",
       "    </tr>\n",
       "    <tr>\n",
       "      <th>1</th>\n",
       "      <td>/shared/3/projects/be...</td>\n",
       "      <td>Saturn Return</td>\n",
       "      <td>https://feeds.buzzspr...</td>\n",
       "      <td>I'm Simon Shapiro and...</td>\n",
       "      <td>2020-05-24 19:00:00+1...</td>\n",
       "      <td>content I'm Simon Sha...</td>\n",
       "      <td>Simon Shapiro</td>\n",
       "      <td>12</td>\n",
       "      <td>25</td>\n",
       "      <td>PERSON</td>\n",
       "      <td>Simon Shapiro</td>\n",
       "    </tr>\n",
       "  </tbody>\n",
       "</table>\n",
       "</div>"
      ],
      "text/plain": [
       "           potentialOutPath             epTitle                    rssUrl  \\\n",
       "0  /shared/3/projects/be...  Today Is Yesterday  https://feeds.buzzspr...   \n",
       "0  /shared/3/projects/be...  Today Is Yesterday  https://feeds.buzzspr...   \n",
       "0  /shared/3/projects/be...  Today Is Yesterday  https://feeds.buzzspr...   \n",
       "0  /shared/3/projects/be...  Today Is Yesterday  https://feeds.buzzspr...   \n",
       "1  /shared/3/projects/be...       Saturn Return  https://feeds.buzzspr...   \n",
       "\n",
       "                 transcript                cleanDates  \\\n",
       "0  I'm Simon Shapiro and...  2020-05-31 21:00:00+1...   \n",
       "0  I'm Simon Shapiro and...  2020-05-31 21:00:00+1...   \n",
       "0  I'm Simon Shapiro and...  2020-05-31 21:00:00+1...   \n",
       "0  I'm Simon Shapiro and...  2020-05-31 21:00:00+1...   \n",
       "1  I'm Simon Shapiro and...  2020-05-24 19:00:00+1...   \n",
       "\n",
       "                   first500           500ent 500start 500end 500type  \\\n",
       "0  content I'm Simon Sha...    Simon Shapiro       12     25  PERSON   \n",
       "0  content I'm Simon Sha...  Mike Haveername     1446   1461  PERSON   \n",
       "0  content I'm Simon Sha...       Lee Walker     1466   1476  PERSON   \n",
       "0  content I'm Simon Sha...   Lindsey Rhimes     2010   2024  PERSON   \n",
       "1  content I'm Simon Sha...    Simon Shapiro       12     25  PERSON   \n",
       "\n",
       "    itunesAuthor  \n",
       "0  Simon Shapiro  \n",
       "0  Simon Shapiro  \n",
       "0  Simon Shapiro  \n",
       "0  Simon Shapiro  \n",
       "1  Simon Shapiro  "
      ]
     },
     "execution_count": 447,
     "metadata": {},
     "output_type": "execute_result"
    }
   ],
   "source": [
    "df.head() "
   ]
  },
  {
   "cell_type": "code",
   "execution_count": 458,
   "id": "4f0f5f68-c3f4-4986-976c-76037c2206c2",
   "metadata": {},
   "outputs": [],
   "source": [
    "BEFORE_BUFF = 30\n",
    "AFTER_BUFF=30\n",
    "#PUNCH IN HERE\n",
    "def getSnippet(row): \n",
    "    #find where the entity starts quick \n",
    "   # row[\"snippetStart\"] = trainDf.apply(lambda x: x[\"entSnippets\"].lower().find(x[\"ent\"].lower()), axis=1)\n",
    "    \n",
    "    snippet = row[\"first500\"]\n",
    "    entStart = row[\"500start\"]\n",
    "    entEnd = row[\"500end\"]\n",
    "\n",
    "\n",
    "    beforeWords = snippet[0:entStart].split(\" \")\n",
    "    if len(beforeWords) >= BEFORE_BUFF: \n",
    "        buffStart = \" \".join(beforeWords[-BEFORE_BUFF:]) \n",
    "    else: \n",
    "        buffStart = \" \".join(beforeWords) \n",
    "\n",
    "\n",
    "    afterWords = snippet[entEnd:len(snippet)].split(\" \")\n",
    "    if len(afterWords) >= AFTER_BUFF: \n",
    "        buffEnd = \" \".join(afterWords[:AFTER_BUFF]) \n",
    "    else: \n",
    "        buffEnd = \" \".join(afterWords) \n",
    "    return [buffStart, snippet[entStart:entEnd], buffEnd]\n",
    "            \n",
    "#BUFFER = 10 \n",
    "#= pd.DataFrame(list(df.head(100000).apply(getSnippet, axis=1)))"
   ]
  },
  {
   "cell_type": "code",
   "execution_count": 465,
   "id": "ff668d07-0644-43ee-abc9-daa074ca9ea2",
   "metadata": {},
   "outputs": [],
   "source": [
    "#generate the chunks on left and right that we want to use \n",
    "df[[\"left\", \"ent\", \"right\"]] = pd.DataFrame(df.apply(getSnippet, axis=1).tolist(), index=df.index)"
   ]
  },
  {
   "cell_type": "code",
   "execution_count": 466,
   "id": "046c1324-61bb-4151-9bc3-1c4c8ec02bf4",
   "metadata": {},
   "outputs": [],
   "source": [
    "df = df.drop(columns=[\"transcript\"])"
   ]
  },
  {
   "cell_type": "code",
   "execution_count": 471,
   "id": "f95c8163-8608-4514-be70-8271a654a263",
   "metadata": {},
   "outputs": [
    {
     "data": {
      "text/plain": [
       "Index(['potentialOutPath', 'epTitle', 'rssUrl', 'cleanDates', 'first500',\n",
       "       '500ent', '500start', '500end', '500type', 'itunesAuthor', 'left',\n",
       "       'ent', 'right'],\n",
       "      dtype='object')"
      ]
     },
     "execution_count": 471,
     "metadata": {},
     "output_type": "execute_result"
    }
   ],
   "source": [
    "df.columns"
   ]
  },
  {
   "cell_type": "code",
   "execution_count": 472,
   "id": "4d5ba865-f07d-4534-ac5c-07ad29032676",
   "metadata": {},
   "outputs": [],
   "source": [
    "df = df.dropna(subset=['potentialOutPath', 'rssUrl', 'first500',\n",
    "       '500ent', '500start', '500end', '500type', 'left',\n",
    "       'ent', 'right']) "
   ]
  },
  {
   "cell_type": "code",
   "execution_count": 473,
   "id": "740dd111-1904-4107-bd4c-6de985ee11e8",
   "metadata": {},
   "outputs": [],
   "source": [
    "def getLevenshtein(inRow):  \n",
    "    return fuzz.ratio(inRow[\"500ent\"].lower(), inRow[\"itunesAuthor\"].lower())"
   ]
  },
  {
   "cell_type": "code",
   "execution_count": 474,
   "id": "8570fb7e-ff9b-49e1-bea6-1b6c7423549d",
   "metadata": {},
   "outputs": [],
   "source": [
    "df = df[(df[\"itunesAuthor\"] == df[\"itunesAuthor\"]) & (df[\"500ent\"] == df[\"500ent\"])]"
   ]
  },
  {
   "cell_type": "code",
   "execution_count": 475,
   "id": "c105ae4c-4790-4b19-9a52-6aca1e925ffc",
   "metadata": {},
   "outputs": [
    {
     "data": {
      "text/plain": [
       "(642392, 13)"
      ]
     },
     "execution_count": 475,
     "metadata": {},
     "output_type": "execute_result"
    }
   ],
   "source": [
    "df.shape"
   ]
  },
  {
   "cell_type": "code",
   "execution_count": 476,
   "id": "97d89a72-24d8-4651-8817-908bb9d37714",
   "metadata": {},
   "outputs": [],
   "source": [
    "df[\"levenshtein\"] = df.apply(getLevenshtein, axis=1) "
   ]
  },
  {
   "cell_type": "code",
   "execution_count": 477,
   "id": "f9ef7880-5e2a-4f69-bfdd-b4068d1908a7",
   "metadata": {},
   "outputs": [
    {
     "data": {
      "text/plain": [
       "<Axes: xlabel='levenshtein', ylabel='Count'>"
      ]
     },
     "execution_count": 477,
     "metadata": {},
     "output_type": "execute_result"
    },
    {
     "data": {
      "image/png": "[encoded data removed]",
      "text/plain": [
       "<Figure size 432x288 with 1 Axes>"
      ]
     },
     "metadata": {
      "needs_background": "light"
     },
     "output_type": "display_data"
    }
   ],
   "source": [
    "sns.histplot(data=df.sample(5000), x=\"levenshtein\")"
   ]
  },
  {
   "cell_type": "code",
   "execution_count": 482,
   "id": "d8f71bed-4cff-4207-a14c-16229aa7459e",
   "metadata": {},
   "outputs": [],
   "source": [
    "#use the splits from description data creation here\n",
    "IN_STEM = \"/shared/3/projects/benlitterer/podcastData/hostIdentification/trainTestVal2_5/\"\n",
    "descTrain = pd.read_csv(IN_STEM + \"descTrain.csv\")\n",
    "descVal = pd.read_csv(IN_STEM + \"descVal.csv\")\n",
    "descTest = pd.read_csv(IN_STEM + \"descTest.csv\")"
   ]
  },
  {
   "cell_type": "code",
   "execution_count": 484,
   "id": "5660e09f-38a0-4ae7-9b0d-bfe63bdcf1a7",
   "metadata": {},
   "outputs": [],
   "source": [
    "train = set(descTrain[\"rssUrl\"].unique()) \n",
    "val = set(descVal[\"rssUrl\"].unique()) \n",
    "test = set(descTest[\"rssUrl\"].unique()) "
   ]
  },
  {
   "cell_type": "code",
   "execution_count": 491,
   "id": "3181e777-f39c-41bd-8f61-70ea30ef5346",
   "metadata": {},
   "outputs": [],
   "source": [
    "trainDf = df[df[\"rssUrl\"].isin(train)]\n",
    "trainDf = trainDf.sample(len(trainDf), random_state=10)\n",
    "\n",
    "valDf = df[df[\"rssUrl\"].isin(val)]\n",
    "valDf = valDf.sample(len(valDf), random_state=10)\n",
    "\n",
    "testDf = df[df[\"rssUrl\"].isin(test)].sample()\n",
    "testDf = testDf.sample(len(testDf), random_state=10) "
   ]
  },
  {
   "cell_type": "code",
   "execution_count": 492,
   "id": "61873bf1-6b75-422c-b0c5-4ba416099986",
   "metadata": {},
   "outputs": [],
   "source": [
    "#TODO: go back and get only the rows that we have already coded descriptions for \n",
    "OUT_STEM = \"/shared/3/projects/benlitterer/podcastData/hostIdentification/trainTestVal2_5/\"\n",
    "\n",
    "trainDf.to_csv(OUT_STEM + \"500train.csv\")\n",
    "valDf.to_csv(OUT_STEM + \"500val.csv\")\n",
    "testDf.to_csv(OUT_STEM + \"500test.csv\")"
   ]
  },
  {
   "cell_type": "code",
   "execution_count": 280,
   "id": "39285efc-d627-401e-b8c5-d0ea7a12131e",
   "metadata": {},
   "outputs": [],
   "source": [
    "\"\"\"\n",
    "should actually be in code for descriptions\n",
    "#now split the data up according to what will is used for train, validation, test \n",
    "rssList = list(df[\"rssUrl\"].unique())\n",
    "\n",
    "train, test = train_test_split(rssList, train_size=.7, test_size=.3, random_state = 10) \n",
    "\n",
    "val, test = train_test_split(test, train_size=.333, random_state = 10) \n",
    "\n",
    "print(len(train))\n",
    "print(len(val))\n",
    "print(len(test))\n",
    "\n",
    "\n",
    "\n",
    "#keep only rows where itunesAuthor has 2 words \n",
    "trainDf = df[df[\"rssUrl\"].isin(train)].sample(len(trainDf))\n",
    "trainDf = trainDf[trainDf[\"itunesAuthor\"].apply(lambda x: len(x.split()) == 2)]\n",
    "trainPos = trainDf[trainDf[\"levenshtein\"] >= 80]\n",
    "trainNeg = trainDf[trainDf[\"levenshtein\"] < 40]\n",
    "\n",
    "#keep only rows where itunesAuthor has 2 words \n",
    "valDf = df[df[\"rssUrl\"].isin(val)].sample(len(valDf))\n",
    "valDf = valDf[valDf[\"itunesAuthor\"].apply(lambda x: len(x.split()) == 2)]\n",
    "valPos = valDf[valDf[\"levenshtein\"] >= 80]\n",
    "valNeg = valDf[valDf[\"levenshtein\"] < 40]\n",
    "\n",
    "testDf = df[df[\"rssUrl\"].isin(test)].sample(len(testDf))\n",
    "\n",
    "OUT_STEM = \"/shared/3/projects/benlitterer/podcastData/hostIdentification/trainTestVal2_5/\"\n",
    "\n",
    "valDf.to_csv(OUT_STEM + \"descVal.csv\")\n",
    "\n",
    "trainDf.to_csv(OUT_STEM + \"descTrain.csv\")\n",
    "\n",
    "trainPos.to_csv(OUT_STEM + \"descTrainPos.csv\")\n",
    "trainNeg.to_csv(OUT_STEM + \"descTrainNeg.csv\")\n",
    "\n",
    "valPos.to_csv(OUT_STEM + \"descValPos.csv\")\n",
    "valNeg.to_csv(OUT_STEM + \"descValNeg.csv\")\n",
    "\n",
    "testDf.to_csv(OUT_STEM + \"descTest.csv\")\n",
    "#testDfPos.to_csv(OUT_STEM + \"descTestPos.csv\", orient=\"records\", lines=True)\n",
    "#testDfNeg.to_csv(OUT_STEM + \"descTestNeg.csv\", orient=\"records\", lines=True)\n",
    "\"\"\""
   ]
  },
  {
   "cell_type": "code",
   "execution_count": null,
   "id": "a7051302-ec29-45a6-97c2-87f0c244c93e",
   "metadata": {},
   "outputs": [],
   "source": []
  }
 ],
 "metadata": {
  "kernelspec": {
   "display_name": "Python 3",
   "language": "python",
   "name": "python3"
  },
  "language_info": {
   "codemirror_mode": {
    "name": "ipython",
    "version": 3
   },
   "file_extension": ".py",
   "mimetype": "text/x-python",
   "name": "python",
   "nbconvert_exporter": "python",
   "pygments_lexer": "ipython3",
   "version": "3.9.12"
  }
 },
 "nbformat": 4,
 "nbformat_minor": 5
}
