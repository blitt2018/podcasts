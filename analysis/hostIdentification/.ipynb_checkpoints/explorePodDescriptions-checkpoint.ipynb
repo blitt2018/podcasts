{
 "cells": [
  {
   "cell_type": "code",
   "execution_count": 253,
   "id": "557ebe09-7569-43e2-9cb3-8a369e175dcf",
   "metadata": {},
   "outputs": [],
   "source": [
    "import pandas as pd\n",
    "import re\n",
    "import seaborn as sns\n",
    "import matplotlib.pyplot as plt"
   ]
  },
  {
   "cell_type": "code",
   "execution_count": 305,
   "id": "820a885d-5408-4fcc-8b08-f8c7bee8be08",
   "metadata": {},
   "outputs": [],
   "source": [
    "entDf = pd.read_csv(\"/shared/3/projects/benlitterer/podcastData/NER/podDescriptions/floydMonthNEs.csv\", names=[\"potentialOutPath\", \"ent\", \"start\", \"end\", \"type\"])"
   ]
  },
  {
   "cell_type": "code",
   "execution_count": 307,
   "id": "f6819c10-772e-4936-a862-74431f2ce66a",
   "metadata": {},
   "outputs": [
    {
     "data": {
      "text/html": [
       "<div>\n",
       "<style scoped>\n",
       "    .dataframe tbody tr th:only-of-type {\n",
       "        vertical-align: middle;\n",
       "    }\n",
       "\n",
       "    .dataframe tbody tr th {\n",
       "        vertical-align: top;\n",
       "    }\n",
       "\n",
       "    .dataframe thead th {\n",
       "        text-align: right;\n",
       "    }\n",
       "</style>\n",
       "<table border=\"1\" class=\"dataframe\">\n",
       "  <thead>\n",
       "    <tr style=\"text-align: right;\">\n",
       "      <th></th>\n",
       "      <th>potentialOutPath</th>\n",
       "      <th>ent</th>\n",
       "      <th>start</th>\n",
       "      <th>end</th>\n",
       "      <th>type</th>\n",
       "    </tr>\n",
       "  </thead>\n",
       "  <tbody>\n",
       "    <tr>\n",
       "      <th>2592962</th>\n",
       "      <td>/anchor.fm/2t/httpsanchor.fms119f5f54podcastplay14183790https3A2F2Fd3ctxlq1ktw2nl.cloudfront.net2Fstaging2F202006152F501f5efbe...</td>\n",
       "      <td>English</td>\n",
       "      <td>113</td>\n",
       "      <td>120</td>\n",
       "      <td>LANGUAGE</td>\n",
       "    </tr>\n",
       "    <tr>\n",
       "      <th>2592963</th>\n",
       "      <td>/www.buzzsprout.com/ie/httpswww.buzzsprout.com10089164036991episode73blacklivesmatterandbuildingamoreinclusivehobbycommunity.m...</td>\n",
       "      <td>Melalui</td>\n",
       "      <td>0</td>\n",
       "      <td>7</td>\n",
       "      <td>ORG</td>\n",
       "    </tr>\n",
       "    <tr>\n",
       "      <th>2592964</th>\n",
       "      <td>/www.buzzsprout.com/ie/httpswww.buzzsprout.com10089164036991episode73blacklivesmatterandbuildingamoreinclusivehobbycommunity.m...</td>\n",
       "      <td>ini</td>\n",
       "      <td>16</td>\n",
       "      <td>19</td>\n",
       "      <td>PERSON</td>\n",
       "    </tr>\n",
       "    <tr>\n",
       "      <th>2592965</th>\n",
       "      <td>/www.buzzsprout.com/ie/httpswww.buzzsprout.com10089164036991episode73blacklivesmatterandbuildingamoreinclusivehobbycommunity.m...</td>\n",
       "      <td>aku</td>\n",
       "      <td>21</td>\n",
       "      <td>24</td>\n",
       "      <td>ORG</td>\n",
       "    </tr>\n",
       "    <tr>\n",
       "      <th>2592966</th>\n",
       "      <td>/www.buzzsprout.com/ie/httpswww.buzzsprout.com10089164036991episode73blacklivesmatterandbuildingamoreinclusivehobbycommunity.m...</td>\n",
       "      <td>berbagi pengetahuan dan pengalaman dalam</td>\n",
       "      <td>31</td>\n",
       "      <td>71</td>\n",
       "      <td>PERSON</td>\n",
       "    </tr>\n",
       "    <tr>\n",
       "      <th>2592967</th>\n",
       "      <td>/www.buzzsprout.com/ie/httpswww.buzzsprout.com10089164036991episode73blacklivesmatterandbuildingamoreinclusivehobbycommunity.m...</td>\n",
       "      <td>dunia hipnotisme dan</td>\n",
       "      <td>72</td>\n",
       "      <td>92</td>\n",
       "      <td>PERSON</td>\n",
       "    </tr>\n",
       "    <tr>\n",
       "      <th>2592968</th>\n",
       "      <td>/www.buzzsprout.com/ie/httpswww.buzzsprout.com10089164036991episode73blacklivesmatterandbuildingamoreinclusivehobbycommunity.m...</td>\n",
       "      <td>English</td>\n",
       "      <td>113</td>\n",
       "      <td>120</td>\n",
       "      <td>LANGUAGE</td>\n",
       "    </tr>\n",
       "    <tr>\n",
       "      <th>2592969</th>\n",
       "      <td>/www.buzzsprout.com/eo/httpswww.buzzsprout.com10089163939638bonusepisodenew40kortalkingabouttheneweditionofwarhammer40k.mp3MERGED</td>\n",
       "      <td>خط‌ خطی‌های ذهنِ وحیده</td>\n",
       "      <td>0</td>\n",
       "      <td>22</td>\n",
       "      <td>ORG</td>\n",
       "    </tr>\n",
       "    <tr>\n",
       "      <th>2592970</th>\n",
       "      <td>/www.buzzsprout.com/eo/httpswww.buzzsprout.com10089163939638bonusepisodenew40kortalkingabouttheneweditionofwarhammer40k.mp3MERGED</td>\n",
       "      <td>روانشناسی</td>\n",
       "      <td>75</td>\n",
       "      <td>84</td>\n",
       "      <td>ORG</td>\n",
       "    </tr>\n",
       "    <tr>\n",
       "      <th>2592971</th>\n",
       "      <td>/www.buzzsprout.com/eo/httpswww.buzzsprout.com10089163939638bonusepisodenew40kortalkingabouttheneweditionofwarhammer40k.mp3MERGED</td>\n",
       "      <td>اجنبی، پادکست، توسعه</td>\n",
       "      <td>109</td>\n",
       "      <td>129</td>\n",
       "      <td>PERSON</td>\n",
       "    </tr>\n",
       "    <tr>\n",
       "      <th>2592972</th>\n",
       "      <td>/www.buzzsprout.com/eo/httpswww.buzzsprout.com10089163939638bonusepisodenew40kortalkingabouttheneweditionofwarhammer40k.mp3MERGED</td>\n",
       "      <td>آموزش</td>\n",
       "      <td>189</td>\n",
       "      <td>194</td>\n",
       "      <td>NORP</td>\n",
       "    </tr>\n",
       "    <tr>\n",
       "      <th>2592973</th>\n",
       "      <td>/www.buzzsprout.com/eo/httpswww.buzzsprout.com10089163939638bonusepisodenew40kortalkingabouttheneweditionofwarhammer40k.mp3MERGED</td>\n",
       "      <td>grey</td>\n",
       "      <td>220</td>\n",
       "      <td>224</td>\n",
       "      <td>PERSON</td>\n",
       "    </tr>\n",
       "    <tr>\n",
       "      <th>2592974</th>\n",
       "      <td>/www.buzzsprout.com/eo/httpswww.buzzsprout.com10089163939638bonusepisodenew40kortalkingabouttheneweditionofwarhammer40k.mp3MERGED</td>\n",
       "      <td>font-size:0.75em</td>\n",
       "      <td>226</td>\n",
       "      <td>242</td>\n",
       "      <td>ORG</td>\n",
       "    </tr>\n",
       "    <tr>\n",
       "      <th>2592975</th>\n",
       "      <td>/www.buzzsprout.com/eo/httpswww.buzzsprout.com10089163939638bonusepisodenew40kortalkingabouttheneweditionofwarhammer40k.mp3MERGED</td>\n",
       "      <td>grey</td>\n",
       "      <td>283</td>\n",
       "      <td>287</td>\n",
       "      <td>PERSON</td>\n",
       "    </tr>\n",
       "    <tr>\n",
       "      <th>2592976</th>\n",
       "      <td>/www.buzzsprout.com/eo/httpswww.buzzsprout.com10089163939638bonusepisodenew40kortalkingabouttheneweditionofwarhammer40k.mp3MERGED</td>\n",
       "      <td>href='https://acast.com/privacy'&gt;acast.com/privacy&lt;/a&gt;</td>\n",
       "      <td>332</td>\n",
       "      <td>386</td>\n",
       "      <td>ORG</td>\n",
       "    </tr>\n",
       "  </tbody>\n",
       "</table>\n",
       "</div>"
      ],
      "text/plain": [
       "                                                                                                                          potentialOutPath                                                     ent  start  end      type\n",
       "2592962  /anchor.fm/2t/httpsanchor.fms119f5f54podcastplay14183790https3A2F2Fd3ctxlq1ktw2nl.cloudfront.net2Fstaging2F202006152F501f5efbe...                                                 English    113  120  LANGUAGE\n",
       "2592963  /www.buzzsprout.com/ie/httpswww.buzzsprout.com10089164036991episode73blacklivesmatterandbuildingamoreinclusivehobbycommunity.m...                                                 Melalui      0    7       ORG\n",
       "2592964  /www.buzzsprout.com/ie/httpswww.buzzsprout.com10089164036991episode73blacklivesmatterandbuildingamoreinclusivehobbycommunity.m...                                                     ini     16   19    PERSON\n",
       "2592965  /www.buzzsprout.com/ie/httpswww.buzzsprout.com10089164036991episode73blacklivesmatterandbuildingamoreinclusivehobbycommunity.m...                                                     aku     21   24       ORG\n",
       "2592966  /www.buzzsprout.com/ie/httpswww.buzzsprout.com10089164036991episode73blacklivesmatterandbuildingamoreinclusivehobbycommunity.m...                berbagi pengetahuan dan pengalaman dalam     31   71    PERSON\n",
       "2592967  /www.buzzsprout.com/ie/httpswww.buzzsprout.com10089164036991episode73blacklivesmatterandbuildingamoreinclusivehobbycommunity.m...                                    dunia hipnotisme dan     72   92    PERSON\n",
       "2592968  /www.buzzsprout.com/ie/httpswww.buzzsprout.com10089164036991episode73blacklivesmatterandbuildingamoreinclusivehobbycommunity.m...                                                 English    113  120  LANGUAGE\n",
       "2592969  /www.buzzsprout.com/eo/httpswww.buzzsprout.com10089163939638bonusepisodenew40kortalkingabouttheneweditionofwarhammer40k.mp3MERGED                                  خط‌ خطی‌های ذهنِ وحیده      0   22       ORG\n",
       "2592970  /www.buzzsprout.com/eo/httpswww.buzzsprout.com10089163939638bonusepisodenew40kortalkingabouttheneweditionofwarhammer40k.mp3MERGED                                               روانشناسی     75   84       ORG\n",
       "2592971  /www.buzzsprout.com/eo/httpswww.buzzsprout.com10089163939638bonusepisodenew40kortalkingabouttheneweditionofwarhammer40k.mp3MERGED                                    اجنبی، پادکست، توسعه    109  129    PERSON\n",
       "2592972  /www.buzzsprout.com/eo/httpswww.buzzsprout.com10089163939638bonusepisodenew40kortalkingabouttheneweditionofwarhammer40k.mp3MERGED                                                   آموزش    189  194      NORP\n",
       "2592973  /www.buzzsprout.com/eo/httpswww.buzzsprout.com10089163939638bonusepisodenew40kortalkingabouttheneweditionofwarhammer40k.mp3MERGED                                                    grey    220  224    PERSON\n",
       "2592974  /www.buzzsprout.com/eo/httpswww.buzzsprout.com10089163939638bonusepisodenew40kortalkingabouttheneweditionofwarhammer40k.mp3MERGED                                        font-size:0.75em    226  242       ORG\n",
       "2592975  /www.buzzsprout.com/eo/httpswww.buzzsprout.com10089163939638bonusepisodenew40kortalkingabouttheneweditionofwarhammer40k.mp3MERGED                                                    grey    283  287    PERSON\n",
       "2592976  /www.buzzsprout.com/eo/httpswww.buzzsprout.com10089163939638bonusepisodenew40kortalkingabouttheneweditionofwarhammer40k.mp3MERGED  href='https://acast.com/privacy'>acast.com/privacy</a>    332  386       ORG"
      ]
     },
     "execution_count": 307,
     "metadata": {},
     "output_type": "execute_result"
    }
   ],
   "source": [
    "entDf.tail(15)"
   ]
  },
  {
   "cell_type": "code",
   "execution_count": 8,
   "id": "924db17d-5fb5-4e48-a1c2-2fb714529a36",
   "metadata": {},
   "outputs": [],
   "source": [
    "entDf = entDf[entDf[\"type\"] == \"PERSON\"] "
   ]
  },
  {
   "cell_type": "code",
   "execution_count": 4,
   "id": "4b3a7b71-1427-4eda-bf99-b0c8a1c8825c",
   "metadata": {},
   "outputs": [
    {
     "name": "stderr",
     "output_type": "stream",
     "text": [
      "/tmp/ipykernel_3696343/1612250988.py:1: DtypeWarning: Columns (6,7,8,12,20,49) have mixed types. Specify dtype option on import or set low_memory=False.\n",
      "  metaDf = pd.read_csv(\"/shared/3/projects/benlitterer/podcastData/processed/floydMonth/floydMonthEnSHORT.csv\")\n"
     ]
    }
   ],
   "source": [
    "metaDf = pd.read_csv(\"/shared/3/projects/benlitterer/podcastData/processed/floydMonth/floydMonthEnSHORT.csv\")"
   ]
  },
  {
   "cell_type": "code",
   "execution_count": 45,
   "id": "8177d4c7-33c4-4094-baa3-cbca2523ece4",
   "metadata": {},
   "outputs": [
    {
     "data": {
      "text/plain": [
       "(769161, 57)"
      ]
     },
     "execution_count": 45,
     "metadata": {},
     "output_type": "execute_result"
    }
   ],
   "source": [
    "metaDf.drop_duplicates(subset=[\"potentialOutPath\"]).shape"
   ]
  },
  {
   "cell_type": "code",
   "execution_count": 134,
   "id": "e38d1784-4399-4f7d-bb97-8a7deb165335",
   "metadata": {},
   "outputs": [],
   "source": [
    "df = pd.merge(entDf, metaDf, on=\"potentialOutPath\", how=\"left\") "
   ]
  },
  {
   "cell_type": "code",
   "execution_count": 283,
   "id": "6aff5437-ba51-4f50-8eea-323ad269bcbb",
   "metadata": {},
   "outputs": [
    {
     "data": {
      "text/plain": [
       "(1074816, 61)"
      ]
     },
     "execution_count": 283,
     "metadata": {},
     "output_type": "execute_result"
    }
   ],
   "source": [
    "df.shape"
   ]
  },
  {
   "cell_type": "code",
   "execution_count": 136,
   "id": "b8f0f9bc-8359-4d19-a819-3877fa4a502f",
   "metadata": {},
   "outputs": [
    {
     "data": {
      "text/html": [
       "<div>\n",
       "<style scoped>\n",
       "    .dataframe tbody tr th:only-of-type {\n",
       "        vertical-align: middle;\n",
       "    }\n",
       "\n",
       "    .dataframe tbody tr th {\n",
       "        vertical-align: top;\n",
       "    }\n",
       "\n",
       "    .dataframe thead th {\n",
       "        text-align: right;\n",
       "    }\n",
       "</style>\n",
       "<table border=\"1\" class=\"dataframe\">\n",
       "  <thead>\n",
       "    <tr style=\"text-align: right;\">\n",
       "      <th></th>\n",
       "      <th>ent</th>\n",
       "      <th>start</th>\n",
       "      <th>end</th>\n",
       "      <th>podDescription</th>\n",
       "    </tr>\n",
       "  </thead>\n",
       "  <tbody>\n",
       "    <tr>\n",
       "      <th>0</th>\n",
       "      <td>Simon Shapiro</td>\n",
       "      <td>43</td>\n",
       "      <td>56</td>\n",
       "      <td>Award winning Australian singer-songwriter Simon Shapiro delivers his songs, writing and philosophy in a unique combination of idea sharing, inclu...</td>\n",
       "    </tr>\n",
       "    <tr>\n",
       "      <th>1</th>\n",
       "      <td>Simon Shapiro</td>\n",
       "      <td>43</td>\n",
       "      <td>56</td>\n",
       "      <td>Award winning Australian singer-songwriter Simon Shapiro delivers his songs, writing and philosophy in a unique combination of idea sharing, inclu...</td>\n",
       "    </tr>\n",
       "    <tr>\n",
       "      <th>2</th>\n",
       "      <td>Simon Shapiro</td>\n",
       "      <td>43</td>\n",
       "      <td>56</td>\n",
       "      <td>Award winning Australian singer-songwriter Simon Shapiro delivers his songs, writing and philosophy in a unique combination of idea sharing, inclu...</td>\n",
       "    </tr>\n",
       "    <tr>\n",
       "      <th>3</th>\n",
       "      <td>Simon Shapiro</td>\n",
       "      <td>43</td>\n",
       "      <td>56</td>\n",
       "      <td>Award winning Australian singer-songwriter Simon Shapiro delivers his songs, writing and philosophy in a unique combination of idea sharing, inclu...</td>\n",
       "    </tr>\n",
       "    <tr>\n",
       "      <th>4</th>\n",
       "      <td>Daisy Gonzales</td>\n",
       "      <td>11</td>\n",
       "      <td>25</td>\n",
       "      <td>Chancellor Daisy Gonzales takes you inside California Community Colleges for a series of lively discussions on a variety of academic and administr...</td>\n",
       "    </tr>\n",
       "  </tbody>\n",
       "</table>\n",
       "</div>"
      ],
      "text/plain": [
       "              ent  start  end                                                                                                                                         podDescription\n",
       "0   Simon Shapiro     43   56  Award winning Australian singer-songwriter Simon Shapiro delivers his songs, writing and philosophy in a unique combination of idea sharing, inclu...\n",
       "1   Simon Shapiro     43   56  Award winning Australian singer-songwriter Simon Shapiro delivers his songs, writing and philosophy in a unique combination of idea sharing, inclu...\n",
       "2   Simon Shapiro     43   56  Award winning Australian singer-songwriter Simon Shapiro delivers his songs, writing and philosophy in a unique combination of idea sharing, inclu...\n",
       "3   Simon Shapiro     43   56  Award winning Australian singer-songwriter Simon Shapiro delivers his songs, writing and philosophy in a unique combination of idea sharing, inclu...\n",
       "4  Daisy Gonzales     11   25  Chancellor Daisy Gonzales takes you inside California Community Colleges for a series of lively discussions on a variety of academic and administr..."
      ]
     },
     "execution_count": 136,
     "metadata": {},
     "output_type": "execute_result"
    }
   ],
   "source": [
    "df[[\"ent\", \"start\", \"end\", \"podDescription\"]].head()"
   ]
  },
  {
   "cell_type": "code",
   "execution_count": 141,
   "id": "00ff7ddc-28f1-4f38-8b96-1b1e4673b526",
   "metadata": {},
   "outputs": [
    {
     "data": {
      "text/plain": [
       "'Simon Shapiro'"
      ]
     },
     "execution_count": 141,
     "metadata": {},
     "output_type": "execute_result"
    }
   ],
   "source": [
    "df.loc[0, \"podDescription\"][43:56]"
   ]
  },
  {
   "cell_type": "code",
   "execution_count": 142,
   "id": "0dd665c3-9ed9-4362-a669-18352b824e84",
   "metadata": {},
   "outputs": [],
   "source": [
    "def getSnippet(inRow): \n",
    "    BUFFER = 40\n",
    "    left = inRow[\"start\"] - BUFFER\n",
    "    left = left if left > 0 else 0\n",
    "    \n",
    "    right = inRow[\"end\"] + BUFFER\n",
    "    right = right if right < len(inRow[\"podDescription\"]) else len(inRow[\"podDescription\"]) \n",
    "\n",
    "    return inRow[\"podDescription\"][left:right]"
   ]
  },
  {
   "cell_type": "code",
   "execution_count": 290,
   "id": "6cf1407f-f844-4083-8700-289e040899e6",
   "metadata": {},
   "outputs": [],
   "source": [
    "df = df.dropna(subset=[\"start\", \"end\", \"podDescription\", \"ent\"])"
   ]
  },
  {
   "cell_type": "code",
   "execution_count": 291,
   "id": "1ac50cf6-7a02-4587-8649-2c50e4e39967",
   "metadata": {},
   "outputs": [
    {
     "name": "stderr",
     "output_type": "stream",
     "text": [
      "/tmp/ipykernel_3696343/1212409401.py:2: SettingWithCopyWarning: \n",
      "A value is trying to be set on a copy of a slice from a DataFrame.\n",
      "Try using .loc[row_indexer,col_indexer] = value instead\n",
      "\n",
      "See the caveats in the documentation: https://pandas.pydata.org/pandas-docs/stable/user_guide/indexing.html#returning-a-view-versus-a-copy\n",
      "  df[\"entSnippet\"] = df.apply(getSnippet, axis=1)\n"
     ]
    }
   ],
   "source": [
    "#df[\"entSnippet\"] = \n",
    "df[\"entSnippet\"] = df.apply(getSnippet, axis=1)"
   ]
  },
  {
   "cell_type": "code",
   "execution_count": 292,
   "id": "43759218-5e9e-445a-8a70-de2be37c2081",
   "metadata": {},
   "outputs": [],
   "source": [
    "#df = df.drop_duplicates(subset=[\"podDescription\"]) "
   ]
  },
  {
   "cell_type": "code",
   "execution_count": 298,
   "id": "27ca90f8-6db2-4684-9bec-3c72018ef352",
   "metadata": {},
   "outputs": [
    {
     "data": {
      "text/html": [
       "<div>\n",
       "<style scoped>\n",
       "    .dataframe tbody tr th:only-of-type {\n",
       "        vertical-align: middle;\n",
       "    }\n",
       "\n",
       "    .dataframe tbody tr th {\n",
       "        vertical-align: top;\n",
       "    }\n",
       "\n",
       "    .dataframe thead th {\n",
       "        text-align: right;\n",
       "    }\n",
       "</style>\n",
       "<table border=\"1\" class=\"dataframe\">\n",
       "  <thead>\n",
       "    <tr style=\"text-align: right;\">\n",
       "      <th></th>\n",
       "      <th>ent</th>\n",
       "      <th>entSnippet</th>\n",
       "    </tr>\n",
       "  </thead>\n",
       "  <tbody>\n",
       "    <tr>\n",
       "      <th>1074811</th>\n",
       "      <td>berbagi pengetahuan dan pengalaman dalam</td>\n",
       "      <td>Dragged into Turbolasers is Between the Bolter and Me's official miniature wargaming podcast.  We talk critical</td>\n",
       "    </tr>\n",
       "    <tr>\n",
       "      <th>1074812</th>\n",
       "      <td>dunia hipnotisme dan</td>\n",
       "      <td>een the Bolter and Me's official miniature wargaming podcast.  We talk critically about all aspects</td>\n",
       "    </tr>\n",
       "    <tr>\n",
       "      <th>1074813</th>\n",
       "      <td>اجنبی، پادکست، توسعه</td>\n",
       "      <td>ature wargaming podcast.  We talk critically about all aspects of the miniature hobby, with a primar</td>\n",
       "    </tr>\n",
       "    <tr>\n",
       "      <th>1074814</th>\n",
       "      <td>grey</td>\n",
       "      <td>Warhammer 40,000 and other Games Workshop games.  Rather than conversing about rules</td>\n",
       "    </tr>\n",
       "    <tr>\n",
       "      <th>1074815</th>\n",
       "      <td>grey</td>\n",
       "      <td>onversing about rules and competitive play, our priority is to discuss the miniature</td>\n",
       "    </tr>\n",
       "  </tbody>\n",
       "</table>\n",
       "</div>"
      ],
      "text/plain": [
       "                                              ent                                                                                                       entSnippet\n",
       "1074811  berbagi pengetahuan dan pengalaman dalam  Dragged into Turbolasers is Between the Bolter and Me's official miniature wargaming podcast.  We talk critical\n",
       "1074812                      dunia hipnotisme dan             een the Bolter and Me's official miniature wargaming podcast.  We talk critically about all aspects \n",
       "1074813                      اجنبی، پادکست، توسعه             ature wargaming podcast.  We talk critically about all aspects of the miniature hobby, with a primar\n",
       "1074814                                      grey                             Warhammer 40,000 and other Games Workshop games.  Rather than conversing about rules\n",
       "1074815                                      grey                             onversing about rules and competitive play, our priority is to discuss the miniature"
      ]
     },
     "execution_count": 298,
     "metadata": {},
     "output_type": "execute_result"
    }
   ],
   "source": [
    "df.tail()[[\"ent\", \"entSnippet\"]]"
   ]
  },
  {
   "cell_type": "code",
   "execution_count": 108,
   "id": "1209f922-9bed-424a-9201-4c844ce40779",
   "metadata": {},
   "outputs": [
    {
     "name": "stdout",
     "output_type": "stream",
     "text": [
      "(23774, 62)\n"
     ]
    }
   ],
   "source": [
    "\n",
    "def hasKeyword(snippet): \n",
    "    snippet = snippet.lower() \n",
    "\n",
    "    #maybe add \"(my) name\" \n",
    "    \n",
    "    #gets us like 3,500 hits \n",
    "    hostRe = \"host(s)?(ed)?(ing)?\" \n",
    "    hostHits = re.findall(hostRe, snippet)\n",
    "    \n",
    "    #gets us 5,00 hits \n",
    "    #might need to do \"podcast by\" or something like that \n",
    "    byWithRe = \"(\\\\s)+(by|with)(\\\\s)+\" \n",
    "    byWithHits = re.findall(byWithRe, snippet)\n",
    "\n",
    "    joinsRe = \"(\\\\s)+join(ed)?(ing)?\"\n",
    "    joinHits = re.findall(joinsRe, snippet)\n",
    "\n",
    "    ImRe = \"(\\\\s)+i'm\"\n",
    "    ImHits = re.findall(ImRe, snippet)\n",
    "    \n",
    "    totalHits = len(hostHits) + len(byWithHits) + len(joinHits) + len(ImHits) \n",
    "    \n",
    "    return totalHits > 0\n",
    "    \n",
    "hasHost = df[df[\"entSnippet\"].apply(hasKeyword)]\n",
    "print(hasHost.shape)"
   ]
  },
  {
   "cell_type": "code",
   "execution_count": 98,
   "id": "a90a9f48-c769-4f89-87ea-65f3e58d5629",
   "metadata": {},
   "outputs": [
    {
     "data": {
      "text/html": [
       "<div>\n",
       "<style scoped>\n",
       "    .dataframe tbody tr th:only-of-type {\n",
       "        vertical-align: middle;\n",
       "    }\n",
       "\n",
       "    .dataframe tbody tr th {\n",
       "        vertical-align: top;\n",
       "    }\n",
       "\n",
       "    .dataframe thead th {\n",
       "        text-align: right;\n",
       "    }\n",
       "</style>\n",
       "<table border=\"1\" class=\"dataframe\">\n",
       "  <thead>\n",
       "    <tr style=\"text-align: right;\">\n",
       "      <th></th>\n",
       "      <th>ent</th>\n",
       "      <th>entSnippet</th>\n",
       "    </tr>\n",
       "  </thead>\n",
       "  <tbody>\n",
       "    <tr>\n",
       "      <th>102</th>\n",
       "      <td>Lady T</td>\n",
       "      <td>and I want to help you find it. I go by Lady T and I'm here to encourage success, posi</td>\n",
       "    </tr>\n",
       "    <tr>\n",
       "      <th>1323</th>\n",
       "      <td>Rivky Itzkowitz</td>\n",
       "      <td>Hi, I'm Rivky Itzkowitz I’m the founder and designer at Impact</td>\n",
       "    </tr>\n",
       "    <tr>\n",
       "      <th>3451</th>\n",
       "      <td>Meenal Viz</td>\n",
       "      <td>ining me on this podcast! My name is Dr Meenal Viz and I'm an NHS doctor and activist.My l</td>\n",
       "    </tr>\n",
       "    <tr>\n",
       "      <th>4450</th>\n",
       "      <td>Jesus</td>\n",
       "      <td>nt of the camera the guys branch out to behind the microphone. It's progress, I'm sur</td>\n",
       "    </tr>\n",
       "    <tr>\n",
       "      <th>18220</th>\n",
       "      <td>Pst Alo Olatokunboh Akin</td>\n",
       "      <td>e FRAGRANCE OF THE SPIRIT PODCAST...I'm Pst Alo Olatokunboh Akin I'm a Minister of God, Transformational</td>\n",
       "    </tr>\n",
       "    <tr>\n",
       "      <th>22862</th>\n",
       "      <td>Leago Papo</td>\n",
       "      <td>My opinions on politics and religious issues. I'm a Christian, a Baptist, and a Co</td>\n",
       "    </tr>\n",
       "    <tr>\n",
       "      <th>23097</th>\n",
       "      <td>Marc</td>\n",
       "      <td>g! I'm not competing with anyone,but if you get there first...congratulations..</td>\n",
       "    </tr>\n",
       "    <tr>\n",
       "      <th>24202</th>\n",
       "      <td>Caroline Ricke</td>\n",
       "      <td>everyone! I'm Tamara Chaos. This podcast is going to be mainly talking about how we can break</td>\n",
       "    </tr>\n",
       "    <tr>\n",
       "      <th>25857</th>\n",
       "      <td>Craig Parkinson</td>\n",
       "      <td>our bed? Is there a ghostly spectre in your closet? Is there a witch in the woods? Hi, I'm Tori</td>\n",
       "    </tr>\n",
       "    <tr>\n",
       "      <th>34735</th>\n",
       "      <td>Melissa Hall Klepacki</td>\n",
       "      <td>t so on this podcast I'm going to talk about TV Guide's 50 Best TV Shows of the 90s and give you my r</td>\n",
       "    </tr>\n",
       "    <tr>\n",
       "      <th>40131</th>\n",
       "      <td>Dan Wootton</td>\n",
       "      <td>s consciousness. I'm excited to share my story and what lessons I learned along the way. Li</td>\n",
       "    </tr>\n",
       "    <tr>\n",
       "      <th>41273</th>\n",
       "      <td>Mutia Parasduhita</td>\n",
       "      <td>wis. I'm a business amplifier, lightworker, social media expert and here to help you shine and re</td>\n",
       "    </tr>\n",
       "    <tr>\n",
       "      <th>45766</th>\n",
       "      <td>Nic Douglass</td>\n",
       "      <td>Do you homeschool a child with special needs? This podcast is for you! I'm a special needs</td>\n",
       "    </tr>\n",
       "    <tr>\n",
       "      <th>48244</th>\n",
       "      <td>Chris Micieli</td>\n",
       "      <td>e all complete idiots. I'm here to tell you their stories and ask the tough questions that ot</td>\n",
       "    </tr>\n",
       "    <tr>\n",
       "      <th>48491</th>\n",
       "      <td>David</td>\n",
       "      <td>Hey Flight Crew :)Hey I'm @Flystewie 🔥🔥 I'm a</td>\n",
       "    </tr>\n",
       "    <tr>\n",
       "      <th>50357</th>\n",
       "      <td>Joshua Eze</td>\n",
       "      <td>My only goal is to stay true to the things I'm passionate abo</td>\n",
       "    </tr>\n",
       "    <tr>\n",
       "      <th>51636</th>\n",
       "      <td>Juliet</td>\n",
       "      <td>Trust me, I'm a Doctor Podcast was born from D</td>\n",
       "    </tr>\n",
       "    <tr>\n",
       "      <th>51696</th>\n",
       "      <td>Aaron Coombs</td>\n",
       "      <td>Hey there! I'm your host Aaron Coombs. Join me on a weekly basis for an easy</td>\n",
       "    </tr>\n",
       "    <tr>\n",
       "      <th>52344</th>\n",
       "      <td>Emma Jones</td>\n",
       "      <td>a pastor, dad, husband, and child of God.  I'm broken, but  blessed. The cracks are where</td>\n",
       "    </tr>\n",
       "    <tr>\n",
       "      <th>52400</th>\n",
       "      <td>Martin J. Schreiber Ed</td>\n",
       "      <td>When a sleepless night strikes me, I'm taking to this podcast to share it with you! Awake and talking</td>\n",
       "    </tr>\n",
       "  </tbody>\n",
       "</table>\n",
       "</div>"
      ],
      "text/plain": [
       "                            ent                                                                                                entSnippet\n",
       "102                      Lady T                    and I want to help you find it. I go by Lady T and I'm here to encourage success, posi\n",
       "1323            Rivky Itzkowitz                                           Hi, I'm Rivky Itzkowitz I’m the founder and designer at Impact \n",
       "3451                 Meenal Viz                ining me on this podcast! My name is Dr Meenal Viz and I'm an NHS doctor and activist.My l\n",
       "4450                      Jesus                     nt of the camera the guys branch out to behind the microphone. It's progress, I'm sur\n",
       "18220  Pst Alo Olatokunboh Akin  e FRAGRANCE OF THE SPIRIT PODCAST...I'm Pst Alo Olatokunboh Akin I'm a Minister of God, Transformational\n",
       "22862                Leago Papo                        My opinions on politics and religious issues. I'm a Christian, a Baptist, and a Co\n",
       "23097                      Marc                           g! I'm not competing with anyone,but if you get there first...congratulations..\n",
       "24202            Caroline Ricke            everyone! I'm Tamara Chaos. This podcast is going to be mainly talking about how we can break \n",
       "25857           Craig Parkinson           our bed? Is there a ghostly spectre in your closet? Is there a witch in the woods? Hi, I'm Tori\n",
       "34735     Melissa Hall Klepacki     t so on this podcast I'm going to talk about TV Guide's 50 Best TV Shows of the 90s and give you my r\n",
       "40131               Dan Wootton               s consciousness. I'm excited to share my story and what lessons I learned along the way. Li\n",
       "41273         Mutia Parasduhita         wis. I'm a business amplifier, lightworker, social media expert and here to help you shine and re\n",
       "45766              Nic Douglass               Do you homeschool a child with special needs? This podcast is for you! I'm a special needs \n",
       "48244             Chris Micieli             e all complete idiots. I'm here to tell you their stories and ask the tough questions that ot\n",
       "48491                     David                                                             Hey Flight Crew :)Hey I'm @Flystewie 🔥🔥 I'm a\n",
       "50357                Joshua Eze                                             My only goal is to stay true to the things I'm passionate abo\n",
       "51636                    Juliet                                                            Trust me, I'm a Doctor Podcast was born from D\n",
       "51696              Aaron Coombs                             Hey there! I'm your host Aaron Coombs. Join me on a weekly basis for an easy \n",
       "52344                Emma Jones                 a pastor, dad, husband, and child of God.  I'm broken, but  blessed. The cracks are where\n",
       "52400    Martin J. Schreiber Ed     When a sleepless night strikes me, I'm taking to this podcast to share it with you! Awake and talking"
      ]
     },
     "execution_count": 98,
     "metadata": {},
     "output_type": "execute_result"
    }
   ],
   "source": [
    "#this appears to work well \n",
    "pd.options.display.max_colwidth = 150\n",
    "hasHost[[\"ent\", \"entSnippet\"]].head(20)"
   ]
  },
  {
   "cell_type": "code",
   "execution_count": 102,
   "id": "ca89f876-8c71-4829-9722-5d6d958bb822",
   "metadata": {},
   "outputs": [
    {
     "data": {
      "text/plain": [
       "podDescription    My opinions on politics and religious issues. I'm a Christian, a Baptist, and a Constitutional Conservative.\n",
       "Name: 22862, dtype: object"
      ]
     },
     "execution_count": 102,
     "metadata": {},
     "output_type": "execute_result"
    }
   ],
   "source": [
    "df.loc[22862, [\"podDescription\"]]"
   ]
  },
  {
   "cell_type": "code",
   "execution_count": 144,
   "id": "cd6b653d-4319-4a60-9cc5-94448a10411c",
   "metadata": {},
   "outputs": [],
   "source": [
    "df = pd.merge(entDf, metaDf, on=\"potentialOutPath\", how=\"left\") "
   ]
  },
  {
   "cell_type": "code",
   "execution_count": 169,
   "id": "f3ea0935-9267-4f48-a139-e4244e184e28",
   "metadata": {},
   "outputs": [],
   "source": [
    "#ANOTHER approach: we can just use the difference between within and across podcasts for each entity ]\n",
    "acrossCounts = df[[\"id\", \"ent\"]].groupby(\"ent\").agg(len) "
   ]
  },
  {
   "cell_type": "code",
   "execution_count": 170,
   "id": "a56cb3de-6d34-4df9-99e8-5782b91d4181",
   "metadata": {},
   "outputs": [
    {
     "data": {
      "text/html": [
       "<div>\n",
       "<style scoped>\n",
       "    .dataframe tbody tr th:only-of-type {\n",
       "        vertical-align: middle;\n",
       "    }\n",
       "\n",
       "    .dataframe tbody tr th {\n",
       "        vertical-align: top;\n",
       "    }\n",
       "\n",
       "    .dataframe thead th {\n",
       "        text-align: right;\n",
       "    }\n",
       "</style>\n",
       "<table border=\"1\" class=\"dataframe\">\n",
       "  <thead>\n",
       "    <tr style=\"text-align: right;\">\n",
       "      <th></th>\n",
       "      <th>id</th>\n",
       "    </tr>\n",
       "    <tr>\n",
       "      <th>ent</th>\n",
       "      <th></th>\n",
       "    </tr>\n",
       "  </thead>\n",
       "  <tbody>\n",
       "    <tr>\n",
       "      <th>grey</th>\n",
       "      <td>32438</td>\n",
       "    </tr>\n",
       "    <tr>\n",
       "      <th>Jesus</th>\n",
       "      <td>20112</td>\n",
       "    </tr>\n",
       "    <tr>\n",
       "      <th>Instagram</th>\n",
       "      <td>8497</td>\n",
       "    </tr>\n",
       "    <tr>\n",
       "      <th>Jesus Christ</th>\n",
       "      <td>5454</td>\n",
       "    </tr>\n",
       "    <tr>\n",
       "      <th>Nick</th>\n",
       "      <td>3892</td>\n",
       "    </tr>\n",
       "  </tbody>\n",
       "</table>\n",
       "</div>"
      ],
      "text/plain": [
       "                 id\n",
       "ent                \n",
       "grey          32438\n",
       "Jesus         20112\n",
       "Instagram      8497\n",
       "Jesus Christ   5454\n",
       "Nick           3892"
      ]
     },
     "execution_count": 170,
     "metadata": {},
     "output_type": "execute_result"
    }
   ],
   "source": [
    "acrossCounts = acrossCounts.sort_values(by=\"id\", ascending=False)\n",
    "acrossCounts.head() "
   ]
  },
  {
   "cell_type": "code",
   "execution_count": 171,
   "id": "98f392a0-2851-4acf-8c48-5791b987198b",
   "metadata": {},
   "outputs": [],
   "source": [
    "acrossCounts = acrossCounts.reset_index().rename(columns={\"id\":\"acrossCount\"})"
   ]
  },
  {
   "cell_type": "code",
   "execution_count": 149,
   "id": "1b2af807-3130-457d-81d6-6a70eb8f458a",
   "metadata": {},
   "outputs": [
    {
     "data": {
      "text/plain": [
       "(130277, 2)"
      ]
     },
     "execution_count": 149,
     "metadata": {},
     "output_type": "execute_result"
    }
   ],
   "source": [
    "df[[\"rssUrl\", \"ent\"]].drop_duplicates(subset=[\"rssUrl\"]).shape"
   ]
  },
  {
   "cell_type": "code",
   "execution_count": 202,
   "id": "e4dcd243-32ce-44b6-b4d6-402a7d6dad4f",
   "metadata": {},
   "outputs": [
    {
     "data": {
      "text/html": [
       "<div>\n",
       "<style scoped>\n",
       "    .dataframe tbody tr th:only-of-type {\n",
       "        vertical-align: middle;\n",
       "    }\n",
       "\n",
       "    .dataframe tbody tr th {\n",
       "        vertical-align: top;\n",
       "    }\n",
       "\n",
       "    .dataframe thead th {\n",
       "        text-align: right;\n",
       "    }\n",
       "</style>\n",
       "<table border=\"1\" class=\"dataframe\">\n",
       "  <thead>\n",
       "    <tr style=\"text-align: right;\">\n",
       "      <th></th>\n",
       "      <th>guid</th>\n",
       "      <th>epTitle</th>\n",
       "      <th>title</th>\n",
       "    </tr>\n",
       "  </thead>\n",
       "  <tbody>\n",
       "    <tr>\n",
       "      <th>0</th>\n",
       "      <td>Buzzsprout-4072346</td>\n",
       "      <td>Stop The World</td>\n",
       "      <td>SingOut SpeakOut</td>\n",
       "    </tr>\n",
       "    <tr>\n",
       "      <th>1</th>\n",
       "      <td>Buzzsprout-3983942</td>\n",
       "      <td>Today Is Yesterday</td>\n",
       "      <td>SingOut SpeakOut</td>\n",
       "    </tr>\n",
       "    <tr>\n",
       "      <th>2</th>\n",
       "      <td>Buzzsprout-3892169</td>\n",
       "      <td>Saturn Return</td>\n",
       "      <td>SingOut SpeakOut</td>\n",
       "    </tr>\n",
       "    <tr>\n",
       "      <th>3</th>\n",
       "      <td>Buzzsprout-3791501</td>\n",
       "      <td>Quarterlife Crisis</td>\n",
       "      <td>SingOut SpeakOut</td>\n",
       "    </tr>\n",
       "    <tr>\n",
       "      <th>4</th>\n",
       "      <td>brazeneducation.podbean.com/0de5429d-f374-54ed-a174-0c9a4a8ad492</td>\n",
       "      <td>BE: Episode 37 - The Benefits of Homeschooling Black Children</td>\n",
       "      <td>Brazen Education</td>\n",
       "    </tr>\n",
       "  </tbody>\n",
       "</table>\n",
       "</div>"
      ],
      "text/plain": [
       "                                                               guid                                                        epTitle             title\n",
       "0                                                Buzzsprout-4072346                                                 Stop The World  SingOut SpeakOut\n",
       "1                                                Buzzsprout-3983942                                             Today Is Yesterday  SingOut SpeakOut\n",
       "2                                                Buzzsprout-3892169                                                  Saturn Return  SingOut SpeakOut\n",
       "3                                                Buzzsprout-3791501                                             Quarterlife Crisis  SingOut SpeakOut\n",
       "4  brazeneducation.podbean.com/0de5429d-f374-54ed-a174-0c9a4a8ad492  BE: Episode 37 - The Benefits of Homeschooling Black Children  Brazen Education"
      ]
     },
     "execution_count": 202,
     "metadata": {},
     "output_type": "execute_result"
    }
   ],
   "source": [
    "metaDf.head()[[\"guid\", \"epTitle\", \"title\"]]"
   ]
  },
  {
   "cell_type": "code",
   "execution_count": 212,
   "id": "a4f18cf7-39ec-445d-9a28-4d69121ddf59",
   "metadata": {},
   "outputs": [],
   "source": [
    "#get one instance of named entity for each episode, count number of episodes with a given entity for each podcast\n",
    "within = df[[\"rssUrl\", \"ent\", \"potentialOutPath\"]].drop_duplicates(subset=[\"potentialOutPath\", \"ent\"]).groupby(by=[\"rssUrl\", \"ent\"]).agg(len)"
   ]
  },
  {
   "cell_type": "code",
   "execution_count": 213,
   "id": "a85f1c62-d75e-4892-aab3-deea5a16ec12",
   "metadata": {},
   "outputs": [],
   "source": [
    "within = within.sort_values(by=\"potentialOutPath\", ascending=False) \n",
    "within = within.reset_index().rename(columns={\"potentialOutPath\":\"NERepCount\"})"
   ]
  },
  {
   "cell_type": "code",
   "execution_count": 214,
   "id": "42a2c565-c8b0-4ec9-9476-9b9212f06b20",
   "metadata": {},
   "outputs": [
    {
     "data": {
      "text/html": [
       "<div>\n",
       "<style scoped>\n",
       "    .dataframe tbody tr th:only-of-type {\n",
       "        vertical-align: middle;\n",
       "    }\n",
       "\n",
       "    .dataframe tbody tr th {\n",
       "        vertical-align: top;\n",
       "    }\n",
       "\n",
       "    .dataframe thead th {\n",
       "        text-align: right;\n",
       "    }\n",
       "</style>\n",
       "<table border=\"1\" class=\"dataframe\">\n",
       "  <thead>\n",
       "    <tr style=\"text-align: right;\">\n",
       "      <th></th>\n",
       "      <th>rssUrl</th>\n",
       "      <th>ent</th>\n",
       "      <th>NERepCount</th>\n",
       "    </tr>\n",
       "  </thead>\n",
       "  <tbody>\n",
       "    <tr>\n",
       "      <th>0</th>\n",
       "      <td>https://anchor.fm/s/11e3c388/podcast/rss</td>\n",
       "      <td>Jami</td>\n",
       "      <td>622</td>\n",
       "    </tr>\n",
       "    <tr>\n",
       "      <th>1</th>\n",
       "      <td>https://anchor.fm/s/11e3c388/podcast/rss</td>\n",
       "      <td>Tafseer</td>\n",
       "      <td>622</td>\n",
       "    </tr>\n",
       "    <tr>\n",
       "      <th>2</th>\n",
       "      <td>https://anchor.fm/s/2443e9a4/podcast/rss</td>\n",
       "      <td>CommentaryHi</td>\n",
       "      <td>320</td>\n",
       "    </tr>\n",
       "    <tr>\n",
       "      <th>3</th>\n",
       "      <td>https://anchor.fm/s/2443e9a4/podcast/rss</td>\n",
       "      <td>jackson</td>\n",
       "      <td>320</td>\n",
       "    </tr>\n",
       "    <tr>\n",
       "      <th>4</th>\n",
       "      <td>https://anchor.fm/s/2a0c484/podcast/rss</td>\n",
       "      <td>Christopher Kai</td>\n",
       "      <td>157</td>\n",
       "    </tr>\n",
       "  </tbody>\n",
       "</table>\n",
       "</div>"
      ],
      "text/plain": [
       "                                     rssUrl              ent  NERepCount\n",
       "0  https://anchor.fm/s/11e3c388/podcast/rss             Jami         622\n",
       "1  https://anchor.fm/s/11e3c388/podcast/rss          Tafseer         622\n",
       "2  https://anchor.fm/s/2443e9a4/podcast/rss     CommentaryHi         320\n",
       "3  https://anchor.fm/s/2443e9a4/podcast/rss          jackson         320\n",
       "4   https://anchor.fm/s/2a0c484/podcast/rss  Christopher Kai         157"
      ]
     },
     "execution_count": 214,
     "metadata": {},
     "output_type": "execute_result"
    }
   ],
   "source": [
    "within.head()"
   ]
  },
  {
   "cell_type": "code",
   "execution_count": 215,
   "id": "21a7993c-c583-47b5-bf73-baa33601c70d",
   "metadata": {},
   "outputs": [
    {
     "data": {
      "text/plain": [
       "(746, 57)"
      ]
     },
     "execution_count": 215,
     "metadata": {},
     "output_type": "execute_result"
    }
   ],
   "source": [
    "metaDf[metaDf[\"rssUrl\"] == \"https://anchor.fm/s/11e3c388/podcast/rss\"].shape"
   ]
  },
  {
   "cell_type": "code",
   "execution_count": 217,
   "id": "1f5ad72f-f882-44dc-a45a-0fffc4998376",
   "metadata": {},
   "outputs": [],
   "source": [
    "epCounts = metaDf[[\"rssUrl\", \"id\"]].groupby(by=[\"rssUrl\"]).agg(len).sort_values(by=\"id\", ascending=False) "
   ]
  },
  {
   "cell_type": "code",
   "execution_count": 218,
   "id": "754aa605-1ae3-4a6a-83b7-c129a4b594a9",
   "metadata": {},
   "outputs": [],
   "source": [
    "epCounts = epCounts.reset_index().rename(columns={\"id\":\"epCount\"})"
   ]
  },
  {
   "cell_type": "code",
   "execution_count": 219,
   "id": "1dfde89a-18a9-4df7-ae5d-55f82c90e228",
   "metadata": {},
   "outputs": [],
   "source": [
    "predDf = pd.merge(within, epCounts, on=\"rssUrl\", how=\"inner\") \n",
    "predDf[\"epProp\"] = predDf[\"NERepCount\"] / predDf[\"epCount\"] "
   ]
  },
  {
   "cell_type": "code",
   "execution_count": 220,
   "id": "2fbc96b4-13dc-492d-aa3c-74493e5cdc71",
   "metadata": {},
   "outputs": [],
   "source": [
    "predDf = predDf.sort_values(by=\"epProp\", ascending=False)"
   ]
  },
  {
   "cell_type": "code",
   "execution_count": 225,
   "id": "0792569d-9fe1-4f4f-bc6f-0b169c4a34b9",
   "metadata": {},
   "outputs": [
    {
     "data": {
      "text/html": [
       "<div>\n",
       "<style scoped>\n",
       "    .dataframe tbody tr th:only-of-type {\n",
       "        vertical-align: middle;\n",
       "    }\n",
       "\n",
       "    .dataframe tbody tr th {\n",
       "        vertical-align: top;\n",
       "    }\n",
       "\n",
       "    .dataframe thead th {\n",
       "        text-align: right;\n",
       "    }\n",
       "</style>\n",
       "<table border=\"1\" class=\"dataframe\">\n",
       "  <thead>\n",
       "    <tr style=\"text-align: right;\">\n",
       "      <th></th>\n",
       "      <th>rssUrl</th>\n",
       "      <th>ent</th>\n",
       "      <th>NERepCount</th>\n",
       "      <th>epCount</th>\n",
       "      <th>epProp</th>\n",
       "    </tr>\n",
       "  </thead>\n",
       "  <tbody>\n",
       "  </tbody>\n",
       "</table>\n",
       "</div>"
      ],
      "text/plain": [
       "Empty DataFrame\n",
       "Columns: [rssUrl, ent, NERepCount, epCount, epProp]\n",
       "Index: []"
      ]
     },
     "execution_count": 225,
     "metadata": {},
     "output_type": "execute_result"
    }
   ],
   "source": [
    "#sanity check, NER epCount is always less than epCount\n",
    "predDf[predDf[\"NERepCount\"] > predDf[\"epCount\"]]"
   ]
  },
  {
   "cell_type": "code",
   "execution_count": 226,
   "id": "304c1667-abc2-4b3c-81c1-24b7ef3b2786",
   "metadata": {},
   "outputs": [],
   "source": [
    "predDf = pd.merge(predDf, acrossCounts, on=\"ent\", how=\"left\") "
   ]
  },
  {
   "cell_type": "code",
   "execution_count": 228,
   "id": "e32bf05b-6689-43c9-8199-184496cf44ae",
   "metadata": {},
   "outputs": [],
   "source": [
    "#TODO: this should be the episodes we've processed, since we won't get anything for those that have no transcript\n",
    "predDf[\"totalEpisodes\"] = len(metaDf.drop_duplicates(subset=[\"potentialOutPath\"]))"
   ]
  },
  {
   "cell_type": "code",
   "execution_count": 230,
   "id": "5111f728-c111-46b5-af95-6d881c20a036",
   "metadata": {},
   "outputs": [],
   "source": [
    "predDf[\"acrossProp\"] = predDf[\"acrossCount\"] / predDf[\"totalEpisodes\"]"
   ]
  },
  {
   "cell_type": "code",
   "execution_count": 232,
   "id": "f0bf9cca-1a52-4f92-b448-3f4f1afa05e0",
   "metadata": {},
   "outputs": [],
   "source": [
    "#repFrac is what we need! what is the representation within versus across? \n",
    "#for small number of episodes this is tougher...\n",
    "predDf[\"repFrac\"] = predDf[\"epProp\"] / predDf[\"acrossProp\"] "
   ]
  },
  {
   "cell_type": "code",
   "execution_count": 241,
   "id": "7b9eaad4-f367-406f-96ba-739ba6970be4",
   "metadata": {},
   "outputs": [
    {
     "data": {
      "text/html": [
       "<div>\n",
       "<style scoped>\n",
       "    .dataframe tbody tr th:only-of-type {\n",
       "        vertical-align: middle;\n",
       "    }\n",
       "\n",
       "    .dataframe tbody tr th {\n",
       "        vertical-align: top;\n",
       "    }\n",
       "\n",
       "    .dataframe thead th {\n",
       "        text-align: right;\n",
       "    }\n",
       "</style>\n",
       "<table border=\"1\" class=\"dataframe\">\n",
       "  <thead>\n",
       "    <tr style=\"text-align: right;\">\n",
       "      <th></th>\n",
       "      <th>rssUrl</th>\n",
       "      <th>ent</th>\n",
       "      <th>NERepCount</th>\n",
       "      <th>epCount</th>\n",
       "      <th>epProp</th>\n",
       "      <th>acrossCount</th>\n",
       "      <th>totalEpisodes</th>\n",
       "      <th>acrossProp</th>\n",
       "      <th>repFrac</th>\n",
       "    </tr>\n",
       "  </thead>\n",
       "  <tbody>\n",
       "    <tr>\n",
       "      <th>0</th>\n",
       "      <td>http://audio.inflectionpointradio.org/inflectionpointradio</td>\n",
       "      <td>Billie Dean Shoemate III</td>\n",
       "      <td>1</td>\n",
       "      <td>1</td>\n",
       "      <td>1.0</td>\n",
       "      <td>8</td>\n",
       "      <td>769161</td>\n",
       "      <td>0.000010</td>\n",
       "      <td>96145.125</td>\n",
       "    </tr>\n",
       "    <tr>\n",
       "      <th>1</th>\n",
       "      <td>https://zerogodzilla.libsyn.com/rss</td>\n",
       "      <td>Fatima Sabir</td>\n",
       "      <td>1</td>\n",
       "      <td>1</td>\n",
       "      <td>1.0</td>\n",
       "      <td>2</td>\n",
       "      <td>769161</td>\n",
       "      <td>0.000003</td>\n",
       "      <td>384580.500</td>\n",
       "    </tr>\n",
       "    <tr>\n",
       "      <th>2</th>\n",
       "      <td>https://zonepod.libsyn.com/rss</td>\n",
       "      <td>TJ Jackson</td>\n",
       "      <td>1</td>\n",
       "      <td>1</td>\n",
       "      <td>1.0</td>\n",
       "      <td>10</td>\n",
       "      <td>769161</td>\n",
       "      <td>0.000013</td>\n",
       "      <td>76916.100</td>\n",
       "    </tr>\n",
       "    <tr>\n",
       "      <th>3</th>\n",
       "      <td>https://yourwellnessguy.libsyn.com/rss</td>\n",
       "      <td>Erica Courdae</td>\n",
       "      <td>1</td>\n",
       "      <td>1</td>\n",
       "      <td>1.0</td>\n",
       "      <td>4</td>\n",
       "      <td>769161</td>\n",
       "      <td>0.000005</td>\n",
       "      <td>192290.250</td>\n",
       "    </tr>\n",
       "    <tr>\n",
       "      <th>4</th>\n",
       "      <td>http://airadam.com/podcastfeed.xml</td>\n",
       "      <td>Colin Frangicetto</td>\n",
       "      <td>1</td>\n",
       "      <td>1</td>\n",
       "      <td>1.0</td>\n",
       "      <td>3</td>\n",
       "      <td>769161</td>\n",
       "      <td>0.000004</td>\n",
       "      <td>256387.000</td>\n",
       "    </tr>\n",
       "  </tbody>\n",
       "</table>\n",
       "</div>"
      ],
      "text/plain": [
       "                                                       rssUrl                       ent  NERepCount  epCount  epProp  acrossCount  totalEpisodes  acrossProp     repFrac\n",
       "0  http://audio.inflectionpointradio.org/inflectionpointradio  Billie Dean Shoemate III           1        1     1.0            8         769161    0.000010   96145.125\n",
       "1                         https://zerogodzilla.libsyn.com/rss              Fatima Sabir           1        1     1.0            2         769161    0.000003  384580.500\n",
       "2                              https://zonepod.libsyn.com/rss                TJ Jackson           1        1     1.0           10         769161    0.000013   76916.100\n",
       "3                      https://yourwellnessguy.libsyn.com/rss             Erica Courdae           1        1     1.0            4         769161    0.000005  192290.250\n",
       "4                          http://airadam.com/podcastfeed.xml         Colin Frangicetto           1        1     1.0            3         769161    0.000004  256387.000"
      ]
     },
     "execution_count": 241,
     "metadata": {},
     "output_type": "execute_result"
    }
   ],
   "source": [
    "predDf.head() "
   ]
  },
  {
   "cell_type": "code",
   "execution_count": 256,
   "id": "0f633483-4112-4c49-879a-3920ba687226",
   "metadata": {},
   "outputs": [
    {
     "data": {
      "text/plain": [
       "Text(0.5, 0, \"Fraction of a podcast's episodes mentioning entity\")"
      ]
     },
     "execution_count": 256,
     "metadata": {},
     "output_type": "execute_result"
    },
    {
     "data": {
      "image/png": "[encoded data removed]",
      "text/plain": [
       "<Figure size 640x480 with 1 Axes>"
      ]
     },
     "metadata": {},
     "output_type": "display_data"
    }
   ],
   "source": [
    "sns.histplot(data=predDf, x=\"epProp\", bins=20) \n",
    "plt.title(\"Fraction of episode transcripts with entity, for a given (podcast, entity) pair\") \n",
    "plt.xlabel(\"Fraction of a podcast's episodes mentioning entity\")\n"
   ]
  },
  {
   "cell_type": "code",
   "execution_count": 249,
   "id": "84bd20f3-2c2f-4461-96de-d5af782a40b7",
   "metadata": {},
   "outputs": [
    {
     "data": {
      "text/html": [
       "<div>\n",
       "<style scoped>\n",
       "    .dataframe tbody tr th:only-of-type {\n",
       "        vertical-align: middle;\n",
       "    }\n",
       "\n",
       "    .dataframe tbody tr th {\n",
       "        vertical-align: top;\n",
       "    }\n",
       "\n",
       "    .dataframe thead th {\n",
       "        text-align: right;\n",
       "    }\n",
       "</style>\n",
       "<table border=\"1\" class=\"dataframe\">\n",
       "  <thead>\n",
       "    <tr style=\"text-align: right;\">\n",
       "      <th></th>\n",
       "      <th>epCount</th>\n",
       "      <th>count</th>\n",
       "    </tr>\n",
       "  </thead>\n",
       "  <tbody>\n",
       "    <tr>\n",
       "      <th>1</th>\n",
       "      <td>1</td>\n",
       "      <td>63402</td>\n",
       "    </tr>\n",
       "    <tr>\n",
       "      <th>2</th>\n",
       "      <td>2</td>\n",
       "      <td>49281</td>\n",
       "    </tr>\n",
       "    <tr>\n",
       "      <th>3</th>\n",
       "      <td>3</td>\n",
       "      <td>41817</td>\n",
       "    </tr>\n",
       "    <tr>\n",
       "      <th>0</th>\n",
       "      <td>4</td>\n",
       "      <td>68611</td>\n",
       "    </tr>\n",
       "    <tr>\n",
       "      <th>4</th>\n",
       "      <td>5</td>\n",
       "      <td>18210</td>\n",
       "    </tr>\n",
       "    <tr>\n",
       "      <th>...</th>\n",
       "      <td>...</td>\n",
       "      <td>...</td>\n",
       "    </tr>\n",
       "    <tr>\n",
       "      <th>143</th>\n",
       "      <td>576</td>\n",
       "      <td>2</td>\n",
       "    </tr>\n",
       "    <tr>\n",
       "      <th>133</th>\n",
       "      <td>739</td>\n",
       "      <td>5</td>\n",
       "    </tr>\n",
       "    <tr>\n",
       "      <th>102</th>\n",
       "      <td>746</td>\n",
       "      <td>28</td>\n",
       "    </tr>\n",
       "    <tr>\n",
       "      <th>137</th>\n",
       "      <td>787</td>\n",
       "      <td>5</td>\n",
       "    </tr>\n",
       "    <tr>\n",
       "      <th>30</th>\n",
       "      <td>1000</td>\n",
       "      <td>386</td>\n",
       "    </tr>\n",
       "  </tbody>\n",
       "</table>\n",
       "<p>145 rows × 2 columns</p>\n",
       "</div>"
      ],
      "text/plain": [
       "     epCount  count\n",
       "1          1  63402\n",
       "2          2  49281\n",
       "3          3  41817\n",
       "0          4  68611\n",
       "4          5  18210\n",
       "..       ...    ...\n",
       "143      576      2\n",
       "133      739      5\n",
       "102      746     28\n",
       "137      787      5\n",
       "30      1000    386\n",
       "\n",
       "[145 rows x 2 columns]"
      ]
     },
     "execution_count": 249,
     "metadata": {},
     "output_type": "execute_result"
    }
   ],
   "source": [
    "#just checking out episode count distribution \n",
    "pd.DataFrame(predDf[\"epCount\"].value_counts()).reset_index().sort_values(by=\"epCount\", ascending=True)"
   ]
  },
  {
   "cell_type": "code",
   "execution_count": null,
   "id": "7bd8d5bb-663c-43a9-8d39-c00b3a5ea97b",
   "metadata": {},
   "outputs": [],
   "source": [
    "#TODO: get descriptions and figure out who hosts are \n",
    "#Once we have hosts, we can test what cutoff appears to be the best here\n",
    "#could even do weak labelling with hosts? \n",
    "\n",
    "#QUESTION: Perhaps we need a cutoff that scales with episode count? "
   ]
  },
  {
   "cell_type": "code",
   "execution_count": 260,
   "id": "5cc8d42f-e654-4ec0-854a-db2d6965ee7c",
   "metadata": {},
   "outputs": [],
   "source": [
    "predDf = pd.merge(predDf, metaDf[[\"rssUrl\", \"podDescription\"]]) "
   ]
  },
  {
   "cell_type": "code",
   "execution_count": null,
   "id": "6b2f2e00-f9df-4cee-aa7f-8436e2c58fa1",
   "metadata": {},
   "outputs": [
    {
     "data": {
      "text/html": [
       "<style type=\"text/css\">\n",
       "#T_db562_row0_col4, #T_db562_row1_col4, #T_db562_row2_col4, #T_db562_row3_col4, #T_db562_row4_col4, #T_db562_row5_col4, #T_db562_row6_col4, #T_db562_row7_col4, #T_db562_row8_col4, #T_db562_row9_col4, #T_db562_row10_col4, #T_db562_row11_col4, #T_db562_row12_col4, #T_db562_row13_col4, #T_db562_row14_col4, #T_db562_row15_col4, #T_db562_row16_col4, #T_db562_row17_col4, #T_db562_row18_col4, #T_db562_row19_col4 {\n",
       "  inline-size: 10px;\n",
       "  overflow-wrap: break-word;\n",
       "}\n",
       "</style>\n",
       "<table id=\"T_db562\">\n",
       "  <thead>\n",
       "    <tr>\n",
       "      <th class=\"blank level0\" >&nbsp;</th>\n",
       "      <th id=\"T_db562_level0_col0\" class=\"col_heading level0 col0\" >ent</th>\n",
       "      <th id=\"T_db562_level0_col1\" class=\"col_heading level0 col1\" >epCount</th>\n",
       "      <th id=\"T_db562_level0_col2\" class=\"col_heading level0 col2\" >epProp</th>\n",
       "      <th id=\"T_db562_level0_col3\" class=\"col_heading level0 col3\" >acrossCount</th>\n",
       "      <th id=\"T_db562_level0_col4\" class=\"col_heading level0 col4\" >podDescription</th>\n",
       "    </tr>\n",
       "  </thead>\n",
       "  <tbody>\n",
       "    <tr>\n",
       "      <th id=\"T_db562_level0_row0\" class=\"row_heading level0 row0\" >0</th>\n",
       "      <td id=\"T_db562_row0_col0\" class=\"data row0 col0\" >Billie Dean Shoemate III</td>\n",
       "      <td id=\"T_db562_row0_col1\" class=\"data row0 col1\" >1</td>\n",
       "      <td id=\"T_db562_row0_col2\" class=\"data row0 col2\" >1.000000</td>\n",
       "      <td id=\"T_db562_row0_col3\" class=\"data row0 col3\" >8</td>\n",
       "      <td id=\"T_db562_row0_col4\" class=\"data row0 col4\" >COMING THIS MARCH, 2023! From the creator of Inflection Point: a five-part Women’s History Month mini-series, featuring inspiration and advice for a feminist future from trailblazers making change right now!  Grab a copy of our new book based on Inflection Point interviews called It’s a Good Day to Change the World at itsagooddaybook.com.<a href=\"https://inflectionpointradio.org/\" target=\"_blank\">Inflection Point with Lauren Schiller</a> is one of the only nationally syndicated radio shows and one of the first podcasts ever dedicated exclusively to featuring conversations with women about how we build power, what we do with it when we have it, and what still stands in our way.In every episode you’ll hear incredible stories from activists, entrepreneurs, and authority-busters about how they build power and lead change for an equal, just, and joy-filled world. You’ll come away from every conversation with context, hope and inspiration. Plus, you’ll get expert advice and the tools you n</td>\n",
       "    </tr>\n",
       "    <tr>\n",
       "      <th id=\"T_db562_level0_row1\" class=\"row_heading level0 row1\" >1</th>\n",
       "      <td id=\"T_db562_row1_col0\" class=\"data row1 col0\" >Fatima Sabir</td>\n",
       "      <td id=\"T_db562_row1_col1\" class=\"data row1 col1\" >1</td>\n",
       "      <td id=\"T_db562_row1_col2\" class=\"data row1 col2\" >1.000000</td>\n",
       "      <td id=\"T_db562_row1_col3\" class=\"data row1 col3\" >2</td>\n",
       "      <td id=\"T_db562_row1_col4\" class=\"data row1 col4\" >Godzilla vs Podcast Zero: Everything Godzilla and the extended universe analyzed by experts</td>\n",
       "    </tr>\n",
       "    <tr>\n",
       "      <th id=\"T_db562_level0_row2\" class=\"row_heading level0 row2\" >2</th>\n",
       "      <td id=\"T_db562_row2_col0\" class=\"data row2 col0\" >TJ Jackson</td>\n",
       "      <td id=\"T_db562_row2_col1\" class=\"data row2 col1\" >1</td>\n",
       "      <td id=\"T_db562_row2_col2\" class=\"data row2 col2\" >1.000000</td>\n",
       "      <td id=\"T_db562_row2_col3\" class=\"data row2 col3\" >10</td>\n",
       "      <td id=\"T_db562_row2_col4\" class=\"data row2 col4\" >Blogger Craig Beam (My Life in the Shadow of The Twilight Zone) joins the Twilight Zone podcast fray with his own...um... UNIQUE take on the classic series.</td>\n",
       "    </tr>\n",
       "    <tr>\n",
       "      <th id=\"T_db562_level0_row3\" class=\"row_heading level0 row3\" >3</th>\n",
       "      <td id=\"T_db562_row3_col0\" class=\"data row3 col0\" >Erica Courdae</td>\n",
       "      <td id=\"T_db562_row3_col1\" class=\"data row3 col1\" >1</td>\n",
       "      <td id=\"T_db562_row3_col2\" class=\"data row3 col2\" >1.000000</td>\n",
       "      <td id=\"T_db562_row3_col3\" class=\"data row3 col3\" >4</td>\n",
       "      <td id=\"T_db562_row3_col4\" class=\"data row3 col4\" >This podcast is all about wellness. Specifically, it is designed to focus on the various factors that influence wellbeing, to include creating a wellness vision, designing a plan to make that vision a reality, while addressing methods to keep one's vision moving forward. In addition, this program will address potential obstacles and offer ways for the listener to more successfully navigate life's inevitable challenges.</td>\n",
       "    </tr>\n",
       "    <tr>\n",
       "      <th id=\"T_db562_level0_row4\" class=\"row_heading level0 row4\" >4</th>\n",
       "      <td id=\"T_db562_row4_col0\" class=\"data row4 col0\" >Colin Frangicetto</td>\n",
       "      <td id=\"T_db562_row4_col1\" class=\"data row4 col1\" >1</td>\n",
       "      <td id=\"T_db562_row4_col2\" class=\"data row4 col2\" >1.000000</td>\n",
       "      <td id=\"T_db562_row4_col3\" class=\"data row4 col3\" >3</td>\n",
       "      <td id=\"T_db562_row4_col4\" class=\"data row4 col4\" >A mix through a selection of Hip-Hop and whatever else comes off the shelves - special respect to those underappreciated artists, album cuts, and b-sides - always keeping it varied, aiming to make sure everyone discovers something new every episode!</td>\n",
       "    </tr>\n",
       "    <tr>\n",
       "      <th id=\"T_db562_level0_row5\" class=\"row_heading level0 row5\" >5</th>\n",
       "      <td id=\"T_db562_row5_col0\" class=\"data row5 col0\" >Joe Casabona</td>\n",
       "      <td id=\"T_db562_row5_col1\" class=\"data row5 col1\" >1</td>\n",
       "      <td id=\"T_db562_row5_col2\" class=\"data row5 col2\" >1.000000</td>\n",
       "      <td id=\"T_db562_row5_col3\" class=\"data row5 col3\" >4</td>\n",
       "      <td id=\"T_db562_row5_col4\" class=\"data row5 col4\" >Ziggy iz da troll what plays da musics, tells da big thoughts, and helps all da shadow type peoples wit da weather. #shadowrun #incharacter</td>\n",
       "    </tr>\n",
       "    <tr>\n",
       "      <th id=\"T_db562_level0_row6\" class=\"row_heading level0 row6\" >6</th>\n",
       "      <td id=\"T_db562_row6_col0\" class=\"data row6 col0\" >bluedreamradio</td>\n",
       "      <td id=\"T_db562_row6_col1\" class=\"data row6 col1\" >1</td>\n",
       "      <td id=\"T_db562_row6_col2\" class=\"data row6 col2\" >1.000000</td>\n",
       "      <td id=\"T_db562_row6_col3\" class=\"data row6 col3\" >8</td>\n",
       "      <td id=\"T_db562_row6_col4\" class=\"data row6 col4\" >A 20-minute gaming podcast that covers: News, Reviews, Interviews, Top 5's, Discussions and more! A podcast perfect for any and all gamers!</td>\n",
       "    </tr>\n",
       "    <tr>\n",
       "      <th id=\"T_db562_level0_row7\" class=\"row_heading level0 row7\" >7</th>\n",
       "      <td id=\"T_db562_row7_col0\" class=\"data row7 col0\" >Kyle Wood</td>\n",
       "      <td id=\"T_db562_row7_col1\" class=\"data row7 col1\" >1</td>\n",
       "      <td id=\"T_db562_row7_col2\" class=\"data row7 col2\" >1.000000</td>\n",
       "      <td id=\"T_db562_row7_col3\" class=\"data row7 col3\" >4</td>\n",
       "      <td id=\"T_db562_row7_col4\" class=\"data row7 col4\" >A Believer, A Skeptic, and the things that go bump in the night. Zero Percent Scared explores the tales and the truth behind all things strange and unexplained--join them as they laugh, drink, argue, and get pushed outside their comfort zones.</td>\n",
       "    </tr>\n",
       "    <tr>\n",
       "      <th id=\"T_db562_level0_row8\" class=\"row_heading level0 row8\" >8</th>\n",
       "      <td id=\"T_db562_row8_col0\" class=\"data row8 col0\" >Dale Sidebottom</td>\n",
       "      <td id=\"T_db562_row8_col1\" class=\"data row8 col1\" >1</td>\n",
       "      <td id=\"T_db562_row8_col2\" class=\"data row8 col2\" >1.000000</td>\n",
       "      <td id=\"T_db562_row8_col3\" class=\"data row8 col3\" >16</td>\n",
       "      <td id=\"T_db562_row8_col4\" class=\"data row8 col4\" >A Believer, A Skeptic, and the things that go bump in the night. Zero Percent Scared explores the tales and the truth behind all things strange and unexplained--join them as they laugh, drink, argue, and get pushed outside their comfort zones.</td>\n",
       "    </tr>\n",
       "    <tr>\n",
       "      <th id=\"T_db562_level0_row9\" class=\"row_heading level0 row9\" >9</th>\n",
       "      <td id=\"T_db562_row9_col0\" class=\"data row9 col0\" >Lynn Toomer</td>\n",
       "      <td id=\"T_db562_row9_col1\" class=\"data row9 col1\" >2</td>\n",
       "      <td id=\"T_db562_row9_col2\" class=\"data row9 col2\" >1.000000</td>\n",
       "      <td id=\"T_db562_row9_col3\" class=\"data row9 col3\" >8</td>\n",
       "      <td id=\"T_db562_row9_col4\" class=\"data row9 col4\" >Financial Insight is about changing your mindset in order to “Change The Speed” of everything you want to enjoy financially. Realizing your desire for financial independence begins with a shift of the mindset, then to action.Changing The Speed for LivingWe show you how to simply create your foundation that allows you to secure your family, household and way of living.– Create a budget.– Educating you about money.– Establish financial goals.Changing The Speed to Save– Developing your first line of financial defense.– Save each month– Compound interest. Support this podcast: <a href=\"https://anchor.fm/changethespeed/support\" rel=\"payment\">https://anchor.fm/changethespeed/support</a></td>\n",
       "    </tr>\n",
       "    <tr>\n",
       "      <th id=\"T_db562_level0_row10\" class=\"row_heading level0 row10\" >10</th>\n",
       "      <td id=\"T_db562_row10_col0\" class=\"data row10 col0\" >Lynn Toomer</td>\n",
       "      <td id=\"T_db562_row10_col1\" class=\"data row10 col1\" >2</td>\n",
       "      <td id=\"T_db562_row10_col2\" class=\"data row10 col2\" >1.000000</td>\n",
       "      <td id=\"T_db562_row10_col3\" class=\"data row10 col3\" >8</td>\n",
       "      <td id=\"T_db562_row10_col4\" class=\"data row10 col4\" >Financial Insight is about changing your mindset in order to “Change The Speed” of everything you want to enjoy financially. Realizing your desire for financial independence begins with a shift of the mindset, then to action.Changing The Speed for LivingWe show you how to simply create your foundation that allows you to secure your family, household and way of living.– Create a budget.– Educating you about money.– Establish financial goals.Changing The Speed to Save– Developing your first line of financial defense.– Save each month– Compound interest. Support this podcast: <a href=\"https://anchor.fm/changethespeed/support\" rel=\"payment\">https://anchor.fm/changethespeed/support</a></td>\n",
       "    </tr>\n",
       "    <tr>\n",
       "      <th id=\"T_db562_level0_row11\" class=\"row_heading level0 row11\" >11</th>\n",
       "      <td id=\"T_db562_row11_col0\" class=\"data row11 col0\" >Alyssa Fikse</td>\n",
       "      <td id=\"T_db562_row11_col1\" class=\"data row11 col1\" >2</td>\n",
       "      <td id=\"T_db562_row11_col2\" class=\"data row11 col2\" >1.000000</td>\n",
       "      <td id=\"T_db562_row11_col3\" class=\"data row11 col3\" >8</td>\n",
       "      <td id=\"T_db562_row11_col4\" class=\"data row11 col4\" >Financial Insight is about changing your mindset in order to “Change The Speed” of everything you want to enjoy financially. Realizing your desire for financial independence begins with a shift of the mindset, then to action.Changing The Speed for LivingWe show you how to simply create your foundation that allows you to secure your family, household and way of living.– Create a budget.– Educating you about money.– Establish financial goals.Changing The Speed to Save– Developing your first line of financial defense.– Save each month– Compound interest. Support this podcast: <a href=\"https://anchor.fm/changethespeed/support\" rel=\"payment\">https://anchor.fm/changethespeed/support</a></td>\n",
       "    </tr>\n",
       "    <tr>\n",
       "      <th id=\"T_db562_level0_row12\" class=\"row_heading level0 row12\" >12</th>\n",
       "      <td id=\"T_db562_row12_col0\" class=\"data row12 col0\" >Alyssa Fikse</td>\n",
       "      <td id=\"T_db562_row12_col1\" class=\"data row12 col1\" >2</td>\n",
       "      <td id=\"T_db562_row12_col2\" class=\"data row12 col2\" >1.000000</td>\n",
       "      <td id=\"T_db562_row12_col3\" class=\"data row12 col3\" >8</td>\n",
       "      <td id=\"T_db562_row12_col4\" class=\"data row12 col4\" >Financial Insight is about changing your mindset in order to “Change The Speed” of everything you want to enjoy financially. Realizing your desire for financial independence begins with a shift of the mindset, then to action.Changing The Speed for LivingWe show you how to simply create your foundation that allows you to secure your family, household and way of living.– Create a budget.– Educating you about money.– Establish financial goals.Changing The Speed to Save– Developing your first line of financial defense.– Save each month– Compound interest. Support this podcast: <a href=\"https://anchor.fm/changethespeed/support\" rel=\"payment\">https://anchor.fm/changethespeed/support</a></td>\n",
       "    </tr>\n",
       "    <tr>\n",
       "      <th id=\"T_db562_level0_row13\" class=\"row_heading level0 row13\" >13</th>\n",
       "      <td id=\"T_db562_row13_col0\" class=\"data row13 col0\" >Fangrrls Jessica</td>\n",
       "      <td id=\"T_db562_row13_col1\" class=\"data row13 col1\" >2</td>\n",
       "      <td id=\"T_db562_row13_col2\" class=\"data row13 col2\" >1.000000</td>\n",
       "      <td id=\"T_db562_row13_col3\" class=\"data row13 col3\" >8</td>\n",
       "      <td id=\"T_db562_row13_col4\" class=\"data row13 col4\" >Financial Insight is about changing your mindset in order to “Change The Speed” of everything you want to enjoy financially. Realizing your desire for financial independence begins with a shift of the mindset, then to action.Changing The Speed for LivingWe show you how to simply create your foundation that allows you to secure your family, household and way of living.– Create a budget.– Educating you about money.– Establish financial goals.Changing The Speed to Save– Developing your first line of financial defense.– Save each month– Compound interest. Support this podcast: <a href=\"https://anchor.fm/changethespeed/support\" rel=\"payment\">https://anchor.fm/changethespeed/support</a></td>\n",
       "    </tr>\n",
       "    <tr>\n",
       "      <th id=\"T_db562_level0_row14\" class=\"row_heading level0 row14\" >14</th>\n",
       "      <td id=\"T_db562_row14_col0\" class=\"data row14 col0\" >Fangrrls Jessica</td>\n",
       "      <td id=\"T_db562_row14_col1\" class=\"data row14 col1\" >2</td>\n",
       "      <td id=\"T_db562_row14_col2\" class=\"data row14 col2\" >1.000000</td>\n",
       "      <td id=\"T_db562_row14_col3\" class=\"data row14 col3\" >8</td>\n",
       "      <td id=\"T_db562_row14_col4\" class=\"data row14 col4\" >Financial Insight is about changing your mindset in order to “Change The Speed” of everything you want to enjoy financially. Realizing your desire for financial independence begins with a shift of the mindset, then to action.Changing The Speed for LivingWe show you how to simply create your foundation that allows you to secure your family, household and way of living.– Create a budget.– Educating you about money.– Establish financial goals.Changing The Speed to Save– Developing your first line of financial defense.– Save each month– Compound interest. Support this podcast: <a href=\"https://anchor.fm/changethespeed/support\" rel=\"payment\">https://anchor.fm/changethespeed/support</a></td>\n",
       "    </tr>\n",
       "    <tr>\n",
       "      <th id=\"T_db562_level0_row15\" class=\"row_heading level0 row15\" >15</th>\n",
       "      <td id=\"T_db562_row15_col0\" class=\"data row15 col0\" >Paris Jackson</td>\n",
       "      <td id=\"T_db562_row15_col1\" class=\"data row15 col1\" >2</td>\n",
       "      <td id=\"T_db562_row15_col2\" class=\"data row15 col2\" >1.000000</td>\n",
       "      <td id=\"T_db562_row15_col3\" class=\"data row15 col3\" >4</td>\n",
       "      <td id=\"T_db562_row15_col4\" class=\"data row15 col4\" >Let’s talk and rant together about humor, relationship advice, and even medical conditions this will be fun so I hope you join me!</td>\n",
       "    </tr>\n",
       "    <tr>\n",
       "      <th id=\"T_db562_level0_row16\" class=\"row_heading level0 row16\" >16</th>\n",
       "      <td id=\"T_db562_row16_col0\" class=\"data row16 col0\" >Paris Jackson</td>\n",
       "      <td id=\"T_db562_row16_col1\" class=\"data row16 col1\" >2</td>\n",
       "      <td id=\"T_db562_row16_col2\" class=\"data row16 col2\" >1.000000</td>\n",
       "      <td id=\"T_db562_row16_col3\" class=\"data row16 col3\" >4</td>\n",
       "      <td id=\"T_db562_row16_col4\" class=\"data row16 col4\" >Let’s talk and rant together about humor, relationship advice, and even medical conditions this will be fun so I hope you join me!</td>\n",
       "    </tr>\n",
       "    <tr>\n",
       "      <th id=\"T_db562_level0_row17\" class=\"row_heading level0 row17\" >17</th>\n",
       "      <td id=\"T_db562_row17_col0\" class=\"data row17 col0\" >Scott Gabriel Knowles</td>\n",
       "      <td id=\"T_db562_row17_col1\" class=\"data row17 col1\" >2</td>\n",
       "      <td id=\"T_db562_row17_col2\" class=\"data row17 col2\" >1.000000</td>\n",
       "      <td id=\"T_db562_row17_col3\" class=\"data row17 col3\" >53</td>\n",
       "      <td id=\"T_db562_row17_col4\" class=\"data row17 col4\" >An extraordinary journey with professional forager, Garry Eveleigh.</td>\n",
       "    </tr>\n",
       "    <tr>\n",
       "      <th id=\"T_db562_level0_row18\" class=\"row_heading level0 row18\" >18</th>\n",
       "      <td id=\"T_db562_row18_col0\" class=\"data row18 col0\" >Scott Gabriel Knowles</td>\n",
       "      <td id=\"T_db562_row18_col1\" class=\"data row18 col1\" >2</td>\n",
       "      <td id=\"T_db562_row18_col2\" class=\"data row18 col2\" >1.000000</td>\n",
       "      <td id=\"T_db562_row18_col3\" class=\"data row18 col3\" >53</td>\n",
       "      <td id=\"T_db562_row18_col4\" class=\"data row18 col4\" >An extraordinary journey with professional forager, Garry Eveleigh.</td>\n",
       "    </tr>\n",
       "    <tr>\n",
       "      <th id=\"T_db562_level0_row19\" class=\"row_heading level0 row19\" >19</th>\n",
       "      <td id=\"T_db562_row19_col0\" class=\"data row19 col0\" >Kara C Adams</td>\n",
       "      <td id=\"T_db562_row19_col1\" class=\"data row19 col1\" >2</td>\n",
       "      <td id=\"T_db562_row19_col2\" class=\"data row19 col2\" >1.000000</td>\n",
       "      <td id=\"T_db562_row19_col3\" class=\"data row19 col3\" >6</td>\n",
       "      <td id=\"T_db562_row19_col4\" class=\"data row19 col4\" >Stardust The english show of GS Radio turns into the podcast version, talking about what happens around the world.Created and hosted by Daniele Antonio Battagliawww.gsradio.itwww.globalshow.netwww.danielebattaglia.comwww.compagniafantasma.euwww.thesharpshooter.euwww.nerdlandshop.net</td>\n",
       "    </tr>\n",
       "  </tbody>\n",
       "</table>\n"
      ],
      "text/plain": [
       "<pandas.io.formats.style.Styler at 0x7ff8c7233150>"
      ]
     },
     "execution_count": 277,
     "metadata": {},
     "output_type": "execute_result"
    }
   ],
   "source": [
    "temp = predDf[predDf[\"epCount\"] > 1]\n",
    "\n",
    "#temp[\"podDescription\"] = temp[\"podDescription\"].str.wrap(100) \n",
    "#temp[[\"ent\", \"epCount\", \"epProp\", \"podDescription\"]]\n",
    "\n",
    "pd.options.display.max_colwidth = 25\n",
    "temp[[\"ent\", \"epCount\", \"epProp\", \"acrossCount\", \"podDescription\"]].head(20).style.set_properties(\n",
    "    **{\n",
    "        'inline-size': '10px',\n",
    "        'overflow-wrap': 'break-word',\n",
    "    }, \n",
    "    subset='podDescription'\n",
    ")\n"
   ]
  },
  {
   "cell_type": "code",
   "execution_count": null,
   "id": "e18bdc61-113d-47b0-9ca5-1fef8c0b7837",
   "metadata": {},
   "outputs": [],
   "source": [
    "predDf.sample(2000)[[\"ent\", \"epCount\", \"epProp\", \"podDescription\"]].sort_values(\"epProp\", ascending=False)"
   ]
  },
  {
   "cell_type": "code",
   "execution_count": null,
   "id": "ed58ac3e-0677-41c0-a6cd-1fa56a383cac",
   "metadata": {},
   "outputs": [],
   "source": []
  }
 ],
 "metadata": {
  "kernelspec": {
   "display_name": "Python 3",
   "language": "python",
   "name": "python3"
  },
  "language_info": {
   "codemirror_mode": {
    "name": "ipython",
    "version": 3
   },
   "file_extension": ".py",
   "mimetype": "text/x-python",
   "name": "python",
   "nbconvert_exporter": "python",
   "pygments_lexer": "ipython3",
   "version": "3.9.12"
  }
 },
 "nbformat": 4,
 "nbformat_minor": 5
}
