{
 "cells": [
  {
   "cell_type": "code",
   "execution_count": 16,
   "id": "a5c421a4-8825-4b21-8bc3-516a7bcd08bd",
   "metadata": {},
   "outputs": [],
   "source": [
    "import pandas as pd\n",
    "import matplotlib.pyplot as plt\n",
    "import numpy as np"
   ]
  },
  {
   "cell_type": "code",
   "execution_count": 3,
   "id": "d1e54ab3-61e2-4eaa-868a-461196b462cb",
   "metadata": {},
   "outputs": [],
   "source": [
    "df = pd.read_json(\"/shared/3/projects/benlitterer/podcastData/processed/floydMonth/floydMonthData.json]l\", orient=\"records\", lines=True)"
   ]
  },
  {
   "cell_type": "code",
   "execution_count": 8,
   "id": "b31c4c26-2001-4838-8dea-78ee38c4f1fd",
   "metadata": {},
   "outputs": [],
   "source": [
    "sampDf = df.dropna(subset=[\"transcript\"]).sample(100000) "
   ]
  },
  {
   "cell_type": "code",
   "execution_count": 10,
   "id": "da10c1a3-52c1-4a36-8566-75f0d8a65c3b",
   "metadata": {},
   "outputs": [
    {
     "data": {
      "text/html": [
       "<div>\n",
       "<style scoped>\n",
       "    .dataframe tbody tr th:only-of-type {\n",
       "        vertical-align: middle;\n",
       "    }\n",
       "\n",
       "    .dataframe tbody tr th {\n",
       "        vertical-align: top;\n",
       "    }\n",
       "\n",
       "    .dataframe thead th {\n",
       "        text-align: right;\n",
       "    }\n",
       "</style>\n",
       "<table border=\"1\" class=\"dataframe\">\n",
       "  <thead>\n",
       "    <tr style=\"text-align: right;\">\n",
       "      <th></th>\n",
       "      <th>transcript</th>\n",
       "    </tr>\n",
       "  </thead>\n",
       "  <tbody>\n",
       "    <tr>\n",
       "      <th>579649</th>\n",
       "      <td>There was a time in my life when I had suffere...</td>\n",
       "    </tr>\n",
       "    <tr>\n",
       "      <th>411500</th>\n",
       "      <td>[Music] Hey everybody, Tom Bragg this week in ...</td>\n",
       "    </tr>\n",
       "    <tr>\n",
       "      <th>370045</th>\n",
       "      <td>There's a whole crowd of man out there who nee...</td>\n",
       "    </tr>\n",
       "    <tr>\n",
       "      <th>309019</th>\n",
       "      <td>Well, hey everybody, what is up? Happy long we...</td>\n",
       "    </tr>\n",
       "    <tr>\n",
       "      <th>43761</th>\n",
       "      <td>(upbeat music) - Thanks for joining me here on...</td>\n",
       "    </tr>\n",
       "  </tbody>\n",
       "</table>\n",
       "</div>"
      ],
      "text/plain": [
       "                                               transcript\n",
       "579649  There was a time in my life when I had suffere...\n",
       "411500  [Music] Hey everybody, Tom Bragg this week in ...\n",
       "370045  There's a whole crowd of man out there who nee...\n",
       "309019  Well, hey everybody, what is up? Happy long we...\n",
       "43761   (upbeat music) - Thanks for joining me here on..."
      ]
     },
     "execution_count": 10,
     "metadata": {},
     "output_type": "execute_result"
    }
   ],
   "source": [
    "sampDf.head()[[\"transcript\"]] "
   ]
  },
  {
   "cell_type": "code",
   "execution_count": 11,
   "id": "3723e19c-1c71-4e57-842d-f8787171fbda",
   "metadata": {},
   "outputs": [],
   "source": [
    "sampDf[\"transcriptLen\"] = sampDf[\"transcript\"].apply(lambda x: len(x.split())) "
   ]
  },
  {
   "cell_type": "code",
   "execution_count": 14,
   "id": "dcde4399-e6f5-4e32-ab70-906ac9727730",
   "metadata": {},
   "outputs": [
    {
     "data": {
      "text/plain": [
       "(array([7.5754e+04, 2.3904e+04, 3.1300e+02, 2.6000e+01, 2.0000e+00,\n",
       "        0.0000e+00, 0.0000e+00, 0.0000e+00, 0.0000e+00, 1.0000e+00]),\n",
       " array([1.00000e+00, 6.71180e+03, 1.34226e+04, 2.01334e+04, 2.68442e+04,\n",
       "        3.35550e+04, 4.02658e+04, 4.69766e+04, 5.36874e+04, 6.03982e+04,\n",
       "        6.71090e+04]),\n",
       " <BarContainer object of 10 artists>)"
      ]
     },
     "execution_count": 14,
     "metadata": {},
     "output_type": "execute_result"
    },
    {
     "data": {
      "image/png": "[encoded data removed]",
      "text/plain": [
       "<Figure size 432x288 with 1 Axes>"
      ]
     },
     "metadata": {
      "needs_background": "light"
     },
     "output_type": "display_data"
    }
   ],
   "source": [
    "plt.hist(sampDf[\"transcriptLen\"]) "
   ]
  },
  {
   "cell_type": "code",
   "execution_count": 17,
   "id": "151f1648-445d-4248-b929-1be4ae4d6cd3",
   "metadata": {},
   "outputs": [
    {
     "data": {
      "text/plain": [
       "4202.27763"
      ]
     },
     "execution_count": 17,
     "metadata": {},
     "output_type": "execute_result"
    }
   ],
   "source": [
    "np.mean(sampDf[\"transcriptLen\"]) "
   ]
  },
  {
   "cell_type": "code",
   "execution_count": 18,
   "id": "28ae8924-5aa2-4f50-ab5b-7c8237150788",
   "metadata": {},
   "outputs": [
    {
     "data": {
      "text/plain": [
       "3672.0"
      ]
     },
     "execution_count": 18,
     "metadata": {},
     "output_type": "execute_result"
    }
   ],
   "source": [
    "np.median(sampDf[\"transcriptLen\"]) "
   ]
  },
  {
   "cell_type": "code",
   "execution_count": null,
   "id": "59301df1-0d07-46a8-83cd-bc363911ac4f",
   "metadata": {},
   "outputs": [],
   "source": []
  }
 ],
 "metadata": {
  "kernelspec": {
   "display_name": "Python 3",
   "language": "python",
   "name": "python3"
  },
  "language_info": {
   "codemirror_mode": {
    "name": "ipython",
    "version": 3
   },
   "file_extension": ".py",
   "mimetype": "text/x-python",
   "name": "python",
   "nbconvert_exporter": "python",
   "pygments_lexer": "ipython3",
   "version": "3.9.12"
  }
 },
 "nbformat": 4,
 "nbformat_minor": 5
}
