{
 "cells": [
  {
   "cell_type": "code",
   "execution_count": 164,
   "id": "557ebe09-7569-43e2-9cb3-8a369e175dcf",
   "metadata": {},
   "outputs": [],
   "source": [
    "import pandas as pd\n",
    "import re\n",
    "import matplotlib.pyplot as plt\n",
    "import seaborn as sns\n",
    "import numpy as np"
   ]
  },
  {
   "cell_type": "code",
   "execution_count": 3,
   "id": "820a885d-5408-4fcc-8b08-f8c7bee8be08",
   "metadata": {},
   "outputs": [],
   "source": [
    "entDf = pd.read_csv(\"/shared/3/projects/benlitterer/podcastData/NER/podIntroductions/floydMonth500wordNEs.csv\", names=[\"potentialOutPath\", \"ent\", \"start\", \"end\", \"type\"])"
   ]
  },
  {
   "cell_type": "code",
   "execution_count": 5,
   "id": "924db17d-5fb5-4e48-a1c2-2fb714529a36",
   "metadata": {},
   "outputs": [],
   "source": [
    "entDf = entDf[entDf[\"type\"] == \"PERSON\"] "
   ]
  },
  {
   "cell_type": "code",
   "execution_count": 48,
   "id": "4b3a7b71-1427-4eda-bf99-b0c8a1c8825c",
   "metadata": {},
   "outputs": [
    {
     "name": "stderr",
     "output_type": "stream",
     "text": [
      "/tmp/ipykernel_1668675/1612250988.py:1: DtypeWarning: Columns (6,7,8,12,20,49) have mixed types. Specify dtype option on import or set low_memory=False.\n",
      "  metaDf = pd.read_csv(\"/shared/3/projects/benlitterer/podcastData/processed/floydMonth/floydMonthEnSHORT.csv\")\n"
     ]
    }
   ],
   "source": [
    "metaDf = pd.read_csv(\"/shared/3/projects/benlitterer/podcastData/processed/floydMonth/floydMonthEnSHORT.csv\")"
   ]
  },
  {
   "cell_type": "code",
   "execution_count": 19,
   "id": "eb781950-c8d1-4bc6-a6c4-19558150c0df",
   "metadata": {},
   "outputs": [],
   "source": [
    "introDf = pd.read_csv(\"/shared/3/projects/benlitterer/podcastData/NER/floydIntroductions.tsv\", sep=\"\\t\", names=[\"potentialOutPath\", \"first500\"])"
   ]
  },
  {
   "cell_type": "code",
   "execution_count": 20,
   "id": "e38d1784-4399-4f7d-bb97-8a7deb165335",
   "metadata": {},
   "outputs": [],
   "source": [
    "df = pd.merge(entDf, introDf, on=\"potentialOutPath\", how=\"left\") "
   ]
  },
  {
   "cell_type": "code",
   "execution_count": 21,
   "id": "6aff5437-ba51-4f50-8eea-323ad269bcbb",
   "metadata": {},
   "outputs": [
    {
     "data": {
      "text/plain": [
       "(2771686, 6)"
      ]
     },
     "execution_count": 21,
     "metadata": {},
     "output_type": "execute_result"
    }
   ],
   "source": [
    "df.shape"
   ]
  },
  {
   "cell_type": "code",
   "execution_count": 22,
   "id": "b8f0f9bc-8359-4d19-a819-3877fa4a502f",
   "metadata": {},
   "outputs": [
    {
     "data": {
      "text/html": [
       "<div>\n",
       "<style scoped>\n",
       "    .dataframe tbody tr th:only-of-type {\n",
       "        vertical-align: middle;\n",
       "    }\n",
       "\n",
       "    .dataframe tbody tr th {\n",
       "        vertical-align: top;\n",
       "    }\n",
       "\n",
       "    .dataframe thead th {\n",
       "        text-align: right;\n",
       "    }\n",
       "</style>\n",
       "<table border=\"1\" class=\"dataframe\">\n",
       "  <thead>\n",
       "    <tr style=\"text-align: right;\">\n",
       "      <th></th>\n",
       "      <th>ent</th>\n",
       "      <th>start</th>\n",
       "      <th>end</th>\n",
       "      <th>first500</th>\n",
       "    </tr>\n",
       "  </thead>\n",
       "  <tbody>\n",
       "    <tr>\n",
       "      <th>0</th>\n",
       "      <td>Simon Shapiro</td>\n",
       "      <td>12</td>\n",
       "      <td>25</td>\n",
       "      <td>content I'm Simon Shapiro and this is Sing Out...</td>\n",
       "    </tr>\n",
       "    <tr>\n",
       "      <th>1</th>\n",
       "      <td>Mike Haveername</td>\n",
       "      <td>1446</td>\n",
       "      <td>1461</td>\n",
       "      <td>content I'm Simon Shapiro and this is Sing Out...</td>\n",
       "    </tr>\n",
       "    <tr>\n",
       "      <th>2</th>\n",
       "      <td>Lee Walker</td>\n",
       "      <td>1466</td>\n",
       "      <td>1476</td>\n",
       "      <td>content I'm Simon Shapiro and this is Sing Out...</td>\n",
       "    </tr>\n",
       "    <tr>\n",
       "      <th>3</th>\n",
       "      <td>Lindsey Rhimes</td>\n",
       "      <td>2010</td>\n",
       "      <td>2024</td>\n",
       "      <td>content I'm Simon Shapiro and this is Sing Out...</td>\n",
       "    </tr>\n",
       "    <tr>\n",
       "      <th>4</th>\n",
       "      <td>Simon Shapiro</td>\n",
       "      <td>12</td>\n",
       "      <td>25</td>\n",
       "      <td>content I'm Simon Shapiro and this is Sing Out...</td>\n",
       "    </tr>\n",
       "  </tbody>\n",
       "</table>\n",
       "</div>"
      ],
      "text/plain": [
       "               ent  start   end  \\\n",
       "0    Simon Shapiro     12    25   \n",
       "1  Mike Haveername   1446  1461   \n",
       "2       Lee Walker   1466  1476   \n",
       "3   Lindsey Rhimes   2010  2024   \n",
       "4    Simon Shapiro     12    25   \n",
       "\n",
       "                                            first500  \n",
       "0  content I'm Simon Shapiro and this is Sing Out...  \n",
       "1  content I'm Simon Shapiro and this is Sing Out...  \n",
       "2  content I'm Simon Shapiro and this is Sing Out...  \n",
       "3  content I'm Simon Shapiro and this is Sing Out...  \n",
       "4  content I'm Simon Shapiro and this is Sing Out...  "
      ]
     },
     "execution_count": 22,
     "metadata": {},
     "output_type": "execute_result"
    }
   ],
   "source": [
    "df[[\"ent\", \"start\", \"end\", \"first500\"]].head()"
   ]
  },
  {
   "cell_type": "code",
   "execution_count": 24,
   "id": "00ff7ddc-28f1-4f38-8b96-1b1e4673b526",
   "metadata": {},
   "outputs": [
    {
     "data": {
      "text/plain": [
       "'Simon Shapiro'"
      ]
     },
     "execution_count": 24,
     "metadata": {},
     "output_type": "execute_result"
    }
   ],
   "source": [
    "df.loc[0, \"first500\"][12:25]"
   ]
  },
  {
   "cell_type": "code",
   "execution_count": 26,
   "id": "0dd665c3-9ed9-4362-a669-18352b824e84",
   "metadata": {},
   "outputs": [],
   "source": [
    "def getSnippet(inRow): \n",
    "    BUFFER = 40\n",
    "    left = inRow[\"start\"] - BUFFER\n",
    "    left = left if left > 0 else 0\n",
    "    \n",
    "    right = inRow[\"end\"] + BUFFER\n",
    "    right = right if right < len(inRow[\"first500\"]) else len(inRow[\"first500\"]) \n",
    "\n",
    "    return inRow[\"first500\"][left:right]"
   ]
  },
  {
   "cell_type": "code",
   "execution_count": 27,
   "id": "6cf1407f-f844-4083-8700-289e040899e6",
   "metadata": {},
   "outputs": [],
   "source": [
    "df = df.dropna(subset=[\"start\", \"end\", \"first500\", \"ent\"])"
   ]
  },
  {
   "cell_type": "code",
   "execution_count": 28,
   "id": "1ac50cf6-7a02-4587-8649-2c50e4e39967",
   "metadata": {},
   "outputs": [],
   "source": [
    "#df[\"entSnippet\"] = \n",
    "df[\"entSnippet\"] = df.apply(getSnippet, axis=1)"
   ]
  },
  {
   "cell_type": "code",
   "execution_count": null,
   "id": "43759218-5e9e-445a-8a70-de2be37c2081",
   "metadata": {},
   "outputs": [],
   "source": [
    "#NOTE: for pod descriptions we dropped duplicate podcasts, but for transcripts we want to \n",
    "#use each transcript for inference \n",
    "#df = df.drop_duplicates(subset=[\"first500\"]) "
   ]
  },
  {
   "cell_type": "code",
   "execution_count": 32,
   "id": "1209f922-9bed-424a-9201-4c844ce40779",
   "metadata": {},
   "outputs": [
    {
     "name": "stdout",
     "output_type": "stream",
     "text": [
      "(604128, 7)\n"
     ]
    }
   ],
   "source": [
    "\n",
    "def hasKeyword(snippet): \n",
    "    snippet = snippet.lower() \n",
    "\n",
    "    #gets us like 3,500 hits \n",
    "    hostRe = \"host(s)?(ed)?(ing)?\" \n",
    "    hostHits = re.findall(hostRe, snippet)\n",
    "    \n",
    "    #gets us 5,00 hits \n",
    "    #might need to do \"podcast by\" or something like that \n",
    "    byWithRe = \"(\\\\s)+(by|with)(\\\\s)+\" \n",
    "    byWithHits = re.findall(byWithRe, snippet)\n",
    "\n",
    "    #joinsRe = \"(\\\\s)+join(ed)?(ing)?\"\n",
    "    #joinHits = re.findall(joinsRe, snippet)\n",
    "    \n",
    "    totalHits = len(hostHits) + len(byWithHits) #+ len(joinHits)\n",
    "    \n",
    "    return totalHits > 0\n",
    "    \n",
    "hasHost = df[df[\"entSnippet\"].apply(hasKeyword)] \n",
    "print(hasHost.shape)"
   ]
  },
  {
   "cell_type": "code",
   "execution_count": 35,
   "id": "edc9db20-06b2-4b81-9857-0ee94895814a",
   "metadata": {},
   "outputs": [
    {
     "data": {
      "text/plain": [
       "(2771686, 7)"
      ]
     },
     "execution_count": 35,
     "metadata": {},
     "output_type": "execute_result"
    }
   ],
   "source": [
    "df.shape"
   ]
  },
  {
   "cell_type": "code",
   "execution_count": 40,
   "id": "a90a9f48-c769-4f89-87ea-65f3e58d5629",
   "metadata": {},
   "outputs": [],
   "source": [
    "#this appears to work well \n",
    "pd.options.display.max_colwidth = 100\n",
    "#confirm that the ents are actually associtated with their snippet\n",
    "#hasHost[[\"ent\", \"entSnippet\"]].sample(20)"
   ]
  },
  {
   "cell_type": "code",
   "execution_count": 41,
   "id": "c76b40dc-2ee9-403b-a3fc-9c946fc057ba",
   "metadata": {},
   "outputs": [
    {
     "data": {
      "text/plain": [
       "Index(['potentialOutPath', 'ent', 'start', 'end', 'type', 'first500',\n",
       "       'entSnippet'],\n",
       "      dtype='object')"
      ]
     },
     "execution_count": 41,
     "metadata": {},
     "output_type": "execute_result"
    }
   ],
   "source": [
    "df.columns"
   ]
  },
  {
   "cell_type": "code",
   "execution_count": 43,
   "id": "3a1207d5-8765-48fd-997c-09efa421216a",
   "metadata": {},
   "outputs": [],
   "source": [
    "#acrossCounts = df[[\"type\", \"ent\"]].groupby(\"ent\").agg(len) "
   ]
  },
  {
   "cell_type": "code",
   "execution_count": null,
   "id": "ae70cd44-94c7-477c-919f-8b619e86f58f",
   "metadata": {},
   "outputs": [],
   "source": []
  },
  {
   "cell_type": "code",
   "execution_count": 76,
   "id": "2e8e927f-d681-47cc-b43b-1139845b61c3",
   "metadata": {},
   "outputs": [],
   "source": [
    "df = pd.merge(entDf,introDf, on=\"potentialOutPath\", how=\"inner\") "
   ]
  },
  {
   "cell_type": "code",
   "execution_count": null,
   "id": "982e8ec3-e81d-4edf-be5f-d337679edde9",
   "metadata": {},
   "outputs": [],
   "source": [
    "metaDf[\"potentialOutPath\"] = \"/shared/3/projects/benlitterer/podcastData/prosodyMerged/floydMonth\" + metaDf[\"potentialOutPath\"]"
   ]
  },
  {
   "cell_type": "code",
   "execution_count": 85,
   "id": "af7c82e5-7e24-46c7-9fa7-512faa6a2e50",
   "metadata": {},
   "outputs": [],
   "source": [
    "df = pd.merge(df, metaDf[[\"rssUrl\", \"category1\", \"category2\", \"guid\", \"potentialOutPath\",\"epTitle\", \"epDescription\",\"popularityScore\", \"podcastGuid\"]], on=\"potentialOutPath\", how=\"inner\") "
   ]
  },
  {
   "cell_type": "code",
   "execution_count": 87,
   "id": "3c320376-9b5e-4428-9204-6fae87fae1ef",
   "metadata": {},
   "outputs": [],
   "source": [
    "#we want to restrict ourselves to one entity occurence per episode,podcast pair \n",
    "#leverage the fact that each podcast episode has a unique output path \n",
    "df = df.drop_duplicates(subset=[\"potentialOutPath\", \"ent\"]) "
   ]
  },
  {
   "cell_type": "code",
   "execution_count": 88,
   "id": "4d04d110-7810-41e8-bca5-48491bbfb94b",
   "metadata": {},
   "outputs": [],
   "source": [
    "acrossCounts = pd.DataFrame(df[\"ent\"].value_counts()).reset_index()"
   ]
  },
  {
   "cell_type": "code",
   "execution_count": 89,
   "id": "e7046c62-2db8-4e4e-8218-db7dba2da737",
   "metadata": {},
   "outputs": [
    {
     "data": {
      "text/html": [
       "<div>\n",
       "<style scoped>\n",
       "    .dataframe tbody tr th:only-of-type {\n",
       "        vertical-align: middle;\n",
       "    }\n",
       "\n",
       "    .dataframe tbody tr th {\n",
       "        vertical-align: top;\n",
       "    }\n",
       "\n",
       "    .dataframe thead th {\n",
       "        text-align: right;\n",
       "    }\n",
       "</style>\n",
       "<table border=\"1\" class=\"dataframe\">\n",
       "  <thead>\n",
       "    <tr style=\"text-align: right;\">\n",
       "      <th></th>\n",
       "      <th>count</th>\n",
       "    </tr>\n",
       "    <tr>\n",
       "      <th>ent</th>\n",
       "      <th></th>\n",
       "    </tr>\n",
       "  </thead>\n",
       "  <tbody>\n",
       "    <tr>\n",
       "      <th>Jesus</th>\n",
       "      <td>38458</td>\n",
       "    </tr>\n",
       "    <tr>\n",
       "      <th>Instagram</th>\n",
       "      <td>17513</td>\n",
       "    </tr>\n",
       "    <tr>\n",
       "      <th>John</th>\n",
       "      <td>11539</td>\n",
       "    </tr>\n",
       "    <tr>\n",
       "      <th>George Floyd</th>\n",
       "      <td>9917</td>\n",
       "    </tr>\n",
       "    <tr>\n",
       "      <th>Paul</th>\n",
       "      <td>9378</td>\n",
       "    </tr>\n",
       "  </tbody>\n",
       "</table>\n",
       "</div>"
      ],
      "text/plain": [
       "              count\n",
       "ent                \n",
       "Jesus         38458\n",
       "Instagram     17513\n",
       "John          11539\n",
       "George Floyd   9917\n",
       "Paul           9378"
      ]
     },
     "execution_count": 89,
     "metadata": {},
     "output_type": "execute_result"
    }
   ],
   "source": [
    "acrossCounts.head() "
   ]
  },
  {
   "cell_type": "code",
   "execution_count": 103,
   "id": "b0412ee7-69c5-466a-a0b2-0db34370b61c",
   "metadata": {},
   "outputs": [],
   "source": [
    "#count the number of appearances for each entity within a given podcast\n",
    "withinCounts = df[[\"rssUrl\", \"ent\", \"type\"]].groupby(by=[\"rssUrl\", \"ent\"]).agg(len).reset_index()"
   ]
  },
  {
   "cell_type": "code",
   "execution_count": 104,
   "id": "a3cdfdaa-1fb1-49ba-827c-364b4bd31ddd",
   "metadata": {},
   "outputs": [],
   "source": [
    "withinCounts = withinCounts.rename(columns={\"type\":\"entEpCount\"}) "
   ]
  },
  {
   "cell_type": "code",
   "execution_count": 93,
   "id": "f342563a-753c-4128-a91f-bb955c251774",
   "metadata": {},
   "outputs": [
    {
     "data": {
      "text/html": [
       "<div>\n",
       "<style scoped>\n",
       "    .dataframe tbody tr th:only-of-type {\n",
       "        vertical-align: middle;\n",
       "    }\n",
       "\n",
       "    .dataframe tbody tr th {\n",
       "        vertical-align: top;\n",
       "    }\n",
       "\n",
       "    .dataframe thead th {\n",
       "        text-align: right;\n",
       "    }\n",
       "</style>\n",
       "<table border=\"1\" class=\"dataframe\">\n",
       "  <thead>\n",
       "    <tr style=\"text-align: right;\">\n",
       "      <th></th>\n",
       "      <th></th>\n",
       "      <th>type</th>\n",
       "    </tr>\n",
       "    <tr>\n",
       "      <th>rssUrl</th>\n",
       "      <th>ent</th>\n",
       "      <th></th>\n",
       "    </tr>\n",
       "  </thead>\n",
       "  <tbody>\n",
       "    <tr>\n",
       "      <th>https://anchor.fm/s/1fe618b4/podcast/rss</th>\n",
       "      <th>X80</th>\n",
       "      <td>433</td>\n",
       "    </tr>\n",
       "    <tr>\n",
       "      <th>https://anchor.fm/s/2a0c484/podcast/rss</th>\n",
       "      <th>Christopher Kai</th>\n",
       "      <td>188</td>\n",
       "    </tr>\n",
       "    <tr>\n",
       "      <th rowspan=\"2\" valign=\"top\">https://anchor.fm/s/1fe618b4/podcast/rss</th>\n",
       "      <th>Jerome Powell</th>\n",
       "      <td>180</td>\n",
       "    </tr>\n",
       "    <tr>\n",
       "      <th>Yen</th>\n",
       "      <td>163</td>\n",
       "    </tr>\n",
       "    <tr>\n",
       "      <th>https://anchor.fm/s/11e3c388/podcast/rss</th>\n",
       "      <th>Jami</th>\n",
       "      <td>137</td>\n",
       "    </tr>\n",
       "    <tr>\n",
       "      <th>...</th>\n",
       "      <th>...</th>\n",
       "      <td>...</td>\n",
       "    </tr>\n",
       "    <tr>\n",
       "      <th rowspan=\"4\" valign=\"top\">https://anchor.fm/s/5144e20/podcast/rss</th>\n",
       "      <th>Mary Catherine Dally</th>\n",
       "      <td>1</td>\n",
       "    </tr>\n",
       "    <tr>\n",
       "      <th>Mary Catherine</th>\n",
       "      <td>1</td>\n",
       "    </tr>\n",
       "    <tr>\n",
       "      <th>Candice Sony</th>\n",
       "      <td>1</td>\n",
       "    </tr>\n",
       "    <tr>\n",
       "      <th>Candice</th>\n",
       "      <td>1</td>\n",
       "    </tr>\n",
       "    <tr>\n",
       "      <th>https://anchor.fm/s/5148f688/podcast/rss</th>\n",
       "      <th>Layla</th>\n",
       "      <td>1</td>\n",
       "    </tr>\n",
       "  </tbody>\n",
       "</table>\n",
       "<p>1395414 rows × 1 columns</p>\n",
       "</div>"
      ],
      "text/plain": [
       "                                                               type\n",
       "rssUrl                                   ent                       \n",
       "https://anchor.fm/s/1fe618b4/podcast/rss X80                    433\n",
       "https://anchor.fm/s/2a0c484/podcast/rss  Christopher Kai        188\n",
       "https://anchor.fm/s/1fe618b4/podcast/rss Jerome Powell          180\n",
       "                                         Yen                    163\n",
       "https://anchor.fm/s/11e3c388/podcast/rss Jami                   137\n",
       "...                                                             ...\n",
       "https://anchor.fm/s/5144e20/podcast/rss  Mary Catherine Dally     1\n",
       "                                         Mary Catherine           1\n",
       "                                         Candice Sony             1\n",
       "                                         Candice                  1\n",
       "https://anchor.fm/s/5148f688/podcast/rss Layla                    1\n",
       "\n",
       "[1395414 rows x 1 columns]"
      ]
     },
     "execution_count": 93,
     "metadata": {},
     "output_type": "execute_result"
    }
   ],
   "source": [
    "withinCounts.sort_values(\"type\", ascending=False)"
   ]
  },
  {
   "cell_type": "code",
   "execution_count": 95,
   "id": "c0e46a11-5e80-4ecc-bc28-d9b461c9ed6f",
   "metadata": {},
   "outputs": [],
   "source": [
    "epCounts = pd.DataFrame(metaDf.drop_duplicates(subset=[\"rssUrl\", \"potentialOutPath\"])[[\"rssUrl\"]].value_counts())"
   ]
  },
  {
   "cell_type": "code",
   "execution_count": 98,
   "id": "6a781e54-8f4f-4728-916f-77d79b95c0ad",
   "metadata": {},
   "outputs": [],
   "source": [
    "epCounts = epCounts.reset_index() "
   ]
  },
  {
   "cell_type": "code",
   "execution_count": 105,
   "id": "542bd26d-0f33-4740-95ff-b51bbe01f879",
   "metadata": {},
   "outputs": [
    {
     "data": {
      "text/html": [
       "<div>\n",
       "<style scoped>\n",
       "    .dataframe tbody tr th:only-of-type {\n",
       "        vertical-align: middle;\n",
       "    }\n",
       "\n",
       "    .dataframe tbody tr th {\n",
       "        vertical-align: top;\n",
       "    }\n",
       "\n",
       "    .dataframe thead th {\n",
       "        text-align: right;\n",
       "    }\n",
       "</style>\n",
       "<table border=\"1\" class=\"dataframe\">\n",
       "  <thead>\n",
       "    <tr style=\"text-align: right;\">\n",
       "      <th></th>\n",
       "      <th>rssUrl</th>\n",
       "      <th>count</th>\n",
       "    </tr>\n",
       "  </thead>\n",
       "  <tbody>\n",
       "    <tr>\n",
       "      <th>0</th>\n",
       "      <td>https://www.spreaker.com/show/4215854/episodes/feed</td>\n",
       "      <td>1000</td>\n",
       "    </tr>\n",
       "    <tr>\n",
       "      <th>1</th>\n",
       "      <td>https://www.spreaker.com/show/4376700/episodes/feed</td>\n",
       "      <td>1000</td>\n",
       "    </tr>\n",
       "    <tr>\n",
       "      <th>2</th>\n",
       "      <td>https://anchor.fm/s/20440d0c/podcast/rss</td>\n",
       "      <td>787</td>\n",
       "    </tr>\n",
       "    <tr>\n",
       "      <th>3</th>\n",
       "      <td>https://anchor.fm/s/11e3c388/podcast/rss</td>\n",
       "      <td>746</td>\n",
       "    </tr>\n",
       "    <tr>\n",
       "      <th>4</th>\n",
       "      <td>https://anchor.fm/s/1fc40418/podcast/rss</td>\n",
       "      <td>739</td>\n",
       "    </tr>\n",
       "  </tbody>\n",
       "</table>\n",
       "</div>"
      ],
      "text/plain": [
       "                                                rssUrl  count\n",
       "0  https://www.spreaker.com/show/4215854/episodes/feed   1000\n",
       "1  https://www.spreaker.com/show/4376700/episodes/feed   1000\n",
       "2             https://anchor.fm/s/20440d0c/podcast/rss    787\n",
       "3             https://anchor.fm/s/11e3c388/podcast/rss    746\n",
       "4             https://anchor.fm/s/1fc40418/podcast/rss    739"
      ]
     },
     "execution_count": 105,
     "metadata": {},
     "output_type": "execute_result"
    }
   ],
   "source": [
    "epCounts.head()"
   ]
  },
  {
   "cell_type": "code",
   "execution_count": 106,
   "id": "7883d865-56e1-415d-a33d-67c4e427b191",
   "metadata": {},
   "outputs": [],
   "source": [
    "epCounts = epCounts.rename(columns={\"count\":\"numEps\"})"
   ]
  },
  {
   "cell_type": "code",
   "execution_count": 107,
   "id": "8fa24371-9a51-4fde-90b6-7ed5fda7ce33",
   "metadata": {},
   "outputs": [],
   "source": [
    "countDf = pd.merge(withinCounts, epCounts, on=\"rssUrl\", how=\"inner\")"
   ]
  },
  {
   "cell_type": "code",
   "execution_count": 108,
   "id": "d2a511f0-92e8-4c59-ade7-8b1dd7e301c2",
   "metadata": {},
   "outputs": [
    {
     "data": {
      "text/html": [
       "<div>\n",
       "<style scoped>\n",
       "    .dataframe tbody tr th:only-of-type {\n",
       "        vertical-align: middle;\n",
       "    }\n",
       "\n",
       "    .dataframe tbody tr th {\n",
       "        vertical-align: top;\n",
       "    }\n",
       "\n",
       "    .dataframe thead th {\n",
       "        text-align: right;\n",
       "    }\n",
       "</style>\n",
       "<table border=\"1\" class=\"dataframe\">\n",
       "  <thead>\n",
       "    <tr style=\"text-align: right;\">\n",
       "      <th></th>\n",
       "      <th>rssUrl</th>\n",
       "      <th>ent</th>\n",
       "      <th>entEpCount</th>\n",
       "      <th>numEps</th>\n",
       "    </tr>\n",
       "  </thead>\n",
       "  <tbody>\n",
       "    <tr>\n",
       "      <th>0</th>\n",
       "      <td>Http://feeds.feedburner.com/ipadpros</td>\n",
       "      <td>Swift</td>\n",
       "      <td>1</td>\n",
       "      <td>3</td>\n",
       "    </tr>\n",
       "    <tr>\n",
       "      <th>1</th>\n",
       "      <td>Http://feeds.feedburner.com/ipadpros</td>\n",
       "      <td>Tim</td>\n",
       "      <td>1</td>\n",
       "      <td>3</td>\n",
       "    </tr>\n",
       "    <tr>\n",
       "      <th>2</th>\n",
       "      <td>Http://feeds.feedburner.com/ipadpros</td>\n",
       "      <td>Tim Chen</td>\n",
       "      <td>1</td>\n",
       "      <td>3</td>\n",
       "    </tr>\n",
       "    <tr>\n",
       "      <th>3</th>\n",
       "      <td>Http://feeds.feedburner.com/ipadpros</td>\n",
       "      <td>Yannick</td>\n",
       "      <td>1</td>\n",
       "      <td>3</td>\n",
       "    </tr>\n",
       "    <tr>\n",
       "      <th>4</th>\n",
       "      <td>Https://anchor.fm/s/1399a530/podcast/rss</td>\n",
       "      <td>Allison</td>\n",
       "      <td>1</td>\n",
       "      <td>3</td>\n",
       "    </tr>\n",
       "  </tbody>\n",
       "</table>\n",
       "</div>"
      ],
      "text/plain": [
       "                                     rssUrl       ent  entEpCount  numEps\n",
       "0      Http://feeds.feedburner.com/ipadpros     Swift           1       3\n",
       "1      Http://feeds.feedburner.com/ipadpros       Tim           1       3\n",
       "2      Http://feeds.feedburner.com/ipadpros  Tim Chen           1       3\n",
       "3      Http://feeds.feedburner.com/ipadpros   Yannick           1       3\n",
       "4  Https://anchor.fm/s/1399a530/podcast/rss   Allison           1       3"
      ]
     },
     "execution_count": 108,
     "metadata": {},
     "output_type": "execute_result"
    }
   ],
   "source": [
    "countDf.head() "
   ]
  },
  {
   "cell_type": "code",
   "execution_count": 109,
   "id": "efa7e263-6f95-46ec-a408-5208d0f3e769",
   "metadata": {},
   "outputs": [],
   "source": [
    "countDf[\"epProp\"] = countDf[\"entEpCount\"] / countDf[\"numEps\"]"
   ]
  },
  {
   "cell_type": "code",
   "execution_count": 117,
   "id": "effa5b54-118b-41cc-b0d8-98b7ad27f8c1",
   "metadata": {},
   "outputs": [
    {
     "data": {
      "text/plain": [
       "<Axes: xlabel='epProp', ylabel='Count'>"
      ]
     },
     "execution_count": 117,
     "metadata": {},
     "output_type": "execute_result"
    },
    {
     "data": {
      "image/png": "[encoded data removed]",
      "text/plain": [
       "<Figure size 640x480 with 1 Axes>"
      ]
     },
     "metadata": {},
     "output_type": "display_data"
    }
   ],
   "source": [
    "sns.histplot(data=countDf[countDf[\"numEps\"] >= 3].sample(5000), x=\"epProp\")"
   ]
  },
  {
   "cell_type": "code",
   "execution_count": 150,
   "id": "1b25a27d-1a5d-4856-a07f-43262e7d33f5",
   "metadata": {},
   "outputs": [],
   "source": [
    "countDf = pd.merge(countDf, metaDf[[\"rssUrl\", \"itunesAuthor\"]], on=\"rssUrl\", how=\"left\")\n",
    "countDf = countDf.drop_duplicates(subset=[\"rssUrl\", \"ent\"]) "
   ]
  },
  {
   "cell_type": "code",
   "execution_count": 154,
   "id": "cbe662a0-199b-4758-ad1e-3af91d8a9483",
   "metadata": {},
   "outputs": [
    {
     "data": {
      "text/html": [
       "<div>\n",
       "<style scoped>\n",
       "    .dataframe tbody tr th:only-of-type {\n",
       "        vertical-align: middle;\n",
       "    }\n",
       "\n",
       "    .dataframe tbody tr th {\n",
       "        vertical-align: top;\n",
       "    }\n",
       "\n",
       "    .dataframe thead th {\n",
       "        text-align: right;\n",
       "    }\n",
       "</style>\n",
       "<table border=\"1\" class=\"dataframe\">\n",
       "  <thead>\n",
       "    <tr style=\"text-align: right;\">\n",
       "      <th></th>\n",
       "      <th>rssUrl</th>\n",
       "      <th>ent</th>\n",
       "      <th>entEpCount</th>\n",
       "      <th>numEps</th>\n",
       "      <th>epProp</th>\n",
       "      <th>itunesAuthor</th>\n",
       "    </tr>\n",
       "  </thead>\n",
       "  <tbody>\n",
       "    <tr>\n",
       "      <th>15</th>\n",
       "      <td>Https://anchor.fm/s/1399a530/podcast/rss</td>\n",
       "      <td>Anna</td>\n",
       "      <td>2</td>\n",
       "      <td>3</td>\n",
       "      <td>0.666667</td>\n",
       "      <td>Jackie &amp; Anna</td>\n",
       "    </tr>\n",
       "    <tr>\n",
       "      <th>18</th>\n",
       "      <td>Https://anchor.fm/s/1399a530/podcast/rss</td>\n",
       "      <td>Jackie</td>\n",
       "      <td>2</td>\n",
       "      <td>3</td>\n",
       "      <td>0.666667</td>\n",
       "      <td>Jackie &amp; Anna</td>\n",
       "    </tr>\n",
       "    <tr>\n",
       "      <th>71</th>\n",
       "      <td>Https://feeds.acast.com/public/shows/whatareyougoingtodowiththat</td>\n",
       "      <td>Dani</td>\n",
       "      <td>3</td>\n",
       "      <td>4</td>\n",
       "      <td>0.750000</td>\n",
       "      <td>Ido Rosenzweig</td>\n",
       "    </tr>\n",
       "    <tr>\n",
       "      <th>275</th>\n",
       "      <td>http://15minuteeargasm.talkingishard.com/?feed=podcast</td>\n",
       "      <td>Rod</td>\n",
       "      <td>2</td>\n",
       "      <td>3</td>\n",
       "      <td>0.666667</td>\n",
       "      <td>Rod &amp; Mig</td>\n",
       "    </tr>\n",
       "    <tr>\n",
       "      <th>601</th>\n",
       "      <td>http://RedemptionChurchOKC.sermon.net/rss/main</td>\n",
       "      <td>Jesus</td>\n",
       "      <td>4</td>\n",
       "      <td>4</td>\n",
       "      <td>1.000000</td>\n",
       "      <td>Redemption Church</td>\n",
       "    </tr>\n",
       "    <tr>\n",
       "      <th>...</th>\n",
       "      <td>...</td>\n",
       "      <td>...</td>\n",
       "      <td>...</td>\n",
       "      <td>...</td>\n",
       "      <td>...</td>\n",
       "      <td>...</td>\n",
       "    </tr>\n",
       "    <tr>\n",
       "      <th>16246266</th>\n",
       "      <td>https://zimmcast.libsyn.com/rss</td>\n",
       "      <td>Chuck Zimmerman</td>\n",
       "      <td>2</td>\n",
       "      <td>2</td>\n",
       "      <td>1.000000</td>\n",
       "      <td>Chuck Zimmerman</td>\n",
       "    </tr>\n",
       "    <tr>\n",
       "      <th>16246270</th>\n",
       "      <td>https://zimmcast.libsyn.com/rss</td>\n",
       "      <td>Cindy Zimmerman</td>\n",
       "      <td>2</td>\n",
       "      <td>2</td>\n",
       "      <td>1.000000</td>\n",
       "      <td>Chuck Zimmerman</td>\n",
       "    </tr>\n",
       "    <tr>\n",
       "      <th>16246297</th>\n",
       "      <td>https://zippingaroundtheworld.libsyn.com/rss</td>\n",
       "      <td>Dan</td>\n",
       "      <td>2</td>\n",
       "      <td>2</td>\n",
       "      <td>1.000000</td>\n",
       "      <td>Dan - Travel Podcaster</td>\n",
       "    </tr>\n",
       "    <tr>\n",
       "      <th>16246301</th>\n",
       "      <td>https://zippingaroundtheworld.libsyn.com/rss</td>\n",
       "      <td>Ryan</td>\n",
       "      <td>2</td>\n",
       "      <td>2</td>\n",
       "      <td>1.000000</td>\n",
       "      <td>Dan - Travel Podcaster</td>\n",
       "    </tr>\n",
       "    <tr>\n",
       "      <th>16246303</th>\n",
       "      <td>https://zlord.libsyn.com/rss</td>\n",
       "      <td>Carter</td>\n",
       "      <td>3</td>\n",
       "      <td>3</td>\n",
       "      <td>1.000000</td>\n",
       "      <td>teZa Lord</td>\n",
       "    </tr>\n",
       "  </tbody>\n",
       "</table>\n",
       "<p>73218 rows × 6 columns</p>\n",
       "</div>"
      ],
      "text/plain": [
       "                                                                    rssUrl  \\\n",
       "15                                Https://anchor.fm/s/1399a530/podcast/rss   \n",
       "18                                Https://anchor.fm/s/1399a530/podcast/rss   \n",
       "71        Https://feeds.acast.com/public/shows/whatareyougoingtodowiththat   \n",
       "275                 http://15minuteeargasm.talkingishard.com/?feed=podcast   \n",
       "601                         http://RedemptionChurchOKC.sermon.net/rss/main   \n",
       "...                                                                    ...   \n",
       "16246266                                   https://zimmcast.libsyn.com/rss   \n",
       "16246270                                   https://zimmcast.libsyn.com/rss   \n",
       "16246297                      https://zippingaroundtheworld.libsyn.com/rss   \n",
       "16246301                      https://zippingaroundtheworld.libsyn.com/rss   \n",
       "16246303                                      https://zlord.libsyn.com/rss   \n",
       "\n",
       "                      ent  entEpCount  numEps    epProp  \\\n",
       "15                   Anna           2       3  0.666667   \n",
       "18                 Jackie           2       3  0.666667   \n",
       "71                   Dani           3       4  0.750000   \n",
       "275                   Rod           2       3  0.666667   \n",
       "601                 Jesus           4       4  1.000000   \n",
       "...                   ...         ...     ...       ...   \n",
       "16246266  Chuck Zimmerman           2       2  1.000000   \n",
       "16246270  Cindy Zimmerman           2       2  1.000000   \n",
       "16246297              Dan           2       2  1.000000   \n",
       "16246301             Ryan           2       2  1.000000   \n",
       "16246303           Carter           3       3  1.000000   \n",
       "\n",
       "                    itunesAuthor  \n",
       "15                 Jackie & Anna  \n",
       "18                 Jackie & Anna  \n",
       "71                Ido Rosenzweig  \n",
       "275                    Rod & Mig  \n",
       "601            Redemption Church  \n",
       "...                          ...  \n",
       "16246266         Chuck Zimmerman  \n",
       "16246270         Chuck Zimmerman  \n",
       "16246297  Dan - Travel Podcaster  \n",
       "16246301  Dan - Travel Podcaster  \n",
       "16246303               teZa Lord  \n",
       "\n",
       "[73218 rows x 6 columns]"
      ]
     },
     "execution_count": 154,
     "metadata": {},
     "output_type": "execute_result"
    }
   ],
   "source": [
    "countDf[(countDf[\"epProp\"] > .5) & (countDf[\"numEps\"] >1)]"
   ]
  },
  {
   "cell_type": "code",
   "execution_count": 160,
   "id": "1200d710-b2b0-472c-a2be-539347666c2a",
   "metadata": {},
   "outputs": [],
   "source": [
    "#first pass\n",
    "#if a named entity is in the description and the author field, it's probably the host \n",
    "def entIsAuthor(inRow):\n",
    "    if inRow[\"ent\"] == inRow[\"ent\"]: \n",
    "        ent = inRow[\"ent\"] \n",
    "    else: \n",
    "        return False \n",
    "    if inRow[\"itunesAuthor\"] == inRow[\"itunesAuthor\"]: \n",
    "        auth = inRow[\"itunesAuthor\"]\n",
    "    else: \n",
    "        return False \n",
    "        \n",
    "    return ent.lower() in auth.lower()\n",
    "    \n",
    "countDf[\"entInAuthor\"] = countDf.apply(entIsAuthor, axis=1)\n"
   ]
  },
  {
   "cell_type": "code",
   "execution_count": 165,
   "id": "9877c929-18bb-45a9-8dab-4543f8cac1d6",
   "metadata": {},
   "outputs": [
    {
     "data": {
      "text/plain": [
       "0.03934817910670239"
      ]
     },
     "execution_count": 165,
     "metadata": {},
     "output_type": "execute_result"
    }
   ],
   "source": [
    "np.mean(countDf[\"entInAuthor\"])"
   ]
  },
  {
   "cell_type": "code",
   "execution_count": 168,
   "id": "4053797a-ce59-4f9d-bb21-6b0f6ff4ac03",
   "metadata": {},
   "outputs": [],
   "source": [
    "correctEnt = countDf[countDf[\"entInAuthor\"] == True]"
   ]
  },
  {
   "cell_type": "code",
   "execution_count": 176,
   "id": "b146e845-7d8b-43e7-8f0a-e4d66952a80a",
   "metadata": {},
   "outputs": [
    {
     "data": {
      "text/plain": [
       "<Axes: xlabel='epProp', ylabel='Density'>"
      ]
     },
     "execution_count": 176,
     "metadata": {},
     "output_type": "execute_result"
    },
    {
     "data": {
      "image/png": "[encoded data removed]",
      "text/plain": [
       "<Figure size 640x480 with 1 Axes>"
      ]
     },
     "metadata": {},
     "output_type": "display_data"
    }
   ],
   "source": [
    "#this shows us the distribution of epProp for ground truth versus unlabelled \n",
    "#clearly more a higher epProp is better \n",
    "sns.histplot(data=countDf.sample(20000), x=\"epProp\", hue=\"entInAuthor\", common_norm=False, stat=\"density\") "
   ]
  },
  {
   "cell_type": "code",
   "execution_count": 178,
   "id": "71a6680e-70ab-4a58-8d5a-2d1cd622b820",
   "metadata": {},
   "outputs": [
    {
     "data": {
      "text/html": [
       "<div>\n",
       "<style scoped>\n",
       "    .dataframe tbody tr th:only-of-type {\n",
       "        vertical-align: middle;\n",
       "    }\n",
       "\n",
       "    .dataframe tbody tr th {\n",
       "        vertical-align: top;\n",
       "    }\n",
       "\n",
       "    .dataframe thead th {\n",
       "        text-align: right;\n",
       "    }\n",
       "</style>\n",
       "<table border=\"1\" class=\"dataframe\">\n",
       "  <thead>\n",
       "    <tr style=\"text-align: right;\">\n",
       "      <th></th>\n",
       "      <th>rssUrl</th>\n",
       "      <th>ent</th>\n",
       "      <th>entEpCount</th>\n",
       "      <th>numEps</th>\n",
       "      <th>epProp</th>\n",
       "      <th>itunesAuthor</th>\n",
       "      <th>entInAuthor</th>\n",
       "    </tr>\n",
       "  </thead>\n",
       "  <tbody>\n",
       "    <tr>\n",
       "      <th>12661687</th>\n",
       "      <td>https://locationsoundpodcast.libsyn.com/rss</td>\n",
       "      <td>Michael</td>\n",
       "      <td>1</td>\n",
       "      <td>2</td>\n",
       "      <td>0.500000</td>\n",
       "      <td>Michael The Sound Guy</td>\n",
       "      <td>True</td>\n",
       "    </tr>\n",
       "    <tr>\n",
       "      <th>8566294</th>\n",
       "      <td>https://feed.podbean.com/SurvivingSeminary2019/feed.xml</td>\n",
       "      <td>Kevin</td>\n",
       "      <td>1</td>\n",
       "      <td>2</td>\n",
       "      <td>0.500000</td>\n",
       "      <td>Kevin Southerland and Jason Stark</td>\n",
       "      <td>True</td>\n",
       "    </tr>\n",
       "    <tr>\n",
       "      <th>11125140</th>\n",
       "      <td>https://feeds.redcircle.com/5d26a28f-cb54-41b5-bc77-08a8044de3d9</td>\n",
       "      <td>David</td>\n",
       "      <td>1</td>\n",
       "      <td>2</td>\n",
       "      <td>0.500000</td>\n",
       "      <td>David Gushee &amp; Jeremy Hall</td>\n",
       "      <td>True</td>\n",
       "    </tr>\n",
       "    <tr>\n",
       "      <th>973978</th>\n",
       "      <td>https://anchor.fm/s/12842490/podcast/rss</td>\n",
       "      <td>Reggie</td>\n",
       "      <td>1</td>\n",
       "      <td>1</td>\n",
       "      <td>1.000000</td>\n",
       "      <td>Reggie</td>\n",
       "      <td>True</td>\n",
       "    </tr>\n",
       "    <tr>\n",
       "      <th>9342061</th>\n",
       "      <td>https://feeds.buzzsprout.com/255024.rss</td>\n",
       "      <td>Kyle</td>\n",
       "      <td>5</td>\n",
       "      <td>8</td>\n",
       "      <td>0.625000</td>\n",
       "      <td>Kyle Mitchell &amp; Peter Pomeroy</td>\n",
       "      <td>True</td>\n",
       "    </tr>\n",
       "    <tr>\n",
       "      <th>1249257</th>\n",
       "      <td>https://anchor.fm/s/13a617e8/podcast/rss</td>\n",
       "      <td>Amy</td>\n",
       "      <td>1</td>\n",
       "      <td>2</td>\n",
       "      <td>0.500000</td>\n",
       "      <td>Amy &amp; Amanda</td>\n",
       "      <td>True</td>\n",
       "    </tr>\n",
       "    <tr>\n",
       "      <th>6834965</th>\n",
       "      <td>https://anchor.fm/s/67b32b0/podcast/rss</td>\n",
       "      <td>Jason</td>\n",
       "      <td>1</td>\n",
       "      <td>1</td>\n",
       "      <td>1.000000</td>\n",
       "      <td>Jason D. Goodnight</td>\n",
       "      <td>True</td>\n",
       "    </tr>\n",
       "    <tr>\n",
       "      <th>3048768</th>\n",
       "      <td>https://anchor.fm/s/1fcffe80/podcast/rss</td>\n",
       "      <td>Jefferson</td>\n",
       "      <td>1</td>\n",
       "      <td>4</td>\n",
       "      <td>0.250000</td>\n",
       "      <td>Keith A Jefferson</td>\n",
       "      <td>True</td>\n",
       "    </tr>\n",
       "    <tr>\n",
       "      <th>11421496</th>\n",
       "      <td>https://feeds.simplecast.com/5OEqbln1</td>\n",
       "      <td>Anthony</td>\n",
       "      <td>2</td>\n",
       "      <td>2</td>\n",
       "      <td>1.000000</td>\n",
       "      <td>Anthony Sigismond</td>\n",
       "      <td>True</td>\n",
       "    </tr>\n",
       "    <tr>\n",
       "      <th>5688494</th>\n",
       "      <td>https://anchor.fm/s/241bb448/podcast/rss</td>\n",
       "      <td>Deanna</td>\n",
       "      <td>2</td>\n",
       "      <td>7</td>\n",
       "      <td>0.285714</td>\n",
       "      <td>Ambur Deanna Natterer</td>\n",
       "      <td>True</td>\n",
       "    </tr>\n",
       "    <tr>\n",
       "      <th>1573337</th>\n",
       "      <td>https://anchor.fm/s/16866b84/podcast/rss</td>\n",
       "      <td>Sam Norris</td>\n",
       "      <td>1</td>\n",
       "      <td>9</td>\n",
       "      <td>0.111111</td>\n",
       "      <td>Sam Norris</td>\n",
       "      <td>True</td>\n",
       "    </tr>\n",
       "    <tr>\n",
       "      <th>9555630</th>\n",
       "      <td>https://feeds.buzzsprout.com/856318.rss</td>\n",
       "      <td>Helen</td>\n",
       "      <td>4</td>\n",
       "      <td>4</td>\n",
       "      <td>1.000000</td>\n",
       "      <td>Maya &amp; Helen</td>\n",
       "      <td>True</td>\n",
       "    </tr>\n",
       "    <tr>\n",
       "      <th>5941898</th>\n",
       "      <td>https://anchor.fm/s/250a2f10/podcast/rss</td>\n",
       "      <td>Julia</td>\n",
       "      <td>1</td>\n",
       "      <td>1</td>\n",
       "      <td>1.000000</td>\n",
       "      <td>Julia</td>\n",
       "      <td>True</td>\n",
       "    </tr>\n",
       "    <tr>\n",
       "      <th>335056</th>\n",
       "      <td>https://altamar.libsyn.com/rss</td>\n",
       "      <td>Peter Schechter</td>\n",
       "      <td>2</td>\n",
       "      <td>2</td>\n",
       "      <td>1.000000</td>\n",
       "      <td>Peter Schechter and Muni Jensen</td>\n",
       "      <td>True</td>\n",
       "    </tr>\n",
       "    <tr>\n",
       "      <th>5360762</th>\n",
       "      <td>https://anchor.fm/s/225113b0/podcast/rss</td>\n",
       "      <td>Kennedy Morgan</td>\n",
       "      <td>1</td>\n",
       "      <td>3</td>\n",
       "      <td>0.333333</td>\n",
       "      <td>Emily Nicholson and Kennedy Morgan</td>\n",
       "      <td>True</td>\n",
       "    </tr>\n",
       "    <tr>\n",
       "      <th>7474316</th>\n",
       "      <td>https://anchor.fm/s/b9d97d8/podcast/rss</td>\n",
       "      <td>John</td>\n",
       "      <td>1</td>\n",
       "      <td>2</td>\n",
       "      <td>0.500000</td>\n",
       "      <td>Dani And John</td>\n",
       "      <td>True</td>\n",
       "    </tr>\n",
       "    <tr>\n",
       "      <th>5942555</th>\n",
       "      <td>https://anchor.fm/s/2514a918/podcast/rss</td>\n",
       "      <td>Melon</td>\n",
       "      <td>1</td>\n",
       "      <td>2</td>\n",
       "      <td>0.500000</td>\n",
       "      <td>Melon</td>\n",
       "      <td>True</td>\n",
       "    </tr>\n",
       "    <tr>\n",
       "      <th>9188789</th>\n",
       "      <td>https://feeds.buzzsprout.com/157041.rss</td>\n",
       "      <td>Paul Johnson</td>\n",
       "      <td>1</td>\n",
       "      <td>2</td>\n",
       "      <td>0.500000</td>\n",
       "      <td>Ryan Johnson, Daniel M. Peisner, CMI, Jason Parr CEO, Paul Johnson, VP</td>\n",
       "      <td>True</td>\n",
       "    </tr>\n",
       "    <tr>\n",
       "      <th>10398900</th>\n",
       "      <td>https://feeds.megaphone.fm/WFH9520723112</td>\n",
       "      <td>Andrea</td>\n",
       "      <td>1</td>\n",
       "      <td>3</td>\n",
       "      <td>0.333333</td>\n",
       "      <td>Andrea Owen</td>\n",
       "      <td>True</td>\n",
       "    </tr>\n",
       "    <tr>\n",
       "      <th>7353233</th>\n",
       "      <td>https://anchor.fm/s/b4d40a8/podcast/rss</td>\n",
       "      <td>Harrison</td>\n",
       "      <td>1</td>\n",
       "      <td>4</td>\n",
       "      <td>0.250000</td>\n",
       "      <td>Harrison Mudge</td>\n",
       "      <td>True</td>\n",
       "    </tr>\n",
       "    <tr>\n",
       "      <th>7932379</th>\n",
       "      <td>https://anchor.fm/s/ec1ff94/podcast/rss</td>\n",
       "      <td>Jaz</td>\n",
       "      <td>1</td>\n",
       "      <td>8</td>\n",
       "      <td>0.125000</td>\n",
       "      <td>Jazlyn Hall</td>\n",
       "      <td>True</td>\n",
       "    </tr>\n",
       "    <tr>\n",
       "      <th>14083797</th>\n",
       "      <td>https://thefocusedmindset.libsyn.com/rss</td>\n",
       "      <td>Cher Kretz</td>\n",
       "      <td>2</td>\n",
       "      <td>2</td>\n",
       "      <td>1.000000</td>\n",
       "      <td>Cher Kretz</td>\n",
       "      <td>True</td>\n",
       "    </tr>\n",
       "    <tr>\n",
       "      <th>10410021</th>\n",
       "      <td>https://feeds.megaphone.fm/ZHM3484543277</td>\n",
       "      <td>Graham Allen</td>\n",
       "      <td>1</td>\n",
       "      <td>6</td>\n",
       "      <td>0.166667</td>\n",
       "      <td>Graham Allen</td>\n",
       "      <td>True</td>\n",
       "    </tr>\n",
       "    <tr>\n",
       "      <th>5673652</th>\n",
       "      <td>https://anchor.fm/s/23e4da18/podcast/rss</td>\n",
       "      <td>Nori</td>\n",
       "      <td>6</td>\n",
       "      <td>6</td>\n",
       "      <td>1.000000</td>\n",
       "      <td>Nori</td>\n",
       "      <td>True</td>\n",
       "    </tr>\n",
       "    <tr>\n",
       "      <th>499118</th>\n",
       "      <td>https://anchor.fm/s/115fbcb4/podcast/rss</td>\n",
       "      <td>Willow</td>\n",
       "      <td>3</td>\n",
       "      <td>3</td>\n",
       "      <td>1.000000</td>\n",
       "      <td>Willow Feyth</td>\n",
       "      <td>True</td>\n",
       "    </tr>\n",
       "    <tr>\n",
       "      <th>6609466</th>\n",
       "      <td>https://anchor.fm/s/43a687c/podcast/rss</td>\n",
       "      <td>Steve</td>\n",
       "      <td>1</td>\n",
       "      <td>5</td>\n",
       "      <td>0.200000</td>\n",
       "      <td>Steve Dobie, Blair Fraser, Rob Kalwarowsky</td>\n",
       "      <td>True</td>\n",
       "    </tr>\n",
       "    <tr>\n",
       "      <th>14058688</th>\n",
       "      <td>https://theappraisercoach.libsyn.com/rss</td>\n",
       "      <td>Dustin</td>\n",
       "      <td>1</td>\n",
       "      <td>8</td>\n",
       "      <td>0.125000</td>\n",
       "      <td>Dustin Harris</td>\n",
       "      <td>True</td>\n",
       "    </tr>\n",
       "    <tr>\n",
       "      <th>1554907</th>\n",
       "      <td>https://anchor.fm/s/164a4ed8/podcast/rss</td>\n",
       "      <td>Carolyn</td>\n",
       "      <td>1</td>\n",
       "      <td>1</td>\n",
       "      <td>1.000000</td>\n",
       "      <td>Carolyn Coleridge, LCSW</td>\n",
       "      <td>True</td>\n",
       "    </tr>\n",
       "    <tr>\n",
       "      <th>9155317</th>\n",
       "      <td>https://feeds.buzzsprout.com/1251806.rss</td>\n",
       "      <td>Victor</td>\n",
       "      <td>3</td>\n",
       "      <td>28</td>\n",
       "      <td>0.107143</td>\n",
       "      <td>Victor Menasce</td>\n",
       "      <td>True</td>\n",
       "    </tr>\n",
       "    <tr>\n",
       "      <th>9724222</th>\n",
       "      <td>https://feeds.captivate.fm/dudes-vs-everything/</td>\n",
       "      <td>Jesus Perez</td>\n",
       "      <td>1</td>\n",
       "      <td>3</td>\n",
       "      <td>0.333333</td>\n",
       "      <td>Jesus Perez and Rudy Robles</td>\n",
       "      <td>True</td>\n",
       "    </tr>\n",
       "  </tbody>\n",
       "</table>\n",
       "</div>"
      ],
      "text/plain": [
       "                                                                    rssUrl  \\\n",
       "12661687                       https://locationsoundpodcast.libsyn.com/rss   \n",
       "8566294            https://feed.podbean.com/SurvivingSeminary2019/feed.xml   \n",
       "11125140  https://feeds.redcircle.com/5d26a28f-cb54-41b5-bc77-08a8044de3d9   \n",
       "973978                            https://anchor.fm/s/12842490/podcast/rss   \n",
       "9342061                            https://feeds.buzzsprout.com/255024.rss   \n",
       "1249257                           https://anchor.fm/s/13a617e8/podcast/rss   \n",
       "6834965                            https://anchor.fm/s/67b32b0/podcast/rss   \n",
       "3048768                           https://anchor.fm/s/1fcffe80/podcast/rss   \n",
       "11421496                             https://feeds.simplecast.com/5OEqbln1   \n",
       "5688494                           https://anchor.fm/s/241bb448/podcast/rss   \n",
       "1573337                           https://anchor.fm/s/16866b84/podcast/rss   \n",
       "9555630                            https://feeds.buzzsprout.com/856318.rss   \n",
       "5941898                           https://anchor.fm/s/250a2f10/podcast/rss   \n",
       "335056                                      https://altamar.libsyn.com/rss   \n",
       "5360762                           https://anchor.fm/s/225113b0/podcast/rss   \n",
       "7474316                            https://anchor.fm/s/b9d97d8/podcast/rss   \n",
       "5942555                           https://anchor.fm/s/2514a918/podcast/rss   \n",
       "9188789                            https://feeds.buzzsprout.com/157041.rss   \n",
       "10398900                          https://feeds.megaphone.fm/WFH9520723112   \n",
       "7353233                            https://anchor.fm/s/b4d40a8/podcast/rss   \n",
       "7932379                            https://anchor.fm/s/ec1ff94/podcast/rss   \n",
       "14083797                          https://thefocusedmindset.libsyn.com/rss   \n",
       "10410021                          https://feeds.megaphone.fm/ZHM3484543277   \n",
       "5673652                           https://anchor.fm/s/23e4da18/podcast/rss   \n",
       "499118                            https://anchor.fm/s/115fbcb4/podcast/rss   \n",
       "6609466                            https://anchor.fm/s/43a687c/podcast/rss   \n",
       "14058688                          https://theappraisercoach.libsyn.com/rss   \n",
       "1554907                           https://anchor.fm/s/164a4ed8/podcast/rss   \n",
       "9155317                           https://feeds.buzzsprout.com/1251806.rss   \n",
       "9724222                    https://feeds.captivate.fm/dudes-vs-everything/   \n",
       "\n",
       "                      ent  entEpCount  numEps    epProp  \\\n",
       "12661687          Michael           1       2  0.500000   \n",
       "8566294             Kevin           1       2  0.500000   \n",
       "11125140            David           1       2  0.500000   \n",
       "973978             Reggie           1       1  1.000000   \n",
       "9342061              Kyle           5       8  0.625000   \n",
       "1249257               Amy           1       2  0.500000   \n",
       "6834965             Jason           1       1  1.000000   \n",
       "3048768         Jefferson           1       4  0.250000   \n",
       "11421496          Anthony           2       2  1.000000   \n",
       "5688494            Deanna           2       7  0.285714   \n",
       "1573337        Sam Norris           1       9  0.111111   \n",
       "9555630             Helen           4       4  1.000000   \n",
       "5941898             Julia           1       1  1.000000   \n",
       "335056    Peter Schechter           2       2  1.000000   \n",
       "5360762    Kennedy Morgan           1       3  0.333333   \n",
       "7474316              John           1       2  0.500000   \n",
       "5942555             Melon           1       2  0.500000   \n",
       "9188789      Paul Johnson           1       2  0.500000   \n",
       "10398900           Andrea           1       3  0.333333   \n",
       "7353233          Harrison           1       4  0.250000   \n",
       "7932379               Jaz           1       8  0.125000   \n",
       "14083797       Cher Kretz           2       2  1.000000   \n",
       "10410021     Graham Allen           1       6  0.166667   \n",
       "5673652              Nori           6       6  1.000000   \n",
       "499118             Willow           3       3  1.000000   \n",
       "6609466             Steve           1       5  0.200000   \n",
       "14058688           Dustin           1       8  0.125000   \n",
       "1554907           Carolyn           1       1  1.000000   \n",
       "9155317            Victor           3      28  0.107143   \n",
       "9724222       Jesus Perez           1       3  0.333333   \n",
       "\n",
       "                                                                    itunesAuthor  \\\n",
       "12661687                                                   Michael The Sound Guy   \n",
       "8566294                                        Kevin Southerland and Jason Stark   \n",
       "11125140                                              David Gushee & Jeremy Hall   \n",
       "973978                                                                    Reggie   \n",
       "9342061                                            Kyle Mitchell & Peter Pomeroy   \n",
       "1249257                                                             Amy & Amanda   \n",
       "6834965                                                       Jason D. Goodnight   \n",
       "3048768                                                        Keith A Jefferson   \n",
       "11421496                                                       Anthony Sigismond   \n",
       "5688494                                                    Ambur Deanna Natterer   \n",
       "1573337                                                               Sam Norris   \n",
       "9555630                                                             Maya & Helen   \n",
       "5941898                                                                    Julia   \n",
       "335056                                           Peter Schechter and Muni Jensen   \n",
       "5360762                                       Emily Nicholson and Kennedy Morgan   \n",
       "7474316                                                            Dani And John   \n",
       "5942555                                                                    Melon   \n",
       "9188789   Ryan Johnson, Daniel M. Peisner, CMI, Jason Parr CEO, Paul Johnson, VP   \n",
       "10398900                                                             Andrea Owen   \n",
       "7353233                                                           Harrison Mudge   \n",
       "7932379                                                              Jazlyn Hall   \n",
       "14083797                                                              Cher Kretz   \n",
       "10410021                                                            Graham Allen   \n",
       "5673652                                                                     Nori   \n",
       "499118                                                              Willow Feyth   \n",
       "6609466                               Steve Dobie, Blair Fraser, Rob Kalwarowsky   \n",
       "14058688                                                           Dustin Harris   \n",
       "1554907                                                  Carolyn Coleridge, LCSW   \n",
       "9155317                                                           Victor Menasce   \n",
       "9724222                                              Jesus Perez and Rudy Robles   \n",
       "\n",
       "          entInAuthor  \n",
       "12661687         True  \n",
       "8566294          True  \n",
       "11125140         True  \n",
       "973978           True  \n",
       "9342061          True  \n",
       "1249257          True  \n",
       "6834965          True  \n",
       "3048768          True  \n",
       "11421496         True  \n",
       "5688494          True  \n",
       "1573337          True  \n",
       "9555630          True  \n",
       "5941898          True  \n",
       "335056           True  \n",
       "5360762          True  \n",
       "7474316          True  \n",
       "5942555          True  \n",
       "9188789          True  \n",
       "10398900         True  \n",
       "7353233          True  \n",
       "7932379          True  \n",
       "14083797         True  \n",
       "10410021         True  \n",
       "5673652          True  \n",
       "499118           True  \n",
       "6609466          True  \n",
       "14058688         True  \n",
       "1554907          True  \n",
       "9155317          True  \n",
       "9724222          True  "
      ]
     },
     "execution_count": 178,
     "metadata": {},
     "output_type": "execute_result"
    }
   ],
   "source": [
    "countDf[countDf[\"entInAuthor\"] == True].sample(30)"
   ]
  },
  {
   "cell_type": "code",
   "execution_count": 1,
   "id": "2a7a02e9-d953-45b7-ae28-c8c3aef81af4",
   "metadata": {},
   "outputs": [
    {
     "ename": "NameError",
     "evalue": "name 'countDf' is not defined",
     "output_type": "error",
     "traceback": [
      "\u001b[0;31m---------------------------------------------------------------------------\u001b[0m",
      "\u001b[0;31mNameError\u001b[0m                                 Traceback (most recent call last)",
      "Cell \u001b[0;32mIn[1], line 1\u001b[0m\n\u001b[0;32m----> 1\u001b[0m \u001b[43mcountDf\u001b[49m\u001b[38;5;241m.\u001b[39mshape\n",
      "\u001b[0;31mNameError\u001b[0m: name 'countDf' is not defined"
     ]
    }
   ],
   "source": [
    "countDf.shape"
   ]
  },
  {
   "cell_type": "code",
   "execution_count": 122,
   "id": "334f8fc9-f088-4ed2-bf80-a820a2595976",
   "metadata": {},
   "outputs": [],
   "source": [
    "#now label a subset of episodes \n",
    "\n",
    "mySample = metaDf.sample(30, random_state=30)"
   ]
  },
  {
   "cell_type": "code",
   "execution_count": 139,
   "id": "8c257821-b6a7-47f9-97d0-ed628ccd2caa",
   "metadata": {},
   "outputs": [
    {
     "data": {
      "text/plain": [
       "\"He's the king of Pittsburgh Sports Talk... The Super Genius, Mark Madden.\""
      ]
     },
     "execution_count": 139,
     "metadata": {},
     "output_type": "execute_result"
    }
   ],
   "source": [
    "#hostList = [\"Eric Harlock\", [\"David\", \"Cindy\"],[\"Molly Hurford\", \"Peter Glassford\"], \n",
    "           #\"Ashwini Pareek\", \"\", \"G. Fumi Laiodevo\", \"Mark Madden\"]\n",
    "list(mySample[\"podDescription\"])[6]"
   ]
  },
  {
   "cell_type": "code",
   "execution_count": 138,
   "id": "c124a0d5-f0b7-463c-ba29-3b64c85a01ed",
   "metadata": {},
   "outputs": [
    {
     "data": {
      "text/plain": [
       "'/shared/3/projects/benlitterer/podcastData/prosodyMerged/floydMonth/urbanteacherslounge.podomatic.com/02/httpsurbanteacherslounge.podomatic.comenclosure20200513T10_28_2207_00.mp3_1589390985.14817135MERGED'"
      ]
     },
     "execution_count": 138,
     "metadata": {},
     "output_type": "execute_result"
    }
   ],
   "source": [
    "list(mySample[\"potentialOutPath\"])[5]"
   ]
  },
  {
   "cell_type": "code",
   "execution_count": null,
   "id": "f0c54e27-0eaf-4c01-bb18-17d858e20f67",
   "metadata": {},
   "outputs": [],
   "source": []
  }
 ],
 "metadata": {
  "kernelspec": {
   "display_name": "Python 3",
   "language": "python",
   "name": "python3"
  },
  "language_info": {
   "codemirror_mode": {
    "name": "ipython",
    "version": 3
   },
   "file_extension": ".py",
   "mimetype": "text/x-python",
   "name": "python",
   "nbconvert_exporter": "python",
   "pygments_lexer": "ipython3",
   "version": "3.9.12"
  }
 },
 "nbformat": 4,
 "nbformat_minor": 5
}
