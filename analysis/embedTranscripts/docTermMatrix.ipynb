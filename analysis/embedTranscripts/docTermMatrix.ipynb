{
 "cells": [
  {
   "cell_type": "code",
   "execution_count": 55,
   "id": "66c7eae2",
   "metadata": {},
   "outputs": [],
   "source": [
    "import pandas as pd\n",
    "import importlib\n",
    "from tqdm import tqdm\n",
    "import os\n",
    "from sklearn.decomposition import PCA, TruncatedSVD\n",
    "from sklearn.feature_extraction.text import CountVectorizer, TfidfVectorizer\n",
    "import matplotlib.pyplot as plt\n",
    "import seaborn as sns"
   ]
  },
  {
   "cell_type": "code",
   "execution_count": 27,
   "id": "aa657f5c",
   "metadata": {},
   "outputs": [
    {
     "name": "stderr",
     "output_type": "stream",
     "text": [
      "<ipython-input-27-b28b5f302195>:1: DtypeWarning: Columns (6,7,49) have mixed types. Specify dtype option on import or set low_memory=False.\n",
      "  df = pd.read_csv(\"/shared/3/projects/benlitterer/podcastData/processed/floydMonth/floydMonthEnSHORT.csv\",lineterminator='\\n', nrows=50000)\n"
     ]
    }
   ],
   "source": [
    "df = pd.read_csv(\"/shared/3/projects/benlitterer/podcastData/processed/floydMonth/floydMonthEnSHORT.csv\",lineterminator='\\n', nrows=50000)"
   ]
  },
  {
   "cell_type": "code",
   "execution_count": 28,
   "id": "0f5b79ec",
   "metadata": {},
   "outputs": [],
   "source": [
    "spec=importlib.util.spec_from_file_location(\"getURLstorageLocation\",\"/home/blitt/projects/podcasts/mergeTransMetadata/getURLstorageLocation.py\")\n",
    "# creates a new module based on spec\n",
    "foo = importlib.util.module_from_spec(spec)\n",
    " \n",
    "# executes the module in its own namespace\n",
    "# when a module is imported or reloaded.\n",
    "spec.loader.exec_module(foo)"
   ]
  },
  {
   "cell_type": "code",
   "execution_count": 29,
   "id": "12255229",
   "metadata": {},
   "outputs": [
    {
     "name": "stderr",
     "output_type": "stream",
     "text": [
      "<ipython-input-29-2b037169ee9f>:3: SettingWithCopyWarning: \n",
      "A value is trying to be set on a copy of a slice from a DataFrame.\n",
      "Try using .loc[row_indexer,col_indexer] = value instead\n",
      "\n",
      "See the caveats in the documentation: https://pandas.pydata.org/pandas-docs/stable/user_guide/indexing.html#returning-a-view-versus-a-copy\n",
      "  df[\"transcriptPath\"] = df[\"enclosure\"].apply(foo.getUrlTranscriptPath, args=[META_PATH])\n"
     ]
    }
   ],
   "source": [
    "META_PATH= \"/shared/3/projects/benlitterer/podcastData/prosodyMerged/floydMonth\"\n",
    "df = df.dropna(subset=[\"enclosure\"])\n",
    "df[\"transcriptPath\"] = df[\"enclosure\"].apply(foo.getUrlTranscriptPath, args=[META_PATH])"
   ]
  },
  {
   "cell_type": "code",
   "execution_count": 30,
   "id": "57302caa",
   "metadata": {},
   "outputs": [
    {
     "name": "stderr",
     "output_type": "stream",
     "text": [
      "<ipython-input-30-f21d2ab468c9>:1: SettingWithCopyWarning: \n",
      "A value is trying to be set on a copy of a slice from a DataFrame.\n",
      "Try using .loc[row_indexer,col_indexer] = value instead\n",
      "\n",
      "See the caveats in the documentation: https://pandas.pydata.org/pandas-docs/stable/user_guide/indexing.html#returning-a-view-versus-a-copy\n",
      "  df[\"exists\"] = df[\"transcriptPath\"].apply(os.path.exists)\n"
     ]
    }
   ],
   "source": [
    "df[\"exists\"] = df[\"transcriptPath\"].apply(os.path.exists)\n",
    "\n",
    "#foo.getUrlTranscriptPath(\"helloWorld\", META_PATH) \n",
    "paths = df.loc[df[\"exists\"] == True, \"transcriptPath\"] "
   ]
  },
  {
   "cell_type": "code",
   "execution_count": 31,
   "id": "8f920249",
   "metadata": {},
   "outputs": [
    {
     "name": "stderr",
     "output_type": "stream",
     "text": [
      "100%|██████████| 18286/18286 [01:08<00:00, 268.67it/s]\n"
     ]
    }
   ],
   "source": [
    "finishedPaths = []\n",
    "corpus = []\n",
    "for path in tqdm(list(paths)): \n",
    "    try: \n",
    "        currFile = open(path, \"r\")\n",
    "        currText = \"\".join([row.split(\",\")[4] for row in currFile.readlines()])\n",
    "        corpus.append(currText)\n",
    "    except Exception as e:\n",
    "        print(e)\n",
    "        pass"
   ]
  },
  {
   "cell_type": "code",
   "execution_count": 22,
   "id": "28b0a287",
   "metadata": {},
   "outputs": [],
   "source": [
    "vectorizer = TfidfVectorizer(max_features=8000)\n",
    "X = vectorizer.fit_transform(corpus)\n",
    "tfIdfFeatures = X.toarray()"
   ]
  },
  {
   "cell_type": "code",
   "execution_count": 23,
   "id": "dc346ce3",
   "metadata": {},
   "outputs": [],
   "source": [
    "tfIdfNames = list(vectorizer.get_feature_names_out())"
   ]
  },
  {
   "cell_type": "code",
   "execution_count": 24,
   "id": "55f1150e",
   "metadata": {},
   "outputs": [
    {
     "data": {
      "text/plain": [
       "1"
      ]
     },
     "execution_count": 24,
     "metadata": {},
     "output_type": "execute_result"
    }
   ],
   "source": [
    "sum([True for item in tfIdfNames if item == \"patreon\" or item == \"Patreon\"])"
   ]
  },
  {
   "cell_type": "code",
   "execution_count": 95,
   "id": "88c3ffb7",
   "metadata": {},
   "outputs": [],
   "source": [
    "vectorizer = CountVectorizer(max_features=20000)\n",
    "X = vectorizer.fit_transform(corpus)\n",
    "countFeatures = X.toarray()"
   ]
  },
  {
   "cell_type": "code",
   "execution_count": 96,
   "id": "15a8feb3",
   "metadata": {},
   "outputs": [],
   "source": [
    "countNames = list(vectorizer.get_feature_names_out())"
   ]
  },
  {
   "cell_type": "code",
   "execution_count": 97,
   "id": "c5422a74",
   "metadata": {},
   "outputs": [
    {
     "data": {
      "text/plain": [
       "12920"
      ]
     },
     "execution_count": 97,
     "metadata": {},
     "output_type": "execute_result"
    }
   ],
   "source": [
    "countNames.index(\"patreon\")"
   ]
  },
  {
   "cell_type": "code",
   "execution_count": 98,
   "id": "0850ede6",
   "metadata": {},
   "outputs": [
    {
     "data": {
      "text/plain": [
       "1227"
      ]
     },
     "execution_count": 98,
     "metadata": {},
     "output_type": "execute_result"
    }
   ],
   "source": [
    "sum(countFeatures[:,5119])\n",
    "sum([item > 0 for item in countFeatures[:, 5119]])"
   ]
  },
  {
   "cell_type": "code",
   "execution_count": 99,
   "id": "71ce19f4",
   "metadata": {},
   "outputs": [],
   "source": [
    "pca = PCA(n_components=2)"
   ]
  },
  {
   "cell_type": "code",
   "execution_count": 100,
   "id": "fc07ccc6",
   "metadata": {},
   "outputs": [
    {
     "data": {
      "text/plain": [
       "(19069, 20000)"
      ]
     },
     "execution_count": 100,
     "metadata": {},
     "output_type": "execute_result"
    }
   ],
   "source": [
    "countFeatures.shape"
   ]
  },
  {
   "cell_type": "code",
   "execution_count": 101,
   "id": "2f15aaab",
   "metadata": {},
   "outputs": [
    {
     "name": "stdout",
     "output_type": "stream",
     "text": [
      "[0.45571762 0.08852809]\n",
      "[36578.44717716  7105.75996726]\n"
     ]
    }
   ],
   "source": [
    "lFacs = pca.fit_transform(countFeatures)\n",
    "print(pca.explained_variance_ratio_)\n",
    "print(pca.explained_variance_)"
   ]
  },
  {
   "cell_type": "code",
   "execution_count": 102,
   "id": "17de4142",
   "metadata": {},
   "outputs": [],
   "source": [
    "facsDf = df.loc[df[\"exists\"] == True, [\"epDescription\", \"duration\", \"category1\", \"category2\"]] "
   ]
  },
  {
   "cell_type": "code",
   "execution_count": 103,
   "id": "1c866fd2",
   "metadata": {},
   "outputs": [],
   "source": [
    "facsDf[[\"pc1\", \"pc2\"]] = lFacs"
   ]
  },
  {
   "cell_type": "code",
   "execution_count": 104,
   "id": "347f1a84",
   "metadata": {},
   "outputs": [],
   "source": [
    "catMeans = facsDf[[\"category1\", \"pc1\", \"pc2\"]].groupby(\"category1\").agg(np.mean)"
   ]
  },
  {
   "cell_type": "code",
   "execution_count": 105,
   "id": "d75d1d78",
   "metadata": {},
   "outputs": [],
   "source": [
    "catCounts = pd.DataFrame(facsDf[\"category1\"].value_counts()).reset_index()\n",
    "catMeans = pd.merge(catMeans, catCounts, how=\"left\", on=\"category1\")"
   ]
  },
  {
   "cell_type": "code",
   "execution_count": 106,
   "id": "911a9459",
   "metadata": {},
   "outputs": [
    {
     "data": {
      "text/plain": [
       "Text(0, 0.5, 'PC2')"
      ]
     },
     "execution_count": 106,
     "metadata": {},
     "output_type": "execute_result"
    },
    {
     "data": {
      "image/png": "[encoded data removed]",
      "text/plain": [
       "<Figure size 576x576 with 1 Axes>"
      ]
     },
     "metadata": {
      "needs_background": "light"
     },
     "output_type": "display_data"
    }
   ],
   "source": [
    "fig, ax = plt.subplots(figsize=(8, 8))\n",
    "catMeans = catMeans[catMeans[\"count\"] > 300]\n",
    "ax.scatter(catMeans[\"pc1\"], catMeans[\"pc2\"])\n",
    "\n",
    "for i, row in catMeans.iterrows(): \n",
    "    ax.annotate(row[\"category1\"], (row[\"pc1\"], row[\"pc2\"]), rotation=20)\n",
    "\n",
    "ax.set_title(\"PC Centroids for Podcast Categories\")\n",
    "ax.set_xlabel(\"PC1\")\n",
    "ax.set_ylabel(\"PC2\")"
   ]
  },
  {
   "cell_type": "code",
   "execution_count": 107,
   "id": "397c8ee0",
   "metadata": {},
   "outputs": [
    {
     "data": {
      "text/plain": [
       "category1\n",
       "religion        3802\n",
       "education       2638\n",
       "business        2616\n",
       "society         2083\n",
       "news            1454\n",
       "health          1307\n",
       "arts            1030\n",
       "sports           837\n",
       "comedy           671\n",
       "music            543\n",
       "leisure          491\n",
       "tv               353\n",
       "kids             332\n",
       "technology       304\n",
       "science          158\n",
       "fiction          139\n",
       "history          129\n",
       "government        73\n",
       "true crime        47\n",
       "games             14\n",
       "spirituality       1\n",
       "Name: count, dtype: int64"
      ]
     },
     "execution_count": 107,
     "metadata": {},
     "output_type": "execute_result"
    }
   ],
   "source": [
    "facsDf[\"category1\"].value_counts()"
   ]
  },
  {
   "cell_type": "code",
   "execution_count": 77,
   "id": "126272db",
   "metadata": {},
   "outputs": [],
   "source": [
    "facsDf = pd.merge(facsDf, catCounts, on=\"category1\", how=\"left\")"
   ]
  },
  {
   "cell_type": "code",
   "execution_count": 108,
   "id": "289847fa",
   "metadata": {},
   "outputs": [
    {
     "ename": "KeyError",
     "evalue": "'count'",
     "output_type": "error",
     "traceback": [
      "\u001b[0;31m---------------------------------------------------------------------------\u001b[0m",
      "\u001b[0;31mKeyError\u001b[0m                                  Traceback (most recent call last)",
      "\u001b[0;32m/opt/anaconda/lib/python3.8/site-packages/pandas/core/indexes/base.py\u001b[0m in \u001b[0;36mget_loc\u001b[0;34m(self, key)\u001b[0m\n\u001b[1;32m   3652\u001b[0m         \u001b[0;32mtry\u001b[0m\u001b[0;34m:\u001b[0m\u001b[0;34m\u001b[0m\u001b[0;34m\u001b[0m\u001b[0m\n\u001b[0;32m-> 3653\u001b[0;31m             \u001b[0;32mreturn\u001b[0m \u001b[0mself\u001b[0m\u001b[0;34m.\u001b[0m\u001b[0m_engine\u001b[0m\u001b[0;34m.\u001b[0m\u001b[0mget_loc\u001b[0m\u001b[0;34m(\u001b[0m\u001b[0mcasted_key\u001b[0m\u001b[0;34m)\u001b[0m\u001b[0;34m\u001b[0m\u001b[0;34m\u001b[0m\u001b[0m\n\u001b[0m\u001b[1;32m   3654\u001b[0m         \u001b[0;32mexcept\u001b[0m \u001b[0mKeyError\u001b[0m \u001b[0;32mas\u001b[0m \u001b[0merr\u001b[0m\u001b[0;34m:\u001b[0m\u001b[0;34m\u001b[0m\u001b[0;34m\u001b[0m\u001b[0m\n",
      "\u001b[0;32m/opt/anaconda/lib/python3.8/site-packages/pandas/_libs/index.pyx\u001b[0m in \u001b[0;36mpandas._libs.index.IndexEngine.get_loc\u001b[0;34m()\u001b[0m\n",
      "\u001b[0;32m/opt/anaconda/lib/python3.8/site-packages/pandas/_libs/index.pyx\u001b[0m in \u001b[0;36mpandas._libs.index.IndexEngine.get_loc\u001b[0;34m()\u001b[0m\n",
      "\u001b[0;32mpandas/_libs/hashtable_class_helper.pxi\u001b[0m in \u001b[0;36mpandas._libs.hashtable.PyObjectHashTable.get_item\u001b[0;34m()\u001b[0m\n",
      "\u001b[0;32mpandas/_libs/hashtable_class_helper.pxi\u001b[0m in \u001b[0;36mpandas._libs.hashtable.PyObjectHashTable.get_item\u001b[0;34m()\u001b[0m\n",
      "\u001b[0;31mKeyError\u001b[0m: 'count'",
      "\nThe above exception was the direct cause of the following exception:\n",
      "\u001b[0;31mKeyError\u001b[0m                                  Traceback (most recent call last)",
      "\u001b[0;32m<ipython-input-108-244e049391be>\u001b[0m in \u001b[0;36m<module>\u001b[0;34m\u001b[0m\n\u001b[0;32m----> 1\u001b[0;31m \u001b[0mcommonCats\u001b[0m \u001b[0;34m=\u001b[0m \u001b[0mfacsDf\u001b[0m\u001b[0;34m[\u001b[0m\u001b[0mfacsDf\u001b[0m\u001b[0;34m[\u001b[0m\u001b[0;34m\"count\"\u001b[0m\u001b[0;34m]\u001b[0m \u001b[0;34m>\u001b[0m \u001b[0;36m300\u001b[0m\u001b[0;34m]\u001b[0m\u001b[0;34m\u001b[0m\u001b[0;34m\u001b[0m\u001b[0m\n\u001b[0m\u001b[1;32m      2\u001b[0m \u001b[0;31m#commonCats = facsDf[facsDf[\"category1\"].isin([\"education\", \"sports\"])]\u001b[0m\u001b[0;34m\u001b[0m\u001b[0;34m\u001b[0m\u001b[0;34m\u001b[0m\u001b[0m\n\u001b[1;32m      3\u001b[0m \u001b[0mfig\u001b[0m\u001b[0;34m,\u001b[0m \u001b[0max\u001b[0m \u001b[0;34m=\u001b[0m \u001b[0mplt\u001b[0m\u001b[0;34m.\u001b[0m\u001b[0msubplots\u001b[0m\u001b[0;34m(\u001b[0m\u001b[0mfigsize\u001b[0m\u001b[0;34m=\u001b[0m\u001b[0;34m(\u001b[0m\u001b[0;36m8\u001b[0m\u001b[0;34m,\u001b[0m \u001b[0;36m8\u001b[0m\u001b[0;34m)\u001b[0m\u001b[0;34m)\u001b[0m\u001b[0;34m\u001b[0m\u001b[0;34m\u001b[0m\u001b[0m\n\u001b[1;32m      4\u001b[0m \u001b[0;31m#sns.scatterplot(data=facsDf[facsDf[\"category1\"].isin([\"comedy\", \"government\"])], x=\"l1\", y=\"l2\", hue=\"category1\", alpha=.2, ax=ax)\u001b[0m\u001b[0;34m\u001b[0m\u001b[0;34m\u001b[0m\u001b[0;34m\u001b[0m\u001b[0m\n\u001b[1;32m      5\u001b[0m \u001b[0msns\u001b[0m\u001b[0;34m.\u001b[0m\u001b[0mscatterplot\u001b[0m\u001b[0;34m(\u001b[0m\u001b[0mdata\u001b[0m\u001b[0;34m=\u001b[0m\u001b[0mcommonCats\u001b[0m\u001b[0;34m,\u001b[0m \u001b[0mx\u001b[0m\u001b[0;34m=\u001b[0m\u001b[0;34m\"pc1\"\u001b[0m\u001b[0;34m,\u001b[0m \u001b[0my\u001b[0m\u001b[0;34m=\u001b[0m\u001b[0;34m\"pc2\"\u001b[0m\u001b[0;34m,\u001b[0m \u001b[0mhue\u001b[0m\u001b[0;34m=\u001b[0m\u001b[0;34m\"category1\"\u001b[0m\u001b[0;34m,\u001b[0m \u001b[0malpha\u001b[0m\u001b[0;34m=\u001b[0m\u001b[0;36m.3\u001b[0m\u001b[0;34m,\u001b[0m \u001b[0max\u001b[0m\u001b[0;34m=\u001b[0m\u001b[0max\u001b[0m\u001b[0;34m)\u001b[0m\u001b[0;34m\u001b[0m\u001b[0;34m\u001b[0m\u001b[0m\n",
      "\u001b[0;32m/opt/anaconda/lib/python3.8/site-packages/pandas/core/frame.py\u001b[0m in \u001b[0;36m__getitem__\u001b[0;34m(self, key)\u001b[0m\n\u001b[1;32m   3759\u001b[0m             \u001b[0;32mif\u001b[0m \u001b[0mself\u001b[0m\u001b[0;34m.\u001b[0m\u001b[0mcolumns\u001b[0m\u001b[0;34m.\u001b[0m\u001b[0mnlevels\u001b[0m \u001b[0;34m>\u001b[0m \u001b[0;36m1\u001b[0m\u001b[0;34m:\u001b[0m\u001b[0;34m\u001b[0m\u001b[0;34m\u001b[0m\u001b[0m\n\u001b[1;32m   3760\u001b[0m                 \u001b[0;32mreturn\u001b[0m \u001b[0mself\u001b[0m\u001b[0;34m.\u001b[0m\u001b[0m_getitem_multilevel\u001b[0m\u001b[0;34m(\u001b[0m\u001b[0mkey\u001b[0m\u001b[0;34m)\u001b[0m\u001b[0;34m\u001b[0m\u001b[0;34m\u001b[0m\u001b[0m\n\u001b[0;32m-> 3761\u001b[0;31m             \u001b[0mindexer\u001b[0m \u001b[0;34m=\u001b[0m \u001b[0mself\u001b[0m\u001b[0;34m.\u001b[0m\u001b[0mcolumns\u001b[0m\u001b[0;34m.\u001b[0m\u001b[0mget_loc\u001b[0m\u001b[0;34m(\u001b[0m\u001b[0mkey\u001b[0m\u001b[0;34m)\u001b[0m\u001b[0;34m\u001b[0m\u001b[0;34m\u001b[0m\u001b[0m\n\u001b[0m\u001b[1;32m   3762\u001b[0m             \u001b[0;32mif\u001b[0m \u001b[0mis_integer\u001b[0m\u001b[0;34m(\u001b[0m\u001b[0mindexer\u001b[0m\u001b[0;34m)\u001b[0m\u001b[0;34m:\u001b[0m\u001b[0;34m\u001b[0m\u001b[0;34m\u001b[0m\u001b[0m\n\u001b[1;32m   3763\u001b[0m                 \u001b[0mindexer\u001b[0m \u001b[0;34m=\u001b[0m \u001b[0;34m[\u001b[0m\u001b[0mindexer\u001b[0m\u001b[0;34m]\u001b[0m\u001b[0;34m\u001b[0m\u001b[0;34m\u001b[0m\u001b[0m\n",
      "\u001b[0;32m/opt/anaconda/lib/python3.8/site-packages/pandas/core/indexes/base.py\u001b[0m in \u001b[0;36mget_loc\u001b[0;34m(self, key)\u001b[0m\n\u001b[1;32m   3653\u001b[0m             \u001b[0;32mreturn\u001b[0m \u001b[0mself\u001b[0m\u001b[0;34m.\u001b[0m\u001b[0m_engine\u001b[0m\u001b[0;34m.\u001b[0m\u001b[0mget_loc\u001b[0m\u001b[0;34m(\u001b[0m\u001b[0mcasted_key\u001b[0m\u001b[0;34m)\u001b[0m\u001b[0;34m\u001b[0m\u001b[0;34m\u001b[0m\u001b[0m\n\u001b[1;32m   3654\u001b[0m         \u001b[0;32mexcept\u001b[0m \u001b[0mKeyError\u001b[0m \u001b[0;32mas\u001b[0m \u001b[0merr\u001b[0m\u001b[0;34m:\u001b[0m\u001b[0;34m\u001b[0m\u001b[0;34m\u001b[0m\u001b[0m\n\u001b[0;32m-> 3655\u001b[0;31m             \u001b[0;32mraise\u001b[0m \u001b[0mKeyError\u001b[0m\u001b[0;34m(\u001b[0m\u001b[0mkey\u001b[0m\u001b[0;34m)\u001b[0m \u001b[0;32mfrom\u001b[0m \u001b[0merr\u001b[0m\u001b[0;34m\u001b[0m\u001b[0;34m\u001b[0m\u001b[0m\n\u001b[0m\u001b[1;32m   3656\u001b[0m         \u001b[0;32mexcept\u001b[0m \u001b[0mTypeError\u001b[0m\u001b[0;34m:\u001b[0m\u001b[0;34m\u001b[0m\u001b[0;34m\u001b[0m\u001b[0m\n\u001b[1;32m   3657\u001b[0m             \u001b[0;31m# If we have a listlike key, _check_indexing_error will raise\u001b[0m\u001b[0;34m\u001b[0m\u001b[0;34m\u001b[0m\u001b[0;34m\u001b[0m\u001b[0m\n",
      "\u001b[0;31mKeyError\u001b[0m: 'count'"
     ]
    }
   ],
   "source": [
    "commonCats = facsDf[facsDf[\"count\"] > 300]\n",
    "#commonCats = facsDf[facsDf[\"category1\"].isin([\"education\", \"sports\"])]\n",
    "fig, ax = plt.subplots(figsize=(8, 8))\n",
    "#sns.scatterplot(data=facsDf[facsDf[\"category1\"].isin([\"comedy\", \"government\"])], x=\"l1\", y=\"l2\", hue=\"category1\", alpha=.2, ax=ax)\n",
    "sns.scatterplot(data=commonCats, x=\"pc1\", y=\"pc2\", hue=\"category1\", alpha=.3, ax=ax)\n",
    "\n",
    "plt.xlim(-400, 500)\n",
    "plt.ylim(-200, 200)"
   ]
  },
  {
   "cell_type": "code",
   "execution_count": 1,
   "id": "9c82ae10",
   "metadata": {},
   "outputs": [
    {
     "ename": "NameError",
     "evalue": "name 'plt' is not defined",
     "output_type": "error",
     "traceback": [
      "\u001b[0;31m---------------------------------------------------------------------------\u001b[0m",
      "\u001b[0;31mNameError\u001b[0m                                 Traceback (most recent call last)",
      "Cell \u001b[0;32mIn[1], line 1\u001b[0m\n\u001b[0;32m----> 1\u001b[0m fig, ax \u001b[38;5;241m=\u001b[39m plt\u001b[38;5;241m.\u001b[39msubplots(\u001b[38;5;241m0\u001b[39m, figsize\u001b[38;5;241m=\u001b[39m(\u001b[38;5;241m3\u001b[39m, \u001b[38;5;241m9\u001b[39m))\n\u001b[1;32m      2\u001b[0m commonCats \u001b[38;5;241m=\u001b[39m facsDf[facsDf[\u001b[38;5;124m\"\u001b[39m\u001b[38;5;124mcount\u001b[39m\u001b[38;5;124m\"\u001b[39m] \u001b[38;5;241m>\u001b[39m \u001b[38;5;241m300\u001b[39m]\n\u001b[1;32m      3\u001b[0m sns\u001b[38;5;241m.\u001b[39mkdeplot(data\u001b[38;5;241m=\u001b[39mcommonCats, x\u001b[38;5;241m=\u001b[39m\u001b[38;5;124m\"\u001b[39m\u001b[38;5;124mpc1\u001b[39m\u001b[38;5;124m\"\u001b[39m, hue\u001b[38;5;241m=\u001b[39m\u001b[38;5;124m\"\u001b[39m\u001b[38;5;124mcategory1\u001b[39m\u001b[38;5;124m\"\u001b[39m, common_norm\u001b[38;5;241m=\u001b[39m\u001b[38;5;28;01mFalse\u001b[39;00m)\n",
      "\u001b[0;31mNameError\u001b[0m: name 'plt' is not defined"
     ]
    }
   ],
   "source": [
    "fig, ax = plt.subplots(0, figsize=(3, 9))\n",
    "commonCats = facsDf[facsDf[\"count\"] > 300]\n",
    "sns.kdeplot(data=commonCats, x=\"pc1\", hue=\"category1\", common_norm=False)\n",
    "plt.xlim(-500, 500)"
   ]
  },
  {
   "cell_type": "code",
   "execution_count": null,
   "id": "74b964ff",
   "metadata": {},
   "outputs": [],
   "source": []
  }
 ],
 "metadata": {
  "kernelspec": {
   "display_name": "Python 3 (ipykernel)",
   "language": "python",
   "name": "python3"
  },
  "language_info": {
   "codemirror_mode": {
    "name": "ipython",
    "version": 3
   },
   "file_extension": ".py",
   "mimetype": "text/x-python",
   "name": "python",
   "nbconvert_exporter": "python",
   "pygments_lexer": "ipython3",
   "version": "3.11.5"
  }
 },
 "nbformat": 4,
 "nbformat_minor": 5
}
