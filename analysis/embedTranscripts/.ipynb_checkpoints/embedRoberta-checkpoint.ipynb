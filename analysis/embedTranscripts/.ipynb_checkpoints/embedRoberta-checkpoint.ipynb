{
 "cells": [
  {
   "cell_type": "code",
   "execution_count": 23,
   "id": "9b4146a1",
   "metadata": {},
   "outputs": [],
   "source": [
    "from transformers import RobertaTokenizer, RobertaModel\n",
    "import pandas as pd\n",
    "import importlib\n",
    "import torch\n",
    "from tqdm import tqdm \n",
    "import os "
   ]
  },
  {
   "cell_type": "code",
   "execution_count": 47,
   "id": "27562cee-59a6-4ac2-aca2-5d0fbff67c9b",
   "metadata": {},
   "outputs": [],
   "source": [
    "OUT_PATH = \"/shared/3/projects/benlitterer/podcastData/embeddings/floydMonth/robertaSHORT.pkl\""
   ]
  },
  {
   "cell_type": "code",
   "execution_count": 2,
   "id": "fb84eb80-eef6-4a68-a89a-2b62945e60b0",
   "metadata": {},
   "outputs": [
    {
     "name": "stderr",
     "output_type": "stream",
     "text": [
      "<ipython-input-2-b906e9748d72>:2: DtypeWarning: Columns (6,7,49) have mixed types. Specify dtype option on import or set low_memory=False.\n",
      "  df = pd.read_csv(\"/shared/3/projects/benlitterer/podcastData/processed/floydMonth/floydMonthEnSHORT.csv\",lineterminator='\\n', nrows=50000)\n"
     ]
    }
   ],
   "source": [
    "#load in the george floyd data\n",
    "df = pd.read_csv(\"/shared/3/projects/benlitterer/podcastData/processed/floydMonth/floydMonthEnSHORT.csv\",lineterminator='\\n', nrows=50000)"
   ]
  },
  {
   "cell_type": "code",
   "execution_count": 3,
   "id": "c0264b6f-91c6-4293-967f-c4d400aedeb4",
   "metadata": {},
   "outputs": [],
   "source": [
    "spec=importlib.util.spec_from_file_location(\"getURLstorageLocation\",\"/home/blitt/projects/podcasts/mergeTransMetadata/getURLstorageLocation.py\")\n",
    "\n",
    "# creates a new module based on spec\n",
    "foo = importlib.util.module_from_spec(spec)\n",
    " \n",
    "# executes the module in its own namespace\n",
    "# when a module is imported or reloaded.\n",
    "spec.loader.exec_module(foo)"
   ]
  },
  {
   "cell_type": "code",
   "execution_count": 27,
   "id": "72f933b6-eeaa-47bf-ab53-2636785b296a",
   "metadata": {},
   "outputs": [
    {
     "name": "stderr",
     "output_type": "stream",
     "text": [
      "<ipython-input-27-67af823663ef>:2: SettingWithCopyWarning: \n",
      "A value is trying to be set on a copy of a slice from a DataFrame.\n",
      "Try using .loc[row_indexer,col_indexer] = value instead\n",
      "\n",
      "See the caveats in the documentation: https://pandas.pydata.org/pandas-docs/stable/user_guide/indexing.html#returning-a-view-versus-a-copy\n",
      "  df[\"transcriptPath\"] = df[\"enclosure\"].apply(foo.getUrlTranscriptPath, args=[META_PATH])\n"
     ]
    }
   ],
   "source": [
    "df = df.dropna(subset=[\"enclosure\"])\n",
    "df[\"transcriptPath\"] = df[\"enclosure\"].apply(foo.getUrlTranscriptPath, args=[META_PATH])"
   ]
  },
  {
   "cell_type": "code",
   "execution_count": 29,
   "id": "0393b6e0-8fab-4f28-a9a0-1ceccc671a89",
   "metadata": {},
   "outputs": [
    {
     "name": "stderr",
     "output_type": "stream",
     "text": [
      "<ipython-input-29-1311fd18f582>:1: SettingWithCopyWarning: \n",
      "A value is trying to be set on a copy of a slice from a DataFrame.\n",
      "Try using .loc[row_indexer,col_indexer] = value instead\n",
      "\n",
      "See the caveats in the documentation: https://pandas.pydata.org/pandas-docs/stable/user_guide/indexing.html#returning-a-view-versus-a-copy\n",
      "  df[\"exists\"] = df[\"transcriptPath\"].apply(os.path.exists)\n"
     ]
    }
   ],
   "source": [
    "df[\"exists\"] = df[\"transcriptPath\"].apply(os.path.exists)"
   ]
  },
  {
   "cell_type": "code",
   "execution_count": 30,
   "id": "467cfde5-7517-4f75-8f64-eac76cd5a511",
   "metadata": {},
   "outputs": [
    {
     "data": {
      "text/plain": [
       "18141"
      ]
     },
     "execution_count": 30,
     "metadata": {},
     "output_type": "execute_result"
    }
   ],
   "source": [
    "sum(df[\"exists\"])"
   ]
  },
  {
   "cell_type": "code",
   "execution_count": 31,
   "id": "48d609e8-0b5a-4f7b-b721-18fc334dee1f",
   "metadata": {},
   "outputs": [],
   "source": [
    "META_PATH= \"/shared/3/projects/benlitterer/podcastData/prosodyMerged/floydMonth\"\n",
    "#foo.getUrlTranscriptPath(\"helloWorld\", META_PATH) \n",
    "paths = df.loc[df[\"exists\"] == True, \"transcriptPath\"] "
   ]
  },
  {
   "cell_type": "code",
   "execution_count": 5,
   "id": "214e5165",
   "metadata": {},
   "outputs": [
    {
     "name": "stderr",
     "output_type": "stream",
     "text": [
      "Some weights of RobertaModel were not initialized from the model checkpoint at roberta-base and are newly initialized: ['roberta.pooler.dense.weight', 'roberta.pooler.dense.bias']\n",
      "You should probably TRAIN this model on a down-stream task to be able to use it for predictions and inference.\n"
     ]
    }
   ],
   "source": [
    "device = \"cuda:\" + str(2)\n",
    "tokenizer = RobertaTokenizer.from_pretrained('roberta-base')\n",
    "model = RobertaModel.from_pretrained('roberta-base').to(device)"
   ]
  },
  {
   "cell_type": "code",
   "execution_count": 6,
   "id": "849722b2-8e89-4299-8a1a-6651919397f7",
   "metadata": {},
   "outputs": [],
   "source": [
    "def mean_pooling(token_embeddings, attention_mask): \n",
    "        input_mask_expanded = attention_mask.unsqueeze(-1).expand(token_embeddings.size()).float()\n",
    "        return torch.sum(token_embeddings * input_mask_expanded, 1) / torch.clamp(input_mask_expanded.sum(1), min=1e-9)"
   ]
  },
  {
   "cell_type": "code",
   "execution_count": 41,
   "id": "485916f6-4f19-4db9-a492-a662e9faf104",
   "metadata": {},
   "outputs": [
    {
     "name": "stderr",
     "output_type": "stream",
     "text": [
      "100%|██████████| 18141/18141 [17:10<00:00, 17.60it/s]\n"
     ]
    }
   ],
   "source": [
    "transcriptEmbeddings = []\n",
    "finishedPaths = []\n",
    "\n",
    "for path in tqdm(paths): \n",
    "    try: \n",
    "        currFile = open(path, \"r\")\n",
    "        currText = \"\".join([row.split(\",\")[4] for row in currFile.readlines()])\n",
    "        \n",
    "        encoded_input = tokenizer(currText, return_tensors='pt', max_length=512, truncation=True).to(device)\n",
    "        output = model(**encoded_input)\n",
    "        \n",
    "        embeddings = output[\"last_hidden_state\"]\n",
    "        transcriptEmbedding = mean_pooling(embeddings, encoded_input[\"attention_mask\"]).detach().to(\"cpu\")\n",
    "        \n",
    "        transcriptEmbeddings.append(transcriptEmbedding)\n",
    "        finishedPaths.append(path)\n",
    "        del transcriptEmbedding\n",
    "        del embeddings\n",
    "        del output\n",
    "        del encoded_input\n",
    "        torch.cuda.empty_cache()\n",
    "    except Exception as e:\n",
    "        print(e)\n",
    "        pass"
   ]
  },
  {
   "cell_type": "code",
   "execution_count": 40,
   "id": "994f0abc-82e0-4ec3-8a50-952d77d860c6",
   "metadata": {},
   "outputs": [
    {
     "data": {
      "text/plain": [
       "123"
      ]
     },
     "execution_count": 40,
     "metadata": {},
     "output_type": "execute_result"
    }
   ],
   "source": [
    "len(transcriptEmbeddings)"
   ]
  },
  {
   "cell_type": "code",
   "execution_count": 43,
   "id": "c0762760-d71a-460e-ae78-5c024c772c55",
   "metadata": {},
   "outputs": [],
   "source": [
    "outDf = pd.DataFrame({\"transcriptPath\":finishedPaths, \"embedding\":transcriptEmbeddings}) "
   ]
  },
  {
   "cell_type": "code",
   "execution_count": 48,
   "id": "9b6b2240-7b3c-446a-88e0-2a0dc9304ef0",
   "metadata": {},
   "outputs": [],
   "source": [
    "outDf.to_pickle(OUT_PATH)"
   ]
  },
  {
   "cell_type": "code",
   "execution_count": null,
   "id": "6e9d40cc-143f-4a23-9da2-3897e7ce8bba",
   "metadata": {},
   "outputs": [],
   "source": []
  }
 ],
 "metadata": {
  "kernelspec": {
   "display_name": "Python 3 (ipykernel)",
   "language": "python",
   "name": "python3"
  },
  "language_info": {
   "codemirror_mode": {
    "name": "ipython",
    "version": 3
   },
   "file_extension": ".py",
   "mimetype": "text/x-python",
   "name": "python",
   "nbconvert_exporter": "python",
   "pygments_lexer": "ipython3",
   "version": "3.11.5"
  }
 },
 "nbformat": 4,
 "nbformat_minor": 5
}
