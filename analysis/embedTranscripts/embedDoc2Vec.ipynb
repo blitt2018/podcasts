{
 "cells": [
  {
   "cell_type": "code",
   "execution_count": 22,
   "id": "b331f3e2-b279-47e6-9e25-9dd8aca8f011",
   "metadata": {},
   "outputs": [],
   "source": [
    "import gensim\n",
    "import pandas as pd\n",
    "import os\n",
    "from tqdm import tqdm"
   ]
  },
  {
   "cell_type": "code",
   "execution_count": 16,
   "id": "449b9286-7b2d-4bd7-b6f7-e0346af235a8",
   "metadata": {},
   "outputs": [
    {
     "name": "stderr",
     "output_type": "stream",
     "text": [
      "/tmp/ipykernel_3341629/1424108527.py:1: DtypeWarning: Columns (6,7,8,12,20,49) have mixed types. Specify dtype option on import or set low_memory=False.\n",
      "  df = pd.read_csv(\"/shared/3/projects/benlitterer/podcastData/processed/floydMonth/floydMonthEnSHORT.csv\")\n"
     ]
    }
   ],
   "source": [
    "df = pd.read_csv(\"/shared/3/projects/benlitterer/podcastData/processed/floydMonth/floydMonthEnSHORT.csv\")"
   ]
  },
  {
   "cell_type": "code",
   "execution_count": 18,
   "id": "f104c343-65d3-4f37-8bad-d4770b8e4d2e",
   "metadata": {},
   "outputs": [],
   "source": [
    "basePath = \"/shared/3/projects/benlitterer/podcastData/prosodyMerged/floydMonth\"\n",
    "df[\"potentialOutPathFull\"] = basePath + df[\"potentialOutPath\"] "
   ]
  },
  {
   "cell_type": "code",
   "execution_count": 19,
   "id": "be8af112-12cd-492a-ba9d-c660fb6e3da0",
   "metadata": {},
   "outputs": [],
   "source": [
    "df[\"exists\"] = df[\"potentialOutPathFull\"].apply(os.path.exists)\n",
    "\n",
    "df = df[df[\"exists\"] == True] "
   ]
  },
  {
   "cell_type": "code",
   "execution_count": 20,
   "id": "e407c1c4-5c95-4a12-b41a-7bfe93542448",
   "metadata": {},
   "outputs": [
    {
     "data": {
      "text/plain": [
       "(507331, 59)"
      ]
     },
     "execution_count": 20,
     "metadata": {},
     "output_type": "execute_result"
    }
   ],
   "source": [
    "df.shape"
   ]
  },
  {
   "cell_type": "code",
   "execution_count": 49,
   "id": "12153b7a-52ad-406a-9e7d-1c6c260b2a5e",
   "metadata": {},
   "outputs": [
    {
     "name": "stderr",
     "output_type": "stream",
     "text": [
      "100%|█████████████████████████████████████████████████████████████████████████████████████████████████████████| 5000/5000 [02:52<00:00, 28.95it/s]\n"
     ]
    }
   ],
   "source": [
    "CUTOFF = 1000\n",
    "finishedPaths = []\n",
    "\n",
    "\n",
    "def readCorpus():\n",
    "    i = 0\n",
    "    for path in tqdm(df.head(5000)[\"potentialOutPathFull\"]):\n",
    "        try:\n",
    "            currFile = open(path, \"r\")\n",
    "            #get tokens as processed by gensim\n",
    "            tokens = [row.split(\",\")[4] for row in currFile.readlines()]\n",
    "            currText = \"\".join(tokens)\n",
    "            tokens = gensim.utils.simple_preprocess(currText)\n",
    "            yield gensim.models.doc2vec.TaggedDocument(tokens, [i])\n",
    "            i += 1\n",
    "        except Exception as e:\n",
    "            print(e)\n",
    "            pass\n",
    "\n",
    "train_corpus = list(readCorpus())"
   ]
  },
  {
   "cell_type": "code",
   "execution_count": 50,
   "id": "3c896f32-fce5-4b97-80db-b847cb2dd837",
   "metadata": {},
   "outputs": [],
   "source": [
    "model = gensim.models.doc2vec.Doc2Vec(vector_size=50, min_count=2, epochs=40)\n",
    "\n",
    "model.build_vocab(train_corpus)"
   ]
  },
  {
   "cell_type": "code",
   "execution_count": 51,
   "id": "14880371-ad7e-4f97-9622-a4326cbaeb49",
   "metadata": {},
   "outputs": [],
   "source": [
    "model.train(train_corpus, total_examples=model.corpus_count, epochs=model.epochs)"
   ]
  },
  {
   "cell_type": "code",
   "execution_count": 52,
   "id": "6f251461-6f19-417d-a805-969efce3930f",
   "metadata": {},
   "outputs": [],
   "source": [
    "from gensim.test.utils import get_tmpfile\n",
    "OUT_PATH = \"/shared/3/projects/benlitterer/podcastData/embeddings/floydMonth/doc2vecModel5000\"\n",
    "fname = get_tmpfile(OUT_PATH)\n",
    "model.save(fname)"
   ]
  }
 ],
 "metadata": {
  "kernelspec": {
   "display_name": "Python 3 (ipykernel)",
   "language": "python",
   "name": "python3"
  },
  "language_info": {
   "codemirror_mode": {
    "name": "ipython",
    "version": 3
   },
   "file_extension": ".py",
   "mimetype": "text/x-python",
   "name": "python",
   "nbconvert_exporter": "python",
   "pygments_lexer": "ipython3",
   "version": "3.11.5"
  }
 },
 "nbformat": 4,
 "nbformat_minor": 5
}
