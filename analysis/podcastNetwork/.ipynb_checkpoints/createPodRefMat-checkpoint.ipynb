{
 "cells": [
  {
   "cell_type": "code",
   "execution_count": 153,
   "id": "0b1c94aa-c730-42fd-90dd-e1586a486653",
   "metadata": {},
   "outputs": [],
   "source": [
    "import pandas as pd\n",
    "import importlib\n",
    "import os\n",
    "import re\n",
    "from tqdm import tqdm\n",
    "import matplotlib.pyplot as plt\n",
    "import seaborn as sns"
   ]
  },
  {
   "cell_type": "code",
   "execution_count": 6,
   "id": "25ee451c-0e80-4c9d-afdd-63b018090f4f",
   "metadata": {},
   "outputs": [
    {
     "name": "stderr",
     "output_type": "stream",
     "text": [
      "/tmp/ipykernel_4146555/709379184.py:1: DtypeWarning: Columns (6,7,8,12,20,49) have mixed types. Specify dtype option on import or set low_memory=False.\n",
      "  podData = pd.read_csv(\"/shared/3/projects/benlitterer/podcastData/processed/floydMonth/floydMonthEnSHORT.csv\",lineterminator='\\n')\n"
     ]
    }
   ],
   "source": [
    "podData = pd.read_csv(\"/shared/3/projects/benlitterer/podcastData/processed/floydMonth/floydMonthEnSHORT.csv\",lineterminator='\\n')"
   ]
  },
  {
   "cell_type": "code",
   "execution_count": 8,
   "id": "883be834-b57a-4966-83be-4361caf06e35",
   "metadata": {},
   "outputs": [],
   "source": [
    "#just to make run faster at first \n",
    "podData = podData.head(100000)"
   ]
  },
  {
   "cell_type": "code",
   "execution_count": 15,
   "id": "72b3d9ca-f033-4e3c-8017-01146fbd4cb4",
   "metadata": {},
   "outputs": [
    {
     "name": "stderr",
     "output_type": "stream",
     "text": [
      "/tmp/ipykernel_4146555/3100014144.py:9: SettingWithCopyWarning: \n",
      "A value is trying to be set on a copy of a slice from a DataFrame.\n",
      "Try using .loc[row_indexer,col_indexer] = value instead\n",
      "\n",
      "See the caveats in the documentation: https://pandas.pydata.org/pandas-docs/stable/user_guide/indexing.html#returning-a-view-versus-a-copy\n",
      "  podData[\"potentialOutPath\"] = podData[\"enclosure\"].apply(foo.getUrlTranscriptPath, args=[META_PATH])\n"
     ]
    }
   ],
   "source": [
    "#get function to give transcript file path of urls\n",
    "spec=importlib.util.spec_from_file_location(\"getURLstorageLocation\",\"/home/blitt/projects/podcasts/mergeTransMetadata/getURLstorageLocation.py\")\n",
    "foo = importlib.util.module_from_spec(spec)\n",
    "spec.loader.exec_module(foo)\n",
    "\n",
    "#get path to transcripts for each url \n",
    "META_PATH= \"/shared/3/projects/benlitterer/podcastData/prosodyMerged/floydMonth\"\n",
    "podData = podData.dropna(subset=[\"enclosure\"])\n",
    "podData[\"potentialOutPath\"] = podData[\"enclosure\"].apply(foo.getUrlTranscriptPath, args=[META_PATH])"
   ]
  },
  {
   "cell_type": "code",
   "execution_count": null,
   "id": "20db3a49-56ca-453e-a363-2919b6d64ee2",
   "metadata": {},
   "outputs": [],
   "source": [
    "#get function to give transcript file path of urls\n",
    "spec=importlib.util.spec_from_file_location(\"getURLstorageLocation\",\"/home/blitt/projects/podcasts/mergeTransMetadata/getURLstorageLocation.py\")\n",
    "foo = importlib.util.module_from_spec(spec)\n",
    "spec.loader.exec_module(foo)\n",
    "\n",
    "#get path to transcripts for each url \n",
    "META_PATH= \"/shared/3/projects/benlitterer/podcastData/prosodyMerged/floydMonth\"\n",
    "podData = podData.dropna(subset=[\"enclosure\"])\n",
    "podData[\"transcriptPath\"] = podData[\"enclosure\"].apply(foo.getUrlTranscriptPath, args=[META_PATH])"
   ]
  },
  {
   "cell_type": "code",
   "execution_count": null,
   "id": "29d5bcf5-78d1-470d-a6d0-1e78d5fdace8",
   "metadata": {},
   "outputs": [],
   "source": [
    "#we can only work with the data for which we have transcripts/embeddings \n",
    "podData[\"exists\"] = podData[\"potentialOutPath\"].apply(os.path.exists)\n",
    "podData = podData[podData[\"exists\"] == True]"
   ]
  },
  {
   "cell_type": "code",
   "execution_count": 27,
   "id": "e09c8f7b-2323-4248-b931-45467bcfdedc",
   "metadata": {},
   "outputs": [],
   "source": [
    "#get all of the titles, then find references to those titles \n",
    "podNames = set(podData[\"title\"].str.lower().unique())"
   ]
  },
  {
   "cell_type": "code",
   "execution_count": 205,
   "id": "55ef2347-3bbd-4b2b-b356-ce7bddfed410",
   "metadata": {},
   "outputs": [],
   "source": [
    "#get substrings starting with capital letters \n",
    "def getCapStrs(inStr):   \n",
    "    #get indices of capital letters \n",
    "    capIndices = [i for i in range(len(inStr)) if inStr[i].isupper()]\n",
    "    \n",
    "    #grab all strings starting with capital letters, get 40 characters \n",
    "    #return re.findall(\"(?:\\s|\\w){2}[A-Z].{40}\", inStr)\n",
    "\n",
    "    outStrs = []\n",
    "    for i in capIndices: \n",
    "        BUFFER = 40 \n",
    "        if i + BUFFER < len(inStr): \n",
    "            outStr = inStr[i: i+40]\n",
    "        else: \n",
    "            outStr = inStr[i: len(inStr)]\n",
    "\n",
    "        if i - 2 > 0 and \".\" not in inStr[i-2:i] and \"!\" not in inStr[i-2:i]: \n",
    "            outStrs.append(outStr)\n",
    "            \n",
    "    return outStrs"
   ]
  },
  {
   "cell_type": "code",
   "execution_count": 206,
   "id": "58b0d43e-c76a-403e-8c81-70c6d1809bf2",
   "metadata": {},
   "outputs": [
    {
     "data": {
      "text/plain": [
       "['June 4\" 2020. And in light of the nation',\n",
       " 'Floyd and so many other unarmed African ',\n",
       " 'African Americans\" weve decided to postp',\n",
       " 'Americans\" weve decided to postpone our ',\n",
       " 'Nirvana and make more space for Black vo',\n",
       " 'Black voices to be heard. ']"
      ]
     },
     "execution_count": 206,
     "metadata": {},
     "output_type": "execute_result"
    }
   ],
   "source": [
    "testStr = 'Its June 4\" 2020. And in light of the national response to the death of. George Floyd and so many other unarmed African Americans\" weve decided to postpone our episode about Nirvana and make more space for Black voices to be heard. '\n",
    "getCapStrs(testStr)"
   ]
  },
  {
   "cell_type": "code",
   "execution_count": 207,
   "id": "4248f5b7-01c4-4de9-b6db-b61e87725b1d",
   "metadata": {},
   "outputs": [
    {
     "data": {
      "text/plain": [
       "[]"
      ]
     },
     "execution_count": 207,
     "metadata": {},
     "output_type": "execute_result"
    }
   ],
   "source": [
    "def searchPodNames(inStr): \n",
    "    matches = []\n",
    "    splitStr = inStr.split()\n",
    "    splitLen = len(splitStr) \n",
    "    for i in range(splitLen): \n",
    "        subStr = \" \".join(splitStr[:i+1]) \n",
    "        if subStr.lower() in podNames: \n",
    "            #print(\"yep!\")\n",
    "            matches.append(subStr) \n",
    "    return matches \n",
    "\n",
    "#example: \n",
    "searchPodNames('t Hello and welcome to Secrets of Organ Pla'[2:]) "
   ]
  },
  {
   "cell_type": "code",
   "execution_count": 208,
   "id": "8cf43d17-9c9c-439e-ba3d-6d9e5e32be06",
   "metadata": {},
   "outputs": [
    {
     "name": "stderr",
     "output_type": "stream",
     "text": [
      "100%|███████████████████████████████████████████████████████████████████████████████████████████████████████| 20000/20000 [07:15<00:00, 45.90it/s]\n"
     ]
    }
   ],
   "source": [
    "#let's merge the podcast text into the data \n",
    "inPaths = podData[\"potentialOutPath\"]\n",
    "matchesList = []\n",
    "for path in tqdm(inPaths[:20000]): \n",
    "    matches = []\n",
    "    with open(path, \"r\") as handle: \n",
    "        currText = \"\".join([row.split(\",\")[4] for row in handle.readlines()])\n",
    "        capStrings = getCapStrs(currText)\n",
    "        for capStr in capStrings: \n",
    "            matches += searchPodNames(capStr)\n",
    "        matchesList.append(matches) "
   ]
  },
  {
   "cell_type": "code",
   "execution_count": 209,
   "id": "a5f43de2-54cf-4134-ae1f-09620c95aaf1",
   "metadata": {},
   "outputs": [
    {
     "data": {
      "text/plain": [
       "True"
      ]
     },
     "execution_count": 209,
     "metadata": {},
     "output_type": "execute_result"
    }
   ],
   "source": [
    "\"Secrets of Organ Playing Podcast\".lower() in podNames"
   ]
  },
  {
   "cell_type": "code",
   "execution_count": 210,
   "id": "39860a59-3ea2-4050-a798-345a43921e1a",
   "metadata": {},
   "outputs": [],
   "source": [
    "sampDf = podData.head(20000)"
   ]
  },
  {
   "cell_type": "code",
   "execution_count": 211,
   "id": "811673e6-6625-4f6a-ad2d-f5ddff9154bc",
   "metadata": {},
   "outputs": [
    {
     "name": "stderr",
     "output_type": "stream",
     "text": [
      "/tmp/ipykernel_4146555/930718568.py:1: SettingWithCopyWarning: \n",
      "A value is trying to be set on a copy of a slice from a DataFrame.\n",
      "Try using .loc[row_indexer,col_indexer] = value instead\n",
      "\n",
      "See the caveats in the documentation: https://pandas.pydata.org/pandas-docs/stable/user_guide/indexing.html#returning-a-view-versus-a-copy\n",
      "  sampDf[\"references\"] = matchesList\n"
     ]
    }
   ],
   "source": [
    "sampDf[\"references\"] = matchesList"
   ]
  },
  {
   "cell_type": "code",
   "execution_count": 212,
   "id": "07e78621-d2f5-4b08-8bb4-64c59ca095b5",
   "metadata": {},
   "outputs": [],
   "source": [
    "edgeDf = sampDf[[\"title\", \"epTitle\", \"references\", \"cleanDates\"]] "
   ]
  },
  {
   "cell_type": "code",
   "execution_count": 213,
   "id": "d863adcd-a09d-45e3-871d-1f187bee873f",
   "metadata": {},
   "outputs": [],
   "source": [
    "longEdges = edgeDf.explode(\"references\").dropna(subset=[\"references\"])"
   ]
  },
  {
   "cell_type": "code",
   "execution_count": 214,
   "id": "e735e9ad-5af1-47cd-b0ba-6c6e2ef53dbd",
   "metadata": {},
   "outputs": [],
   "source": [
    "refCounts = pd.DataFrame(longEdges[\"references\"].value_counts()).reset_index()\n",
    "refCounts[\"refProp\"] = refCounts[\"count\"] / sum(refCounts[\"count\"]) "
   ]
  },
  {
   "cell_type": "code",
   "execution_count": 215,
   "id": "c95cefa1-8a3c-4455-822b-d7f77a8533ef",
   "metadata": {},
   "outputs": [
    {
     "data": {
      "text/html": [
       "<div>\n",
       "<style scoped>\n",
       "    .dataframe tbody tr th:only-of-type {\n",
       "        vertical-align: middle;\n",
       "    }\n",
       "\n",
       "    .dataframe tbody tr th {\n",
       "        vertical-align: top;\n",
       "    }\n",
       "\n",
       "    .dataframe thead th {\n",
       "        text-align: right;\n",
       "    }\n",
       "</style>\n",
       "<table border=\"1\" class=\"dataframe\">\n",
       "  <thead>\n",
       "    <tr style=\"text-align: right;\">\n",
       "      <th></th>\n",
       "      <th>references</th>\n",
       "      <th>count</th>\n",
       "      <th>refProp</th>\n",
       "    </tr>\n",
       "  </thead>\n",
       "  <tbody>\n",
       "    <tr>\n",
       "      <th>512</th>\n",
       "      <td>Sporty</td>\n",
       "      <td>4</td>\n",
       "      <td>0.000050</td>\n",
       "    </tr>\n",
       "    <tr>\n",
       "      <th>513</th>\n",
       "      <td>Let's unpack</td>\n",
       "      <td>4</td>\n",
       "      <td>0.000050</td>\n",
       "    </tr>\n",
       "    <tr>\n",
       "      <th>514</th>\n",
       "      <td>RCR Wireless News</td>\n",
       "      <td>4</td>\n",
       "      <td>0.000050</td>\n",
       "    </tr>\n",
       "    <tr>\n",
       "      <th>515</th>\n",
       "      <td>Beyond Homosapien</td>\n",
       "      <td>4</td>\n",
       "      <td>0.000050</td>\n",
       "    </tr>\n",
       "    <tr>\n",
       "      <th>516</th>\n",
       "      <td>Financial Choices Matter</td>\n",
       "      <td>4</td>\n",
       "      <td>0.000050</td>\n",
       "    </tr>\n",
       "    <tr>\n",
       "      <th>...</th>\n",
       "      <td>...</td>\n",
       "      <td>...</td>\n",
       "      <td>...</td>\n",
       "    </tr>\n",
       "    <tr>\n",
       "      <th>1894</th>\n",
       "      <td>Knitting Nerdcast</td>\n",
       "      <td>1</td>\n",
       "      <td>0.000012</td>\n",
       "    </tr>\n",
       "    <tr>\n",
       "      <th>1895</th>\n",
       "      <td>Lore Party</td>\n",
       "      <td>1</td>\n",
       "      <td>0.000012</td>\n",
       "    </tr>\n",
       "    <tr>\n",
       "      <th>1896</th>\n",
       "      <td>Imago Church</td>\n",
       "      <td>1</td>\n",
       "      <td>0.000012</td>\n",
       "    </tr>\n",
       "    <tr>\n",
       "      <th>1897</th>\n",
       "      <td>Unscripted</td>\n",
       "      <td>1</td>\n",
       "      <td>0.000012</td>\n",
       "    </tr>\n",
       "    <tr>\n",
       "      <th>1898</th>\n",
       "      <td>HR party of one</td>\n",
       "      <td>1</td>\n",
       "      <td>0.000012</td>\n",
       "    </tr>\n",
       "  </tbody>\n",
       "</table>\n",
       "<p>1387 rows × 3 columns</p>\n",
       "</div>"
      ],
      "text/plain": [
       "                    references  count   refProp\n",
       "512                     Sporty      4  0.000050\n",
       "513               Let's unpack      4  0.000050\n",
       "514          RCR Wireless News      4  0.000050\n",
       "515          Beyond Homosapien      4  0.000050\n",
       "516   Financial Choices Matter      4  0.000050\n",
       "...                        ...    ...       ...\n",
       "1894         Knitting Nerdcast      1  0.000012\n",
       "1895                Lore Party      1  0.000012\n",
       "1896              Imago Church      1  0.000012\n",
       "1897                Unscripted      1  0.000012\n",
       "1898           HR party of one      1  0.000012\n",
       "\n",
       "[1387 rows x 3 columns]"
      ]
     },
     "execution_count": 215,
     "metadata": {},
     "output_type": "execute_result"
    }
   ],
   "source": [
    "refCounts[refCounts[\"refProp\"] < .00005] "
   ]
  },
  {
   "cell_type": "code",
   "execution_count": 216,
   "id": "566d4677-b081-40cc-b0d5-e6fdd9488e8e",
   "metadata": {},
   "outputs": [],
   "source": [
    "longEdges = pd.merge(longEdges, refCounts, on=\"references\", how=\"left\") "
   ]
  },
  {
   "cell_type": "code",
   "execution_count": 217,
   "id": "3a9bef75-be2f-4ba8-9c94-3e20ea384fb7",
   "metadata": {},
   "outputs": [
    {
     "data": {
      "text/plain": [
       "<Axes: xlabel='refProp', ylabel='Density'>"
      ]
     },
     "execution_count": 217,
     "metadata": {},
     "output_type": "execute_result"
    },
    {
     "data": {
      "image/png": "[encoded data removed]",
      "text/plain": [
       "<Figure size 640x480 with 1 Axes>"
      ]
     },
     "metadata": {},
     "output_type": "display_data"
    }
   ],
   "source": [
    "sns.kdeplot(data = refCounts, x=\"refProp\")"
   ]
  },
  {
   "cell_type": "code",
   "execution_count": 218,
   "id": "bbb05433-4470-4d5d-9580-f80d4d83c2a5",
   "metadata": {},
   "outputs": [
    {
     "data": {
      "text/html": [
       "<div>\n",
       "<style scoped>\n",
       "    .dataframe tbody tr th:only-of-type {\n",
       "        vertical-align: middle;\n",
       "    }\n",
       "\n",
       "    .dataframe tbody tr th {\n",
       "        vertical-align: top;\n",
       "    }\n",
       "\n",
       "    .dataframe thead th {\n",
       "        text-align: right;\n",
       "    }\n",
       "</style>\n",
       "<table border=\"1\" class=\"dataframe\">\n",
       "  <thead>\n",
       "    <tr style=\"text-align: right;\">\n",
       "      <th></th>\n",
       "      <th>title</th>\n",
       "      <th>epTitle</th>\n",
       "      <th>references</th>\n",
       "      <th>cleanDates</th>\n",
       "      <th>count</th>\n",
       "      <th>refProp</th>\n",
       "    </tr>\n",
       "  </thead>\n",
       "  <tbody>\n",
       "    <tr>\n",
       "      <th>105</th>\n",
       "      <td>Inspired Marketing</td>\n",
       "      <td>Inspired Marketing: Uberflip’s Randy Frisch on...</td>\n",
       "      <td>Inspired Marketing</td>\n",
       "      <td>2020-05-27 09:00:00+00:00</td>\n",
       "      <td>1</td>\n",
       "      <td>0.000012</td>\n",
       "    </tr>\n",
       "    <tr>\n",
       "      <th>160</th>\n",
       "      <td>What's in the Words</td>\n",
       "      <td>Letting Go</td>\n",
       "      <td>What's in the Words</td>\n",
       "      <td>2020-06-04 11:50:27</td>\n",
       "      <td>3</td>\n",
       "      <td>0.000037</td>\n",
       "    </tr>\n",
       "    <tr>\n",
       "      <th>164</th>\n",
       "      <td>What's in the Words</td>\n",
       "      <td>Started from the Bottom</td>\n",
       "      <td>What's in the Words</td>\n",
       "      <td>2020-05-19 04:00:00</td>\n",
       "      <td>3</td>\n",
       "      <td>0.000037</td>\n",
       "    </tr>\n",
       "    <tr>\n",
       "      <th>167</th>\n",
       "      <td>What's in the Words</td>\n",
       "      <td>The Truth About Black History</td>\n",
       "      <td>What's in the Words</td>\n",
       "      <td>2020-05-18 21:53:25</td>\n",
       "      <td>3</td>\n",
       "      <td>0.000037</td>\n",
       "    </tr>\n",
       "    <tr>\n",
       "      <th>201</th>\n",
       "      <td>DadGab</td>\n",
       "      <td>It Started with a Door Handle</td>\n",
       "      <td>DadGab</td>\n",
       "      <td>2020-06-02 14:03:07-05:00</td>\n",
       "      <td>4</td>\n",
       "      <td>0.000050</td>\n",
       "    </tr>\n",
       "    <tr>\n",
       "      <th>...</th>\n",
       "      <td>...</td>\n",
       "      <td>...</td>\n",
       "      <td>...</td>\n",
       "      <td>...</td>\n",
       "      <td>...</td>\n",
       "      <td>...</td>\n",
       "    </tr>\n",
       "    <tr>\n",
       "      <th>79998</th>\n",
       "      <td>Practical Consciousness</td>\n",
       "      <td>Episode 28 - Practical Mindfulness Practice</td>\n",
       "      <td>Practical Consciousness</td>\n",
       "      <td>2020-05-18 19:25:03</td>\n",
       "      <td>10</td>\n",
       "      <td>0.000125</td>\n",
       "    </tr>\n",
       "    <tr>\n",
       "      <th>79999</th>\n",
       "      <td>Practical Consciousness</td>\n",
       "      <td>Episode 28 - Practical Mindfulness Practice</td>\n",
       "      <td>Practical Consciousness</td>\n",
       "      <td>2020-05-18 19:25:03</td>\n",
       "      <td>10</td>\n",
       "      <td>0.000125</td>\n",
       "    </tr>\n",
       "    <tr>\n",
       "      <th>80000</th>\n",
       "      <td>Practical Consciousness</td>\n",
       "      <td>Episode 28 - Practical Mindfulness Practice</td>\n",
       "      <td>Practical Consciousness</td>\n",
       "      <td>2020-05-18 19:25:03</td>\n",
       "      <td>10</td>\n",
       "      <td>0.000125</td>\n",
       "    </tr>\n",
       "    <tr>\n",
       "      <th>80001</th>\n",
       "      <td>Practical Consciousness</td>\n",
       "      <td>Episode 27 - The Three Kinds of Awareness</td>\n",
       "      <td>Practical Consciousness</td>\n",
       "      <td>2020-05-13 20:52:10</td>\n",
       "      <td>10</td>\n",
       "      <td>0.000125</td>\n",
       "    </tr>\n",
       "    <tr>\n",
       "      <th>80002</th>\n",
       "      <td>Practical Consciousness</td>\n",
       "      <td>Episode 27 - The Three Kinds of Awareness</td>\n",
       "      <td>Practical Consciousness</td>\n",
       "      <td>2020-05-13 20:52:10</td>\n",
       "      <td>10</td>\n",
       "      <td>0.000125</td>\n",
       "    </tr>\n",
       "  </tbody>\n",
       "</table>\n",
       "<p>3388 rows × 6 columns</p>\n",
       "</div>"
      ],
      "text/plain": [
       "                         title  \\\n",
       "105         Inspired Marketing   \n",
       "160        What's in the Words   \n",
       "164        What's in the Words   \n",
       "167        What's in the Words   \n",
       "201                     DadGab   \n",
       "...                        ...   \n",
       "79998  Practical Consciousness   \n",
       "79999  Practical Consciousness   \n",
       "80000  Practical Consciousness   \n",
       "80001  Practical Consciousness   \n",
       "80002  Practical Consciousness   \n",
       "\n",
       "                                                 epTitle  \\\n",
       "105    Inspired Marketing: Uberflip’s Randy Frisch on...   \n",
       "160                                           Letting Go   \n",
       "164                              Started from the Bottom   \n",
       "167                        The Truth About Black History   \n",
       "201                        It Started with a Door Handle   \n",
       "...                                                  ...   \n",
       "79998        Episode 28 - Practical Mindfulness Practice   \n",
       "79999        Episode 28 - Practical Mindfulness Practice   \n",
       "80000        Episode 28 - Practical Mindfulness Practice   \n",
       "80001          Episode 27 - The Three Kinds of Awareness   \n",
       "80002          Episode 27 - The Three Kinds of Awareness   \n",
       "\n",
       "                    references                 cleanDates  count   refProp  \n",
       "105         Inspired Marketing  2020-05-27 09:00:00+00:00      1  0.000012  \n",
       "160        What's in the Words        2020-06-04 11:50:27      3  0.000037  \n",
       "164        What's in the Words        2020-05-19 04:00:00      3  0.000037  \n",
       "167        What's in the Words        2020-05-18 21:53:25      3  0.000037  \n",
       "201                     DadGab  2020-06-02 14:03:07-05:00      4  0.000050  \n",
       "...                        ...                        ...    ...       ...  \n",
       "79998  Practical Consciousness        2020-05-18 19:25:03     10  0.000125  \n",
       "79999  Practical Consciousness        2020-05-18 19:25:03     10  0.000125  \n",
       "80000  Practical Consciousness        2020-05-18 19:25:03     10  0.000125  \n",
       "80001  Practical Consciousness        2020-05-13 20:52:10     10  0.000125  \n",
       "80002  Practical Consciousness        2020-05-13 20:52:10     10  0.000125  \n",
       "\n",
       "[3388 rows x 6 columns]"
      ]
     },
     "execution_count": 218,
     "metadata": {},
     "output_type": "execute_result"
    }
   ],
   "source": [
    "longEdges[longEdges[\"title\"] == longEdges[\"references\"]]"
   ]
  },
  {
   "cell_type": "code",
   "execution_count": 219,
   "id": "4fe76256-bda0-472b-bb97-1284c6e53eb6",
   "metadata": {},
   "outputs": [
    {
     "data": {
      "text/plain": [
       "241"
      ]
     },
     "execution_count": 219,
     "metadata": {},
     "output_type": "execute_result"
    }
   ],
   "source": [
    "len(longEdges[longEdges[\"references\"].str.contains(\"Podcast\")])"
   ]
  },
  {
   "cell_type": "code",
   "execution_count": 220,
   "id": "ca9bfa80-e7de-4246-bd0a-a93e2b514a22",
   "metadata": {},
   "outputs": [
    {
     "data": {
      "text/html": [
       "<div>\n",
       "<style scoped>\n",
       "    .dataframe tbody tr th:only-of-type {\n",
       "        vertical-align: middle;\n",
       "    }\n",
       "\n",
       "    .dataframe tbody tr th {\n",
       "        vertical-align: top;\n",
       "    }\n",
       "\n",
       "    .dataframe thead th {\n",
       "        text-align: right;\n",
       "    }\n",
       "</style>\n",
       "<table border=\"1\" class=\"dataframe\">\n",
       "  <thead>\n",
       "    <tr style=\"text-align: right;\">\n",
       "      <th></th>\n",
       "      <th>title</th>\n",
       "      <th>epTitle</th>\n",
       "      <th>references</th>\n",
       "      <th>cleanDates</th>\n",
       "      <th>count</th>\n",
       "      <th>refProp</th>\n",
       "    </tr>\n",
       "  </thead>\n",
       "  <tbody>\n",
       "    <tr>\n",
       "      <th>71083</th>\n",
       "      <td>Focus Fox Valley</td>\n",
       "      <td>Focus Fox Valley with Hayley Tenpas 05/26 /20</td>\n",
       "      <td>Stay well</td>\n",
       "      <td>2020-05-26 23:12:11+00:00</td>\n",
       "      <td>1</td>\n",
       "      <td>0.000012</td>\n",
       "    </tr>\n",
       "  </tbody>\n",
       "</table>\n",
       "</div>"
      ],
      "text/plain": [
       "                  title                                        epTitle  \\\n",
       "71083  Focus Fox Valley  Focus Fox Valley with Hayley Tenpas 05/26 /20   \n",
       "\n",
       "      references                 cleanDates  count   refProp  \n",
       "71083  Stay well  2020-05-26 23:12:11+00:00      1  0.000012  "
      ]
     },
     "execution_count": 220,
     "metadata": {},
     "output_type": "execute_result"
    }
   ],
   "source": [
    "#TODO: as an example, see if these are legit references... doesn't seem like it!\n",
    "#TODO: and think about how we can pare this down \n",
    "longEdges[longEdges[\"references\"] == \"Stay well\"]"
   ]
  },
  {
   "cell_type": "code",
   "execution_count": 232,
   "id": "9343c111-3386-4b65-a341-d097d39227de",
   "metadata": {},
   "outputs": [
    {
     "data": {
      "text/plain": [
       "'/shared/3/projects/benlitterer/podcastData/prosodyMerged/floydMonth/dts.podtrac.com/e_/httpsdts.podtrac.comredirect.mp3api.spreaker.comdownloadepisode28394329focus_fox_valley_with_hayley_tenpas_05_26_20.mp3MERGED'"
      ]
     },
     "execution_count": 232,
     "metadata": {},
     "output_type": "execute_result"
    }
   ],
   "source": [
    "currPath.item()"
   ]
  },
  {
   "cell_type": "code",
   "execution_count": 238,
   "id": "af94fae6-ff4a-4257-a570-d420d63c7040",
   "metadata": {},
   "outputs": [
    {
     "data": {
      "text/plain": [
       "' the future. - Thanks\" Haley. Stay well. - Stay well to you '"
      ]
     },
     "execution_count": 238,
     "metadata": {},
     "output_type": "execute_result"
    }
   ],
   "source": [
    "#this \"Stay well\" is a false positive\n",
    "currPath = podData.loc[podData[\"epTitle\"] == \"Focus Fox Valley with Hayley Tenpas 05/26 /20\", \"potentialOutPath\"].item()\n",
    "currText = \"\".join([row.split(\",\")[4] for row in open(currPath, \"r\").readlines()])\n",
    "subStrI = currText.find(\"Stay well\") \n",
    "currText[subStrI - 30:subStrI + 30]"
   ]
  },
  {
   "cell_type": "code",
   "execution_count": 239,
   "id": "8f328ebf-93da-4ed8-8faa-a145e72135fd",
   "metadata": {},
   "outputs": [],
   "source": [
    "longCands = longEdges.loc[(longEdges[\"references\"] != longEdges[\"title\"]) & (longEdges[\"count\"] <= 400 )]"
   ]
  },
  {
   "cell_type": "code",
   "execution_count": 240,
   "id": "78c22b39-69b9-41ee-bac1-21ce7d491ef3",
   "metadata": {},
   "outputs": [
    {
     "data": {
      "text/html": [
       "<div>\n",
       "<style scoped>\n",
       "    .dataframe tbody tr th:only-of-type {\n",
       "        vertical-align: middle;\n",
       "    }\n",
       "\n",
       "    .dataframe tbody tr th {\n",
       "        vertical-align: top;\n",
       "    }\n",
       "\n",
       "    .dataframe thead th {\n",
       "        text-align: right;\n",
       "    }\n",
       "</style>\n",
       "<table border=\"1\" class=\"dataframe\">\n",
       "  <thead>\n",
       "    <tr style=\"text-align: right;\">\n",
       "      <th></th>\n",
       "      <th>title</th>\n",
       "      <th>epTitle</th>\n",
       "      <th>references</th>\n",
       "      <th>cleanDates</th>\n",
       "      <th>count</th>\n",
       "      <th>refProp</th>\n",
       "    </tr>\n",
       "  </thead>\n",
       "  <tbody>\n",
       "    <tr>\n",
       "      <th>135</th>\n",
       "      <td>We Love Tech Podcast</td>\n",
       "      <td>Should you upgrade to the MacBook Pro 13 ? Als...</td>\n",
       "      <td>We Love Tech podcast</td>\n",
       "      <td>2020-05-18 21:54:11</td>\n",
       "      <td>1</td>\n",
       "      <td>0.000012</td>\n",
       "    </tr>\n",
       "    <tr>\n",
       "      <th>144</th>\n",
       "      <td>FFGF Podcast</td>\n",
       "      <td>The Limp of God</td>\n",
       "      <td>You know what I mean?</td>\n",
       "      <td>2020-05-28 19:45:23+00:00</td>\n",
       "      <td>363</td>\n",
       "      <td>0.004537</td>\n",
       "    </tr>\n",
       "    <tr>\n",
       "      <th>156</th>\n",
       "      <td>ZION ID</td>\n",
       "      <td>Healing: Part One</td>\n",
       "      <td>I have no idea</td>\n",
       "      <td>2020-05-23 16:06:33</td>\n",
       "      <td>383</td>\n",
       "      <td>0.004787</td>\n",
       "    </tr>\n",
       "    <tr>\n",
       "      <th>195</th>\n",
       "      <td>From Chicago to Dummast</td>\n",
       "      <td>The Dummast Podcast Ep.6: Goldblum's Inner Lot...</td>\n",
       "      <td>This is why</td>\n",
       "      <td>2020-05-17 02:32:46-05:00</td>\n",
       "      <td>83</td>\n",
       "      <td>0.001037</td>\n",
       "    </tr>\n",
       "    <tr>\n",
       "      <th>205</th>\n",
       "      <td>5G Talent Talk with Carrie Charles</td>\n",
       "      <td>How Samsung is Staying Ahead of Tomorrow with ...</td>\n",
       "      <td>RCR Wireless News</td>\n",
       "      <td>2020-06-05 22:03:00</td>\n",
       "      <td>4</td>\n",
       "      <td>0.000050</td>\n",
       "    </tr>\n",
       "    <tr>\n",
       "      <th>...</th>\n",
       "      <td>...</td>\n",
       "      <td>...</td>\n",
       "      <td>...</td>\n",
       "      <td>...</td>\n",
       "      <td>...</td>\n",
       "      <td>...</td>\n",
       "    </tr>\n",
       "    <tr>\n",
       "      <th>79786</th>\n",
       "      <td>Look On The Bright Side</td>\n",
       "      <td>Hamper for Heroes, Keep Pubs Pumping and Can Y...</td>\n",
       "      <td>Look on the Bright Side</td>\n",
       "      <td>2020-05-20 23:00:00</td>\n",
       "      <td>4</td>\n",
       "      <td>0.000050</td>\n",
       "    </tr>\n",
       "    <tr>\n",
       "      <th>79788</th>\n",
       "      <td>Look On The Bright Side</td>\n",
       "      <td>Hamper for Heroes, Keep Pubs Pumping and Can Y...</td>\n",
       "      <td>Look on the Bright Side</td>\n",
       "      <td>2020-05-20 23:00:00</td>\n",
       "      <td>4</td>\n",
       "      <td>0.000050</td>\n",
       "    </tr>\n",
       "    <tr>\n",
       "      <th>79792</th>\n",
       "      <td>Look On The Bright Side</td>\n",
       "      <td>Tailor made support, Hypnosis and a Swiss Hack...</td>\n",
       "      <td>Look on the Bright Side</td>\n",
       "      <td>2020-05-13 23:00:00</td>\n",
       "      <td>4</td>\n",
       "      <td>0.000050</td>\n",
       "    </tr>\n",
       "    <tr>\n",
       "      <th>79798</th>\n",
       "      <td>Just James Podcast</td>\n",
       "      <td>Episode 15: Friendship break-ups are hard to do!</td>\n",
       "      <td>Just James podcast</td>\n",
       "      <td>2020-05-20 15:00:00+01:00</td>\n",
       "      <td>1</td>\n",
       "      <td>0.000012</td>\n",
       "    </tr>\n",
       "    <tr>\n",
       "      <th>79995</th>\n",
       "      <td>Practical Consciousness</td>\n",
       "      <td>Episode 29 - The power of Intention</td>\n",
       "      <td>You know what I mean?</td>\n",
       "      <td>2020-05-28 00:57:49</td>\n",
       "      <td>363</td>\n",
       "      <td>0.004537</td>\n",
       "    </tr>\n",
       "  </tbody>\n",
       "</table>\n",
       "<p>3067 rows × 6 columns</p>\n",
       "</div>"
      ],
      "text/plain": [
       "                                    title  \\\n",
       "135                  We Love Tech Podcast   \n",
       "144                          FFGF Podcast   \n",
       "156                               ZION ID   \n",
       "195               From Chicago to Dummast   \n",
       "205    5G Talent Talk with Carrie Charles   \n",
       "...                                   ...   \n",
       "79786             Look On The Bright Side   \n",
       "79788             Look On The Bright Side   \n",
       "79792             Look On The Bright Side   \n",
       "79798                  Just James Podcast   \n",
       "79995             Practical Consciousness   \n",
       "\n",
       "                                                 epTitle  \\\n",
       "135    Should you upgrade to the MacBook Pro 13 ? Als...   \n",
       "144                                      The Limp of God   \n",
       "156                                    Healing: Part One   \n",
       "195    The Dummast Podcast Ep.6: Goldblum's Inner Lot...   \n",
       "205    How Samsung is Staying Ahead of Tomorrow with ...   \n",
       "...                                                  ...   \n",
       "79786  Hamper for Heroes, Keep Pubs Pumping and Can Y...   \n",
       "79788  Hamper for Heroes, Keep Pubs Pumping and Can Y...   \n",
       "79792  Tailor made support, Hypnosis and a Swiss Hack...   \n",
       "79798   Episode 15: Friendship break-ups are hard to do!   \n",
       "79995                Episode 29 - The power of Intention   \n",
       "\n",
       "                    references                 cleanDates  count   refProp  \n",
       "135       We Love Tech podcast        2020-05-18 21:54:11      1  0.000012  \n",
       "144      You know what I mean?  2020-05-28 19:45:23+00:00    363  0.004537  \n",
       "156             I have no idea        2020-05-23 16:06:33    383  0.004787  \n",
       "195                This is why  2020-05-17 02:32:46-05:00     83  0.001037  \n",
       "205          RCR Wireless News        2020-06-05 22:03:00      4  0.000050  \n",
       "...                        ...                        ...    ...       ...  \n",
       "79786  Look on the Bright Side        2020-05-20 23:00:00      4  0.000050  \n",
       "79788  Look on the Bright Side        2020-05-20 23:00:00      4  0.000050  \n",
       "79792  Look on the Bright Side        2020-05-13 23:00:00      4  0.000050  \n",
       "79798       Just James podcast  2020-05-20 15:00:00+01:00      1  0.000012  \n",
       "79995    You know what I mean?        2020-05-28 00:57:49    363  0.004537  \n",
       "\n",
       "[3067 rows x 6 columns]"
      ]
     },
     "execution_count": 240,
     "metadata": {},
     "output_type": "execute_result"
    }
   ],
   "source": [
    "longCands[longCands[\"references\"].apply(lambda x: len(x.split())) >= 3]"
   ]
  },
  {
   "cell_type": "code",
   "execution_count": null,
   "id": "e250c75d-c05b-492a-9a6b-63f7dea2f496",
   "metadata": {},
   "outputs": [],
   "source": [
    "longCands.iloc[120809]"
   ]
  },
  {
   "cell_type": "code",
   "execution_count": null,
   "id": "66081d3f-1ca9-4186-8573-f80255db6212",
   "metadata": {},
   "outputs": [],
   "source": [
    "#probably best to just go with named entities..."
   ]
  }
 ],
 "metadata": {
  "kernelspec": {
   "display_name": "Python 3 (ipykernel)",
   "language": "python",
   "name": "python3"
  },
  "language_info": {
   "codemirror_mode": {
    "name": "ipython",
    "version": 3
   },
   "file_extension": ".py",
   "mimetype": "text/x-python",
   "name": "python",
   "nbconvert_exporter": "python",
   "pygments_lexer": "ipython3",
   "version": "3.11.5"
  }
 },
 "nbformat": 4,
 "nbformat_minor": 5
}
