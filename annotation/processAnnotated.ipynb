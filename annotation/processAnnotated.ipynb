{
 "cells": [
  {
   "cell_type": "code",
   "execution_count": 1,
   "metadata": {},
   "outputs": [],
   "source": [
    "import pandas as pd"
   ]
  },
  {
   "cell_type": "code",
   "execution_count": 25,
   "metadata": {},
   "outputs": [],
   "source": [
    "\n",
    "df = pd.read_json(\"/shared/3/projects/benlitterer/podcastData/annotation/annotated_output/annotated_instances.json\", orient=\"records\", lines=True)"
   ]
  },
  {
   "cell_type": "code",
   "execution_count": 26,
   "metadata": {},
   "outputs": [],
   "source": [
    "df = df.explode([\"span_annotations\"]).reset_index(drop=True)\n",
    "dictList = df[\"span_annotations\"]"
   ]
  },
  {
   "cell_type": "code",
   "execution_count": 27,
   "metadata": {},
   "outputs": [],
   "source": [
    "#get this to long format \n",
    "spanAnnots = pd.DataFrame.from_records(dictList).reset_index(drop=True)"
   ]
  },
  {
   "cell_type": "code",
   "execution_count": 29,
   "metadata": {},
   "outputs": [],
   "source": [
    "df = pd.concat([df, spanAnnots], axis=1)"
   ]
  },
  {
   "cell_type": "code",
   "execution_count": 31,
   "metadata": {},
   "outputs": [
    {
     "data": {
      "text/plain": [
       "annotation\n",
       "host     27\n",
       "guest    26\n",
       "Name: count, dtype: int64"
      ]
     },
     "execution_count": 31,
     "metadata": {},
     "output_type": "execute_result"
    }
   ],
   "source": [
    "df[\"annotation\"].value_counts()"
   ]
  },
  {
   "cell_type": "code",
   "execution_count": 41,
   "metadata": {},
   "outputs": [
    {
     "name": "stdout",
     "output_type": "stream",
     "text": [
      "Number of episodes with host: 19\n",
      "Number of episodes with guest: 13\n",
      "Number of episodes with guest: 24\n"
     ]
    }
   ],
   "source": [
    "print(f'Number of episodes with host: {len(df.loc[df[\"annotation\"] == \"host\", \"id\"].unique())}') \n",
    "print(f'Number of episodes with guest: {len(df.loc[df[\"annotation\"] == \"guest\", \"id\"].unique())}') \n",
    "print(f'Number of episodes with either: {len(df[\"id\"].unique())}') "
   ]
  },
  {
   "cell_type": "code",
   "execution_count": 54,
   "metadata": {},
   "outputs": [
    {
     "name": "stdout",
     "output_type": "stream",
     "text": [
      "Number of episodes with both: 8\n"
     ]
    }
   ],
   "source": [
    "jHost = df.loc[df[\"annotation\"] == \"host\", \"id\"].unique()\n",
    "jGuest = df.loc[df[\"annotation\"] == \"guest\", \"id\"].unique()\n",
    "print(f\"Number of episodes with both: {len(set(jHost).intersection(set(jGuest)))}\")\n"
   ]
  },
  {
   "cell_type": "code",
   "execution_count": 49,
   "metadata": {},
   "outputs": [
    {
     "data": {
      "text/html": [
       "<div>\n",
       "<style scoped>\n",
       "    .dataframe tbody tr th:only-of-type {\n",
       "        vertical-align: middle;\n",
       "    }\n",
       "\n",
       "    .dataframe tbody tr th {\n",
       "        vertical-align: top;\n",
       "    }\n",
       "\n",
       "    .dataframe thead th {\n",
       "        text-align: right;\n",
       "    }\n",
       "</style>\n",
       "<table border=\"1\" class=\"dataframe\">\n",
       "  <thead>\n",
       "    <tr style=\"text-align: right;\">\n",
       "      <th></th>\n",
       "      <th>id</th>\n",
       "      <th>displayed_text</th>\n",
       "      <th>label_annotations</th>\n",
       "      <th>span_annotations</th>\n",
       "      <th>behavioral_data</th>\n",
       "      <th>start</th>\n",
       "      <th>end</th>\n",
       "      <th>span</th>\n",
       "      <th>annotation</th>\n",
       "    </tr>\n",
       "  </thead>\n",
       "  <tbody>\n",
       "    <tr>\n",
       "      <th>37</th>\n",
       "      <td>https://r.zencastr.com/r/www.buzzsprout.com/97...</td>\n",
       "      <td>&lt;strong&gt;Description:&lt;/strong&gt;&lt;br&gt;THIS EPISODE....</td>\n",
       "      <td>{}</td>\n",
       "      <td>{'start': 71, 'end': 86, 'span': 'Sidney Cachu...</td>\n",
       "      <td>{'time_string': 'Time spent: 0d 0h 0m 44s '}</td>\n",
       "      <td>71</td>\n",
       "      <td>86</td>\n",
       "      <td>Sidney Cachuela</td>\n",
       "      <td>guest</td>\n",
       "    </tr>\n",
       "  </tbody>\n",
       "</table>\n",
       "</div>"
      ],
      "text/plain": [
       "                                                   id  \\\n",
       "37  https://r.zencastr.com/r/www.buzzsprout.com/97...   \n",
       "\n",
       "                                       displayed_text label_annotations  \\\n",
       "37  <strong>Description:</strong><br>THIS EPISODE....                {}   \n",
       "\n",
       "                                     span_annotations  \\\n",
       "37  {'start': 71, 'end': 86, 'span': 'Sidney Cachu...   \n",
       "\n",
       "                                 behavioral_data  start  end             span  \\\n",
       "37  {'time_string': 'Time spent: 0d 0h 0m 44s '}     71   86  Sidney Cachuela   \n",
       "\n",
       "   annotation  \n",
       "37      guest  "
      ]
     },
     "execution_count": 49,
     "metadata": {},
     "output_type": "execute_result"
    }
   ],
   "source": []
  },
  {
   "cell_type": "code",
   "execution_count": null,
   "metadata": {},
   "outputs": [],
   "source": []
  }
 ],
 "metadata": {
  "kernelspec": {
   "display_name": "Python 3 (ipykernel)",
   "language": "python",
   "name": "python3"
  },
  "language_info": {
   "codemirror_mode": {
    "name": "ipython",
    "version": 3
   },
   "file_extension": ".py",
   "mimetype": "text/x-python",
   "name": "python",
   "nbconvert_exporter": "python",
   "pygments_lexer": "ipython3",
   "version": "3.11.5"
  }
 },
 "nbformat": 4,
 "nbformat_minor": 2
}
