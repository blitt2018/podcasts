{
 "cells": [
  {
   "cell_type": "code",
   "execution_count": 48,
   "metadata": {},
   "outputs": [],
   "source": [
    "import pandas as pd\n",
    "import seaborn as sns\n",
    "import matplotlib.pyplot as plt\n",
    "import krippendorff\n",
    "import os\n",
    "import seaborn as sns\n",
    "import numpy as np\n",
    "from collections import Counter"
   ]
  },
  {
   "cell_type": "code",
   "execution_count": 49,
   "metadata": {},
   "outputs": [],
   "source": [
    "df = pd.read_json(\"/shared/3/projects/benlitterer/podcastData/annotation/label1000/annotation_output/annotated300.jsonl\", orient=\"records\", lines=True)"
   ]
  },
  {
   "cell_type": "code",
   "execution_count": 50,
   "metadata": {},
   "outputs": [],
   "source": [
    "stem = \"/shared/3/projects/benlitterer/podcastData/annotation/label1000/host_guest_annotation/annotation_output/\"\n",
    "toIgnore = []\n",
    "folderNames = os.listdir(stem)\n",
    "folderNames = [item for item in folderNames if \".\" not in item and item != \"archived_users\"]"
   ]
  },
  {
   "cell_type": "code",
   "execution_count": 51,
   "metadata": {},
   "outputs": [
    {
     "name": "stderr",
     "output_type": "stream",
     "text": [
      "/tmp/ipykernel_1097109/3674613519.py:7: FutureWarning: Passing literal json to 'read_json' is deprecated and will be removed in a future version. To read from a literal string, wrap it in a 'StringIO' object.\n",
      "  currDf = pd.read_json(fPath, orient=\"records\", lines=True)\n"
     ]
    }
   ],
   "source": [
    "\n",
    "#we actually need to concatenate a bunch of files to get who annotated what  \n",
    "dfList = []\n",
    "\n",
    "for fName in folderNames: \n",
    "    fPath = stem + fName + \"/annotated_instances.jsonl\" \n",
    "    try: \n",
    "        currDf = pd.read_json(fPath, orient=\"records\", lines=True)\n",
    "        currDf[\"annotatorId\"] = fName\n",
    "        dfList.append(currDf)\n",
    "    except: \n",
    "        pass\n",
    "df = pd.concat(dfList)\n",
    "\n",
    "dictList = list(df[\"label_annotations\"])\n",
    "labels = [int(list(item[\"sentiment\"].values())[0]) for item in dictList]\n",
    "df[\"annotation\"] = labels"
   ]
  },
  {
   "cell_type": "code",
   "execution_count": 179,
   "metadata": {},
   "outputs": [],
   "source": [
    "#df = pd.read_json(\"/home/blitt/projects/podcasts/annotation/hostGuestAnnotation/annotation_output/annotated_instances.jsonl\", orient=\"records\", lines=True)"
   ]
  },
  {
   "cell_type": "code",
   "execution_count": 52,
   "metadata": {},
   "outputs": [
    {
     "data": {
      "text/html": [
       "<div>\n",
       "<style scoped>\n",
       "    .dataframe tbody tr th:only-of-type {\n",
       "        vertical-align: middle;\n",
       "    }\n",
       "\n",
       "    .dataframe tbody tr th {\n",
       "        vertical-align: top;\n",
       "    }\n",
       "\n",
       "    .dataframe thead th {\n",
       "        text-align: right;\n",
       "    }\n",
       "</style>\n",
       "<table border=\"1\" class=\"dataframe\">\n",
       "  <thead>\n",
       "    <tr style=\"text-align: right;\">\n",
       "      <th></th>\n",
       "      <th>id</th>\n",
       "      <th>displayed_text</th>\n",
       "      <th>label_annotations</th>\n",
       "      <th>span_annotations</th>\n",
       "      <th>behavioral_data</th>\n",
       "      <th>annotatorId</th>\n",
       "      <th>annotation</th>\n",
       "    </tr>\n",
       "  </thead>\n",
       "  <tbody>\n",
       "    <tr>\n",
       "      <th>0</th>\n",
       "      <td>https://anchor.fm/s/1e830af4/podcast/play/1294...</td>\n",
       "      <td>&lt;span style='background-color:#00FF00'&gt;Target ...</td>\n",
       "      <td>{'sentiment': {'host': '1'}}</td>\n",
       "      <td>{}</td>\n",
       "      <td>{'time_string': 'Time spent: 0d 0h 0m 14s '}</td>\n",
       "      <td>663ea7b9da97cba4d63a70ef</td>\n",
       "      <td>1</td>\n",
       "    </tr>\n",
       "    <tr>\n",
       "      <th>1</th>\n",
       "      <td>https://traffic.libsyn.com/secure/onthebluelin...</td>\n",
       "      <td>&lt;span style='background-color:#00FF00'&gt;Target ...</td>\n",
       "      <td>{'sentiment': {'host': '1'}}</td>\n",
       "      <td>{}</td>\n",
       "      <td>{'time_string': 'Time spent: 0d 0h 0m 6s '}</td>\n",
       "      <td>663ea7b9da97cba4d63a70ef</td>\n",
       "      <td>1</td>\n",
       "    </tr>\n",
       "    <tr>\n",
       "      <th>2</th>\n",
       "      <td>http://dts.podtrac.com/redirect.mp3/static1.sq...</td>\n",
       "      <td>&lt;span style='background-color:#00FF00'&gt;Target ...</td>\n",
       "      <td>{'sentiment': {'guest': '2'}}</td>\n",
       "      <td>{}</td>\n",
       "      <td>{'time_string': 'Time spent: 0d 0h 0m 34s '}</td>\n",
       "      <td>663ea7b9da97cba4d63a70ef</td>\n",
       "      <td>2</td>\n",
       "    </tr>\n",
       "    <tr>\n",
       "      <th>3</th>\n",
       "      <td>https://archive.org/download/vuren-special-1-f...</td>\n",
       "      <td>&lt;span style='background-color:#00FF00'&gt;Target ...</td>\n",
       "      <td>{'sentiment': {'neither': '3'}}</td>\n",
       "      <td>{}</td>\n",
       "      <td>{'time_string': 'Time spent: 0d 0h 1m 13s '}</td>\n",
       "      <td>663ea7b9da97cba4d63a70ef</td>\n",
       "      <td>3</td>\n",
       "    </tr>\n",
       "    <tr>\n",
       "      <th>4</th>\n",
       "      <td>https://traffic.libsyn.com/secure/tappingqanda...</td>\n",
       "      <td>&lt;span style='background-color:#00FF00'&gt;Target ...</td>\n",
       "      <td>{'sentiment': {'host': '1'}}</td>\n",
       "      <td>{}</td>\n",
       "      <td>{'time_string': 'Time spent: 0d 0h 2m 49s '}</td>\n",
       "      <td>663ea7b9da97cba4d63a70ef</td>\n",
       "      <td>1</td>\n",
       "    </tr>\n",
       "  </tbody>\n",
       "</table>\n",
       "</div>"
      ],
      "text/plain": [
       "                                                  id  \\\n",
       "0  https://anchor.fm/s/1e830af4/podcast/play/1294...   \n",
       "1  https://traffic.libsyn.com/secure/onthebluelin...   \n",
       "2  http://dts.podtrac.com/redirect.mp3/static1.sq...   \n",
       "3  https://archive.org/download/vuren-special-1-f...   \n",
       "4  https://traffic.libsyn.com/secure/tappingqanda...   \n",
       "\n",
       "                                      displayed_text  \\\n",
       "0  <span style='background-color:#00FF00'>Target ...   \n",
       "1  <span style='background-color:#00FF00'>Target ...   \n",
       "2  <span style='background-color:#00FF00'>Target ...   \n",
       "3  <span style='background-color:#00FF00'>Target ...   \n",
       "4  <span style='background-color:#00FF00'>Target ...   \n",
       "\n",
       "                 label_annotations span_annotations  \\\n",
       "0     {'sentiment': {'host': '1'}}               {}   \n",
       "1     {'sentiment': {'host': '1'}}               {}   \n",
       "2    {'sentiment': {'guest': '2'}}               {}   \n",
       "3  {'sentiment': {'neither': '3'}}               {}   \n",
       "4     {'sentiment': {'host': '1'}}               {}   \n",
       "\n",
       "                                behavioral_data               annotatorId  \\\n",
       "0  {'time_string': 'Time spent: 0d 0h 0m 14s '}  663ea7b9da97cba4d63a70ef   \n",
       "1   {'time_string': 'Time spent: 0d 0h 0m 6s '}  663ea7b9da97cba4d63a70ef   \n",
       "2  {'time_string': 'Time spent: 0d 0h 0m 34s '}  663ea7b9da97cba4d63a70ef   \n",
       "3  {'time_string': 'Time spent: 0d 0h 1m 13s '}  663ea7b9da97cba4d63a70ef   \n",
       "4  {'time_string': 'Time spent: 0d 0h 2m 49s '}  663ea7b9da97cba4d63a70ef   \n",
       "\n",
       "   annotation  \n",
       "0           1  \n",
       "1           1  \n",
       "2           2  \n",
       "3           3  \n",
       "4           1  "
      ]
     },
     "execution_count": 52,
     "metadata": {},
     "output_type": "execute_result"
    }
   ],
   "source": [
    "df.head() "
   ]
  },
  {
   "cell_type": "code",
   "execution_count": 53,
   "metadata": {},
   "outputs": [],
   "source": [
    "#df = df.explode([\"label_annotations\"]).reset_index(drop=True)\n",
    "dictList = list(df[\"label_annotations\"])\n",
    "labels = [int(list(item[\"sentiment\"].values())[0]) for item in dictList]\n",
    "df[\"annotation\"] = labels"
   ]
  },
  {
   "cell_type": "code",
   "execution_count": 54,
   "metadata": {},
   "outputs": [
    {
     "name": "stderr",
     "output_type": "stream",
     "text": [
      "/tmp/ipykernel_1097109/1077187391.py:4: UserWarning: FixedFormatter should only be used together with FixedLocator\n",
      "  ax.set_yticklabels([\"host\", \"guest\", \"neither\"])\n"
     ]
    },
    {
     "data": {
      "text/plain": [
       "Text(0.5, 0.98, 'Marginal Distribution of Annotations')"
      ]
     },
     "execution_count": 54,
     "metadata": {},
     "output_type": "execute_result"
    },
    {
     "data": {
      "image/png": "[encoded data removed]",
      "text/plain": [
       "<Figure size 500x500 with 1 Axes>"
      ]
     },
     "metadata": {},
     "output_type": "display_data"
    }
   ],
   "source": [
    "marginalDf = pd.DataFrame(df[\"annotation\"].value_counts()).reset_index()\n",
    "fig, ax = plt.subplots(figsize=(5, 5))\n",
    "sns.barplot(data=marginalDf, x=\"count\", y=\"annotation\", orient=\"h\", ax=ax)\n",
    "ax.set_yticklabels([\"host\", \"guest\", \"neither\"])\n",
    "fig.suptitle(\"Marginal Distribution of Annotations\")"
   ]
  },
  {
   "cell_type": "code",
   "execution_count": 55,
   "metadata": {},
   "outputs": [
    {
     "data": {
      "text/html": [
       "<div>\n",
       "<style scoped>\n",
       "    .dataframe tbody tr th:only-of-type {\n",
       "        vertical-align: middle;\n",
       "    }\n",
       "\n",
       "    .dataframe tbody tr th {\n",
       "        vertical-align: top;\n",
       "    }\n",
       "\n",
       "    .dataframe thead th {\n",
       "        text-align: right;\n",
       "    }\n",
       "</style>\n",
       "<table border=\"1\" class=\"dataframe\">\n",
       "  <thead>\n",
       "    <tr style=\"text-align: right;\">\n",
       "      <th></th>\n",
       "      <th>annotation</th>\n",
       "      <th>len</th>\n",
       "    </tr>\n",
       "    <tr>\n",
       "      <th>id</th>\n",
       "      <th></th>\n",
       "      <th></th>\n",
       "    </tr>\n",
       "  </thead>\n",
       "  <tbody>\n",
       "    <tr>\n",
       "      <th>https://traffic.omny.fm/d/clips/43d4db60-81e7-4097-aef1-a8b300fb00dd/f23698d1-f145-4dae-9e31-a96500e507cd/9b8f7c43-d721-42af-85b0-abbf00eb5ca3/audio.mp3?utm_source=Podcast&amp;in_playlist=c83c2bea-1597-442c-9fcf-a96500e507cd&amp;t=1589811505</th>\n",
       "      <td>[3, 2]</td>\n",
       "      <td>2</td>\n",
       "    </tr>\n",
       "    <tr>\n",
       "      <th>https://archive.org/download/vuren-special-1-final/VurenSpecial1Final.mp3</th>\n",
       "      <td>[3, 3]</td>\n",
       "      <td>2</td>\n",
       "    </tr>\n",
       "    <tr>\n",
       "      <th>https://www.buzzsprout.com/996286/3945002-16-healthcare-and-digitalization-with-bernhard-galleitner.mp3</th>\n",
       "      <td>[1, 1, 1]</td>\n",
       "      <td>3</td>\n",
       "    </tr>\n",
       "    <tr>\n",
       "      <th>https://www.buzzsprout.com/997147/3870086-kate-carlo-perugini-dickens-s-artistic-daughter-katey-and-her-true-love-with-lucinda-hawksley.mp3</th>\n",
       "      <td>[3, 3, 3]</td>\n",
       "      <td>3</td>\n",
       "    </tr>\n",
       "    <tr>\n",
       "      <th>https://www.buzzsprout.com/998860/3752489-corneal-ulcers-in-dogs-cats-and-horses-e9.mp3</th>\n",
       "      <td>[1, 1, 2]</td>\n",
       "      <td>3</td>\n",
       "    </tr>\n",
       "  </tbody>\n",
       "</table>\n",
       "</div>"
      ],
      "text/plain": [
       "                                                   annotation  len\n",
       "id                                                                \n",
       "https://traffic.omny.fm/d/clips/43d4db60-81e7-4...     [3, 2]    2\n",
       "https://archive.org/download/vuren-special-1-fi...     [3, 3]    2\n",
       "https://www.buzzsprout.com/996286/3945002-16-he...  [1, 1, 1]    3\n",
       "https://www.buzzsprout.com/997147/3870086-kate-...  [3, 3, 3]    3\n",
       "https://www.buzzsprout.com/998860/3752489-corne...  [1, 1, 2]    3"
      ]
     },
     "execution_count": 55,
     "metadata": {},
     "output_type": "execute_result"
    }
   ],
   "source": [
    "#just check and see where we didn't get full assignment \n",
    "itemDf = df[[\"id\", \"annotation\"]].groupby(\"id\").agg(list) \n",
    "itemDf[\"len\"] = itemDf[\"annotation\"].apply(len)\n",
    "itemDf = itemDf.sort_values(\"len\", ascending=True)\n",
    "itemDf.head() "
   ]
  },
  {
   "cell_type": "code",
   "execution_count": 99,
   "metadata": {},
   "outputs": [],
   "source": [
    "#extract \"check\" rows\n",
    "idList = [\"https://anchor.fm/s/7f12654/podcast/play/14320049/https%3A%2F%2Fd3ctxlq1ktw2nl.cloudfront.net%2Fstaging%2F2020-4-26%2F76850511-44100-2-e778a17d843dd.m4a\",\n",
    "\"https://anchor.fm/s/11028184/podcast/play/14212379/https%3A%2F%2Fd3ctxlq1ktw2nl.cloudfront.net%2Fproduction%2F2020-4-24%2F76170728-44100-2-109d447b04488.mp3\",\n",
    "\"https://anchor.fm/s/24044d44/podcast/play/14503148/https%3A%2F%2Fd3ctxlq1ktw2nl.cloudfront.net%2Fstaging%2F2020-4-30%2F78020478-44100-1-1e08e64348a62916.mp3\"]\n",
    "\n",
    "def isCheck(inStr): \n",
    "    if \"CHECK\" in inStr:\n",
    "        return True\n",
    "    return False \n",
    "\n",
    "checkDf = df[df[\"id\"].apply(isCheck)]\n"
   ]
  },
  {
   "cell_type": "code",
   "execution_count": 100,
   "metadata": {},
   "outputs": [
    {
     "data": {
      "text/html": [
       "<div>\n",
       "<style scoped>\n",
       "    .dataframe tbody tr th:only-of-type {\n",
       "        vertical-align: middle;\n",
       "    }\n",
       "\n",
       "    .dataframe tbody tr th {\n",
       "        vertical-align: top;\n",
       "    }\n",
       "\n",
       "    .dataframe thead th {\n",
       "        text-align: right;\n",
       "    }\n",
       "</style>\n",
       "<table border=\"1\" class=\"dataframe\">\n",
       "  <thead>\n",
       "    <tr style=\"text-align: right;\">\n",
       "      <th></th>\n",
       "      <th>id</th>\n",
       "      <th>displayed_text</th>\n",
       "      <th>label_annotations</th>\n",
       "      <th>span_annotations</th>\n",
       "      <th>behavioral_data</th>\n",
       "      <th>annotatorId</th>\n",
       "      <th>annotation</th>\n",
       "    </tr>\n",
       "  </thead>\n",
       "  <tbody>\n",
       "    <tr>\n",
       "      <th>0</th>\n",
       "      <td>https://anchor.fm/s/1e830af4/podcast/play/1294...</td>\n",
       "      <td>&lt;span style='background-color:#00FF00'&gt;Target ...</td>\n",
       "      <td>{'sentiment': {'host': '1'}}</td>\n",
       "      <td>{}</td>\n",
       "      <td>{'time_string': 'Time spent: 0d 0h 0m 14s '}</td>\n",
       "      <td>663ea7b9da97cba4d63a70ef</td>\n",
       "      <td>1</td>\n",
       "    </tr>\n",
       "    <tr>\n",
       "      <th>1</th>\n",
       "      <td>https://traffic.libsyn.com/secure/onthebluelin...</td>\n",
       "      <td>&lt;span style='background-color:#00FF00'&gt;Target ...</td>\n",
       "      <td>{'sentiment': {'host': '1'}}</td>\n",
       "      <td>{}</td>\n",
       "      <td>{'time_string': 'Time spent: 0d 0h 0m 6s '}</td>\n",
       "      <td>663ea7b9da97cba4d63a70ef</td>\n",
       "      <td>1</td>\n",
       "    </tr>\n",
       "    <tr>\n",
       "      <th>2</th>\n",
       "      <td>http://dts.podtrac.com/redirect.mp3/static1.sq...</td>\n",
       "      <td>&lt;span style='background-color:#00FF00'&gt;Target ...</td>\n",
       "      <td>{'sentiment': {'guest': '2'}}</td>\n",
       "      <td>{}</td>\n",
       "      <td>{'time_string': 'Time spent: 0d 0h 0m 34s '}</td>\n",
       "      <td>663ea7b9da97cba4d63a70ef</td>\n",
       "      <td>2</td>\n",
       "    </tr>\n",
       "    <tr>\n",
       "      <th>3</th>\n",
       "      <td>https://archive.org/download/vuren-special-1-f...</td>\n",
       "      <td>&lt;span style='background-color:#00FF00'&gt;Target ...</td>\n",
       "      <td>{'sentiment': {'neither': '3'}}</td>\n",
       "      <td>{}</td>\n",
       "      <td>{'time_string': 'Time spent: 0d 0h 1m 13s '}</td>\n",
       "      <td>663ea7b9da97cba4d63a70ef</td>\n",
       "      <td>3</td>\n",
       "    </tr>\n",
       "    <tr>\n",
       "      <th>4</th>\n",
       "      <td>https://traffic.libsyn.com/secure/tappingqanda...</td>\n",
       "      <td>&lt;span style='background-color:#00FF00'&gt;Target ...</td>\n",
       "      <td>{'sentiment': {'host': '1'}}</td>\n",
       "      <td>{}</td>\n",
       "      <td>{'time_string': 'Time spent: 0d 0h 2m 49s '}</td>\n",
       "      <td>663ea7b9da97cba4d63a70ef</td>\n",
       "      <td>1</td>\n",
       "    </tr>\n",
       "  </tbody>\n",
       "</table>\n",
       "</div>"
      ],
      "text/plain": [
       "                                                  id  \\\n",
       "0  https://anchor.fm/s/1e830af4/podcast/play/1294...   \n",
       "1  https://traffic.libsyn.com/secure/onthebluelin...   \n",
       "2  http://dts.podtrac.com/redirect.mp3/static1.sq...   \n",
       "3  https://archive.org/download/vuren-special-1-f...   \n",
       "4  https://traffic.libsyn.com/secure/tappingqanda...   \n",
       "\n",
       "                                      displayed_text  \\\n",
       "0  <span style='background-color:#00FF00'>Target ...   \n",
       "1  <span style='background-color:#00FF00'>Target ...   \n",
       "2  <span style='background-color:#00FF00'>Target ...   \n",
       "3  <span style='background-color:#00FF00'>Target ...   \n",
       "4  <span style='background-color:#00FF00'>Target ...   \n",
       "\n",
       "                 label_annotations span_annotations  \\\n",
       "0     {'sentiment': {'host': '1'}}               {}   \n",
       "1     {'sentiment': {'host': '1'}}               {}   \n",
       "2    {'sentiment': {'guest': '2'}}               {}   \n",
       "3  {'sentiment': {'neither': '3'}}               {}   \n",
       "4     {'sentiment': {'host': '1'}}               {}   \n",
       "\n",
       "                                behavioral_data               annotatorId  \\\n",
       "0  {'time_string': 'Time spent: 0d 0h 0m 14s '}  663ea7b9da97cba4d63a70ef   \n",
       "1   {'time_string': 'Time spent: 0d 0h 0m 6s '}  663ea7b9da97cba4d63a70ef   \n",
       "2  {'time_string': 'Time spent: 0d 0h 0m 34s '}  663ea7b9da97cba4d63a70ef   \n",
       "3  {'time_string': 'Time spent: 0d 0h 1m 13s '}  663ea7b9da97cba4d63a70ef   \n",
       "4  {'time_string': 'Time spent: 0d 0h 2m 49s '}  663ea7b9da97cba4d63a70ef   \n",
       "\n",
       "   annotation  \n",
       "0           1  \n",
       "1           1  \n",
       "2           2  \n",
       "3           3  \n",
       "4           1  "
      ]
     },
     "execution_count": 100,
     "metadata": {},
     "output_type": "execute_result"
    }
   ],
   "source": [
    "#do we first need to find missing rows and fill them in? \n",
    "nonCheckDf = df[df[\"id\"].apply(isCheck) == False]\n",
    "nonCheckDf.head() "
   ]
  },
  {
   "cell_type": "code",
   "execution_count": 101,
   "metadata": {},
   "outputs": [],
   "source": [
    "nonCheckDf = df[df[\"id\"].apply(isCheck) == False]\n",
    "nonCheckDf.shape\n",
    "nonCheckDf = nonCheckDf[[\"annotatorId\", \"annotation\", \"id\"]].sort_values(\"annotatorId\").groupby(\"id\").agg(list)\n",
    "nonCheckDf[\"annotStr\"] = nonCheckDf[\"annotatorId\"].apply(lambda x: \",\".join(x))"
   ]
  },
  {
   "cell_type": "code",
   "execution_count": null,
   "metadata": {},
   "outputs": [],
   "source": [
    "#get unique, full teams of annotators \n",
    "TEAM_SIZE=3\n",
    "fullAnnotTeams = [item for item in set(nonCheckDf[\"annotStr\"]) if len(item.split(\",\")) == TEAM_SIZE]\n",
    "fullAnnotTeams = [item.split(\",\") for item in fullAnnotTeams]\n",
    "\n",
    "#this takes any annotator Id \n",
    "#and grabs the team that they were a part of \n",
    "def getFullAnnotList(inStr): \n",
    "    for annotTeam in fullAnnotTeams: \n",
    "        if inStr in annotTeam: \n",
    "            return annotTeam "
   ]
  },
  {
   "cell_type": "code",
   "execution_count": 108,
   "metadata": {},
   "outputs": [
    {
     "name": "stdout",
     "output_type": "stream",
     "text": [
      "annotatorId    [663ea7b9da97cba4d63a70ef, 663eba71ccdbc7e24a7...\n",
      "annotation                                                [3, 3]\n",
      "annotStr       663ea7b9da97cba4d63a70ef,663eba71ccdbc7e24a72ad73\n",
      "Name: https://archive.org/download/vuren-special-1-final/VurenSpecial1Final.mp3, dtype: object\n",
      "annotatorId    [66316beef88431620ea43fee, 663ea133a2b25b50d10...\n",
      "annotation                                                [3, 2]\n",
      "annotStr       66316beef88431620ea43fee,663ea133a2b25b50d1078fc2\n",
      "Name: https://traffic.omny.fm/d/clips/43d4db60-81e7-4097-aef1-a8b300fb00dd/f23698d1-f145-4dae-9e31-a96500e507cd/9b8f7c43-d721-42af-85b0-abbf00eb5ca3/audio.mp3?utm_source=Podcast&in_playlist=c83c2bea-1597-442c-9fcf-a96500e507cd&t=1589811505, dtype: object\n",
      "['65a84bcfd24dfc3650843923', '663ea7b9da97cba4d63a70ef', '663eba71ccdbc7e24a72ad73']\n",
      "['5cd0a1a291c2aa00010c7c92', '66316beef88431620ea43fee', '663ea133a2b25b50d1078fc2']\n"
     ]
    }
   ],
   "source": [
    "#look at incomplete rows \n",
    "incompleteRows = nonCheckDf[nonCheckDf[\"annotation\"].apply(len) < 3]\n",
    "incompleteIds = list(incompleteRows.index)\n",
    "\n",
    "print(incompleteRows.iloc[0])\n",
    "print(incompleteRows.iloc[1])\n",
    "#get full annotation teams we should have\n",
    "print(getFullAnnotList(incompleteRows.iloc[0][\"annotatorId\"][0]))\n",
    "print(getFullAnnotList(incompleteRows.iloc[1][\"annotatorId\"][0]))"
   ]
  },
  {
   "cell_type": "code",
   "execution_count": 90,
   "metadata": {},
   "outputs": [
    {
     "name": "stdout",
     "output_type": "stream",
     "text": [
      "['65a84bcfd24dfc3650843923', '663ea7b9da97cba4d63a70ef', '663eba71ccdbc7e24a72ad73']\n",
      "['5cd0a1a291c2aa00010c7c92', '66316beef88431620ea43fee', '663ea133a2b25b50d1078fc2']\n"
     ]
    }
   ],
   "source": [
    "\n",
    "\n",
    "def fillMissingAnnot(inRow): \n",
    "    annotStr = inRow[\"annotStr\"]\n",
    "    if len(annotStr.split(\",\")) == TEAM_SIZE: \n",
    "        return inRow\n",
    "    else: \n",
    "        #get the full team of annotators we should have, and fill in \n",
    "        #our actual annotations so we have a full set in the right order \n",
    "        currAnnots = inRow[\"annotatorId\"]\n",
    "        currAnnotations = inRow[\"annotation\"]\n",
    "        fAnnot = annotStr.split(\",\")[0]\n",
    "        fTeam = getFullAnnotList(fAnnot)\n",
    "        outRow = [[],[],\"\"]\n",
    "        annotIter = 0 \n",
    "        print(fTeam)\n",
    "        for i, annotator in enumerate(fTeam): \n",
    "\n",
    "            outRow[0].append(annotator)\n",
    "            if i > 0: \n",
    "                outRow[2] += f\",{annotator}\"\n",
    "            else: \n",
    "                outRow[2] += annotator\n",
    "            \n",
    "            #if we arrive at a missing annotation \n",
    "            if annotator not in currAnnots: \n",
    "                outRow[1].append(np.nan)\n",
    "            else: \n",
    "                outRow[1].append(currAnnotations[annotIter])\n",
    "                annotIter += 1\n",
    "        \n",
    "        return outRow\n",
    "\n",
    "#this is the filled-in version of nonCheckDf\n",
    "nonCheckDfImp = nonCheckDf.apply(fillMissingAnnot, axis=1)\n",
    "\n"
   ]
  },
  {
   "cell_type": "code",
   "execution_count": 91,
   "metadata": {},
   "outputs": [
    {
     "data": {
      "text/html": [
       "<div>\n",
       "<style scoped>\n",
       "    .dataframe tbody tr th:only-of-type {\n",
       "        vertical-align: middle;\n",
       "    }\n",
       "\n",
       "    .dataframe tbody tr th {\n",
       "        vertical-align: top;\n",
       "    }\n",
       "\n",
       "    .dataframe thead th {\n",
       "        text-align: right;\n",
       "    }\n",
       "</style>\n",
       "<table border=\"1\" class=\"dataframe\">\n",
       "  <thead>\n",
       "    <tr style=\"text-align: right;\">\n",
       "      <th></th>\n",
       "      <th>annotatorId</th>\n",
       "      <th>annotation</th>\n",
       "      <th>annotStr</th>\n",
       "    </tr>\n",
       "    <tr>\n",
       "      <th>id</th>\n",
       "      <th></th>\n",
       "      <th></th>\n",
       "      <th></th>\n",
       "    </tr>\n",
       "  </thead>\n",
       "  <tbody>\n",
       "    <tr>\n",
       "      <th>http://awscdn.podcasts.com/Episode-5-Interview-with-Andrea-Bailey-f9f8.mp3</th>\n",
       "      <td>[57b8e70f35624400013d690c, 5fee5c55878eaa15ebc...</td>\n",
       "      <td>[1, 1, 1]</td>\n",
       "      <td>57b8e70f35624400013d690c,5fee5c55878eaa15ebc56...</td>\n",
       "    </tr>\n",
       "    <tr>\n",
       "      <th>http://awscdn.podcasts.com/What-If-Aang-Hadnt-Disappeared-Right-Before-Sozins-Comet-c0b2.mp3</th>\n",
       "      <td>[6461e54ee3ce9d9554deda21, 65c17f809c893363dae...</td>\n",
       "      <td>[2, 1, 1]</td>\n",
       "      <td>6461e54ee3ce9d9554deda21,65c17f809c893363dae6b...</td>\n",
       "    </tr>\n",
       "    <tr>\n",
       "      <th>http://bnspodcast.blob.core.windows.net/podcasts/HB_2020_06_02.mp3</th>\n",
       "      <td>[5efb5360f3f69c084c1ca850, 6151b3079d837c7cd5c...</td>\n",
       "      <td>[3, 3, 3]</td>\n",
       "      <td>5efb5360f3f69c084c1ca850,6151b3079d837c7cd5c80...</td>\n",
       "    </tr>\n",
       "    <tr>\n",
       "      <th>http://cast.rocks/hosting/12797/The-Real-Story-on-Gout.mp3</th>\n",
       "      <td>[5b6364e153350a0001c0402a, 5d9d5debf3462400144...</td>\n",
       "      <td>[1, 1, 1]</td>\n",
       "      <td>5b6364e153350a0001c0402a,5d9d5debf346240014428...</td>\n",
       "    </tr>\n",
       "    <tr>\n",
       "      <th>http://dts.podtrac.com/redirect.mp3/feeds.soundcloud.com/stream/820232152-humansofhealthcare-021-joseph-thompson-failure-and-resilience.mp3</th>\n",
       "      <td>[65dd1989214a774c36a0854a, 663b65caecf1e42556b...</td>\n",
       "      <td>[1, 1, 1]</td>\n",
       "      <td>65dd1989214a774c36a0854a,663b65caecf1e42556ba2...</td>\n",
       "    </tr>\n",
       "  </tbody>\n",
       "</table>\n",
       "</div>"
      ],
      "text/plain": [
       "                                                                                          annotatorId  \\\n",
       "id                                                                                                      \n",
       "http://awscdn.podcasts.com/Episode-5-Interview-...  [57b8e70f35624400013d690c, 5fee5c55878eaa15ebc...   \n",
       "http://awscdn.podcasts.com/What-If-Aang-Hadnt-D...  [6461e54ee3ce9d9554deda21, 65c17f809c893363dae...   \n",
       "http://bnspodcast.blob.core.windows.net/podcast...  [5efb5360f3f69c084c1ca850, 6151b3079d837c7cd5c...   \n",
       "http://cast.rocks/hosting/12797/The-Real-Story-...  [5b6364e153350a0001c0402a, 5d9d5debf3462400144...   \n",
       "http://dts.podtrac.com/redirect.mp3/feeds.sound...  [65dd1989214a774c36a0854a, 663b65caecf1e42556b...   \n",
       "\n",
       "                                                   annotation  \\\n",
       "id                                                              \n",
       "http://awscdn.podcasts.com/Episode-5-Interview-...  [1, 1, 1]   \n",
       "http://awscdn.podcasts.com/What-If-Aang-Hadnt-D...  [2, 1, 1]   \n",
       "http://bnspodcast.blob.core.windows.net/podcast...  [3, 3, 3]   \n",
       "http://cast.rocks/hosting/12797/The-Real-Story-...  [1, 1, 1]   \n",
       "http://dts.podtrac.com/redirect.mp3/feeds.sound...  [1, 1, 1]   \n",
       "\n",
       "                                                                                             annotStr  \n",
       "id                                                                                                     \n",
       "http://awscdn.podcasts.com/Episode-5-Interview-...  57b8e70f35624400013d690c,5fee5c55878eaa15ebc56...  \n",
       "http://awscdn.podcasts.com/What-If-Aang-Hadnt-D...  6461e54ee3ce9d9554deda21,65c17f809c893363dae6b...  \n",
       "http://bnspodcast.blob.core.windows.net/podcast...  5efb5360f3f69c084c1ca850,6151b3079d837c7cd5c80...  \n",
       "http://cast.rocks/hosting/12797/The-Real-Story-...  5b6364e153350a0001c0402a,5d9d5debf346240014428...  \n",
       "http://dts.podtrac.com/redirect.mp3/feeds.sound...  65dd1989214a774c36a0854a,663b65caecf1e42556ba2...  "
      ]
     },
     "execution_count": 91,
     "metadata": {},
     "output_type": "execute_result"
    }
   ],
   "source": [
    "nonCheckDf"
   ]
  },
  {
   "cell_type": "code",
   "execution_count": 112,
   "metadata": {},
   "outputs": [],
   "source": [
    "#visual inspection shows that the na values were imputed properly\n",
    "#nonCheckDfImp[\"annotation\"].to_list()"
   ]
  },
  {
   "cell_type": "code",
   "execution_count": null,
   "metadata": {},
   "outputs": [],
   "source": [
    "\n",
    "def getNonModal(inRow): \n",
    "    counts = Counter(inRow[\"annotation\"])\n",
    "    modalVal, modeCount = counts.most_common(1)[0]\n",
    "\n",
    "    return [modalVal, modeCount]\n",
    "\n",
    "def getNonModalAnnotator(inRow): \n",
    "    annots = inRow[\"annotation\"]\n",
    "    annotators = inRow[\"annotatorId\"]\n",
    "    mode = inRow[\"mode\"]\n",
    "\n",
    "    for i, annot in enumerate(annots): \n",
    "        if annot != mode: \n",
    "            return annotators[i]\n",
    "\n",
    "\n",
    "def getNonModalAnnotation(inRow): \n",
    "    counts = Counter(inRow[\"annotation\"])\n",
    "    nonMode, nonModeCount = counts.most_common(2)[1]\n",
    "\n",
    "    return nonMode"
   ]
  },
  {
   "cell_type": "code",
   "execution_count": 152,
   "metadata": {},
   "outputs": [
    {
     "name": "stderr",
     "output_type": "stream",
     "text": [
      "/tmp/ipykernel_1097109/194754051.py:3: SettingWithCopyWarning: \n",
      "A value is trying to be set on a copy of a slice from a DataFrame.\n",
      "Try using .loc[row_indexer,col_indexer] = value instead\n",
      "\n",
      "See the caveats in the documentation: https://pandas.pydata.org/pandas-docs/stable/user_guide/indexing.html#returning-a-view-versus-a-copy\n",
      "  twoAgree[\"nonModalAnnotator\"] = twoAgree.apply(getNonModalAnnotator, axis=1)\n",
      "/tmp/ipykernel_1097109/194754051.py:4: SettingWithCopyWarning: \n",
      "A value is trying to be set on a copy of a slice from a DataFrame.\n",
      "Try using .loc[row_indexer,col_indexer] = value instead\n",
      "\n",
      "See the caveats in the documentation: https://pandas.pydata.org/pandas-docs/stable/user_guide/indexing.html#returning-a-view-versus-a-copy\n",
      "  twoAgree[\"nonMode\"] = twoAgree.apply(getNonModalAnnotation, axis=1)\n"
     ]
    }
   ],
   "source": [
    "nonCheckDfImp[[\"mode\", \"modeCount\"]] = nonCheckDfImp.apply(getNonModal, axis=1).tolist()\n",
    "twoAgree = nonCheckDfImp[nonCheckDfImp[\"modeCount\"] == 2]\n",
    "twoAgree[\"nonModalAnnotator\"] = twoAgree.apply(getNonModalAnnotator, axis=1)\n",
    "twoAgree[\"nonMode\"] = twoAgree.apply(getNonModalAnnotation, axis=1)\n",
    "twoAgree = twoAgree.dropna(subset=[\"mode\", \"nonMode\"])"
   ]
  },
  {
   "cell_type": "code",
   "execution_count": 153,
   "metadata": {},
   "outputs": [
    {
     "data": {
      "text/plain": [
       "array([[ 0, 44, 30],\n",
       "       [40,  0, 27],\n",
       "       [40, 62,  0]])"
      ]
     },
     "execution_count": 153,
     "metadata": {},
     "output_type": "execute_result"
    }
   ],
   "source": [
    "from sklearn.metrics import confusion_matrix\n",
    "confusion_matrix(twoAgree[\"mode\"], twoAgree[\"nonMode\"])"
   ]
  },
  {
   "cell_type": "code",
   "execution_count": 154,
   "metadata": {},
   "outputs": [],
   "source": [
    "reliabilityData = [[], [], []]\n",
    "for annotList in nonCheckDfImp[\"annotation\"].to_list(): \n",
    "    for i, currAnnot in enumerate(annotList): \n",
    "        if currAnnot == currAnnot: \n",
    "            reliabilityData[i].append(int(currAnnot)) \n",
    "        else: \n",
    "            reliabilityData[i].append(currAnnot) \n",
    "\n",
    "\n",
    "#but we actually want this to be a list of strings \n",
    "#reliabilityData = [\" \".join(item) for item in reliabilityData] \n"
   ]
  },
  {
   "cell_type": "code",
   "execution_count": 155,
   "metadata": {},
   "outputs": [],
   "source": [
    "#reliabilityData"
   ]
  },
  {
   "cell_type": "code",
   "execution_count": 130,
   "metadata": {},
   "outputs": [
    {
     "data": {
      "text/plain": [
       "0.7663648384019282"
      ]
     },
     "execution_count": 130,
     "metadata": {},
     "output_type": "execute_result"
    }
   ],
   "source": [
    "#itemDf[[\"r1\", \"r2\", \"r3\"]] = outAnnots\n",
    "#reliabilityData = [list(nonCheckDfImp[col]) for col in [\"r1\", \"r2\", \"r3\"]]\n",
    "krippendorff.alpha(reliability_data=reliabilityData)"
   ]
  },
  {
   "cell_type": "code",
   "execution_count": 134,
   "metadata": {},
   "outputs": [
    {
     "data": {
      "text/plain": [
       "Counter({1: 734, 2: 244, 3: 22})"
      ]
     },
     "execution_count": 134,
     "metadata": {},
     "output_type": "execute_result"
    }
   ],
   "source": [
    "#get percentage of 3 agreement, 2 agreement, etc... \n",
    "uniqueCounts = nonCheckDfImp[\"annotation\"].apply(lambda x: len(set(x)))\n",
    "Counter(uniqueCounts)"
   ]
  },
  {
   "cell_type": "code",
   "execution_count": null,
   "metadata": {},
   "outputs": [],
   "source": [
    "\n",
    "itemDf[\"modalVal\"] = itemDf[\"annotation\"].apply(lambda x: mode(x)[0])"
   ]
  },
  {
   "cell_type": "code",
   "execution_count": 138,
   "metadata": {},
   "outputs": [],
   "source": [
    "checkDf = checkDf[[\"id\", \"annotatorId\", \"annotation\"]].groupby(\"id\").agg(list)\n"
   ]
  },
  {
   "cell_type": "code",
   "execution_count": 139,
   "metadata": {},
   "outputs": [
    {
     "data": {
      "text/plain": [
       "Counter({1: 67, 2: 8})"
      ]
     },
     "execution_count": 139,
     "metadata": {},
     "output_type": "execute_result"
    }
   ],
   "source": [
    "uniqueCounts = checkDf[\"annotation\"].apply(lambda x: len(set(x)))\n",
    "Counter(uniqueCounts)"
   ]
  },
  {
   "cell_type": "code",
   "execution_count": 147,
   "metadata": {},
   "outputs": [
    {
     "name": "stderr",
     "output_type": "stream",
     "text": [
      "/tmp/ipykernel_1097109/821835154.py:25: SettingWithCopyWarning: \n",
      "A value is trying to be set on a copy of a slice from a DataFrame.\n",
      "Try using .loc[row_indexer,col_indexer] = value instead\n",
      "\n",
      "See the caveats in the documentation: https://pandas.pydata.org/pandas-docs/stable/user_guide/indexing.html#returning-a-view-versus-a-copy\n",
      "  twoAgree[\"nonModalAnnotator\"] = twoAgree.apply(getNonModalAnnotator, axis=1)\n",
      "/tmp/ipykernel_1097109/821835154.py:26: SettingWithCopyWarning: \n",
      "A value is trying to be set on a copy of a slice from a DataFrame.\n",
      "Try using .loc[row_indexer,col_indexer] = value instead\n",
      "\n",
      "See the caveats in the documentation: https://pandas.pydata.org/pandas-docs/stable/user_guide/indexing.html#returning-a-view-versus-a-copy\n",
      "  twoAgree[\"nonMode\"] = twoAgree.apply(getNonModalAnnotation, axis=1)\n"
     ]
    }
   ],
   "source": [
    "\n",
    "\n",
    "checkDf[[\"mode\", \"modeCount\"]] = checkDf.apply(getNonModal, axis=1).tolist()\n",
    "twoAgree = checkDf[checkDf[\"modeCount\"] == 2]\n",
    "twoAgree[\"nonModalAnnotator\"] = twoAgree.apply(getNonModalAnnotator, axis=1)\n",
    "twoAgree[\"nonMode\"] = twoAgree.apply(getNonModalAnnotation, axis=1)"
   ]
  },
  {
   "cell_type": "code",
   "execution_count": 149,
   "metadata": {},
   "outputs": [
    {
     "data": {
      "text/plain": [
       "array([[0, 0, 1],\n",
       "       [1, 0, 3],\n",
       "       [1, 2, 0]])"
      ]
     },
     "execution_count": 149,
     "metadata": {},
     "output_type": "execute_result"
    }
   ],
   "source": [
    "\n",
    "from sklearn.metrics import confusion_matrix\n",
    "confusion_matrix(twoAgree[\"mode\"], twoAgree[\"nonMode\"])"
   ]
  },
  {
   "cell_type": "code",
   "execution_count": 146,
   "metadata": {},
   "outputs": [
    {
     "name": "stderr",
     "output_type": "stream",
     "text": [
      "/tmp/ipykernel_1097109/3246571741.py:2: SettingWithCopyWarning: \n",
      "A value is trying to be set on a copy of a slice from a DataFrame.\n",
      "Try using .loc[row_indexer,col_indexer] = value instead\n",
      "\n",
      "See the caveats in the documentation: https://pandas.pydata.org/pandas-docs/stable/user_guide/indexing.html#returning-a-view-versus-a-copy\n",
      "  twoAgree[\"dummy\"] = 1\n",
      "/tmp/ipykernel_1097109/3246571741.py:3: FutureWarning: The provided callable <built-in function sum> is currently using DataFrameGroupBy.sum. In a future version of pandas, the provided callable will be used directly. To keep current behavior pass the string \"sum\" instead.\n",
      "  twoAgree = twoAgree[[\"nonModalAnnotator\", \"dummy\"]].groupby(\"nonModalAnnotator\").agg(sum).reset_index(\"nonModalAnnotator\").sort_values(\"dummy\", ascending=False)\n"
     ]
    },
    {
     "data": {
      "text/plain": [
       "Text(0.5, 0, 'count')"
      ]
     },
     "execution_count": 146,
     "metadata": {},
     "output_type": "execute_result"
    },
    {
     "data": {
      "image/png": "[encoded data removed]",
      "text/plain": [
       "<Figure size 640x480 with 1 Axes>"
      ]
     },
     "metadata": {},
     "output_type": "display_data"
    }
   ],
   "source": [
    "#visualize the non-modal annotators \n",
    "twoAgree[\"dummy\"] = 1\n",
    "twoAgree = twoAgree[[\"nonModalAnnotator\", \"dummy\"]].groupby(\"nonModalAnnotator\").agg(sum).reset_index(\"nonModalAnnotator\").sort_values(\"dummy\", ascending=False) \n",
    "\n",
    "sns.barplot(data=twoAgree, x=\"dummy\", y=\"nonModalAnnotator\")\n",
    "plt.title(\"Attention Checks: Number of Non-Modal Responses\")\n",
    "plt.ylabel(\"annotator ID\")\n",
    "plt.xlabel(\"count\")"
   ]
  },
  {
   "cell_type": "code",
   "execution_count": null,
   "metadata": {},
   "outputs": [],
   "source": []
  }
 ],
 "metadata": {
  "kernelspec": {
   "display_name": "Python 3 (ipykernel)",
   "language": "python",
   "name": "python3"
  }
 },
 "nbformat": 4,
 "nbformat_minor": 2
}
