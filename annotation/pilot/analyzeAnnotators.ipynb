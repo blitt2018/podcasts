{
 "cells": [
  {
   "cell_type": "code",
   "execution_count": 2,
   "metadata": {},
   "outputs": [],
   "source": [
    "import pandas as pd\n",
    "import matplotlib.pyplot as plt\n",
    "import seaborn as sns\n",
    "import numpy as np"
   ]
  },
  {
   "cell_type": "code",
   "execution_count": 3,
   "metadata": {},
   "outputs": [],
   "source": [
    "#we actually need to concatenate a bunch of files to get who annotated what  \n",
    "stem = \"/home/blitt/projects/podcasts/annotation/hostGuestAnnotation/annotation_output/\"\n",
    "folderNames  = [\"5a4d8a8f0b817800013032ea\", \"5ece9e3b3a19db0cf5af6692\", \"6022ad31accb29025f079d1c\", \"65537e115e58fe12b3fcf2f2\", \"6615cd319d6d5ee3879758ee\", \"5e318768c7b20d000d0830ce\", \"5ff66092dfb1e6211decef3e\", \"6440d887ac943c907678ec9f\", \"65e739f565a8c818b009f83b\"]\n",
    "dfList = []\n",
    "\n",
    "for fName in folderNames: \n",
    "    fPath = stem + fName + \"/annotated_instances.jsonl\" \n",
    "    currDf = pd.read_json(fPath, orient=\"records\", lines=True)\n",
    "    currDf[\"annotatorId\"] = fName\n",
    "    dfList.append(currDf)\n",
    "df = pd.concat(dfList)"
   ]
  },
  {
   "cell_type": "code",
   "execution_count": 4,
   "metadata": {},
   "outputs": [],
   "source": [
    "dictList = list(df[\"label_annotations\"])\n",
    "labels = [int(list(item[\"sentiment\"].values())[0]) for item in dictList]\n",
    "df[\"annotation\"] = labels"
   ]
  },
  {
   "cell_type": "code",
   "execution_count": 5,
   "metadata": {},
   "outputs": [
    {
     "data": {
      "text/html": [
       "<div>\n",
       "<style scoped>\n",
       "    .dataframe tbody tr th:only-of-type {\n",
       "        vertical-align: middle;\n",
       "    }\n",
       "\n",
       "    .dataframe tbody tr th {\n",
       "        vertical-align: top;\n",
       "    }\n",
       "\n",
       "    .dataframe thead th {\n",
       "        text-align: right;\n",
       "    }\n",
       "</style>\n",
       "<table border=\"1\" class=\"dataframe\">\n",
       "  <thead>\n",
       "    <tr style=\"text-align: right;\">\n",
       "      <th></th>\n",
       "      <th>id</th>\n",
       "      <th>displayed_text</th>\n",
       "      <th>label_annotations</th>\n",
       "      <th>span_annotations</th>\n",
       "      <th>behavioral_data</th>\n",
       "      <th>annotatorId</th>\n",
       "      <th>annotation</th>\n",
       "    </tr>\n",
       "  </thead>\n",
       "  <tbody>\n",
       "    <tr>\n",
       "      <th>0</th>\n",
       "      <td>https://feeds.soundcloud.com/stream/825188326-...</td>\n",
       "      <td>&lt;span style='background-color:#00FF00'&gt;Target ...</td>\n",
       "      <td>{'sentiment': {'neither': '3'}}</td>\n",
       "      <td>{}</td>\n",
       "      <td>{'time_string': 'Time spent: 0d 0h 0m 12s '}</td>\n",
       "      <td>5a4d8a8f0b817800013032ea</td>\n",
       "      <td>3</td>\n",
       "    </tr>\n",
       "    <tr>\n",
       "      <th>1</th>\n",
       "      <td>https://www.buzzsprout.com/998860/3752489-corn...</td>\n",
       "      <td>&lt;span style='background-color:#00FF00'&gt;Target ...</td>\n",
       "      <td>{'sentiment': {'host': '1'}}</td>\n",
       "      <td>{}</td>\n",
       "      <td>{'time_string': 'Time spent: 0d 0h 0m 18s '}</td>\n",
       "      <td>5a4d8a8f0b817800013032ea</td>\n",
       "      <td>1</td>\n",
       "    </tr>\n",
       "    <tr>\n",
       "      <th>2</th>\n",
       "      <td>https://anchor.fm/s/11028184/podcast/play/1421...</td>\n",
       "      <td>&lt;span style='background-color:#00FF00'&gt;Target ...</td>\n",
       "      <td>{'sentiment': {'guest': '2'}}</td>\n",
       "      <td>{}</td>\n",
       "      <td>{'time_string': 'Time spent: 0d 0h 0m 17s '}</td>\n",
       "      <td>5a4d8a8f0b817800013032ea</td>\n",
       "      <td>2</td>\n",
       "    </tr>\n",
       "    <tr>\n",
       "      <th>3</th>\n",
       "      <td>https://api.spreaker.com/download/episode/2686...</td>\n",
       "      <td>&lt;span style='background-color:#00FF00'&gt;Target ...</td>\n",
       "      <td>{'sentiment': {'neither': '3'}}</td>\n",
       "      <td>{}</td>\n",
       "      <td>{'time_string': 'Time spent: 0d 0h 0m 16s '}</td>\n",
       "      <td>5a4d8a8f0b817800013032ea</td>\n",
       "      <td>3</td>\n",
       "    </tr>\n",
       "    <tr>\n",
       "      <th>4</th>\n",
       "      <td>https://feeds.soundcloud.com/stream/829978630-...</td>\n",
       "      <td>&lt;span style='background-color:#00FF00'&gt;Target ...</td>\n",
       "      <td>{'sentiment': {'guest': '2'}}</td>\n",
       "      <td>{}</td>\n",
       "      <td>{'time_string': 'Time spent: 0d 0h 0m 12s '}</td>\n",
       "      <td>5a4d8a8f0b817800013032ea</td>\n",
       "      <td>2</td>\n",
       "    </tr>\n",
       "  </tbody>\n",
       "</table>\n",
       "</div>"
      ],
      "text/plain": [
       "                                                  id  \\\n",
       "0  https://feeds.soundcloud.com/stream/825188326-...   \n",
       "1  https://www.buzzsprout.com/998860/3752489-corn...   \n",
       "2  https://anchor.fm/s/11028184/podcast/play/1421...   \n",
       "3  https://api.spreaker.com/download/episode/2686...   \n",
       "4  https://feeds.soundcloud.com/stream/829978630-...   \n",
       "\n",
       "                                      displayed_text  \\\n",
       "0  <span style='background-color:#00FF00'>Target ...   \n",
       "1  <span style='background-color:#00FF00'>Target ...   \n",
       "2  <span style='background-color:#00FF00'>Target ...   \n",
       "3  <span style='background-color:#00FF00'>Target ...   \n",
       "4  <span style='background-color:#00FF00'>Target ...   \n",
       "\n",
       "                 label_annotations span_annotations  \\\n",
       "0  {'sentiment': {'neither': '3'}}               {}   \n",
       "1     {'sentiment': {'host': '1'}}               {}   \n",
       "2    {'sentiment': {'guest': '2'}}               {}   \n",
       "3  {'sentiment': {'neither': '3'}}               {}   \n",
       "4    {'sentiment': {'guest': '2'}}               {}   \n",
       "\n",
       "                                behavioral_data               annotatorId  \\\n",
       "0  {'time_string': 'Time spent: 0d 0h 0m 12s '}  5a4d8a8f0b817800013032ea   \n",
       "1  {'time_string': 'Time spent: 0d 0h 0m 18s '}  5a4d8a8f0b817800013032ea   \n",
       "2  {'time_string': 'Time spent: 0d 0h 0m 17s '}  5a4d8a8f0b817800013032ea   \n",
       "3  {'time_string': 'Time spent: 0d 0h 0m 16s '}  5a4d8a8f0b817800013032ea   \n",
       "4  {'time_string': 'Time spent: 0d 0h 0m 12s '}  5a4d8a8f0b817800013032ea   \n",
       "\n",
       "   annotation  \n",
       "0           3  \n",
       "1           1  \n",
       "2           2  \n",
       "3           3  \n",
       "4           2  "
      ]
     },
     "execution_count": 5,
     "metadata": {},
     "output_type": "execute_result"
    }
   ],
   "source": [
    "df.head() "
   ]
  },
  {
   "cell_type": "code",
   "execution_count": 6,
   "metadata": {},
   "outputs": [
    {
     "data": {
      "text/plain": [
       "array([0, 1, 2, 3])"
      ]
     },
     "execution_count": 6,
     "metadata": {},
     "output_type": "execute_result"
    }
   ],
   "source": [
    "np.arange(0, 4, 1)"
   ]
  },
  {
   "cell_type": "code",
   "execution_count": 7,
   "metadata": {},
   "outputs": [],
   "source": [
    "df[\"dummy\"] = 1"
   ]
  },
  {
   "cell_type": "code",
   "execution_count": 10,
   "metadata": {},
   "outputs": [
    {
     "ename": "NameError",
     "evalue": "name 'chunks' is not defined",
     "output_type": "error",
     "traceback": [
      "\u001b[0;31m---------------------------------------------------------------------------\u001b[0m",
      "\u001b[0;31mNameError\u001b[0m                                 Traceback (most recent call last)",
      "Cell \u001b[0;32mIn[10], line 1\u001b[0m\n\u001b[0;32m----> 1\u001b[0m \u001b[38;5;28mlen\u001b[39m(chunks)\n",
      "\u001b[0;31mNameError\u001b[0m: name 'chunks' is not defined"
     ]
    }
   ],
   "source": [
    "len(chunks)"
   ]
  },
  {
   "cell_type": "code",
   "execution_count": 11,
   "metadata": {},
   "outputs": [],
   "source": [
    "instGrouped = df[[\"id\", \"annotatorId\", \"annotation\"]].groupby(\"id\").agg(list)\n",
    "instGrouped[\"annotStr\"] = instGrouped[\"annotatorId\"].apply(lambda x: \"\".join(x))\n",
    "instGrouped = instGrouped.explode([\"annotation\", \"annotatorId\"])"
   ]
  },
  {
   "cell_type": "code",
   "execution_count": 12,
   "metadata": {},
   "outputs": [
    {
     "name": "stdout",
     "output_type": "stream",
     "text": [
      "5ece9e3b3a19db0cf5af6692\n",
      "6615cd319d6d5ee3879758ee\n",
      "5ff66092dfb1e6211decef3e\n",
      "5a4d8a8f0b817800013032ea\n",
      "6440d887ac943c907678ec9f\n",
      "65e739f565a8c818b009f83b\n",
      "6022ad31accb29025f079d1c\n",
      "65537e115e58fe12b3fcf2f2\n",
      "5e318768c7b20d000d0830ce\n"
     ]
    },
    {
     "data": {
      "text/plain": [
       "Text(0.5, 0.98, 'Comparing Annotation Distribution within Batches of Instances')"
      ]
     },
     "execution_count": 12,
     "metadata": {},
     "output_type": "execute_result"
    },
    {
     "data": {
      "image/png": "[encoded data removed]",
      "text/plain": [
       "<Figure size 900x600 with 9 Axes>"
      ]
     },
     "metadata": {},
     "output_type": "display_data"
    }
   ],
   "source": [
    "\n",
    "palette = ['#e41a1c','#377eb8','#4daf4a','#984ea3','#ff7f00']\n",
    "fig, axs = plt.subplots(3, 3, figsize = (9,6), sharex=True, sharey=True)\n",
    "\n",
    "#i tells us which batch of annotations \n",
    "for i, annotStr in enumerate(instGrouped[\"annotStr\"].unique()): \n",
    "    currDf = instGrouped[instGrouped[\"annotStr\"] == annotStr]\n",
    "\n",
    "    #j tells us which of the three annotators \n",
    "    for j, annotatorId in enumerate(currDf[\"annotatorId\"].unique()):\n",
    "        print(annotatorId) \n",
    "        annotDf = currDf[currDf[\"annotatorId\"] == annotatorId]\n",
    "        sns.countplot(annotDf, x=\"annotation\", ax=axs[i, j], color=palette[i]) \n",
    "        \n",
    "    axs[i, 0].set_ylabel(f\"batch {i}\")\n",
    "fig.suptitle(\"Comparing Annotation Distribution within Batches of Instances\")"
   ]
  },
  {
   "cell_type": "code",
   "execution_count": 79,
   "metadata": {},
   "outputs": [
    {
     "data": {
      "text/html": [
       "<div>\n",
       "<style scoped>\n",
       "    .dataframe tbody tr th:only-of-type {\n",
       "        vertical-align: middle;\n",
       "    }\n",
       "\n",
       "    .dataframe tbody tr th {\n",
       "        vertical-align: top;\n",
       "    }\n",
       "\n",
       "    .dataframe thead th {\n",
       "        text-align: right;\n",
       "    }\n",
       "</style>\n",
       "<table border=\"1\" class=\"dataframe\">\n",
       "  <thead>\n",
       "    <tr style=\"text-align: right;\">\n",
       "      <th></th>\n",
       "      <th>annotatorId</th>\n",
       "      <th>annotation</th>\n",
       "      <th>annotStr</th>\n",
       "    </tr>\n",
       "    <tr>\n",
       "      <th>id</th>\n",
       "      <th></th>\n",
       "      <th></th>\n",
       "      <th></th>\n",
       "    </tr>\n",
       "  </thead>\n",
       "  <tbody>\n",
       "    <tr>\n",
       "      <th>http://dts.podtrac.com/redirect.mp3/feeds.soundcloud.com/stream/834697933-siggraph-spotlight-35-real-time-ray-tracing-and-realism.mp3</th>\n",
       "      <td>5ece9e3b3a19db0cf5af6692</td>\n",
       "      <td>1</td>\n",
       "      <td>5ece9e3b3a19db0cf5af66926615cd319d6d5ee3879758...</td>\n",
       "    </tr>\n",
       "    <tr>\n",
       "      <th>http://dts.podtrac.com/redirect.mp3/feeds.soundcloud.com/stream/834697933-siggraph-spotlight-35-real-time-ray-tracing-and-realism.mp3</th>\n",
       "      <td>6615cd319d6d5ee3879758ee</td>\n",
       "      <td>1</td>\n",
       "      <td>5ece9e3b3a19db0cf5af66926615cd319d6d5ee3879758...</td>\n",
       "    </tr>\n",
       "    <tr>\n",
       "      <th>http://dts.podtrac.com/redirect.mp3/feeds.soundcloud.com/stream/834697933-siggraph-spotlight-35-real-time-ray-tracing-and-realism.mp3</th>\n",
       "      <td>5ff66092dfb1e6211decef3e</td>\n",
       "      <td>1</td>\n",
       "      <td>5ece9e3b3a19db0cf5af66926615cd319d6d5ee3879758...</td>\n",
       "    </tr>\n",
       "    <tr>\n",
       "      <th>http://media.blubrry.com/champion_magazine_podcast/http://feeds.soundcloud.com/stream/830604499-user-350863618-student-athletes-on-returning-to-campus.mp3</th>\n",
       "      <td>5ece9e3b3a19db0cf5af6692</td>\n",
       "      <td>1</td>\n",
       "      <td>5ece9e3b3a19db0cf5af66926615cd319d6d5ee3879758...</td>\n",
       "    </tr>\n",
       "    <tr>\n",
       "      <th>http://media.blubrry.com/champion_magazine_podcast/http://feeds.soundcloud.com/stream/830604499-user-350863618-student-athletes-on-returning-to-campus.mp3</th>\n",
       "      <td>6615cd319d6d5ee3879758ee</td>\n",
       "      <td>2</td>\n",
       "      <td>5ece9e3b3a19db0cf5af66926615cd319d6d5ee3879758...</td>\n",
       "    </tr>\n",
       "    <tr>\n",
       "      <th>...</th>\n",
       "      <td>...</td>\n",
       "      <td>...</td>\n",
       "      <td>...</td>\n",
       "    </tr>\n",
       "    <tr>\n",
       "      <th>https://www.podtrac.com/pts/redirect.mp3/chrt.fm/track/GF1E57/traffic.megaphone.fm/TAMC8212833222.mp3</th>\n",
       "      <td>6440d887ac943c907678ec9f</td>\n",
       "      <td>3</td>\n",
       "      <td>5a4d8a8f0b817800013032ea6440d887ac943c907678ec...</td>\n",
       "    </tr>\n",
       "    <tr>\n",
       "      <th>https://www.podtrac.com/pts/redirect.mp3/chrt.fm/track/GF1E57/traffic.megaphone.fm/TAMC8212833222.mp3</th>\n",
       "      <td>65e739f565a8c818b009f83b</td>\n",
       "      <td>1</td>\n",
       "      <td>5a4d8a8f0b817800013032ea6440d887ac943c907678ec...</td>\n",
       "    </tr>\n",
       "    <tr>\n",
       "      <th>https://www.podtrac.com/pts/redirect.mp3/nbaa.org/wp-content/uploads/news/flight-plan/nbaa-flight-plan-20200525.mp3</th>\n",
       "      <td>5a4d8a8f0b817800013032ea</td>\n",
       "      <td>2</td>\n",
       "      <td>5a4d8a8f0b817800013032ea6440d887ac943c907678ec...</td>\n",
       "    </tr>\n",
       "    <tr>\n",
       "      <th>https://www.podtrac.com/pts/redirect.mp3/nbaa.org/wp-content/uploads/news/flight-plan/nbaa-flight-plan-20200525.mp3</th>\n",
       "      <td>6440d887ac943c907678ec9f</td>\n",
       "      <td>2</td>\n",
       "      <td>5a4d8a8f0b817800013032ea6440d887ac943c907678ec...</td>\n",
       "    </tr>\n",
       "    <tr>\n",
       "      <th>https://www.podtrac.com/pts/redirect.mp3/nbaa.org/wp-content/uploads/news/flight-plan/nbaa-flight-plan-20200525.mp3</th>\n",
       "      <td>65e739f565a8c818b009f83b</td>\n",
       "      <td>2</td>\n",
       "      <td>5a4d8a8f0b817800013032ea6440d887ac943c907678ec...</td>\n",
       "    </tr>\n",
       "  </tbody>\n",
       "</table>\n",
       "<p>360 rows × 3 columns</p>\n",
       "</div>"
      ],
      "text/plain": [
       "                                                                 annotatorId  \\\n",
       "id                                                                             \n",
       "http://dts.podtrac.com/redirect.mp3/feeds.sound...  5ece9e3b3a19db0cf5af6692   \n",
       "http://dts.podtrac.com/redirect.mp3/feeds.sound...  6615cd319d6d5ee3879758ee   \n",
       "http://dts.podtrac.com/redirect.mp3/feeds.sound...  5ff66092dfb1e6211decef3e   \n",
       "http://media.blubrry.com/champion_magazine_podc...  5ece9e3b3a19db0cf5af6692   \n",
       "http://media.blubrry.com/champion_magazine_podc...  6615cd319d6d5ee3879758ee   \n",
       "...                                                                      ...   \n",
       "https://www.podtrac.com/pts/redirect.mp3/chrt.f...  6440d887ac943c907678ec9f   \n",
       "https://www.podtrac.com/pts/redirect.mp3/chrt.f...  65e739f565a8c818b009f83b   \n",
       "https://www.podtrac.com/pts/redirect.mp3/nbaa.o...  5a4d8a8f0b817800013032ea   \n",
       "https://www.podtrac.com/pts/redirect.mp3/nbaa.o...  6440d887ac943c907678ec9f   \n",
       "https://www.podtrac.com/pts/redirect.mp3/nbaa.o...  65e739f565a8c818b009f83b   \n",
       "\n",
       "                                                   annotation  \\\n",
       "id                                                              \n",
       "http://dts.podtrac.com/redirect.mp3/feeds.sound...          1   \n",
       "http://dts.podtrac.com/redirect.mp3/feeds.sound...          1   \n",
       "http://dts.podtrac.com/redirect.mp3/feeds.sound...          1   \n",
       "http://media.blubrry.com/champion_magazine_podc...          1   \n",
       "http://media.blubrry.com/champion_magazine_podc...          2   \n",
       "...                                                       ...   \n",
       "https://www.podtrac.com/pts/redirect.mp3/chrt.f...          3   \n",
       "https://www.podtrac.com/pts/redirect.mp3/chrt.f...          1   \n",
       "https://www.podtrac.com/pts/redirect.mp3/nbaa.o...          2   \n",
       "https://www.podtrac.com/pts/redirect.mp3/nbaa.o...          2   \n",
       "https://www.podtrac.com/pts/redirect.mp3/nbaa.o...          2   \n",
       "\n",
       "                                                                                             annotStr  \n",
       "id                                                                                                     \n",
       "http://dts.podtrac.com/redirect.mp3/feeds.sound...  5ece9e3b3a19db0cf5af66926615cd319d6d5ee3879758...  \n",
       "http://dts.podtrac.com/redirect.mp3/feeds.sound...  5ece9e3b3a19db0cf5af66926615cd319d6d5ee3879758...  \n",
       "http://dts.podtrac.com/redirect.mp3/feeds.sound...  5ece9e3b3a19db0cf5af66926615cd319d6d5ee3879758...  \n",
       "http://media.blubrry.com/champion_magazine_podc...  5ece9e3b3a19db0cf5af66926615cd319d6d5ee3879758...  \n",
       "http://media.blubrry.com/champion_magazine_podc...  5ece9e3b3a19db0cf5af66926615cd319d6d5ee3879758...  \n",
       "...                                                                                               ...  \n",
       "https://www.podtrac.com/pts/redirect.mp3/chrt.f...  5a4d8a8f0b817800013032ea6440d887ac943c907678ec...  \n",
       "https://www.podtrac.com/pts/redirect.mp3/chrt.f...  5a4d8a8f0b817800013032ea6440d887ac943c907678ec...  \n",
       "https://www.podtrac.com/pts/redirect.mp3/nbaa.o...  5a4d8a8f0b817800013032ea6440d887ac943c907678ec...  \n",
       "https://www.podtrac.com/pts/redirect.mp3/nbaa.o...  5a4d8a8f0b817800013032ea6440d887ac943c907678ec...  \n",
       "https://www.podtrac.com/pts/redirect.mp3/nbaa.o...  5a4d8a8f0b817800013032ea6440d887ac943c907678ec...  \n",
       "\n",
       "[360 rows x 3 columns]"
      ]
     },
     "execution_count": 79,
     "metadata": {},
     "output_type": "execute_result"
    }
   ],
   "source": [
    "instGrouped"
   ]
  },
  {
   "cell_type": "code",
   "execution_count": 87,
   "metadata": {},
   "outputs": [],
   "source": [
    "instGrouped = instGrouped.reset_index().groupby(\"id\").agg(list)"
   ]
  },
  {
   "cell_type": "code",
   "execution_count": 91,
   "metadata": {},
   "outputs": [
    {
     "data": {
      "text/plain": [
       "(40, 3)"
      ]
     },
     "execution_count": 91,
     "metadata": {},
     "output_type": "execute_result"
    }
   ],
   "source": [
    "currId = \"5ece9e3b3a19db0cf5af6692\" \n",
    "currDf = instGrouped[instGrouped[\"annotatorId\"].apply(lambda x: currId in x)]\n",
    "currDf.shape"
   ]
  },
  {
   "cell_type": "code",
   "execution_count": 81,
   "metadata": {},
   "outputs": [],
   "source": [
    "#count up disagreements per annotator \n",
    "for annotatorId in instGrouped[\"annotatorId\"].unique(): \n",
    "    currDf = instGrouped[instGrouped[\"annotatorId\"] == annotatorId].reset_index(\"id\")\n",
    "    "
   ]
  },
  {
   "cell_type": "code",
   "execution_count": 145,
   "metadata": {},
   "outputs": [],
   "source": [
    "from collections import Counter\n",
    "def getNonModal(inRow): \n",
    "    counts = Counter(inRow[\"annotation\"])\n",
    "    modalVal, modeCount = counts.most_common(1)[0]\n",
    "\n",
    "    return [modalVal, modeCount]\n",
    "\n",
    "def getNonModalAnnotator(inRow): \n",
    "    annots = inRow[\"annotation\"]\n",
    "    annotators = inRow[\"annotatorId\"]\n",
    "    mode = inRow[\"mode\"]\n",
    "\n",
    "    for i, annot in enumerate(annots): \n",
    "        if annot != mode: \n",
    "            return annotators[i]\n",
    "\n",
    "\n",
    "def getNonModalAnnotation(inRow): \n",
    "    counts = Counter(inRow[\"annotation\"])\n",
    "    nonMode, nonModeCount = counts.most_common(2)[1]\n",
    "\n",
    "    return nonMode\n",
    "\n",
    "instGrouped = df[[\"id\",\"annotatorId\", \"annotation\"]].groupby(\"id\").agg(list)\n",
    "instGrouped[[\"mode\", \"modeCount\"]] = instGrouped.apply(getNonModal, axis=1).tolist()"
   ]
  },
  {
   "cell_type": "code",
   "execution_count": 146,
   "metadata": {},
   "outputs": [
    {
     "name": "stderr",
     "output_type": "stream",
     "text": [
      "/tmp/ipykernel_1978952/2850186530.py:2: SettingWithCopyWarning: \n",
      "A value is trying to be set on a copy of a slice from a DataFrame.\n",
      "Try using .loc[row_indexer,col_indexer] = value instead\n",
      "\n",
      "See the caveats in the documentation: https://pandas.pydata.org/pandas-docs/stable/user_guide/indexing.html#returning-a-view-versus-a-copy\n",
      "  twoAgree[\"nonModalAnnotator\"] = twoAgree.apply(getNonModalAnnotator, axis=1)\n"
     ]
    }
   ],
   "source": [
    "twoAgree = instGrouped[instGrouped[\"modeCount\"] == 2]\n",
    "twoAgree[\"nonModalAnnotator\"] = twoAgree.apply(getNonModalAnnotator, axis=1)"
   ]
  },
  {
   "cell_type": "code",
   "execution_count": 147,
   "metadata": {},
   "outputs": [
    {
     "name": "stderr",
     "output_type": "stream",
     "text": [
      "/tmp/ipykernel_1978952/2219535619.py:2: SettingWithCopyWarning: \n",
      "A value is trying to be set on a copy of a slice from a DataFrame.\n",
      "Try using .loc[row_indexer,col_indexer] = value instead\n",
      "\n",
      "See the caveats in the documentation: https://pandas.pydata.org/pandas-docs/stable/user_guide/indexing.html#returning-a-view-versus-a-copy\n",
      "  twoAgree[\"nonMode\"] = twoAgree.apply(getNonModalAnnotation, axis=1)\n"
     ]
    }
   ],
   "source": [
    "#get confusion matrix\n",
    "twoAgree[\"nonMode\"] = twoAgree.apply(getNonModalAnnotation, axis=1)"
   ]
  },
  {
   "cell_type": "code",
   "execution_count": 144,
   "metadata": {},
   "outputs": [
    {
     "data": {
      "text/plain": [
       "[(2, 2), (1, 1)]"
      ]
     },
     "execution_count": 144,
     "metadata": {},
     "output_type": "execute_result"
    }
   ],
   "source": [
    "Counter([1, 2, 2]).most_common(2)"
   ]
  },
  {
   "cell_type": "code",
   "execution_count": 149,
   "metadata": {},
   "outputs": [],
   "source": [
    "from sklearn.metrics import confusion_matrix"
   ]
  },
  {
   "cell_type": "code",
   "execution_count": 150,
   "metadata": {},
   "outputs": [
    {
     "data": {
      "text/plain": [
       "array([[ 0,  3,  3,  3],\n",
       "       [13,  0,  3,  2],\n",
       "       [ 9, 11,  0,  4],\n",
       "       [ 0,  0,  1,  0]])"
      ]
     },
     "execution_count": 150,
     "metadata": {},
     "output_type": "execute_result"
    }
   ],
   "source": [
    "#first arg. is true val., then pred. \n",
    "confusion_matrix(twoAgree[\"mode\"], twoAgree[\"nonMode\"])\n",
    "\n",
    "#rows is true, column is pred. "
   ]
  },
  {
   "cell_type": "code",
   "execution_count": 131,
   "metadata": {},
   "outputs": [
    {
     "name": "stderr",
     "output_type": "stream",
     "text": [
      "/tmp/ipykernel_1978952/1004636058.py:1: SettingWithCopyWarning: \n",
      "A value is trying to be set on a copy of a slice from a DataFrame.\n",
      "Try using .loc[row_indexer,col_indexer] = value instead\n",
      "\n",
      "See the caveats in the documentation: https://pandas.pydata.org/pandas-docs/stable/user_guide/indexing.html#returning-a-view-versus-a-copy\n",
      "  twoAgree[\"dummy\"] = 1\n",
      "/tmp/ipykernel_1978952/1004636058.py:3: FutureWarning: The provided callable <built-in function sum> is currently using DataFrameGroupBy.sum. In a future version of pandas, the provided callable will be used directly. To keep current behavior pass the string \"sum\" instead.\n",
      "  twoAgree = twoAgree[[\"nonModalAnnotator\", \"dummy\"]].groupby(\"nonModalAnnotator\").agg(sum).reset_index(\"nonModalAnnotator\").sort_values(\"dummy\", ascending=False)\n"
     ]
    }
   ],
   "source": [
    "twoAgree[\"dummy\"] = 1\n",
    "#sns.countplot(twoAgree, x=\"nonModalAnnotator\")\n",
    "twoAgree = twoAgree[[\"nonModalAnnotator\", \"dummy\"]].groupby(\"nonModalAnnotator\").agg(sum).reset_index(\"nonModalAnnotator\").sort_values(\"dummy\", ascending=False) "
   ]
  },
  {
   "cell_type": "code",
   "execution_count": 132,
   "metadata": {},
   "outputs": [
    {
     "data": {
      "text/plain": [
       "Text(0.5, 0, 'count')"
      ]
     },
     "execution_count": 132,
     "metadata": {},
     "output_type": "execute_result"
    },
    {
     "data": {
      "image/png": "[encoded data removed]",
      "text/plain": [
       "<Figure size 640x480 with 1 Axes>"
      ]
     },
     "metadata": {},
     "output_type": "display_data"
    }
   ],
   "source": [
    "sns.barplot(data=twoAgree, x=\"dummy\", y=\"nonModalAnnotator\")\n",
    "plt.title(\"Number of Non-Modal Responses\")\n",
    "plt.ylabel(\"annotator ID\")\n",
    "plt.xlabel(\"count\")"
   ]
  },
  {
   "cell_type": "code",
   "execution_count": null,
   "metadata": {},
   "outputs": [],
   "source": []
  }
 ],
 "metadata": {
  "kernelspec": {
   "display_name": "Python 3 (ipykernel)",
   "language": "python",
   "name": "python3"
  }
 },
 "nbformat": 4,
 "nbformat_minor": 2
}
