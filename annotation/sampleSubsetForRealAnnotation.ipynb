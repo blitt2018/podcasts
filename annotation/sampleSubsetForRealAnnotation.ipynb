{
 "cells": [
  {
   "cell_type": "code",
   "execution_count": 265,
   "metadata": {},
   "outputs": [],
   "source": [
    "import pandas as pd"
   ]
  },
  {
   "cell_type": "code",
   "execution_count": 271,
   "metadata": {},
   "outputs": [],
   "source": [
    "df = pd.read_json(\"/shared/3/projects/benlitterer/podcastData/annotation/label1000/2kpodsClassification.jsonl\", orient=\"records\", lines=True)\n",
    "pilotDf = pd.read_json(\"/shared/3/projects/benlitterer/podcastData/annotation/pilot/2kpodsClassificationPILOT.jsonl\", orient=\"records\", lines=True)"
   ]
  },
  {
   "cell_type": "code",
   "execution_count": 272,
   "metadata": {},
   "outputs": [
    {
     "name": "stdout",
     "output_type": "stream",
     "text": [
      "(1000, 14)\n"
     ]
    }
   ],
   "source": [
    "#we want 1,000 labels \n",
    "subsetDf = df.head(1000)\n",
    "print(subsetDf.shape)"
   ]
  },
  {
   "cell_type": "code",
   "execution_count": 273,
   "metadata": {},
   "outputs": [],
   "source": [
    "#now we want to inject rows of sanity checks, here we a list of ids from the pilot that we want to extract and use  \n",
    "attentionIds = [\n",
    "\"https://anchor.fm/s/7f12654/podcast/play/14320049/https%3A%2F%2Fd3ctxlq1ktw2nl.cloudfront.net%2Fstaging%2F2020-4-26%2F76850511-44100-2-e778a17d843dd.m4a\", \n",
    "\"https://anchor.fm/s/11028184/podcast/play/14212379/https%3A%2F%2Fd3ctxlq1ktw2nl.cloudfront.net%2Fproduction%2F2020-4-24%2F76170728-44100-2-109d447b04488.mp3\", \n",
    "\"https://anchor.fm/s/24044d44/podcast/play/14503148/https%3A%2F%2Fd3ctxlq1ktw2nl.cloudfront.net%2Fstaging%2F2020-4-30%2F78020478-44100-1-1e08e64348a62916.mp3\"\n",
    "]\n",
    "attentionRows = pilotDf.set_index(\"id\", drop=False).loc[attentionIds].reset_index(drop=True)\n",
    "hostCheck = attentionRows.iloc[0]\n",
    "guestCheck = attentionRows.iloc[1]\n",
    "neitherCheck = attentionRows.iloc[2]"
   ]
  },
  {
   "cell_type": "code",
   "execution_count": 275,
   "metadata": {},
   "outputs": [],
   "source": [
    "outDfRows = []\n",
    "count = 0 \n",
    "checkCounter = 0 \n",
    "for i, row in subsetDf.iterrows():\n",
    "    if count == 40: \n",
    "        count = 0\n",
    "        checkCounter += 1\n",
    "\n",
    "    if count == 9:\n",
    "        currCheck = hostCheck.copy()\n",
    "        currCheck[\"id\"] = attentionIds[0] + \"_CHECK\" + str(checkCounter)\n",
    "        outDfRows.append(currCheck)\n",
    "\n",
    "    if count == 19: \n",
    "        currCheck = guestCheck.copy()\n",
    "        currCheck[\"id\"] = attentionIds[1] + \"_CHECK\" + str(checkCounter)\n",
    "        outDfRows.append(currCheck)\n",
    "\n",
    "    if count == 29:  \n",
    "        currCheck = neitherCheck.copy()\n",
    "        currCheck[\"id\"] = attentionIds[2] + \"_CHECK\" + str(checkCounter)\n",
    "        outDfRows.append(currCheck)\n",
    "\n",
    "    count += 1\n",
    "    outDfRows.append(row)\n"
   ]
  },
  {
   "cell_type": "code",
   "execution_count": 276,
   "metadata": {},
   "outputs": [],
   "source": [
    "#verifying that this worked! \n",
    "#we have our checks in the 10th, 21st, and 32nd positions as expected\n",
    "#they're also in the 53rd, 64th, and 75th positions as expected \n",
    "#this means we can give 43 rows to each participant, and have them all get equal chunks "
   ]
  },
  {
   "cell_type": "code",
   "execution_count": 278,
   "metadata": {},
   "outputs": [
    {
     "data": {
      "text/plain": [
       "potentialOutPath    /anchor.fm/42/httpsanchor.fms24044d44podcastpl...\n",
       "descClean           Everything is bigger in Texas, and so is its t...\n",
       "epDescClean         One angry old man does something in 2002 that ...\n",
       "transcript          [Music] Hey y'all, this is Mei, and I want to ...\n",
       "transEnts                                                Wayne Rayard\n",
       "transTypes                                                     PERSON\n",
       "rssUrl                       https://anchor.fm/s/24044d44/podcast/rss\n",
       "id                  https://anchor.fm/s/24044d44/podcast/play/1450...\n",
       "cleanDatesLoc                               2020-05-20 10:00:00+00:00\n",
       "epTitle                                     Richard Gerzine year 2002\n",
       "title                   Crimes of a Decade A Texas True Crime Podcast\n",
       "transChunk          I will be discussing murders from the year 200...\n",
       "text                <span style='background-color:#00FF00'>Target ...\n",
       "cleanEnt                                                 wayne rayard\n",
       "Name: 2, dtype: object"
      ]
     },
     "execution_count": 278,
     "metadata": {},
     "output_type": "execute_result"
    }
   ],
   "source": [
    "#just some sanity checking \n",
    "outDf = pd.DataFrame(outDfRows)\n",
    "outDf.iloc[74]"
   ]
  },
  {
   "cell_type": "code",
   "execution_count": 279,
   "metadata": {},
   "outputs": [],
   "source": [
    "#the math here is 25 actual + 3 per attention check, which gives us 1075 total annotations "
   ]
  },
  {
   "cell_type": "code",
   "execution_count": 280,
   "metadata": {},
   "outputs": [
    {
     "data": {
      "text/plain": [
       "(1075, 14)"
      ]
     },
     "execution_count": 280,
     "metadata": {},
     "output_type": "execute_result"
    }
   ],
   "source": [
    "outDf.shape"
   ]
  },
  {
   "cell_type": "code",
   "execution_count": 281,
   "metadata": {},
   "outputs": [],
   "source": [
    "outDf.to_json(\"/shared/3/projects/benlitterer/podcastData/annotation/label1000/1075podsClassification.jsonl\", orient=\"records\", lines=True)"
   ]
  },
  {
   "cell_type": "code",
   "execution_count": 282,
   "metadata": {},
   "outputs": [
    {
     "data": {
      "text/html": [
       "<div>\n",
       "<style scoped>\n",
       "    .dataframe tbody tr th:only-of-type {\n",
       "        vertical-align: middle;\n",
       "    }\n",
       "\n",
       "    .dataframe tbody tr th {\n",
       "        vertical-align: top;\n",
       "    }\n",
       "\n",
       "    .dataframe thead th {\n",
       "        text-align: right;\n",
       "    }\n",
       "</style>\n",
       "<table border=\"1\" class=\"dataframe\">\n",
       "  <thead>\n",
       "    <tr style=\"text-align: right;\">\n",
       "      <th></th>\n",
       "      <th>potentialOutPath</th>\n",
       "      <th>descClean</th>\n",
       "      <th>epDescClean</th>\n",
       "      <th>transcript</th>\n",
       "      <th>transEnts</th>\n",
       "      <th>transTypes</th>\n",
       "      <th>rssUrl</th>\n",
       "      <th>id</th>\n",
       "      <th>cleanDatesLoc</th>\n",
       "      <th>epTitle</th>\n",
       "      <th>title</th>\n",
       "      <th>transChunk</th>\n",
       "      <th>text</th>\n",
       "      <th>cleanEnt</th>\n",
       "    </tr>\n",
       "  </thead>\n",
       "  <tbody>\n",
       "    <tr>\n",
       "      <th>0</th>\n",
       "      <td>/traffic.libsyn.com/_O/httpstraffic.libsyn.com...</td>\n",
       "      <td>Food for Thought originates in San Diego CA. H...</td>\n",
       "      <td>On this podcast we had the pleasure of chattin...</td>\n",
       "      <td>I had seen somebody criticize the restaurant o...</td>\n",
       "      <td>Guy Fieri</td>\n",
       "      <td>PERSON</td>\n",
       "      <td>https://food4tht.libsyn.com/rss</td>\n",
       "      <td>https://traffic.libsyn.com/secure/food4tht/FFT...</td>\n",
       "      <td>2020-06-03 02:37:16+00:00</td>\n",
       "      <td>San Diego's Restaurant Industry During the Pan...</td>\n",
       "      <td>Food for Thought with Keith Langhorn</td>\n",
       "      <td>want it, if it's not, the duck fat is duck fat...</td>\n",
       "      <td>&lt;span style='background-color:#00FF00'&gt;Target ...</td>\n",
       "      <td>guy fieri</td>\n",
       "    </tr>\n",
       "    <tr>\n",
       "      <th>1</th>\n",
       "      <td>/www.buzzsprout.com/oi/httpswww.buzzsprout.com...</td>\n",
       "      <td>Women are living, learning, and leading toward...</td>\n",
       "      <td>Gail Vittori, the co-director of the Center f...</td>\n",
       "      <td>Hi everyone, this is Karen Becker from Acuity ...</td>\n",
       "      <td>Lindsay Baker</td>\n",
       "      <td>PERSON</td>\n",
       "      <td>https://feeds.buzzsprout.com/800147.rss</td>\n",
       "      <td>https://www.buzzsprout.com/800147/3593959-gail...</td>\n",
       "      <td>2020-05-21 14:00:00+00:00</td>\n",
       "      <td>Gail Vittori on design, human health, and hold...</td>\n",
       "      <td>Design the Future</td>\n",
       "      <td>Hi everyone, this is Karen Becker from Acuity ...</td>\n",
       "      <td>&lt;span style='background-color:#00FF00'&gt;Target ...</td>\n",
       "      <td>lindsay baker</td>\n",
       "    </tr>\n",
       "    <tr>\n",
       "      <th>2</th>\n",
       "      <td>/dts.podtrac.com/ed/httpsdts.podtrac.comredire...</td>\n",
       "      <td>A Crimes Stories Podcast produced and hosted b...</td>\n",
       "      <td>The Shark Gary was able to land this interview...</td>\n",
       "      <td>[Music] You are listening to Gangland Wire hos...</td>\n",
       "      <td>Gangland Wire</td>\n",
       "      <td>PERSON</td>\n",
       "      <td>https://www.spreaker.com/show/5504357/episodes...</td>\n",
       "      <td>https://dts.podtrac.com/redirect.mp3/api.sprea...</td>\n",
       "      <td>2020-06-01 09:00:41+00:00</td>\n",
       "      <td>Joe the Shark Lopez â Chicago mob Lawyer</td>\n",
       "      <td>Gangland Wire</td>\n",
       "      <td>[Music] You are listening to Gangland Wire hos...</td>\n",
       "      <td>&lt;span style='background-color:#00FF00'&gt;Target ...</td>\n",
       "      <td>gangland wire</td>\n",
       "    </tr>\n",
       "    <tr>\n",
       "      <th>3</th>\n",
       "      <td>/www.buzzsprout.com/in/httpswww.buzzsprout.com...</td>\n",
       "      <td>Now celebrating its fourth year, Talking Arch...</td>\n",
       "      <td>Big River Group began operations in the early...</td>\n",
       "      <td>[Music] Welcome to Talking Architecture and De...</td>\n",
       "      <td>John Laurenti</td>\n",
       "      <td>PERSON</td>\n",
       "      <td>https://feeds.buzzsprout.com/265967.rss</td>\n",
       "      <td>https://www.buzzsprout.com/265967/3761771-epis...</td>\n",
       "      <td>2020-05-14 23:00:00+00:00</td>\n",
       "      <td>Episode 47: John Lorente discuses sustainabili...</td>\n",
       "      <td>Talking Architecture &amp; Design</td>\n",
       "      <td>[Music] Welcome to Talking Architecture and De...</td>\n",
       "      <td>&lt;span style='background-color:#00FF00'&gt;Target ...</td>\n",
       "      <td>john laurenti</td>\n",
       "    </tr>\n",
       "    <tr>\n",
       "      <th>4</th>\n",
       "      <td>/sphinx.acast.com/2p/httpssphinx.acast.compope...</td>\n",
       "      <td>Welcome To WTAF - A THIS COUNTRY Podcast! The ...</td>\n",
       "      <td>Hey WTAF-ers! Here is another Lockdown SuperFa...</td>\n",
       "      <td>Now we all know that Martin can metabolize a p...</td>\n",
       "      <td>Matt Berry</td>\n",
       "      <td>PERSON</td>\n",
       "      <td>https://feeds.acast.com/public/shows/62f62aafd...</td>\n",
       "      <td>https://sphinx.acast.com/p/open/s/62f62aafd54b...</td>\n",
       "      <td>2020-06-06 23:00:00+00:00</td>\n",
       "      <td>130. SuperFan Susan Wokoma Speaks! (Year Of Th...</td>\n",
       "      <td>WTAF - A THIS COUNTRY PODCAST</td>\n",
       "      <td>the actual fuck,?\" Hello this is Daisy and you...</td>\n",
       "      <td>&lt;span style='background-color:#00FF00'&gt;Target ...</td>\n",
       "      <td>matt berry</td>\n",
       "    </tr>\n",
       "  </tbody>\n",
       "</table>\n",
       "</div>"
      ],
      "text/plain": [
       "                                    potentialOutPath  \\\n",
       "0  /traffic.libsyn.com/_O/httpstraffic.libsyn.com...   \n",
       "1  /www.buzzsprout.com/oi/httpswww.buzzsprout.com...   \n",
       "2  /dts.podtrac.com/ed/httpsdts.podtrac.comredire...   \n",
       "3  /www.buzzsprout.com/in/httpswww.buzzsprout.com...   \n",
       "4  /sphinx.acast.com/2p/httpssphinx.acast.compope...   \n",
       "\n",
       "                                           descClean  \\\n",
       "0  Food for Thought originates in San Diego CA. H...   \n",
       "1  Women are living, learning, and leading toward...   \n",
       "2  A Crimes Stories Podcast produced and hosted b...   \n",
       "3   Now celebrating its fourth year, Talking Arch...   \n",
       "4  Welcome To WTAF - A THIS COUNTRY Podcast! The ...   \n",
       "\n",
       "                                         epDescClean  \\\n",
       "0  On this podcast we had the pleasure of chattin...   \n",
       "1   Gail Vittori, the co-director of the Center f...   \n",
       "2  The Shark Gary was able to land this interview...   \n",
       "3   Big River Group began operations in the early...   \n",
       "4  Hey WTAF-ers! Here is another Lockdown SuperFa...   \n",
       "\n",
       "                                          transcript      transEnts  \\\n",
       "0  I had seen somebody criticize the restaurant o...      Guy Fieri   \n",
       "1  Hi everyone, this is Karen Becker from Acuity ...  Lindsay Baker   \n",
       "2  [Music] You are listening to Gangland Wire hos...  Gangland Wire   \n",
       "3  [Music] Welcome to Talking Architecture and De...  John Laurenti   \n",
       "4  Now we all know that Martin can metabolize a p...     Matt Berry   \n",
       "\n",
       "  transTypes                                             rssUrl  \\\n",
       "0     PERSON                    https://food4tht.libsyn.com/rss   \n",
       "1     PERSON            https://feeds.buzzsprout.com/800147.rss   \n",
       "2     PERSON  https://www.spreaker.com/show/5504357/episodes...   \n",
       "3     PERSON            https://feeds.buzzsprout.com/265967.rss   \n",
       "4     PERSON  https://feeds.acast.com/public/shows/62f62aafd...   \n",
       "\n",
       "                                                  id  \\\n",
       "0  https://traffic.libsyn.com/secure/food4tht/FFT...   \n",
       "1  https://www.buzzsprout.com/800147/3593959-gail...   \n",
       "2  https://dts.podtrac.com/redirect.mp3/api.sprea...   \n",
       "3  https://www.buzzsprout.com/265967/3761771-epis...   \n",
       "4  https://sphinx.acast.com/p/open/s/62f62aafd54b...   \n",
       "\n",
       "               cleanDatesLoc  \\\n",
       "0  2020-06-03 02:37:16+00:00   \n",
       "1  2020-05-21 14:00:00+00:00   \n",
       "2  2020-06-01 09:00:41+00:00   \n",
       "3  2020-05-14 23:00:00+00:00   \n",
       "4  2020-06-06 23:00:00+00:00   \n",
       "\n",
       "                                             epTitle  \\\n",
       "0  San Diego's Restaurant Industry During the Pan...   \n",
       "1  Gail Vittori on design, human health, and hold...   \n",
       "2         Joe the Shark Lopez â Chicago mob Lawyer   \n",
       "3  Episode 47: John Lorente discuses sustainabili...   \n",
       "4  130. SuperFan Susan Wokoma Speaks! (Year Of Th...   \n",
       "\n",
       "                                  title  \\\n",
       "0  Food for Thought with Keith Langhorn   \n",
       "1                     Design the Future   \n",
       "2                         Gangland Wire   \n",
       "3         Talking Architecture & Design   \n",
       "4         WTAF - A THIS COUNTRY PODCAST   \n",
       "\n",
       "                                          transChunk  \\\n",
       "0  want it, if it's not, the duck fat is duck fat...   \n",
       "1  Hi everyone, this is Karen Becker from Acuity ...   \n",
       "2  [Music] You are listening to Gangland Wire hos...   \n",
       "3  [Music] Welcome to Talking Architecture and De...   \n",
       "4  the actual fuck,?\" Hello this is Daisy and you...   \n",
       "\n",
       "                                                text       cleanEnt  \n",
       "0  <span style='background-color:#00FF00'>Target ...      guy fieri  \n",
       "1  <span style='background-color:#00FF00'>Target ...  lindsay baker  \n",
       "2  <span style='background-color:#00FF00'>Target ...  gangland wire  \n",
       "3  <span style='background-color:#00FF00'>Target ...  john laurenti  \n",
       "4  <span style='background-color:#00FF00'>Target ...     matt berry  "
      ]
     },
     "execution_count": 282,
     "metadata": {},
     "output_type": "execute_result"
    }
   ],
   "source": [
    "outDf.head() "
   ]
  }
 ],
 "metadata": {
  "kernelspec": {
   "display_name": "Python 3 (ipykernel)",
   "language": "python",
   "name": "python3"
  }
 },
 "nbformat": 4,
 "nbformat_minor": 2
}
