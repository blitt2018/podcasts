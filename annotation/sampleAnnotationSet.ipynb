{
 "cells": [
  {
   "cell_type": "code",
   "execution_count": 3,
   "metadata": {},
   "outputs": [],
   "source": [
    "import pandas as pd\n",
    "from bs4 import BeautifulSoup\n",
    "import re\n",
    "import random\n",
    "import seaborn as sns\n",
    "import numpy as np"
   ]
  },
  {
   "cell_type": "code",
   "execution_count": 4,
   "metadata": {},
   "outputs": [],
   "source": [
    "random.seed(120)"
   ]
  },
  {
   "cell_type": "code",
   "execution_count": 764,
   "metadata": {},
   "outputs": [],
   "source": [
    "df = pd.read_json(\"/shared/3/projects/benlitterer/podcastData/processed/floydMonth/floydMonthDataClean.jsonl\", orient=\"records\", lines=True)"
   ]
  },
  {
   "cell_type": "code",
   "execution_count": null,
   "metadata": {},
   "outputs": [],
   "source": [
    "#metaDf = pd.read_json(\"/shared/3/projects/benlitterer/podcastData/processed/mayJune/mayJuneMetadata.jsonl\", orient=\"record\", lines=True)"
   ]
  },
  {
   "cell_type": "code",
   "execution_count": null,
   "metadata": {},
   "outputs": [],
   "source": [
    "#if we don't already have entities for the transcripts and the descriptions, we need to add them... "
   ]
  },
  {
   "cell_type": "code",
   "execution_count": 766,
   "metadata": {},
   "outputs": [],
   "source": [
    "#just in case \n",
    "inDf = df"
   ]
  },
  {
   "cell_type": "code",
   "execution_count": 767,
   "metadata": {},
   "outputs": [],
   "source": [
    "df = df.drop_duplicates(subset=[\"potentialOutPath\"])"
   ]
  },
  {
   "cell_type": "code",
   "execution_count": 768,
   "metadata": {},
   "outputs": [],
   "source": [
    "#do we want to work with podcasts where there's no description? or no transcript? let's say no for now\n",
    "df = df.dropna(subset=[\"rssUrl\", \"transcript\", \"enclosure\", \"potentialOutPath\", \"epDescription\", \"podDescription\",  \"category1\", \"transEnts\", \"descEnts\", \"epDescEnts\"])"
   ]
  },
  {
   "cell_type": "code",
   "execution_count": null,
   "metadata": {},
   "outputs": [],
   "source": [
    "#odd that we only have 366,013 left after removing na's. Seems to be driven mostly by ents\n",
    "#BUT: remember that many descriptions won't have entities  "
   ]
  },
  {
   "cell_type": "code",
   "execution_count": 770,
   "metadata": {},
   "outputs": [],
   "source": [
    "#if either description or transcript has person entity and isn't none/na \n",
    "#then keep it\n",
    "def hasPerson(inRow):\n",
    "    #descTypes = inRow[\"DescType\"]\n",
    "    transTypes = inRow[\"transTypes\"]\n",
    "\n",
    "    #descHas = False\n",
    "    transHas = False\n",
    "\n",
    "    \"\"\"\n",
    "    if descTypes == descTypes and descTypes != None: \n",
    "        descHas = \"PERSON\" in descTypes\n",
    "    \"\"\"\n",
    "        \n",
    "    if transTypes == transTypes and transTypes != None: \n",
    "        transHas = \"PERSON\" in transTypes\n",
    "\n",
    "    return transHas\n",
    "\n",
    "\n",
    "#keep only those rows where we have a person in the description or the transcript\n",
    "#TODO: modify this\n",
    "df[\"hasPerson\"] = df.apply(hasPerson, axis=1)\n",
    "#df[\"hasPerson\"] = df[\"transEnts\"].apply(lambda x: x != None and x == x and len(x) > 0)"
   ]
  },
  {
   "cell_type": "code",
   "execution_count": 771,
   "metadata": {},
   "outputs": [
    {
     "data": {
      "text/plain": [
       "(214244, 77)"
      ]
     },
     "execution_count": 771,
     "metadata": {},
     "output_type": "execute_result"
    }
   ],
   "source": [
    "df.shape"
   ]
  },
  {
   "cell_type": "code",
   "execution_count": 772,
   "metadata": {},
   "outputs": [],
   "source": [
    "df = df[df[\"hasPerson\"] == True]"
   ]
  },
  {
   "cell_type": "code",
   "execution_count": 773,
   "metadata": {},
   "outputs": [
    {
     "name": "stdout",
     "output_type": "stream",
     "text": [
      "Unique Categories: 26\n",
      "0       religion\n",
      "1       business\n",
      "2        society\n",
      "3      education\n",
      "4         sports\n",
      "5           news\n",
      "6         health\n",
      "7           arts\n",
      "8         comedy\n",
      "9             tv\n",
      "10       leisure\n",
      "11         music\n",
      "12    technology\n",
      "13          kids\n",
      "14       science\n",
      "15       fiction\n",
      "16       history\n",
      "17    government\n",
      "18    true crime\n",
      "19         games\n",
      "Name: category1, dtype: object\n"
     ]
    }
   ],
   "source": [
    "N_CATS=20\n",
    "print(f'Unique Categories: {len(df[\"category1\"].unique())}')\n",
    "topCats = pd.DataFrame(df[\"category1\"].value_counts()).reset_index().head(N_CATS)[\"category1\"]\n",
    "print(topCats)\n",
    "topCats = list(topCats)"
   ]
  },
  {
   "cell_type": "code",
   "execution_count": 974,
   "metadata": {},
   "outputs": [],
   "source": [
    "sampDf = df[df[\"category1\"].apply(lambda x: x in topCats)]"
   ]
  },
  {
   "cell_type": "code",
   "execution_count": 975,
   "metadata": {},
   "outputs": [
    {
     "name": "stderr",
     "output_type": "stream",
     "text": [
      "/tmp/ipykernel_1749053/1225967707.py:3: DeprecationWarning: DataFrameGroupBy.apply operated on the grouping columns. This behavior is deprecated, and in a future version of pandas the grouping columns will be excluded from the operation. Either pass `include_groups=False` to exclude the groupings or explicitly select the grouping columns after groupby to silence this warning.\n",
      "  sampDf = sampDf.groupby(by=\"category1\").apply(lambda x: x.sample(SAMP_NUM, random_state=SEED)).droplevel(\"category1\")\n"
     ]
    }
   ],
   "source": [
    "SAMP_NUM = 100\n",
    "SEED = 24\n",
    "sampDf = sampDf.groupby(by=\"category1\").apply(lambda x: x.sample(SAMP_NUM, random_state=SEED)).droplevel(\"category1\")"
   ]
  },
  {
   "cell_type": "code",
   "execution_count": null,
   "metadata": {},
   "outputs": [
    {
     "ename": "",
     "evalue": "",
     "output_type": "error",
     "traceback": [
      "\u001b[1;31mnotebook controller is DISPOSED. \n",
      "\u001b[1;31mView Jupyter <a href='command:jupyter.viewOutput'>log</a> for further details."
     ]
    }
   ],
   "source": [
    "def wrap(inStr): \n",
    "    i = 0 \n",
    "    STEP = 20\n",
    "    splitStr = inStr.split()\n",
    "    outStr = \"\"\n",
    "    while i < len(splitStr): \n",
    "        if i + STEP < len(splitStr):\n",
    "            outStr += \" \".join(splitStr[i:i+STEP]) + \"\\n\"\n",
    "        else: \n",
    "            outStr +=  \" \".join(splitStr[i:]) + \"\\n\"\n",
    "        i += STEP\n",
    "    print(outStr)"
   ]
  },
  {
   "cell_type": "code",
   "execution_count": 910,
   "metadata": {},
   "outputs": [],
   "source": [
    "#df.head()[\"transcript\"]\n",
    "#did some checks on data quality and things look better after 4-gram cleaning\n",
    "#print(wrap(df.sample()[\"transcript\"].item()))"
   ]
  },
  {
   "cell_type": "code",
   "execution_count": 911,
   "metadata": {},
   "outputs": [],
   "source": [
    "def cleaner(inStr, LEN): \n",
    "    #clean out all tags in brackets or parenthesis\n",
    "    inStr = re.sub(r'\\[[^()]*\\]\\s*', '', inStr)\n",
    "    inStr = re.sub(r'\\([^()]*\\)\\s*', '', inStr)\n",
    "    \n",
    "    #replace paragraph breaks with new lines  \n",
    "    inStr = re.sub(\"</p>\",\". \", inStr)\n",
    "    inStr = re.sub(\"</br>\", \". \", inStr)\n",
    "\n",
    "    #replace all other tags with space\n",
    "    inStr = re.sub(\"<.+?>\", \" \", inStr)\n",
    "\n",
    "    #replace all amounts of space with a single space \n",
    "    inStr = re.sub(r\"[ \\t]+\", \" \", inStr)\n",
    "    \n",
    "    inStr = BeautifulSoup(inStr, \"html.parser\").text\n",
    "    if len(inStr.split()) > LEN: \n",
    "        inStr = \" \".join(inStr.split()[:LEN]) + \"...\"\n",
    "    \n",
    "    return inStr\n",
    "\n",
    "#TODO: clean out html tags and stuff like that...\n",
    "#TODO: just replace tags with a space and make spaces and then make one space between every word  \n",
    "\n",
    "#f\"<strong>Description:</strong><br>{description}<br><br><strong>Transcript:</strong><br>{transcript}\""
   ]
  },
  {
   "cell_type": "code",
   "execution_count": 976,
   "metadata": {},
   "outputs": [
    {
     "name": "stderr",
     "output_type": "stream",
     "text": [
      "/tmp/ipykernel_1749053/3321707436.py:16: MarkupResemblesLocatorWarning: The input looks more like a filename than markup. You may want to open this file and pass the filehandle into Beautiful Soup.\n",
      "  inStr = BeautifulSoup(inStr, \"html.parser\").text\n",
      "/tmp/ipykernel_1749053/3321707436.py:16: MarkupResemblesLocatorWarning: The input looks more like a filename than markup. You may want to open this file and pass the filehandle into Beautiful Soup.\n",
      "  inStr = BeautifulSoup(inStr, \"html.parser\").text\n"
     ]
    }
   ],
   "source": [
    "sampDf[\"descClean\"] = sampDf[\"podDescription\"].apply(cleaner, args=[150])\n",
    "sampDf[\"epDescClean\"] =  sampDf[\"epDescription\"].apply(cleaner, args=[150])"
   ]
  },
  {
   "cell_type": "code",
   "execution_count": 977,
   "metadata": {},
   "outputs": [],
   "source": [
    "#subset the columns we're working with \n",
    "sampDf = sampDf[[\"potentialOutPath\", \"descClean\", \"epDescClean\", \"transcript\", \"transEnts\", \"transTypes\",  \"rssUrl\", \"enclosure\", \"cleanDatesLoc\", \"epTitle\", \"title\"]]"
   ]
  },
  {
   "cell_type": "code",
   "execution_count": 979,
   "metadata": {},
   "outputs": [],
   "source": [
    "sampDf = sampDf.explode([\"transTypes\", \"transEnts\"])\n",
    "sampDf = sampDf[sampDf[\"transTypes\"] == \"PERSON\"]\n",
    "sampDf = sampDf.dropna(subset=[\"transEnts\"])\n",
    "sampDf = sampDf[sampDf[\"transEnts\"].apply(lambda x: len(x.split())) == 2]"
   ]
  },
  {
   "cell_type": "code",
   "execution_count": 981,
   "metadata": {},
   "outputs": [],
   "source": [
    "#only get entities where the first word starts with a capital letter \n",
    "sampDf = sampDf[sampDf[\"transEnts\"].apply(lambda x: x[0].isupper())]"
   ]
  },
  {
   "cell_type": "code",
   "execution_count": 1006,
   "metadata": {},
   "outputs": [
    {
     "name": "stderr",
     "output_type": "stream",
     "text": [
      "/tmp/ipykernel_1749053/461641280.py:62: SettingWithCopyWarning: \n",
      "A value is trying to be set on a copy of a slice from a DataFrame.\n",
      "Try using .loc[row_indexer,col_indexer] = value instead\n",
      "\n",
      "See the caveats in the documentation: https://pandas.pydata.org/pandas-docs/stable/user_guide/indexing.html#returning-a-view-versus-a-copy\n",
      "  sampDf[\"transChunk\"] = sampDf.apply(getCroppedTranscript, axis=1)\n"
     ]
    }
   ],
   "source": [
    "#crop the transcript so we can ensure we get \n",
    "def getCroppedTranscript(inRow, BUFFER=150): \n",
    "    ent = inRow[\"transEnts\"]\n",
    "    trans = inRow[\"transcript\"]\n",
    "\n",
    "    #we can assume single space between every token now? \n",
    "    trans = \" \".join(trans.split())\n",
    "\n",
    "    #trans = re.sub(r\"[^a-zA-Z ]\", \"\", trans)\n",
    "    #ent = re.sub(r\"[^a-zA-Z '.\\-]\", \"\", ent)\n",
    "    ent = re.sub(r\"\\\\\", \"\", ent)\n",
    "    ent = \" \".join(ent.split())\n",
    "    #print(ent)\n",
    "    \n",
    "    #ent = re.sub(r\"[^a-zA-Z ]\", \"\", ent)\n",
    "    #find where the entity occurs\n",
    "    match = re.search(ent, trans, re.IGNORECASE)\n",
    "\n",
    "    if match == None or len(ent) == 0: \n",
    "        return \"NO_MATCH\"\n",
    "\n",
    "    start = match.start() \n",
    "    end = match.end() \n",
    "\n",
    "    #get 200 words in either direction of our match \n",
    "    transList = trans.split()\n",
    "\n",
    "    \n",
    "    #get index for where our entity starts  \n",
    "    charIndex = 0 \n",
    "    entIndex = len(transList)\n",
    "    tokIndex = 0\n",
    "    while tokIndex < len(transList):\n",
    "        tok = transList[tokIndex]\n",
    "        #the moment our char index passes the char index \n",
    "        #of the beginning of our token, we nominate the current token index as\n",
    "        #the first one of our entity \n",
    "        if charIndex >= start:  \n",
    "            entIndex = tokIndex \n",
    "            break \n",
    "\n",
    "        #move char index ahead accounting for space inbetween words\n",
    "        charIndex += len(tok)\n",
    "        charIndex += 1         \n",
    "        tokIndex += 1\n",
    "\n",
    "   \n",
    "    #we only want entities towards the beginning of the transcript \n",
    "    if entIndex > 350: \n",
    "        return \"TOO_FAR\"\n",
    "\n",
    "\n",
    "    #ensure we won't start before or after the end of the transcript list \n",
    "    start = max(entIndex - BUFFER, 0)\n",
    "    end = min(entIndex + len(ent.split()) + 1 + BUFFER, len(transList))\n",
    "\n",
    "    transcriptChunk = \" \".join(transList[start:end])\n",
    "\n",
    "    return transcriptChunk\n",
    "\n",
    "#I confirmed that we are actually finding the entity, just not early in the transcript!\n",
    "sampDf[\"transChunk\"] = sampDf.apply(getCroppedTranscript, axis=1)\n",
    "\n"
   ]
  },
  {
   "cell_type": "code",
   "execution_count": 1008,
   "metadata": {},
   "outputs": [
    {
     "name": "stdout",
     "output_type": "stream",
     "text": [
      "deviant entity matches: 0\n",
      "prop. deviant entity matches: 0.0\n",
      "entities too far along in transcript:0\n",
      "prop. entities too far along in transcript:0.0\n"
     ]
    }
   ],
   "source": [
    "deviantRows = len(sampDf[(sampDf[\"transChunk\"] == \"NO_MATCH\") | (sampDf[\"transChunk\"] == \"NOT_IN_LIST\")])\n",
    "print(f\"deviant entity matches: {deviantRows}\")\n",
    "print(f\"prop. deviant entity matches: {deviantRows/len(sampDf)}\")\n",
    "tooFar = len(sampDf[sampDf[\"transChunk\"] == \"TOO_FAR\"])\n",
    "print(f\"entities too far along in transcript:{tooFar}\")\n",
    "print(f\"prop. entities too far along in transcript:{tooFar/len(sampDf)}\")"
   ]
  },
  {
   "cell_type": "code",
   "execution_count": 1010,
   "metadata": {},
   "outputs": [],
   "source": [
    "sampDf = sampDf[(sampDf[\"transChunk\"] != \"TOO_FAR\") & (sampDf[\"transChunk\"] != \"NO_MATCH\") & (sampDf[\"transChunk\"] != \"NOT_IN_LIST\")]"
   ]
  },
  {
   "cell_type": "code",
   "execution_count": 1081,
   "metadata": {},
   "outputs": [],
   "source": [
    "\n",
    "#fix tiny misspellings \n",
    "def getDisplayText(inRow): \n",
    "    ent = inRow[\"transEnts\"]\n",
    "\n",
    "    desc = inRow[\"descClean\"] #if inRow[\"descClean\"] == inRow[\"descClean\"] and inRow[\"descClean\"] != None else \"\" \n",
    "    epDesc = inRow[\"epDescClean\"] #if inRow[\"epDescClean\"] == inRow[\"epDescClean\"] and inRow[\"epDescClean\"] != None else \"\" \n",
    "    trans = inRow[\"transChunk\"] #if inRow[\"transcript\"] == inRow[\"transcript\"] and inRow[\"transcript\"] != None else \"\" \n",
    "    fullTrans = inRow[\"transcript\"]\n",
    "\n",
    "    #add ellipses if we've modified the transcript in any way \n",
    "    fullTrans = \" \".join(fullTrans.split())\n",
    "    if trans[:3] != fullTrans[:3]: \n",
    "        trans = \"...\" + trans\n",
    "    \n",
    "    allText = \"<strong>Podcast Description:</strong><br>\" + desc + \"<br><br><strong>Podcast Episode Description:</strong><br>\" + epDesc \\\n",
    "    + \"<br><br><strong>Podcast Transcript Excerpt:</strong><br>\" + trans\n",
    "\n",
    "    #remove html tags, as they mess up the formatting\n",
    "    #also remove any extraneous spaces \n",
    "    allText = re.sub(r\"http[^\\s<]*\", \"[hyperlink]\", allText)\n",
    "    allText = \" \".join(allText.split())\n",
    "    #allText = allText.lower()\n",
    "\n",
    "    #clean up the entity a bit here \n",
    "    #single space in-between should align with our cleaning in text above \n",
    "    ent = re.sub(r\"\\\\\", \"\", ent)\n",
    "    ent = ent.replace(\".\", \"\\.\").replace(\"*\", \"\\*\").replace(\"+\", \"\\+\").replace(\"?\", \"\\?\")\n",
    "    ent = \" \".join(ent.split())\n",
    "\n",
    "    #print(ent)\n",
    "    #bold full occurences of the entity \n",
    "    #note that we match irrespective of case \n",
    "    outText = re.sub(ent, f'<span style=\"background-color:#00FF00\">{ent}</span>', allText, flags=re.IGNORECASE)\n",
    "    outText = outText.replace(\"<a href=\", \"\")\n",
    "    \n",
    "    #if we have a multi-word entity, highlight the first word where it hasn't already been bolded \n",
    "    firstEnt = ent.split()[0]\n",
    "    if len(ent.split()) > 1: \n",
    "        outText = re.sub(r\"(?<!>)\" + firstEnt, f'<span style=\"background-color:#00FF00\">{firstEnt}</span>', outText, flags=re.IGNORECASE)\n",
    "\n",
    "    outText = f\"<span style='background-color:#00FF00'>Target Entity: {ent}</span><br><br>{outText}\"\n",
    "    return outText\n",
    "    #return [[item.start(), item.end(), ent] for item in re.finditer(ent, allText)]\n",
    "\n",
    "sampDf[\"displayText\"] = list(sampDf.apply(getDisplayText, axis=1))\n",
    "#sampDf.head().apply(getEntIx, axis=1)"
   ]
  },
  {
   "cell_type": "code",
   "execution_count": 1082,
   "metadata": {},
   "outputs": [],
   "source": [
    "sampDf = sampDf.drop(columns=[\"text\"])"
   ]
  },
  {
   "cell_type": "code",
   "execution_count": 1044,
   "metadata": {},
   "outputs": [],
   "source": [
    "sampDf[\"cleanEnt\"] = sampDf[\"transEnts\"].apply(lambda x: re.sub(r\"[^a-zA-Z ]\" , \"\", x.lower()))"
   ]
  },
  {
   "cell_type": "code",
   "execution_count": 1045,
   "metadata": {},
   "outputs": [],
   "source": [
    "#shuffle rows, remove duplicates on the cleaned version of our entities\n",
    "#then get one row per show \n",
    "sampDf = sampDf.sample(len(sampDf)).drop_duplicates(\"cleanEnt\").drop_duplicates(\"rssUrl\")"
   ]
  },
  {
   "cell_type": "code",
   "execution_count": 1046,
   "metadata": {},
   "outputs": [
    {
     "name": "stdout",
     "output_type": "stream",
     "text": [
      "shape after dropping duplicates on entity and podcast: (1342, 14)\n"
     ]
    }
   ],
   "source": [
    "print(f\"shape after dropping duplicates on entity and podcast: {sampDf.shape}\")"
   ]
  },
  {
   "cell_type": "code",
   "execution_count": 1067,
   "metadata": {},
   "outputs": [
    {
     "name": "stdout",
     "output_type": "stream",
     "text": [
      "<span style='background-color:#00FF00'>Target Entity: Charlie Chan</span><br><br><strong>Podcast Description:</strong><br><span style=\"background-color:#00FF00\">Charlie Chan</span> was heard in several different series on three networks between 1932 and\n",
      "1948. Walter Connolly initially portrayed Chan on Esso Oil's Five Star Theater, which serialized adaptations of Biggers novels. Hosted on\n",
      "Acast. See acast.com/privacy for more information.. <br><br><strong>Podcast Episode Description:</strong><br>A new episodeAdvertising Inquiries: https://redcircle.com/brandsPrivacy & Opt-Out: https://redcircle.com/privacy Hosted on Acast. See\n",
      "acast.com/privacy for more information.. <br><br><strong>Podcast Transcript Excerpt:</strong><br>Breathe in the bacon. Breathe out the bacon. In bacon. Out bacon. Time for\n",
      "bacon. Find delicious satisfaction with the Double Western Bacon Cheeseburger. Only at Carl's Jr. Feed your Happy. Available to participating\n",
      "at Carl's Jr. Restaurant, Price and Participation. May be very-- [MUSIC PLAYING] [MUSIC PLAYING] [MUSIC PLAYING] The incomparable <span style=\"background-color:#00FF00\">Charlie\n",
      "Chan</span>. [MUSIC PLAYING] We proudly present the incomparable <span style=\"background-color:#00FF00\">Charlie Chan</span> in a new and exciting series of adventures, combining\n",
      "the wisdom of the east and the science of the west. In a dramatic chapter of, \"The Adventures of <span\n",
      "style=\"background-color:#00FF00\">Charlie Chan</span>,.\" [MUSIC PLAYING] <span style=\"background-color:#00FF00\">Charlie Chan</span>, I'm the big, you good evening and extends warm welcome. It is written\"\"\n",
      "\"Man who gives good counsel to others becomes full when advising self,.\" Tonight, we meet persons who advise self how\n",
      "to escape murder. Person is <span style=\"background-color:#00FF00\">Charlie Chan</span>. Listen, please. Thank you. [MUSIC PLAYING] Tonight's adventure, the case of the\n",
      "Talking Dolls. [MUSIC PLAYING] [MUSIC PLAYING] It is five o'clock in the morning. Bleak dawn brightens the twisted building of\n",
      "the San Francisco waterfront. Inside a machine shop, a ramshackle wolf, two men stand over a workbench, aren't we? While\n",
      "one operates two with quick, sure fingers. Knife. We've got to get out of here. Keep\n",
      "\n"
     ]
    }
   ],
   "source": [
    "wrap(sampDf[\"text\"].iloc[900])"
   ]
  },
  {
   "cell_type": "code",
   "execution_count": 1080,
   "metadata": {},
   "outputs": [
    {
     "name": "stdout",
     "output_type": "stream",
     "text": [
      "<span style='background-color:#00FF00'>Target Entity: David Elstein</span><br><br><strong>Podcast Description:</strong><br> Ready to explore the world of film like never before? . Join Jay Finlayson,\n",
      "a twenty-something-year-old working and living in the Film industry driven by a worrying Coffee Addiction on his journey through the\n",
      "silver screen! It's time to leave Netflix binging behind, and tune in, unlocking the secrets of the silver screen. From\n",
      "elusive directors, wity commentary, to up-and-coming actors, get ready to explore the thrilling world of film with Ramblings with Jay\n",
      "Finlayson!. Whether it's discovering hidden gems or revisiting the classics, Jay's got you covered.. So what are you waiting for?.\n",
      "Let Ramblings with Jay Finlayson be your guide to a world full of exciting film insights and fascinating conversations.. Subscribe\n",
      "now and join me on a magical journey full of movies and fascinating conversations and my misadventures.. Tune in today!.\n",
      "Follow me to keep up-to-date . <a href=\"[hyperlink]<br><br><strong>Podcast Episode Description:</strong><br> Torture porn is a name given to a genre of\n",
      "films that exploits violence and torture of the film characters for satisfaction of the antagonist, but can it also be\n",
      "used as stereotypical porn? In this episode I use Adam Rehmeier's 2012 The Bunny Game as an example of similar\n",
      "films that are boarding pornographic material.. . Become a member at [hyperlink] .. Hosted on Acast. See acast.com/privacy for more\n",
      "information.. <br><br><strong>Podcast Transcript Excerpt:</strong><br>...western world shifts the genre and pushes on-screen go further. Whilst in the eastern part of the\n",
      "year. Sorry about that. I mean whilst in the eastern part of Europe, violence is more open and failed of\n",
      "goal. The films like G, Gug, 1960 and Salo, or Lee, 120, Gornet D, Sordama which is 120 days of\n",
      "Sordam from 1975. Exploiting violence for Sal's faction of the films antagonist but followed a lecture of subliminal, plot, politician\n",
      "messages for an audience to indulge in. Torture films were introduced in the western mainstream cinema with the 1980s in\n",
      "Italian horror, Cannibal Holocaust. Due to the mainstream audience offense to this film, the trend ended rather rapidly in the\n",
      "mainstream cinema. Burned breast in the early 2000s with films like Hostel and Soul, now kicked off the torture films\n",
      "in the western parts of the world and deemed as torture porn by <span style=\"background-color:#00FF00\">David Elstein</span> in his 2006 article\n",
      "now playing at your local multiplex torture porn. Elstein quoted in his article, some of these movies are sufficiently nihilistic,\n",
      "now the only point seems to be to force you to suspend more judgements altogether. But aren't these movies made\n",
      "with intent for statistic entertainment throughout pornography of suffering? Soul definition of pornography is printed or facial material contained in\n",
      "the exploited description of display of sexual organs or activity in tended to stimulate sexual excitement. So can torture porn\n",
      "be used as a sexual stimulant? Do you ever want to sit down and talk to yourself and make it\n",
      "legible to actually talk to yourself? Basically, anchor is just a website and all app depends whichever device you're using,\n",
      "laptop or your mobile phone, an iPad, whatever. You can download the anchor app and create your own podcast that\n",
      "has everything you need ranging from distribution\n",
      "\n"
     ]
    }
   ],
   "source": [
    "wrap(sampDf[sampDf[\"transEnts\"] == \"David Elstein\"][\"text\"].item())"
   ]
  },
  {
   "cell_type": "code",
   "execution_count": 1083,
   "metadata": {},
   "outputs": [],
   "source": [
    "sampDf = sampDf.rename(columns={\"displayText\":\"text\", \"enclosure\":\"id\"})"
   ]
  },
  {
   "cell_type": "code",
   "execution_count": 1084,
   "metadata": {},
   "outputs": [],
   "source": [
    "#WHERE WERE GOING TO OUTPUT FOR NOW\n",
    "sampDf.to_json(\"/shared/3/projects/benlitterer/podcastData/annotation/2kpodsClassification.jsonl\", orient=\"records\", lines=True)"
   ]
  },
  {
   "cell_type": "code",
   "execution_count": 1065,
   "metadata": {},
   "outputs": [
    {
     "name": "stdout",
     "output_type": "stream",
     "text": [
      "<span style='background-color:#00FF00'>Target Entity: David Elstein</span><br><br><strong>Podcast Description:</strong><br> Ready to explore the world of film like never before? . Join Jay Finlayson,\n",
      "a twenty-something-year-old working and living in the Film industry driven by a worrying Coffee Addiction on his journey through the\n",
      "silver screen! It's time to leave Netflix binging behind, and tune in, unlocking the secrets of the silver screen. From\n",
      "elusive directors, wity commentary, to up-and-coming actors, get ready to explore the thrilling world of film with Ramblings with Jay\n",
      "Finlayson!. Whether it's discovering hidden gems or revisiting the classics, Jay's got you covered.. So what are you waiting for?.\n",
      "Let Ramblings with Jay Finlayson be your guide to a world full of exciting film insights and fascinating conversations.. Subscribe\n",
      "now and join me on a magical journey full of movies and fascinating conversations and my misadventures.. Tune in today!.\n",
      "Follow me to keep up-to-date . <a href=\"https://Faceb<br><br><strong>Podcast Episode Description:</strong><br> Torture porn is a name given to a genre of\n",
      "films that exploits violence and torture of the film characters for satisfaction of the antagonist, but can it also be\n",
      "used as stereotypical porn? In this episode I use Adam Rehmeier's 2012 The Bunny Game as an example of similar\n",
      "films that are boarding pornographic material.. . Become a member at https://plus.acast.com/s/ramblings-with-jay-finlayson .. Hosted on Acast. See acast.com/privacy for more\n",
      "information.. <br><br><strong>Podcast Transcript Excerpt:</strong><br>...western world shifts the genre and pushes on-screen go further. Whilst in the eastern part of the\n",
      "year. Sorry about that. I mean whilst in the eastern part of Europe, violence is more open and failed of\n",
      "goal. The films like G, Gug, 1960 and Salo, or Lee, 120, Gornet D, Sordama which is 120 days of\n",
      "Sordam from 1975. Exploiting violence for Sal's faction of the films antagonist but followed a lecture of subliminal, plot, politician\n",
      "messages for an audience to indulge in. Torture films were introduced in the western mainstream cinema with the 1980s in\n",
      "Italian horror, Cannibal Holocaust. Due to the mainstream audience offense to this film, the trend ended rather rapidly in the\n",
      "mainstream cinema. Burned breast in the early 2000s with films like Hostel and Soul, now kicked off the torture films\n",
      "in the western parts of the world and deemed as torture porn by <span style=\"background-color:#00FF00\">David Elstein</span> in his 2006 article\n",
      "now playing at your local multiplex torture porn. Elstein quoted in his article, some of these movies are sufficiently nihilistic,\n",
      "now the only point seems to be to force you to suspend more judgements altogether. But aren't these movies made\n",
      "with intent for statistic entertainment throughout pornography of suffering? Soul definition of pornography is printed or facial material contained in\n",
      "the exploited description of display of sexual organs or activity in tended to stimulate sexual excitement. So can torture porn\n",
      "be used as a sexual stimulant? Do you ever want to sit down and talk to yourself and make it\n",
      "legible to actually talk to yourself? Basically, anchor is just a website and all app depends whichever device you're using,\n",
      "laptop or your mobile phone, an iPad, whatever. You can download the anchor app and create your own podcast that\n",
      "has everything you need ranging from distribution\n",
      "\n"
     ]
    }
   ],
   "source": [
    "wrap(sampDf[sampDf[\"transEnts\"].str.contains(\"David Elstein\")].loc[:,\"text\"].item())"
   ]
  },
  {
   "cell_type": "code",
   "execution_count": 101,
   "metadata": {},
   "outputs": [
    {
     "name": "stdout",
     "output_type": "stream",
     "text": [
      "Justin\n",
      "content [MUSIC] This is the hypothetical podcast where three pathetic guys discuss hypothetical situations. On this episode\" Peter asks Justin and Matt\" how would you get away with murder? Before you listen to the episode\" go ahead and follow us on all our socials and subscribe to the podcast. [MUSIC] All right\" hello and welcome to another episode of Hypotheticales. I remember the name this time\" so kudos to me. This is going to be a little bit of an interesting episode\" a little bit of a different episode because it's me asking the questions and you don't get to hear my hilarious answers instead you have to hear these shitty answers. So\" yeah\" fun with that. My name is Peter and this is Justin and Matt. Justin. Hello. And Matt. Yes\" hello. How are you guys doing? How's your long weekend doing? It's Victoria Day here in Canada. So\" you know\" it's just another holiday for us\" so we're enjoying it. What have you guys been up to this weekend? Oh\" just staring into the abyss. I mean\" I don't know how to properly celebrate a weekend when every single day has essentially been a copy paste of the previous day\" minus an extra fucking step towards my own death\" but pretty much otherwise everything's okay. I didn't do anything for like the holiday weekend. I mean\" frankly\" there's nothing to do. I mean\" I'm going to go out and\" I mean\" nothing. Nothing happened. I essentially\" I ate french fries. That's the fucking exciting moment of my day of this entire weekend was I ate french fries. That was pretty good. Yeah. What about you\" Justin? I tried to enjoy the sunshine on Saturday. It was the only nice day of the weekend. So\" sat outside and drank some beer and\" you know\" tried to enjoy it and then just been kind of stuck inside now that it's raining for the next three or four days. And longingly looked ahead to the weather for next week\" hoping that the weather man is right because it's supposed to be a beauty. But other than that\" not much. I mean\" kind of to harp back to what Matt was saying\" living in these strange times in quarantine. Every day is sort of a repeat of the previous ones. So\" it's kind of the weekends and the weekdays all kind of blend together into this one sort of\" you know\" melted form of a day. So\" it's just a matter of trying to look at the positives. Yeah. And I guess one of the positives is it's another episode of Hypothetical's today. That is a positive. My favorite part of the week\" Mondays. Yes. So\" without further ado\" we will give you your question. Again\" Matt and Justin are\" yeah\" Matt and Justin. Yeah. I was going to say Peter and Justin. I was like\" wait a second. I'm Peter. Matt and Justin have had no prior knowledge of what question\n"
     ]
    }
   ],
   "source": [
    "test = sampDf.iloc[0]\n",
    "print(test[\"allEnts\"])\n",
    "print(test[\"first500\"])\n"
   ]
  },
  {
   "cell_type": "code",
   "execution_count": 103,
   "metadata": {},
   "outputs": [
    {
     "data": {
      "text/plain": [
       "19205     [Justin, Justin, Justin, Justin, Justin, Justi...\n",
       "19205     [Justin, Justin, Justin, Justin, Justin, Justi...\n",
       "19205     [Justin, Justin, Justin, Justin, Justin, Justi...\n",
       "21768                      [Hilder, Hilder, Hilder, Hilder]\n",
       "21768                      [Hilder, Hilder, Hilder, Hilder]\n",
       "                                ...                        \n",
       "585714                                             [Finney]\n",
       "585714                                     [Lauren, Lauren]\n",
       "585715                                     [Lauren, Lauren]\n",
       "585715                     [Skyler, Skyler, Skyler, Skyler]\n",
       "585715                     [Skyler, Skyler, Skyler, Skyler]\n",
       "Length: 579, dtype: object"
      ]
     },
     "execution_count": 103,
     "metadata": {},
     "output_type": "execute_result"
    }
   ],
   "source": [
    "sampDf.apply(createOutput, axis=1)"
   ]
  },
  {
   "cell_type": "code",
   "execution_count": 277,
   "metadata": {},
   "outputs": [],
   "source": [
    "sampDf = sampDf.groupby(\"rssUrl\").agg(list)"
   ]
  },
  {
   "cell_type": "code",
   "execution_count": 278,
   "metadata": {},
   "outputs": [
    {
     "data": {
      "text/plain": [
       "(400, 8)"
      ]
     },
     "execution_count": 278,
     "metadata": {},
     "output_type": "execute_result"
    }
   ],
   "source": [
    "sampDf.shape"
   ]
  },
  {
   "cell_type": "code",
   "execution_count": 279,
   "metadata": {},
   "outputs": [],
   "source": [
    "outDf = {col:[] for col in sampDf.columns}\n",
    "outDf[\"rssUrl\"] = []\n",
    "\n",
    "N_PER_POD=3\n",
    "for i, row in sampDf.iterrows(): \n",
    "    numPods = len(row[\"enclosure\"])\n",
    "    nToSamp = min(numPods, N_PER_POD)\n",
    "    sampIndices = random.sample(list(range(0, numPods)), nToSamp)\n",
    "\n",
    "    #for each index we want to grab\n",
    "    for ind in sampIndices:\n",
    "        outDf[\"rssUrl\"].append(i)\n",
    "        \n",
    "        #get the data from each column \n",
    "        for col in sampDf.columns: \n",
    "            outDf[col].append(row[col][ind])\n"
   ]
  },
  {
   "cell_type": "code",
   "execution_count": 280,
   "metadata": {},
   "outputs": [],
   "source": [
    "sampDf = pd.DataFrame(outDf)"
   ]
  },
  {
   "cell_type": "code",
   "execution_count": 281,
   "metadata": {},
   "outputs": [
    {
     "data": {
      "text/plain": [
       "<Axes: xlabel='count', ylabel='count'>"
      ]
     },
     "execution_count": 281,
     "metadata": {},
     "output_type": "execute_result"
    },
    {
     "data": {
      "image/png": "[encoded data removed]",
      "text/plain": [
       "<Figure size 640x480 with 1 Axes>"
      ]
     },
     "metadata": {},
     "output_type": "display_data"
    }
   ],
   "source": [
    "countDist = pd.DataFrame(sampDf[\"rssUrl\"].value_counts())\n",
    "sns.countplot(data=countDist, x=\"count\")"
   ]
  },
  {
   "cell_type": "code",
   "execution_count": 282,
   "metadata": {},
   "outputs": [
    {
     "data": {
      "text/html": [
       "<div>\n",
       "<style scoped>\n",
       "    .dataframe tbody tr th:only-of-type {\n",
       "        vertical-align: middle;\n",
       "    }\n",
       "\n",
       "    .dataframe tbody tr th {\n",
       "        vertical-align: top;\n",
       "    }\n",
       "\n",
       "    .dataframe thead th {\n",
       "        text-align: right;\n",
       "    }\n",
       "</style>\n",
       "<table border=\"1\" class=\"dataframe\">\n",
       "  <thead>\n",
       "    <tr style=\"text-align: right;\">\n",
       "      <th></th>\n",
       "      <th>transcript</th>\n",
       "      <th>enclosure</th>\n",
       "      <th>cleanDatesLoc</th>\n",
       "      <th>epTitle</th>\n",
       "      <th>title</th>\n",
       "      <th>podDescription</th>\n",
       "      <th>epDescription</th>\n",
       "      <th>displayText</th>\n",
       "      <th>rssUrl</th>\n",
       "    </tr>\n",
       "  </thead>\n",
       "  <tbody>\n",
       "    <tr>\n",
       "      <th>0</th>\n",
       "      <td>(gentle music) Hey, it's great to see you here...</td>\n",
       "      <td>http://ehope.sermon.net/21599916/controller/li...</td>\n",
       "      <td>2020-05-30 16:50:00+00:00</td>\n",
       "      <td>You Can Run But You Can’t Hide</td>\n",
       "      <td>Hope Church (Dubuque, IA)</td>\n",
       "      <td>Sermons from Hope Church in Dubuque, Iowa.</td>\n",
       "      <td>Sermons from Hope Church in Dubuque, Iowa.</td>\n",
       "      <td>&lt;strong&gt;Description:&lt;/strong&gt;&lt;br&gt;Sermons from ...</td>\n",
       "      <td>http://ehope.sermon.net/rss/main/audio</td>\n",
       "    </tr>\n",
       "    <tr>\n",
       "      <th>1</th>\n",
       "      <td>[Music] Hey, welcome. I hope your week went we...</td>\n",
       "      <td>http://ehope.sermon.net/21595920/controller/li...</td>\n",
       "      <td>2020-05-23 21:34:00+00:00</td>\n",
       "      <td>Can You Really Run from God?</td>\n",
       "      <td>Hope Church (Dubuque, IA)</td>\n",
       "      <td>Sermons from Hope Church in Dubuque, Iowa.</td>\n",
       "      <td>Sermons from Hope Church in Dubuque, Iowa.</td>\n",
       "      <td>&lt;strong&gt;Description:&lt;/strong&gt;&lt;br&gt;Sermons from ...</td>\n",
       "      <td>http://ehope.sermon.net/rss/main/audio</td>\n",
       "    </tr>\n",
       "    <tr>\n",
       "      <th>2</th>\n",
       "      <td>[Music] Hey Pastor Matt here. Glad you joined ...</td>\n",
       "      <td>http://ehope.sermon.net/21591639/controller/li...</td>\n",
       "      <td>2020-05-16 17:15:00+00:00</td>\n",
       "      <td>Your Most Important Yes</td>\n",
       "      <td>Hope Church (Dubuque, IA)</td>\n",
       "      <td>Sermons from Hope Church in Dubuque, Iowa.</td>\n",
       "      <td>Sermons from Hope Church in Dubuque, Iowa.</td>\n",
       "      <td>&lt;strong&gt;Description:&lt;/strong&gt;&lt;br&gt;Sermons from ...</td>\n",
       "      <td>http://ehope.sermon.net/rss/main/audio</td>\n",
       "    </tr>\n",
       "    <tr>\n",
       "      <th>3</th>\n",
       "      <td>Welcome. Welcome to Big Valley Grace Community...</td>\n",
       "      <td>https://bigvalleygrace.s3-us-west-1.amazonaws....</td>\n",
       "      <td>2020-05-31 16:00:00+00:00</td>\n",
       "      <td>Message: BREAK THROUGH || part 3</td>\n",
       "      <td>The Big Valley Grace Podcast</td>\n",
       "      <td>The Big Valley Grace Podcast</td>\n",
       "      <td>Message: Pastor Joel Boone || Breakthrough is ...</td>\n",
       "      <td>&lt;strong&gt;Description:&lt;/strong&gt;&lt;br&gt;Message: Past...</td>\n",
       "      <td>http://feeds.feedburner.com/TheBVGPodcast</td>\n",
       "    </tr>\n",
       "    <tr>\n",
       "      <th>4</th>\n",
       "      <td>Welcome. Welcome to Big Valley Grace Community...</td>\n",
       "      <td>https://bigvalleygrace.s3-us-west-1.amazonaws....</td>\n",
       "      <td>2020-05-27 16:09:55+00:00</td>\n",
       "      <td>Message: BREAK THROUGH || part 2</td>\n",
       "      <td>The Big Valley Grace Podcast</td>\n",
       "      <td>The Big Valley Grace Podcast</td>\n",
       "      <td>Message: Pastor Joel Boone || Breakthrough is ...</td>\n",
       "      <td>&lt;strong&gt;Description:&lt;/strong&gt;&lt;br&gt;Message: Past...</td>\n",
       "      <td>http://feeds.feedburner.com/TheBVGPodcast</td>\n",
       "    </tr>\n",
       "  </tbody>\n",
       "</table>\n",
       "</div>"
      ],
      "text/plain": [
       "                                          transcript  \\\n",
       "0  (gentle music) Hey, it's great to see you here...   \n",
       "1  [Music] Hey, welcome. I hope your week went we...   \n",
       "2  [Music] Hey Pastor Matt here. Glad you joined ...   \n",
       "3  Welcome. Welcome to Big Valley Grace Community...   \n",
       "4  Welcome. Welcome to Big Valley Grace Community...   \n",
       "\n",
       "                                           enclosure  \\\n",
       "0  http://ehope.sermon.net/21599916/controller/li...   \n",
       "1  http://ehope.sermon.net/21595920/controller/li...   \n",
       "2  http://ehope.sermon.net/21591639/controller/li...   \n",
       "3  https://bigvalleygrace.s3-us-west-1.amazonaws....   \n",
       "4  https://bigvalleygrace.s3-us-west-1.amazonaws....   \n",
       "\n",
       "               cleanDatesLoc                           epTitle  \\\n",
       "0  2020-05-30 16:50:00+00:00    You Can Run But You Can’t Hide   \n",
       "1  2020-05-23 21:34:00+00:00      Can You Really Run from God?   \n",
       "2  2020-05-16 17:15:00+00:00           Your Most Important Yes   \n",
       "3  2020-05-31 16:00:00+00:00  Message: BREAK THROUGH || part 3   \n",
       "4  2020-05-27 16:09:55+00:00  Message: BREAK THROUGH || part 2   \n",
       "\n",
       "                          title                              podDescription  \\\n",
       "0     Hope Church (Dubuque, IA)  Sermons from Hope Church in Dubuque, Iowa.   \n",
       "1     Hope Church (Dubuque, IA)  Sermons from Hope Church in Dubuque, Iowa.   \n",
       "2     Hope Church (Dubuque, IA)  Sermons from Hope Church in Dubuque, Iowa.   \n",
       "3  The Big Valley Grace Podcast                The Big Valley Grace Podcast   \n",
       "4  The Big Valley Grace Podcast                The Big Valley Grace Podcast   \n",
       "\n",
       "                                       epDescription  \\\n",
       "0         Sermons from Hope Church in Dubuque, Iowa.   \n",
       "1         Sermons from Hope Church in Dubuque, Iowa.   \n",
       "2         Sermons from Hope Church in Dubuque, Iowa.   \n",
       "3  Message: Pastor Joel Boone || Breakthrough is ...   \n",
       "4  Message: Pastor Joel Boone || Breakthrough is ...   \n",
       "\n",
       "                                         displayText  \\\n",
       "0  <strong>Description:</strong><br>Sermons from ...   \n",
       "1  <strong>Description:</strong><br>Sermons from ...   \n",
       "2  <strong>Description:</strong><br>Sermons from ...   \n",
       "3  <strong>Description:</strong><br>Message: Past...   \n",
       "4  <strong>Description:</strong><br>Message: Past...   \n",
       "\n",
       "                                      rssUrl  \n",
       "0     http://ehope.sermon.net/rss/main/audio  \n",
       "1     http://ehope.sermon.net/rss/main/audio  \n",
       "2     http://ehope.sermon.net/rss/main/audio  \n",
       "3  http://feeds.feedburner.com/TheBVGPodcast  \n",
       "4  http://feeds.feedburner.com/TheBVGPodcast  "
      ]
     },
     "execution_count": 282,
     "metadata": {},
     "output_type": "execute_result"
    }
   ],
   "source": [
    "#sanity check\n",
    "sampDf.head()"
   ]
  },
  {
   "cell_type": "code",
   "execution_count": 283,
   "metadata": {},
   "outputs": [
    {
     "name": "stdout",
     "output_type": "stream",
     "text": [
      "<strong>Description:</strong><br>Sermons from Hope Church in Dubuque, Iowa.<br><br><strong>Transcript:</strong><br>Hey, it's great to see you here today, even though I really can't see you, hopefully you can see me. But hey, we're gonna be continuing our series on Jonah. And Matt, last week Matt kind of started out the series. And as he ended it, he ended where I'm gonna be picking up where Jonah's on the ship and he's gonna get thrown off. And Matt ended it by talking about the title of, \"Dump the Chump,.\" But I figured I would go with a little more Greek title and call it\"\" \"You can run, but you can't hide,.\" And so when we think about what's going on here, the background that's going on is, Jonah has been called by God to go to Nineveh. And he's been called to go to Nineveh and to preach to these people. These people are evil people. People in Israel really did not like the Ninevehites. The Israelites really didn't like the Ninevehites at all. They were just evil people that they didn't wanna be around. And as Jonah is called by God, God says\"\" \"I want you to go to Nineveh,.\" And so what we find out is that Jonah goes down and he gets on a ship and he starts ahead to Tarsus. So I wanna show you what this looks like. Jonah is here. He's in Japa and God calls him to go to Nineveh, about 500 miles. So what Jonah decides to do is I'm gonna get in a ship and I'm gonna go to Tarsus. So it's not like he says, I'm gonna go out and go to the next town or the next city. He says\"\" \"I'm gonna go 2,500 miles away,.\" So God says\"\" \"I want you to go to Nineveh, 500 miles this way,.\"...\n",
      "<strong>Description:</strong><br>Sermons from Hope Church in Dubuque, Iowa.<br><br><strong>Transcript:</strong><br>Hey, welcome. I hope your week went well. So he was a fugitive. He was accused of murdering his wife. He escaped from the law and the U.S. Marshals were after him. And every week we tuned in to see whether he would get apprehended or whether he would get away. And of course, I'm talking about the TV series, The Fugitive. The TV series was filmed in 1967, and then a film came out, I think Harrison Ford was in it, in 1995. But I always wondered, is he going to get caught? Is Robert, Dr. Robert Kimball going to get caught this week? And each week you kept wondering, how is he going to get away? And will he ever get his name exonerated? This weekend we're going to look at another fugitive. He's not running from U.S. Marshals, he's actually running from God. And it's a prophet from the Old Testament, his name is Jonah. And you could turn in your Bibles to Jonah, we're going to talk about Jonah. I just want to address a few things right up front about the book of Jonah. Many people, critics, especially of the Bible, say, well Jonah's a whale of a tail, right? It's a fictitious story, it's make believe, it's good to tell children, but ultimately we can't believe in it. And ultimately the root of that issue is unbelief. The root of that issue is the person and many people do struggle with the idea of miracles. But here's the thing, if you believe in the existence of God and you believe that God, the miracle of creation, if you believe in the resurrection of Jesus Christ, then any other miracle is not really a big problem when you think about it. If you can get...\n",
      "<strong>Description:</strong><br>Sermons from Hope Church in Dubuque, Iowa.<br><br><strong>Transcript:</strong><br>Hey Pastor Matt here. Glad you joined us. I guess my wife's been calling me a little bit shaggy and maybe you're having the same experience in your home. I hope your week went well. I hope that you're enjoying the weather that we're getting. It's a little bit warmer. You're able to get out, get in the yard. I hope you're able to do that. That helps a lot, doesn't it? Hey, we've been talking in this series about five words that can really transform your relationships. And this is going to close that series off. And we're going to look at the last word. And the last word, the one we want to look at this weekend, is yes. Now, we're going to go to a passage in Corinthians, 2 Corinthians, and Paul had this kind of difficult relationship with the church at Corinth. They accused him of being wishy washy, and they challenged him. And Paul wrote a number of letters. We have two of the letters that Paul wrote, but he wrote more than that. And so they basically said, Paul, you're kind of wishy washy. You know you say yes, but then you go back on your word. And Paul writes to defend himself in 2 Corinthians, chapter 1, starting at verse-- well, it's early, verse 16 or so. Now, what we want to do is I want to read, starting at verse 18. So I'm in 2 Corinthians, chapter 1, verse 18. Let me start reading, and then I'll tell you, because this is really an interesting passage. Here's what Paul says., \"The Son of God, Jesus Christ, who has preached among you, by us, by me and Silas, and Timothy was not yes and no. But in him, it has always been yes....\n",
      "<strong>Description:</strong><br>Message: Pastor Joel Boone || Breakthrough is a multi week series focusing on God’s favor and gifts to us, and how we are to live in response. <br><br><strong>Transcript:</strong><br>Welcome. Welcome to Big Valley Grace Community Church here on the Modesto campus in the worship center in the venue. Welcome to everyone who is with us in our online campus. We're glad to be together. You know, over these past 12 weeks, my family, they've been doing church in the backyard. And so, family, I hope you're having fun in the backyard right now, okay? And it's good to be together. We're in a series called Breakthrough. And Wednesday night, Pastor Lonnie is going to finish up this series in our Wednesday night Bible study at 7 p.m. And so, you're going to want to make sure that you're watching online Wednesday night at 7. It's going to be a really great message from Pastor Lonnie. Today, we're going to be in Daniel chapter 3, would encourage you to turn there. I don't know if you sensed during this season that you have felt under attack. It might be that all that's going on with the COVID-19 has caused you to feel under attack. It may be that there is something going on in a relationship that you have that has caused you to feel under attack. There might be something happening in your health that has caused you to feel under attack. My hope would be that as we spend time in the scriptures that this passage that it would speak to you that Jesus Christ is here for you and that Jesus Christ is the breakthrough that you need. You see, the context of Daniel chapter 3, when you consider what happens in chapter 1, the very first verse, it says that Jerusalem was captured, that King Nebuchadnezzar and his army came and captured Jerusalem and they took the tribe of Judah and they exiled them to...\n",
      "<strong>Description:</strong><br>Message: Pastor Joel Boone || Breakthrough is a multi week series focusing on God’s favor and gifts to us, and how we are to live in response. <br><br><strong>Transcript:</strong><br>Welcome. Welcome to Big Valley Grace Community Church to our online campus. And we're glad that we have this ability to be together. And what a week. What a week this is. What a week this has been to be a Christian, to be a follower of Jesus Christ, to claim allegiance to Jesus Christ as both our Lord and our Savior. And in just a moment I'm going to maybe walk through what this week has kind of been from my perspective. But before we do that, I want to encourage you to take your Bible and turn to Romans chapter 13. We're going to be looking at verses one through seven together. And you can also turn to 1 Peter chapter two. We're going to be looking at verses 13 through 17 together. And I would encourage you to go ahead and get your Bible and go to those places and look at those verses where we'll be there in just a second. But before we look at those passages, I came across this verse this last week and I thought, what an incredibly appropriate verse for this moment that we're living in. It's Psalm 122 verse one. It says, I was glad. I was glad when they said to me, let us go to the house of the Lord. I was glad when they said to me, let us go, let us go to the house of the Lord. And I thought, wow, what a, what an encouraging thought even for us right now. But the context of this verse, the context of it, it's a song of a sense. It's of David. So this was a song that they would sing as they ascended to the temple of Mount in Jerusalem, the city of God. And...\n",
      "<strong>Description:</strong><br>Message: Pastor Rick Countryma || Breakthrough is a multi week series focusing on God’s favor and gifts to us, and how we are to live in response. <br><br><strong>Transcript:</strong><br>We're starting a brand new series here at Big Valley Grace called Breakthrough and Pastor Joel and Pastor Lonnie and I are going to look at some really great passages, some really great stories that are found in the scriptures that we hope and pray that somehow God will use in your life or your marriage or your family or your business. You believe that God wants to do a breakthrough in some area of your life and we're believing God is going to use this series. So, everybody go to Romans chapter 8 and look at verse 31. Now Paul's going to do something really, really unique in this little section of Scripture. He poses a number of questions. They're rhetorical questions. These questions, in my opinion, give us a real clear description of what the grace of God is all about. And we're going to talk more about that in a little bit. So, you got your Bibles, Romans chapter 8. It's also going to come up on your screen. Look at verse 31. Paul writes\"\" \"If God is for us, who can be against us? He who do not spare his own son but gave him up for us all. How will he not also, along with him, graciously give us all things? Who will bring any charge against those whom God has chosen? It is God who justifies. Who is it that condemns? Jesus Christ who died more than that who was raised to life and is now at the right hand of God and is also interceding for us. Who shall separate us from the love of Christ? Shall trouble or hardship or persecution or famine or nakedness or danger or the sword? As it is written for your sake we face death all day...\n",
      "<strong>Description:</strong><br>Jelena Subotic gives the second and final keynote of the conference, chaired by Jessie Barton-Hronesova. Followed by concluding remarks and next step plans by Jessie Barton-Hronesova and Johana Wyss. KEYNOTE II: THE HEGEMONIC NARRATIVES OF HOLOCAUST REMEMBRANCE IN POST-COMMUNIST EASTERN EUROPEJelena Subotic ; chaired by Jessie Barton-Hronesova .Concluding RemarksJessie Barton-Hronesova and Johana Wyss : summary and next steps<br><br><strong>Transcript:</strong><br>Last speaker of today and our second keynote is Professor Yelena Subotich, who's a professor in the Department of Political Science at Georgia State University. She writes broadly about international relations theory, memory, politics, human rights, transition justice, international ethics, state identity, and politics of the Western Balkans. Her first book that I actually extensively drew on during my PhD was called Hijic, or is called Hijic Justice, Dealing with the Past in the Balkans. It was published in 2009, and examined the contested way in which international norms of transitional justice were appropriated by domestic elites, basically Hijic, by domestic elites across the Western Balkans in the 1990s and 2000s. She's a recipient of a number of research grants and awards, and her latest book about which we're going to hear as well a little bit, Yellow Star, Red Star, Holocaust Remembrance after Communism that was published in 2009. Just recently won the Joseph Roadchild Prize in Nationalism and Ethnic Studies. Congratulations. And so her presentation today will be a reflection on the book with the title Hegemonic Narratives of Holocaust Remembrance in Post-Communics Eastern Europe. Yelena, thank you so much for joining us. I know it's morning for you. You're in Atlanta, so good morning. Welcome. The floor is yours. Thank you. Thank you for organizing this. I'm really sorry that we're not all together. This is a poor substitute, but we'll do our best. So what I'm going to do is try to share my screen, because I have some images to show you as I go through it. And then I will talk a little bit about the images, and then we'll hopefully have a few minutes for Q&A at the end. So let me try to figure out how to do this. OK, so share...\n",
      "<strong>Description:</strong><br>Jessie Barton-Hronesova, Johana Wyss and Diego Sánchez-Ancochea introduce the conference and Sujatha Fernandes gives the first keynote to the conference. OPENING REMARKSJessie Barton-Hronesova , Johana Wyss and Diego Sánchez-Ancochea : Introduction and Practical details.KEYNOTE I: CURATED STORIES: THE USES AND MISUSES OF STORYTELLINGSujatha Fernandes , chaired by Johana Wyss .<br><br><strong>Transcript:</strong><br>Good morning everyone and welcome to our symposium, hegemonic narratives, global, national and local dynamics of memory politics and post-conflict societies. Today we organized with my colleague Johanna Vis. My name is Jessie Barton Renishova and I'm a postdoctoral research fellow at the Oxford department of international development. My main area of focus is transitional justice memory and I have a regional expertise in southeast Europe. My colleague Johanna is a postdoctoral fellow at Max Planck Institute and the Czech Academy of Sciences and she mainly focuses on the dynamic relationship between collective identity and cultural collective memory especially in Central Europe. I've really warmly wanted to welcome you all to our session which is going to be very long. We have two sessions today morning and afternoon with very distinguished speakers and we're very, very pleased that a lot of them have joined us from all over the world. I suppose that is the upside of the current crisis that we are actually able to invite speakers from Australia, the United States without any additional cost apart from sometimes timing issues. Our aim today is to study the socio-political aspects of memory especially how there is dominant or so-called hegemonic narratives are used and misused at the international, national and local levels. I think we've all seen that interpretations of memory have resurfaced again as an important resource both for political actors as well as a mobilization resource for that is being used in the public sphere. Today we will discuss various cases from Northern Ireland, Central Europe, all the way to Brazil as well as Afghanistan, which we will hear about a little bit more in the in the next session. Just a few housekeeping rules for today and just to help you with the organization. All of...\n",
      "<strong>Description:</strong><br>Barbara Törnquist-Plewa and Craig Larkin give presentstions in the second panel of the conference. Chaired by Johana Wyss. Barbara Törnquist-Plewa ; 'Changing narratives about the past of Wroclaw. Struggles over mnemonic hegemony in a city'Craig Larkin 'Postmemory in conflict Societies: reflections from Lebanon'chaired by Johana Wyss .<br><br><strong>Transcript:</strong><br>Hello, welcome to our second panel in which we will explore the relationship between hegemonic memories, silence and nationalism. Please allow me to welcome our first panelist, the first speaker is Barbara Thornquist Pleva. Barbara is a professor of European studies and the Dean of Research for the Joint Faculty of Humanities and Theology at Long University, Sweden. She is a prominent scholar in the field of memory studies and a prolific author with four monographs and 25 edited volumes and counting. Her research focuses on difficult heritage and contested identities of in-between places such as Central, Eastern and North European borderlands. Presently, she's working on a research project entitled Lessons from Communists and Nazi History, a genealogical approach. Her presentation is entitled Changing Narratives About the Past of Rotslau, Struggles Over Nemonic Hegemonic in a City. Please, Barbara, de Floresios. Thank you very much, Johanna, for this very nice presentation of me and I jump directly to my 12 minutes. I will see if I manage it. Let me start to present you main objective of my presentations. It is to discuss and describe and analyze the dynamics between the hegemonic memories and the countel memories using the case of the local memory of the Polish city of Rotslau. This is based on study, actually on two studies, one I did in 2014-2015 with my colleagues in Rotslau and on the second study that I started just this year, which is a follow-up of the previous one aimed to investigate how this dynamics is ongoing, how the local memories are influenced by this nationalist conservative pan on the national level of politics in Poland. So this is this kind of stages in developing of hegemonic memories and countel narratives that they want to present. I would also like to...\n",
      "<strong>Description:</strong><br> In the final episode for this season, Ace and I cover some of the traits that successful buyers have in common and some of the strategies to employ for a greater chance of success. If you want to hear our thoughts on Joe Rogan selling the rights of his show to Spotify, why we think . The post WES S05E12: Success appeared first on Web Equity Show .. <br><br><strong>Transcript:</strong><br>Generally, the businesses that do well is because they found a unique way or they have a unique way of kind of growing the business and expanding it. Buying and selling businesses just got a lot easier. Welcome to the Web Equity Show, where thousands of successful entrepreneurs go to learn about buying, growing, and selling online businesses. Your hosts Justin Cook and Ace Chapman share their real-life advice, examples, and expert interviews to help you build and grow your own online portfolio. Now to your hosts, Justin and Ace. Welcome back to the Web Equity Show. I'm your host Justin Cook. I'm here with my co-host Ace Chapman. What's going on, buddy? What is up, man? Back at it. Some really interesting things happening in the world right now. A whole bunch of things going on. Now we're going to be talking about success, what it means, what it looks like, what are the characteristics that people are successful. Before we do that, man, let's do our news and updates. There's a whole lot of things to talk about. As usual, it seems like the news cycle is just so crazy over the last few years and how quickly things are moving. One thing that's moving quickly is this week, we should cross over the 100,000 deaths in the United States from coronavirus. So not a milestone we're particularly proud of, necessarily, but it's definitely something pretty wild. Yeah. Even from a country that is totally freaked out over a thousand deaths, they really can't wrap their head around. Obviously, the news gets down here about the numbers that we're hitting. It's been one of those things that's interesting to see, even for me, how I think differently as an American compared to other countries because obviously there's a...\n"
     ]
    }
   ],
   "source": [
    "for dispText in list(sampDf[\"displayText\"])[:10]: \n",
    "    print(dispText)"
   ]
  },
  {
   "cell_type": "markdown",
   "metadata": {},
   "source": []
  },
  {
   "cell_type": "code",
   "execution_count": 284,
   "metadata": {},
   "outputs": [],
   "source": [
    "sampDf.to_json(\"/shared/3/projects/benlitterer/podcastData/annotation/400pods.jsonl\", orient=\"records\", lines=True)"
   ]
  },
  {
   "cell_type": "code",
   "execution_count": null,
   "metadata": {},
   "outputs": [],
   "source": []
  }
 ],
 "metadata": {
  "kernelspec": {
   "display_name": "Python 3 (ipykernel)",
   "language": "python",
   "name": "python3"
  }
 },
 "nbformat": 4,
 "nbformat_minor": 2
}
