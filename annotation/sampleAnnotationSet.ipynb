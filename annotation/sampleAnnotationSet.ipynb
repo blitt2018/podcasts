{
 "cells": [
  {
   "cell_type": "code",
   "execution_count": 19,
   "metadata": {},
   "outputs": [],
   "source": [
    "import pandas as pd\n",
    "from bs4 import BeautifulSoup\n",
    "import re"
   ]
  },
  {
   "cell_type": "code",
   "execution_count": 20,
   "metadata": {},
   "outputs": [],
   "source": [
    "df = pd.read_json(\"/shared/3/projects/benlitterer/podcastData/processed/floydMonth/floydMonthData.jsonl\", orient=\"records\", lines=True)"
   ]
  },
  {
   "cell_type": "code",
   "execution_count": null,
   "metadata": {},
   "outputs": [],
   "source": [
    "#just in case \n",
    "inDf = df"
   ]
  },
  {
   "cell_type": "code",
   "execution_count": 111,
   "metadata": {},
   "outputs": [],
   "source": [
    "df = df.drop_duplicates(subset=[\"potentialOutPath\"])"
   ]
  },
  {
   "cell_type": "code",
   "execution_count": 113,
   "metadata": {},
   "outputs": [],
   "source": [
    "#do we want to work with podcasts where there's no description? or no transcript? let's say no for now\n",
    "df = df.dropna(subset=[\"rssUrl\", \"transcript\", \"enclosure\", \"potentialOutPath\", \"epDescription\"])"
   ]
  },
  {
   "cell_type": "code",
   "execution_count": 114,
   "metadata": {},
   "outputs": [],
   "source": [
    "df = df[df[\"transcript\"].apply(lambda x: len(x)) > 0]\n",
    "df = df[df[\"epDescription\"].apply(lambda x: len(x)) > 0]"
   ]
  },
  {
   "cell_type": "code",
   "execution_count": 116,
   "metadata": {},
   "outputs": [
    {
     "name": "stdout",
     "output_type": "stream",
     "text": [
      "(558301, 69)\n"
     ]
    }
   ],
   "source": [
    "print(df.shape)"
   ]
  },
  {
   "cell_type": "code",
   "execution_count": 117,
   "metadata": {},
   "outputs": [],
   "source": [
    "#TODO: sample repeat episodes within podcasts\n",
    "#so maybe sample podcasts first then episodes  \n",
    "sample = df[[\"rssUrl\", \"transcript\", \"enclosure\", \"cleanDatesLoc\", \"epTitle\", \"title\", \"podDescription\", \"epDescription\"]].sample(1000, random_state=120)"
   ]
  },
  {
   "cell_type": "code",
   "execution_count": 118,
   "metadata": {},
   "outputs": [],
   "source": [
    "#TODO: clean out html tags and stuff like that...\n",
    "#TODO: just replace tags with a space and make spaces and then make one space between every word  \n",
    "DESC_LEN=100\n",
    "TRANS_LEN=300\n",
    "\n",
    "def cleaner(inStr): \n",
    "    #clean out all tags in brackets or parenthesis\n",
    "    inStr = re.sub(r'\\[[^()]*\\]\\s*', '', inStr)\n",
    "    inStr = re.sub(r'\\([^()]*\\)\\s*', '', inStr)\n",
    "    \n",
    "    #replace paragraph breaks with new lines  \n",
    "    inStr = re.sub(\"</p>\",\". \", inStr)\n",
    "    inStr = re.sub(\"</br>\", \". \", inStr)\n",
    "\n",
    "    #replace all other tags with space\n",
    "    #inStr = re.sub(\"<.+?>\", \" \", inStr)\n",
    "\n",
    "    #replace all amounts of space with a single space \n",
    "    #inStr = re.sub(r\"[ \\t]+\", \" \", inStr)\n",
    "        \n",
    "    return inStr\n",
    "\n",
    "def makePresentationText(inRow): \n",
    "    description = inRow[\"epDescription\"]\n",
    "    transcript = inRow[\"transcript\"]\n",
    "\n",
    "    description = cleaner(description)\n",
    "    transcript = cleaner(transcript)\n",
    "\n",
    "    #description = \" \".join(BeautifulSoup(description, \"html.parser\").text.split())\n",
    "    description = BeautifulSoup(description, \"html.parser\").text\n",
    "    transcript = \" \".join(BeautifulSoup(transcript, \"html.parser\").text.split())\n",
    "\n",
    "    if len(description.split()) > DESC_LEN: \n",
    "        description = \" \".join(description.split()[:DESC_LEN]) + \"...\"\n",
    "    \n",
    "    if len(transcript.split()) > TRANS_LEN: \n",
    "        transcript = \" \".join(transcript.split()[:TRANS_LEN]) + \"...\"\n",
    "    \n",
    "    return f\"<strong>Description:</strong><br>{description}<br><br><strong>Transcript:</strong><br>\\n{transcript}\""
   ]
  },
  {
   "cell_type": "code",
   "execution_count": 119,
   "metadata": {},
   "outputs": [
    {
     "name": "stderr",
     "output_type": "stream",
     "text": [
      "/tmp/ipykernel_2083121/3861952727.py:31: MarkupResemblesLocatorWarning: The input looks more like a filename than markup. You may want to open this file and pass the filehandle into Beautiful Soup.\n",
      "  description = BeautifulSoup(description, \"html.parser\").text\n",
      "/tmp/ipykernel_2083121/3861952727.py:31: MarkupResemblesLocatorWarning: The input looks more like a URL than markup. You may want to use an HTTP client like requests to get the document behind the URL, and feed that document to Beautiful Soup.\n",
      "  description = BeautifulSoup(description, \"html.parser\").text\n"
     ]
    },
    {
     "data": {
      "text/plain": [
       "374181    <strong>Description:</strong><br>This week we'...\n",
       "414326    <strong>Description:</strong><br>The where and...\n",
       "520892    <strong>Description:</strong><br>Brother M, Co...\n",
       "568899    <strong>Description:</strong><br>Working actor...\n",
       "97683     <strong>Description:</strong><br>Even in these...\n",
       "                                ...                        \n",
       "488824    <strong>Description:</strong><br>Food for the ...\n",
       "471760    <strong>Description:</strong><br>You cannot me...\n",
       "10703     <strong>Description:</strong><br>Today, we bre...\n",
       "17138     <strong>Description:</strong><br>God has given...\n",
       "489686    <strong>Description:</strong><br>We are all he...\n",
       "Length: 1000, dtype: object"
      ]
     },
     "execution_count": 119,
     "metadata": {},
     "output_type": "execute_result"
    }
   ],
   "source": [
    "sample.apply(makePresentationText, axis=1)"
   ]
  },
  {
   "cell_type": "code",
   "execution_count": 120,
   "metadata": {},
   "outputs": [
    {
     "name": "stderr",
     "output_type": "stream",
     "text": [
      "/tmp/ipykernel_2083121/3861952727.py:31: MarkupResemblesLocatorWarning: The input looks more like a filename than markup. You may want to open this file and pass the filehandle into Beautiful Soup.\n",
      "  description = BeautifulSoup(description, \"html.parser\").text\n",
      "/tmp/ipykernel_2083121/3861952727.py:31: MarkupResemblesLocatorWarning: The input looks more like a URL than markup. You may want to use an HTTP client like requests to get the document behind the URL, and feed that document to Beautiful Soup.\n",
      "  description = BeautifulSoup(description, \"html.parser\").text\n"
     ]
    }
   ],
   "source": [
    "sample[\"displayText\"] = sample.apply(makePresentationText, axis=1)"
   ]
  },
  {
   "cell_type": "code",
   "execution_count": 121,
   "metadata": {},
   "outputs": [
    {
     "name": "stdout",
     "output_type": "stream",
     "text": [
      "<strong>Description:</strong><br>This week we're reading a story by A.S. Byatt about a couple of upper-class twits who get their comeuppance. You love to see it! Also, in light of the recent dustup over Curtis Sittenfeld's Rodhman, we talk about alternate-universe novels we'd like to see in the world. Plus a new segment: Dante's Inferno!. If you like the show, and would like more Book Fight in your life, please consider subscribing to our Patreon. For $5, you'll get access to three bonus episodes a month, including Book Fight After Dark, where we read some of the world's weirdest--and steamiest!--novels. We've also...<br><br><strong>Transcript:</strong><br>\n",
      "*The Antherian -, \"The Antherian\"\" plays* Hello and welcome to Book Fight, a podcast about reading and writing that has been called many different things in the years since it began, but never once painterly. I'm Mike Ingram, I'm here with Tom Calister. Tom, have you ever described something as painterly? I have not, I don't think it would have, I wish that we had had that in our arsenal for when we're doing blurbs for people, which was, you know, a long time listeners know it was a real staple of the show for the middle four years. Could have called all kinds of things painterly. That's one of those things that I kind of know what people are getting at, but kind of don't when they describe writing as painterly. Yeah, did you see related to that, I retweeted from the Book Fight account, I forget who shared it, but it was an image of a blurb that Ben Lerner wrote for someone where he described a book as breath giving instead of breathtaking. In these times that's the best thing a book could be. That's true, that's true. I mean, until we develop a cure for COVID-19, people just need to get that book. There's a lot of pressure on that author or at least the booksellers. I mean, our hospitals may be running low on ventilators, but maybe we got copies of that book. Just give everyone a copy of the book. Yeah. Thoughts, prayers and this illuminating breath giving novel. I don't even remember what the book was. And it's certainly not the author, the author got a blurb from Blint Ben Lerner. So you're like, yeah, sure, let's go with it. Yeah, of course. But I guess you can't write back and be like,...\n",
      "<strong>Description:</strong><br>The where and how surrounding your birth has nothing to do with your purpose on earth. Take your place in destiny.<br><br><strong>Transcript:</strong><br>\n",
      "Good day everyone. You are welcome to the day's podcast. My name is Ayo Olaue. Today I will be sharing with you on a topic I have captioned. You are not a biological accident. You are not a biological accident. It is not uncommon to hear some pregnant women complaining about all long-term pregnancies. There was no intention to have a child, but young, controllable passion, as they led to the process of fertilization of an egg by his parmatosia. The egg may be done within the leg it may be two walls of marriage with constant awe. It may be forced with the no outside the marching on it. Either way, a baby is on its way. It may be that unwanted or a biological accident, but in gross agenda, it is not. Soloma was a product of our torturing. The act of our daughter that brought into this world, asked not to do with the royal destiny bestowed on him. The wiser king ever lived was a product of electric-made relationship. We are not a product of biological accidents. The cause of our destiny was predetermined before our path. Our parents adjusted the chance through what God decided to bring us into this world. God told Jeremiah\"\" \"In the book of the romantic of one past five, he said\"\" \"Before I formed you, I knew you,.\" In other words, everything that he had was to accomplish on an egg had been fully determined even before the remark was formed. The purpose precedes creation. Like Jeremiah, God knew us and mapped out our path in destiny before he found us in our mother's womb. Our mother's womb are like vehicles that converge to the examination centers. The type of vehicle a student comes with does not determine the performance...\n",
      "<strong>Description:</strong><br>Brother M, Continues Narrating A Beautiful explanation of  Suratul Al Ar'af - Verse - 168 - taken from Shaykh Ghulam  Rabbani's Forthcoming Book: Faizan Ul Quran.. <br><br><strong>Transcript:</strong><br>\n",
      "Please like and subscribe to our channel. Leave your questions and feedback in the comments section in your video. Continuing from the last podcast, which was discussing, Chapter 7, verse 168. And we divided them throughout the earth into nations. Of them, some were righteous and of them, some were otherwise. This verse also indicates the importance of companionship. It is important for Muslims to accompany those who have submitted to the obedience of Allah, the exalted which involves fulfilling the commands of Allah, the exalted, refraining from his prohibitions and being patient with destiny according to the traditions of the holy people. Because of the holy prophet Muhammad, peace and blessings be upon him. Every person will be affected by their companion in a negative or a positive way. Whether this effect is apparent or subtle, this has been confirmed in a narration found in Sunan, Abu, Dawud, Number 4 829. If a Muslim accompanies someone who is obedient to Allah, the exalted, they will be affected in a positive way. It is why the holy Quran advised Muslims to accompany the truthful ones. Chapter 9, verse 119. Fear Allah and be with those who are true. Conversely, if a Muslim accompanies someone who is not obedient to Allah, the exalted, they will undoubtedly be influenced in a negative way. This will only lead to regret in this world, such as crimes and prison and in the next world. Chapter 25, verse 28. Oh, whoa to me. I wish I had not taken that one as a friend. Allah, the exalted, has summed up this important principle in a few words by declaring that all friends will become enemies to one another on judgment day, except for the righteous as they influenced each other in a positive way. Chapter...\n",
      "<strong>Description:</strong><br>Working actors everywhere can take Sarah Snook’s advice to heart, particularly when it comes to the many rejections that follow auditions. This in-depth interview reveals the actor’s approach to both her career and character-building process, which involves finding their vulnerability and where it overlaps with her own. “You’re afraid of revealing yourself? You’re meant to as an actor.”Sarah is likely best known as the fabulously ruthless Siobhan “Shiv” Roy on Jesse Armstrong’s Emmy-winning drama “Succession” from HBO. She’s worked in theater, TV, and film in the U.S. and her native Australia, including in “Sisters of War,” “Predestination,” “The Dressmaker,” and...<br><br><strong>Transcript:</strong><br>\n",
      "Sarah, we're so thrilled to talk to you, and I have so much to ask you about, because, as we said, these are strange times. How are you? Yeah, I'm good. It fluctuates. It's like I'm good, and then I'm in complete despair, and then I'm good at some. I saw a meme about knowing what it's like to live in a Jane Austen novel for real now. And I was like, oh, yeah, that's right. That's like thinking about a cough could mean death, imminent death, doing crafts for the three people you could hang out with till summer. So you're going to see what's in till summer? Yeah, just a lot of slowing down. Yeah, well, I mean, it's funny what you say the thing about despair. It's not good to hear that you're experiencing despair, but in a way, it's actually kind of comforting to me. It's kind of easier from others, having a tough time. Absolutely. Like, I took a photo of myself in the show with a couple of friends. I took a photo of myself the other day, because I was like, I can't make my face move. It's stuck in a-- in like a-- not even a frown. It's like my skin on my-- the flesh on my skull is slipping off. I can't actually smile right now. I took a photo and I was like, just remember this, because this is not like-- this is not forever. This is just what your face is doing right now. But like, found myself catatonic staring at a wall for 15 minutes. And then, why, there's something-- you've got to go, like, this is not-- you've got to get out, go for a walk, do something. I ended up having a solo dance party that...\n",
      "<strong>Description:</strong><br>Even in these trying and uncertain times, every believer, through faith, can receive and experience all the benefits of the promises found in the Word of God. Join us this Sunday as we begin a new series, The Importance of Faith, with a message on the fundamental elements of faith.. <br><br><strong>Transcript:</strong><br>\n",
      "Amen, amen. Are you ready for the word? Amen. Well, you know we serve a faithful God. If nothing God won't do for us, as long as we stay faithful to Him, just stay faithful to Him. Like Pouty Day said, we started a brand new series this morning on the importance of faith. You know, the Scripture said\"\" \"For all the promises of God, in Him, are yes in amen,.\" And Pastor Justin put that song right on time. You got it right on time, Pastor Justin, because that's what we're talking about. All the promises of God are yes in amen. Even in these trying times, even these uncertain times, earth believer through faith can receive and experience the benefits of the promises found in the Word. You know, even during this pandemic, I challenge you to take an assessment of your life right now. And you will find out that God is still blessing you. Matter of fact, you can find out you are better off now than you were before it started. Amen. And you can see that He can continue to bless you. From the beginning to the end, you can see that God God is faithful. During these times, believe us, you're not just surviving, you are thriving. I challenge you to take an assessment, not just your financial assessment, take an assessment of your family relationships, take an assessment of the relationship that you have with God right now. And you will see that everything that we are doing, that God is in the midst of it. And see, Satan will always try to do us harm, because this pandemic, Satan meant it for evil and for harm. But God is turning around to our good. He's turning around to our good. It...\n",
      "<strong>Description:</strong><br>Welcome to a lovely awakening Gemini New Moon guided meditation.We wake up to our own beautiful parts in ourselves and our lives, by them being mirrored in this lovely Gemini New Moon, through unconditional love. I have had a warm feeling in my left foot and hand all day and felt eager to do this meditation. Almost like it’s been calling me loud and keen. I hope you will enjoy it together your own delightful qualities it shines it lights on. Thank you for being part of spreading it further! Remember the ignition is here for you no matter when...<br><br><strong>Transcript:</strong><br>\n",
      "Welcome to this Gemini New Moon. It is the 22nd of May 2020 and I'm recording this on the west coast of Sweden. And before we start I just like to remind you that next Sunday the 31st of May I am doing a free online guided pure heart ignition. So if you would like to join you can see how to sign up in the link below if you can't join on the exact time. By signing up you will get a link to the replay. So let's start by taking three deep breaths.\n",
      "<strong>Description:</strong><br>Having faith in yourself is the most effective way to accomplish your dreams and goals. . <br><br><strong>Transcript:</strong><br>\n",
      "I felt as if I had no faith left. Family and friends telling me it was not possible for me to achieve something I felt so passionate about. What was the point in the playing softball if it was so unreal for me to get to the college level? At first I let it get to me. I almost quit softball altogether, but I decided that as long as I had faith in what I believed in I could accomplish anything I wanted. Faith is key to having a clear and successful life. You need to have complete trust and confidence in yourself as well as others or you won't get anything done. My parents and coaches are the ones who believed in me. They did everything they could to help me accomplish my goals. On the other hand, mainly my friends thought it was dreamlike for me to have college softball as a goal. All I ever heard was, \"you're from Henry County, you won't get noticed by a division 1 college, one of the chances and you aren't good enough,.\" I never really said anything about these negative comments. I usually just left them off. As my friends sat there and had no faith in me, my parents tried to cancel out their negative comments in positive ones. When I was at school I felt bad about my goals. I had because nobody else thought I could accomplish them, but while I was at home I thought I could because I was surrounded by people who believed in me. As I got older my dreams seemed to be coming closer to me like almost an arms reach. All the hard work was starting to get more and more noticed by those division 1 colleges that I had no...\n",
      "<strong>Description:</strong><br>SHOW NOTESVeronica Figueroa, CEO and Team Lead of Figueroa Team at eXp Realty has been in the Real Estate Industry for 15 years and has grown obsessed with the business. Her initial dream was a career in Human Resources and her love for working with people has drawn her into Real Estate and used it as a platform to grow and evolve. She has also become a sought-after speaker and coach where she focuses on inspiring real estate agents to write their own stories of success.. Let’s hear from Veronica on how her passion helped her achieve success in this...<br><br><strong>Transcript:</strong><br>\n",
      "Welcome to GRIT, the Real Estate Growth Mindset Podcast hosted by Brian Charlesworth, founder of CSU. CSU provides growth automation software for Real Estate. You'll hear stories from Real Estate thought and technology leaders, team owners and brokers on how to deal with their business in a rapidly changing industry. You'll learn how to transform your brokerage and teams into a high performing and analytics driven business so you have a new durable competitive advantage against disruption in your market. So let's get right into it. All right, hello everybody. Welcome back to the GRIT podcast. I'm Brian Charlesworth. I'm the founder of CSU and I'm your host and today I'm here with Veronica Figueroa and she is a team leader and success coach in the Real Estate Industry. She's got a phenomenal reputation. I hear lots of great things about her all the time. She's one of Zillow's premier agent teams. Very influential. She also heads up, I believe you head up your NARAF chapter there in Orlando and she is also in the process of writing a book so she's got a lot going on in her life. So super excited to spend some time with you here Veronica. Is there anything you want to add to that intro? Oh my gosh, no I think it pretty much sums that up. I think an honor for you to even ask me to be here and want to pick our brain. My brain? No, nothing much I can probably add to that other than I just been doing this for about 15 years and I'm obsessed with the industry. Okay, so I love that. I love when people are obsessed and I think it shows based on the success. So what is it that brought you to Real Estate?...\n",
      "<strong>Description:</strong><br>Sunday Mornings Message<br><br><strong>Transcript:</strong><br>\n",
      "Everybody say amen. Take somebody's hand. Amen. Amen. Tell them you're glad to see them in church. Turn to the book of Luke chapter number 24 this morning. I'll preach to you for just a little while. So good to see you in church today. Praise God. I want to preach on the presence of God this morning, the Lord be in my helper. Presence, the word presence, the definition is to feel and understand that someone in a place even when they may or may not be seen. Well, most of the time we don't see God's presence. We see the evidence of His presence, but we don't necessarily see His presence. I remember one service a number of years ago he was in a revival with a man named Brother Fred Williams. He was an Indian man preaching and the Spirit of God got so strong in that service probably the only time I ever remember seeing it that it got so strong, the presence of God did. It was so powerful and so thick that it looked like a haze over the congregation. I'll never forget that. I know that there's things that people do sometimes and make them mockery, but I'll never forget that service Brother Williams run over to the right side of the building and he jerked his handkerchief out and he popped it like that toward the congregation and everybody on that side of the building went back into their seat just that quick and then he ran around the pulpit and the other side they were standing and he'd done the same thing and everybody fell into their seats over there. Only time I ever seen it happen like that and the presence of God was just like a haze in that...\n",
      "<strong>Description:</strong><br>Ice cream is off the menu for now at Hadlock, the Press Herald editorial board calls on the president to resign, and the CDC is warning of hepatitis A exposure in Saco.<br><br><strong>Transcript:</strong><br>\n",
      "From main 5, I'm Ryan Gavin. It's Friday, June 5th today and this is One Minute Main. The Portland Press Herald, Maine's largest newspaper, has called for Donald Trump to resign. The editorial board released their opinion today, the day the president is set to visit Puritan manufacturing, the maker of those medical swabs, used in coronavirus testing. The Portland Sea Dogs announced today that they've ended their relationship with Shane's of Maine after controversial Facebook posts have accused the owner, Jeff Shane, of using racial slurs with his employees and other unacceptable behaviors in the workplace. The Sea Dogs are currently looking for a new ice cream vendor. Scary story today from the main CDC that has nothing to do with coronavirus, they're warning of possible exposure to acute hepatitis A at the sea salt lobster restaurant in Socko. If you were a patron there recently, you should contact Maine CDC. More than 700 people rallied in Lewiston last night. There are more protests expected for Portland, Bangor, Biddeford, Lewiston and Brunswick this evening. And some good news though, food trucks are finally returning to the waterfront in Bangor, and the Portland Sea Dogs, other than ice cream, are now offering some of their treats curbside as well. From main vibe I'm Ryan Gavin, hope you have a great Friday and awesome weekend and we'll see you back here on Monday.\n"
     ]
    }
   ],
   "source": [
    "for dispText in list(sample[\"displayText\"])[:10]: \n",
    "    print(dispText)"
   ]
  },
  {
   "cell_type": "code",
   "execution_count": 122,
   "metadata": {},
   "outputs": [],
   "source": [
    "sample.to_json(\"/shared/3/projects/benlitterer/podcastData/annotation/1000sample.jsonl\", orient=\"records\", lines=True)"
   ]
  },
  {
   "cell_type": "code",
   "execution_count": null,
   "metadata": {},
   "outputs": [],
   "source": []
  }
 ],
 "metadata": {
  "kernelspec": {
   "display_name": "Python 3 (ipykernel)",
   "language": "python",
   "name": "python3"
  },
  "language_info": {
   "codemirror_mode": {
    "name": "ipython",
    "version": 3
   },
   "file_extension": ".py",
   "mimetype": "text/x-python",
   "name": "python",
   "nbconvert_exporter": "python",
   "pygments_lexer": "ipython3",
   "version": "3.11.5"
  }
 },
 "nbformat": 4,
 "nbformat_minor": 2
}
