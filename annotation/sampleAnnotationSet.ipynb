{
 "cells": [
  {
   "cell_type": "code",
   "execution_count": 31,
   "metadata": {},
   "outputs": [],
   "source": [
    "import pandas as pd\n",
    "from bs4 import BeautifulSoup"
   ]
  },
  {
   "cell_type": "code",
   "execution_count": 10,
   "metadata": {},
   "outputs": [],
   "source": [
    "df = pd.read_json(\"/shared/3/projects/benlitterer/podcastData/processed/floydMonth/floydMonthData.jsonl\", orient=\"records\", lines=True)"
   ]
  },
  {
   "cell_type": "code",
   "execution_count": 32,
   "metadata": {},
   "outputs": [
    {
     "data": {
      "text/plain": [
       "Index(['potentialOutPath', 'transcript', 'wCount', 'rssUrl', 'epTitle',\n",
       "       'epDescription', 'duration', 'pubDate', 'copyright', 'itunes:type',\n",
       "       'itunes:complete', 'guid', 'itunes:explicit', 'enclosure',\n",
       "       'itunes:image', 'transDict', 'id', 'title', 'lastUpdate', 'link',\n",
       "       'lastHttpStatus', 'dead', 'contentType', 'itunesId', 'originalUrl',\n",
       "       'itunesAuthor', 'itunesOwnerName', 'explicit', 'imageUrl', 'itunesType',\n",
       "       'generator', 'newestItemPubdate', 'language', 'oldestItemPubdate',\n",
       "       'episodeCount', 'popularityScore', 'priority', 'createdOn',\n",
       "       'updateFrequency', 'chash', 'host', 'newestEnclosureUrl', 'podcastGuid',\n",
       "       'podDescription', 'category1', 'category2', 'category3', 'category4',\n",
       "       'category5', 'category6', 'category7', 'category8', 'category9',\n",
       "       'category10', 'newestEnclosureDuration', 'oldestItemDatetime',\n",
       "       'cleanDates', 'cleanDatesLoc', 'parsedDuration', 'hours', '500ent',\n",
       "       '500start', '500end', '500type', 'DescEnt', 'DescStart', 'DescEnd',\n",
       "       'DescType', 'first500'],\n",
       "      dtype='object')"
      ]
     },
     "execution_count": 32,
     "metadata": {},
     "output_type": "execute_result"
    }
   ],
   "source": [
    "df.columns"
   ]
  },
  {
   "cell_type": "code",
   "execution_count": 21,
   "metadata": {},
   "outputs": [],
   "source": [
    "sample = df[[\"rssUrl\", \"transcript\", \"enclosure\", \"guid\", \"cleanDatesLoc\", \"epTitle\", \"title\", \"podDescription\", \"epDescription\"]].sample(1000, random_state=120)"
   ]
  },
  {
   "cell_type": "code",
   "execution_count": 22,
   "metadata": {},
   "outputs": [],
   "source": [
    "sample = sample.dropna().drop_duplicates(subset=[\"enclosure\"])"
   ]
  },
  {
   "cell_type": "code",
   "execution_count": 33,
   "metadata": {},
   "outputs": [],
   "source": [
    "#TODO: clean out html tags and stuff like that... \n",
    "DESC_LEN=100\n",
    "TRANS_LEN=300\n",
    "\n",
    "def makePresentationText(inRow): \n",
    "    description = inRow[\"epDescription\"]\n",
    "    transcript = inRow[\"transcript\"]\n",
    "\n",
    "    description = BeautifulSoup(description, \"html.parser\").text\n",
    "    transcript = BeautifulSoup(transcript, \"html.parser\").text\n",
    "\n",
    "    if len(description.split()) > DESC_LEN: \n",
    "        description = \" \".join(description.split()[:DESC_LEN]) + \"...\"\n",
    "    \n",
    "    if len(transcript.split()) > TRANS_LEN: \n",
    "        transcript = \" \".join(transcript.split()[:TRANS_LEN]) + \"...\"\n",
    "    \n",
    "    return f\"Description:\\n{description} \\n\\n Transcript:\\n{transcript}\""
   ]
  },
  {
   "cell_type": "code",
   "execution_count": 35,
   "metadata": {},
   "outputs": [
    {
     "name": "stderr",
     "output_type": "stream",
     "text": [
      "/tmp/ipykernel_1725681/3483627211.py:9: MarkupResemblesLocatorWarning: The input looks more like a filename than markup. You may want to open this file and pass the filehandle into Beautiful Soup.\n",
      "  description = BeautifulSoup(description, \"html.parser\").text\n",
      "/tmp/ipykernel_1725681/3483627211.py:9: MarkupResemblesLocatorWarning: The input looks more like a URL than markup. You may want to use an HTTP client like requests to get the document behind the URL, and feed that document to Beautiful Soup.\n",
      "  description = BeautifulSoup(description, \"html.parser\").text\n"
     ]
    }
   ],
   "source": [
    "sample[\"displayText\"] = sample.apply(makePresentationText, axis=1)"
   ]
  },
  {
   "cell_type": "code",
   "execution_count": 36,
   "metadata": {},
   "outputs": [
    {
     "data": {
      "text/plain": [
       "[\"Description:\\nWe are always in progressThe “It’s not fast enough” thoughtWhat if self sabotage isn’t a real thing?Grace with the unpredictable pace of lifeMarking progress as a tool in the gameRespect and appreciation for the unknownDoes life make it’s own progress?The dance of giving something our time and attentionSuffering from an overinflated sense of “I”\\xa0Beating ourselves up with what we make upWhy does nothing\\xa0require\\xa0our worry? \\n\\n Transcript:\\n[MUSIC] Hello and welcome. You're listening to Zennegan, What Do We Know? A podcast that's all about exploring the human experience from an unofficial point of view. Your hosts are Mermansen and Brienne Grebel, that's me. We hope you'll sit back, relax, and just ponder what we're talking about. As we explore new ways of looking at life, we are hoping that you will do the same. So without further ado, let's get into today's episode. [MUSIC] Hello and welcome to Zennegan, What Do We Know? I'm Brienne Grebel with me is Mermansen. Hello Mer. Howdy. Howdy, Ella. I'm a cowgirl today. [LAUGH] Hey, howdy. We had quite the spiel before recording today. I feel like that was longer than usual before we hit the record button. Because we were trying to nail down what word we had a, we have an essence of a direction we really want to look in together today. And we couldn't find the word to encapsulate what it is that we were talking about. And then Mer, you threw out progress and statues rungabel for me. It's like, that's what I want to talk about, about progress. What do we know about progress? [LAUGH] Because I feel like we both kind of are, I guess just looking in that direction. For me personally, it's like there's a few things I want to be up to that I'm excited about. And I've been oscillating. I think I shared with you, I'm in these interesting zones currently of getting really excited about my creativity, the stuff that's coming to me, the ideas and things I want to do. And then equally, the other 50% of the time, I guess, is disappointed in my productivity. [LAUGH] Like, the getting it out in the world or getting it...\",\n",
       " \"Description:\\nWe are doing a series called Ameri-CAN. Talking about the CAN-DO spirit that is part of our American DNA. So much about our lives has been turned upside down by this Corona Virus / Covid-19, and we have been hearing a lot about what we CAN’T do and where we CAN’T go, but our guests during this series are going to talk to us about their area of expertise and all of the ways we still CAN learn and grow, train, connect, and expand our freedoms in ways we maybe haven’t thought about before. Our guest today is Frank Miniter.... \\n\\n Transcript:\\n[MUSIC] Freedom is never more than one generation away from extinction. We didn't pass it on to our children in the bloodstream. The only way they can inherit the freedom we have known is if we fight for it, protect it, defend it, and then hand it to them with the well-talk lessons of how they and their lifetime must do the same. And if you and I don't do this, then you and I may well spend our sons and years having our children and our children's children. What it once was like in America when men were free. [MUSIC] >> Hey everybody, welcome to another episode of Gun for Freedom Radio where we engage, we educate, and we inform. We are brought to you by azfirearms.com, your nationwide hometown gun shop. I am one of your hosts, Sheryl Todd. >> And I'm the other guy, Dan Todd. We're doing a series called American, talking about the can-do spirit that is part of our American DNA. >> Absolutely, our lives have been just completely upended and turned upside down by this whole COVID-19 coronavirus situation. And we're hearing a lot about all the things we can't do and the places that we can't go. But we're talking with experts in their field about all the things that we still can do. We can still learn and grow, train and connect and expand our freedoms in ways that maybe we haven't even thought about before. Well, today our guest is Frank Minitter. Frank is an author and investigative journalist with a penchant for outdoor adventure. Frank is the editor in chief of NRA's America's First Freedom. He's a frequent guest on all the major news media outlets, a field editor for NRA's American Hunter and the author of the New...\",\n",
       " \"Description:\\nEvery day is Children's Day..narrated by Ms. Sudeshna, Principal, Pallavi Aware International School, Saroornagar Campus. For admissions visit www.pallaviinternationalschool.com \\n\\n Transcript:\\nHello everyone, this is Sudeshna Meral from Palavi Group of Schools. While surfing through the school almanac today, I stumbled upon Children's Day, a day that is celebrated every year on 14th of November. We all know. With all due respect to the cause behind the celebration, isn't every single day Children's Day, especially for us teachers? We, the teachers exist because you, the children, exist. We also have families and friends just like anyone else, but our entire life as teachers is woven around you. We are happy when you are happy. We feel sad when you are sad. We feel proud at your achievements as if they are our own. We feel as disappointed as you when you do not reach your goals. We keep your schedules in mind while we plan our work and leisure. At times we might use words that sound harsh only to correct your mistakes. We do it because we want you to learn from your mistakes. We want you to overcome your weaknesses, build on your strength and move on in life as strong, confident and brave global citizens because that is what we have nurtured you to be. No matter what, we love you with all our heart and soul unconditionally. You spend your childhood with us in school. We bond well as a teacher and student should. We give you the skills, the values and set examples so that you learn to differentiate between the good and the bad. We want you to make the right choices to become a better person. We desire that you grow up into a wonderful human being, one who respects the diversity without being judgmental. We teachers will always long to be with you in your thoughts. Whenever you need a guide in life,...\",\n",
       " \"Description:\\nStart podcasting today: \\xa0Do PodcastsWhat is HAPPENING people of the interwebs?!?! \\xa0Welcome back to another episode of the Do Things podcast. \\xa0This episode is from an interview that I did on my friend Mike Vanduzee's channel talking about why it's important to take advantage of this time and not sit around and wait during this pandemic. \\xa0Enjoy,Todd--- Send in a voice message: https://podcasters.spotify.com/pod/show/dobusiness/messageSupport this podcast: https://podcasters.spotify.com/pod/show/dobusiness/support \\n\\n Transcript:\\nWhat is happening people of the interwebs it is time for another episode of the do things podcast but before we get to the show a quick word from our sponsors. And if you happen to be thinking yourself well now I don't know where to get started I understand anchor dot FM is great but how do I make a podcast I have got you covered we have a brand new course called do podcast that take you from start to finish everything you need to know about making and distributing your podcast. There is a free course where you can learn everything you need to know to use just your phone to create your very own podcast go to do things online dot com and start today we can't wait for you to do that podcast. Who's running the do things. What is happening people of the interwebs the do things podcast the do things podcast and I am Jack out of my mind right now I just want to help people. Burn your plans and do things and selfies and butterflies you are a miracle stop worried about the things you can't control. Burn your plans and do things let's go that's it. What is happening people of the interwebs welcome back to another episode of the do things podcast I hope all of you are holding up well with all the coronavirus shutdowns lock ins. Hi to moms hi to wives kind of thing happening that was very Jake reference from the trending stories taking over show which if you haven't checked that out the TSTO show we stream every Thursday at 11 am on Facebook and YouTube you can find the audio version as well TSTO show. Dot com we talk about all the trending...\",\n",
       " \"Description:\\nBrought To You By SeoSamba . . . Comprehensive, High Performing Marketing Solutions For Mature And Emerging Franchise Brands . . . To Supercharge Your Franchise Marketing, Go To seosamba.com A 28-year veteran of the franchise world, Jonathan Thiessen started with Home Franchise Concepts in 2003 as a Franchise Licensing Advisor. Now as the Chief Development Officer, [...] \\n\\n Transcript:\\n[MUSIC] Welcome to Franchise Marketing Radio, brought to you by SEO Samba. Comprehensive high performing marketing solutions from a chore and emerging franchise brands. To supercharge your franchise marketing, go to SEOSamba.com. That's SEOSAMBA.com. Lee Cantor here, another episode of Franchise Marketing Radio, and this is going to be a good one. Today I got JT with me, and he is with Home Franchise Concepts. Welcome JT. Hi, thanks for having me. Well, before we get too far into things, tell us about Home Franchise Concepts. What are your brands and who do you serve? Sure, be happy to. At Home Franchise Concepts, we have four brands, actually. Budget Blinds, which is a custom window covering supplier, one of the largest in the country. Basically, what they do is go out to customers and provide custom window solutions both residentially and commercially for them. We have another brand called Table Living, which does custom organization, both residentially and commercially, and homes for closets, garages, and the other kind of storage and organization that you need. We have a third brand called Concrete Craft, which does decorative concrete overlays, staining, that kind of thing. And then our fourth brand is called Advaniklean, which does restoration services, mold, remediation, water damage, that sort of thing. So, let's talk maybe one at a time. Let's start with Budget Blinds. Tell me about that in terms of the growth of the brand. Sure, so the brand got started from, it's got by five guys back in 1993 that pulled together a little bit of money to get it going and found that they really hit a home run with the idea that they could go to the customers, opposed to the customer coming to their store, that sort of thing. And the business started...\",\n",
       " \"Description:\\nJust a quick word to those with whom I'll be embarking on this exiting new journey with.  \\n\\n Transcript:\\n(upbeat music) - Hello, hello, hello everybody. I hope and pray that you are all new. Well, in these Corona and Fisted times, I am your host, Nelson Elsie, and it is an absolute honor and privilege to connect with you all. I wanted to step in for a minute and say a quick hug whilst taking that as an opportunity to brief you guys in the future contents of my podcast. We'll be covering everything, everything from business to pleasure, love, friendship, our fears, our hope, just everything. My wish is that we'll get to be vulnerable with one another. I want us to laugh and cry together. That includes the men too. (laughs) Also, please go easy on me. This is my first time doing a podcast. I'm pretty young, so I am aware that I still have a lot to learn. I can't wait to grow alongside you all. See you soon, bye. [MUSIC PLAYING]\",\n",
       " 'Description:\\nInternally each world may have other layers.Mastered at Reve-one Studio. \\n\\n Transcript:\\n(bouncy music) (bouncy music) (bouncy music) (bouncy music) (bouncy music) (bouncy music) (bouncy music) (bouncy music) (bouncy music) (bouncy music) (bouncy music) (bouncy music) (bouncy music) (bouncy music) (bouncy music) (bouncy music) (bouncy music) (bouncy music) (bouncy music) (bouncy music)',\n",
       " \"Description:\\nOn Today’s Episode Of #TheFransenoPodcast. Franseno Along With His Co Host The World Renowned International Hater & Turtle Rotchi Speak On The Worldwide CoVid-19 Pandemic Also Known As CoronaVirus Sit Back Relax Press Play And Enjoy  \\n\\n Transcript:\\n(applause) - Man, your boy, Francisco Gambino, man, and we back again, you know what I'm talking about? The motherfucking pandemic is here, man. Francisco podcast, man, my man, Todorachi in the international hater, man. We in this thing, man. Todorachi say something to the people, man. - What's up, peace. This motherfucker and shelter in places where I've been doing for years anyway. - Yeah, man, so, hey, man. International hater, man. Speak on it, man. I don't know how you feel. (coughing) Oh, man, Joe, that shit is crazy right there, man. I don't know, man. But anyway, Joe, shelter in place, man. Ain't nobody moving. Ain't nobody going nowhere, man. The clubs is shut down, man. The bars shut down. - That was my mother. - The rest of the ride is shut down, man. Everything is shut down, man. Everybody ain't getting no money, man. If you ain't getting money, man, you better find you a new way, man. I've been told y'all I get some money, man. - That's why I'm not actually just working, no, man, 'cause it's my mother. - I've been told you find you a way to get some money, man. You thought I was playing, man. They don't come, see no, the psyche on my own days, man. - I'm gonna tell you this. The money is still out there. - Yeah. - That's way too much money. - That's not, yeah. Look, listen, I'm gonna tell you. - It might be more money, but it's way harder to get. - Yeah, it depends on how you trying to find it. This is what I'm saying, man. This shit actually might be a silver line here for most folks. - Hey, man, I don't know, man. We gonna figure that...\",\n",
       " \"Description:\\nOn June 11, 1998, 38-year-old Jonathan Aujay traveled into the Devil’s Punchbowl Natural Area, northeast of downtown Los Angeles in the Antelope Valley, to go for a trial run. Many witnesses report seeing Jonathan that day, however, he never returned home. Join us this week as we investigate what happened to Deputy Jonathan Aujay and a possible conspiracy that points to his disappearance. The sponsor of this weeks episode is - Payoff.com. Payoff.com helps people get out from high interest debt by consolidating into a low APR personal loan. A Payoff Loan is a personal loan, backed by member-centric credit... \\n\\n Transcript:\\n[MUSIC] Thousands of people have mysteriously vanished in America's wilderness. Join us as we dive into the deep end of the unexplainable and try to piece together what happened. You are listening to locations unknown. [MUSIC] What's up everybody and welcome back to another episode of locations unknown. I'm your co-host Joe Irado and with me as always is a guy who can burn things with the magnifying glass at night, Mike Vandeboghard. >> Thanks Joe, I thank you to everyone that's tuning in once again to locations unknown. No new updates this time but I'm just happy to see that society's starting to open up again. And businesses are slowly reopening here in Milwaukee Joe. Tomorrow bars are opening for the first time in several months. So excited. How's it going on here? >> We might have to do an episode after night out at the bars. >> Man, that would be messy. [LAUGH] >> It'd be not much different than our normal episodes. >> I guess. [LAUGH] >> No, I'm just glad we're slowly getting back to reality, barring all the craziness that's happening outside of the craziness that was already happening and hopefully no new craziness happens. >> I am just ready to write 2020 off. >> Yep, well, let's get into this case and you can just think about something other than politics and all the crap that's going on. >> Exactly. >> All right everybody, let's gear up and get out to explore locations unknown. [MUSIC] >> June 11th, 1998, 38 year old Jonathan Oj, traveled into the Devil's Punch Bowl Natural area, northeast of downtown Los Angeles and Antelope Belly to go for a trail run. Many witnesses report seeing Jonathan that day, whoever he never returned home. Join us this week as we...\",\n",
       " 'Description:\\nCAROLINE AND JAMES DISCUSS THEIR MISADVENTURES ON FACEBOOK MARKETPLACE. \\xa0 \\n\\n Transcript:\\n[MUSIC PLAYING] This is, \"Fourteen Minutes of Fame,.\" My name\\'s Caroline Ritchie. This is my co-host. James Bradford. How\\'s it going, James? It\\'s going excellent. We are here to talk about a very controversial topic. Facebook marketplace. We use it constantly. I don\\'t think there\\'s a day that goes by that I don\\'t use or check Facebook marketplace. Do you agree? I agree. It\\'s probably 90% of my screen time when my screen time comes up. And it\\'s like, you have been on your screen for five hours today. I know. I had to get rid of that because I felt so guilty. It\\'s so bad. It is terrible. I didn\\'t realize how long I was on the phone until my daughter, Jamie, turned it on. And now it gives me a daily update of how long I\\'m on to my phone. Your family constantly makes fun of you being on your phone. But anyway, totally off topic already. Facebook marketplace, going back to being somewhat controversial, is not only did it take over and basically destroy Craigslist altogether because in the car buying world, I used to use Craigslist quite a bit. And Let Go was kind of there and all those other dumb apps. And then when Facebook marketplace came out, it was kind of like, oh, I don\\'t know if I like this. It\\'s kind of taken over my Craigslist jam. But then when they added the accessibility of being able to use Messenger instead of email and text and all this good junk, it opened a world of just a whole new imagination. Yeah, I was Craigslist-ing when you guys were still Facebook-ing or when you started Facebook-ing. And you kept telling me, you got to get on Facebook marketplace and check this out. I\\'m like,...']"
      ]
     },
     "execution_count": 36,
     "metadata": {},
     "output_type": "execute_result"
    }
   ],
   "source": [
    "list(sample[\"displayText\"])[:10]"
   ]
  },
  {
   "cell_type": "code",
   "execution_count": 37,
   "metadata": {},
   "outputs": [
    {
     "data": {
      "text/plain": [
       "[\"<p class=''>We are always in progress</p><p class=''>The “It’s not fast enough” thought</p><p class=''>What if self sabotage isn’t a real thing?</p><p class=''>Grace with the unpredictable pace of life</p><p class=''>Marking progress as a tool in the game</p><p class=''>Respect and appreciation for the unknown</p><p class=''>Does life make it’s own progress?</p><p class=''>The dance of giving something our time and attention</p><p class=''>Suffering from an overinflated sense of “I”&nbsp;</p><p class=''>Beating ourselves up with what we make up</p><p class=''>Why does nothing&nbsp;<em>require</em>&nbsp;our worry?</p>\",\n",
       " \"We are doing a series called Ameri-CAN. Talking about the CAN-DO spirit that is part of our American DNA. So much about our lives has been turned upside down by this Corona Virus / Covid-19, and we have been hearing a lot about what we CAN’T do and where we CAN’T go, but our guests during this series are going to talk to us about their area of expertise and all of the ways we still CAN learn and grow, train, connect, and expand our freedoms in ways we maybe haven’t thought about before. Our guest today is Frank Miniter. Frank is an author and investigative journalist with a penchant for outdoor adventure. Frank is the Editor in Chief of NRA's America's 1st Freedom, a frequent guest on major news media outlets, a Field Editor for the NRA’s American Hunter, and the author of The New York Times’ Bestseller The Ultimate Man’s Survival Guide—Recovering the Lost Art of Manhood.  Miniter’s other books include The Politically Incorrect Guide to Hunting, Saving the Bill of Rights, and The Future of the Gun.1) Learning more about taking control of our lives and our Rights is such a great way to empower people during this time when so much has been out of our control. One side says that freedom itself is under attack, the other side says we are just fear mongering to “sell more guns”. If we don’t even know what the Founding Principles of our nation are, how do people sort out the truth from the noise? 2) The Second Amendment is not a political issue, but the politicians have MADE it political. Especially in the upcoming 2020 election with every one of the Democratic Presidential hopefuls trying to out-anti-gun one another. And now, Joe Biden appears to be the best they have for the Democratic Presidential bid. For people who value their 2A Rights, is there any way they could vote for Biden and not lose their Constitutionally-protected rights to keep and bear arms? - Biden then says that he would repeal the Protection of Lawful Commerce in Arms Act (PLCAA), so that gun makers and dealers can again be sued because someone used a legally purchased firearm to commit a crime. This is like allowing people to sue GM if, say, someone used a Chevy to harm someone else. 3) It is confusing to people to understand how our Bill of Rights protects our 2A rights yet various states can trample those rights. You wrote an article a couple of months ago titled “Barriers to Freedom” where you talk about this tension between federal and states’ rights. Can you speak to the premise of your article and specifically the ideas behind federal reciprocity legislation? 4) More and more often it seems the American People are looking to the Supreme Court to weigh out the major issues that have become so polluted by politics. The 2A is among those issues. We recently heard that SCOTUS passed by an opportunity to hear a case out of NY. That has some of the anti-gun groups feeling confident that by default that means they are winning. But, you have written about the possibility of a few other cases making their way to be ruled on by SCOTUS. What can you tell us about those cases? - The cases currently being considered for possible hearing by the court, on the other hand, concern laws that more broadly affect the gun-owning population. Cases like Wilson v. Cook County, Illinois and Worman v. Healey directly challenge bans on popular and commonly owned semi-automatic rifles and magazines—Heller specifically protects “commonly owned” firearms. Another case, Rogers v. Grewal, challenges laws preventing law-abiding citizens from carrying a firearm outside their home for self-defense. This takes on the “special need” requirement that places like New Jersey and California use to deny citizens their basic Second Amendment rights. And then there’s Pena v. Horan, which challenges California’s “Unsafe Handgun Act,” a law that implicates the Second Amendment by effectively banning commonly owned handguns.\",\n",
       " \"<p>Every day is Children's Day..narrated by Ms. Sudeshna, Principal, Pallavi Aware International School, Saroornagar Campus. For admissions visit <a href='https://anchor.fm/dashboard/episode/ee711m/metadata/www.pallaviinternationalschool.com' rel='ugc noopener noreferrer' target='_blank'>www.pallaviinternationalschool.com</a></p>\",\n",
       " \"<p>Start podcasting today: &nbsp;<a href='https://www.dothingsonline.com/'>Do Podcasts</a></p><p>What is HAPPENING people of the interwebs?!?! &nbsp;Welcome back to another episode of the Do Things podcast. &nbsp;This episode is from an interview that I did on my friend Mike Vanduzee's channel talking about why it's important to take advantage of this time and not sit around and wait during this pandemic. &nbsp;</p><p>Enjoy,</p><p>Todd</p>--- Send in a voice message: https://podcasters.spotify.com/pod/show/dobusiness/messageSupport this podcast: <a href='https://podcasters.spotify.com/pod/show/dobusiness/support' rel='payment'>https://podcasters.spotify.com/pod/show/dobusiness/support</a>\",\n",
       " 'Brought To You By SeoSamba . . . Comprehensive, High Performing Marketing Solutions For Mature And Emerging Franchise Brands . . . To Supercharge Your Franchise Marketing, Go To seosamba.com A 28-year veteran of the franchise world, Jonathan Thiessen started with Home Franchise Concepts in 2003 as a Franchise Licensing Advisor. Now as the Chief Development Officer, [...]',\n",
       " \"Just a quick word to those with whom I'll be embarking on this exiting new journey with. \",\n",
       " 'Internally each world may have other layers.Mastered at Reve-one Studio.',\n",
       " 'On Today’s Episode Of #TheFransenoPodcast. Franseno Along With His Co Host The World Renowned International Hater & Turtle Rotchi Speak On The Worldwide CoVid-19 Pandemic Also Known As CoronaVirus Sit Back Relax Press Play And Enjoy ',\n",
       " \"<p>On June 11, 1998, 38-year-old Jonathan Aujay traveled into the Devil’s Punchbowl Natural Area, northeast of downtown Los Angeles in the Antelope Valley, to go for a trial run. Many witnesses report seeing Jonathan that day, however, he never returned home.\\xa0\\xa0Join us this week as we investigate what happened to Deputy Jonathan Aujay and a possible conspiracy that points to his disappearance.\\xa0</p><p>\\xa0</p><p>The sponsor of this weeks episode is - Payoff.com.\\xa0 Payoff.com helps people get out from high interest debt by consolidating into a low APR personal loan.\\xa0\\xa0A Payoff Loan is a personal loan, backed by member-centric credit unions, designed to help you pay off your credit cards. With rates as low as 5.99% APR, and loan amounts up to $35,000--with no hidden fees-- And personal customer service support from Payoff to help you reach your financial goals.\\xa0 To learn more, visit\\xa0<a href='https://payoff.com/LocationsUnknown'>http://payoff.com/LocationsUnknown</a></p><p>\\xa0</p><p>This episodes shutout goes to Neal Brophy for supporting the show through Patreon.</p><p>Learn about other unsolved missing persons cases in America's wilderness at\\xa0<a href='https://locationsunknown.org/'>Locations Unknown</a>.</p><p>Follow us on\\xa0<a href='https://www.facebook.com/locationsunknown/'>Facebook</a>\\xa0&\\xa0<a href='https://www.instagram.com/locations_unknown_/'>Instagram</a>.</p><p>Become a Patron of the Locations Unknown Podcast by visiting our\\xa0<a href='https://www.patreon.com/locationsunknown'>Patreon</a>\\xa0page.</p>\\r\",\n",
       " '<p>CAROLINE AND JAMES DISCUSS THEIR MISADVENTURES ON FACEBOOK MARKETPLACE. &nbsp;</p>']"
      ]
     },
     "execution_count": 37,
     "metadata": {},
     "output_type": "execute_result"
    }
   ],
   "source": [
    "\n",
    "list(sample[\"epDescription\"])[:10]"
   ]
  },
  {
   "cell_type": "code",
   "execution_count": 30,
   "metadata": {},
   "outputs": [],
   "source": [
    "sample.to_json(\"/shared/3/projects/benlitterer/podcastData/annotation/1000sample.jsonl\", orient=\"records\", lines=True)"
   ]
  },
  {
   "cell_type": "code",
   "execution_count": null,
   "metadata": {},
   "outputs": [],
   "source": []
  }
 ],
 "metadata": {
  "kernelspec": {
   "display_name": "Python 3 (ipykernel)",
   "language": "python",
   "name": "python3"
  },
  "language_info": {
   "codemirror_mode": {
    "name": "ipython",
    "version": 3
   },
   "file_extension": ".py",
   "mimetype": "text/x-python",
   "name": "python",
   "nbconvert_exporter": "python",
   "pygments_lexer": "ipython3",
   "version": "3.11.5"
  }
 },
 "nbformat": 4,
 "nbformat_minor": 2
}
